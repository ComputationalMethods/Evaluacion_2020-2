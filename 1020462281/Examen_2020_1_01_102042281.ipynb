{
 "cells": [
  {
   "cell_type": "markdown",
   "metadata": {
    "id": "bWVchymOoRBb"
   },
   "source": [
    "# Primer Examen 15%"
   ]
  },
  {
   "cell_type": "markdown",
   "metadata": {
    "id": "cuGCz-DOoRBc"
   },
   "source": [
    "## Ejercicio 1\n",
    "El siguiente url entrega 100 artículos (ver`/work?rows=100` al final del url) de la revista con el ISSN: 1029-8479 correspondiente a \"Journal of High Energy Physics\" en formato JSON usando el API de CrossRef:\n",
    "\n",
    "https://api.crossref.org/journals/1029-8479/works?rows=100\n",
    "\n",
    "La base de datos con los 100 artículos que tambíen se puede cargar en otro DataFrame de Pandas, se encuentra anidada en la celda con fila `'items'` y columna `'messages'` la cual se puede obtener con el método `.loc['items','message']` del DataFrame original.\n",
    "\n",
    "Obtenga la lista de DOIs para los artículos de Alessandro Strumia en esa base de datos anidada"
   ]
  },
  {
   "cell_type": "markdown",
   "metadata": {
    "id": "E6U6cMUsoRBc"
   },
   "source": [
    "## Ejercicio 2\n",
    "2a) Genere un polinomio de numpy con 7 raices aleatorias entre 1 y 10\n",
    "\n",
    "2b) Encuentre los puntos críticos del polinomio: las raices de la derivada el polinomio.\n",
    "\n",
    "2c) Con alguna de los métodos para encontrar mínimos compruebe que el punto crítico de menor (mayor) valor corresponde al mínimo (máximo) global del polinomio\n",
    "\n",
    "2d) Grafique el polinomío inclueyendo los puntos asociados a las raices."
   ]
  },
  {
   "cell_type": "markdown",
   "metadata": {
    "id": "GTRw-NQcL9wQ"
   },
   "source": [
    "## Solución Ejercicio 1"
   ]
  },
  {
   "cell_type": "code",
   "execution_count": 52,
   "metadata": {
    "colab": {
     "base_uri": "https://localhost:8080/",
     "height": 34
    },
    "id": "ORkQfhhRa-gn",
    "outputId": "a49892e6-ea36-4fa2-d230-1d3c626b3a95"
   },
   "outputs": [
    {
     "name": "stdout",
     "output_type": "stream",
     "text": [
      "Populating the interactive namespace from numpy and matplotlib\n"
     ]
    }
   ],
   "source": [
    "%pylab inline"
   ]
  },
  {
   "cell_type": "code",
   "execution_count": 53,
   "metadata": {
    "id": "MZ2yaPSvMPNr"
   },
   "outputs": [],
   "source": [
    "import pandas as pd\n",
    "import random as rd\n",
    "import numpy as np\n",
    "import scipy.optimize as optimize\n",
    "import matplotlib.pyplot as plt\n",
    "\n"
   ]
  },
  {
   "cell_type": "code",
   "execution_count": 3,
   "metadata": {
    "colab": {
     "base_uri": "https://localhost:8080/",
     "height": 197
    },
    "id": "ScnNT41MK6PK",
    "outputId": "3d6eabd9-3449-4afe-a89d-333bf084fbec"
   },
   "outputs": [
    {
     "data": {
      "text/html": [
       "<div>\n",
       "<style scoped>\n",
       "    .dataframe tbody tr th:only-of-type {\n",
       "        vertical-align: middle;\n",
       "    }\n",
       "\n",
       "    .dataframe tbody tr th {\n",
       "        vertical-align: top;\n",
       "    }\n",
       "\n",
       "    .dataframe thead th {\n",
       "        text-align: right;\n",
       "    }\n",
       "</style>\n",
       "<table border=\"1\" class=\"dataframe\">\n",
       "  <thead>\n",
       "    <tr style=\"text-align: right;\">\n",
       "      <th></th>\n",
       "      <th>status</th>\n",
       "      <th>message-type</th>\n",
       "      <th>message-version</th>\n",
       "      <th>message</th>\n",
       "    </tr>\n",
       "  </thead>\n",
       "  <tbody>\n",
       "    <tr>\n",
       "      <th>facets</th>\n",
       "      <td>ok</td>\n",
       "      <td>work-list</td>\n",
       "      <td>1.0.0</td>\n",
       "      <td>{}</td>\n",
       "    </tr>\n",
       "    <tr>\n",
       "      <th>items</th>\n",
       "      <td>ok</td>\n",
       "      <td>work-list</td>\n",
       "      <td>1.0.0</td>\n",
       "      <td>[{'indexed': {'date-parts': [[2020, 3, 30]], '...</td>\n",
       "    </tr>\n",
       "    <tr>\n",
       "      <th>items-per-page</th>\n",
       "      <td>ok</td>\n",
       "      <td>work-list</td>\n",
       "      <td>1.0.0</td>\n",
       "      <td>100</td>\n",
       "    </tr>\n",
       "    <tr>\n",
       "      <th>query</th>\n",
       "      <td>ok</td>\n",
       "      <td>work-list</td>\n",
       "      <td>1.0.0</td>\n",
       "      <td>{'start-index': 0, 'search-terms': None}</td>\n",
       "    </tr>\n",
       "    <tr>\n",
       "      <th>total-results</th>\n",
       "      <td>ok</td>\n",
       "      <td>work-list</td>\n",
       "      <td>1.0.0</td>\n",
       "      <td>31567</td>\n",
       "    </tr>\n",
       "  </tbody>\n",
       "</table>\n",
       "</div>"
      ],
      "text/plain": [
       "               status message-type message-version  \\\n",
       "facets             ok    work-list           1.0.0   \n",
       "items              ok    work-list           1.0.0   \n",
       "items-per-page     ok    work-list           1.0.0   \n",
       "query              ok    work-list           1.0.0   \n",
       "total-results      ok    work-list           1.0.0   \n",
       "\n",
       "                                                          message  \n",
       "facets                                                         {}  \n",
       "items           [{'indexed': {'date-parts': [[2020, 3, 30]], '...  \n",
       "items-per-page                                                100  \n",
       "query                    {'start-index': 0, 'search-terms': None}  \n",
       "total-results                                               31567  "
      ]
     },
     "execution_count": 3,
     "metadata": {},
     "output_type": "execute_result"
    }
   ],
   "source": [
    "df=pd.read_json('https://api.crossref.org/journals/1029-8479/works?rows=100')\n",
    "df"
   ]
  },
  {
   "cell_type": "code",
   "execution_count": 69,
   "metadata": {
    "colab": {
     "base_uri": "https://localhost:8080/",
     "height": 203
    },
    "id": "QoZ03gwlMHPt",
    "outputId": "fed1a714-90fe-4556-ac45-721ecdbf150b"
   },
   "outputs": [
    {
     "data": {
      "text/html": [
       "<div>\n",
       "<style scoped>\n",
       "    .dataframe tbody tr th:only-of-type {\n",
       "        vertical-align: middle;\n",
       "    }\n",
       "\n",
       "    .dataframe tbody tr th {\n",
       "        vertical-align: top;\n",
       "    }\n",
       "\n",
       "    .dataframe thead th {\n",
       "        text-align: right;\n",
       "    }\n",
       "</style>\n",
       "<table border=\"1\" class=\"dataframe\">\n",
       "  <thead>\n",
       "    <tr style=\"text-align: right;\">\n",
       "      <th></th>\n",
       "      <th>author</th>\n",
       "    </tr>\n",
       "  </thead>\n",
       "  <tbody>\n",
       "    <tr>\n",
       "      <th>0</th>\n",
       "      <td>[{'given': 'Juan José', 'family': 'Manjarín', ...</td>\n",
       "    </tr>\n",
       "    <tr>\n",
       "      <th>1</th>\n",
       "      <td>[{'given': 'Hiroshige', 'family': 'Kajiura', '...</td>\n",
       "    </tr>\n",
       "    <tr>\n",
       "      <th>2</th>\n",
       "      <td>[{'given': 'Riccardo', 'family': 'Barbieri', '...</td>\n",
       "    </tr>\n",
       "    <tr>\n",
       "      <th>3</th>\n",
       "      <td>[{'given': 'Yingcheng', 'family': 'Li', 'seque...</td>\n",
       "    </tr>\n",
       "    <tr>\n",
       "      <th>4</th>\n",
       "      <td>[{'given': 'Sergei', 'family': 'Gukov', 'seque...</td>\n",
       "    </tr>\n",
       "    <tr>\n",
       "      <th>...</th>\n",
       "      <td>...</td>\n",
       "    </tr>\n",
       "    <tr>\n",
       "      <th>95</th>\n",
       "      <td>[{'given': 'Enrique', 'family': 'Moreno', 'seq...</td>\n",
       "    </tr>\n",
       "    <tr>\n",
       "      <th>96</th>\n",
       "      <td>[{'given': 'Ian', 'family': 'I.Kogan', 'sequen...</td>\n",
       "    </tr>\n",
       "    <tr>\n",
       "      <th>97</th>\n",
       "      <td>[{'given': 'Gleb', 'family': 'Arutyunov', 'seq...</td>\n",
       "    </tr>\n",
       "    <tr>\n",
       "      <th>98</th>\n",
       "      <td>[{'given': 'David Elazzar', 'family': 'Kaplan'...</td>\n",
       "    </tr>\n",
       "    <tr>\n",
       "      <th>99</th>\n",
       "      <td>[{'given': 'Irina', 'family': 'Mocioiu', 'sequ...</td>\n",
       "    </tr>\n",
       "  </tbody>\n",
       "</table>\n",
       "<p>100 rows × 1 columns</p>\n",
       "</div>"
      ],
      "text/plain": [
       "                                               author\n",
       "0   [{'given': 'Juan José', 'family': 'Manjarín', ...\n",
       "1   [{'given': 'Hiroshige', 'family': 'Kajiura', '...\n",
       "2   [{'given': 'Riccardo', 'family': 'Barbieri', '...\n",
       "3   [{'given': 'Yingcheng', 'family': 'Li', 'seque...\n",
       "4   [{'given': 'Sergei', 'family': 'Gukov', 'seque...\n",
       "..                                                ...\n",
       "95  [{'given': 'Enrique', 'family': 'Moreno', 'seq...\n",
       "96  [{'given': 'Ian', 'family': 'I.Kogan', 'sequen...\n",
       "97  [{'given': 'Gleb', 'family': 'Arutyunov', 'seq...\n",
       "98  [{'given': 'David Elazzar', 'family': 'Kaplan'...\n",
       "99  [{'given': 'Irina', 'family': 'Mocioiu', 'sequ...\n",
       "\n",
       "[100 rows x 1 columns]"
      ]
     },
     "execution_count": 69,
     "metadata": {},
     "output_type": "execute_result"
    }
   ],
   "source": [
    "dff = pd.DataFrame(df.loc['items','message']) \n",
    "dff2= pd.DataFrame(dff['author'])\n",
    "dff2\n"
   ]
  },
  {
   "cell_type": "markdown",
   "metadata": {
    "id": "fuTl14MbXTQ2"
   },
   "source": [
    "## Solución Ejercicio 2"
   ]
  },
  {
   "cell_type": "code",
   "execution_count": 55,
   "metadata": {
    "colab": {
     "base_uri": "https://localhost:8080/",
     "height": 52
    },
    "id": "8zsF_uMQScqV",
    "outputId": "010e9ff0-f104-4b1e-cd00-3d7b0d929db2"
   },
   "outputs": [
    {
     "name": "stdout",
     "output_type": "stream",
     "text": [
      "   7      6       5        4             3             2\n",
      "1 x - 41 x + 699 x - 6391 x + 3.352e+04 x - 9.907e+04 x + 1.469e+05 x - 7.56e+04\n"
     ]
    }
   ],
   "source": [
    "#2-a Creación del polinomio.\n",
    "\n",
    "pol= np.poly1d([rd.randint(1,10),rd.randint(1,10),rd.randint(1,10),rd.randint(1,10),rd.randint(1,10),rd.randint(1,10),rd.randint(1,10)],r=True)\n",
    "\n",
    "print (pol)"
   ]
  },
  {
   "cell_type": "code",
   "execution_count": 56,
   "metadata": {
    "colab": {
     "base_uri": "https://localhost:8080/",
     "height": 34
    },
    "id": "kPxBxaRpVkck",
    "outputId": "144b1c39-eb64-4158-c650-d0cd1825a1cd"
   },
   "outputs": [
    {
     "name": "stdout",
     "output_type": "stream",
     "text": [
      "[9.39343334 6.7690534  6.         6.         5.22649167 1.75387874]\n"
     ]
    }
   ],
   "source": [
    "#2-b: Raíces del polinomio.\n",
    "\n",
    "der = pol.deriv()\n",
    "raices=der.roots.real #Se toma las partes reales ya que estas raíces tienen ceros computacionales como parte imaginaria\n",
    "\n",
    "print(raices)"
   ]
  },
  {
   "cell_type": "code",
   "execution_count": 57,
   "metadata": {
    "colab": {
     "base_uri": "https://localhost:8080/",
     "height": 34
    },
    "id": "geLvbpAbZLZT",
    "outputId": "25306cc1-7f63-4233-9a31-d7d3a1522e35"
   },
   "outputs": [
    {
     "name": "stdout",
     "output_type": "stream",
     "text": [
      "El punto crítico relacionado con el mínimo global [9.393433336728926] corresponde al valor de la minimización [9.39343335]\n",
      "El punto crítico relacionado con el máximo global [1.753878736145277] corresponde al valor de la minimización [1.75387877]\n"
     ]
    }
   ],
   "source": [
    "#2-c. Verificacióon máximos y mínimos globales.\n",
    "\n",
    "dic={} #diccionario vacío para ingresar los datos de los valores asociados a las raíces\n",
    "\n",
    "for i in range(len(raices)):\n",
    "    dic[pol(raices[i])] = [raices[i]]\n",
    "\n",
    "l=np.sort(pol(raices)) #Ordena los valores asociados a las raíces de menor a mayor para usar el método optimize en ese punto y verificar\n",
    "\n",
    "min= optimize.fmin_powell(pol, dic.get(l[0]), disp=False) #Búsqueda del mínimo y máximo al rededor del punto encontrado.\n",
    "max= optimize.fmin_powell(-pol, dic.get(l[-1]), disp=False)\n",
    "\n",
    "print('El punto crítico relacionado con el mínimo global {} corresponde al valor de la minimización {}' .format(dic.get(l[0]),min))\n",
    "print('El punto crítico relacionado con el máximo global {} corresponde al valor de la minimización {}' .format(dic.get(l[-1]),max))"
   ]
  },
  {
   "cell_type": "code",
   "execution_count": 59,
   "metadata": {
    "colab": {
     "base_uri": "https://localhost:8080/",
     "height": 268
    },
    "id": "BtmNLVLflV6s",
    "outputId": "97aa611f-62b1-4b4f-c4da-ebca1fb2b27b"
   },
   "outputs": [
    {
     "data": {
      "image/png": "[encoded data removed]",
      "text/plain": [
       "<Figure size 432x288 with 1 Axes>"
      ]
     },
     "metadata": {
      "needs_background": "light"
     },
     "output_type": "display_data"
    }
   ],
   "source": [
    "#2-d: Graficación.\n",
    "\n",
    "x = np.linspace(0,11,100)\n",
    "\n",
    "\n",
    "plt.plot(raices,pol(raices),'ro')\n",
    "plt.plot(x,pol(x),'b-')\n",
    "plt.ylim(l[0]-300,l[-1]+300)\n",
    "plt.grid()\n",
    "plt.show()"
   ]
  },
  {
   "cell_type": "code",
   "execution_count": null,
   "metadata": {},
   "outputs": [],
   "source": []
  }
 ],
 "metadata": {
  "colab": {
   "name": "Examen_2020_1_01_enunciado.ipynb",
   "provenance": []
  },
  "kernelspec": {
   "display_name": "Python 3",
   "language": "python",
   "name": "python3"
  },
  "language_info": {
   "codemirror_mode": {
    "name": "ipython",
    "version": 3
   },
   "file_extension": ".py",
   "mimetype": "text/x-python",
   "name": "python",
   "nbconvert_exporter": "python",
   "pygments_lexer": "ipython3",
   "version": "3.8.3"
  },
  "toc": {
   "colors": {
    "hover_highlight": "#DAA520",
    "running_highlight": "#FF0000",
    "selected_highlight": "#FFD700"
   },
   "moveMenuLeft": true,
   "nav_menu": {
    "height": "30px",
    "width": "252px"
   },
   "navigate_menu": true,
   "number_sections": true,
   "sideBar": true,
   "threshold": 4,
   "toc_cell": false,
   "toc_section_display": "block",
   "toc_window_display": false
  }
 },
 "nbformat": 4,
 "nbformat_minor": 1
}
