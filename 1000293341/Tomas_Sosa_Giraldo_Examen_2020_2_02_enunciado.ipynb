{
  "nbformat": 4,
  "nbformat_minor": 0,
  "metadata": {
    "colab": {
      "name": "Tomas Sosa Giraldo - Examen_2020_2_02_enunciado.ipynb",
      "provenance": []
    },
    "kernelspec": {
      "display_name": "Python 3",
      "language": "python",
      "name": "python3"
    },
    "language_info": {
      "codemirror_mode": {
        "name": "ipython",
        "version": 3
      },
      "file_extension": ".py",
      "mimetype": "text/x-python",
      "name": "python",
      "nbconvert_exporter": "python",
      "pygments_lexer": "ipython3",
      "version": "3.7.3"
    }
  },
  "cells": [
    {
      "cell_type": "markdown",
      "metadata": {
        "id": "CN-nz6iCZVao"
      },
      "source": [
        "I) The period of a pendulum of length l oscillating at a large angle $\\alpha$ is given by\n",
        "$$\n",
        "T=T_{0} \\frac{\\sqrt{2}}{\\pi} \\int_{0}^{\\alpha} \\frac{d \\theta}{(\\cos \\theta-\\cos \\alpha) \\frac{1}{2}}\n",
        "$$\n",
        "where\n",
        "$$\n",
        "T_{0}=2 \\pi \\sqrt{\\frac{l}{g}}\n",
        "$$\n",
        "is the period of the same pendulum at small amplitudes. Any numerical evaluation of the integral as is would fail (explain why). If we change the variable by writing:\n",
        "$$\n",
        "\\sin \\frac{\\theta}{2}=\\sin \\frac{\\alpha}{2} \\sin \\phi\n",
        "$$\n",
        "we can get:\n",
        "$$\n",
        "T=\\frac{2 T_{0}}{\\pi} \\int_{0}^{\\frac{\\pi}{2}} \\frac{d \\phi}{\\left(1-\\sin ^{2} \\frac{\\alpha}{2} \\sin ^{2} \\phi\\right)^{\\frac{1}{2}}}\n",
        "$$\n",
        "which is a well-behaved integral. Write a program to use the above integral to calculate the ratio $T/T_0$ for integral amplitudes $0^\\circ \\le\\alpha \\le 90^\\circ$. Output these values as a pandas dataframe showing the amplitude in degrees and radians as well as $T/T_0$, and make a plot with the two columns. Explain the result when $\\alpha = 0.$ "
      ]
    },
    {
      "cell_type": "markdown",
      "metadata": {
        "id": "vZ4q8KdxkvJu"
      },
      "source": [
        "Solución"
      ]
    },
    {
      "cell_type": "code",
      "metadata": {
        "id": "TrWDDQ-XnXaO"
      },
      "source": [
        "# Importo la librerias necesarias\n",
        "from scipy import integrate\n",
        "import numpy as np\n",
        "import pandas as pd\n",
        "import matplotlib,pylab as plt"
      ],
      "execution_count": 95,
      "outputs": []
    },
    {
      "cell_type": "code",
      "metadata": {
        "id": "NqEI7mTBkxK0"
      },
      "source": [
        "# Defino T y T0\n",
        "def T0(l,g=9.80665):\n",
        "    return 2*np.pi*np.sqrt(l/g)\n",
        "def T(θ,l,g=9.80665):\n",
        "    k=np.sin(θ/2)\n",
        "    return (2*T0(l,g)/np.pi)*integrate.quad(lambda u:(1)/(np.sqrt(1-k**2*np.sin(u)**2)),0,np.pi/2)[0]\n",
        "Tv=np.vectorize(T) # vectorizo la función T para usar un conjunto de valores de θ"
      ],
      "execution_count": 70,
      "outputs": []
    },
    {
      "cell_type": "code",
      "metadata": {
        "id": "CbO7DXpSmUh6"
      },
      "source": [
        "θ = np.linspace(0,np.pi/2,100) # defino el conjunto de valores de θ\n",
        "θ = np.asarray(θ) # vuelvo un array de numpy el conjunto\n",
        "l=1 # para este problema, sin pérdida de generalidad vamos a tomar l=1 "
      ],
      "execution_count": 71,
      "outputs": []
    },
    {
      "cell_type": "code",
      "metadata": {
        "id": "fa1ce-4jmyQi",
        "outputId": "3875f600-a390-403d-9c7f-c4f4f68c48d5",
        "colab": {
          "base_uri": "https://localhost:8080/"
        }
      },
      "source": [
        "T0_list = np.ones(θ.shape[0])*T0(l) # defino una lista con la misma longitud del número de valores del conjunto θ\n",
        "T0_list"
      ],
      "execution_count": 98,
      "outputs": [
        {
          "output_type": "execute_result",
          "data": {
            "text/plain": [
              "array([2.00640929, 2.00640929, 2.00640929, 2.00640929, 2.00640929,\n",
              "       2.00640929, 2.00640929, 2.00640929, 2.00640929, 2.00640929,\n",
              "       2.00640929, 2.00640929, 2.00640929, 2.00640929, 2.00640929,\n",
              "       2.00640929, 2.00640929, 2.00640929, 2.00640929, 2.00640929,\n",
              "       2.00640929, 2.00640929, 2.00640929, 2.00640929, 2.00640929,\n",
              "       2.00640929, 2.00640929, 2.00640929, 2.00640929, 2.00640929,\n",
              "       2.00640929, 2.00640929, 2.00640929, 2.00640929, 2.00640929,\n",
              "       2.00640929, 2.00640929, 2.00640929, 2.00640929, 2.00640929,\n",
              "       2.00640929, 2.00640929, 2.00640929, 2.00640929, 2.00640929,\n",
              "       2.00640929, 2.00640929, 2.00640929, 2.00640929, 2.00640929,\n",
              "       2.00640929, 2.00640929, 2.00640929, 2.00640929, 2.00640929,\n",
              "       2.00640929, 2.00640929, 2.00640929, 2.00640929, 2.00640929,\n",
              "       2.00640929, 2.00640929, 2.00640929, 2.00640929, 2.00640929,\n",
              "       2.00640929, 2.00640929, 2.00640929, 2.00640929, 2.00640929,\n",
              "       2.00640929, 2.00640929, 2.00640929, 2.00640929, 2.00640929,\n",
              "       2.00640929, 2.00640929, 2.00640929, 2.00640929, 2.00640929,\n",
              "       2.00640929, 2.00640929, 2.00640929, 2.00640929, 2.00640929,\n",
              "       2.00640929, 2.00640929, 2.00640929, 2.00640929, 2.00640929,\n",
              "       2.00640929, 2.00640929, 2.00640929, 2.00640929, 2.00640929,\n",
              "       2.00640929, 2.00640929, 2.00640929, 2.00640929, 2.00640929])"
            ]
          },
          "metadata": {
            "tags": []
          },
          "execution_count": 98
        }
      ]
    },
    {
      "cell_type": "code",
      "metadata": {
        "id": "OMZ_vE_-zp0K",
        "outputId": "432c54ea-111f-4192-a518-fde99a38c894",
        "colab": {
          "base_uri": "https://localhost:8080/"
        }
      },
      "source": [
        "Tv(θ,l) # ejecutamos la función vectorizada de T con los elementos del conjunto θ"
      ],
      "execution_count": 99,
      "outputs": [
        {
          "output_type": "execute_result",
          "data": {
            "text/plain": [
              "array([2.00640929, 2.00644086, 2.00653558, 2.00669346, 2.00691452,\n",
              "       2.00719882, 2.00754639, 2.0079573 , 2.00843161, 2.00896942,\n",
              "       2.00957081, 2.01023589, 2.01096478, 2.01175759, 2.01261448,\n",
              "       2.01353559, 2.01452107, 2.01557112, 2.0166859 , 2.01786561,\n",
              "       2.01911047, 2.02042068, 2.0217965 , 2.02323815, 2.0247459 ,\n",
              "       2.02632001, 2.02796076, 2.02966846, 2.0314434 , 2.0332859 ,\n",
              "       2.03519631, 2.03717497, 2.03922223, 2.04133847, 2.04352407,\n",
              "       2.04577945, 2.04810502, 2.05050121, 2.05296845, 2.05550723,\n",
              "       2.058118  , 2.06080127, 2.06355754, 2.06638734, 2.0692912 ,\n",
              "       2.07226969, 2.07532337, 2.07845285, 2.08165873, 2.08494164,\n",
              "       2.08830222, 2.09174115, 2.0952591 , 2.09885679, 2.10253494,\n",
              "       2.10629429, 2.11013561, 2.11405969, 2.11806735, 2.12215941,\n",
              "       2.12633674, 2.13060021, 2.13495073, 2.13938924, 2.14391668,\n",
              "       2.14853405, 2.15324235, 2.15804262, 2.16293594, 2.16792338,\n",
              "       2.17300609, 2.17818522, 2.18346195, 2.18883752, 2.19431318,\n",
              "       2.19989022, 2.20556997, 2.21135379, 2.21724308, 2.2232393 ,\n",
              "       2.22934391, 2.23555845, 2.24188448, 2.24832362, 2.25487752,\n",
              "       2.2615479 , 2.26833649, 2.27524512, 2.28227564, 2.28942997,\n",
              "       2.29671006, 2.30411796, 2.31165575, 2.31932558, 2.32712966,\n",
              "       2.33507028, 2.3431498 , 2.35137064, 2.35973529, 2.36824635])"
            ]
          },
          "metadata": {
            "tags": []
          },
          "execution_count": 99
        }
      ]
    },
    {
      "cell_type": "code",
      "metadata": {
        "id": "UkLRfWCx2Z0q",
        "outputId": "895e9560-94a9-40e7-9d0c-60d6f38b778f",
        "colab": {
          "base_uri": "https://localhost:8080/"
        }
      },
      "source": [
        "Tv(θ,l)/T0_list"
      ],
      "execution_count": 100,
      "outputs": [
        {
          "output_type": "execute_result",
          "data": {
            "text/plain": [
              "array([1.        , 1.00001573, 1.00006294, 1.00014163, 1.00025181,\n",
              "       1.0003935 , 1.00056673, 1.00077153, 1.00100793, 1.00127597,\n",
              "       1.00157571, 1.00190719, 1.00227047, 1.00266561, 1.00309268,\n",
              "       1.00355177, 1.00404293, 1.00456628, 1.00512189, 1.00570986,\n",
              "       1.0063303 , 1.00698332, 1.00766903, 1.00838755, 1.00913901,\n",
              "       1.00992355, 1.01074131, 1.01159243, 1.01247707, 1.01339538,\n",
              "       1.01434753, 1.0153337 , 1.01635406, 1.0174088 , 1.01849811,\n",
              "       1.0196222 , 1.02078127, 1.02197553, 1.02320522, 1.02447055,\n",
              "       1.02577177, 1.02710911, 1.02848285, 1.02989323, 1.03134052,\n",
              "       1.03282501, 1.03434697, 1.03590671, 1.03750453, 1.03914074,\n",
              "       1.04081567, 1.04252964, 1.04428299, 1.04607609, 1.04790929,\n",
              "       1.04978296, 1.05169749, 1.05365326, 1.05565069, 1.05769018,\n",
              "       1.05977217, 1.0618971 , 1.06406541, 1.06627758, 1.06853407,\n",
              "       1.07083538, 1.07318201, 1.07557448, 1.07801332, 1.08049907,\n",
              "       1.08303231, 1.0856136 , 1.08824354, 1.09092274, 1.09365182,\n",
              "       1.09643144, 1.09926224, 1.10214491, 1.10508015, 1.10806868,\n",
              "       1.11111124, 1.11420858, 1.11736149, 1.12057078, 1.12383726,\n",
              "       1.12716179, 1.13054525, 1.13398853, 1.13749256, 1.14105829,\n",
              "       1.14468672, 1.14837883, 1.15213569, 1.15595835, 1.15984793,\n",
              "       1.16380556, 1.16783241, 1.1719297 , 1.17609867, 1.1803406 ])"
            ]
          },
          "metadata": {
            "tags": []
          },
          "execution_count": 100
        }
      ]
    },
    {
      "cell_type": "code",
      "metadata": {
        "id": "dLUOJXKO3Lzb",
        "outputId": "d3095856-e219-4bab-8639-6ee4960e1dfc",
        "colab": {
          "base_uri": "https://localhost:8080/",
          "height": 419
        }
      },
      "source": [
        "df = pd.DataFrame({\"θ\": θ, \"θ(grados)\": θ*180/np.pi, \"Ratio\": Tv(θ,l)/T0_list})  # definimos el dataframe, nótese que Ratio = T/T0\n",
        "df"
      ],
      "execution_count": 110,
      "outputs": [
        {
          "output_type": "execute_result",
          "data": {
            "text/html": [
              "<div>\n",
              "<style scoped>\n",
              "    .dataframe tbody tr th:only-of-type {\n",
              "        vertical-align: middle;\n",
              "    }\n",
              "\n",
              "    .dataframe tbody tr th {\n",
              "        vertical-align: top;\n",
              "    }\n",
              "\n",
              "    .dataframe thead th {\n",
              "        text-align: right;\n",
              "    }\n",
              "</style>\n",
              "<table border=\"1\" class=\"dataframe\">\n",
              "  <thead>\n",
              "    <tr style=\"text-align: right;\">\n",
              "      <th></th>\n",
              "      <th>θ</th>\n",
              "      <th>θ(grados)</th>\n",
              "      <th>Ratio</th>\n",
              "    </tr>\n",
              "  </thead>\n",
              "  <tbody>\n",
              "    <tr>\n",
              "      <th>0</th>\n",
              "      <td>0.000000</td>\n",
              "      <td>0.000000</td>\n",
              "      <td>1.000000</td>\n",
              "    </tr>\n",
              "    <tr>\n",
              "      <th>1</th>\n",
              "      <td>0.015867</td>\n",
              "      <td>0.909091</td>\n",
              "      <td>1.000016</td>\n",
              "    </tr>\n",
              "    <tr>\n",
              "      <th>2</th>\n",
              "      <td>0.031733</td>\n",
              "      <td>1.818182</td>\n",
              "      <td>1.000063</td>\n",
              "    </tr>\n",
              "    <tr>\n",
              "      <th>3</th>\n",
              "      <td>0.047600</td>\n",
              "      <td>2.727273</td>\n",
              "      <td>1.000142</td>\n",
              "    </tr>\n",
              "    <tr>\n",
              "      <th>4</th>\n",
              "      <td>0.063467</td>\n",
              "      <td>3.636364</td>\n",
              "      <td>1.000252</td>\n",
              "    </tr>\n",
              "    <tr>\n",
              "      <th>...</th>\n",
              "      <td>...</td>\n",
              "      <td>...</td>\n",
              "      <td>...</td>\n",
              "    </tr>\n",
              "    <tr>\n",
              "      <th>95</th>\n",
              "      <td>1.507330</td>\n",
              "      <td>86.363636</td>\n",
              "      <td>1.163806</td>\n",
              "    </tr>\n",
              "    <tr>\n",
              "      <th>96</th>\n",
              "      <td>1.523196</td>\n",
              "      <td>87.272727</td>\n",
              "      <td>1.167832</td>\n",
              "    </tr>\n",
              "    <tr>\n",
              "      <th>97</th>\n",
              "      <td>1.539063</td>\n",
              "      <td>88.181818</td>\n",
              "      <td>1.171930</td>\n",
              "    </tr>\n",
              "    <tr>\n",
              "      <th>98</th>\n",
              "      <td>1.554930</td>\n",
              "      <td>89.090909</td>\n",
              "      <td>1.176099</td>\n",
              "    </tr>\n",
              "    <tr>\n",
              "      <th>99</th>\n",
              "      <td>1.570796</td>\n",
              "      <td>90.000000</td>\n",
              "      <td>1.180341</td>\n",
              "    </tr>\n",
              "  </tbody>\n",
              "</table>\n",
              "<p>100 rows × 3 columns</p>\n",
              "</div>"
            ],
            "text/plain": [
              "           θ  θ(grados)     Ratio\n",
              "0   0.000000   0.000000  1.000000\n",
              "1   0.015867   0.909091  1.000016\n",
              "2   0.031733   1.818182  1.000063\n",
              "3   0.047600   2.727273  1.000142\n",
              "4   0.063467   3.636364  1.000252\n",
              "..       ...        ...       ...\n",
              "95  1.507330  86.363636  1.163806\n",
              "96  1.523196  87.272727  1.167832\n",
              "97  1.539063  88.181818  1.171930\n",
              "98  1.554930  89.090909  1.176099\n",
              "99  1.570796  90.000000  1.180341\n",
              "\n",
              "[100 rows x 3 columns]"
            ]
          },
          "metadata": {
            "tags": []
          },
          "execution_count": 110
        }
      ]
    },
    {
      "cell_type": "code",
      "metadata": {
        "id": "rUnqMo8a8fbi",
        "outputId": "7a434134-0c66-435c-fc4a-1764401945a4",
        "colab": {
          "base_uri": "https://localhost:8080/",
          "height": 284
        }
      },
      "source": [
        "# Mostramos el gráfico de T/T0 vs θ (en radianes)\n",
        "plt.plot( df.θ, df.Ratio )\n",
        "plt.xlabel('θ (rad)' ,size=15)\n",
        "plt.ylabel(r'Ratio ($T/T0$)' ,size=15)\n",
        "plt.show()"
      ],
      "execution_count": 114,
      "outputs": [
        {
          "output_type": "display_data",
          "data": {
            "image/png": "[encoded data removed]",
            "text/plain": [
              "<Figure size 432x288 with 1 Axes>"
            ]
          },
          "metadata": {
            "tags": [],
            "needs_background": "light"
          }
        }
      ]
    },
    {
      "cell_type": "markdown",
      "metadata": {
        "id": "Bc1wXQwxZVap"
      },
      "source": [
        "II)\n",
        "### Casas-Ibarra parameterization\n",
        "Consider a $n\\times n$ symmetric matrix $A$. We can assumme without lost of generality that this can be generated from a matrix $Y$ such that\n",
        "$$\n",
        "A=Y^{\\operatorname{T}}Y\n",
        "$$\n",
        "Theorem 1 gurantees that exists an ortogonal matrix $U$ such that\n",
        "$$\n",
        "U^{\\operatorname{T}} A U=U^{\\operatorname{T}} Y^{\\operatorname{T}}Y U=D_\\lambda\n",
        "$$\n",
        "where\n",
        "$$\n",
        "D_{\\lambda}=A_{\\text{diag}}=\\operatorname{diag}\\left(\\lambda_1,\\lambda_2,\\ldots,\\lambda_n\\right)\n",
        "$$\n",
        "where $\\lambda_i$ are the eigenvalues of $A$. Therefore\n",
        "\\begin{align}\n",
        " Y^{\\operatorname{T}}Y =&U D_\\lambda U^{\\operatorname{T}}\\\\\n",
        " =&U D_{\\sqrt{\\lambda}} D_{\\sqrt{\\lambda}} U^{\\operatorname{T}}\\\\\n",
        "\\end{align}\n",
        "where\n",
        "$$\n",
        "D_{\\sqrt{\\lambda}}=\\operatorname{diag}\\left(\\sqrt{\\lambda_1},\\sqrt{\\lambda_2},\\ldots \\sqrt{\\lambda_n}\\right)\n",
        "$$\n",
        "Therefore, exists an ortogonal arbitrary matrix $R$, such that\n",
        "$$\n",
        " Y^{\\operatorname{T}}Y =U D_{\\sqrt{\\lambda}}R^{\\operatorname{T}}R D_{\\sqrt{\\lambda}} U^{\\operatorname{T}}\\\\\n",
        "$$\n",
        "\n",
        "In this way, the matrix $Y$ can be parameterized in terms of $R$ as\n",
        "$$\n",
        "Y=R D_{\\sqrt{\\lambda}} U^{\\operatorname{T}}\n",
        "$$\n",
        "\n",
        "\n",
        "1) By using the previous equations, build a matrix $Y$ $2\\times 2$ with the following conditions\n",
        "* $R$ is an orthogonal matrix with a mixing angle as a random number between $(0,2\\pi)$. Use your identification number as the seed of the random number generator.\n",
        "* The eigenvalues are $\\lambda_1=2$ and $\\lambda_2=4$. \n",
        "* $U$ is a diagonalization matrix with mixing angle $\\pi/4$\n",
        "2) Build the matrix $A$ and check that has the proper eigenvalues and eigenvectors"
      ]
    },
    {
      "cell_type": "markdown",
      "metadata": {
        "id": "nBzld5jNdF0O"
      },
      "source": [
        "Solución"
      ]
    },
    {
      "cell_type": "markdown",
      "metadata": {
        "id": "6jFK9pfJo3kP"
      },
      "source": [
        "1)"
      ]
    },
    {
      "cell_type": "code",
      "metadata": {
        "id": "5LXl9qQgdnTc"
      },
      "source": [
        "# Importamos la libraria que necesitamos\n",
        "import numpy as np"
      ],
      "execution_count": 3,
      "outputs": []
    },
    {
      "cell_type": "code",
      "metadata": {
        "id": "OZM7jv7fdZoG"
      },
      "source": [
        "# Definimos los autovalores del problema\n",
        "λ1 = 2\n",
        "λ2 = 4"
      ],
      "execution_count": 4,
      "outputs": []
    },
    {
      "cell_type": "code",
      "metadata": {
        "id": "22X2ovWSgxX0"
      },
      "source": [
        "# Definimos la matriz de diagonalización para ángulos de mezcla\n",
        "def orthogonal(θ):\n",
        "    return np.array( [[np.cos(θ) ,np.sin(θ)],\n",
        "                      [-np.sin(θ),np.cos(θ)]]   )"
      ],
      "execution_count": 7,
      "outputs": []
    },
    {
      "cell_type": "code",
      "metadata": {
        "id": "yShPtjpXg-Ii",
        "outputId": "487079c5-29dd-4aeb-f578-54792ebe5e4f",
        "colab": {
          "base_uri": "https://localhost:8080/"
        }
      },
      "source": [
        "np.random.seed(1000293341) # usamos mi número de identificación como semilla\n",
        "R = np.random.random( (2,2) ) # definimos R\n",
        "R"
      ],
      "execution_count": 130,
      "outputs": [
        {
          "output_type": "execute_result",
          "data": {
            "text/plain": [
              "array([[0.60388572, 0.55867789],\n",
              "       [0.5802585 , 0.04321585]])"
            ]
          },
          "metadata": {
            "tags": []
          },
          "execution_count": 130
        }
      ]
    },
    {
      "cell_type": "code",
      "metadata": {
        "id": "ueT_Gl6HZVaq",
        "outputId": "0eb0e051-d7d1-4cfd-9c9e-d1efa654de3a",
        "colab": {
          "base_uri": "https://localhost:8080/"
        }
      },
      "source": [
        "D2 = np.diag([np.sqrt(2),np.sqrt(4)]) # definimos a D2 como la matriz cuya diagonal es representada por la raíz cuadrada de los autovalores\n",
        "D2"
      ],
      "execution_count": 88,
      "outputs": [
        {
          "output_type": "execute_result",
          "data": {
            "text/plain": [
              "array([[1.41421356, 0.        ],\n",
              "       [0.        , 2.        ]])"
            ]
          },
          "metadata": {
            "tags": []
          },
          "execution_count": 88
        }
      ]
    },
    {
      "cell_type": "code",
      "metadata": {
        "id": "9YKlHlpKgyi6",
        "outputId": "f291dbd5-a041-4865-8f06-81690fdd79bb",
        "colab": {
          "base_uri": "https://localhost:8080/"
        }
      },
      "source": [
        "U = orthogonal(np.pi/4) # definimos la matriz de diagonalización U\n",
        "U"
      ],
      "execution_count": 89,
      "outputs": [
        {
          "output_type": "execute_result",
          "data": {
            "text/plain": [
              "array([[ 0.70710678,  0.70710678],\n",
              "       [-0.70710678,  0.70710678]])"
            ]
          },
          "metadata": {
            "tags": []
          },
          "execution_count": 89
        }
      ]
    },
    {
      "cell_type": "code",
      "metadata": {
        "id": "2aOWw_RIpCSe",
        "outputId": "4075ca58-530d-449c-9076-6b1f951db0a6",
        "colab": {
          "base_uri": "https://localhost:8080/"
        }
      },
      "source": [
        "Y = np.dot(  np.dot( R, D2 ), U.transpose() ) # mostramos la matriz Y\n",
        "Y"
      ],
      "execution_count": 125,
      "outputs": [
        {
          "output_type": "execute_result",
          "data": {
            "text/plain": [
              "array([[ 1.39397557,  0.18620413],\n",
              "       [ 0.64137495, -0.51914206]])"
            ]
          },
          "metadata": {
            "tags": []
          },
          "execution_count": 125
        }
      ]
    },
    {
      "cell_type": "code",
      "metadata": {
        "id": "bNZBexIYp5Ay",
        "outputId": "5cc9bee2-23cb-48da-b00f-9f3f57b411ed",
        "colab": {
          "base_uri": "https://localhost:8080/"
        }
      },
      "source": [
        "Y.transpose()"
      ],
      "execution_count": 129,
      "outputs": [
        {
          "output_type": "execute_result",
          "data": {
            "text/plain": [
              "array([[ 1.39397557,  0.64137495],\n",
              "       [ 0.18620413, -0.51914206]])"
            ]
          },
          "metadata": {
            "tags": []
          },
          "execution_count": 129
        }
      ]
    },
    {
      "cell_type": "markdown",
      "metadata": {
        "id": "WiVKdcFdpCvp"
      },
      "source": [
        "2)"
      ]
    },
    {
      "cell_type": "markdown",
      "metadata": {
        "id": "M6mTil2sqQ4l"
      },
      "source": [
        "Nótese que\n",
        "\n",
        "\\begin{align}\n",
        " Y^{\\operatorname{T}}Y =&U D_\\lambda U^{\\operatorname{T}}\\\\\n",
        " =&U D_{\\sqrt{\\lambda}} D_{\\sqrt{\\lambda}} U^{\\operatorname{T}}\\\\\n",
        "\\end{align}\n",
        "\n",
        "Así:"
      ]
    },
    {
      "cell_type": "code",
      "metadata": {
        "id": "V5asrAzcqmRG",
        "outputId": "f6d768c8-cb28-4583-ecdd-36708820448d",
        "colab": {
          "base_uri": "https://localhost:8080/"
        }
      },
      "source": [
        "D = np.dot( D2, D2 ) # definimos D sub lambda\n",
        "D"
      ],
      "execution_count": 131,
      "outputs": [
        {
          "output_type": "execute_result",
          "data": {
            "text/plain": [
              "array([[2., 0.],\n",
              "       [0., 4.]])"
            ]
          },
          "metadata": {
            "tags": []
          },
          "execution_count": 131
        }
      ]
    },
    {
      "cell_type": "code",
      "metadata": {
        "id": "0_kRNo-CqoEn",
        "outputId": "4712b216-58b5-49bf-881e-b24c11137d1e",
        "colab": {
          "base_uri": "https://localhost:8080/"
        }
      },
      "source": [
        "Y_ = np.dot(  np.dot( U, D ), U.transpose() ) # nótese que Y_ es Y transpuesta multiplicada con Y\n",
        "Y_"
      ],
      "execution_count": 133,
      "outputs": [
        {
          "output_type": "execute_result",
          "data": {
            "text/plain": [
              "array([[3., 1.],\n",
              "       [1., 3.]])"
            ]
          },
          "metadata": {
            "tags": []
          },
          "execution_count": 133
        }
      ]
    },
    {
      "cell_type": "markdown",
      "metadata": {
        "id": "oh7vsAycpQsG"
      },
      "source": [
        "Ahora,\n",
        "\n",
        "$$\n",
        "A=Y^{\\operatorname{T}}Y\n",
        "$$\n",
        "\n",
        "De modo que:"
      ]
    },
    {
      "cell_type": "code",
      "metadata": {
        "id": "hYlhc-S1_V0d",
        "outputId": "fa792742-0780-4c2e-e694-be3f5a703ea5",
        "colab": {
          "base_uri": "https://localhost:8080/"
        }
      },
      "source": [
        "A = Y_\n",
        "A"
      ],
      "execution_count": 134,
      "outputs": [
        {
          "output_type": "execute_result",
          "data": {
            "text/plain": [
              "array([[3., 1.],\n",
              "       [1., 3.]])"
            ]
          },
          "metadata": {
            "tags": []
          },
          "execution_count": 134
        }
      ]
    },
    {
      "cell_type": "markdown",
      "metadata": {
        "id": "ftnOPUQkrnkp"
      },
      "source": [
        "Verificaremos que A cuenta con los autovalores pedidos de la siguiente forma:\n",
        "\n",
        "$$\n",
        "U^{\\operatorname{T}} A U=U^{\\operatorname{T}} Y^{\\operatorname{T}}Y U=D_\\lambda\n",
        "$$"
      ]
    },
    {
      "cell_type": "code",
      "metadata": {
        "id": "ZNB32wSH_f1V",
        "outputId": "c5a63a61-2a1a-48a7-b1a2-a91f7fbab813",
        "colab": {
          "base_uri": "https://localhost:8080/"
        }
      },
      "source": [
        "D_ = np.dot(  np.dot( U.transpose(), A ), U ).round(14)\n",
        "D_"
      ],
      "execution_count": 138,
      "outputs": [
        {
          "output_type": "execute_result",
          "data": {
            "text/plain": [
              "array([[2., 0.],\n",
              "       [0., 4.]])"
            ]
          },
          "metadata": {
            "tags": []
          },
          "execution_count": 138
        }
      ]
    },
    {
      "cell_type": "markdown",
      "metadata": {
        "id": "dHwEv510s9s3"
      },
      "source": [
        "Por tanto nótese que se obtienen los mismos autovalores definidos en un inicio.\n",
        "\n",
        "Otra forma, en la cual podemos obtener, además, los autovalores es:"
      ]
    },
    {
      "cell_type": "code",
      "metadata": {
        "id": "fds83EOOr5xR"
      },
      "source": [
        "λ,U_=np.linalg.eig( A )"
      ],
      "execution_count": 139,
      "outputs": []
    },
    {
      "cell_type": "code",
      "metadata": {
        "id": "7z3AvBEHtHwj",
        "outputId": "65d64a89-302b-4137-82b7-3f205ce712f3",
        "colab": {
          "base_uri": "https://localhost:8080/"
        }
      },
      "source": [
        "λ"
      ],
      "execution_count": 140,
      "outputs": [
        {
          "output_type": "execute_result",
          "data": {
            "text/plain": [
              "array([2., 4.])"
            ]
          },
          "metadata": {
            "tags": []
          },
          "execution_count": 140
        }
      ]
    },
    {
      "cell_type": "code",
      "metadata": {
        "id": "2gGzFp3MtKA-",
        "outputId": "f0d237c7-dd82-4a71-d06b-df1834431bf5",
        "colab": {
          "base_uri": "https://localhost:8080/"
        }
      },
      "source": [
        "U_"
      ],
      "execution_count": 141,
      "outputs": [
        {
          "output_type": "execute_result",
          "data": {
            "text/plain": [
              "array([[-0.70710678, -0.70710678],\n",
              "       [ 0.70710678, -0.70710678]])"
            ]
          },
          "metadata": {
            "tags": []
          },
          "execution_count": 141
        }
      ]
    },
    {
      "cell_type": "markdown",
      "metadata": {
        "id": "-sPLOU-CtaKs"
      },
      "source": [
        "De esta forma, comprobamos que los autovalores y autovectores son:"
      ]
    },
    {
      "cell_type": "code",
      "metadata": {
        "id": "scXrZB6HtyLS",
        "outputId": "fcbb0843-8636-4710-d508-6653e6cb8ae8",
        "colab": {
          "base_uri": "https://localhost:8080/"
        }
      },
      "source": [
        "print(\"Los autovalores son\", λ[0].round(0), \"y\", λ[1].round(0))"
      ],
      "execution_count": 144,
      "outputs": [
        {
          "output_type": "stream",
          "text": [
            "Los autovalores son 2.0 y 4.0\n"
          ],
          "name": "stdout"
        }
      ]
    },
    {
      "cell_type": "code",
      "metadata": {
        "id": "u2urIwCWuHwO",
        "outputId": "cdf77e13-f752-45da-ce51-aa4513a99b2f",
        "colab": {
          "base_uri": "https://localhost:8080/"
        }
      },
      "source": [
        "print(\"Los autovectores son:\") \n",
        "print(np.c_[U_[:,0]])\n",
        "print(np.c_[U_[:,1]])"
      ],
      "execution_count": 150,
      "outputs": [
        {
          "output_type": "stream",
          "text": [
            "Los autovectores son:\n",
            "[[-0.70710678]\n",
            " [ 0.70710678]]\n",
            "[[-0.70710678]\n",
            " [-0.70710678]]\n"
          ],
          "name": "stdout"
        }
      ]
    },
    {
      "cell_type": "markdown",
      "metadata": {
        "id": "SbekMMK2uydX"
      },
      "source": [
        "Nótese que los autovectores son precisamente los definidos por la matriz de diagonalización U que definimos en un inicio."
      ]
    }
  ]
}