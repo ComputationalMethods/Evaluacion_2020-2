{
  "nbformat": 4,
  "nbformat_minor": 0,
  "metadata": {
    "colab": {
      "name": "Copia de Copia de computer-arithmetics.ipynb",
      "provenance": [],
      "toc_visible": true
    },
    "kernelspec": {
      "display_name": "Python 3",
      "language": "python",
      "name": "python3"
    },
    "language_info": {
      "codemirror_mode": {
        "name": "ipython",
        "version": 3
      },
      "file_extension": ".py",
      "mimetype": "text/x-python",
      "name": "python",
      "nbconvert_exporter": "python",
      "pygments_lexer": "ipython3",
      "version": "3.7.3"
    },
    "toc": {
      "colors": {
        "hover_highlight": "#DAA520",
        "running_highlight": "#FF0000",
        "selected_highlight": "#FFD700"
      },
      "moveMenuLeft": true,
      "nav_menu": {
        "height": "189px",
        "width": "252px"
      },
      "navigate_menu": true,
      "number_sections": true,
      "sideBar": true,
      "threshold": 4,
      "toc_cell": false,
      "toc_section_display": "block",
      "toc_window_display": false
    }
  },
  "cells": [
    {
      "cell_type": "markdown",
      "metadata": {
        "colab_type": "text",
        "id": "K-Y40d7IekWU"
      },
      "source": [
        "<a href=\"https://colab.research.google.com/github/restrepo/ComputationalMethods/blob/master/material/computer-arithmetics.ipynb\" target=\"_parent\"><img src=\"https://colab.research.google.com/assets/colab-badge.svg\" alt=\"Open In Colab\"/></a>\n",
        "\n",
        "# Computer Arithmetics and Round-off Methods\n",
        "\n",
        "Actividades: https://classroom.github.com/a/2v-HnNqn\n",
        "\n",
        "In a symbolic computation programs, implemented in SymPy or Mathematica for example, operatios like $1/3+4/3=5/3$, $2\\times 3/4 = 3/2$, $(\\sqrt{2})^2 = 2$ are unambiguously defined, However, when one numerical programming languages are used to represent numbers in a computer, this is no longer true. The main reason of this is the so-called *finite arithmetic*, what is the way in which a numerical computer programs performs basic operations. Some features of *finite arithmetic* are stated below:\n",
        "\n",
        "- Only integer and rational numbers can be exactly represented.\n",
        "- The elements of the set in which arithmetic is performed is necessarily finite.\n",
        "- Any arithmetic operation between two or more numbers of this set should be another element of the set.\n",
        "- Non-representable numbers like irrational numbers are approximated to the closest rational number within the defined set.\n",
        "- Extremely large numbers produce overflows and extremely small numbers produce underflows, which are taken as null.\n",
        "- Operations over non-representable numbers are not exact.\n",
        "\n",
        "In spite of this, defining adequately the set of elements in which our computer will operate, round-off methods can be systematically neglected, yielding correct results within reasonable error margins. In some pathological cases, when massive iterations are required, these errors must be taken into account more seriously.\n",
        "\n",
        "- - - \n",
        "\n",
        "- [Binary machine numbers](#Binary-machine-numbers)\n",
        "    - [Single-precision numbers](#Single-precision-numbers)\n",
        "    - [Double-precision numbers](#Double-precision-numbers)\n",
        "- [Finite Arithmetic](#Finite-Arithmetic)\n",
        "    - [Addition](#Addition)\n",
        "    - [Multiplication](#Multiplication)\n",
        "\n",
        "- - - "
      ]
    },
    {
      "cell_type": "markdown",
      "metadata": {
        "id": "cXqwFZAXs-W0",
        "colab_type": "text"
      },
      "source": [
        "## More About Float Values \n",
        "See also [here](https://www.inferentialthinking.com/chapters/04/1/Numbers.html)\n",
        "\n",
        "In Python a float only represents 15 or 16 significant digits for any number; the remaining precision is lost. This limited precision is enough for the vast majority of applications.\n",
        "\n",
        "In the next evaluation extra digits are discarded before any arithmetic is carried out."
      ]
    },
    {
      "cell_type": "code",
      "metadata": {
        "id": "aAXYOrWGs-W2",
        "colab_type": "code",
        "colab": {},
        "outputId": "118595f9-4c1c-41b8-ae9f-81dce4069d86"
      },
      "source": [
        "0.6666666666666666 - 0.6666666666666666123456789"
      ],
      "execution_count": null,
      "outputs": [
        {
          "output_type": "execute_result",
          "data": {
            "text/plain": [
              "0.0"
            ]
          },
          "metadata": {
            "tags": []
          },
          "execution_count": 43
        }
      ]
    },
    {
      "cell_type": "markdown",
      "metadata": {
        "id": "cmEbmQpMs-XS",
        "colab_type": "text"
      },
      "source": [
        "After combining float values with arithmetic, the last few digits may be incorrect. Small rounding errors are often confusing when first encountered. For example, the expression `2**0.5` computes the square root of `2`, but squaring this value does not exactly recover `2`."
      ]
    },
    {
      "cell_type": "code",
      "metadata": {
        "id": "KA3jk9sts-XV",
        "colab_type": "code",
        "colab": {},
        "outputId": "522c2683-1430-4955-a312-fa9ef3810117"
      },
      "source": [
        "2**0.5"
      ],
      "execution_count": null,
      "outputs": [
        {
          "output_type": "execute_result",
          "data": {
            "text/plain": [
              "1.4142135623730951"
            ]
          },
          "metadata": {
            "tags": []
          },
          "execution_count": 44
        }
      ]
    },
    {
      "cell_type": "code",
      "metadata": {
        "id": "-Pf4Lpwzs-Xf",
        "colab_type": "code",
        "colab": {},
        "outputId": "d1c63fa2-9b4e-4bcd-c934-4f9771b4fbc8"
      },
      "source": [
        "(2**0.5)**2"
      ],
      "execution_count": null,
      "outputs": [
        {
          "output_type": "execute_result",
          "data": {
            "text/plain": [
              "2.0000000000000004"
            ]
          },
          "metadata": {
            "tags": []
          },
          "execution_count": 45
        }
      ]
    },
    {
      "cell_type": "code",
      "metadata": {
        "id": "BX6ephIWs-Xo",
        "colab_type": "code",
        "colab": {},
        "outputId": "171d134a-36fe-4c66-c830-af0da6b9482d"
      },
      "source": [
        "(2**0.5)**2 - 2"
      ],
      "execution_count": null,
      "outputs": [
        {
          "output_type": "execute_result",
          "data": {
            "text/plain": [
              "4.440892098500626e-16"
            ]
          },
          "metadata": {
            "tags": []
          },
          "execution_count": 46
        }
      ]
    },
    {
      "cell_type": "markdown",
      "metadata": {
        "colab_type": "text",
        "id": "oqZtWoT7jolm"
      },
      "source": [
        "## Binary machine numbers"
      ]
    },
    {
      "cell_type": "markdown",
      "metadata": {
        "colab_type": "text",
        "id": "7z0MWgOrjuO2"
      },
      "source": [
        "We will obtain the general algorithm to obtain the binary r"
      ]
    },
    {
      "cell_type": "markdown",
      "metadata": {
        "colab_type": "text",
        "id": "6YcTBJivis_R"
      },
      "source": [
        "### Integers"
      ]
    },
    {
      "cell_type": "markdown",
      "metadata": {
        "colab_type": "text",
        "id": "74bewmHTixif"
      },
      "source": [
        "From [here](https://www.techcareerbooster.com/blog/binary-representation-of-an-integer): If you recall your mathematics, then it will be easy for you to find out how we turn an integer number to its binary representation. Let's take for example the number 47.\n",
        "\n",
        "1. We divide 47 by 2. The quotient is `int(47/2) → 23` and the remainder is `47%2 → 1`\n",
        "2. We divide the quotient of the previous step by 2. The new quotient is `int(23/2) → 1` and the remainder is `int(23/2) → 1`.\n",
        "3. We divide the quotient of the previous step by 2. The new quotient is 5 and the remainder is __1__.\n",
        "5. We divide the quotient of the previous step by 2. The new quotient is 2 and the remainder is __1__.\n",
        "6. We divide the quotient of the previous step by 2. The new quotient is 1 and the remainder is __0__.\n",
        "7. We divide the quotient of the previous step by 2. The new quotient is 0 and the remainder is __1__\n",
        "8. We stop here, when the last quotient is 0.\n",
        "\n",
        "Then, the binary representation is the series of __1__s and __0__s of the remainders, taken in reverse order to the one produced, from latest to earliest: __101111__.\n",
        "<!-- https://www.geeksforgeeks.org/bin-in-python/ -->"
      ]
    },
    {
      "cell_type": "markdown",
      "metadata": {
        "colab_type": "text",
        "id": "NieG9Hn5lp0v"
      },
      "source": [
        "__Activity__: Implement a function that get the binary representation of an integer. "
      ]
    },
    {
      "cell_type": "markdown",
      "metadata": {
        "colab_type": "text",
        "id": "Vn7Cusk5orMc"
      },
      "source": [
        "__Activity__: Return as a string with 8 charactes completed with leading zeroes. Use the string method: `.rjust(8,\"0\")`"
      ]
    },
    {
      "cell_type": "markdown",
      "metadata": {
        "colab_type": "text",
        "id": "WCU8B-h1A2Pq"
      },
      "source": [
        "__Activity__ Write your function in the following format"
      ]
    },
    {
      "cell_type": "code",
      "metadata": {
        "colab_type": "code",
        "id": "aP1xnAWrBfRp",
        "colab": {
          "base_uri": "https://localhost:8080/",
          "height": 85
        },
        "outputId": "228fffa8-e4a9-491e-c5d9-ba3f53cde7b1"
      },
      "source": [
        "#!/usr/bin/env python3\n",
        "def mybin(x):\n",
        "    print('__name__ = {}'.format(__name__))\n",
        "    if x > 264:\n",
        "      print(\"Ingrese un número menor de 128\")\n",
        "    else:\n",
        "      bin = []\n",
        "      while x >= 2:\n",
        "        if x%2 == 1:\n",
        "          bin.append('1')\n",
        "          x = int(x/2)\n",
        "        else:\n",
        "          bin.append('0')\n",
        "          x = x/2\n",
        "      bin.append('1')\n",
        "      bin.reverse()\n",
        "      res = ''.join(bin)\n",
        "    return res.rjust(8, '0')\n",
        "if __name__=='__main__':\n",
        "    x=input('Escriba un entero:\\n')\n",
        "    b=mybin(int(x))\n",
        "    print('Su representación binaria es: {}'.format(b))"
      ],
      "execution_count": 21,
      "outputs": [
        {
          "output_type": "stream",
          "text": [
            "Escriba un entero:\n",
            "4\n",
            "__name__ = __main__\n",
            "Su representación binaria es: 00000100\n"
          ],
          "name": "stdout"
        }
      ]
    },
    {
      "cell_type": "markdown",
      "metadata": {
        "colab_type": "text",
        "id": "C9-H4KqgBpg2"
      },
      "source": [
        "The advantage of this standard format is that can be used directly as a python module, because in that case the variable `__name__` evaluates to the name\n",
        "of the function. To check this, we first use a cell of the notebook just as a editor with the Jupyter magic function `%%writefile`"
      ]
    },
    {
      "cell_type": "code",
      "metadata": {
        "colab_type": "code",
        "id": "ZVgjNnOfSDp0",
        "colab": {
          "base_uri": "https://localhost:8080/",
          "height": 34
        },
        "outputId": "fbca5738-e5b5-48b8-c162-722fa0d94a2e"
      },
      "source": [
        "%%writefile mybin.py\n",
        "#!/usr/bin/env python3\n",
        "def mybin(x):\n",
        "    print('__name__ = {}'.format(__name__))\n",
        "    return bin(x)[2:].rjust(8, \"0\")\n",
        "if __name__=='__main__':\n",
        "    n=input('Escriba un entero;\\n')\n",
        "    b=mybin(int(n))\n",
        "    print('Su representación binaria es: {}'.format(b))\n"
      ],
      "execution_count": 7,
      "outputs": [
        {
          "output_type": "stream",
          "text": [
            "Writing mybin.py\n"
          ],
          "name": "stdout"
        }
      ]
    },
    {
      "cell_type": "markdown",
      "metadata": {
        "colab_type": "text",
        "id": "8F0OTamOSLfO"
      },
      "source": [
        "We now can use the full contents of the file as an usual python module, it it is\n",
        "in the working directory"
      ]
    },
    {
      "cell_type": "code",
      "metadata": {
        "colab_type": "code",
        "id": "bXohCqmKSY7r",
        "colab": {
          "base_uri": "https://localhost:8080/",
          "height": 52
        },
        "outputId": "bd18bf33-e574-438f-eac7-ac2e4e7c06d7"
      },
      "source": [
        "import mybin\n",
        "mybin.mybin(45)"
      ],
      "execution_count": 8,
      "outputs": [
        {
          "output_type": "stream",
          "text": [
            "__name__ = mybin\n"
          ],
          "name": "stdout"
        },
        {
          "output_type": "execute_result",
          "data": {
            "application/vnd.google.colaboratory.intrinsic+json": {
              "type": "string"
            },
            "text/plain": [
              "'00101101'"
            ]
          },
          "metadata": {
            "tags": []
          },
          "execution_count": 8
        }
      ]
    },
    {
      "cell_type": "code",
      "metadata": {
        "colab_type": "code",
        "id": "s5uBqKH8ScVm",
        "colab": {
          "base_uri": "https://localhost:8080/",
          "height": 129
        },
        "outputId": "0bb0e424-be05-430b-86b0-9e7a7993d430"
      },
      "source": [
        "while here, or in a terminal:"
      ],
      "execution_count": 9,
      "outputs": [
        {
          "output_type": "error",
          "ename": "SyntaxError",
          "evalue": "ignored",
          "traceback": [
            "\u001b[0;36m  File \u001b[0;32m\"<ipython-input-9-b1952b3ab8b4>\"\u001b[0;36m, line \u001b[0;32m1\u001b[0m\n\u001b[0;31m    while here, or in a terminal:\u001b[0m\n\u001b[0m              ^\u001b[0m\n\u001b[0;31mSyntaxError\u001b[0m\u001b[0;31m:\u001b[0m invalid syntax\n"
          ]
        }
      ]
    },
    {
      "cell_type": "code",
      "metadata": {
        "id": "5RZTG3JSs-ZF",
        "colab_type": "code",
        "colab": {
          "base_uri": "https://localhost:8080/",
          "height": 35
        },
        "outputId": "27b29d75-aa41-4f0a-de07-8aac046efbca"
      },
      "source": [
        "__name__"
      ],
      "execution_count": 10,
      "outputs": [
        {
          "output_type": "execute_result",
          "data": {
            "application/vnd.google.colaboratory.intrinsic+json": {
              "type": "string"
            },
            "text/plain": [
              "'__main__'"
            ]
          },
          "metadata": {
            "tags": []
          },
          "execution_count": 10
        }
      ]
    },
    {
      "cell_type": "markdown",
      "metadata": {
        "colab_type": "text",
        "id": "kWhR37BchYaJ"
      },
      "source": [
        "Check with `bin`"
      ]
    },
    {
      "cell_type": "markdown",
      "metadata": {
        "colab_type": "text",
        "id": "nJiWGP8AgX27"
      },
      "source": [
        "The binary representation of a float in 32 bits done by the following steps"
      ]
    },
    {
      "cell_type": "code",
      "metadata": {
        "colab_type": "code",
        "id": "YbrDjH0-hEhp",
        "colab": {
          "base_uri": "https://localhost:8080/",
          "height": 35
        },
        "outputId": "f25c7c66-ca06-4627-d6d4-b30af9d827da"
      },
      "source": [
        "bin(47)"
      ],
      "execution_count": 11,
      "outputs": [
        {
          "output_type": "execute_result",
          "data": {
            "application/vnd.google.colaboratory.intrinsic+json": {
              "type": "string"
            },
            "text/plain": [
              "'0b101111'"
            ]
          },
          "metadata": {
            "tags": []
          },
          "execution_count": 11
        }
      ]
    },
    {
      "cell_type": "markdown",
      "metadata": {
        "colab_type": "text",
        "id": "5eDFv2B2u_ME"
      },
      "source": [
        "The format is not the standard one. We need dropt the firs '0b'"
      ]
    },
    {
      "cell_type": "code",
      "metadata": {
        "colab_type": "code",
        "id": "vumsZnjDvV9Y",
        "colab": {
          "base_uri": "https://localhost:8080/",
          "height": 35
        },
        "outputId": "6c82a9bd-59dc-4fc8-bded-9580fe08a33a"
      },
      "source": [
        "bin(47)[2:]"
      ],
      "execution_count": 12,
      "outputs": [
        {
          "output_type": "execute_result",
          "data": {
            "application/vnd.google.colaboratory.intrinsic+json": {
              "type": "string"
            },
            "text/plain": [
              "'101111'"
            ]
          },
          "metadata": {
            "tags": []
          },
          "execution_count": 12
        }
      ]
    },
    {
      "cell_type": "markdown",
      "metadata": {
        "colab_type": "text",
        "id": "wp2bXTD8vfKo"
      },
      "source": [
        "We must enforce the 8 bits representation by padding any additional leading zeroes"
      ]
    },
    {
      "cell_type": "code",
      "metadata": {
        "colab_type": "code",
        "id": "uVJtGrt2v61F",
        "colab": {
          "base_uri": "https://localhost:8080/",
          "height": 35
        },
        "outputId": "6a696158-de13-4ec6-857d-c59252fd47e1"
      },
      "source": [
        "bin(47)[2:].rjust(8, '0')"
      ],
      "execution_count": 13,
      "outputs": [
        {
          "output_type": "execute_result",
          "data": {
            "application/vnd.google.colaboratory.intrinsic+json": {
              "type": "string"
            },
            "text/plain": [
              "'00101111'"
            ]
          },
          "metadata": {
            "tags": []
          },
          "execution_count": 13
        }
      ]
    },
    {
      "cell_type": "markdown",
      "metadata": {
        "colab_type": "text",
        "id": "_MAeRxAGwCA1"
      },
      "source": [
        "To convert a binary into the integer we can use the `int` function with `base=0` upont the proper Python formatted string, starting with: <font color='red'>`0b`</font>"
      ]
    },
    {
      "cell_type": "code",
      "metadata": {
        "colab_type": "code",
        "id": "uw7yxC8HwNqV",
        "colab": {
          "base_uri": "https://localhost:8080/",
          "height": 34
        },
        "outputId": "1dfd4d04-b2b7-4413-8021-cd71f2b25dbf"
      },
      "source": [
        "int('0b101111',base=0)"
      ],
      "execution_count": 14,
      "outputs": [
        {
          "output_type": "execute_result",
          "data": {
            "text/plain": [
              "47"
            ]
          },
          "metadata": {
            "tags": []
          },
          "execution_count": 14
        }
      ]
    },
    {
      "cell_type": "markdown",
      "metadata": {
        "colab_type": "text",
        "id": "bN5y4Kinw-eY"
      },
      "source": [
        "or with any number of padding zeroes in between"
      ]
    },
    {
      "cell_type": "code",
      "metadata": {
        "colab_type": "code",
        "id": "9iQptjEnwigI",
        "colab": {
          "base_uri": "https://localhost:8080/",
          "height": 34
        },
        "outputId": "d68216b6-1afd-4d7e-ddc8-630662cb085f"
      },
      "source": [
        "int('0b0000000101111',base=0)"
      ],
      "execution_count": 15,
      "outputs": [
        {
          "output_type": "execute_result",
          "data": {
            "text/plain": [
              "47"
            ]
          },
          "metadata": {
            "tags": []
          },
          "execution_count": 15
        }
      ]
    },
    {
      "cell_type": "markdown",
      "metadata": {
        "colab_type": "text",
        "id": "GlLaeJuYekWV"
      },
      "source": [
        "### Floats\n",
        "Floats in 32 bits are representated trough 4 8-bit integers.\n",
        "\n",
        "The processes of obtain the binary representation for a float can be complicated because the design used to really  store the number  in one specific programming language like Python. In fact, from https://stackoverflow.com/a/16444778/2268280:"
      ]
    },
    {
      "cell_type": "markdown",
      "metadata": {
        "colab_type": "text",
        "id": "yg8dpA8M0X_o"
      },
      "source": [
        "* To obtain the four integers associated to a real number we need first to ask for the packed structure : `'!'`, in 32 bits: `'f'`, with the full string `'!f'` as"
      ]
    },
    {
      "cell_type": "code",
      "metadata": {
        "colab_type": "code",
        "id": "JFXl8fYT0m5f",
        "colab": {
          "base_uri": "https://localhost:8080/",
          "height": 35
        },
        "outputId": "a8829d55-beef-45e7-9b22-2f4a5d888524"
      },
      "source": [
        "import struct\n",
        "packed=struct.pack('!f',0.15625)\n",
        "packed"
      ],
      "execution_count": null,
      "outputs": [
        {
          "output_type": "execute_result",
          "data": {
            "text/plain": [
              "b'> \\x00\\x00'"
            ]
          },
          "metadata": {
            "tags": []
          },
          "execution_count": 1
        }
      ]
    },
    {
      "cell_type": "markdown",
      "metadata": {
        "colab_type": "text",
        "id": "DF1X9-Q_1jj0"
      },
      "source": [
        "This is a packed Python list with the four integers inside"
      ]
    },
    {
      "cell_type": "code",
      "metadata": {
        "colab_type": "code",
        "id": "gLnTvnAQ1riZ",
        "colab": {
          "base_uri": "https://localhost:8080/",
          "height": 35
        },
        "outputId": "91593b85-fe3c-425d-e3b4-f7c3843ed428"
      },
      "source": [
        "[n for n in packed]"
      ],
      "execution_count": null,
      "outputs": [
        {
          "output_type": "execute_result",
          "data": {
            "text/plain": [
              "[62, 32, 0, 0]"
            ]
          },
          "metadata": {
            "tags": []
          },
          "execution_count": 2
        }
      ]
    },
    {
      "cell_type": "markdown",
      "metadata": {
        "colab_type": "text",
        "id": "fUv2SZWO14nY"
      },
      "source": [
        "Using the previous function to convert into a list of 8-bit strings"
      ]
    },
    {
      "cell_type": "code",
      "metadata": {
        "colab_type": "code",
        "id": "7Sd2oDWN7V2v",
        "colab": {
          "base_uri": "https://localhost:8080/",
          "height": 108
        },
        "outputId": "6ebb1473-0091-4320-91d1-949d900dd25e"
      },
      "source": [
        "lb=[ mybin(n) for n in packed]\n",
        "lb"
      ],
      "execution_count": null,
      "outputs": [
        {
          "output_type": "stream",
          "text": [
            "__main__\n",
            "__main__\n",
            "__main__\n",
            "__main__\n"
          ],
          "name": "stdout"
        },
        {
          "output_type": "execute_result",
          "data": {
            "text/plain": [
              "['00111110', '00100000', '00000000', '00000000']"
            ]
          },
          "metadata": {
            "tags": []
          },
          "execution_count": 5
        }
      ]
    },
    {
      "cell_type": "markdown",
      "metadata": {
        "colab_type": "text",
        "id": "VxjOcP8A-eK4"
      },
      "source": [
        "The float representation is just the string formed with the four binaries"
      ]
    },
    {
      "cell_type": "code",
      "metadata": {
        "colab_type": "code",
        "id": "X_jfXrTo_fFQ",
        "colab": {
          "base_uri": "https://localhost:8080/",
          "height": 35
        },
        "outputId": "b4017740-848e-471c-9f63-a2aeba2fd156"
      },
      "source": [
        "''.join(lb)"
      ],
      "execution_count": null,
      "outputs": [
        {
          "output_type": "execute_result",
          "data": {
            "text/plain": [
              "'00111110001000000000000000000000'"
            ]
          },
          "metadata": {
            "tags": []
          },
          "execution_count": 6
        }
      ]
    },
    {
      "cell_type": "markdown",
      "metadata": {
        "colab_type": "text",
        "id": "eptuC0Nk_qXZ"
      },
      "source": [
        "![32-bits](http://upload.wikimedia.org/wikipedia/commons/thumb/d/d2/Float_example.svg/590px-Float_example.svg.png)"
      ]
    },
    {
      "cell_type": "markdown",
      "metadata": {
        "colab_type": "text",
        "id": "KL8J_d0y7jNI"
      },
      "source": [
        "#### Full implementation"
      ]
    },
    {
      "cell_type": "code",
      "metadata": {
        "colab_type": "code",
        "id": "JaBoHSiAekWW",
        "colab": {}
      },
      "source": [
        "import struct\n",
        "\n",
        "def binary(num):\n",
        "#num=3\n",
        "#if True:\n",
        "    # Struct can provide us with the float packed into bytes. The '!' ensures that\n",
        "    # it's in network byte order (big-endian) and the 'f' says that it should be\n",
        "    # packed as a float: 32 bites. Alternatively, for double-precision, you could use 'd'.\n",
        "    packed = struct.pack('!f', num)\n",
        "    print( 'Packed: %s' % repr(packed))\n",
        "\n",
        "    # For each character in the returned string, we'll turn it into its corresponding\n",
        "    # integer code point\n",
        "    # \n",
        "    integers = [c for c in packed]\n",
        "    print( 'Integers: %s' % integers)\n",
        "\n",
        "    # For each integer, we'll convert it to its binary representation.\n",
        "    binaries = [bin(i) for i in integers]\n",
        "    print( 'Binaries: %s' % binaries)\n",
        "\n",
        "    # Now strip off the '0b' from each of these\n",
        "    stripped_binaries = [s.replace('0b', '') for s in binaries]\n",
        "    print( 'Stripped: %s' % stripped_binaries)\n",
        "\n",
        "    # Pad each byte's binary representation's with 0's to make sure it has all 8 bits:\n",
        "    #\n",
        "    # ['00111110', '10100011', '11010111', '00001010']\n",
        "    padded = [s.rjust(8, '0') for s in stripped_binaries]\n",
        "    print( 'Padded: %s' % padded)\n",
        "\n",
        "    # At this point, we have each of the bytes for the network byte ordered float\n",
        "    # in an array as binary strings. Now we just concatenate them to get the total\n",
        "    # representation of the float:\n",
        "    return ''.join(padded)"
      ],
      "execution_count": null,
      "outputs": []
    },
    {
      "cell_type": "code",
      "metadata": {
        "colab_type": "code",
        "id": "Og6bGmhVekWZ",
        "colab": {
          "base_uri": "https://localhost:8080/",
          "height": 126
        },
        "outputId": "059605fc-be6d-479b-8f2e-45ba989fb38c"
      },
      "source": [
        "BIN=binary(0.15625)\n",
        "BIN"
      ],
      "execution_count": null,
      "outputs": [
        {
          "output_type": "stream",
          "text": [
            "Packed: b'> \\x00\\x00'\n",
            "Integers: [62, 32, 0, 0]\n",
            "Binaries: ['0b111110', '0b100000', '0b0', '0b0']\n",
            "Stripped: ['111110', '100000', '0', '0']\n",
            "Padded: ['00111110', '00100000', '00000000', '00000000']\n"
          ],
          "name": "stdout"
        },
        {
          "output_type": "execute_result",
          "data": {
            "text/plain": [
              "'00111110001000000000000000000000'"
            ]
          },
          "metadata": {
            "tags": []
          },
          "execution_count": 3
        }
      ]
    },
    {
      "cell_type": "markdown",
      "metadata": {
        "colab_type": "text",
        "id": "G6Nycj-cekWc"
      },
      "source": [
        "![32-bits](http://upload.wikimedia.org/wikipedia/commons/thumb/d/d2/Float_example.svg/590px-Float_example.svg.png)"
      ]
    },
    {
      "cell_type": "code",
      "metadata": {
        "colab_type": "code",
        "id": "KqAdhGWWekWd",
        "colab": {
          "base_uri": "https://localhost:8080/",
          "height": 35
        },
        "outputId": "b15caac7-38d8-4412-a683-09cf532a0f30"
      },
      "source": [
        "''.join( list(BIN)[::-1] ) #inverted list joined into a string"
      ],
      "execution_count": null,
      "outputs": [
        {
          "output_type": "execute_result",
          "data": {
            "text/plain": [
              "'00000000000000000000010001111100'"
            ]
          },
          "metadata": {
            "tags": []
          },
          "execution_count": 4
        }
      ]
    },
    {
      "cell_type": "markdown",
      "metadata": {
        "colab_type": "text",
        "id": "siRJmwCAekWg"
      },
      "source": [
        "## Binary machine numbers    "
      ]
    },
    {
      "cell_type": "markdown",
      "metadata": {
        "colab_type": "text",
        "id": "9gyrlmVDekWh"
      },
      "source": [
        "As everyone knows, the base of the modern computation is the binary numbers. The binary base or base-2 numeral system is the simplest one among the existing numeral bases. As every electronic devices are based on logic circuits (circuits operating with [logic gates](#LogicGates)), the implementation of a binary base is straightforward, besides, any other numeral system can be reduced to a binary representation.\n",
        "\n",
        "![LogicGates](http://www.ee.surrey.ac.uk/Projects/CAL/digital-logic/gatesfunc/graphics/symtab.gif)\n",
        "\n",
        "According to the standard [IEEE 754-2008](http://en.wikipedia.org/wiki/IEEE_floating_point), representation of real numbers can be done in several ways, [single-precision](http://en.wikipedia.org/wiki/Single-precision_floating-point_format) and [double precision](http://en.wikipedia.org/wiki/Double-precision_floating-point_format) are the most used ones."
      ]
    },
    {
      "cell_type": "markdown",
      "metadata": {
        "colab_type": "text",
        "id": "mTaL_rTLekWh"
      },
      "source": [
        "### Single-precision numbers"
      ]
    },
    {
      "cell_type": "markdown",
      "metadata": {
        "colab_type": "text",
        "id": "i0TqQpJuekWi"
      },
      "source": [
        "Single-precision numbers are used when one does not need very accurate results and/or need to save memory. These numbers are represented by a **32-bits** (Binary digIT) lenght binary number, where the real number is stored following the next rules:\n",
        "\n",
        "![32-bits](http://upload.wikimedia.org/wikipedia/commons/thumb/d/d2/Float_example.svg/590px-Float_example.svg.png)\n",
        "\n",
        "1. The fist digit (called *s*) indicates the sign of the number (s=0 means a positive number, s=1 a negative one).\n",
        "2. The next 8 bits represent the exponent of the number.\n",
        "3. The last 23 bits represent the fractional part of the number.\n",
        "\n",
        "The formula for recovering the real number is then given by:\n",
        "\n",
        "$$r = \\frac{(-1)^s}{2^{127-e}} \\left( 1 + \\sum_{i=0}^{22}\\frac{b_{i}}{2^{23-i}} \\right)$$\n",
        "\n",
        "where $s$ is the sign, $b_{23-i}$ the fraction bits and $e$ is given by:\n",
        "\n",
        "$$e = \\sum_{i=0}^7 b_{23+i}2^i$$\n",
        "\n",
        "Next, it is shown a little routine for calculating the value of the represented 32-bits number"
      ]
    },
    {
      "cell_type": "markdown",
      "metadata": {
        "colab_type": "text",
        "id": "2ycxeSJCekWj"
      },
      "source": [
        "### ACTIVITY\n",
        "With the binary representation please try to implement the formula to recover the number.\n",
        "\n",
        "__Hint__: Use as input the binary representation as a string and invert its order"
      ]
    },
    {
      "cell_type": "markdown",
      "metadata": {
        "colab_type": "text",
        "id": "sjxwZuwYekWk"
      },
      "source": [
        "__SOLUTION__:"
      ]
    },
    {
      "cell_type": "markdown",
      "metadata": {
        "colab_type": "text",
        "id": "gDTO3_OqekWl"
      },
      "source": [
        "The goal of this course is try to implement all the algorithms in terms of array operations, instead of use the loops of Pyhton like the `for` loop.\n",
        "\n",
        "In this way, we need to interpret the formula in terms of  arrays operations. If we manage to achieve that, then NumPy will be take care of the internal loops, which are much faster than the Python loops. As a bonus, the code is more compact and readable.\n",
        "\n",
        "For example:\n",
        "\n",
        "\\begin{align}\n",
        "\\sum_{i=0}^{22}\\frac{b_{i}}{2^{23-i}}=&\\frac{b[0]}{2^{23}}+\\frac{b[1]}{2^{22}}\n",
        " +\\cdots +\\frac{b[21]}{2^2}+\\frac{b[22]}{2^1}\\nonumber\\\\\n",
        "=&\\frac{b}{2^{[23,22,...,1]}}.\\operatorname{sum()}\\nonumber\\\\\n",
        "=&\\frac{b}{2^{[1,2,...,23][::-1]}}.\\operatorname{sum()}\n",
        "\\end{align}\n",
        "\n",
        "To implement the full formula:\n",
        "$$r = \\frac{(-1)^s}{2^{127-e}} \\left( 1 + \\sum_{i=0}^{22}\\frac{b_{i}}{2^{23-i}} \\right)$$\n",
        "with \n",
        "$$e = \\sum_{i=0}^7 b_{23+i}2^i$$\n",
        "\n",
        "$$e_{\\text{max}} = \\sum_{i=0}^7 2^i$$\n",
        "\n",
        "Note that \n",
        "we have"
      ]
    },
    {
      "cell_type": "code",
      "metadata": {
        "colab_type": "code",
        "id": "4FfRykO2ekWm",
        "colab": {}
      },
      "source": [
        "import numpy as np\n",
        "def number32(BIN):\n",
        "#if True:\n",
        "    #BIN='00111110001000000000000000000000'\n",
        "    #Inverting binary string\n",
        "    b_inverted=np.array(list(BIN)[::-1]).astype(int)\n",
        "    \n",
        "    s=b_inverted[31]\n",
        "    #Exponent part\n",
        "    be=b_inverted[23:31]\n",
        "    i=np.arange(be.size)\n",
        "    e=(be*(2**i)).sum()\n",
        "    \n",
        "    bf=b_inverted[0:23]\n",
        "    i_inverted=np.arange(1,bf.size+1)[::-1]\n",
        "\n",
        "\n",
        "    numero=( (-1)**s/2**(127-e)  )*( 1 + (bf/2**i_inverted).sum() ) \n",
        "    return numero"
      ],
      "execution_count": null,
      "outputs": []
    },
    {
      "cell_type": "markdown",
      "metadata": {
        "id": "k9S2WZIXWVgE",
        "colab_type": "text"
      },
      "source": [
        "Función mejorada:"
      ]
    },
    {
      "cell_type": "code",
      "metadata": {
        "id": "ZnlNFFnQWXdf",
        "colab_type": "code",
        "colab": {
          "base_uri": "https://localhost:8080/",
          "height": 85
        },
        "outputId": "d9fae432-f173-4f0b-d4a2-e0fbc36c572f"
      },
      "source": [
        "#!/usr/bin/env python3\n",
        "import numpy as np\n",
        "def number32(BIN):\n",
        "#if True:\n",
        "    #BIN='00111110001000000000000000000000'\n",
        "    #Inverting binary string\n",
        "    print('__name__ = {}'.format(__name__))\n",
        "    b_inverted=np.array(list(BIN)[::-1]).astype(int)\n",
        "    \n",
        "    s=b_inverted[31]\n",
        "    #Exponent part\n",
        "    be=b_inverted[23:31]\n",
        "    i=np.arange(be.size)\n",
        "    e=(be*(2**i)).sum()\n",
        "    \n",
        "    bf=b_inverted[0:23]\n",
        "    i_inverted=np.arange(1,bf.size+1)[::-1]\n",
        "\n",
        "\n",
        "    numero=( (-1)**s/2**(127-e)  )*( 1 + (bf/2**i_inverted).sum() ) \n",
        "    return numero\n",
        "if __name__=='__main__':\n",
        "    x=input('Escriba una representación binaria:\\n')\n",
        "    b=number32(x)\n",
        "    print('Su número es: {}'.format(b))"
      ],
      "execution_count": 22,
      "outputs": [
        {
          "output_type": "stream",
          "text": [
            "Escriba una representación binaria:\n",
            "00111110001000000000000000000000\n",
            "__name__ = __main__\n",
            "Su número es: 0.15625\n"
          ],
          "name": "stdout"
        }
      ]
    },
    {
      "cell_type": "code",
      "metadata": {
        "colab_type": "code",
        "id": "mWbfh4NbekWo",
        "scrolled": true,
        "colab": {},
        "outputId": "3fefa19d-b440-4a87-97e8-c9de842157a8"
      },
      "source": [
        "print(number32('00111110001000000000000000000000'))"
      ],
      "execution_count": null,
      "outputs": [
        {
          "output_type": "stream",
          "text": [
            "0.15625\n"
          ],
          "name": "stdout"
        }
      ]
    },
    {
      "cell_type": "markdown",
      "metadata": {
        "colab_type": "text",
        "id": "9psQnJf6ekWq"
      },
      "source": [
        "Check aginst the implementation with `for`'s"
      ]
    },
    {
      "cell_type": "code",
      "metadata": {
        "colab_type": "code",
        "id": "ANxSuuvyekWr",
        "colab": {}
      },
      "source": [
        "# %load numtobin.py\n",
        "def num32( binary ):\n",
        "    #Inverting binary string\n",
        "    binary = binary[::-1]\n",
        "    s=binary[31]\n",
        "    #Decimal part\n",
        "    dec = 1\n",
        "    for i in range(1,24):\n",
        "        dec += int(binary[23-i])*2**-i\n",
        "    #Exponent part\n",
        "    exp = 0\n",
        "    for i in range(0,8):\n",
        "        exp += int(binary[23+i])*2**i\n",
        "    #Total number\n",
        "    number =( (-1)**int(s)/2**(127-exp) )*dec\n",
        "    return number"
      ],
      "execution_count": null,
      "outputs": []
    },
    {
      "cell_type": "code",
      "metadata": {
        "colab_type": "code",
        "id": "IUlLc8yjekWu",
        "colab": {},
        "outputId": "a7708d76-57a1-4bde-b201-02355da9bdb9"
      },
      "source": [
        "print(num32('00111110001000000000000000000000'))"
      ],
      "execution_count": null,
      "outputs": [
        {
          "output_type": "stream",
          "text": [
            "0.15625\n"
          ],
          "name": "stdout"
        }
      ]
    },
    {
      "cell_type": "markdown",
      "metadata": {
        "colab_type": "text",
        "id": "_XvzBid9ekWw"
      },
      "source": [
        "%load sln.py"
      ]
    },
    {
      "cell_type": "markdown",
      "metadata": {
        "colab_type": "text",
        "id": "WJr54n_TekWx"
      },
      "source": [
        "Single-precision system can represent real numbers within the interval $\\pm 10^{-38} \\cdots 10^{38}$, with $7-8$ decimal digits."
      ]
    },
    {
      "cell_type": "code",
      "metadata": {
        "colab_type": "code",
        "id": "rFsolRCzekWx",
        "colab": {
          "base_uri": "https://localhost:8080/",
          "height": 163
        },
        "outputId": "185b8e85-53a6-4c2f-8c35-0f219d19a6b3"
      },
      "source": [
        "#Decimal digits \n",
        "print(\"\\n\")\n",
        "print( \"Decimal digits contributions for single precision number\")\n",
        "print( 2**-23., 2**-15., 2**-5. , \"\\n\")\n",
        "\n",
        "#Largest and smallest exponent  \n",
        "emax = 0 \n",
        "for i in range(0,8):\n",
        "    emax += 2**i\n",
        "print( \"Largest and smallest exponent for single precision number\" )\n",
        "print( 2**(emax-127.), 2**(-127.),\"\\n\" )"
      ],
      "execution_count": null,
      "outputs": [
        {
          "output_type": "stream",
          "text": [
            "\n",
            "\n",
            "Decimal digits contributions for single precision number\n",
            "1.1920928955078125e-07 3.0517578125e-05 0.03125 \n",
            "\n",
            "Largest and smallest exponent for single precision number\n",
            "3.402823669209385e+38 5.877471754111438e-39 \n",
            "\n"
          ],
          "name": "stdout"
        }
      ]
    },
    {
      "cell_type": "markdown",
      "metadata": {
        "colab_type": "text",
        "id": "8qJB0mI5ekW0"
      },
      "source": [
        "### Double-precision numbers"
      ]
    },
    {
      "cell_type": "markdown",
      "metadata": {
        "colab_type": "text",
        "id": "Dvz9JGLvekW0"
      },
      "source": [
        "Double-precision numbers are used when high accuracy is required. These numbers are represented by a **64-bits** (Binary digIT) lenght binary number, where the real number is stored following the next rules:\n",
        "\n",
        "![64-bits](http://upload.wikimedia.org/wikipedia/commons/thumb/a/a9/IEEE_754_Double_Floating_Point_Format.svg/618px-IEEE_754_Double_Floating_Point_Format.svg.png)\n",
        "\n",
        "1. The fist digit (called *s*) indicates the sign of the number (s=0 means a positive number, s=1 a negative one).\n",
        "2. The next 11 bits represent the exponent of the number.\n",
        "3. The last  bits represent the fractional part of the number.\n",
        "\n",
        "The formula for recovering the real number is then given by:\n",
        "\n",
        "$$r = (-1)^s\\times \\left( 1 + \\sum_{i=1}^{52}b_{52-i}2^{-i} \\right)\\times 2^{e-1023}$$\n",
        "\n",
        "where $s$ is the sign, $b_{23-i}$ the fraction bits and $e$ is given by:\n",
        "\n",
        "$$e = \\sum_{i=0}^{10} b_{52+i}2^i$$\n",
        "\n",
        "Double-precision system can represent real numbers within the interval $\\pm 10^{-308} \\cdots 10^{308}$, with $16-17$ decimal digits."
      ]
    },
    {
      "cell_type": "code",
      "metadata": {
        "id": "ov25Qz_Ys-d_",
        "colab_type": "code",
        "colab": {},
        "outputId": "57fa72b5-1133-45c8-ebe6-57033d878cd9"
      },
      "source": [
        "1e307 * 10"
      ],
      "execution_count": null,
      "outputs": [
        {
          "output_type": "execute_result",
          "data": {
            "text/plain": [
              "1e+308"
            ]
          },
          "metadata": {
            "tags": []
          },
          "execution_count": 11
        }
      ]
    },
    {
      "cell_type": "code",
      "metadata": {
        "id": "9kgkW6vMs-eI",
        "colab_type": "code",
        "colab": {},
        "outputId": "f9a9058e-8e8e-441b-cf32-83a5e1319b15"
      },
      "source": [
        "1e307 * 20"
      ],
      "execution_count": null,
      "outputs": [
        {
          "output_type": "execute_result",
          "data": {
            "text/plain": [
              "inf"
            ]
          },
          "metadata": {
            "tags": []
          },
          "execution_count": 12
        }
      ]
    },
    {
      "cell_type": "code",
      "metadata": {
        "id": "8mF-3743s-eZ",
        "colab_type": "code",
        "colab": {},
        "outputId": "c073d96f-f03f-4756-9052-2dc256d1671e"
      },
      "source": [
        "1e-323"
      ],
      "execution_count": null,
      "outputs": [
        {
          "output_type": "execute_result",
          "data": {
            "text/plain": [
              "1e-323"
            ]
          },
          "metadata": {
            "tags": []
          },
          "execution_count": 31
        }
      ]
    },
    {
      "cell_type": "code",
      "metadata": {
        "id": "5Gfq_00Cs-ek",
        "colab_type": "code",
        "colab": {},
        "outputId": "cf8741b1-fe32-4893-8313-552f14e3c9ed"
      },
      "source": [
        "1e-324"
      ],
      "execution_count": null,
      "outputs": [
        {
          "output_type": "execute_result",
          "data": {
            "text/plain": [
              "0.0"
            ]
          },
          "metadata": {
            "tags": []
          },
          "execution_count": 42
        }
      ]
    },
    {
      "cell_type": "markdown",
      "metadata": {
        "colab_type": "text",
        "id": "Frp255HEekW1"
      },
      "source": [
        "### **ACTIVITY**\n",
        "\n",
        "**1.** Write a python script that calculates the double precision number represented by a 64-bits binary.\n",
        "\n",
        "    \n",
        "**2.** What is the number represented by:\n",
        "\n",
        "0 10000000011 1011100100001111111111111111111111111111111111111111\n",
        "\n",
        "<font color='white'>\n",
        "    **ANSWER:**  27.56640625"
      ]
    },
    {
      "cell_type": "markdown",
      "metadata": {
        "colab_type": "text",
        "id": "PuIokoT9ekW2"
      },
      "source": [
        "## Finite Arithmetic"
      ]
    },
    {
      "cell_type": "markdown",
      "metadata": {
        "colab_type": "text",
        "id": "4W64J6WhekW2"
      },
      "source": [
        "The most basic arithmetic operations are addition and multiplication. Further operations such as subtraction, division and power are secondary as they can be reached by iteratively use the latter ones."
      ]
    },
    {
      "cell_type": "markdown",
      "metadata": {
        "colab_type": "text",
        "id": "EMlWF2h_ekW3"
      },
      "source": [
        "### Addition"
      ]
    },
    {
      "cell_type": "markdown",
      "metadata": {
        "colab_type": "text",
        "id": "BXt1BtnPekW4"
      },
      "source": [
        "<!-- As mentioned before, arithmetic operations are not exact in a computer due to the inherent limitations in number representing. Even when adding two already approximate numbers, say a single-precision couple of numbers, the result may not be a representable number, being necessary to apply approximation rules.\n",
        "```python\n",
        "N = 9\n",
        "xe=0; x = 0; \n",
        "for i in range(N):\n",
        "    xe += np.float(1.0/N)\n",
        "    x += np.float16(1.0/N)\n",
        "print('expected: {}; obtained: {}'.format(xe,x))\n",
        "xe\n",
        "```\n",
        "Note that the sucessive application of rounded-off numbers produces a final result less precise.\n",
        "```python\n",
        "print( \"5/7\".format( np.float32(5/7.) ) )\n",
        "print( \"1/3\", np.float32(1/3.) )\n",
        "print( np.float32(5/7.+1/3.), 22/21. )\n",
        "```\n",
        "-->"
      ]
    },
    {
      "cell_type": "code",
      "metadata": {
        "colab_type": "code",
        "id": "scamzqF1UiO-",
        "colab": {
          "base_uri": "https://localhost:8080/",
          "height": 35
        },
        "outputId": "97a18d7d-b5a4-42dd-a2fc-97185eee043c"
      },
      "source": [
        "import numpy as np\n",
        "print(\"Error:\", np.float32(5/7.+1/3.)-22/21.)"
      ],
      "execution_count": null,
      "outputs": [
        {
          "output_type": "stream",
          "text": [
            "Error: 5.676632830464712e-08\n"
          ],
          "name": "stdout"
        }
      ]
    },
    {
      "cell_type": "markdown",
      "metadata": {
        "colab_type": "text",
        "id": "yJUY315tUjn-"
      },
      "source": [
        "Therefore, at the numerical computation level we must be aware that an expected \n",
        "zero result is really\n",
        "$$0\\approx 10^{-16}$$\n"
      ]
    },
    {
      "cell_type": "markdown",
      "metadata": {
        "colab_type": "text",
        "id": "vdb_-iBaekW_"
      },
      "source": [
        "### Multiplication"
      ]
    },
    {
      "cell_type": "markdown",
      "metadata": {
        "colab_type": "text",
        "id": "FY_9Ec5VekXA"
      },
      "source": [
        "For multiplication it is applied the same round-off rules as the addition, however, be aware that multiplicative errors propagate more quickly than additive errors."
      ]
    },
    {
      "cell_type": "code",
      "metadata": {
        "colab_type": "code",
        "id": "Sj_QSq39ekXA",
        "scrolled": true,
        "colab": {
          "base_uri": "https://localhost:8080/",
          "height": 35
        },
        "outputId": "c8cc779b-b7d7-4f80-dc04-75e795eff040"
      },
      "source": [
        "N = 20\n",
        "xe=1; x = 1\n",
        "for i in range(N):\n",
        "    xe *= np.float(2.0**(1.0/N))\n",
        "    x *= np.float16(2.0**(1.0/N))\n",
        "print('expected: {}; obtained: {}'.format(xe,x))"
      ],
      "execution_count": null,
      "outputs": [
        {
          "output_type": "stream",
          "text": [
            "expected: 2.000000000000003; obtained: 1.9958053041750938\n"
          ],
          "name": "stdout"
        }
      ]
    },
    {
      "cell_type": "code",
      "metadata": {
        "colab_type": "code",
        "id": "xYyfjPVNXfdM",
        "colab": {}
      },
      "source": [
        "N = 20\n",
        "xe=1; x = 1\n",
        "for i in range(N):\n",
        "    xe *= 2.0**(1.0/N)"
      ],
      "execution_count": null,
      "outputs": []
    },
    {
      "cell_type": "code",
      "metadata": {
        "colab_type": "code",
        "id": "V6iuTVtpYx0z",
        "colab": {
          "base_uri": "https://localhost:8080/",
          "height": 35
        },
        "outputId": "b7e66df6-48ed-4483-9e00-039f96c7b748"
      },
      "source": [
        "np.float128(3.1415926535897932384626433832795028841971)"
      ],
      "execution_count": null,
      "outputs": [
        {
          "output_type": "execute_result",
          "data": {
            "text/plain": [
              "3.141592653589793116"
            ]
          },
          "metadata": {
            "tags": []
          },
          "execution_count": 46
        }
      ]
    },
    {
      "cell_type": "code",
      "metadata": {
        "colab_type": "code",
        "id": "eZSEwotrZqNK",
        "colab": {
          "base_uri": "https://localhost:8080/",
          "height": 35
        },
        "outputId": "3fbeb6c1-d2f0-4a60-c674-7786a6d04c97"
      },
      "source": [
        "np.float(3.1415926535897932384626433832795028841971)"
      ],
      "execution_count": null,
      "outputs": [
        {
          "output_type": "execute_result",
          "data": {
            "text/plain": [
              "3.141592653589793"
            ]
          },
          "metadata": {
            "tags": []
          },
          "execution_count": 54
        }
      ]
    },
    {
      "cell_type": "code",
      "metadata": {
        "colab_type": "code",
        "id": "yMgja3peZJIb",
        "colab": {
          "base_uri": "https://localhost:8080/",
          "height": 35
        },
        "outputId": "f63bfb3c-d4aa-49c2-c8f8-f32300f020cb"
      },
      "source": [
        "np.float64(3.1415926535897932384626433832795028841971)"
      ],
      "execution_count": null,
      "outputs": [
        {
          "output_type": "execute_result",
          "data": {
            "text/plain": [
              "3.141592653589793"
            ]
          },
          "metadata": {
            "tags": []
          },
          "execution_count": 49
        }
      ]
    },
    {
      "cell_type": "code",
      "metadata": {
        "colab_type": "code",
        "id": "0A-QGfXKZAAj",
        "colab": {
          "base_uri": "https://localhost:8080/",
          "height": 35
        },
        "outputId": "7857977b-4b31-4d4c-a492-20fce75cab80"
      },
      "source": [
        "np.float32(3.1415926535897932384626433832795028841971)"
      ],
      "execution_count": null,
      "outputs": [
        {
          "output_type": "execute_result",
          "data": {
            "text/plain": [
              "3.1415927"
            ]
          },
          "metadata": {
            "tags": []
          },
          "execution_count": 50
        }
      ]
    },
    {
      "cell_type": "code",
      "metadata": {
        "colab_type": "code",
        "id": "Q8j81laNZQf7",
        "colab": {
          "base_uri": "https://localhost:8080/",
          "height": 35
        },
        "outputId": "1a6b37cf-3f62-479c-e55a-98a0a5ace425"
      },
      "source": [
        "np.float16(3.1415926535897932384626433832795028841971)"
      ],
      "execution_count": null,
      "outputs": [
        {
          "output_type": "execute_result",
          "data": {
            "text/plain": [
              "3.14"
            ]
          },
          "metadata": {
            "tags": []
          },
          "execution_count": 51
        }
      ]
    },
    {
      "cell_type": "markdown",
      "metadata": {
        "colab_type": "text",
        "id": "F21OUbxcekXD"
      },
      "source": [
        "The final result has an error at the third decimal digit, one more than the case of addition."
      ]
    },
    {
      "cell_type": "markdown",
      "metadata": {
        "colab_type": "text",
        "id": "uvZ8RXy6ekXE"
      },
      "source": [
        "**ACTIVITY**\n",
        "\n",
        "Find the error associated to the finite representation in the next operations \n",
        "\n",
        "\n",
        "\n",
        "$$\n",
        "x-u, \\frac{x-u}{w}, (x-u)*v, u+v \n",
        "$$\n",
        "\n",
        "considering the values \n",
        "\n",
        "$$\n",
        "x = \\frac{5}{7}, y = \\frac{1}{3}, u = 0.71425\n",
        "$$\n",
        "\n",
        "\n",
        "\n",
        "$$\n",
        "v = 0.98765\\times 10^5, w = 0.111111\\times 10^{-4}\n",
        "$$\n"
      ]
    },
    {
      "cell_type": "code",
      "metadata": {
        "colab_type": "code",
        "id": "h9yFZu_2ekXF",
        "colab": {}
      },
      "source": [
        ""
      ],
      "execution_count": null,
      "outputs": []
    }
  ]
}