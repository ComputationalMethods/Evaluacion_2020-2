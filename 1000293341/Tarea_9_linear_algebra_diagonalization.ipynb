{
  "nbformat": 4,
  "nbformat_minor": 0,
  "metadata": {
    "colab": {
      "name": "Tarea_9_linear-algebra-diagonalization.ipynb",
      "provenance": []
    },
    "kernelspec": {
      "name": "python3",
      "display_name": "Python 3"
    }
  },
  "cells": [
    {
      "cell_type": "code",
      "metadata": {
        "id": "-8UiwF3kYz8K"
      },
      "source": [
        "import numpy as np"
      ],
      "execution_count": 1,
      "outputs": []
    },
    {
      "cell_type": "code",
      "metadata": {
        "id": "F8NQIK9GZ8ps"
      },
      "source": [
        "def argeig(A):\n",
        "  '''\n",
        "  Función que diagonaliza con orden ascendente en los autovalores\n",
        "  '''\n",
        "  \n",
        "  l,V = np.linalg.eig(A)\n",
        "  index = np.abs(l).argsort()\n",
        "  argl = np.sort(l)\n",
        "  argV = np.c_[tuple([np.c_[V[:,i]] for i in index])]\n",
        "\n",
        "  return argl, argV"
      ],
      "execution_count": 2,
      "outputs": []
    }
  ]
}