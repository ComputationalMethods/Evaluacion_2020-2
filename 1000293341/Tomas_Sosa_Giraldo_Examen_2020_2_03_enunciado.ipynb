{
  "nbformat": 4,
  "nbformat_minor": 0,
  "metadata": {
    "kernelspec": {
      "display_name": "Python 3",
      "language": "python",
      "name": "python3"
    },
    "language_info": {
      "codemirror_mode": {
        "name": "ipython",
        "version": 3
      },
      "file_extension": ".py",
      "mimetype": "text/x-python",
      "name": "python",
      "nbconvert_exporter": "python",
      "pygments_lexer": "ipython3",
      "version": "3.7.3"
    },
    "colab": {
      "name": "Solución - Examen_2020_2_03_enunciado.ipynb",
      "provenance": []
    }
  },
  "cells": [
    {
      "cell_type": "markdown",
      "metadata": {
        "id": "IqFyA-btWqvx"
      },
      "source": [
        "## Examen 3\n",
        "<a href=\"https://colab.research.google.com/github/restrepo/ComputationalMethods/blob/master/exams/Examen_2020_2_03_enunciado.ipynb\" target=\"_parent\"><img src=\"https://colab.research.google.com/assets/colab-badge.svg\" alt=\"Open In Colab\"/></a>\n",
        "1) Determine el espacio de configuraciones, en los ejes $(x,\\dot{x})$, del movimiento horizontal sin fricción de una masa de $0.2\\ \\text{Kg}$ atada a un resorte de constante elástica $k=1\\ \\text{N/m}$.\n",
        "\n",
        "\n",
        "2) Considere una muestra de Strontium-90, ${}^{98}_{38}\\text{Sr}$, que contieme inicialmente 1000 núcleos de Strontium-90 sin decaer. En la base de datos: \n",
        "\n",
        "[https://raw.githubusercontent.com/restrepo/ComputationalMethods/master/data/strontium.json](https://raw.githubusercontent.com/restrepo/ComputationalMethods/master/data/strontium.json) \n",
        "\n",
        "se tienen los datos de decaimiento durante 200 años. Despues de 10 años quedan 809 nucleos sin decaer, después de 22 años quedan 564 y así sucesivamente. \n",
        "\n",
        "El decaimiento radiativo está determinado por la formula\n",
        "$$\n",
        "N(t)=N_0 \\operatorname{e}^{-\\lambda t}\\,,\\qquad \\lambda=\\frac{\\ln(2)}{\\tau}\n",
        "$$\n",
        "* $N(t)$ es el número de núcleos radioactivos que qedan despues de un tiempo $t$\n",
        "* $N_0$ es el número inicial de las partículas presentes (es decir, $t=0$)\n",
        "* $\\lambda$ es la constante de decaimiento\n",
        "* $\\tau$ es la vida medía, es decir, el tiempo durante el cual la mitad de la muestra radioactiva ha decaído.\n",
        "\n",
        "(a) Realice un fit a los datos y determine la vida media con su respectivo error.\n",
        "\n",
        "(b) Grafique los datos como puntos en el plano $t$, $N(t)$ y el correspondiente al fit"
      ]
    },
    {
      "cell_type": "markdown",
      "metadata": {
        "id": "pPFdckQJY1vz"
      },
      "source": [
        "Solución"
      ]
    },
    {
      "cell_type": "markdown",
      "metadata": {
        "id": "yzkBFryAY3pn"
      },
      "source": [
        "1)"
      ]
    },
    {
      "cell_type": "markdown",
      "metadata": {
        "id": "TV53Fbf7Y_8v"
      },
      "source": [
        "Al ser un movimiento horizontal sin fricciones es claro que se obtiene, por segunda Ley de Newton, la siguiente ecuación:\n",
        "\n",
        "$$\n",
        "-k\\boldsymbol{x} = m\\boldsymbol{a}\n",
        "$$\n",
        "\n",
        "Así:\n",
        "\n",
        "$$ \\frac{\\operatorname{d}\\boldsymbol{x}}{\\operatorname{d}t} = \\boldsymbol{v} $$\n",
        "$$ \\frac{\\operatorname{d}\\boldsymbol{v}}{\\operatorname{d}t} = -\\frac{k}{m}\\boldsymbol{x} $$\n",
        "\n",
        "\\begin{align}\n",
        "\\frac{\\operatorname{d}}{\\operatorname{d}t} U=\\begin{pmatrix}v\\\\\n",
        " -\\dfrac{k}{m}x \\end{pmatrix},\n",
        "\\end{align}\n",
        "donde\n",
        "\\begin{align}\n",
        " U=\\begin{pmatrix}x\\\\\n",
        "v \\end{pmatrix}.\n",
        "\\end{align}"
      ]
    },
    {
      "cell_type": "code",
      "metadata": {
        "colab": {
          "base_uri": "https://localhost:8080/"
        },
        "id": "0Gh83E5iej-I",
        "outputId": "b1a3000f-b20e-499f-dc68-51b120b582d1"
      },
      "source": [
        "%pylab inline\n",
        "from scipy.integrate import odeint"
      ],
      "execution_count": 1,
      "outputs": [
        {
          "output_type": "stream",
          "text": [
            "Populating the interactive namespace from numpy and matplotlib\n"
          ],
          "name": "stdout"
        }
      ]
    },
    {
      "cell_type": "code",
      "metadata": {
        "id": "BnHLtpzIdm4J"
      },
      "source": [
        "# Definimos la función\n",
        "def du_dt(U,t,k=1.,m=0.2):\n",
        "    x,v = U\n",
        "    dudt = [v, -k/m*x]\n",
        "    return dudt\n",
        "\n",
        "U0 = [0,0]  # Condiciones iniciales\n",
        "t = np.linspace(0,30,10000) # Damos valores al parametro\n",
        "\n",
        "# Solución del sistema\n",
        "u = odeint(du_dt,U0,t) "
      ],
      "execution_count": 2,
      "outputs": []
    },
    {
      "cell_type": "code",
      "metadata": {
        "id": "SumO7EpQWqvy",
        "colab": {
          "base_uri": "https://localhost:8080/",
          "height": 300
        },
        "outputId": "4828a18f-f5c9-4099-92e3-8674f52d1da2"
      },
      "source": [
        "# Definición de condiciones iniciales aleatorias\n",
        "n = 100\n",
        "xi = np.random.uniform(-10,10,n)\n",
        "vi = np.random.uniform(-10,10,n)\n",
        "\n",
        "t = np.linspace(0,30,10000)\n",
        "\n",
        "# Cálculo de x,v en las distintas condiciones iniciales\n",
        "for x,v in zip(xi,vi):\n",
        "    U0 = [x,v]\n",
        "    u = odeint(du_dt,U0,t) # Resolvemos el problema para las condiciones iniciales aleatorias\n",
        "    plt.plot(u[:,0],u[:,1],c='b',lw=0.1) # Graficamos para cada solución hallada\n",
        "\n",
        "# Graficación\n",
        "plt.title('Espacio de configuraciones del resorte')\n",
        "plt.xlabel('$x(t)$',size=13)\n",
        "plt.ylabel('$v(t)$',size=13)\n",
        "plt.show()"
      ],
      "execution_count": 3,
      "outputs": [
        {
          "output_type": "display_data",
          "data": {
            "image/png": "[encoded data removed]",
            "text/plain": [
              "<Figure size 432x288 with 1 Axes>"
            ]
          },
          "metadata": {
            "tags": [],
            "needs_background": "light"
          }
        }
      ]
    },
    {
      "cell_type": "markdown",
      "metadata": {
        "id": "u3hIkS3ygBuL"
      },
      "source": [
        "2)"
      ]
    },
    {
      "cell_type": "code",
      "metadata": {
        "id": "5EERCjWkihVn"
      },
      "source": [
        "import pandas as pd\n",
        "from scipy import optimize"
      ],
      "execution_count": 5,
      "outputs": []
    },
    {
      "cell_type": "markdown",
      "metadata": {
        "id": "yBBTptgQinPp"
      },
      "source": [
        "a)"
      ]
    },
    {
      "cell_type": "code",
      "metadata": {
        "colab": {
          "base_uri": "https://localhost:8080/",
          "height": 669
        },
        "id": "yfTHFAdYgBVd",
        "outputId": "846e433d-eefe-4e82-a2d3-e79a6d105a48"
      },
      "source": [
        "# Lectura de los datos\n",
        "df_ = pd.read_json('https://raw.githubusercontent.com/restrepo/ComputationalMethods/master/data/strontium.json')\n",
        "df_"
      ],
      "execution_count": 6,
      "outputs": [
        {
          "output_type": "execute_result",
          "data": {
            "text/html": [
              "<div>\n",
              "<style scoped>\n",
              "    .dataframe tbody tr th:only-of-type {\n",
              "        vertical-align: middle;\n",
              "    }\n",
              "\n",
              "    .dataframe tbody tr th {\n",
              "        vertical-align: top;\n",
              "    }\n",
              "\n",
              "    .dataframe thead th {\n",
              "        text-align: right;\n",
              "    }\n",
              "</style>\n",
              "<table border=\"1\" class=\"dataframe\">\n",
              "  <thead>\n",
              "    <tr style=\"text-align: right;\">\n",
              "      <th></th>\n",
              "      <th>t</th>\n",
              "      <th>N(t)</th>\n",
              "    </tr>\n",
              "  </thead>\n",
              "  <tbody>\n",
              "    <tr>\n",
              "      <th>0</th>\n",
              "      <td>0</td>\n",
              "      <td>1000</td>\n",
              "    </tr>\n",
              "    <tr>\n",
              "      <th>1</th>\n",
              "      <td>10</td>\n",
              "      <td>809</td>\n",
              "    </tr>\n",
              "    <tr>\n",
              "      <th>2</th>\n",
              "      <td>22</td>\n",
              "      <td>564</td>\n",
              "    </tr>\n",
              "    <tr>\n",
              "      <th>3</th>\n",
              "      <td>33</td>\n",
              "      <td>480</td>\n",
              "    </tr>\n",
              "    <tr>\n",
              "      <th>4</th>\n",
              "      <td>40</td>\n",
              "      <td>370</td>\n",
              "    </tr>\n",
              "    <tr>\n",
              "      <th>5</th>\n",
              "      <td>50</td>\n",
              "      <td>285</td>\n",
              "    </tr>\n",
              "    <tr>\n",
              "      <th>6</th>\n",
              "      <td>60</td>\n",
              "      <td>199</td>\n",
              "    </tr>\n",
              "    <tr>\n",
              "      <th>7</th>\n",
              "      <td>70</td>\n",
              "      <td>169</td>\n",
              "    </tr>\n",
              "    <tr>\n",
              "      <th>8</th>\n",
              "      <td>80</td>\n",
              "      <td>131</td>\n",
              "    </tr>\n",
              "    <tr>\n",
              "      <th>9</th>\n",
              "      <td>99</td>\n",
              "      <td>101</td>\n",
              "    </tr>\n",
              "    <tr>\n",
              "      <th>10</th>\n",
              "      <td>111</td>\n",
              "      <td>70</td>\n",
              "    </tr>\n",
              "    <tr>\n",
              "      <th>11</th>\n",
              "      <td>110</td>\n",
              "      <td>54</td>\n",
              "    </tr>\n",
              "    <tr>\n",
              "      <th>12</th>\n",
              "      <td>133</td>\n",
              "      <td>42</td>\n",
              "    </tr>\n",
              "    <tr>\n",
              "      <th>13</th>\n",
              "      <td>130</td>\n",
              "      <td>32</td>\n",
              "    </tr>\n",
              "    <tr>\n",
              "      <th>14</th>\n",
              "      <td>140</td>\n",
              "      <td>25</td>\n",
              "    </tr>\n",
              "    <tr>\n",
              "      <th>15</th>\n",
              "      <td>166</td>\n",
              "      <td>21</td>\n",
              "    </tr>\n",
              "    <tr>\n",
              "      <th>16</th>\n",
              "      <td>177</td>\n",
              "      <td>16</td>\n",
              "    </tr>\n",
              "    <tr>\n",
              "      <th>17</th>\n",
              "      <td>170</td>\n",
              "      <td>13</td>\n",
              "    </tr>\n",
              "    <tr>\n",
              "      <th>18</th>\n",
              "      <td>199</td>\n",
              "      <td>9</td>\n",
              "    </tr>\n",
              "    <tr>\n",
              "      <th>19</th>\n",
              "      <td>200</td>\n",
              "      <td>7</td>\n",
              "    </tr>\n",
              "  </tbody>\n",
              "</table>\n",
              "</div>"
            ],
            "text/plain": [
              "      t  N(t)\n",
              "0     0  1000\n",
              "1    10   809\n",
              "2    22   564\n",
              "3    33   480\n",
              "4    40   370\n",
              "5    50   285\n",
              "6    60   199\n",
              "7    70   169\n",
              "8    80   131\n",
              "9    99   101\n",
              "10  111    70\n",
              "11  110    54\n",
              "12  133    42\n",
              "13  130    32\n",
              "14  140    25\n",
              "15  166    21\n",
              "16  177    16\n",
              "17  170    13\n",
              "18  199     9\n",
              "19  200     7"
            ]
          },
          "metadata": {
            "tags": []
          },
          "execution_count": 6
        }
      ]
    },
    {
      "cell_type": "code",
      "metadata": {
        "id": "4OHPLH_-tGTL"
      },
      "source": [
        "# Se reescriben los datos de N para poder leer dicha columna\n",
        "df = pd.DataFrame( {'t': df_.t,\n",
        "                  'N': [1000, 809, 564, 480, 370, 285, 199, 169, 131, 101, 70, 54, 42, 32, 25, 21, 16, 13, 9, 7]} )"
      ],
      "execution_count": 7,
      "outputs": []
    },
    {
      "cell_type": "code",
      "metadata": {
        "id": "eRRHbSnKiw8U",
        "colab": {
          "base_uri": "https://localhost:8080/"
        },
        "outputId": "f529dc72-dff6-4a9e-e65d-409b8afd314f"
      },
      "source": [
        "# Definición de la función deseada\n",
        "def func(t, N0, λ):\n",
        "    return N0*np.exp(-λ*t)\n",
        "\n",
        "# Ajuste\n",
        "N,ΔN = optimize.curve_fit(func, df.t, df.N)"
      ],
      "execution_count": 8,
      "outputs": [
        {
          "output_type": "stream",
          "text": [
            "/usr/local/lib/python3.6/dist-packages/pandas/core/series.py:726: RuntimeWarning: overflow encountered in exp\n",
            "  result = getattr(ufunc, method)(*inputs, **kwargs)\n"
          ],
          "name": "stderr"
        }
      ]
    },
    {
      "cell_type": "markdown",
      "metadata": {
        "id": "g-KwlJFGyg3X"
      },
      "source": [
        "Nótese que $N$ es un array, cuyo segundo componente es λ, donde:\n",
        "\n",
        "$$\n",
        "\\lambda=\\frac{\\ln(2)}{\\tau}\n",
        "$$\n",
        "donde $\\tau$ es la vida media\n",
        "\n",
        "Así,\n",
        "\n",
        "$$\n",
        "\\tau=\\frac{\\ln(2)}{\\lambda}\n",
        "$$"
      ]
    },
    {
      "cell_type": "code",
      "metadata": {
        "colab": {
          "base_uri": "https://localhost:8080/"
        },
        "id": "JzVsR5ee8FQ6",
        "outputId": "5447af56-bc5a-4a5e-e425-27a0411d0703"
      },
      "source": [
        "# El error viene dado por la raíz cuadrada de la matriz ΔN obtenida\n",
        "σ = np.sqrt(np.diag(ΔN))\n",
        "\n",
        "# Vida media y error\n",
        "τ = np.log(2)/N[1]\n",
        "Δτ = σ[1]/N[1]  # Error relativo de τ\n",
        "\n",
        "print('La vida media es τ = {:.2f} ± {:.2f}'.format(τ,Δτ))"
      ],
      "execution_count": 9,
      "outputs": [
        {
          "output_type": "stream",
          "text": [
            "La vida media es τ = 27.64 ± 0.02\n"
          ],
          "name": "stdout"
        }
      ]
    },
    {
      "cell_type": "markdown",
      "metadata": {
        "id": "rCUBHL2XyYQH"
      },
      "source": [
        "b)"
      ]
    },
    {
      "cell_type": "code",
      "metadata": {
        "colab": {
          "base_uri": "https://localhost:8080/",
          "height": 297
        },
        "id": "FL67qq0FsSi8",
        "outputId": "e276706c-f7b0-45d9-8d84-e80668a4d917"
      },
      "source": [
        "# Modelo\n",
        "t = np.linspace(0, df.t.max(), 1000)\n",
        "fit = func(t, *N)\n",
        "\n",
        "# Graficación\n",
        "plt.plot(df.t, df.N, \"ko\", label=\"Datos\")\n",
        "plt.plot(t, fit, \"c-\", label=\"Fit\")\n",
        "plt.title(\"Decaimiento radioactivo\")\n",
        "plt.legend(loc=\"upper right\")\n",
        "plt.xlabel('$t$')\n",
        "plt.ylabel('$N(t)$')\n",
        "plt.show()"
      ],
      "execution_count": 14,
      "outputs": [
        {
          "output_type": "display_data",
          "data": {
            "image/png": "[encoded data removed]",
            "text/plain": [
              "<Figure size 432x288 with 1 Axes>"
            ]
          },
          "metadata": {
            "tags": [],
            "needs_background": "light"
          }
        }
      ]
    }
  ]
}