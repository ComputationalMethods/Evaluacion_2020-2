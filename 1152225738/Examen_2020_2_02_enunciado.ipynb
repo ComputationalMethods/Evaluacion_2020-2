{
  "nbformat": 4,
  "nbformat_minor": 0,
  "metadata": {
    "colab": {
      "name": "Examen_2020_2_02_enunciado.ipynb",
      "provenance": []
    },
    "kernelspec": {
      "display_name": "Python 3",
      "language": "python",
      "name": "python3"
    },
    "language_info": {
      "codemirror_mode": {
        "name": "ipython",
        "version": 3
      },
      "file_extension": ".py",
      "mimetype": "text/x-python",
      "name": "python",
      "nbconvert_exporter": "python",
      "pygments_lexer": "ipython3",
      "version": "3.7.3"
    }
  },
  "cells": [
    {
      "cell_type": "markdown",
      "metadata": {
        "id": "JY-4Stf8NHxq"
      },
      "source": [
        "**Parcial 2_ Evelyn Dayana Zagarra Piedrahita **\n",
        "\n"
      ]
    },
    {
      "cell_type": "markdown",
      "metadata": {
        "id": "CN-nz6iCZVao"
      },
      "source": [
        "I) The period of a pendulum of length l oscillating at a large angle $\\alpha$ is given by\n",
        "$$\n",
        "T=T_{0} \\frac{\\sqrt{2}}{\\pi} \\int_{0}^{\\alpha} \\frac{d \\theta}{(\\cos \\theta-\\cos \\alpha)^{\\frac{1}{2}}}\n",
        "$$\n",
        "where\n",
        "$$\n",
        "T_{0}=2 \\pi \\sqrt{\\frac{l}{g}}\n",
        "$$\n",
        "is the period of the same pendulum at small amplitudes. Any numerical evaluation of the integral as is would fail (explain why). If we change the variable by writing:\n",
        "$$\n",
        "\\sin \\frac{\\theta}{2}=\\sin \\frac{\\alpha}{2} \\sin \\phi\n",
        "$$\n",
        "we can get:\n",
        "$$\n",
        "T=\\frac{2 T_{0}}{\\pi} \\int_{0}^{\\frac{\\pi}{2}} \\frac{d \\phi}{\\left(1-\\sin ^{2} \\frac{\\alpha}{2} \\sin ^{2} \\phi\\right)^{\\frac{1}{2}}}\n",
        "$$\n",
        "which is a well-behaved integral. Write a program to use the above integral to calculate the ratio $T/T_0$ for integral amplitudes $0^\\circ \\le\\alpha \\le 90^\\circ$. Output these values as a pandas dataframe showing the amplitude in degrees and radians as well as $T/T_0$, and make a plot with the two columns. Explain the result when $\\alpha = 0.$ "
      ]
    },
    {
      "cell_type": "markdown",
      "metadata": {
        "id": "T2NF1cTIzB_Y"
      },
      "source": [
        "Vamon a utilizar el numero de cedula como punto inicial del generador de numeros aleatorios."
      ]
    },
    {
      "cell_type": "code",
      "metadata": {
        "id": "FV_jiqG4zq4O"
      },
      "source": [
        "from scipy import interpolate\n",
        "import numpy as np\n",
        "from scipy.misc import derivative\n",
        "import matplotlib.pyplot as plt\n",
        "from scipy import integrate\n",
        "import pandas as pd\n"
      ],
      "execution_count": 86,
      "outputs": []
    },
    {
      "cell_type": "code",
      "metadata": {
        "id": "vJG9qtbKAsSu"
      },
      "source": [
        "def T0(l,g=9.8):\n",
        "  return 2*np.pi*np.sqrt(l/g)\n",
        "def T(b,l,g=9.8):\n",
        "  b=np.asarray(b)\n",
        "  Z=np.sin(b/2)\n",
        "  return (2*T0(l,g)/np.pi)*integrate.quad(lambda Φ:1/(np.sqrt(1-Z**2*np.sin(Φ)**2)),0,np.pi/2)[0]"
      ],
      "execution_count": 147,
      "outputs": []
    },
    {
      "cell_type": "code",
      "metadata": {
        "id": "aCiFbRWaBjO-"
      },
      "source": [
        "#Para poder usar el conjunto de valores de α necesito vectorizar T\n",
        "T_V=np.vectorize(T)\n",
        "#tomemos la longitud como uno para poder trabajar\n",
        "l=1"
      ],
      "execution_count": 113,
      "outputs": []
    },
    {
      "cell_type": "code",
      "metadata": {
        "id": "7fPm9JGgAoIH"
      },
      "source": [
        "#definimos los valores para α\n",
        "b = np.linspace(0,np.pi/2,50)\n",
        "#Evaluando la integral para cada uno de los angulos alpha, y hacemos arreglo para guardar los valores de la integral\n",
        "integral = np.zeros(len(b)) \n"
      ],
      "execution_count": 148,
      "outputs": []
    },
    {
      "cell_type": "code",
      "metadata": {
        "id": "524O5j6iDJ88"
      },
      "source": [
        "#debemos definir los limites de la integral\n",
        "x_1=0\n",
        "x_2=np.pi/2\n",
        "for i in range(0, len(b)):\n",
        "  integral[i] = T(b[i], x_1, x_2)"
      ],
      "execution_count": 149,
      "outputs": []
    },
    {
      "cell_type": "code",
      "metadata": {
        "id": "X0P7YseAEpoS",
        "outputId": "f99abd6f-0f6a-4e2a-a833-78659e42cc57",
        "colab": {
          "base_uri": "https://localhost:8080/"
        }
      },
      "source": [
        "T_T0 = (2/np.pi)*integral\n",
        "T_T0"
      ],
      "execution_count": 150,
      "outputs": [
        {
          "output_type": "execute_result",
          "data": {
            "text/plain": [
              "array([0., 0., 0., 0., 0., 0., 0., 0., 0., 0., 0., 0., 0., 0., 0., 0., 0.,\n",
              "       0., 0., 0., 0., 0., 0., 0., 0., 0., 0., 0., 0., 0., 0., 0., 0., 0.,\n",
              "       0., 0., 0., 0., 0., 0., 0., 0., 0., 0., 0., 0., 0., 0., 0., 0.])"
            ]
          },
          "metadata": {
            "tags": []
          },
          "execution_count": 150
        }
      ]
    },
    {
      "cell_type": "code",
      "metadata": {
        "id": "K0N-YPS-FeJ2",
        "outputId": "4ec0818f-6c2d-4e9e-fa5d-3ee0f2ad8026",
        "colab": {
          "base_uri": "https://localhost:8080/"
        }
      },
      "source": [
        "#debemos definir una lista con la longitud de α \n",
        "T0l = np.ones(b.shape[0])*T0(1)\n",
        "T0l"
      ],
      "execution_count": 151,
      "outputs": [
        {
          "output_type": "execute_result",
          "data": {
            "text/plain": [
              "array([2.00708992, 2.00708992, 2.00708992, 2.00708992, 2.00708992,\n",
              "       2.00708992, 2.00708992, 2.00708992, 2.00708992, 2.00708992,\n",
              "       2.00708992, 2.00708992, 2.00708992, 2.00708992, 2.00708992,\n",
              "       2.00708992, 2.00708992, 2.00708992, 2.00708992, 2.00708992,\n",
              "       2.00708992, 2.00708992, 2.00708992, 2.00708992, 2.00708992,\n",
              "       2.00708992, 2.00708992, 2.00708992, 2.00708992, 2.00708992,\n",
              "       2.00708992, 2.00708992, 2.00708992, 2.00708992, 2.00708992,\n",
              "       2.00708992, 2.00708992, 2.00708992, 2.00708992, 2.00708992,\n",
              "       2.00708992, 2.00708992, 2.00708992, 2.00708992, 2.00708992,\n",
              "       2.00708992, 2.00708992, 2.00708992, 2.00708992, 2.00708992])"
            ]
          },
          "metadata": {
            "tags": []
          },
          "execution_count": 151
        }
      ]
    },
    {
      "cell_type": "code",
      "metadata": {
        "id": "-vPDUcpBGCXA",
        "outputId": "42fabde3-31e4-4a85-e1b0-3b482728342b",
        "colab": {
          "base_uri": "https://localhost:8080/"
        }
      },
      "source": [
        "T_V(b,l)"
      ],
      "execution_count": 152,
      "outputs": [
        {
          "output_type": "execute_result",
          "data": {
            "text/plain": [
              "array([2.00708992, 2.00721884, 2.00760569, 2.00825075, 2.00915447,\n",
              "       2.01031748, 2.01174063, 2.01342491, 2.01537153, 2.01758189,\n",
              "       2.02005757, 2.02280035, 2.02581222, 2.02909538, 2.03265222,\n",
              "       2.03648536, 2.04059763, 2.04499211, 2.04967209, 2.05464112,\n",
              "       2.05990297, 2.0654617 , 2.07132163, 2.07748734, 2.08396372,\n",
              "       2.09075595, 2.09786952, 2.10531026, 2.11308433, 2.12119826,\n",
              "       2.12965894, 2.13847367, 2.14765015, 2.15719654, 2.16712145,\n",
              "       2.17743395, 2.18814368, 2.19926077, 2.21079596, 2.22276059,\n",
              "       2.23516667, 2.24802688, 2.26135464, 2.2751642 , 2.28947059,\n",
              "       2.30428981, 2.31963878, 2.33553549, 2.35199903, 2.36904972])"
            ]
          },
          "metadata": {
            "tags": []
          },
          "execution_count": 152
        }
      ]
    },
    {
      "cell_type": "code",
      "metadata": {
        "id": "qzf_cPqoGWp2",
        "outputId": "060637c6-5b7a-4447-bd45-93ee3fc89189",
        "colab": {
          "base_uri": "https://localhost:8080/"
        }
      },
      "source": [
        "T_V(b,l)/T0l"
      ],
      "execution_count": 153,
      "outputs": [
        {
          "output_type": "execute_result",
          "data": {
            "text/plain": [
              "array([1.        , 1.00006423, 1.00025697, 1.00057836, 1.00102862,\n",
              "       1.00160808, 1.00231714, 1.0031563 , 1.00412618, 1.00522745,\n",
              "       1.00646092, 1.00782747, 1.00932808, 1.01096386, 1.012736  ,\n",
              "       1.0146458 , 1.01669467, 1.01888415, 1.02121588, 1.02369161,\n",
              "       1.02631324, 1.02908279, 1.03200241, 1.03507437, 1.03830112,\n",
              "       1.04168524, 1.04522946, 1.04893669, 1.05280999, 1.05685263,\n",
              "       1.06106802, 1.06545982, 1.07003186, 1.07478819, 1.07973311,\n",
              "       1.08487115, 1.0902071 , 1.09574601, 1.10149323, 1.10745441,\n",
              "       1.11363554, 1.12004293, 1.12668327, 1.13356366, 1.14069159,\n",
              "       1.14807502, 1.1557224 , 1.16364267, 1.17184537, 1.1803406 ])"
            ]
          },
          "metadata": {
            "tags": []
          },
          "execution_count": 153
        }
      ]
    },
    {
      "cell_type": "code",
      "metadata": {
        "id": "72NVQtexGfXm",
        "outputId": "e3767c1b-918d-401d-c7bc-bb0aaed0bc71",
        "colab": {
          "base_uri": "https://localhost:8080/",
          "height": 1000
        }
      },
      "source": [
        "#definamos Dataframe\n",
        "df = pd.DataFrame({'Ang Degradanes': b, 'Ang radianes': b*180/np.pi, 'T_V/T0l':T_V(b,l)/T0l})\n",
        "df"
      ],
      "execution_count": 154,
      "outputs": [
        {
          "output_type": "execute_result",
          "data": {
            "text/html": [
              "<div>\n",
              "<style scoped>\n",
              "    .dataframe tbody tr th:only-of-type {\n",
              "        vertical-align: middle;\n",
              "    }\n",
              "\n",
              "    .dataframe tbody tr th {\n",
              "        vertical-align: top;\n",
              "    }\n",
              "\n",
              "    .dataframe thead th {\n",
              "        text-align: right;\n",
              "    }\n",
              "</style>\n",
              "<table border=\"1\" class=\"dataframe\">\n",
              "  <thead>\n",
              "    <tr style=\"text-align: right;\">\n",
              "      <th></th>\n",
              "      <th>Ang Degradanes</th>\n",
              "      <th>Ang radianes</th>\n",
              "      <th>T_V/T0l</th>\n",
              "    </tr>\n",
              "  </thead>\n",
              "  <tbody>\n",
              "    <tr>\n",
              "      <th>0</th>\n",
              "      <td>0.000000</td>\n",
              "      <td>0.000000</td>\n",
              "      <td>1.000000</td>\n",
              "    </tr>\n",
              "    <tr>\n",
              "      <th>1</th>\n",
              "      <td>0.032057</td>\n",
              "      <td>1.836735</td>\n",
              "      <td>1.000064</td>\n",
              "    </tr>\n",
              "    <tr>\n",
              "      <th>2</th>\n",
              "      <td>0.064114</td>\n",
              "      <td>3.673469</td>\n",
              "      <td>1.000257</td>\n",
              "    </tr>\n",
              "    <tr>\n",
              "      <th>3</th>\n",
              "      <td>0.096171</td>\n",
              "      <td>5.510204</td>\n",
              "      <td>1.000578</td>\n",
              "    </tr>\n",
              "    <tr>\n",
              "      <th>4</th>\n",
              "      <td>0.128228</td>\n",
              "      <td>7.346939</td>\n",
              "      <td>1.001029</td>\n",
              "    </tr>\n",
              "    <tr>\n",
              "      <th>5</th>\n",
              "      <td>0.160285</td>\n",
              "      <td>9.183673</td>\n",
              "      <td>1.001608</td>\n",
              "    </tr>\n",
              "    <tr>\n",
              "      <th>6</th>\n",
              "      <td>0.192342</td>\n",
              "      <td>11.020408</td>\n",
              "      <td>1.002317</td>\n",
              "    </tr>\n",
              "    <tr>\n",
              "      <th>7</th>\n",
              "      <td>0.224399</td>\n",
              "      <td>12.857143</td>\n",
              "      <td>1.003156</td>\n",
              "    </tr>\n",
              "    <tr>\n",
              "      <th>8</th>\n",
              "      <td>0.256457</td>\n",
              "      <td>14.693878</td>\n",
              "      <td>1.004126</td>\n",
              "    </tr>\n",
              "    <tr>\n",
              "      <th>9</th>\n",
              "      <td>0.288514</td>\n",
              "      <td>16.530612</td>\n",
              "      <td>1.005227</td>\n",
              "    </tr>\n",
              "    <tr>\n",
              "      <th>10</th>\n",
              "      <td>0.320571</td>\n",
              "      <td>18.367347</td>\n",
              "      <td>1.006461</td>\n",
              "    </tr>\n",
              "    <tr>\n",
              "      <th>11</th>\n",
              "      <td>0.352628</td>\n",
              "      <td>20.204082</td>\n",
              "      <td>1.007827</td>\n",
              "    </tr>\n",
              "    <tr>\n",
              "      <th>12</th>\n",
              "      <td>0.384685</td>\n",
              "      <td>22.040816</td>\n",
              "      <td>1.009328</td>\n",
              "    </tr>\n",
              "    <tr>\n",
              "      <th>13</th>\n",
              "      <td>0.416742</td>\n",
              "      <td>23.877551</td>\n",
              "      <td>1.010964</td>\n",
              "    </tr>\n",
              "    <tr>\n",
              "      <th>14</th>\n",
              "      <td>0.448799</td>\n",
              "      <td>25.714286</td>\n",
              "      <td>1.012736</td>\n",
              "    </tr>\n",
              "    <tr>\n",
              "      <th>15</th>\n",
              "      <td>0.480856</td>\n",
              "      <td>27.551020</td>\n",
              "      <td>1.014646</td>\n",
              "    </tr>\n",
              "    <tr>\n",
              "      <th>16</th>\n",
              "      <td>0.512913</td>\n",
              "      <td>29.387755</td>\n",
              "      <td>1.016695</td>\n",
              "    </tr>\n",
              "    <tr>\n",
              "      <th>17</th>\n",
              "      <td>0.544970</td>\n",
              "      <td>31.224490</td>\n",
              "      <td>1.018884</td>\n",
              "    </tr>\n",
              "    <tr>\n",
              "      <th>18</th>\n",
              "      <td>0.577027</td>\n",
              "      <td>33.061224</td>\n",
              "      <td>1.021216</td>\n",
              "    </tr>\n",
              "    <tr>\n",
              "      <th>19</th>\n",
              "      <td>0.609084</td>\n",
              "      <td>34.897959</td>\n",
              "      <td>1.023692</td>\n",
              "    </tr>\n",
              "    <tr>\n",
              "      <th>20</th>\n",
              "      <td>0.641141</td>\n",
              "      <td>36.734694</td>\n",
              "      <td>1.026313</td>\n",
              "    </tr>\n",
              "    <tr>\n",
              "      <th>21</th>\n",
              "      <td>0.673198</td>\n",
              "      <td>38.571429</td>\n",
              "      <td>1.029083</td>\n",
              "    </tr>\n",
              "    <tr>\n",
              "      <th>22</th>\n",
              "      <td>0.705255</td>\n",
              "      <td>40.408163</td>\n",
              "      <td>1.032002</td>\n",
              "    </tr>\n",
              "    <tr>\n",
              "      <th>23</th>\n",
              "      <td>0.737313</td>\n",
              "      <td>42.244898</td>\n",
              "      <td>1.035074</td>\n",
              "    </tr>\n",
              "    <tr>\n",
              "      <th>24</th>\n",
              "      <td>0.769370</td>\n",
              "      <td>44.081633</td>\n",
              "      <td>1.038301</td>\n",
              "    </tr>\n",
              "    <tr>\n",
              "      <th>25</th>\n",
              "      <td>0.801427</td>\n",
              "      <td>45.918367</td>\n",
              "      <td>1.041685</td>\n",
              "    </tr>\n",
              "    <tr>\n",
              "      <th>26</th>\n",
              "      <td>0.833484</td>\n",
              "      <td>47.755102</td>\n",
              "      <td>1.045229</td>\n",
              "    </tr>\n",
              "    <tr>\n",
              "      <th>27</th>\n",
              "      <td>0.865541</td>\n",
              "      <td>49.591837</td>\n",
              "      <td>1.048937</td>\n",
              "    </tr>\n",
              "    <tr>\n",
              "      <th>28</th>\n",
              "      <td>0.897598</td>\n",
              "      <td>51.428571</td>\n",
              "      <td>1.052810</td>\n",
              "    </tr>\n",
              "    <tr>\n",
              "      <th>29</th>\n",
              "      <td>0.929655</td>\n",
              "      <td>53.265306</td>\n",
              "      <td>1.056853</td>\n",
              "    </tr>\n",
              "    <tr>\n",
              "      <th>30</th>\n",
              "      <td>0.961712</td>\n",
              "      <td>55.102041</td>\n",
              "      <td>1.061068</td>\n",
              "    </tr>\n",
              "    <tr>\n",
              "      <th>31</th>\n",
              "      <td>0.993769</td>\n",
              "      <td>56.938776</td>\n",
              "      <td>1.065460</td>\n",
              "    </tr>\n",
              "    <tr>\n",
              "      <th>32</th>\n",
              "      <td>1.025826</td>\n",
              "      <td>58.775510</td>\n",
              "      <td>1.070032</td>\n",
              "    </tr>\n",
              "    <tr>\n",
              "      <th>33</th>\n",
              "      <td>1.057883</td>\n",
              "      <td>60.612245</td>\n",
              "      <td>1.074788</td>\n",
              "    </tr>\n",
              "    <tr>\n",
              "      <th>34</th>\n",
              "      <td>1.089940</td>\n",
              "      <td>62.448980</td>\n",
              "      <td>1.079733</td>\n",
              "    </tr>\n",
              "    <tr>\n",
              "      <th>35</th>\n",
              "      <td>1.121997</td>\n",
              "      <td>64.285714</td>\n",
              "      <td>1.084871</td>\n",
              "    </tr>\n",
              "    <tr>\n",
              "      <th>36</th>\n",
              "      <td>1.154054</td>\n",
              "      <td>66.122449</td>\n",
              "      <td>1.090207</td>\n",
              "    </tr>\n",
              "    <tr>\n",
              "      <th>37</th>\n",
              "      <td>1.186112</td>\n",
              "      <td>67.959184</td>\n",
              "      <td>1.095746</td>\n",
              "    </tr>\n",
              "    <tr>\n",
              "      <th>38</th>\n",
              "      <td>1.218169</td>\n",
              "      <td>69.795918</td>\n",
              "      <td>1.101493</td>\n",
              "    </tr>\n",
              "    <tr>\n",
              "      <th>39</th>\n",
              "      <td>1.250226</td>\n",
              "      <td>71.632653</td>\n",
              "      <td>1.107454</td>\n",
              "    </tr>\n",
              "    <tr>\n",
              "      <th>40</th>\n",
              "      <td>1.282283</td>\n",
              "      <td>73.469388</td>\n",
              "      <td>1.113636</td>\n",
              "    </tr>\n",
              "    <tr>\n",
              "      <th>41</th>\n",
              "      <td>1.314340</td>\n",
              "      <td>75.306122</td>\n",
              "      <td>1.120043</td>\n",
              "    </tr>\n",
              "    <tr>\n",
              "      <th>42</th>\n",
              "      <td>1.346397</td>\n",
              "      <td>77.142857</td>\n",
              "      <td>1.126683</td>\n",
              "    </tr>\n",
              "    <tr>\n",
              "      <th>43</th>\n",
              "      <td>1.378454</td>\n",
              "      <td>78.979592</td>\n",
              "      <td>1.133564</td>\n",
              "    </tr>\n",
              "    <tr>\n",
              "      <th>44</th>\n",
              "      <td>1.410511</td>\n",
              "      <td>80.816327</td>\n",
              "      <td>1.140692</td>\n",
              "    </tr>\n",
              "    <tr>\n",
              "      <th>45</th>\n",
              "      <td>1.442568</td>\n",
              "      <td>82.653061</td>\n",
              "      <td>1.148075</td>\n",
              "    </tr>\n",
              "    <tr>\n",
              "      <th>46</th>\n",
              "      <td>1.474625</td>\n",
              "      <td>84.489796</td>\n",
              "      <td>1.155722</td>\n",
              "    </tr>\n",
              "    <tr>\n",
              "      <th>47</th>\n",
              "      <td>1.506682</td>\n",
              "      <td>86.326531</td>\n",
              "      <td>1.163643</td>\n",
              "    </tr>\n",
              "    <tr>\n",
              "      <th>48</th>\n",
              "      <td>1.538739</td>\n",
              "      <td>88.163265</td>\n",
              "      <td>1.171845</td>\n",
              "    </tr>\n",
              "    <tr>\n",
              "      <th>49</th>\n",
              "      <td>1.570796</td>\n",
              "      <td>90.000000</td>\n",
              "      <td>1.180341</td>\n",
              "    </tr>\n",
              "  </tbody>\n",
              "</table>\n",
              "</div>"
            ],
            "text/plain": [
              "    Ang Degradanes  Ang radianes   T_V/T0l\n",
              "0         0.000000      0.000000  1.000000\n",
              "1         0.032057      1.836735  1.000064\n",
              "2         0.064114      3.673469  1.000257\n",
              "3         0.096171      5.510204  1.000578\n",
              "4         0.128228      7.346939  1.001029\n",
              "5         0.160285      9.183673  1.001608\n",
              "6         0.192342     11.020408  1.002317\n",
              "7         0.224399     12.857143  1.003156\n",
              "8         0.256457     14.693878  1.004126\n",
              "9         0.288514     16.530612  1.005227\n",
              "10        0.320571     18.367347  1.006461\n",
              "11        0.352628     20.204082  1.007827\n",
              "12        0.384685     22.040816  1.009328\n",
              "13        0.416742     23.877551  1.010964\n",
              "14        0.448799     25.714286  1.012736\n",
              "15        0.480856     27.551020  1.014646\n",
              "16        0.512913     29.387755  1.016695\n",
              "17        0.544970     31.224490  1.018884\n",
              "18        0.577027     33.061224  1.021216\n",
              "19        0.609084     34.897959  1.023692\n",
              "20        0.641141     36.734694  1.026313\n",
              "21        0.673198     38.571429  1.029083\n",
              "22        0.705255     40.408163  1.032002\n",
              "23        0.737313     42.244898  1.035074\n",
              "24        0.769370     44.081633  1.038301\n",
              "25        0.801427     45.918367  1.041685\n",
              "26        0.833484     47.755102  1.045229\n",
              "27        0.865541     49.591837  1.048937\n",
              "28        0.897598     51.428571  1.052810\n",
              "29        0.929655     53.265306  1.056853\n",
              "30        0.961712     55.102041  1.061068\n",
              "31        0.993769     56.938776  1.065460\n",
              "32        1.025826     58.775510  1.070032\n",
              "33        1.057883     60.612245  1.074788\n",
              "34        1.089940     62.448980  1.079733\n",
              "35        1.121997     64.285714  1.084871\n",
              "36        1.154054     66.122449  1.090207\n",
              "37        1.186112     67.959184  1.095746\n",
              "38        1.218169     69.795918  1.101493\n",
              "39        1.250226     71.632653  1.107454\n",
              "40        1.282283     73.469388  1.113636\n",
              "41        1.314340     75.306122  1.120043\n",
              "42        1.346397     77.142857  1.126683\n",
              "43        1.378454     78.979592  1.133564\n",
              "44        1.410511     80.816327  1.140692\n",
              "45        1.442568     82.653061  1.148075\n",
              "46        1.474625     84.489796  1.155722\n",
              "47        1.506682     86.326531  1.163643\n",
              "48        1.538739     88.163265  1.171845\n",
              "49        1.570796     90.000000  1.180341"
            ]
          },
          "metadata": {
            "tags": []
          },
          "execution_count": 154
        }
      ]
    },
    {
      "cell_type": "markdown",
      "metadata": {
        "id": "9rCOfG0cH_zy"
      },
      "source": [
        "para el angulo$$ b = 0 $$se tiene que el periodo es el mismo que para angulos pequeños"
      ]
    },
    {
      "cell_type": "markdown",
      "metadata": {
        "id": "iTi8lmneIMWa"
      },
      "source": [
        "Veamos el grafico con las dos columnas"
      ]
    },
    {
      "cell_type": "code",
      "metadata": {
        "id": "b_ng9D6TIK1O",
        "outputId": "06bc89a2-73b4-423d-88c6-f9b24e626336",
        "colab": {
          "base_uri": "https://localhost:8080/",
          "height": 279
        }
      },
      "source": [
        "plt.plot(b,T_V(b,l)/T0l,'s-')\n",
        "plt.xlabel(\"Ang radianes\", size=10)\n",
        "plt.ylabel('$Ratio$ $T/T0$', size =10)\n",
        "plt.show()"
      ],
      "execution_count": 165,
      "outputs": [
        {
          "output_type": "display_data",
          "data": {
            "image/png": "[encoded data removed]",
            "text/plain": [
              "<Figure size 432x288 with 1 Axes>"
            ]
          },
          "metadata": {
            "tags": [],
            "needs_background": "light"
          }
        }
      ]
    },
    {
      "cell_type": "markdown",
      "metadata": {
        "id": "Bc1wXQwxZVap"
      },
      "source": [
        "II)\n",
        "### Casas-Ibarra parameterization\n",
        "Consider a $n\\times n$ symmetric matrix $A$. We can assumme without lost of generality that this can be generated from a matrix $Y$ such that\n",
        "$$\n",
        "A=Y^{\\operatorname{T}}Y\n",
        "$$\n",
        "Theorem 1 gurantees that exists an ortogonal matrix $U$ such that\n",
        "$$\n",
        "U^{\\operatorname{T}} A U=U^{\\operatorname{T}} Y^{\\operatorname{T}}Y U=D_\\lambda\n",
        "$$\n",
        "where\n",
        "$$\n",
        "D_{\\lambda}=A_{\\text{diag}}=\\operatorname{diag}\\left(\\lambda_1,\\lambda_2,\\ldots,\\lambda_n\\right)\n",
        "$$\n",
        "where $\\lambda_i$ are the eigenvalues of $A$. Therefore\n",
        "\\begin{align}\n",
        " Y^{\\operatorname{T}}Y =&U D_\\lambda U^{\\operatorname{T}}\\\\\n",
        " =&U D_{\\sqrt{\\lambda}} D_{\\sqrt{\\lambda}} U^{\\operatorname{T}}\\\\\n",
        "\\end{align}\n",
        "where\n",
        "$$\n",
        "D_{\\sqrt{\\lambda}}=\\operatorname{diag}\\left(\\sqrt{\\lambda_1},\\sqrt{\\lambda_2},\\ldots \\sqrt{\\lambda_n}\\right)\n",
        "$$\n",
        "Therefore, exists an ortogonal arbitrary matrix $R$, such that\n",
        "$$\n",
        " Y^{\\operatorname{T}}Y =U D_{\\sqrt{\\lambda}}R^{\\operatorname{T}}R D_{\\sqrt{\\lambda}} U^{\\operatorname{T}}\\\\\n",
        "$$\n",
        "\n",
        "In this way, the matrix $Y$ can be parameterized in terms of $R$ as\n",
        "$$\n",
        "Y=R D_{\\sqrt{\\lambda}} U^{\\operatorname{T}}\n",
        "$$\n",
        "\n",
        "\n",
        "1) By using the previous equations, build a matrix $Y$ $2\\times 2$ with the following conditions\n",
        "* $R$ is an orthogonal matrix with a mixing angle as a random number between $(0,2\\pi)$. Use your identification number as the seed of the random number generator.\n",
        "* The eigenvalues are $\\lambda_1=2$ and $\\lambda_2=4$. \n",
        "* $U$ is a diagonalization matrix with mixing angle $\\pi/4$\n",
        "\n",
        "2) Build the matrix $A$ and check that has the proper eigenvalues and eigenvectors"
      ]
    },
    {
      "cell_type": "code",
      "metadata": {
        "id": "QFDtBa6Jyuap"
      },
      "source": [
        "import sympy as sp\n",
        "import numpy as np"
      ],
      "execution_count": 35,
      "outputs": []
    },
    {
      "cell_type": "code",
      "metadata": {
        "id": "Gn3p1Duzy8g9",
        "outputId": "292673e6-252f-47b7-bc9c-feb6da7e0f57",
        "colab": {
          "base_uri": "https://localhost:8080/"
        }
      },
      "source": [
        "np.random.seed(1152225738) \n",
        "S=np.random.uniform(0,2*np.pi) #numero aleatorio entre (0,2*pi)\n",
        "S"
      ],
      "execution_count": 36,
      "outputs": [
        {
          "output_type": "execute_result",
          "data": {
            "text/plain": [
              "6.124824778963418"
            ]
          },
          "metadata": {
            "tags": []
          },
          "execution_count": 36
        }
      ]
    },
    {
      "cell_type": "markdown",
      "metadata": {
        "id": "KQN_EvJG0GnE"
      },
      "source": [
        "Como tenemos que Los valores propios son λ1 = 2 y λ2 = 4, entonces:\n",
        "nuestra matriz diagonal solo tendra dos valores propios lo que es:\n",
        "\n"
      ]
    },
    {
      "cell_type": "code",
      "metadata": {
        "id": "QFkk8H0c1QZm"
      },
      "source": [
        "M_D = np.sqrt(np.diag([2,4]))\n",
        "#definimos las matrices como arreglos para poder operar con ellas\n",
        "U = np.array([[np.cos(np.pi/4), -np.sin(np.pi/4)],[np.sin(np.pi/4), np.cos(np.pi/4)]]) \n",
        "R = np.array([[np.cos(S), -np.sin(S)],[np.sin(S), np.cos(S)]])\n",
        "U_T = np.transpose(U)"
      ],
      "execution_count": 40,
      "outputs": []
    },
    {
      "cell_type": "markdown",
      "metadata": {
        "id": "K_afyWU42aNf"
      },
      "source": [
        "Para Calcular Y, debemos utilizar \n",
        "$$\n",
        "Y=R D_{\\sqrt{\\lambda}} U^{\\operatorname{T}}\n",
        "$$\n",
        "que en mi caso tengo M_D, R, U_T"
      ]
    },
    {
      "cell_type": "code",
      "metadata": {
        "id": "Z-uURR9I2_KL",
        "outputId": "f4ea3042-565c-48d9-a097-00b59cf05f41",
        "colab": {
          "base_uri": "https://localhost:8080/"
        }
      },
      "source": [
        "Y = np.dot( R, np.dot(M_D, U_T ))\n",
        "Y # si lo vemos como un arreglo"
      ],
      "execution_count": 47,
      "outputs": [
        {
          "output_type": "execute_result",
          "data": {
            "text/plain": [
              "array([[ 0.76446644,  1.21050787],\n",
              "       [-1.55421719,  1.23881826]])"
            ]
          },
          "metadata": {
            "tags": []
          },
          "execution_count": 47
        }
      ]
    },
    {
      "cell_type": "code",
      "metadata": {
        "id": "3BXJK2q-3yVt",
        "outputId": "5495a317-09b3-4388-96ac-cd855ee65f7d",
        "colab": {
          "base_uri": "https://localhost:8080/"
        }
      },
      "source": [
        "sp.Matrix(Y)"
      ],
      "execution_count": 48,
      "outputs": [
        {
          "output_type": "execute_result",
          "data": {
            "text/plain": [
              "Matrix([\n",
              "[0.764466436325221, 1.21050787206504],\n",
              "[-1.55421718808287, 1.23881826418106]])"
            ]
          },
          "metadata": {
            "tags": []
          },
          "execution_count": 48
        }
      ]
    },
    {
      "cell_type": "code",
      "metadata": {
        "id": "nP0E91To4aWh",
        "outputId": "9b41005b-2599-4396-a93a-708dff5393ee",
        "colab": {
          "base_uri": "https://localhost:8080/"
        }
      },
      "source": [
        "#definamos la transpuesta de Y que nos servira para hayar A\n",
        "Y_T = np.transpose(Y)\n",
        "Y_T"
      ],
      "execution_count": 49,
      "outputs": [
        {
          "output_type": "execute_result",
          "data": {
            "text/plain": [
              "array([[ 0.76446644, -1.55421719],\n",
              "       [ 1.21050787,  1.23881826]])"
            ]
          },
          "metadata": {
            "tags": []
          },
          "execution_count": 49
        }
      ]
    },
    {
      "cell_type": "markdown",
      "metadata": {
        "id": "SFasq4kg4IPK"
      },
      "source": [
        "Sabemos que $$\n",
        "A=Y^{\\operatorname{T}}Y\n",
        "$$\n",
        "por lo cual podemos hallandola ya conociendo la transpuesta de Y, que es Y_T"
      ]
    },
    {
      "cell_type": "code",
      "metadata": {
        "id": "d1OHEyOI4UqV",
        "outputId": "73f0b929-c660-4a19-d7e1-34b931209797",
        "colab": {
          "base_uri": "https://localhost:8080/"
        }
      },
      "source": [
        "#Veamos quien es A\n",
        "A = np.dot(Y_T, Y)\n",
        "sp.Matrix((A))"
      ],
      "execution_count": 53,
      "outputs": [
        {
          "output_type": "execute_result",
          "data": {
            "text/plain": [
              "Matrix([\n",
              "[ 3.0, -1.0],\n",
              "[-1.0,  3.0]])"
            ]
          },
          "metadata": {
            "tags": []
          },
          "execution_count": 53
        }
      ]
    },
    {
      "cell_type": "markdown",
      "metadata": {
        "id": "YwH81PZV5Ziz"
      },
      "source": [
        "Debemos verificar que A tenga los valores y vectores propios correctos para eso debemos hallarlos primeramente con metodos de numpy"
      ]
    },
    {
      "cell_type": "code",
      "metadata": {
        "id": "nCMK8xdM7SWz"
      },
      "source": [
        "n, n_ = np.linalg.eig(A) # Con esto hallamos los autovalores primero y luego los autovectores \n"
      ],
      "execution_count": 71,
      "outputs": []
    },
    {
      "cell_type": "code",
      "metadata": {
        "id": "sPXNm4YN8GX3",
        "outputId": "11077ef8-64c9-40b3-a57e-d22e3a94193d",
        "colab": {
          "base_uri": "https://localhost:8080/"
        }
      },
      "source": [
        "n"
      ],
      "execution_count": 72,
      "outputs": [
        {
          "output_type": "execute_result",
          "data": {
            "text/plain": [
              "array([4., 2.])"
            ]
          },
          "metadata": {
            "tags": []
          },
          "execution_count": 72
        }
      ]
    },
    {
      "cell_type": "code",
      "metadata": {
        "id": "tM_mZRNz8IO3",
        "outputId": "99015292-9d4d-4808-d567-a3621fff4221",
        "colab": {
          "base_uri": "https://localhost:8080/"
        }
      },
      "source": [
        "n_"
      ],
      "execution_count": 73,
      "outputs": [
        {
          "output_type": "execute_result",
          "data": {
            "text/plain": [
              "array([[ 0.70710678,  0.70710678],\n",
              "       [-0.70710678,  0.70710678]])"
            ]
          },
          "metadata": {
            "tags": []
          },
          "execution_count": 73
        }
      ]
    },
    {
      "cell_type": "markdown",
      "metadata": {
        "id": "JiXZBTZQ7-9T"
      },
      "source": [
        "Luego necesitamos esos valores y vectores propios en forma matricial para poder hallar A, ya que utilizaremos producto punto"
      ]
    },
    {
      "cell_type": "code",
      "metadata": {
        "id": "cu4SJSbL78Xu",
        "outputId": "845925c2-aae0-42d2-b37c-c94f0b5a7523",
        "colab": {
          "base_uri": "https://localhost:8080/"
        }
      },
      "source": [
        "sp.Matrix(n)"
      ],
      "execution_count": 74,
      "outputs": [
        {
          "output_type": "execute_result",
          "data": {
            "text/plain": [
              "Matrix([\n",
              "[4.0],\n",
              "[2.0]])"
            ]
          },
          "metadata": {
            "tags": []
          },
          "execution_count": 74
        }
      ]
    },
    {
      "cell_type": "code",
      "metadata": {
        "id": "aMrLjjZe-fQB",
        "outputId": "53fd8ebb-fe94-4551-aaeb-a3c73f765b2c",
        "colab": {
          "base_uri": "https://localhost:8080/"
        }
      },
      "source": [
        "w = np.diag(n)\n",
        "w"
      ],
      "execution_count": 81,
      "outputs": [
        {
          "output_type": "execute_result",
          "data": {
            "text/plain": [
              "array([[4., 0.],\n",
              "       [0., 2.]])"
            ]
          },
          "metadata": {
            "tags": []
          },
          "execution_count": 81
        }
      ]
    },
    {
      "cell_type": "code",
      "metadata": {
        "id": "YPGNR25B8XTV",
        "outputId": "c6cb0097-90bf-407c-a074-f0fe28af4fc3",
        "colab": {
          "base_uri": "https://localhost:8080/"
        }
      },
      "source": [
        "sp.Matrix(w) #para obtener como tal la matriz"
      ],
      "execution_count": 82,
      "outputs": [
        {
          "output_type": "execute_result",
          "data": {
            "text/plain": [
              "Matrix([\n",
              "[4.0, 0.0],\n",
              "[0.0, 2.0]])"
            ]
          },
          "metadata": {
            "tags": []
          },
          "execution_count": 82
        }
      ]
    },
    {
      "cell_type": "code",
      "metadata": {
        "id": "kFKnMS2m9LMa",
        "outputId": "a581862c-3532-41ad-893c-3873dbc1ae62",
        "colab": {
          "base_uri": "https://localhost:8080/"
        }
      },
      "source": [
        "sp.Matrix(n_)"
      ],
      "execution_count": 76,
      "outputs": [
        {
          "output_type": "execute_result",
          "data": {
            "text/plain": [
              "Matrix([\n",
              "[ 0.707106781186547, 0.707106781186548],\n",
              "[-0.707106781186548, 0.707106781186547]])"
            ]
          },
          "metadata": {
            "tags": []
          },
          "execution_count": 76
        }
      ]
    },
    {
      "cell_type": "code",
      "metadata": {
        "id": "dZviQWe28m8g",
        "outputId": "24075af7-2576-45e0-f774-790018577c98",
        "colab": {
          "base_uri": "https://localhost:8080/"
        }
      },
      "source": [
        "# Podemos redondear a un numero de cifras pertinentes con la funcion round, y considerando su alta precision anterior mostrada\n",
        "sp.Matrix(n_.round(3))"
      ],
      "execution_count": 77,
      "outputs": [
        {
          "output_type": "execute_result",
          "data": {
            "text/plain": [
              "Matrix([\n",
              "[ 0.707, 0.707],\n",
              "[-0.707, 0.707]])"
            ]
          },
          "metadata": {
            "tags": []
          },
          "execution_count": 77
        }
      ]
    },
    {
      "cell_type": "code",
      "metadata": {
        "id": "6ymVabR59hU-",
        "outputId": "f0c3f1a5-1cd5-4880-a05e-d02389318a72",
        "colab": {
          "base_uri": "https://localhost:8080/"
        }
      },
      "source": [
        "#veamos la transpuesta de la matriz de vectores propios\n",
        "ñ= n_.transpose()\n",
        "ñ"
      ],
      "execution_count": 79,
      "outputs": [
        {
          "output_type": "execute_result",
          "data": {
            "text/plain": [
              "array([[ 0.70710678, -0.70710678],\n",
              "       [ 0.70710678,  0.70710678]])"
            ]
          },
          "metadata": {
            "tags": []
          },
          "execution_count": 79
        }
      ]
    },
    {
      "cell_type": "code",
      "metadata": {
        "id": "gjUdPFV3-t9F",
        "outputId": "99a61346-ecb3-4d7d-cdeb-9d4e46f95d4e",
        "colab": {
          "base_uri": "https://localhost:8080/"
        }
      },
      "source": [
        "# veamos si efectivamente los valores propios y vectores propios eran los correspondientes\n",
        "k = np.dot(n_,np.dot(w,ñ))\n",
        "k"
      ],
      "execution_count": 84,
      "outputs": [
        {
          "output_type": "execute_result",
          "data": {
            "text/plain": [
              "array([[ 3., -1.],\n",
              "       [-1.,  3.]])"
            ]
          },
          "metadata": {
            "tags": []
          },
          "execution_count": 84
        }
      ]
    },
    {
      "cell_type": "code",
      "metadata": {
        "id": "oJIVEjou_Wq7",
        "outputId": "e21ddcb2-c379-4c6f-9321-862b9ce0a7ef",
        "colab": {
          "base_uri": "https://localhost:8080/"
        }
      },
      "source": [
        "sp.Matrix(k)"
      ],
      "execution_count": 85,
      "outputs": [
        {
          "output_type": "execute_result",
          "data": {
            "text/plain": [
              "Matrix([\n",
              "[ 3.0, -1.0],\n",
              "[-1.0,  3.0]])"
            ]
          },
          "metadata": {
            "tags": []
          },
          "execution_count": 85
        }
      ]
    }
  ]
}