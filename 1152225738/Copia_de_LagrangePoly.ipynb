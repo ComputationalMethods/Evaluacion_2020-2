{
  "nbformat": 4,
  "nbformat_minor": 0,
  "metadata": {
    "colab": {
      "name": "Copia de LagrangePoly.ipynb",
      "provenance": [],
      "collapsed_sections": []
    },
    "kernelspec": {
      "display_name": "Python 3",
      "language": "python",
      "name": "python3"
    },
    "language_info": {
      "codemirror_mode": {
        "name": "ipython",
        "version": 3
      },
      "file_extension": ".py",
      "mimetype": "text/x-python",
      "name": "python",
      "nbconvert_exporter": "python",
      "pygments_lexer": "ipython3",
      "version": "3.5.3"
    }
  },
  "cells": [
    {
      "cell_type": "markdown",
      "metadata": {
        "id": "g7Iz90k56MsP"
      },
      "source": [
        "# Interpolation polynomial in the Lagrange form\n",
        "<a href=\"https://colab.research.google.com/github/restrepo/ComputationalMethods/blob/master/material/LagrangePoly.ipynb\" target=\"_parent\"><img src=\"https://colab.research.google.com/assets/colab-badge.svg\" alt=\"Open In Colab\"/></a>\n",
        "\n",
        "Based on [this code](https://gist.github.com/folkertdev/084c53887c49a6248839)\n",
        "\n",
        "$$f(x)\\approx P_n(x)\\,,$$\n",
        "\n",
        "$$P_n(x) = \\sum_{i=0}^n f(x_i)L_{n,i}(x) = \\sum_{i=0}^n y_iL_{n,i}(x)$$\n",
        "\n",
        "**References:**\n",
        "[Wikipedia](https://en.wikipedia.org/wiki/Lagrange_polynomial)"
      ]
    },
    {
      "cell_type": "markdown",
      "metadata": {
        "id": "xYmS1wzh-hZL"
      },
      "source": [
        "### We will use SymPy"
      ]
    },
    {
      "cell_type": "code",
      "metadata": {
        "id": "kF5mBh2q-mMs"
      },
      "source": [
        "from sympy import simplify, symbols, expand, factor, sin, cos #..., lambdify, solve_poly_system"
      ],
      "execution_count": 32,
      "outputs": []
    },
    {
      "cell_type": "code",
      "metadata": {
        "id": "ht5AYUK2L4-r",
        "outputId": "f817b90d-9ffc-4a13-9059-5f8b51e49c00",
        "colab": {
          "base_uri": "https://localhost:8080/",
          "height": 34
        }
      },
      "source": [
        "simplify('2/3+5/6')"
      ],
      "execution_count": 33,
      "outputs": [
        {
          "output_type": "execute_result",
          "data": {
            "text/plain": [
              "3/2"
            ]
          },
          "metadata": {
            "tags": []
          },
          "execution_count": 33
        }
      ]
    },
    {
      "cell_type": "code",
      "metadata": {
        "id": "grYmSnH2L3O8",
        "outputId": "bd6e56fe-4cd3-459e-bdd5-0e68fed93c52",
        "colab": {
          "base_uri": "https://localhost:8080/",
          "height": 34
        }
      },
      "source": [
        "x = symbols('x')\n",
        "expand('(x-1)*(x+1)')"
      ],
      "execution_count": 34,
      "outputs": [
        {
          "output_type": "execute_result",
          "data": {
            "text/plain": [
              "x**2 - 1"
            ]
          },
          "metadata": {
            "tags": []
          },
          "execution_count": 34
        }
      ]
    },
    {
      "cell_type": "code",
      "metadata": {
        "id": "2N6pf_oOMRv5",
        "outputId": "e471c936-a23c-40aa-b77c-5cb0c9148b7f",
        "colab": {
          "base_uri": "https://localhost:8080/",
          "height": 34
        }
      },
      "source": [
        "factor('x**2-1')"
      ],
      "execution_count": 35,
      "outputs": [
        {
          "output_type": "execute_result",
          "data": {
            "text/plain": [
              "(x - 1)*(x + 1)"
            ]
          },
          "metadata": {
            "tags": []
          },
          "execution_count": 35
        }
      ]
    },
    {
      "cell_type": "code",
      "metadata": {
        "id": "M2SWdB5RMwdA"
      },
      "source": [
        "x=symbols('x')"
      ],
      "execution_count": 36,
      "outputs": []
    },
    {
      "cell_type": "markdown",
      "metadata": {
        "id": "IXPmsm0IcFl6"
      },
      "source": [
        "##  Implementation of the Lagrange interpolating polynomials and  Lagrange polynomials in SymPy"
      ]
    },
    {
      "cell_type": "code",
      "metadata": {
        "id": "edG_qX0U6MsR",
        "outputId": "276c63df-5f8b-4745-ed9b-79017ed613d5",
        "colab": {
          "base_uri": "https://localhost:8080/",
          "height": 34
        }
      },
      "source": [
        "%%writefile LagrangePolynomial.py\n",
        "\"\"\"\n",
        "From: https://gist.github.com/folkertdev/084c53887c49a6248839\n",
        "A sympy-based Lagrange polynomial constructor. \n",
        "\n",
        "Implementation of Lagrangian interpolating polynomial.\n",
        "See:\n",
        "\n",
        "   def lagrangePolynomial(xs, ys):\n",
        "\n",
        "Given two 1-D arrays `xs` and `ys,` returns the Lagrange interpolating\n",
        "polynomial through the points ``(xs, ys)``\n",
        "\n",
        "\n",
        "Given a set 1-D arrays of inputs and outputs, the lagrangePolynomial function \n",
        "will construct an expression that for every input gives the corresponding output. \n",
        "For intermediate values, the polynomial interpolates (giving varying results \n",
        "based  on the shape of your input). \n",
        "\n",
        "The Lagrangian polynomials can be obtained explicitly with (see below):\n",
        "   \n",
        "   def polyL(xs,j):\n",
        "   \n",
        "as sympy polynomial, and \n",
        "\n",
        "    def L(xs,j):\n",
        "\n",
        "as Python functions.\n",
        "\n",
        "\n",
        "This is useful when the result needs to be used outside of Python, because the \n",
        "expression can easily be copied. To convert the expression to a python function \n",
        "object, use sympy.lambdify.\n",
        "\"\"\"\n",
        "from sympy import symbols, expand, lambdify, solve_poly_system\n",
        "#Python library for arithmetic with arbitrary precision\n",
        "from mpmath import tan, e\n",
        "\n",
        "import math\n",
        "\n",
        "from operator import mul\n",
        "from functools import reduce, lru_cache\n",
        "from itertools import chain\n",
        "\n",
        "# sympy symbols\n",
        "x = symbols('x')\n",
        "\n",
        "# convenience functions\n",
        "product = lambda *args: reduce(mul, *(list(args) + [1]))\n",
        "\n",
        "# test data\n",
        "labels = [(-3/2), (-3/4), 0, 3/4, 3/2]\n",
        "points = [math.tan(v) for v in labels]\n",
        "\n",
        "# this product may be reusable (when creating many functions on the same domain)\n",
        "# therefore, cache the result\n",
        "@lru_cache(16)\n",
        "def l(labels, j):\n",
        "    def gen(labels, j):\n",
        "        k = len(labels)\n",
        "        current = labels[j]\n",
        "        for m in labels:\n",
        "            if m == current:\n",
        "                continue\n",
        "            yield (x - m) / (current - m)\n",
        "    return expand(product(gen(labels, j)))\n",
        "\n",
        "def polyL(xs,j):\n",
        "    '''\n",
        "    Lagrange polynomials as sympy polynomial\n",
        "    xs: the n+1 nodes of the intepolation polynomial in the Lagrange Form\n",
        "    j: Is the j-th Lagrange polinomial for the specific xs.\n",
        "    '''\n",
        "    xs=tuple(xs)\n",
        "    return l(xs,j)\n",
        "\n",
        "def L(xs,j):\n",
        "    '''\n",
        "    Lagrange polynomials as python function\n",
        "    xs: the n+1 nodes of the intepolation polynomial in the Lagrange Form\n",
        "    j: Is the j-th Lagrange polinomial for the specific xs.\n",
        "    '''\n",
        "    return lambdify(x, polyL(xs,j) )\n",
        "\n",
        "def lagrangePolynomial(xs, ys):\n",
        "    '''\n",
        "    Given two 1-D arrays `x` and `w,` returns the Lagrange interpolating\n",
        "    polynomial through the points ``(x, w)``.\n",
        "\n",
        "    '''\n",
        "    # based on https://en.wikipedia.org/wiki/Lagrange_polynomial#Example_1\n",
        "    k = len(xs)\n",
        "    total = 0\n",
        "\n",
        "    # use tuple, needs to be hashable to cache\n",
        "    xs = tuple(xs)\n",
        "\n",
        "    for j, current in enumerate(ys):\n",
        "        t = current * l(xs, j)\n",
        "        total += t\n",
        "\n",
        "    return total\n",
        "\n",
        "\n",
        "\n",
        "\n",
        "def x_intersections(function, *args):\n",
        "    \"Finds all x for which function(x) = 0\"\n",
        "    # solve_poly_system seems more efficient than solve for larger expressions\n",
        "    return [var for var in chain.from_iterable(solve_poly_system([function], *args)) if (var.is_real)]\n",
        "\n",
        "def x_scale(function, factor):\n",
        "    \"Scale function on the x-axis\"\n",
        "    return functions.subs(x, x / factor)\n",
        "\n",
        "if __name__ == '__main__':\n",
        "    func = lagrangePolynomial(labels, points)\n",
        "\n",
        "    pyfunc = lambdify(x, func)\n",
        "\n",
        "    for a, b in zip(labels, points):\n",
        "        assert(pyfunc(a) - b < 1e-6)"
      ],
      "execution_count": 37,
      "outputs": [
        {
          "output_type": "stream",
          "text": [
            "Overwriting LagrangePolynomial.py\n"
          ],
          "name": "stdout"
        }
      ]
    },
    {
      "cell_type": "code",
      "metadata": {
        "id": "a8hIn20o6MsW",
        "outputId": "6962473b-f708-4e0c-d508-05ab04e04231",
        "colab": {
          "base_uri": "https://localhost:8080/",
          "height": 105
        }
      },
      "source": [
        "%pylab inline\n",
        "import pandas as pd\n",
        "import numpy as np\n",
        "import LagrangePolynomial as LP\n",
        "from scipy import interpolate"
      ],
      "execution_count": 38,
      "outputs": [
        {
          "output_type": "stream",
          "text": [
            "Populating the interactive namespace from numpy and matplotlib\n"
          ],
          "name": "stdout"
        },
        {
          "output_type": "stream",
          "text": [
            "/usr/local/lib/python3.6/dist-packages/IPython/core/magics/pylab.py:161: UserWarning: pylab import has clobbered these variables: ['sin', 'cos']\n",
            "`%matplotlib` prevents importing * from pylab and numpy\n",
            "  \"\\n`%matplotlib` prevents importing * from pylab and numpy\"\n"
          ],
          "name": "stderr"
        }
      ]
    },
    {
      "cell_type": "markdown",
      "metadata": {
        "id": "9hay33SU6MsZ"
      },
      "source": [
        "## Example of interpolation of tree points with a polynomial of degree 2"
      ]
    },
    {
      "cell_type": "code",
      "metadata": {
        "id": "XIUK3AHE6Msb",
        "outputId": "6bda19a4-0fa0-4376-dddc-58a1699056f7",
        "colab": {
          "base_uri": "https://localhost:8080/",
          "height": 142
        }
      },
      "source": [
        "df=pd.DataFrame({ 'X':[3,10,21.3],'Y':[8.,6.5,3.]}  )\n",
        "df"
      ],
      "execution_count": 39,
      "outputs": [
        {
          "output_type": "execute_result",
          "data": {
            "text/html": [
              "<div>\n",
              "<style scoped>\n",
              "    .dataframe tbody tr th:only-of-type {\n",
              "        vertical-align: middle;\n",
              "    }\n",
              "\n",
              "    .dataframe tbody tr th {\n",
              "        vertical-align: top;\n",
              "    }\n",
              "\n",
              "    .dataframe thead th {\n",
              "        text-align: right;\n",
              "    }\n",
              "</style>\n",
              "<table border=\"1\" class=\"dataframe\">\n",
              "  <thead>\n",
              "    <tr style=\"text-align: right;\">\n",
              "      <th></th>\n",
              "      <th>X</th>\n",
              "      <th>Y</th>\n",
              "    </tr>\n",
              "  </thead>\n",
              "  <tbody>\n",
              "    <tr>\n",
              "      <th>0</th>\n",
              "      <td>3.0</td>\n",
              "      <td>8.0</td>\n",
              "    </tr>\n",
              "    <tr>\n",
              "      <th>1</th>\n",
              "      <td>10.0</td>\n",
              "      <td>6.5</td>\n",
              "    </tr>\n",
              "    <tr>\n",
              "      <th>2</th>\n",
              "      <td>21.3</td>\n",
              "      <td>3.0</td>\n",
              "    </tr>\n",
              "  </tbody>\n",
              "</table>\n",
              "</div>"
            ],
            "text/plain": [
              "      X    Y\n",
              "0   3.0  8.0\n",
              "1  10.0  6.5\n",
              "2  21.3  3.0"
            ]
          },
          "metadata": {
            "tags": []
          },
          "execution_count": 39
        }
      ]
    },
    {
      "cell_type": "markdown",
      "metadata": {
        "id": "BdwRAGHJ6Msd"
      },
      "source": [
        "### `Numpy` implementation:"
      ]
    },
    {
      "cell_type": "code",
      "metadata": {
        "id": "WmBQnOFN6Mse",
        "outputId": "0e26b5cb-8c71-40c7-c3f1-93dfccd44b84",
        "colab": {
          "base_uri": "https://localhost:8080/",
          "height": 303
        }
      },
      "source": [
        "coeffs=np.polyfit(df.X,df.Y,deg=2)\n",
        "\n",
        "P=np.poly1d(coeffs)\n",
        "plt.plot(df.X,df.Y,'ro')\n",
        "x=np.linspace(-8,30)\n",
        "plt.plot(x,P( x),'b-')\n",
        "#plt.grid()\n",
        "plt.ylim(0,12)\n",
        "\n",
        "print(np.poly1d(coeffs))"
      ],
      "execution_count": 40,
      "outputs": [
        {
          "output_type": "stream",
          "text": [
            "           2\n",
            "-0.005216 x - 0.1465 x + 8.486\n"
          ],
          "name": "stdout"
        },
        {
          "output_type": "display_data",
          "data": {
            "image/png": "[encoded data removed]",
            "text/plain": [
              "<Figure size 432x288 with 1 Axes>"
            ]
          },
          "metadata": {
            "tags": [],
            "needs_background": "light"
          }
        }
      ]
    },
    {
      "cell_type": "markdown",
      "metadata": {
        "id": "Vzok9x4q6Msi"
      },
      "source": [
        "### `Scipy` implementation of the Interpolation polynomial in the Lagrange form"
      ]
    },
    {
      "cell_type": "code",
      "metadata": {
        "id": "YyFwK_zYPA7S"
      },
      "source": [
        "interpolate.lagrange?"
      ],
      "execution_count": 41,
      "outputs": []
    },
    {
      "cell_type": "code",
      "metadata": {
        "id": "RNkOXO3U6Msi",
        "outputId": "899d528d-a491-4a00-e912-97034d483502",
        "colab": {
          "base_uri": "https://localhost:8080/",
          "height": 51
        }
      },
      "source": [
        "P=interpolate.lagrange(df.X,df.Y)\n",
        "print(P)"
      ],
      "execution_count": 42,
      "outputs": [
        {
          "output_type": "stream",
          "text": [
            "           2\n",
            "-0.005216 x - 0.1465 x + 8.486\n"
          ],
          "name": "stdout"
        }
      ]
    },
    {
      "cell_type": "markdown",
      "metadata": {
        "id": "HPev6_vt6Mso"
      },
      "source": [
        "### `Sympy` implementation of the Interpolation polynomial in the Lagrange form"
      ]
    },
    {
      "cell_type": "code",
      "metadata": {
        "id": "A9HnVoq66Msp",
        "outputId": "9621d97b-9080-4ce2-c353-f15b4cf586e8",
        "colab": {
          "base_uri": "https://localhost:8080/",
          "height": 34
        }
      },
      "source": [
        "LP.lagrangePolynomial(df.X,df.Y)"
      ],
      "execution_count": 43,
      "outputs": [
        {
          "output_type": "execute_result",
          "data": {
            "text/plain": [
              "-0.00521578136549848*x**2 - 0.146480556534234*x + 8.48638370189219"
            ]
          },
          "metadata": {
            "tags": []
          },
          "execution_count": 43
        }
      ]
    },
    {
      "cell_type": "markdown",
      "metadata": {
        "id": "I6NkvQE_6Mst"
      },
      "source": [
        "With this simpy implementation we can check expliclty that:\n",
        "$$P_2(x) =  L_{2,0}(x)f(x_0)+L_{2,1}(x)f(x_1)+L_{2,2}(x)f(x_2)$$"
      ]
    },
    {
      "cell_type": "markdown",
      "metadata": {
        "id": "qoMgEkhQ6Mst"
      },
      "source": [
        "a) By using `sympy` polynomials:  `LP.polyL`:"
      ]
    },
    {
      "cell_type": "code",
      "metadata": {
        "id": "LpV8NsAK6Msx",
        "outputId": "7388d450-b37f-438f-cc47-f07770a5e198",
        "colab": {
          "base_uri": "https://localhost:8080/",
          "height": 34
        }
      },
      "source": [
        "LP.polyL( df.X,0)*df.Y[0]+LP.polyL( df.X,1)*df.Y[1]+LP.polyL( df.X,2)*df.Y[2]"
      ],
      "execution_count": 44,
      "outputs": [
        {
          "output_type": "execute_result",
          "data": {
            "text/plain": [
              "-0.00521578136549848*x**2 - 0.146480556534234*x + 8.48638370189219"
            ]
          },
          "metadata": {
            "tags": []
          },
          "execution_count": 44
        }
      ]
    },
    {
      "cell_type": "code",
      "metadata": {
        "id": "nYd7rBzxCI9r",
        "outputId": "43e76dd5-60b2-4c70-c8b0-d11825c62bea",
        "colab": {
          "base_uri": "https://localhost:8080/",
          "height": 34
        }
      },
      "source": [
        "LP.polyL( df.X,0)"
      ],
      "execution_count": 45,
      "outputs": [
        {
          "output_type": "execute_result",
          "data": {
            "text/plain": [
              "0.0078064012490242*x**2 - 0.244340359094457*x + 1.66276346604215"
            ]
          },
          "metadata": {
            "tags": []
          },
          "execution_count": 45
        }
      ]
    },
    {
      "cell_type": "markdown",
      "metadata": {
        "id": "sUh2LNo76Ms0"
      },
      "source": [
        "As a function"
      ]
    },
    {
      "cell_type": "code",
      "metadata": {
        "id": "upfcBNKG6Ms1"
      },
      "source": [
        "def P_2(x,xs,ys):\n",
        "    return LP.L(xs,0)(x)*ys[0]+LP.L(xs,1)(x)*ys[1]+LP.L( xs,2)(x)*ys[2]"
      ],
      "execution_count": 46,
      "outputs": []
    },
    {
      "cell_type": "code",
      "metadata": {
        "id": "3qEo2_Z36Ms5",
        "outputId": "1ffc1fee-a0f8-4b48-ef32-e86c70017324",
        "colab": {
          "base_uri": "https://localhost:8080/",
          "height": 286
        }
      },
      "source": [
        "plt.plot(df.X,df.Y,'ro')\n",
        "x=np.linspace(-8,30)\n",
        "plt.plot(x,P_2( x,df.X,df.Y),'b-')\n",
        "#plt.grid()\n",
        "plt.ylim(0,12)"
      ],
      "execution_count": 47,
      "outputs": [
        {
          "output_type": "execute_result",
          "data": {
            "text/plain": [
              "(0.0, 12.0)"
            ]
          },
          "metadata": {
            "tags": []
          },
          "execution_count": 47
        },
        {
          "output_type": "display_data",
          "data": {
            "image/png": "[encoded data removed]",
            "text/plain": [
              "<Figure size 432x288 with 1 Axes>"
            ]
          },
          "metadata": {
            "tags": [],
            "needs_background": "light"
          }
        }
      ]
    },
    {
      "cell_type": "markdown",
      "metadata": {
        "id": "kuQ67AD36Ms7"
      },
      "source": [
        "## Lagrange polynomial properties\n",
        "$$L_{n,i}(x_i) = 1\\,,\\qquad\\text{and}\\,,\\qquad L_{n,i}(x_j) = 0\\quad\\text{for $i\\neq j$}$$ "
      ]
    },
    {
      "cell_type": "markdown",
      "metadata": {
        "id": "sm3yMzd16Ms8"
      },
      "source": [
        "As `sympy` objects"
      ]
    },
    {
      "cell_type": "code",
      "metadata": {
        "id": "d75g4LLQ6Ms_",
        "outputId": "f0113c4c-b2ba-4dce-83eb-c38e67b5840e",
        "colab": {
          "base_uri": "https://localhost:8080/",
          "height": 34
        }
      },
      "source": [
        "L2_0=LP.polyL(df.X,0)\n",
        "L2_0"
      ],
      "execution_count": 48,
      "outputs": [
        {
          "output_type": "execute_result",
          "data": {
            "text/plain": [
              "0.0078064012490242*x**2 - 0.244340359094457*x + 1.66276346604215"
            ]
          },
          "metadata": {
            "tags": []
          },
          "execution_count": 48
        }
      ]
    },
    {
      "cell_type": "code",
      "metadata": {
        "id": "ZlhTKVDdHpg6",
        "outputId": "23e497df-235e-4285-8567-8d8aa4ec1052",
        "colab": {
          "base_uri": "https://localhost:8080/",
          "height": 34
        }
      },
      "source": [
        "L2_0.as_poly()"
      ],
      "execution_count": 49,
      "outputs": [
        {
          "output_type": "execute_result",
          "data": {
            "text/plain": [
              "Poly(0.0078064012490242*x**2 - 0.244340359094457*x + 1.66276346604215, x, domain='RR')"
            ]
          },
          "metadata": {
            "tags": []
          },
          "execution_count": 49
        }
      ]
    },
    {
      "cell_type": "code",
      "metadata": {
        "id": "-o_bqkZb6MtB",
        "outputId": "76482436-4ae1-4e6a-c710-24ef6ade8171",
        "colab": {
          "base_uri": "https://localhost:8080/",
          "height": 34
        }
      },
      "source": [
        "L2_0.as_poly()(df.X[0])"
      ],
      "execution_count": 50,
      "outputs": [
        {
          "output_type": "execute_result",
          "data": {
            "text/plain": [
              "1.00000000000000"
            ]
          },
          "metadata": {
            "tags": []
          },
          "execution_count": 50
        }
      ]
    },
    {
      "cell_type": "code",
      "metadata": {
        "id": "DXf_QFl-6MtD",
        "outputId": "6b3f9798-464d-4ca3-b929-11592dfc07e2",
        "colab": {
          "base_uri": "https://localhost:8080/",
          "height": 34
        }
      },
      "source": [
        "L2_0.as_poly()(df.X[1])"
      ],
      "execution_count": 51,
      "outputs": [
        {
          "output_type": "execute_result",
          "data": {
            "text/plain": [
              "-4.44089209850063e-16"
            ]
          },
          "metadata": {
            "tags": []
          },
          "execution_count": 51
        }
      ]
    },
    {
      "cell_type": "markdown",
      "metadata": {
        "id": "pGt8p9Pi6MtH"
      },
      "source": [
        "As `python` function"
      ]
    },
    {
      "cell_type": "code",
      "metadata": {
        "id": "QdZDFKwg6MtH",
        "outputId": "30c84099-a484-4886-e2b4-a09fee0bd39c",
        "colab": {
          "base_uri": "https://localhost:8080/",
          "height": 34
        }
      },
      "source": [
        "print( LP.L(df.X,0)(df.X[0]),LP.L(df.X,1)(df.X[1]),LP.L(df.X,2)(df.X[2]) )"
      ],
      "execution_count": 52,
      "outputs": [
        {
          "output_type": "stream",
          "text": [
            "0.9999999999999969 0.9999999999999951 0.9999999999999996\n"
          ],
          "name": "stdout"
        }
      ]
    },
    {
      "cell_type": "code",
      "metadata": {
        "id": "ASNerdbw6MtL",
        "outputId": "d608944e-bd32-4eae-cdf7-adbd8f433b9c",
        "colab": {
          "base_uri": "https://localhost:8080/",
          "height": 85
        }
      },
      "source": [
        "LP.L(df.X,0)(df.X)"
      ],
      "execution_count": 53,
      "outputs": [
        {
          "output_type": "execute_result",
          "data": {
            "text/plain": [
              "0    1.000000e+00\n",
              "1   -4.440892e-16\n",
              "2    5.329071e-15\n",
              "Name: X, dtype: float64"
            ]
          },
          "metadata": {
            "tags": []
          },
          "execution_count": 53
        }
      ]
    },
    {
      "cell_type": "code",
      "metadata": {
        "id": "_khcYeBZ6MtP",
        "outputId": "4a824769-ba3a-4dc5-f555-a94241b09a0d",
        "colab": {
          "base_uri": "https://localhost:8080/",
          "height": 85
        }
      },
      "source": [
        "LP.L(df.X,1)(df.X)"
      ],
      "execution_count": 54,
      "outputs": [
        {
          "output_type": "execute_result",
          "data": {
            "text/plain": [
              "0   -4.302114e-16\n",
              "1    1.000000e+00\n",
              "2   -2.042810e-14\n",
              "Name: X, dtype: float64"
            ]
          },
          "metadata": {
            "tags": []
          },
          "execution_count": 54
        }
      ]
    },
    {
      "cell_type": "code",
      "metadata": {
        "id": "WTerwYpC6MtS",
        "outputId": "d0f184a9-a654-4d63-93da-24e7400dd9e1",
        "colab": {
          "base_uri": "https://localhost:8080/",
          "height": 85
        }
      },
      "source": [
        "LP.L(df.X,2)(df.X)"
      ],
      "execution_count": 55,
      "outputs": [
        {
          "output_type": "execute_result",
          "data": {
            "text/plain": [
              "0    1.665335e-16\n",
              "1    0.000000e+00\n",
              "2    1.000000e+00\n",
              "Name: X, dtype: float64"
            ]
          },
          "metadata": {
            "tags": []
          },
          "execution_count": 55
        }
      ]
    },
    {
      "cell_type": "markdown",
      "metadata": {
        "id": "l0tYzMZp6MtX"
      },
      "source": [
        "__Actividad__ Fit a cuatro puntos, comprobando las propiedades del polinomio de Lagrange"
      ]
    },
    {
      "cell_type": "code",
      "metadata": {
        "id": "9gFhCI7pC_Qd",
        "outputId": "ce8e1887-7f01-44a3-90e1-ccc05a62acfc",
        "colab": {
          "base_uri": "https://localhost:8080/",
          "height": 173
        }
      },
      "source": [
        "df=pd.DataFrame({ 'X':[3,10,21.3,15.7],'Y':[8.,6.5,3.,7.8]}  )\n",
        "df"
      ],
      "execution_count": 56,
      "outputs": [
        {
          "output_type": "execute_result",
          "data": {
            "text/html": [
              "<div>\n",
              "<style scoped>\n",
              "    .dataframe tbody tr th:only-of-type {\n",
              "        vertical-align: middle;\n",
              "    }\n",
              "\n",
              "    .dataframe tbody tr th {\n",
              "        vertical-align: top;\n",
              "    }\n",
              "\n",
              "    .dataframe thead th {\n",
              "        text-align: right;\n",
              "    }\n",
              "</style>\n",
              "<table border=\"1\" class=\"dataframe\">\n",
              "  <thead>\n",
              "    <tr style=\"text-align: right;\">\n",
              "      <th></th>\n",
              "      <th>X</th>\n",
              "      <th>Y</th>\n",
              "    </tr>\n",
              "  </thead>\n",
              "  <tbody>\n",
              "    <tr>\n",
              "      <th>0</th>\n",
              "      <td>3.0</td>\n",
              "      <td>8.0</td>\n",
              "    </tr>\n",
              "    <tr>\n",
              "      <th>1</th>\n",
              "      <td>10.0</td>\n",
              "      <td>6.5</td>\n",
              "    </tr>\n",
              "    <tr>\n",
              "      <th>2</th>\n",
              "      <td>21.3</td>\n",
              "      <td>3.0</td>\n",
              "    </tr>\n",
              "    <tr>\n",
              "      <th>3</th>\n",
              "      <td>15.7</td>\n",
              "      <td>7.8</td>\n",
              "    </tr>\n",
              "  </tbody>\n",
              "</table>\n",
              "</div>"
            ],
            "text/plain": [
              "      X    Y\n",
              "0   3.0  8.0\n",
              "1  10.0  6.5\n",
              "2  21.3  3.0\n",
              "3  15.7  7.8"
            ]
          },
          "metadata": {
            "tags": []
          },
          "execution_count": 56
        }
      ]
    },
    {
      "cell_type": "code",
      "metadata": {
        "id": "LJtlxCEzI7R6"
      },
      "source": [
        "def P_3(x,xs,ys):\n",
        "    return LP.L(xs,0)(x)*ys[0]+LP.L(xs,1)(x)*ys[1]+LP.L( xs,2)(x)*ys[2]+LP.L(xs,3)(x)*ys[3]"
      ],
      "execution_count": 57,
      "outputs": []
    },
    {
      "cell_type": "code",
      "metadata": {
        "id": "zKI7bTKOJDYG",
        "outputId": "dc4949f9-67c2-4661-e80e-189ace7d30f8",
        "colab": {
          "base_uri": "https://localhost:8080/",
          "height": 34
        }
      },
      "source": [
        "LP.lagrangePolynomial(df.X,df.Y)"
      ],
      "execution_count": 59,
      "outputs": [
        {
          "output_type": "execute_result",
          "data": {
            "text/plain": [
              "-0.0071512417472742*x**3 + 0.240071810566007*x**2 - 2.34119664877269*x + 13.0560271784004"
            ]
          },
          "metadata": {
            "tags": []
          },
          "execution_count": 59
        }
      ]
    },
    {
      "cell_type": "code",
      "metadata": {
        "id": "4BSUaU0PJGw5",
        "outputId": "22f76167-1e9e-42bc-df11-c2dcbb723ee6",
        "colab": {
          "base_uri": "https://localhost:8080/",
          "height": 286
        }
      },
      "source": [
        "plt.plot(df.X,df.Y,'ro')\n",
        "x=np.linspace(-8,30)\n",
        "plt.plot(x,P_3( x,df.X,df.Y),'b-')\n",
        "plt.ylim(0,12)"
      ],
      "execution_count": 60,
      "outputs": [
        {
          "output_type": "execute_result",
          "data": {
            "text/plain": [
              "(0.0, 12.0)"
            ]
          },
          "metadata": {
            "tags": []
          },
          "execution_count": 60
        },
        {
          "output_type": "display_data",
          "data": {
            "image/png": "[encoded data removed]",
            "text/plain": [
              "<Figure size 432x288 with 1 Axes>"
            ]
          },
          "metadata": {
            "tags": [],
            "needs_background": "light"
          }
        }
      ]
    },
    {
      "cell_type": "code",
      "metadata": {
        "id": "tVHqmVoPJOmc",
        "outputId": "8cf51043-595b-4602-88e3-d1fa45ac19a1",
        "colab": {
          "base_uri": "https://localhost:8080/",
          "height": 102
        }
      },
      "source": [
        "LP.L(df.X,0)(df.X)"
      ],
      "execution_count": 61,
      "outputs": [
        {
          "output_type": "execute_result",
          "data": {
            "text/plain": [
              "0    1.000000e+00\n",
              "1   -2.664535e-15\n",
              "2    7.105427e-15\n",
              "3    8.881784e-16\n",
              "Name: X, dtype: float64"
            ]
          },
          "metadata": {
            "tags": []
          },
          "execution_count": 61
        }
      ]
    },
    {
      "cell_type": "code",
      "metadata": {
        "id": "K1RBdxCsJPvW",
        "outputId": "822146a8-0f70-479c-97ac-bdb4820a80d3",
        "colab": {
          "base_uri": "https://localhost:8080/",
          "height": 102
        }
      },
      "source": [
        "LP.L(df.X,1)(df.X)"
      ],
      "execution_count": 62,
      "outputs": [
        {
          "output_type": "execute_result",
          "data": {
            "text/plain": [
              "0    1.887379e-15\n",
              "1    1.000000e+00\n",
              "2   -2.842171e-14\n",
              "3   -7.105427e-15\n",
              "Name: X, dtype: float64"
            ]
          },
          "metadata": {
            "tags": []
          },
          "execution_count": 62
        }
      ]
    },
    {
      "cell_type": "code",
      "metadata": {
        "id": "DOrmDejXJSbk",
        "outputId": "893dba6c-2369-43e5-f5fe-8bee9e47cf5b",
        "colab": {
          "base_uri": "https://localhost:8080/",
          "height": 102
        }
      },
      "source": [
        "LP.L(df.X,2)(df.X)"
      ],
      "execution_count": 63,
      "outputs": [
        {
          "output_type": "execute_result",
          "data": {
            "text/plain": [
              "0   -8.881784e-16\n",
              "1   -6.217249e-15\n",
              "2    1.000000e+00\n",
              "3   -1.243450e-14\n",
              "Name: X, dtype: float64"
            ]
          },
          "metadata": {
            "tags": []
          },
          "execution_count": 63
        }
      ]
    },
    {
      "cell_type": "code",
      "metadata": {
        "id": "68q-swiTJV9-",
        "outputId": "83c74b53-f37d-4e1b-c125-7b0db9adde7b",
        "colab": {
          "base_uri": "https://localhost:8080/",
          "height": 102
        }
      },
      "source": [
        "LP.L(df.X,3)(df.X)"
      ],
      "execution_count": 64,
      "outputs": [
        {
          "output_type": "execute_result",
          "data": {
            "text/plain": [
              "0    5.190293e-15\n",
              "1    1.021405e-14\n",
              "2    3.197442e-14\n",
              "3    1.000000e+00\n",
              "Name: X, dtype: float64"
            ]
          },
          "metadata": {
            "tags": []
          },
          "execution_count": 64
        }
      ]
    }
  ]
}