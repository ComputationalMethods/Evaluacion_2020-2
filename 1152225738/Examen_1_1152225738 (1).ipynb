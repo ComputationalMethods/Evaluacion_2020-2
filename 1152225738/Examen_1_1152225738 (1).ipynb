{
  "nbformat": 4,
  "nbformat_minor": 0,
  "metadata": {
    "colab": {
      "name": "Examen 1_1152225738.ipynb",
      "provenance": []
    },
    "kernelspec": {
      "name": "python3",
      "display_name": "Python 3"
    }
  },
  "cells": [
    {
      "cell_type": "markdown",
      "metadata": {
        "id": "yx0Og-Ap8GUx"
      },
      "source": [
        "EXAMEN PARCIAL 1\n"
      ]
    },
    {
      "cell_type": "markdown",
      "metadata": {
        "id": "Tyx7dcE28AeU"
      },
      "source": [
        "Segundo punto\n"
      ]
    },
    {
      "cell_type": "code",
      "metadata": {
        "id": "-0qcIWI6Nl39"
      },
      "source": [
        "import numpy as np"
      ],
      "execution_count": null,
      "outputs": []
    },
    {
      "cell_type": "code",
      "metadata": {
        "id": "ZUDhfWuUNv65",
        "outputId": "7727396d-1d52-4f85-f3f0-9c4b70d14eb4",
        "colab": {
          "base_uri": "https://localhost:8080/",
          "height": 38
        }
      },
      "source": [
        "p = np.polynomial.polynomial.Polynomial([1, -5, 1, -2, 3, 10, 5, 8])\n",
        "p"
      ],
      "execution_count": null,
      "outputs": [
        {
          "output_type": "execute_result",
          "data": {
            "text/latex": "$x \\mapsto \\text{1.0} - \\text{5.0}\\,x + \\text{1.0}\\,x^{2} - \\text{2.0}\\,x^{3} + \\text{3.0}\\,x^{4} + \\text{10.0}\\,x^{5} + \\text{5.0}\\,x^{6} + \\text{8.0}\\,x^{7}$",
            "text/plain": [
              "Polynomial([ 1., -5.,  1., -2.,  3., 10.,  5.,  8.], domain=[-1,  1], window=[-1,  1])"
            ]
          },
          "metadata": {
            "tags": []
          },
          "execution_count": 3
        }
      ]
    },
    {
      "cell_type": "code",
      "metadata": {
        "id": "-4UptPgaODEx",
        "outputId": "462fc88e-3b92-48f0-bccb-70d8c1571406",
        "colab": {
          "base_uri": "https://localhost:8080/",
          "height": 85
        }
      },
      "source": [
        "p.roots()"
      ],
      "execution_count": null,
      "outputs": [
        {
          "output_type": "execute_result",
          "data": {
            "text/plain": [
              "array([-0.9789848 +0.j        , -0.32808424-1.03196571j,\n",
              "       -0.32808424+1.03196571j,  0.07991309-0.90073866j,\n",
              "        0.07991309+0.90073866j,  0.20698744+0.j        ,\n",
              "        0.64333967+0.j        ])"
            ]
          },
          "metadata": {
            "tags": []
          },
          "execution_count": 4
        }
      ]
    },
    {
      "cell_type": "code",
      "metadata": {
        "id": "HzOqx8oTQqSX"
      },
      "source": [
        "from sympy import *\n",
        "from sympy.plotting import plot\n",
        "from sympy.abc import x\n",
        "\n",
        "init_printing()\n",
        "import matplotlib as plt\n",
        "from matplotlib import animation, rc\n",
        "rc('animation', html='jshtml')\n",
        "from matplotlib import pyplot"
      ],
      "execution_count": null,
      "outputs": []
    },
    {
      "cell_type": "code",
      "metadata": {
        "id": "kO15VCMyQ6q3",
        "outputId": "a3f38956-d167-4181-f99f-e946bc9a2294",
        "colab": {
          "base_uri": "https://localhost:8080/",
          "height": 38
        }
      },
      "source": [
        "df = p.deriv() # 1era. derivada\n",
        "#d2f = p.deriv() # Segunda derivada\n",
        "#d3f = p.deriv() #tercera derivada\n",
        "#d4f = p.deriv() #cuarta derivada\n",
        "#d5f = p.deriv() #quinta derivada\n",
        "#d6f = p.deriv() #sexta deivada\n",
        "#d7f = p.deriv() #septima derivada\n",
        "\n",
        "df #, d2f, d3f, d4f, d5f, d6f, d7f"
      ],
      "execution_count": null,
      "outputs": [
        {
          "output_type": "execute_result",
          "data": {
            "text/latex": "$x \\mapsto \\text{-5.0} + \\text{2.0}\\,x - \\text{6.0}\\,x^{2} + \\text{12.0}\\,x^{3} + \\text{50.0}\\,x^{4} + \\text{30.0}\\,x^{5} + \\text{56.0}\\,x^{6}$",
            "text/plain": [
              "Polynomial([-5.,  2., -6., 12., 50., 30., 56.], domain=[-1.,  1.], window=[-1.,  1.])"
            ]
          },
          "metadata": {
            "tags": []
          },
          "execution_count": 25
        }
      ]
    },
    {
      "cell_type": "code",
      "metadata": {
        "id": "deDYZAmcUOu_",
        "outputId": "18e11dd5-a898-4292-db2e-137151aae5a2",
        "colab": {
          "base_uri": "https://localhost:8080/",
          "height": 38
        }
      },
      "source": [
        "f = np.polynomial.polynomial.Polynomial([-5.0, 2.0, -6.0, 12.0, 50.0, 30.0, 56.0])\n",
        "f"
      ],
      "execution_count": null,
      "outputs": [
        {
          "output_type": "execute_result",
          "data": {
            "text/latex": "$x \\mapsto \\text{-5.0} + \\text{2.0}\\,x - \\text{6.0}\\,x^{2} + \\text{12.0}\\,x^{3} + \\text{50.0}\\,x^{4} + \\text{30.0}\\,x^{5} + \\text{56.0}\\,x^{6}$",
            "text/plain": [
              "Polynomial([-5.,  2., -6., 12., 50., 30., 56.], domain=[-1,  1], window=[-1,  1])"
            ]
          },
          "metadata": {
            "tags": []
          },
          "execution_count": 38
        }
      ]
    },
    {
      "cell_type": "code",
      "metadata": {
        "id": "IEcoTkkxVOLa",
        "outputId": "5288ba99-1465-4800-f68b-bb7067222328",
        "colab": {
          "base_uri": "https://localhost:8080/",
          "height": 38
        }
      },
      "source": [
        "d2f = f.deriv() # Segunda derivada\n",
        "\n",
        "d2f"
      ],
      "execution_count": null,
      "outputs": [
        {
          "output_type": "execute_result",
          "data": {
            "text/latex": "$x \\mapsto \\text{2.0} - \\text{12.0}\\,x + \\text{36.0}\\,x^{2} + \\text{200.0}\\,x^{3} + \\text{150.0}\\,x^{4} + \\text{336.0}\\,x^{5}$",
            "text/plain": [
              "Polynomial([  2., -12.,  36., 200., 150., 336.], domain=[-1.,  1.], window=[-1.,  1.])"
            ]
          },
          "metadata": {
            "tags": []
          },
          "execution_count": 39
        }
      ]
    },
    {
      "cell_type": "code",
      "metadata": {
        "id": "TIEbSAmNYiVG",
        "outputId": "10468fb3-c05f-406c-e158-63e83b96ab7c",
        "colab": {
          "base_uri": "https://localhost:8080/",
          "height": 38
        }
      },
      "source": [
        "l = np.polynomial.polynomial.Polynomial([2.0, -12.0, 36.0, 200.0, 150.0, 336.0])\n",
        "l\n"
      ],
      "execution_count": null,
      "outputs": [
        {
          "output_type": "execute_result",
          "data": {
            "text/latex": "$x \\mapsto \\text{2.0} - \\text{12.0}\\,x + \\text{36.0}\\,x^{2} + \\text{200.0}\\,x^{3} + \\text{150.0}\\,x^{4} + \\text{336.0}\\,x^{5}$",
            "text/plain": [
              "Polynomial([  2., -12.,  36., 200., 150., 336.], domain=[-1,  1], window=[-1,  1])"
            ]
          },
          "metadata": {
            "tags": []
          },
          "execution_count": 41
        }
      ]
    },
    {
      "cell_type": "code",
      "metadata": {
        "id": "X5Y5ofR8ZBbL",
        "outputId": "35202bcb-6784-4bc5-b888-828f13fa5e66",
        "colab": {
          "base_uri": "https://localhost:8080/",
          "height": 38
        }
      },
      "source": [
        "d3f = l.deriv() # tercera derivada\n",
        "\n",
        "d3f"
      ],
      "execution_count": null,
      "outputs": [
        {
          "output_type": "execute_result",
          "data": {
            "text/latex": "$x \\mapsto \\text{-12.0} + \\text{72.0}\\,x + \\text{600.0}\\,x^{2} + \\text{600.0}\\,x^{3} + \\text{1680.0}\\,x^{4}$",
            "text/plain": [
              "Polynomial([ -12.,   72.,  600.,  600., 1680.], domain=[-1.,  1.], window=[-1.,  1.])"
            ]
          },
          "metadata": {
            "tags": []
          },
          "execution_count": 42
        }
      ]
    },
    {
      "cell_type": "code",
      "metadata": {
        "id": "9OnU-XynZQAM",
        "outputId": "7b807b99-d8ab-4d69-fd1e-a745c3d4952f",
        "colab": {
          "base_uri": "https://localhost:8080/",
          "height": 38
        }
      },
      "source": [
        "h = np.polynomial.polynomial.Polynomial([-12.0, 72.0, 600.0, 600.4, 1680.0])\n",
        "h"
      ],
      "execution_count": null,
      "outputs": [
        {
          "output_type": "execute_result",
          "data": {
            "text/latex": "$x \\mapsto \\text{-12.0} + \\text{72.0}\\,x + \\text{600.0}\\,x^{2} + \\text{600.4}\\,x^{3} + \\text{1680.0}\\,x^{4}$",
            "text/plain": [
              "Polynomial([ -12. ,   72. ,  600. ,  600.4, 1680. ], domain=[-1,  1], window=[-1,  1])"
            ]
          },
          "metadata": {
            "tags": []
          },
          "execution_count": 43
        }
      ]
    },
    {
      "cell_type": "code",
      "metadata": {
        "id": "tpMy0U6gZpfE",
        "outputId": "e5ff63b0-ffbe-496d-d808-6418828b4cc9",
        "colab": {
          "base_uri": "https://localhost:8080/",
          "height": 38
        }
      },
      "source": [
        "d4f = h.deriv() # cuarta derivada\n",
        "\n",
        "d4f"
      ],
      "execution_count": null,
      "outputs": [
        {
          "output_type": "execute_result",
          "data": {
            "text/latex": "$x \\mapsto \\text{72.0} + \\text{1200.0}\\,x + \\text{1801.1999999999998}\\,x^{2} + \\text{6720.0}\\,x^{3}$",
            "text/plain": [
              "Polynomial([  72. , 1200. , 1801.2, 6720. ], domain=[-1.,  1.], window=[-1.,  1.])"
            ]
          },
          "metadata": {
            "tags": []
          },
          "execution_count": 44
        }
      ]
    },
    {
      "cell_type": "code",
      "metadata": {
        "id": "ufOkIKc9Zwqc",
        "outputId": "18a0d8d2-dd98-47e1-f704-a9f9b87a0e61",
        "colab": {
          "base_uri": "https://localhost:8080/",
          "height": 38
        }
      },
      "source": [
        "q = np.polynomial.polynomial.Polynomial([ 72.0, 1200.0, 1801.19, 6720.0])\n",
        "q"
      ],
      "execution_count": null,
      "outputs": [
        {
          "output_type": "execute_result",
          "data": {
            "text/latex": "$x \\mapsto \\text{72.0} + \\text{1200.0}\\,x + \\text{1801.19}\\,x^{2} + \\text{6720.0}\\,x^{3}$",
            "text/plain": [
              "Polynomial([  72.  , 1200.  , 1801.19, 6720.  ], domain=[-1,  1], window=[-1,  1])"
            ]
          },
          "metadata": {
            "tags": []
          },
          "execution_count": 49
        }
      ]
    },
    {
      "cell_type": "code",
      "metadata": {
        "id": "5n676pYXaDQe",
        "outputId": "7820d1ce-a3c6-403b-f8c1-c17ba012b7eb",
        "colab": {
          "base_uri": "https://localhost:8080/",
          "height": 38
        }
      },
      "source": [
        "d5f = q.deriv() # quinta derivada\n",
        "\n",
        "d5f"
      ],
      "execution_count": null,
      "outputs": [
        {
          "output_type": "execute_result",
          "data": {
            "text/latex": "$x \\mapsto \\text{1200.0} + \\text{3602.38}\\,x + \\text{20160.0}\\,x^{2}$",
            "text/plain": [
              "Polynomial([ 1200.  ,  3602.38, 20160.  ], domain=[-1.,  1.], window=[-1.,  1.])"
            ]
          },
          "metadata": {
            "tags": []
          },
          "execution_count": 46
        }
      ]
    },
    {
      "cell_type": "code",
      "metadata": {
        "id": "MdhfW1J7aLan",
        "outputId": "1e77829a-4de7-4391-b987-2e81084577e1",
        "colab": {
          "base_uri": "https://localhost:8080/",
          "height": 38
        }
      },
      "source": [
        "ñ = np.polynomial.polynomial.Polynomial([ 1200.0, 3602.38, 20160.0])\n",
        "ñ"
      ],
      "execution_count": null,
      "outputs": [
        {
          "output_type": "execute_result",
          "data": {
            "text/latex": "$x \\mapsto \\text{1200.0} + \\text{3602.38}\\,x + \\text{20160.0}\\,x^{2}$",
            "text/plain": [
              "Polynomial([ 1200.  ,  3602.38, 20160.  ], domain=[-1,  1], window=[-1,  1])"
            ]
          },
          "metadata": {
            "tags": []
          },
          "execution_count": 50
        }
      ]
    },
    {
      "cell_type": "code",
      "metadata": {
        "id": "aLISq4fXachQ",
        "outputId": "fc049dd1-1f69-4b04-8f58-ee4fac3b1c69",
        "colab": {
          "base_uri": "https://localhost:8080/",
          "height": 38
        }
      },
      "source": [
        "d6f = ñ.deriv() # sexta derivada\n",
        "\n",
        "d6f"
      ],
      "execution_count": null,
      "outputs": [
        {
          "output_type": "execute_result",
          "data": {
            "text/latex": "$x \\mapsto \\text{3602.38} + \\text{40320.0}\\,x$",
            "text/plain": [
              "Polynomial([ 3602.38, 40320.  ], domain=[-1.,  1.], window=[-1.,  1.])"
            ]
          },
          "metadata": {
            "tags": []
          },
          "execution_count": 51
        }
      ]
    },
    {
      "cell_type": "code",
      "metadata": {
        "id": "6MGCxr63akTh",
        "outputId": "63abc4f3-7629-4c83-9df2-a81011d7f927",
        "colab": {
          "base_uri": "https://localhost:8080/",
          "height": 38
        }
      },
      "source": [
        "r = np.polynomial.polynomial.Polynomial([ 3602.38, 40320.0])\n",
        "r"
      ],
      "execution_count": null,
      "outputs": [
        {
          "output_type": "execute_result",
          "data": {
            "text/latex": "$x \\mapsto \\text{3602.38} + \\text{40320.0}\\,x$",
            "text/plain": [
              "Polynomial([ 3602.38, 40320.  ], domain=[-1,  1], window=[-1,  1])"
            ]
          },
          "metadata": {
            "tags": []
          },
          "execution_count": 52
        }
      ]
    },
    {
      "cell_type": "code",
      "metadata": {
        "id": "8RvAStTraub4",
        "outputId": "63e23251-d625-43de-8fbb-e92368ce8a2c",
        "colab": {
          "base_uri": "https://localhost:8080/",
          "height": 38
        }
      },
      "source": [
        "d7f = r.deriv() # septima derivada\n",
        "\n",
        "d7f"
      ],
      "execution_count": null,
      "outputs": [
        {
          "output_type": "execute_result",
          "data": {
            "text/latex": "$x \\mapsto \\text{40320.0}$",
            "text/plain": [
              "Polynomial([40320.], domain=[-1.,  1.], window=[-1.,  1.])"
            ]
          },
          "metadata": {
            "tags": []
          },
          "execution_count": 53
        }
      ]
    },
    {
      "cell_type": "code",
      "metadata": {
        "id": "Xd1_TVJKb6Cl",
        "outputId": "50b2d83f-c874-4769-edd2-93203647621d",
        "colab": {
          "base_uri": "https://localhost:8080/",
          "height": 37
        }
      },
      "source": [
        "solve([p.deriv==0])"
      ],
      "execution_count": null,
      "outputs": [
        {
          "output_type": "execute_result",
          "data": {
            "image/png": "[encoded data removed]",
            "text/latex": "$$\\mathrm{False}$$",
            "text/plain": [
              "False"
            ]
          },
          "metadata": {
            "tags": []
          },
          "execution_count": 56
        }
      ]
    },
    {
      "cell_type": "code",
      "metadata": {
        "id": "nHN0WFGueeI8",
        "outputId": "1e976edc-c889-4352-8ce7-396c7a2d7699",
        "colab": {
          "base_uri": "https://localhost:8080/",
          "height": 68
        }
      },
      "source": [
        "# raices de la primera derivada de la función: puntos criticos\n",
        "f.roots()"
      ],
      "execution_count": null,
      "outputs": [
        {
          "output_type": "execute_result",
          "data": {
            "text/plain": [
              "array([-0.6984304 +0.j        , -0.18462304-0.91567947j,\n",
              "       -0.18462304+0.91567947j,  0.02607655-0.55196912j,\n",
              "        0.02607655+0.55196912j,  0.47980909+0.j        ])"
            ]
          },
          "metadata": {
            "tags": []
          },
          "execution_count": 57
        }
      ]
    },
    {
      "cell_type": "code",
      "metadata": {
        "id": "2CgKswOGhg5G"
      },
      "source": [
        "#definimos la primera derivada de la función p\n",
        "def f1(x):\n",
        "    return (-5.0) + (2.0)*x + (-6.0)*x**2 + (12.0)*x**3 + (50.0)*x**4 + (30.0)*x**5 + (56.0)*x**6\n"
      ],
      "execution_count": null,
      "outputs": []
    },
    {
      "cell_type": "code",
      "metadata": {
        "id": "eCgqvvEKim0T",
        "outputId": "bf4cd8cd-f095-42ab-a627-85659304ee84",
        "colab": {
          "base_uri": "https://localhost:8080/",
          "height": 293
        }
      },
      "source": [
        "x = range(-10, 60)\n",
        "\n",
        "pyplot.plot(x, [f1(i) for i in x])"
      ],
      "execution_count": null,
      "outputs": [
        {
          "output_type": "execute_result",
          "data": {
            "text/plain": [
              "[<matplotlib.lines.Line2D at 0x7ff490e056a0>]"
            ]
          },
          "metadata": {
            "tags": []
          },
          "execution_count": 75
        },
        {
          "output_type": "display_data",
          "data": {
            "image/png": "[encoded data removed]",
            "text/plain": [
              "<Figure size 432x288 with 1 Axes>"
            ]
          },
          "metadata": {
            "tags": [],
            "needs_background": "light"
          }
        }
      ]
    },
    {
      "cell_type": "code",
      "metadata": {
        "id": "A82x1adejPFW"
      },
      "source": [
        "def f(x):\n",
        "    return (1.0) + (-5.0)*x + (1.0)*x**2 + (-2.0)*x**3 + (3.0)*x**4 + (10.0)*x**5 + (5.0)*x**6 + (8.0)*x**7\n",
        "    "
      ],
      "execution_count": null,
      "outputs": []
    },
    {
      "cell_type": "code",
      "metadata": {
        "id": "G6CUmwAoj58j",
        "outputId": "2b53b096-4e53-4c78-a67e-a20a5b031f34",
        "colab": {
          "base_uri": "https://localhost:8080/",
          "height": 293
        }
      },
      "source": [
        "x = range(-10, 60)\n",
        "\n",
        "pyplot.plot(x, [f(i) for i in x])"
      ],
      "execution_count": null,
      "outputs": [
        {
          "output_type": "execute_result",
          "data": {
            "text/plain": [
              "[<matplotlib.lines.Line2D at 0x7ff490d0e8d0>]"
            ]
          },
          "metadata": {
            "tags": []
          },
          "execution_count": 77
        },
        {
          "output_type": "display_data",
          "data": {
            "image/png": "[encoded data removed]",
            "text/plain": [
              "<Figure size 432x288 with 1 Axes>"
            ]
          },
          "metadata": {
            "tags": [],
            "needs_background": "light"
          }
        }
      ]
    },
    {
      "cell_type": "code",
      "metadata": {
        "id": "_w0XHnEr_k1_"
      },
      "source": [
        "import numpy \n",
        "import matplotlib.pyplot as plt\n",
        "from scipy.optimize import fmin\n",
        " \n",
        "# Función objetivo\n",
        "fderiv = (1.0) + (-5.0)*x + (1.0)*x**2 + (-2.0)*x**3 + (3.0)*x**4 + (10.0)*x**5 + (5.0)*x**6 + (8.0)*x**7\n",
        " \n",
        "# Empezamos a partir de x = -0.698\n",
        "x0 = -0.98\n",
        "xmin0 = fmin(fderiv,x0)\n",
        " \n",
        "# Empezamos a partir de x = 0.479\n",
        "x1 = 0.479\n",
        "xmin1 = fmin(fderiv,x1)\n",
        " \n",
        "# Dibujamos la función\n",
        "x = numpy.linspace(-15,15,100)\n",
        "y = fderiv(x)\n",
        "plt.plot(x,y)\n",
        "# Dibujo de x0 y el mínimo encontrado empezando en x0\n",
        "plt.plot(x0,fderiv(x0),'bd',xmin0,fderiv(xmin0),'bo')\n",
        "# Dibujo de x1 y el mínimo encontrado empezando en x1\n",
        "plt.plot(x1,fderiv(x1),'rd',xmin1,fderiv(xmin1),'ro')\n",
        "plt.axis([-2,2,-1,2])\n",
        "plt.show()\n"
      ],
      "execution_count": null,
      "outputs": []
    },
    {
      "cell_type": "markdown",
      "metadata": {
        "id": "IMO03fxi5Dw_"
      },
      "source": [
        "Primer punto"
      ]
    },
    {
      "cell_type": "code",
      "metadata": {
        "id": "jBRtCN3HCfTk",
        "outputId": "388e4f92-72ec-4558-d0dc-00c0f135d829",
        "colab": {
          "base_uri": "https://localhost:8080/",
          "height": 34
        }
      },
      "source": [
        "#Importamos librerías \n",
        "import json\n",
        "import requests\n",
        "import numpy as np\n",
        "from scipy import optimize\n",
        "import matplotlib.pyplot as plt\n",
        "\n",
        "l = requests.get('https://api.crossref.org/journals/1029-8479/works?rows=100')\n",
        "data = json.loads(l.text)\n",
        "\n",
        "dicts = data['message']['items']\n",
        "\n",
        "dois = []\n",
        "for item in dicts:\n",
        "    for author in item['author']:\n",
        "        if author['given'] == 'Alessandro' and author['family'] == 'Strumia':\n",
        "            dois.append(item['DOI'])\n",
        "\n",
        "print(dois)"
      ],
      "execution_count": 105,
      "outputs": [
        {
          "output_type": "stream",
          "text": [
            "['10.1088/1126-6708/2000/12/016', '10.1088/1126-6708/2001/11/048']\n"
          ],
          "name": "stdout"
        }
      ]
    }
  ]
}