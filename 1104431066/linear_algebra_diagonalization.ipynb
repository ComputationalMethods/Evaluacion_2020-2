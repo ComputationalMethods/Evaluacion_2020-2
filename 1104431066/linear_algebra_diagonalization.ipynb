{
  "nbformat": 4,
  "nbformat_minor": 0,
  "metadata": {
    "kernelspec": {
      "display_name": "Python 3",
      "language": "python",
      "name": "python3"
    },
    "language_info": {
      "codemirror_mode": {
        "name": "ipython",
        "version": 3
      },
      "file_extension": ".py",
      "mimetype": "text/x-python",
      "name": "python",
      "nbconvert_exporter": "python",
      "pygments_lexer": "ipython3",
      "version": "3.7.3"
    },
    "colab": {
      "name": "linear-algebra-diagonalization.ipynb",
      "provenance": []
    }
  },
  "cells": [
    {
      "cell_type": "markdown",
      "metadata": {
        "id": "I-46MAJZImXY"
      },
      "source": [
        "# Matrix diagonalization\n",
        "<a href=\"https://colab.research.google.com/github/restrepo/ComputationalMethods/blob/master/material/linear-algebra-diagonalization.ipynb\" target=\"_parent\"><img src=\"https://colab.research.google.com/assets/colab-badge.svg\" alt=\"Open In Colab\"/></a>"
      ]
    },
    {
      "cell_type": "markdown",
      "metadata": {
        "id": "40WhQJy2EWqx"
      },
      "source": [
        "## Theorem 1\n",
        "\n",
        "If $\\boldsymbol{A}$ is Hermitic, e.g:\n",
        "\\begin{align}\n",
        "\\boldsymbol{A}^\\dagger =\\boldsymbol{A}\\,,\n",
        "\\end{align}\n",
        "Then exists an _unitary  matrix_ $\\boldsymbol{V}$ e.g:\n",
        "\\begin{align}\n",
        "\\boldsymbol{V}^{\\ -1}=\\boldsymbol{V}^\\dagger \\,,\n",
        "\\end{align}\n",
        "such that\n",
        "\\begin{equation}\n",
        "  \\boldsymbol{V}^\\dagger\\boldsymbol{A}\\,\\boldsymbol{V}=\\boldsymbol{A}_{\\text{diag}}\\,,\n",
        "\\end{equation}\n",
        "where \n",
        "$\\boldsymbol{A}_{\\text{diag}}=\\operatorname{diag}(\\lambda_1,\\lambda_2,\\ldots \\lambda_n)$ is the diagonalized mass matrix."
      ]
    },
    {
      "cell_type": "markdown",
      "metadata": {
        "id": "QousO-tmLx5e"
      },
      "source": [
        "### Corollary 1\n",
        "\n",
        "If $\\boldsymbol{A}$ is symmetric, e.g:\n",
        "\\begin{align}\n",
        "\\boldsymbol{A}^{\\operatorname{T}} =\\boldsymbol{A}\\,,\n",
        "\\end{align}\n",
        "Then exists an _ortogonal matrix_ $\\boldsymbol{V}$, e.g:\n",
        "\\begin{align}\n",
        "\\boldsymbol{V}^{-1}=\\boldsymbol{V}^{\\operatorname{T}} \\,,\n",
        "\\end{align}\n",
        "such that\n",
        "\\begin{equation}\n",
        "  \\boldsymbol{V}^{\\operatorname{T}}\\boldsymbol{A}\\,\\boldsymbol{V}=\\boldsymbol{A}_{\\text{diag}}\\,,\n",
        "\\end{equation}\n",
        "where \n",
        "$\\boldsymbol{A}_{\\text{diag}}=\\operatorname{diag}(\\lambda_1,\\lambda_2,\\ldots \\lambda_n)$ is the diagonalized mass matrix."
      ]
    },
    {
      "cell_type": "markdown",
      "metadata": {
        "id": "3e6BYZhNxrJH"
      },
      "source": [
        "____"
      ]
    },
    {
      "cell_type": "markdown",
      "metadata": {
        "id": "Czn5t78GZepT"
      },
      "source": [
        "### Eigenvector problem\n",
        "Note that each eigenvector, corresponding to each column of the matrix, is associated to each eigenvalue\n",
        "$$\n",
        "\\boldsymbol{V}=\\begin{bmatrix}\n",
        "\\boldsymbol{V}_1 \\vdots \\boldsymbol{V}_2\\cdots \\vdots \\boldsymbol{V}_i \\vdots \\boldsymbol{V}_j\\vdots\\cdots \\vdots \\boldsymbol{V}_n \n",
        "\\end{bmatrix}.\n",
        "$$\n",
        "where $\\boldsymbol{V}_i$ is the $i$-th column of the matrix  $\\boldsymbol{V}$.\n",
        "\n",
        "In this way, if we interchange the $i\\leftrightarrow j$ columns of the diagonalization matrix $\\boldsymbol{V}$, the order of the eigenvalues also change\n",
        "$$\n",
        "\\begin{bmatrix}\n",
        "\\boldsymbol{V}_1 \\vdots \\boldsymbol{V}_2\\cdots \\vdots \\boldsymbol{V}_j \\vdots \\boldsymbol{V}_i\\vdots\\cdots \\vdots \\boldsymbol{V}_n \n",
        "\\end{bmatrix}^\\dagger \\boldsymbol{A} \\begin{bmatrix}\n",
        "\\boldsymbol{V}_1 \\vdots \\boldsymbol{V}_2\\cdots \\vdots \\boldsymbol{V}_j \\vdots \\boldsymbol{V}_i\\vdots\\cdots \\vdots \\boldsymbol{V}_n \n",
        "\\end{bmatrix}=\\operatorname{diag}(\\lambda_1,\\lambda_2,\\ldots,\\lambda_j,\\lambda_i,\\ldots \\lambda_n).\n",
        "$$\n",
        "This property is very important because usually the diagonalizationn alghoritm gives not the desired ordering of the eigenvalues and eigenvectors. It is recommended to use the `np.c_` method for the eigenvector reoirdering\n",
        "\n",
        "However, the __Theorem__ only guarantees existence. Tor really calculate the diagonalization matrix we must establish the eigenvector problem:\n",
        "\n",
        "We can use the unitary propery to write\n",
        "\\begin{align}\n",
        "  \\boldsymbol{V}\\boldsymbol{V}^\\dagger\\boldsymbol{A}\\,\\boldsymbol{V}=&\\boldsymbol{V}\\boldsymbol{A}_{\\text{diag}}\\\\\n",
        "\\boldsymbol{A}\\,\\boldsymbol{V}=&\\boldsymbol{V}\\boldsymbol{A}_{\\text{diag}}\\,,\n",
        "\\end{align}\n",
        "or\n",
        "$$\n",
        "\\boldsymbol{A}\\begin{bmatrix}\n",
        "\\boldsymbol{V}_1 \\vdots \\boldsymbol{V}_2\\cdots \\vdots \\boldsymbol{V}_n \n",
        "\\end{bmatrix} =\\operatorname{diag}(\\lambda_1,\\lambda_2\\ldots,\\lambda_n)\\begin{bmatrix}\n",
        "\\boldsymbol{V}_1 \\vdots \\boldsymbol{V}_2\\cdots  \\vdots \\boldsymbol{V}_n \n",
        "\\end{bmatrix}.\n",
        "$$\n",
        "Therefore, the eigenvalue equation is just:\n",
        "\\begin{align}\n",
        "%$$\n",
        "  \\boldsymbol{A}\\,\\boldsymbol{V}_i=&\\lambda_i\\boldsymbol{V}_i \\nonumber\\\\\n",
        "  \\boldsymbol{A}\\,\\boldsymbol{V}_i-\\lambda_i\\boldsymbol{V}_i=&\\boldsymbol{0} \\nonumber\\\\\n",
        "  (\\boldsymbol{A}-\\lambda_i \\,\\boldsymbol{I})\\boldsymbol{V}_i=&\\boldsymbol{0}\\,,\n",
        "%$$\n",
        "\\end{align}\n",
        "where $\\boldsymbol{V}_i$ is the $i$-th column of the matrix  $\\boldsymbol{V}$, and $\\boldsymbol{I}$ is the identity matrix. \n",
        "\n",
        "To avoid the trivial solution $\\boldsymbol{V}_i=\\boldsymbol{0}$, we require that $\\boldsymbol{A}-\\lambda_i\\, \\boldsymbol{I}$\n",
        "does not have an inverse, or equivalently\n",
        "$$\\det( \\boldsymbol{A}-\\lambda_i\\, \\boldsymbol{I})=0\\,.$$"
      ]
    },
    {
      "cell_type": "markdown",
      "metadata": {
        "id": "8_DBQIrexrJI"
      },
      "source": [
        "### Example\n",
        "From [arXiv:2010.06458](https://arxiv.org/pdf/2010.06458.pdf):\n",
        "\n",
        "> In the three flavor neutrino oscillation, the neutrino flavor states $\\left|\\nu_{\\alpha}\\right\\rangle(\\alpha=e, \\mu, \\tau)$ are linear superposition of mass eigenstates $\\left|\\nu_{j}\\right\\rangle(j=1,2,3):\\left|\\nu_{\\alpha}\\right\\rangle=\\Sigma_{j} U_{\\alpha j}\\left|\\nu_{j}\\right\\rangle,$ where $U_{\\alpha j}$ are the elements of the lepton mixing matrix known as PMNS (Pontecorvo-Maki-Nakagawa-Sakita) matrix such that\n",
        "$$\n",
        "\\left(\\begin{array}{l}\n",
        "\\left|\\nu_{e}\\right\\rangle \\\\\n",
        "\\left|\\nu_{\\mu}\\right\\rangle \\\\\n",
        "\\left|\\nu_{\\tau}\\right\\rangle\n",
        "\\end{array}\\right)=\\left(\\begin{array}{lll}\n",
        "U_{e 1} & U_{e 2} & U_{e 3} \\\\\n",
        "U_{\\mu 1} & U_{\\mu 2} & U_{\\mu 3} \\\\\n",
        "U_{\\tau 1} & U_{\\tau 2} & U_{\\tau 3}\n",
        "\\end{array}\\right)\\left(\\begin{array}{l}\n",
        "\\left|\\nu_{1}\\right\\rangle \\\\\n",
        "\\left|\\nu_{2}\\right\\rangle \\\\\n",
        "\\left|\\nu_{3}\\right\\rangle\n",
        "\\end{array}\\right)\n",
        "$$\n",
        "The time evolution follows $\\left|\\nu_{\\alpha}(t)\\right\\rangle=\\Sigma_{j} e^{-i E_{j} t} U_{\\alpha j}\\left|\\nu_{j}\\right\\rangle,$ where $E_{j}$ is the energy associated with the mass eigenstates $\\left|\\nu_{i}\\right\\rangle$ This is a superposition state. \n",
        "\n",
        "The observables associated to the three neutrinos are the entries of the $3\\times 3$ unitary matrix $\\boldsymbol{U}=\\begin{pmatrix}\\boldsymbol{U}_1\\vdots\\boldsymbol{U}_2\\vdots\\boldsymbol{U}_3\\end{pmatrix}$, and the eigenvalues associated to each eigenvector $\\boldsymbol{U}_1\\to  m_1$, $\\boldsymbol{U}_2\\to m_2$, $\\boldsymbol{U}_3\\to m_3$. The normal ordering is $m_1<m_2<m_3$. The unitary matrix can be parameterized in terms of three mixing angles, $\\theta_{12}$ $\\theta_{13}$, $\\theta_{13}$, and a complex phase, $\\delta_{\\text{CP}}$, such that\n",
        "$$\n",
        "\\boldsymbol{U}=\\left(\\begin{array}{ccc}\n",
        "1 & 0 & 0 \\\\\n",
        "0 & c_{23} & s_{23} \\\\\n",
        "0 & -s_{23} & c_{23}\n",
        "\\end{array}\\right) \\cdot\\left(\\begin{array}{ccc}\n",
        "c_{13} & 0 & s_{13} e^{-i \\delta_{\\mathrm{CP}}} \\\\\n",
        "0 & 1 & 0 \\\\\n",
        "-s_{13} e^{i \\delta_{\\mathrm{CP}}} & 0 & c_{13}\n",
        "\\end{array}\\right) \\cdot\\left(\\begin{array}{ccc}\n",
        "c_{21} & s_{12} & 0 \\\\\n",
        "-s_{12} & c_{12} & 0 \\\\\n",
        "0 & 0 & 1\n",
        "\\end{array}\\right),\n",
        "$$\n",
        "where $c_{i j} \\equiv \\cos \\theta_{i j}$ and $s_{i j} \\equiv \\sin \\theta_{i j}$. Thus, we can write $\\boldsymbol{U}$ as\n",
        "$$\n",
        "\\boldsymbol{U}=\\left(\\begin{array}{ccc}c_{12} c_{13} & s_{12} c_{13} & s_{13} e^{-i \\delta_{\\mathrm{CP}}} \\\\ -s_{12} c_{23}-c_{12} s_{13} s_{23} e^{i \\delta_{\\mathrm{CP}}} & c_{12} c_{23}-s_{12} s_{13} s_{23} e^{i \\delta_{\\mathrm{CP}}} & c_{13} s_{23} \\\\ s_{12} s_{23}-c_{12} s_{13} c_{23} e^{i \\delta_{\\mathrm{CP}}} & -c_{12} s_{23}-s_{12} s_{13} c_{23} e^{i \\delta_{\\mathrm{CP}}} & c_{13} c_{23}\\end{array}\\right)\n",
        "$$\n",
        "so that\n",
        "$$\n",
        "\\boldsymbol{U}_1=\\begin{pmatrix}U_{e1}\\\\ U_{\\mu 1}\\\\ U_{\\tau 1}\\end{pmatrix}=\\begin{pmatrix}\n",
        "c_{12} c_{13} \\\\\n",
        "-s_{12} c_{23}-c_{12} s_{13} s_{23} e^{i \\delta_{\\mathrm{CP}}} \\\\\n",
        "s_{12} s_{23}-c_{12} s_{13} c_{23} e^{i \\delta_{\\mathrm{CP}}}\n",
        "\\end{pmatrix},\\qquad \n",
        "\\boldsymbol{U}_2=\\begin{pmatrix}U_{e2}\\\\ U_{\\mu 2}\\\\ U_{\\tau 2}\\end{pmatrix}=\\begin{pmatrix}\n",
        "s_{12} c_{13} \\\\\n",
        "c_{12} c_{23}-s_{12} s_{13} s_{23} e^{i \\delta_{\\mathrm{CP}}} \\\\\n",
        "-c_{12} s_{23}-s_{12} s_{13} c_{23} e^{i \\delta_{\\mathrm{CP}}}\n",
        "\\end{pmatrix},\\qquad\n",
        "\\boldsymbol{U}_3=\\begin{pmatrix}U_{e3}\\\\ U_{\\mu 3}\\\\ U_{\\tau 3}\\end{pmatrix}=\\begin{pmatrix}\n",
        "s_{13} e^{-i \\delta_{\\mathrm{CP}}} \\\\\n",
        "c_{13} s_{23} \\\\\n",
        "c_{13} c_{23}\n",
        "\\end{pmatrix}\n",
        "$$\n",
        "\n",
        "After decades of experimental efforts with thousands of millions of dollars in investment and two recent Nobel prizes, most of the parameters are already measured (see [PDG22020](https://pdg.lbl.gov/2018/reviews/rpp2018-rev-neutrino-mixing.pdf) ):\n",
        "\n",
        "![IMAGE](https://github.com/restrepo/ComputationalMethods/raw/master/material/figures/nu.png)\n",
        "\n",
        "where $\\Delta m^2_{ij}=m^2_i-m^2_j$ is the squared mass difference between eigenvalues $i$ and $j$; and $\\text{eV}$ is really $\\text{eV}/c^2$ where $c$ is the speed of light  in vacuum in natural units with $c=1$, and $1\\ \\text{eV}=1.602\\,176\\,6208(98)\\times 10^{-19}\\ \\text{J}$.\n"
      ]
    },
    {
      "cell_type": "markdown",
      "metadata": {
        "id": "wLhtPmn0xrJJ"
      },
      "source": [
        "To a better measurement of $\\delta_{CP}$ for example, a new large experiment called [DUNE](https://www.dunescience.org/), and with a cost of around [$\\$1\\,500$ million of dollars](https://web.fnal.gov/organization/OPSS/Projects/LBNFDUNE/LBNF%20APM%20Jul%202015/Review%20Documents/LBNF%20DUNE%20ICR_Final%20Report.pdf), is in construction in the United States\n",
        "![IMAGE](https://www.dunescience.org/wp-content/uploads/2016/12/LBNE_Graphic_061615_2016.jpg)"
      ]
    },
    {
      "cell_type": "markdown",
      "metadata": {
        "id": "pCSR2TVCHRwa"
      },
      "source": [
        "## Theorem 2: Singular value decomposition (SVD)\n",
        "See [SVD](https://en.wikipedia.org/wiki/Singular_value_decomposition) (where the  Hermetique-conjugate is denoted with \"*\" instead that with \"\")\n",
        "\n",
        "A general complex matrix $\\boldsymbol{A}$  can be diagonalized by a bi-diagonal transformation such that\n",
        "\\begin{equation}\n",
        "  \\boldsymbol{V}^\\dagger\\boldsymbol{A}\\,\\boldsymbol{U}=\\boldsymbol{A}_{\\text{diag}}\\,,\n",
        "\\end{equation}\n",
        "where \n",
        "$\\boldsymbol{A}_{\\text{diag}}=\\operatorname{diag}(\\lambda_1,\\lambda_2,\\ldots \\lambda_n)$ is the diagonalized mass matrix.\n",
        "\n",
        "### Demostration\n",
        "\\begin{align}\n",
        "  \\boldsymbol{A}_{\\text{diag}}=&\\boldsymbol{V}^\\dagger\\boldsymbol{A}\\,\\boldsymbol{U}\\\\\n",
        "  \\boldsymbol{A}_{\\text{diag}}\\boldsymbol{A}_{\\text{diag}}^\\dagger=&\\boldsymbol{V}^\\dagger\\boldsymbol{A}\\,\\boldsymbol{U}\n",
        "  \\left(\\boldsymbol{V}^\\dagger\\boldsymbol{A}\\,\\boldsymbol{U}\\right)^\\dagger\\\\\n",
        "  =&\\boldsymbol{V}^\\dagger\\boldsymbol{A}\\,\\boldsymbol{U}\n",
        "  \\left(   \\boldsymbol{U}^\\dagger \\boldsymbol{A}^\\dagger\\,\\boldsymbol{V}\\right)\\\\\n",
        "  =&\\boldsymbol{V}^\\dagger\n",
        "  \\left( \\boldsymbol{A}  \\boldsymbol{A}^\\dagger\\,\\right) \\boldsymbol{V}\\,.\\\\\n",
        "\\end{align}\n",
        "Since $\\boldsymbol{A}  \\boldsymbol{A}^\\dagger$ is hermitic and $\\boldsymbol{A}  \\boldsymbol{A}^\\dagger$ is diagonal, then in fact there exists an unitary matrix $\\boldsymbol{V}$.  Similarly there exists an unitary matrix $\\boldsymbol{U}$ which diagonalizes  $\\boldsymbol{A}^\\dagger  \\boldsymbol{A}$"
      ]
    },
    {
      "cell_type": "markdown",
      "metadata": {
        "id": "SY3onY5IxrJK"
      },
      "source": [
        "### Scipy implementation\n",
        "The implementation in scipy is based in the inverted relation \n",
        "\\begin{align}\n",
        "  \\boldsymbol{V}^\\dagger\\boldsymbol{A}\\,\\boldsymbol{U}=&\\boldsymbol{A}_{\\text{diag}}\\\\\n",
        "  \\boldsymbol{V}\\boldsymbol{V}^\\dagger\\boldsymbol{A}\\,\\boldsymbol{U}\\boldsymbol{U}^\\dagger=&\\boldsymbol{V}\\boldsymbol{A}_{\\text{diag}}\\boldsymbol{U}^\\dagger\\\\\n",
        "  \\boldsymbol{A}=&\\boldsymbol{V}\\boldsymbol{A}_{\\text{diag}}\\boldsymbol{U}^\\dagger\\,.\n",
        "\\end{align}\n",
        "\n",
        "The implementation is trough the module `scipy.linalg.svd`:\n",
        "```bash\n",
        "V,Adiag,Udagger=linalg.svd(A)\n",
        "```\n"
      ]
    },
    {
      "cell_type": "markdown",
      "metadata": {
        "id": "osxweeQvZeoY"
      },
      "source": [
        "### Eigenvectors and eigenvalues\n",
        "If we make\n",
        "$$ \\boldsymbol{U}=[\\boldsymbol{U}_1\\vdots\\boldsymbol{U}_2\\vdots\\cdots\\vdots\\boldsymbol{U}_n], \\qquad \\boldsymbol{V}=[\\boldsymbol{V}_1\\vdots\\boldsymbol{V}_2\\vdots\\cdots\\vdots\\boldsymbol{V}_n] $$\n",
        "\n",
        "We know that there exists a bi-diagonal transformación such that\n",
        "\\begin{equation}\n",
        "%$$\n",
        "  \\boldsymbol{A}\\,\\boldsymbol{U}=\\boldsymbol{V}\\boldsymbol{A}_{\\text{diag}}\n",
        "\\end{equation}\n",
        "\\begin{equation}\n",
        "  \\boldsymbol{A}\\,\\boldsymbol{U}_i=\\lambda_i\\boldsymbol{V}_i\n",
        "%$$\n",
        "\\end{equation}\n",
        "not sum upon $i$. Here \n",
        "* $\\lambda_i$ are called eigenvalues\n",
        "* $V_i$ and $U_i$ are the eigenvectors"
      ]
    },
    {
      "cell_type": "markdown",
      "metadata": {
        "id": "KzphXQAeZeoY"
      },
      "source": [
        "We can use this to check the proper order of the eigenvalues"
      ]
    },
    {
      "cell_type": "markdown",
      "metadata": {
        "id": "A1iOYehvZeoK"
      },
      "source": [
        "### Transformation of a linear system\n",
        "We start again with the matrix equation, capitol bold letters denotes matrices\n",
        "\\begin{equation}\n",
        "  \\boldsymbol{A}\\boldsymbol{X}=\\boldsymbol{B}\\,,\n",
        "\\end{equation}\n",
        "where $\\boldsymbol{A}$ is an $n \\times n$ matrix.\n",
        "\n",
        "We know that there exists a bi-diagonal transformación such that\n",
        "\\begin{equation}\n",
        "  \\boldsymbol{V}^\\dagger\\boldsymbol{A}\\,\\boldsymbol{U}=\\boldsymbol{A}_{\\text{diag}}\n",
        "\\end{equation}\n",
        "So, by doing standard operations we have\n",
        "\\begin{align}\n",
        "  \\boldsymbol{V}^\\dagger \\boldsymbol{A} \\boldsymbol{U} \\boldsymbol{U}^\\dagger \\boldsymbol{X}=& \\boldsymbol{V}^\\dagger \\boldsymbol{B}\\\\\n",
        "   \\left( \\boldsymbol{V}^\\dagger \\boldsymbol{A} \\boldsymbol{U} \\right) \n",
        "   \\left( \\boldsymbol{U}^\\dagger \\boldsymbol{X}\\right)=& \\boldsymbol{V}^\\dagger \\boldsymbol{B}\\\\\n",
        "  \\boldsymbol{A}_{\\text{diag}} \\boldsymbol{X}'=&\\boldsymbol{B}'\\,,      \n",
        "\\end{align}\n",
        "where\n",
        "\\begin{align}\n",
        "  \\boldsymbol{X}'=& \\boldsymbol{U}^\\dagger \\boldsymbol{X}\\,, &    \\boldsymbol{B}'=& \\boldsymbol{V}^\\dagger \\boldsymbol{B}\\,,\n",
        "\\end{align}\n",
        "or\n",
        "\\begin{align}\n",
        "  \\boldsymbol{X}=& \\boldsymbol{U}\\boldsymbol{X}'\\,, &    \\boldsymbol{B}=& \\boldsymbol{V}\\boldsymbol{B}'\\,.\n",
        "\\end{align}\n",
        "\n",
        "If $\\boldsymbol{A}_{\\text{diag}}=\\operatorname{diag}(\\lambda_1,\\lambda_2,\\ldots \\lambda_n)$, $\\boldsymbol{X}^{\\operatorname{T}}=\\begin{pmatrix}x_1 & x_2 &\\cdots & x_n\\end{pmatrix}^{\\operatorname{T}}$ and $\\boldsymbol{B}^{\\operatorname{T}}=\\begin{pmatrix}b_1& b_2 &\\cdots & b_n\\end{pmatrix}^{\\operatorname{T}}$,\n",
        "the solution of the system is given by\n",
        "\\begin{equation}\n",
        "\\lambda_i x'_i=b_i'\\,.\n",
        "\\end{equation}\n",
        "\n",
        "Note that\n",
        "\\begin{align}\n",
        "   \\boldsymbol{X}'=&\\boldsymbol{A}_{\\text{diag}}^{-1}\\boldsymbol{B}'\\,,      \n",
        "\\end{align}\n",
        "and the final solution is\n",
        "\\begin{align}\n",
        "   \\boldsymbol{X}=&U \\boldsymbol{X}'\\\\ \n",
        "               =&U\\boldsymbol{A}_{\\text{diag}}^{-1}V^\\dagger \\boldsymbol{B}\\,,      \n",
        "\\end{align}\n",
        "Therefore\n",
        "$$A^{-1}=U\\boldsymbol{A}_{\\text{diag}}^{-1}V^\\dagger$$"
      ]
    },
    {
      "cell_type": "markdown",
      "metadata": {
        "id": "4Cvjb8GR7YAl"
      },
      "source": [
        "### Example"
      ]
    },
    {
      "cell_type": "markdown",
      "metadata": {
        "id": "1gnmh6-0ZeoK"
      },
      "source": [
        " A suitable way to introduce this method is applying it to some basic problem. To do so, let's take the result of the [Example 1](#Example-1):\n",
        "\n",
        "$$ \\begin{bmatrix}\n",
        "5 & -4 & 0 \\\\\n",
        "-4 & 7 & -3 \\\\ \n",
        "0 & -3 & 5\n",
        "\\end{bmatrix}\n",
        "\\begin{bmatrix}\n",
        "x_{1} \\\\\n",
        "x_{2} \\\\\n",
        "x_{3} \n",
        "\\end{bmatrix}  =\n",
        "\\begin{bmatrix}\n",
        "1 \\\\\n",
        "0 \\\\\n",
        "-2\n",
        "\\end{bmatrix}\n",
        "$$\n",
        "As the matrix is symmetric $\\boldsymbol{V}=\\boldsymbol{U}$ and $\\boldsymbol{U}^\\dagger=\\boldsymbol{U}^{\\operatorname{T}}$ "
      ]
    },
    {
      "cell_type": "code",
      "metadata": {
        "id": "L166G4J9xrJU"
      },
      "source": [
        "import numpy as np"
      ],
      "execution_count": 21,
      "outputs": []
    },
    {
      "cell_type": "code",
      "metadata": {
        "id": "mIm4WqinUMlv"
      },
      "source": [
        "M1=np.array([[5,-4,0],\n",
        "             [-4,7,-3],\n",
        "             [0,-3,5]])"
      ],
      "execution_count": 22,
      "outputs": []
    },
    {
      "cell_type": "code",
      "metadata": {
        "id": "YUHs_HgxZeoL",
        "outputId": "017e95ee-9869-4690-d6c2-a10a6ed77de1",
        "colab": {
          "base_uri": "https://localhost:8080/"
        }
      },
      "source": [
        "A=M1\n",
        "A"
      ],
      "execution_count": 23,
      "outputs": [
        {
          "output_type": "execute_result",
          "data": {
            "text/plain": [
              "array([[ 5, -4,  0],\n",
              "       [-4,  7, -3],\n",
              "       [ 0, -3,  5]])"
            ]
          },
          "metadata": {
            "tags": []
          },
          "execution_count": 23
        }
      ]
    },
    {
      "cell_type": "markdown",
      "metadata": {
        "id": "wPaMSVoVUZWm"
      },
      "source": [
        "Check if all eigenvalues are different from zero:"
      ]
    },
    {
      "cell_type": "code",
      "metadata": {
        "id": "TSE7tFaFUjhF",
        "outputId": "361815dd-711a-488e-a282-30a3ef5dfb5d",
        "colab": {
          "base_uri": "https://localhost:8080/"
        }
      },
      "source": [
        "np.linalg.det(A)"
      ],
      "execution_count": 24,
      "outputs": [
        {
          "output_type": "execute_result",
          "data": {
            "text/plain": [
              "49.99999999999999"
            ]
          },
          "metadata": {
            "tags": []
          },
          "execution_count": 24
        }
      ]
    },
    {
      "cell_type": "code",
      "metadata": {
        "id": "JDFWE3CDUp7c",
        "outputId": "b0560bbf-e17e-4180-930f-aa2012c28621",
        "colab": {
          "base_uri": "https://localhost:8080/"
        }
      },
      "source": [
        "B=np.c_[ [1,0,-2]  ]\n",
        "B"
      ],
      "execution_count": 25,
      "outputs": [
        {
          "output_type": "execute_result",
          "data": {
            "text/plain": [
              "array([[ 1],\n",
              "       [ 0],\n",
              "       [-2]])"
            ]
          },
          "metadata": {
            "tags": []
          },
          "execution_count": 25
        }
      ]
    },
    {
      "cell_type": "markdown",
      "metadata": {
        "id": "VzE6Z0THVAXa"
      },
      "source": [
        "Also as \n",
        "```python\n",
        "B=np.array([[1],[0],[-2]])\n",
        "#or\n",
        "B=np.reshape(  [1,0,-2],(3,1) )\n",
        "```"
      ]
    },
    {
      "cell_type": "markdown",
      "metadata": {
        "id": "LFWQbsAKxrJr"
      },
      "source": [
        "### Theorem 1 in `numpy`"
      ]
    },
    {
      "cell_type": "code",
      "metadata": {
        "id": "7iQkosR8ZeoQ"
      },
      "source": [
        "λ,V=np.linalg.eig( A )"
      ],
      "execution_count": 27,
      "outputs": []
    },
    {
      "cell_type": "code",
      "metadata": {
        "id": "oRoNMFvLZeoS",
        "outputId": "9666a66f-4707-42fd-a845-a97f78c8023e",
        "colab": {
          "base_uri": "https://localhost:8080/"
        }
      },
      "source": [
        "A_diag=np.diag(λ)\n",
        "A_diag"
      ],
      "execution_count": 28,
      "outputs": [
        {
          "output_type": "execute_result",
          "data": {
            "text/plain": [
              "array([[11.09901951,  0.        ,  0.        ],\n",
              "       [ 0.        ,  0.90098049,  0.        ],\n",
              "       [ 0.        ,  0.        ,  5.        ]])"
            ]
          },
          "metadata": {
            "tags": []
          },
          "execution_count": 28
        }
      ]
    },
    {
      "cell_type": "code",
      "metadata": {
        "id": "81EhmwnPZeoU",
        "outputId": "294f4066-9cbf-4cf0-cefc-cd9d0b02ec67",
        "colab": {
          "base_uri": "https://localhost:8080/"
        }
      },
      "source": [
        "V"
      ],
      "execution_count": 29,
      "outputs": [
        {
          "output_type": "execute_result",
          "data": {
            "text/plain": [
              "array([[-5.07191124e-01, -6.18673713e-01, -6.00000000e-01],\n",
              "       [ 7.73342141e-01, -6.33988906e-01,  1.91548674e-16],\n",
              "       [-3.80393343e-01, -4.64005285e-01,  8.00000000e-01]])"
            ]
          },
          "metadata": {
            "tags": []
          },
          "execution_count": 29
        }
      ]
    },
    {
      "cell_type": "markdown",
      "metadata": {
        "id": "oQMyx6oAZeoW"
      },
      "source": [
        "We first check the proper order of the diagonalization"
      ]
    },
    {
      "cell_type": "code",
      "metadata": {
        "id": "vYFqc13bZeoW",
        "outputId": "97e0a25b-b21d-4064-ae48-c754fb984a46",
        "colab": {
          "base_uri": "https://localhost:8080/"
        }
      },
      "source": [
        "np.dot(  np.dot( V.transpose(),A  ), V).round(14)"
      ],
      "execution_count": 30,
      "outputs": [
        {
          "output_type": "execute_result",
          "data": {
            "text/plain": [
              "array([[11.09901951,  0.        ,  0.        ],\n",
              "       [ 0.        ,  0.90098049,  0.        ],\n",
              "       [ 0.        ,  0.        ,  5.        ]])"
            ]
          },
          "metadata": {
            "tags": []
          },
          "execution_count": 30
        }
      ]
    },
    {
      "cell_type": "markdown",
      "metadata": {
        "id": "njiAE4b4ZeoZ"
      },
      "source": [
        "Since"
      ]
    },
    {
      "cell_type": "code",
      "metadata": {
        "id": "RQ2mx4eIZeoa",
        "outputId": "1aff09ec-ffa2-429a-da27-27ed675f612f",
        "colab": {
          "base_uri": "https://localhost:8080/"
        }
      },
      "source": [
        "V"
      ],
      "execution_count": 31,
      "outputs": [
        {
          "output_type": "execute_result",
          "data": {
            "text/plain": [
              "array([[-5.07191124e-01, -6.18673713e-01, -6.00000000e-01],\n",
              "       [ 7.73342141e-01, -6.33988906e-01,  1.91548674e-16],\n",
              "       [-3.80393343e-01, -4.64005285e-01,  8.00000000e-01]])"
            ]
          },
          "metadata": {
            "tags": []
          },
          "execution_count": 31
        }
      ]
    },
    {
      "cell_type": "markdown",
      "metadata": {
        "id": "JkZI2pTNZeoc"
      },
      "source": [
        "The final solution is:"
      ]
    },
    {
      "cell_type": "code",
      "metadata": {
        "id": "dfsG88C5VqvK",
        "outputId": "a97ae118-0af8-47dc-ba61-905beccd46b6",
        "colab": {
          "base_uri": "https://localhost:8080/"
        }
      },
      "source": [
        "A_diag_inv=np.diag(1/λ)\n",
        "A_diag_inv"
      ],
      "execution_count": 32,
      "outputs": [
        {
          "output_type": "execute_result",
          "data": {
            "text/plain": [
              "array([[0.09009805, 0.        , 0.        ],\n",
              "       [0.        , 1.10990195, 0.        ],\n",
              "       [0.        , 0.        , 0.2       ]])"
            ]
          },
          "metadata": {
            "tags": []
          },
          "execution_count": 32
        }
      ]
    },
    {
      "cell_type": "markdown",
      "metadata": {
        "id": "ai04_rhhV7g4"
      },
      "source": [
        "check with `np.linalg.inv(A_diag)`"
      ]
    },
    {
      "cell_type": "code",
      "metadata": {
        "id": "bldXFh02Zeoc",
        "outputId": "e3c07491-573d-4ddc-e508-3b90783ef004",
        "colab": {
          "base_uri": "https://localhost:8080/"
        }
      },
      "source": [
        "X=np.dot( np.dot( np.dot( V, np.diag(1/λ) ),V.transpose() ),B)\n",
        "X"
      ],
      "execution_count": 33,
      "outputs": [
        {
          "output_type": "execute_result",
          "data": {
            "text/plain": [
              "array([[ 0.04],\n",
              "       [-0.2 ],\n",
              "       [-0.52]])"
            ]
          },
          "metadata": {
            "tags": []
          },
          "execution_count": 33
        }
      ]
    },
    {
      "cell_type": "markdown",
      "metadata": {
        "id": "xEtpogskWT5H"
      },
      "source": [
        "__<font color=\"red\">Activity</font>__: Usar np.lingalg.solve"
      ]
    },
    {
      "cell_type": "code",
      "metadata": {
        "id": "crPW_WltW9Bt",
        "outputId": "b68826d9-b39d-4bac-9c71-4a5575425e3b",
        "colab": {
          "base_uri": "https://localhost:8080/"
        }
      },
      "source": [
        "B.transpose()[0]"
      ],
      "execution_count": 34,
      "outputs": [
        {
          "output_type": "execute_result",
          "data": {
            "text/plain": [
              "array([ 1,  0, -2])"
            ]
          },
          "metadata": {
            "tags": []
          },
          "execution_count": 34
        }
      ]
    },
    {
      "cell_type": "code",
      "metadata": {
        "id": "FbDQyS3_Wi-f",
        "outputId": "f1868cfe-31fb-4551-fcf3-75e3da3d970b",
        "colab": {
          "base_uri": "https://localhost:8080/"
        }
      },
      "source": [
        "np.linalg.solve(A,B.transpose()[0])"
      ],
      "execution_count": 35,
      "outputs": [
        {
          "output_type": "execute_result",
          "data": {
            "text/plain": [
              "array([ 0.04, -0.2 , -0.52])"
            ]
          },
          "metadata": {
            "tags": []
          },
          "execution_count": 35
        }
      ]
    },
    {
      "cell_type": "markdown",
      "metadata": {
        "id": "agZ-WPWgZeoe"
      },
      "source": [
        "We can now check some properties.\n",
        "* Obtain $\\theta_{12}$ for $\\lambda_1<\\lambda_2<\\lambda_3$"
      ]
    },
    {
      "cell_type": "code",
      "metadata": {
        "id": "KAruEyXoZeoe",
        "outputId": "1ceb754f-beb7-4132-f8aa-3a0cdf1b8d7b",
        "colab": {
          "base_uri": "https://localhost:8080/"
        }
      },
      "source": [
        "V"
      ],
      "execution_count": 36,
      "outputs": [
        {
          "output_type": "execute_result",
          "data": {
            "text/plain": [
              "array([[-5.07191124e-01, -6.18673713e-01, -6.00000000e-01],\n",
              "       [ 7.73342141e-01, -6.33988906e-01,  1.91548674e-16],\n",
              "       [-3.80393343e-01, -4.64005285e-01,  8.00000000e-01]])"
            ]
          },
          "metadata": {
            "tags": []
          },
          "execution_count": 36
        }
      ]
    },
    {
      "cell_type": "code",
      "metadata": {
        "id": "Lg_7lshmZeoh",
        "outputId": "69da4f25-6c7c-4234-8772-95693f011d69",
        "colab": {
          "base_uri": "https://localhost:8080/"
        }
      },
      "source": [
        "np.c_[ V[: ,0] ]"
      ],
      "execution_count": 37,
      "outputs": [
        {
          "output_type": "execute_result",
          "data": {
            "text/plain": [
              "array([[-0.50719112],\n",
              "       [ 0.77334214],\n",
              "       [-0.38039334]])"
            ]
          },
          "metadata": {
            "tags": []
          },
          "execution_count": 37
        }
      ]
    },
    {
      "cell_type": "code",
      "metadata": {
        "id": "VAFBe0g_Zeok",
        "outputId": "91bffea7-a2a2-440c-ecad-d38df3a14f77",
        "colab": {
          "base_uri": "https://localhost:8080/"
        }
      },
      "source": [
        "A_diag[0,0],λ[0]"
      ],
      "execution_count": 38,
      "outputs": [
        {
          "output_type": "execute_result",
          "data": {
            "text/plain": [
              "(11.099019513592784, 11.099019513592784)"
            ]
          },
          "metadata": {
            "tags": []
          },
          "execution_count": 38
        }
      ]
    },
    {
      "cell_type": "markdown",
      "metadata": {
        "id": "utMR7eiOZeom"
      },
      "source": [
        "We define the eigenvector $V_i$ as"
      ]
    },
    {
      "cell_type": "code",
      "metadata": {
        "id": "ButZ6c29Zeom",
        "outputId": "45e527be-995c-4cdd-b635-820f681a4536",
        "colab": {
          "base_uri": "https://localhost:8080/",
          "height": 170
        }
      },
      "source": [
        "V0=np.c_[ V[:,0] ]\n",
        "V1=np.c_[ V[:,1] ]\n",
        "V2=np.c_[ V[:,2] ]\n",
        "display(V0)\n",
        "display(V1)\n",
        "V2"
      ],
      "execution_count": 39,
      "outputs": [
        {
          "output_type": "display_data",
          "data": {
            "text/plain": [
              "array([[-0.50719112],\n",
              "       [ 0.77334214],\n",
              "       [-0.38039334]])"
            ]
          },
          "metadata": {
            "tags": []
          }
        },
        {
          "output_type": "display_data",
          "data": {
            "text/plain": [
              "array([[-0.61867371],\n",
              "       [-0.63398891],\n",
              "       [-0.46400528]])"
            ]
          },
          "metadata": {
            "tags": []
          }
        },
        {
          "output_type": "execute_result",
          "data": {
            "text/plain": [
              "array([[-6.00000000e-01],\n",
              "       [ 1.91548674e-16],\n",
              "       [ 8.00000000e-01]])"
            ]
          },
          "metadata": {
            "tags": []
          },
          "execution_count": 39
        }
      ]
    },
    {
      "cell_type": "code",
      "metadata": {
        "id": "MkfNpMwbZeow",
        "outputId": "dd404d85-d53c-40a5-8862-07318cfd62c2",
        "colab": {
          "base_uri": "https://localhost:8080/"
        }
      },
      "source": [
        "print('{} =\\n{}'.format( np.dot(A,V0),λ[0]*V0 ) )"
      ],
      "execution_count": 40,
      "outputs": [
        {
          "output_type": "stream",
          "text": [
            "[[-5.62932419]\n",
            " [ 8.58333952]\n",
            " [-4.22199314]] =\n",
            "[[-5.62932419]\n",
            " [ 8.58333952]\n",
            " [-4.22199314]]\n"
          ],
          "name": "stdout"
        }
      ]
    },
    {
      "cell_type": "markdown",
      "metadata": {
        "id": "2gSZQGhwZMbU"
      },
      "source": [
        "Check: $ A V_i=\\lambda_i V_i$\n",
        "\n",
        "Which means the eigenvalue associated to the \"operator\" $A$ acting on the eigenvector $V_1$"
      ]
    },
    {
      "cell_type": "code",
      "metadata": {
        "id": "N7rTShl9Zeoz",
        "outputId": "6e1875e6-3391-4774-f7f6-9cfa542c93e7",
        "colab": {
          "base_uri": "https://localhost:8080/"
        }
      },
      "source": [
        "print('{} =\\n{}'.format( np.dot(A,V1),λ[1]*V1 ) )"
      ],
      "execution_count": 41,
      "outputs": [
        {
          "output_type": "stream",
          "text": [
            "[[-0.55741294]\n",
            " [-0.57121163]\n",
            " [-0.41805971]] =\n",
            "[[-0.55741294]\n",
            " [-0.57121163]\n",
            " [-0.41805971]]\n"
          ],
          "name": "stdout"
        }
      ]
    },
    {
      "cell_type": "code",
      "metadata": {
        "id": "zRu4zQHKZeo2",
        "outputId": "b27943af-bba0-4d28-f505-7fc4fbdef1e9",
        "colab": {
          "base_uri": "https://localhost:8080/"
        }
      },
      "source": [
        "print('{} =\\n{}'.format( np.dot(A,V2).round(14),\n",
        "                         (λ[2]*V2).round(14) ) )"
      ],
      "execution_count": 42,
      "outputs": [
        {
          "output_type": "stream",
          "text": [
            "[[-3.]\n",
            " [ 0.]\n",
            " [ 4.]] =\n",
            "[[-3.]\n",
            " [ 0.]\n",
            " [ 4.]]\n"
          ],
          "name": "stdout"
        }
      ]
    },
    {
      "cell_type": "markdown",
      "metadata": {
        "id": "wmszgFZdZeo5"
      },
      "source": [
        "The diagonalization matrix can be rebuild from the eigenvectors"
      ]
    },
    {
      "cell_type": "code",
      "metadata": {
        "id": "2uAsu7Bgarxo",
        "outputId": "f0006017-599f-4bb3-a467-6a48b33d7e71",
        "colab": {
          "base_uri": "https://localhost:8080/"
        }
      },
      "source": [
        "V"
      ],
      "execution_count": 43,
      "outputs": [
        {
          "output_type": "execute_result",
          "data": {
            "text/plain": [
              "array([[-5.07191124e-01, -6.18673713e-01, -6.00000000e-01],\n",
              "       [ 7.73342141e-01, -6.33988906e-01,  1.91548674e-16],\n",
              "       [-3.80393343e-01, -4.64005285e-01,  8.00000000e-01]])"
            ]
          },
          "metadata": {
            "tags": []
          },
          "execution_count": 43
        }
      ]
    },
    {
      "cell_type": "markdown",
      "metadata": {
        "id": "_AjDSlz3bIPW"
      },
      "source": [
        "is rebuild with"
      ]
    },
    {
      "cell_type": "code",
      "metadata": {
        "id": "5Q0PN44GavcA",
        "outputId": "617f3915-bf6a-40d9-851b-924cd1d92c95",
        "colab": {
          "base_uri": "https://localhost:8080/"
        }
      },
      "source": [
        "U=np.c_[ V0,V1,V2]\n",
        "U"
      ],
      "execution_count": 44,
      "outputs": [
        {
          "output_type": "execute_result",
          "data": {
            "text/plain": [
              "array([[-5.07191124e-01, -6.18673713e-01, -6.00000000e-01],\n",
              "       [ 7.73342141e-01, -6.33988906e-01,  1.91548674e-16],\n",
              "       [-3.80393343e-01, -4.64005285e-01,  8.00000000e-01]])"
            ]
          },
          "metadata": {
            "tags": []
          },
          "execution_count": 44
        }
      ]
    },
    {
      "cell_type": "markdown",
      "metadata": {
        "id": "E_TOP-rdZeo5"
      },
      "source": [
        "or with: `np.hstack((V0,V1,V2))`"
      ]
    },
    {
      "cell_type": "code",
      "metadata": {
        "id": "-Vc63b8TZeo7",
        "outputId": "ea0db6f2-1bb8-44fb-91e0-cf7476efaa96",
        "colab": {
          "base_uri": "https://localhost:8080/"
        }
      },
      "source": [
        "np.dot(  np.dot( U.transpose(),A  ), U).round(14)"
      ],
      "execution_count": 45,
      "outputs": [
        {
          "output_type": "execute_result",
          "data": {
            "text/plain": [
              "array([[11.09901951,  0.        ,  0.        ],\n",
              "       [ 0.        ,  0.90098049,  0.        ],\n",
              "       [ 0.        ,  0.        ,  5.        ]])"
            ]
          },
          "metadata": {
            "tags": []
          },
          "execution_count": 45
        }
      ]
    },
    {
      "cell_type": "markdown",
      "metadata": {
        "id": "9bls0mm5Zeo9"
      },
      "source": [
        "### Eigenvector reordering"
      ]
    },
    {
      "cell_type": "markdown",
      "metadata": {
        "id": "aga9q0lKxrKn"
      },
      "source": [
        "<span style=\"color:red\">__Activity__</span>: https://beta.deepnote.com/project/17b487c8-b092-4032-94f5-438ba4eeb1e9"
      ]
    },
    {
      "cell_type": "markdown",
      "metadata": {
        "id": "DOBPvoJ1Zeo-"
      },
      "source": [
        "We can use this to check the proper order of the eigenvalues"
      ]
    },
    {
      "cell_type": "code",
      "metadata": {
        "id": "QE3H4w64bopE",
        "outputId": "40c823f2-408e-4e63-d47d-3bba7f219fc3",
        "colab": {
          "base_uri": "https://localhost:8080/"
        }
      },
      "source": [
        "U=np.c_[ V1,V2,V0]\n",
        "np.dot(  np.dot( U.transpose(),A  ), U).round(14)"
      ],
      "execution_count": 46,
      "outputs": [
        {
          "output_type": "execute_result",
          "data": {
            "text/plain": [
              "array([[ 0.90098049,  0.        ,  0.        ],\n",
              "       [ 0.        ,  5.        ,  0.        ],\n",
              "       [ 0.        ,  0.        , 11.09901951]])"
            ]
          },
          "metadata": {
            "tags": []
          },
          "execution_count": 46
        }
      ]
    },
    {
      "cell_type": "markdown",
      "metadata": {
        "id": "m6PMCrJlZeo-"
      },
      "source": [
        "The order of eigenvalues can now be changed by changing the order of the eigenvectors and redifining the diagonalization matrix. For example, from small to large. We define first the eigenvalues"
      ]
    },
    {
      "cell_type": "code",
      "metadata": {
        "id": "QiWSGZvyxrKr",
        "outputId": "3d83a040-6466-43e8-bba5-6da5602a99da"
      },
      "source": [
        "U"
      ],
      "execution_count": null,
      "outputs": [
        {
          "output_type": "execute_result",
          "data": {
            "text/plain": [
              "array([[-6.18673713e-01, -6.00000000e-01, -5.07191124e-01],\n",
              "       [-6.33988906e-01,  1.91548674e-16,  7.73342141e-01],\n",
              "       [-4.64005285e-01,  8.00000000e-01, -3.80393343e-01]])"
            ]
          },
          "metadata": {
            "tags": []
          },
          "execution_count": 37
        }
      ]
    },
    {
      "cell_type": "code",
      "metadata": {
        "id": "Gy8yRJASxrKu"
      },
      "source": [
        "θ_12=np.arctan( U[0,1]/U[0,0] )"
      ],
      "execution_count": null,
      "outputs": []
    },
    {
      "cell_type": "code",
      "metadata": {
        "id": "F59X9nh-xrKw",
        "outputId": "44425791-8385-4e4e-ec4e-a6586568a4c2"
      },
      "source": [
        "θ_12, θ_12*180/np.pi"
      ],
      "execution_count": null,
      "outputs": [
        {
          "output_type": "execute_result",
          "data": {
            "text/plain": [
              "(0.7700763823614476, 44.122126612013574)"
            ]
          },
          "metadata": {
            "tags": []
          },
          "execution_count": 41
        }
      ]
    },
    {
      "cell_type": "markdown",
      "metadata": {
        "id": "dO5lnvPlxrK1"
      },
      "source": [
        "Generalization of the reordering"
      ]
    },
    {
      "cell_type": "code",
      "metadata": {
        "id": "HTWgBePpZeo_"
      },
      "source": [
        "np.sort?"
      ],
      "execution_count": null,
      "outputs": []
    },
    {
      "cell_type": "code",
      "metadata": {
        "id": "pixl0cvzZepB",
        "outputId": "b913c528-c7f8-413f-ab91-f36c0bdd36f1",
        "colab": {
          "base_uri": "https://localhost:8080/",
          "height": 35
        }
      },
      "source": [
        "np.sort( λ)"
      ],
      "execution_count": null,
      "outputs": [
        {
          "output_type": "execute_result",
          "data": {
            "text/plain": [
              "array([ 0.90098049,  5.        , 11.09901951])"
            ]
          },
          "metadata": {
            "tags": []
          },
          "execution_count": 59
        }
      ]
    },
    {
      "cell_type": "markdown",
      "metadata": {
        "id": "pZbAW-34cs7I"
      },
      "source": [
        "To reverse the order"
      ]
    },
    {
      "cell_type": "code",
      "metadata": {
        "id": "L3Qi31TkZepG",
        "outputId": "9058d74b-f071-48b2-aee1-14cbed77ba5e",
        "colab": {
          "base_uri": "https://localhost:8080/",
          "height": 35
        }
      },
      "source": [
        "np.sort( λ)[::-1]"
      ],
      "execution_count": null,
      "outputs": [
        {
          "output_type": "execute_result",
          "data": {
            "text/plain": [
              "array([11.09901951,  5.        ,  0.90098049])"
            ]
          },
          "metadata": {
            "tags": []
          },
          "execution_count": 60
        }
      ]
    },
    {
      "cell_type": "code",
      "metadata": {
        "id": "aYaYHJ2wZepJ",
        "outputId": "d2041162-e2cc-47f6-ad98-e201e6924677"
      },
      "source": [
        "λ"
      ],
      "execution_count": null,
      "outputs": [
        {
          "output_type": "execute_result",
          "data": {
            "text/plain": [
              "array([ 11.09901951,   0.90098049,   5.        ])"
            ]
          },
          "metadata": {
            "tags": []
          },
          "execution_count": 102
        }
      ]
    },
    {
      "cell_type": "code",
      "metadata": {
        "id": "DeIj8z5kZepL",
        "outputId": "90606a4c-6f6a-4709-ebd9-4a5141f75ee4",
        "colab": {
          "base_uri": "https://localhost:8080/",
          "height": 35
        }
      },
      "source": [
        "index=np.abs(λ).argsort()\n",
        "index"
      ],
      "execution_count": null,
      "outputs": [
        {
          "output_type": "execute_result",
          "data": {
            "text/plain": [
              "array([1, 2, 0])"
            ]
          },
          "metadata": {
            "tags": []
          },
          "execution_count": 64
        }
      ]
    },
    {
      "cell_type": "markdown",
      "metadata": {
        "id": "v5Mhuh-QZepP"
      },
      "source": [
        "can be implemented in general with a _comprehensive_ list"
      ]
    },
    {
      "cell_type": "code",
      "metadata": {
        "id": "iWvRFdz9etKa",
        "outputId": "ac48d6bf-e16f-4056-9ead-ccb31362f3c8",
        "colab": {
          "base_uri": "https://localhost:8080/",
          "height": 71
        }
      },
      "source": [
        "V"
      ],
      "execution_count": null,
      "outputs": [
        {
          "output_type": "execute_result",
          "data": {
            "text/plain": [
              "array([[-5.07191124e-01, -6.18673713e-01, -6.00000000e-01],\n",
              "       [ 7.73342141e-01, -6.33988906e-01,  1.91548674e-16],\n",
              "       [-3.80393343e-01, -4.64005285e-01,  8.00000000e-01]])"
            ]
          },
          "metadata": {
            "tags": []
          },
          "execution_count": 65
        }
      ]
    },
    {
      "cell_type": "code",
      "metadata": {
        "id": "UeBueRxbfeUc",
        "outputId": "0b497826-0400-4b28-9291-149f038b47c1",
        "colab": {
          "base_uri": "https://localhost:8080/",
          "height": 71
        }
      },
      "source": [
        "np.c_[ tuple( [ np.c_[V[:,i]]    for i in range(3) ] ) ]"
      ],
      "execution_count": null,
      "outputs": [
        {
          "output_type": "execute_result",
          "data": {
            "text/plain": [
              "array([[-5.07191124e-01, -6.18673713e-01, -6.00000000e-01],\n",
              "       [ 7.73342141e-01, -6.33988906e-01,  1.91548674e-16],\n",
              "       [-3.80393343e-01, -4.64005285e-01,  8.00000000e-01]])"
            ]
          },
          "metadata": {
            "tags": []
          },
          "execution_count": 42
        }
      ]
    },
    {
      "cell_type": "markdown",
      "metadata": {
        "id": "WwokXTJ-elVp"
      },
      "source": [
        "Changing the order to `index`"
      ]
    },
    {
      "cell_type": "code",
      "metadata": {
        "id": "wObPrmb4dgrs",
        "outputId": "8b850a8f-89b5-4e48-b587-7c298651f085",
        "colab": {
          "base_uri": "https://localhost:8080/",
          "height": 71
        }
      },
      "source": [
        "U=np.c_[ tuple( [ np.c_[V[:,i]]    for i in np.abs(λ).argsort() ] ) ]\n",
        "U"
      ],
      "execution_count": null,
      "outputs": [
        {
          "output_type": "execute_result",
          "data": {
            "text/plain": [
              "array([[-6.18673713e-01, -6.00000000e-01, -5.07191124e-01],\n",
              "       [-6.33988906e-01,  1.91548674e-16,  7.73342141e-01],\n",
              "       [-4.64005285e-01,  8.00000000e-01, -3.80393343e-01]])"
            ]
          },
          "metadata": {
            "tags": []
          },
          "execution_count": 68
        }
      ]
    },
    {
      "cell_type": "markdown",
      "metadata": {
        "id": "u0PoVQJshW8A"
      },
      "source": [
        "or: \n",
        "```python\n",
        "n=3\n",
        "U=np.hstack( [ np.reshape( V[:,i], (n,1) ) for i in index   ] )\n",
        "```"
      ]
    },
    {
      "cell_type": "code",
      "metadata": {
        "id": "2_A609DeZepR",
        "outputId": "d10f93b9-2dc0-4e95-ee4f-86cc1c7cc751",
        "colab": {
          "base_uri": "https://localhost:8080/",
          "height": 71
        }
      },
      "source": [
        "np.dot(  np.dot( U.transpose(),A  ), U).round(14)"
      ],
      "execution_count": null,
      "outputs": [
        {
          "output_type": "execute_result",
          "data": {
            "text/plain": [
              "array([[ 0.90098049,  0.        ,  0.        ],\n",
              "       [ 0.        ,  5.        ,  0.        ],\n",
              "       [ 0.        ,  0.        , 11.09901951]])"
            ]
          },
          "metadata": {
            "tags": []
          },
          "execution_count": 69
        }
      ]
    },
    {
      "cell_type": "markdown",
      "metadata": {
        "id": "ryPEhIWgiE-O"
      },
      "source": [
        "<font color=\"red\">__Activity__</font>:  Build a function that diagonalize with increasing order in the eigenvalues as a replacement of `np.linalg.eig`\n",
        "```python\n",
        "def argeig(A):\n",
        "    l,V=np.linalg.eig(A)\n",
        "    ....\n",
        "    return argl, argV\n",
        "```\n",
        "\n"
      ]
    },
    {
      "cell_type": "code",
      "metadata": {
        "id": "PL43mZH7leLE"
      },
      "source": [
        "import numpy as np"
      ],
      "execution_count": 47,
      "outputs": []
    },
    {
      "cell_type": "code",
      "metadata": {
        "id": "E7brA9un1BtP"
      },
      "source": [
        "A_1=np.array([[ 2.5       ,  6.92820323],\n",
        "           [-4.33012702,  4.        ]])"
      ],
      "execution_count": 48,
      "outputs": []
    },
    {
      "cell_type": "markdown",
      "metadata": {
        "id": "T5C-o1Bf1Hcw"
      },
      "source": [
        "**Organizamos autovectores y autovalores**  "
      ]
    },
    {
      "cell_type": "code",
      "metadata": {
        "id": "JStx8Y7C1DUn"
      },
      "source": [
        "def argeig(A):\n",
        "  l,V = np.linalg.eig(A)\n",
        "  contador = np.abs(l).argsort()\n",
        "  argl = np.sort(l)\n",
        "  argV = np.c_[ tuple( [ np.c_[V[:,i]]    for i in contador ] ) ]\n",
        "\n",
        "  return argl, argV "
      ],
      "execution_count": 49,
      "outputs": []
    },
    {
      "cell_type": "code",
      "metadata": {
        "id": "Gs__CnQ21jbV",
        "outputId": "7799b183-e1b0-4999-b7a7-63a98f1db9fc",
        "colab": {
          "base_uri": "https://localhost:8080/"
        }
      },
      "source": [
        "argeig(A)"
      ],
      "execution_count": 50,
      "outputs": [
        {
          "output_type": "execute_result",
          "data": {
            "text/plain": [
              "(array([ 0.90098049,  5.        , 11.09901951]),\n",
              " array([[-6.18673713e-01, -6.00000000e-01, -5.07191124e-01],\n",
              "        [-6.33988906e-01,  1.91548674e-16,  7.73342141e-01],\n",
              "        [-4.64005285e-01,  8.00000000e-01, -3.80393343e-01]]))"
            ]
          },
          "metadata": {
            "tags": []
          },
          "execution_count": 50
        }
      ]
    },
    {
      "cell_type": "code",
      "metadata": {
        "id": "aUxKbpWA6Ifp",
        "outputId": "a8c93d8e-71cb-4dd3-8b2a-0e1bf840157e",
        "colab": {
          "base_uri": "https://localhost:8080/"
        }
      },
      "source": [
        "λ,V=argeig(A)\n",
        "λ,V"
      ],
      "execution_count": 51,
      "outputs": [
        {
          "output_type": "execute_result",
          "data": {
            "text/plain": [
              "(array([ 0.90098049,  5.        , 11.09901951]),\n",
              " array([[-6.18673713e-01, -6.00000000e-01, -5.07191124e-01],\n",
              "        [-6.33988906e-01,  1.91548674e-16,  7.73342141e-01],\n",
              "        [-4.64005285e-01,  8.00000000e-01, -3.80393343e-01]]))"
            ]
          },
          "metadata": {
            "tags": []
          },
          "execution_count": 51
        }
      ]
    },
    {
      "cell_type": "code",
      "metadata": {
        "id": "B5pDjLuR6NWf",
        "outputId": "fde85a22-5cfb-4615-d3f3-c0ced37d4b44",
        "colab": {
          "base_uri": "https://localhost:8080/"
        }
      },
      "source": [
        "np.dot(  np.dot( V.transpose(),A  ), V).round(14)"
      ],
      "execution_count": 52,
      "outputs": [
        {
          "output_type": "execute_result",
          "data": {
            "text/plain": [
              "array([[ 0.90098049,  0.        ,  0.        ],\n",
              "       [ 0.        ,  5.        ,  0.        ],\n",
              "       [ 0.        ,  0.        , 11.09901951]])"
            ]
          },
          "metadata": {
            "tags": []
          },
          "execution_count": 52
        }
      ]
    },
    {
      "cell_type": "code",
      "metadata": {
        "id": "2_R-oPW86Uzi",
        "outputId": "c858bcb7-6839-4b45-caea-af4f19d478bd",
        "colab": {
          "base_uri": "https://localhost:8080/"
        }
      },
      "source": [
        "print( np.linalg.det(A- λ[0]*np.identity(3) ) )\n",
        "print( np.linalg.det(A- λ[1]*np.identity(3) ) )\n",
        "np.linalg.det(A- λ[2]*np.identity(3) )"
      ],
      "execution_count": 53,
      "outputs": [
        {
          "output_type": "stream",
          "text": [
            "1.6382973032562733e-14\n",
            "0.0\n"
          ],
          "name": "stdout"
        },
        {
          "output_type": "execute_result",
          "data": {
            "text/plain": [
              "2.4376578809863825e-14"
            ]
          },
          "metadata": {
            "tags": []
          },
          "execution_count": 53
        }
      ]
    },
    {
      "cell_type": "code",
      "metadata": {
        "id": "1VNLtnpSlEU9"
      },
      "source": [
        "def argeig(a):\n",
        "    \"\"\"\n",
        "    Diagonalize with increasing order in the eigenvalues.\n",
        "  \n",
        "    See help(np.linalg.eig)\n",
        "    \"\"\"\n",
        "    l,V=np.linalg.eig(a)\n",
        "    index=np.abs(l).argsort()\n",
        "    argl= np.sort( l)\n",
        "    argV=np.c_[ tuple([ np.c_[ V[:,i]] for i in index   ]) ]\n",
        "    return argl, argV"
      ],
      "execution_count": 19,
      "outputs": []
    },
    {
      "cell_type": "code",
      "metadata": {
        "id": "94ZHLjM0l-vS"
      },
      "source": [
        "```python\n",
        "#1.\n",
        "λ,V=argeig(A)\n",
        "λ,V\n",
        "Out[1]:\n",
        "(array([ 0.90098049,  5.        , 11.09901951]),\n",
        " array([[-6.18673713e-01, -6.00000000e-01, -5.07191124e-01],\n",
        "        [-6.33988906e-01,  1.91548674e-16,  7.73342141e-01],\n",
        "        [-4.64005285e-01,  8.00000000e-01, -3.80393343e-01]]))   \n",
        "```"
      ],
      "execution_count": null,
      "outputs": []
    },
    {
      "cell_type": "code",
      "metadata": {
        "id": "SqxnBdaDmBXq"
      },
      "source": [
        "```python\n",
        "#2.\n",
        "np.dot(  np.dot( V.transpose(),A  ), V).round(14)\n",
        "Out[1]:\n",
        "array([[ 0.90098049,  0.        ,  0.        ],\n",
        "       [ 0.        ,  5.        ,  0.        ],\n",
        "       [ 0.        ,  0.        , 11.09901951]])\n",
        "```"
      ],
      "execution_count": null,
      "outputs": []
    },
    {
      "cell_type": "code",
      "metadata": {
        "id": "CFemQeVVZepT"
      },
      "source": [
        "```python\n",
        "#3.\n",
        "print( np.linalg.det(A- λ[0]*np.identity(3) ) )\n",
        "print( np.linalg.det(A- λ[1]*np.identity(3) ) )\n",
        "np.linalg.det(A- λ[2]*np.identity(3) )\n",
        "```"
      ],
      "execution_count": null,
      "outputs": []
    },
    {
      "cell_type": "markdown",
      "metadata": {
        "id": "QLp5N41JZepX"
      },
      "source": [
        "### General matrix"
      ]
    },
    {
      "cell_type": "code",
      "metadata": {
        "id": "lfZx6iduxrLq"
      },
      "source": [
        "import numpy as np\n",
        "from scipy import linalg"
      ],
      "execution_count": null,
      "outputs": []
    },
    {
      "cell_type": "markdown",
      "metadata": {
        "id": "9VyZcidmxrLs"
      },
      "source": [
        "__Example__:"
      ]
    },
    {
      "cell_type": "code",
      "metadata": {
        "id": "Zij0ngTTxrLv"
      },
      "source": [
        "#A=np.array([[ 2.5       ,  6.92820323],\n",
        "#            [-4.33012702,  4.        ]])"
      ],
      "execution_count": null,
      "outputs": []
    },
    {
      "cell_type": "code",
      "metadata": {
        "id": "rPRCHdV5xrLw"
      },
      "source": [
        "A=np.array([[ 6.66674644,  3.13121253],\n",
        "            [-0.23343505,  5.8902893 ]])"
      ],
      "execution_count": null,
      "outputs": []
    },
    {
      "cell_type": "code",
      "metadata": {
        "id": "YBOH3QiTxrLy"
      },
      "source": [
        "from scipy import linalg"
      ],
      "execution_count": null,
      "outputs": []
    },
    {
      "cell_type": "code",
      "metadata": {
        "id": "a55NKPYgxrL7"
      },
      "source": [
        "V,diag,Udagger=linalg.svd(A)"
      ],
      "execution_count": null,
      "outputs": []
    },
    {
      "cell_type": "code",
      "metadata": {
        "id": "LPOxJo60xrL9"
      },
      "source": [
        "U=Udagger.transpose().conjugate()"
      ],
      "execution_count": null,
      "outputs": []
    },
    {
      "cell_type": "code",
      "metadata": {
        "id": "fCrFbBxKxrMA",
        "outputId": "29c93e45-7fd6-4e98-cae4-c6c81904474f"
      },
      "source": [
        "np.dot( np.dot( V.transpose().conjugate(),A    ), U).round(14)"
      ],
      "execution_count": null,
      "outputs": [
        {
          "output_type": "execute_result",
          "data": {
            "text/plain": [
              "array([[8., 0.],\n",
              "       [0., 5.]])"
            ]
          },
          "metadata": {
            "tags": []
          },
          "execution_count": 75
        }
      ]
    },
    {
      "cell_type": "markdown",
      "metadata": {
        "id": "rNxyGpj3xrMC"
      },
      "source": [
        "This is important to stablish that the eigenvectors are determined until ordering and permutations"
      ]
    },
    {
      "cell_type": "code",
      "metadata": {
        "id": "Jsk41FN6xrMC",
        "outputId": "a55e9903-b178-48fd-a14f-b20402ff6c19"
      },
      "source": [
        "V"
      ],
      "execution_count": null,
      "outputs": [
        {
          "output_type": "execute_result",
          "data": {
            "text/plain": [
              "array([[-0.8660254, -0.5      ],\n",
              "       [-0.5      ,  0.8660254]])"
            ]
          },
          "metadata": {
            "tags": []
          },
          "execution_count": 76
        }
      ]
    },
    {
      "cell_type": "code",
      "metadata": {
        "id": "LkxPKDtFxrMH",
        "outputId": "5d70ac8b-cba5-440c-e66b-56eb74d958f4"
      },
      "source": [
        "U"
      ],
      "execution_count": null,
      "outputs": [
        {
          "output_type": "execute_result",
          "data": {
            "text/plain": [
              "array([[-0.70710678, -0.70710678],\n",
              "       [-0.70710678,  0.70710678]])"
            ]
          },
          "metadata": {
            "tags": []
          },
          "execution_count": 77
        }
      ]
    },
    {
      "cell_type": "code",
      "metadata": {
        "id": "liVzHB8_xrMI",
        "outputId": "611e9b20-33b7-49ba-d99c-5a31286e2a39"
      },
      "source": [
        "np.dot( np.transpose(U),U ).round(14)"
      ],
      "execution_count": null,
      "outputs": [
        {
          "output_type": "execute_result",
          "data": {
            "text/plain": [
              "array([[ 1., -0.],\n",
              "       [-0.,  1.]])"
            ]
          },
          "metadata": {
            "tags": []
          },
          "execution_count": 78
        }
      ]
    },
    {
      "cell_type": "code",
      "metadata": {
        "id": "6yLWk5PoxrML"
      },
      "source": [
        "def orthogonal(θ):\n",
        "    return np.array( [[np.cos(θ) ,np.sin(θ)],\n",
        "                      [-np.sin(θ),np.cos(θ)]]   )"
      ],
      "execution_count": null,
      "outputs": []
    },
    {
      "cell_type": "code",
      "metadata": {
        "id": "MIWuFjjAxrMN",
        "outputId": "8592932d-4100-436c-9988-0051fd91e054"
      },
      "source": [
        "Vp=orthogonal(np.pi/3)\n",
        "Vp"
      ],
      "execution_count": null,
      "outputs": [
        {
          "output_type": "execute_result",
          "data": {
            "text/plain": [
              "array([[ 0.5      ,  0.8660254],\n",
              "       [-0.8660254,  0.5      ]])"
            ]
          },
          "metadata": {
            "tags": []
          },
          "execution_count": 80
        }
      ]
    },
    {
      "cell_type": "code",
      "metadata": {
        "id": "gjqDNz-DxrMP",
        "outputId": "64fd7899-624a-4948-b710-bf10ebdf7027"
      },
      "source": [
        "VV=np.c_[ -V[:,1],-V[:,0]  ]\n",
        "VV"
      ],
      "execution_count": null,
      "outputs": [
        {
          "output_type": "execute_result",
          "data": {
            "text/plain": [
              "array([[ 0.5      ,  0.8660254],\n",
              "       [-0.8660254,  0.5      ]])"
            ]
          },
          "metadata": {
            "tags": []
          },
          "execution_count": 81
        }
      ]
    },
    {
      "cell_type": "code",
      "metadata": {
        "id": "eqgEUnL_xrMS",
        "outputId": "f11080d9-d3fc-4fa3-be60-ab4e6c46b4d7"
      },
      "source": [
        "Up=orthogonal(np.pi/4)\n",
        "Up"
      ],
      "execution_count": null,
      "outputs": [
        {
          "output_type": "execute_result",
          "data": {
            "text/plain": [
              "array([[ 0.70710678,  0.70710678],\n",
              "       [-0.70710678,  0.70710678]])"
            ]
          },
          "metadata": {
            "tags": []
          },
          "execution_count": 82
        }
      ]
    },
    {
      "cell_type": "code",
      "metadata": {
        "id": "eQecTHaAxrMT",
        "outputId": "aa89b373-100d-413b-8409-fb41c51eedd1"
      },
      "source": [
        "UU=np.c_[ -U[:,1],-U[:,0]  ]\n",
        "UU"
      ],
      "execution_count": null,
      "outputs": [
        {
          "output_type": "execute_result",
          "data": {
            "text/plain": [
              "array([[ 0.70710678,  0.70710678],\n",
              "       [-0.70710678,  0.70710678]])"
            ]
          },
          "metadata": {
            "tags": []
          },
          "execution_count": 83
        }
      ]
    },
    {
      "cell_type": "code",
      "metadata": {
        "id": "M1wiydaWxrMX",
        "outputId": "15786014-0666-4b85-beac-7443dea9d45f"
      },
      "source": [
        "np.dot( np.dot( VV.transpose().conjugate(),A    ), UU).round(14)"
      ],
      "execution_count": null,
      "outputs": [
        {
          "output_type": "execute_result",
          "data": {
            "text/plain": [
              "array([[5., 0.],\n",
              "       [0., 8.]])"
            ]
          },
          "metadata": {
            "tags": []
          },
          "execution_count": 84
        }
      ]
    },
    {
      "cell_type": "markdown",
      "metadata": {
        "id": "nTUkuEa8xrMZ"
      },
      "source": [
        "<span style=\"color:red\">__Activity__</span>: https://beta.deepnote.com/project/17b487c8-b092-4032-94f5-438ba4eeb1e9"
      ]
    },
    {
      "cell_type": "markdown",
      "metadata": {
        "id": "eVcqY9DCxrMZ"
      },
      "source": [
        "<font color=\"red\">__Activity__</font>: Solve the system\n",
        "$$ \\boldsymbol{A} \\boldsymbol{x}=\\boldsymbol{B}$$\n",
        "for the previous $ \\boldsymbol{A}$ matrix and\n",
        "$$\\boldsymbol{B}=\\begin{bmatrix}\n",
        "   1\\\\\n",
        "   -4\\\\\n",
        "   \\end{bmatrix}$$"
      ]
    },
    {
      "cell_type": "markdown",
      "metadata": {
        "id": "LclxfT5GxrMZ"
      },
      "source": [
        "### Interpretations of Theorem 2"
      ]
    },
    {
      "cell_type": "markdown",
      "metadata": {
        "id": "0bt7SG9xxrMZ"
      },
      "source": [
        "In Theorem 2 establishes a unique set of a matrix $A$ with its eigenvalues and eigenvectors. However, for a fixed set of eigenvalues and eigenvectors we can have several possibilities of $A'$ matrices. For example, if we fix $U'=\\boldsymbol{1}$ \n",
        "\\begin{equation}\n",
        "  {V'}^\\dagger \\boldsymbol{A'}=\\boldsymbol{A}_{\\text{diag}}\\,,\n",
        "\\end{equation}\n",
        "so that\n",
        "\\begin{equation}\n",
        "  \\boldsymbol{A}'=V'\\boldsymbol{A}_{\\text{diag}}\n",
        "\\end{equation}\n",
        "\n",
        "We can now choose any unitary matrix $V'$ and search for the matrix $A'$  which gives rise to the same eigenvalues.\n",
        "\n",
        "__Example__\n",
        "Let $V'=U^{\\operatorname{T}} V$ in the previous example. Find the matrix $A'$ which gives rise to the same eigenvalues"
      ]
    },
    {
      "cell_type": "code",
      "metadata": {
        "id": "RAFSmyXdxrMa"
      },
      "source": [
        "Adiag=np.array( [[5,0],\n",
        "                 [0,8]] )"
      ],
      "execution_count": null,
      "outputs": []
    },
    {
      "cell_type": "code",
      "metadata": {
        "id": "yFs-iPE9xrMb",
        "outputId": "f500aaf2-fcb0-4835-aa97-502f969806ec"
      },
      "source": [
        "Vp=np.dot( orthogonal(np.pi/4).transpose(),orthogonal(np.pi/3) )\n",
        "Vp"
      ],
      "execution_count": null,
      "outputs": [
        {
          "output_type": "execute_result",
          "data": {
            "text/plain": [
              "array([[ 0.96592583,  0.25881905],\n",
              "       [-0.25881905,  0.96592583]])"
            ]
          },
          "metadata": {
            "tags": []
          },
          "execution_count": 85
        }
      ]
    },
    {
      "cell_type": "code",
      "metadata": {
        "id": "9ogFKep-xrMd",
        "outputId": "62ede8c7-d994-4f21-8448-a941046df78d"
      },
      "source": [
        "Ap=np.dot( Vp,np.array( Adiag ) )\n",
        "Ap"
      ],
      "execution_count": null,
      "outputs": [
        {
          "output_type": "execute_result",
          "data": {
            "text/plain": [
              "array([[ 4.82962913,  2.07055236],\n",
              "       [-1.29409523,  7.72740661]])"
            ]
          },
          "metadata": {
            "tags": []
          },
          "execution_count": 24
        }
      ]
    },
    {
      "cell_type": "code",
      "metadata": {
        "id": "aXJ2AaBhxrMf",
        "outputId": "f6e62cfa-3b8e-46ba-d59a-dd2a9c19c0ad"
      },
      "source": [
        "np.dot( Vp.transpose(),Ap).round(14)"
      ],
      "execution_count": null,
      "outputs": [
        {
          "output_type": "execute_result",
          "data": {
            "text/plain": [
              "array([[5., 0.],\n",
              "       [0., 8.]])"
            ]
          },
          "metadata": {
            "tags": []
          },
          "execution_count": 30
        }
      ]
    },
    {
      "cell_type": "markdown",
      "metadata": {
        "id": "xMm21VK1xrMg"
      },
      "source": [
        "Finally, we can use the full procedure of hermitic matrices to obtain the bidiagonal matrices $U,V$\n",
        "\n",
        "__Example__:\n",
        "Diagonalize the matrix $A$ by using the Theorem 1 instead"
      ]
    },
    {
      "cell_type": "code",
      "metadata": {
        "id": "JDZutkBNxrMg"
      },
      "source": [
        "A=np.array([[ 6.66674644,  3.13121253],\n",
        "            [-0.23343505,  5.8902893 ]])"
      ],
      "execution_count": null,
      "outputs": []
    },
    {
      "cell_type": "code",
      "metadata": {
        "id": "D-b1_tujxrMk",
        "outputId": "62ceaecb-340f-4761-9cba-d9b6c6bc312a"
      },
      "source": [
        "np.dot( A,A.transpose() )"
      ],
      "execution_count": null,
      "outputs": [
        {
          "output_type": "execute_result",
          "data": {
            "text/plain": [
              "array([[54.25      , 16.88749537],\n",
              "       [16.88749537, 34.74999996]])"
            ]
          },
          "metadata": {
            "tags": []
          },
          "execution_count": 89
        }
      ]
    },
    {
      "cell_type": "code",
      "metadata": {
        "id": "zqOMq7KoxrMm",
        "outputId": "6685a999-2a77-4d37-ba5f-d40c423cba88"
      },
      "source": [
        "np.dot( A.transpose(),A )"
      ],
      "execution_count": null,
      "outputs": [
        {
          "output_type": "execute_result",
          "data": {
            "text/plain": [
              "array([[44.50000002, 19.50000001],\n",
              "       [19.50000001, 44.49999995]])"
            ]
          },
          "metadata": {
            "tags": []
          },
          "execution_count": 90
        }
      ]
    },
    {
      "cell_type": "markdown",
      "metadata": {
        "id": "FRHVw-QLxrMp"
      },
      "source": [
        "→ is obtained with `<ALT GR>+i` or, similarly: ↓←"
      ]
    },
    {
      "cell_type": "code",
      "metadata": {
        "id": "NRMkWunRxrMq",
        "outputId": "e915effc-8e91-4dc0-9ded-dba2eecb53e6"
      },
      "source": [
        "λ2,V=np.linalg.eig( np.dot( A,A.transpose() ) )\n",
        "print(λ2,'→',np.sqrt(λ2))\n",
        "#V=np.c_[ -V[:,0],V[:,0]  ]\n",
        "V"
      ],
      "execution_count": null,
      "outputs": [
        {
          "output_type": "stream",
          "text": [
            "[63.99999999 24.99999997] → [8. 5.]\n"
          ],
          "name": "stdout"
        },
        {
          "output_type": "execute_result",
          "data": {
            "text/plain": [
              "array([[ 0.8660254, -0.5      ],\n",
              "       [ 0.5      ,  0.8660254]])"
            ]
          },
          "metadata": {
            "tags": []
          },
          "execution_count": 135
        }
      ]
    },
    {
      "cell_type": "code",
      "metadata": {
        "id": "xFEuvlbBxrMs",
        "outputId": "2c0793d1-e643-496d-b486-64962f081f7b"
      },
      "source": [
        "λ2p,U=np.linalg.eig( np.dot( A.transpose(),A ) )\n",
        "print(np.sqrt(λ2))\n",
        "U"
      ],
      "execution_count": null,
      "outputs": [
        {
          "output_type": "stream",
          "text": [
            "[8. 5.]\n"
          ],
          "name": "stdout"
        },
        {
          "output_type": "execute_result",
          "data": {
            "text/plain": [
              "array([[ 0.70710678, -0.70710678],\n",
              "       [ 0.70710678,  0.70710678]])"
            ]
          },
          "metadata": {
            "tags": []
          },
          "execution_count": 136
        }
      ]
    },
    {
      "cell_type": "code",
      "metadata": {
        "id": "pcwubCemxrMu",
        "outputId": "6259e773-5f59-41e2-920e-83c64450c673"
      },
      "source": [
        "np.dot( np.dot( V.transpose(),A ), U ).round(14)"
      ],
      "execution_count": null,
      "outputs": [
        {
          "output_type": "execute_result",
          "data": {
            "text/plain": [
              "array([[ 8., -0.],\n",
              "       [ 0.,  5.]])"
            ]
          },
          "metadata": {
            "tags": []
          },
          "execution_count": 137
        }
      ]
    },
    {
      "cell_type": "markdown",
      "metadata": {
        "id": "SY1cntSlxrMw"
      },
      "source": [
        "<span style=\"color:red\">__Actividad:__</span> cambiar el orden de los autovectores para obtener un orden ascendente en los autovalores"
      ]
    },
    {
      "cell_type": "markdown",
      "metadata": {
        "id": "oxjPKjxlxrMx"
      },
      "source": [
        "## Mixed terms"
      ]
    },
    {
      "cell_type": "markdown",
      "metadata": {
        "id": "Mp14vte8xrMx"
      },
      "source": [
        "Let:\n",
        "\\begin{align}\n",
        "X' = \n",
        "\\begin{bmatrix}\n",
        "B \\\\ \n",
        "W \\\\\n",
        "\\end{bmatrix}\n",
        "\\end{align}\n",
        "\n",
        "Consider  the quadratic equation \n",
        "\\begin{align}\n",
        "X^{\\prime\\operatorname{T}} M X^\\prime=& \\begin{bmatrix}\n",
        "B & W \n",
        "\\end{bmatrix}\n",
        "\\begin{bmatrix}\n",
        "M_{11} & M_{12} \\\\\n",
        "M_{12} & M_{22} \\\\\n",
        "\\end{bmatrix}\n",
        "\\begin{bmatrix}\n",
        "B \\\\ \n",
        "W \\\\\n",
        "\\end{bmatrix}\\\\\n",
        "=& \n",
        "\\begin{bmatrix}\n",
        "B & W \n",
        "\\end{bmatrix}\n",
        "\\begin{bmatrix}\n",
        "M_{11}B + M_{12}W \\\\\n",
        "M_{12}B + M_{22}W \\\\\n",
        "\\end{bmatrix}\\\\\n",
        "=& \n",
        "B( M_{11}B + M_{12}W)+  W ( M_{12}B + M_{22}W )\\\\\n",
        "=&M_{11} B^2 + 2M_{12} BW+ M_{22} W^2\\,. \n",
        "\\end{align}\n",
        "The quadratic equation is in terms of: $M_{11}$, $M_{12}$ y $M_{22}$\n",
        "\n",
        "We can simplify this expression if we change to a new basis \n",
        "$$\n",
        "X=\\begin{bmatrix}\n",
        "A\\\\\n",
        "Z\n",
        "\\end{bmatrix}\n",
        "$$\n",
        "in which $M$ is diagonal, in such a case the crossed term would disappear. \n",
        "The rotation from $X'\\to X$ is defined by\n",
        "\\begin{align}\n",
        "X'=\n",
        "\\begin{bmatrix}\n",
        "B\\\\\n",
        "W\n",
        "\\end{bmatrix}\\equiv\n",
        "\\begin{bmatrix}\n",
        "\\cos\\theta & \\sin\\theta\\\\\n",
        "-\\sin\\theta & \\cos\\theta\n",
        "\\end{bmatrix}\n",
        "\\begin{bmatrix}\n",
        "A\\\\\n",
        "Z\n",
        "\\end{bmatrix}=\n",
        "V X \n",
        "\\end{align}\n",
        "where $V$ is the rotation matrix\n",
        "$$\n",
        "V=\\begin{bmatrix}\n",
        "\\cos\\theta & \\sin\\theta\\\\\n",
        "-\\sin\\theta & \\cos\\theta\n",
        "\\end{bmatrix}.\n",
        "$$\n",
        "Therefore\n",
        "\\begin{align}\n",
        "X\\equiv\n",
        "\\begin{bmatrix}\n",
        "A\\\\\n",
        "Z\n",
        "\\end{bmatrix}=V^{\\operatorname{T}} X' \\to X^{\\operatorname{T}}= X^{\\prime\\operatorname{T}} V\\,,\n",
        "\\end{align}\n",
        "\n",
        "\n",
        "\n",
        "In the new basis\n",
        "\\begin{align}\n",
        "X^{\\prime\\operatorname{T}} M X^\\prime=&X^{\\prime\\operatorname{T}}V V^{\\operatorname{T}} M V V^{\\operatorname{T}} X^\\prime\\\\\n",
        "=&(X^{\\prime\\operatorname{T}}V) (V^{\\operatorname{T}} M V) (V^{\\operatorname{T}} X^\\prime)\\\\\n",
        "=& X^{\\operatorname{T}} M_{\\text{diag}} X \\\\\n",
        "=&  \\lambda_1 A^2+\\lambda_2 Z^2\\,.\n",
        "\\end{align}"
      ]
    },
    {
      "cell_type": "markdown",
      "metadata": {
        "id": "E74PIGPOxrMx"
      },
      "source": [
        "such that $|\\lambda_1|\\le|\\lambda_2|$, where\n",
        "\\begin{align}\n",
        "M_{\\text{diag}}\\equiv V^{\\operatorname{T}} M V=\\begin{bmatrix}\n",
        "\\lambda_1 & 0 \\\\ \n",
        "0 & \\lambda_2 \\\\\n",
        "\\end{bmatrix}\\,,\n",
        "\\end{align}\n",
        "\n",
        "In this basis, the quadratic equation is in terms of eigenvalues and mixing angle, $\\theta$.\n",
        "Therefore, there are not longer mixed terms.\n",
        "\n",
        "The diagonalization of quadratic equations can be straightforwardly  generalized to $n$-th degree equations in terms of $n\\times n$ matrices\n"
      ]
    },
    {
      "cell_type": "code",
      "metadata": {
        "hide_input": true,
        "id": "jBunn2v8xrMy"
      },
      "source": [
        "import numpy as np\n",
        "g =0.64996\n",
        "gp=0.35523\n",
        "v=246.22046"
      ],
      "execution_count": null,
      "outputs": []
    },
    {
      "cell_type": "markdown",
      "metadata": {
        "id": "EbJaz-trxrM0"
      },
      "source": [
        "### Example: Electroweak interactions\n",
        "To understand the electromagnetic and weak fundamental interactions, the mathematical formulation need to be done in one basis where the photon field, denoted with a symbol $A$, is still not well defined. Instead, the field $B$, the precursor of $A$, appears along with the weak field $W$, the precursor of the electroweak field $Z$. In the _mathematical_ basis we have then\n",
        "\\begin{align}\n",
        "X' = \n",
        "\\begin{bmatrix}\n",
        "B \\\\ \n",
        "W \\\\\n",
        "\\end{bmatrix},\n",
        "\\end{align}\n",
        "and there, the symmetric mass matrix is calculated as (Details here: [PDF](https://github.com/restrepo/TCC/releases/latest))"
      ]
    },
    {
      "cell_type": "markdown",
      "metadata": {
        "id": "2S4NbUSIxrM0"
      },
      "source": [
        "<!-- \n",
        "sin2θ=0.23\n",
        "θ=np.arcsin( np.sqrt(sin2θ)  )\n",
        "print(θ)\n",
        "MZ=91.1876\n",
        "GF=1.166371E-5\n",
        "v=1/np.sqrt(np.sqrt(2)*GF)\n",
        "g=2*MZ*np.cos(θ)/v\n",
        "gp=g*np.tan(θ)\n",
        "gp\n",
        "-->"
      ]
    },
    {
      "cell_type": "code",
      "metadata": {
        "id": "QwuJ7TL_xrM1"
      },
      "source": [
        "M=(v**2/4)*np.array([[gp**2,-g*gp],\n",
        "                     [-g*gp, g**2]])"
      ],
      "execution_count": null,
      "outputs": []
    },
    {
      "cell_type": "code",
      "metadata": {
        "id": "GGKm6W4AxrM5",
        "outputId": "35bddf50-4c7a-44b3-f1a8-f021273b7a14"
      },
      "source": [
        "M"
      ],
      "execution_count": null,
      "outputs": [
        {
          "output_type": "execute_result",
          "data": {
            "text/plain": [
              "array([[ 1912.52692086, -3499.32718938],\n",
              "       [-3499.32718938,  6402.67629426]])"
            ]
          },
          "metadata": {
            "tags": []
          },
          "execution_count": 113
        }
      ]
    },
    {
      "cell_type": "markdown",
      "metadata": {
        "id": "ucg0me6VxrM6"
      },
      "source": [
        "Checking that the determinant is zero"
      ]
    },
    {
      "cell_type": "code",
      "metadata": {
        "id": "VbU4VE6RxrM7",
        "outputId": "a0060548-c7c6-4291-9e98-f478960c219b"
      },
      "source": [
        "np.linalg.det(M).round(8)"
      ],
      "execution_count": null,
      "outputs": [
        {
          "output_type": "execute_result",
          "data": {
            "text/plain": [
              "0.0"
            ]
          },
          "metadata": {
            "tags": []
          },
          "execution_count": 114
        }
      ]
    },
    {
      "cell_type": "markdown",
      "metadata": {
        "id": "B4v2qiW5xrM-"
      },
      "source": [
        "This imply that one egivanlue is zero"
      ]
    },
    {
      "cell_type": "code",
      "metadata": {
        "id": "mMIRKFavxrM-",
        "outputId": "370036b4-d6b8-46b6-ae5e-efbe54edd305"
      },
      "source": [
        "np.linalg.eigvals(M).round(12)"
      ],
      "execution_count": null,
      "outputs": [
        {
          "output_type": "execute_result",
          "data": {
            "text/plain": [
              "array([   0.        , 8315.20321512])"
            ]
          },
          "metadata": {
            "tags": []
          },
          "execution_count": 115
        }
      ]
    },
    {
      "cell_type": "markdown",
      "metadata": {
        "id": "oKHYcT_5xrNA"
      },
      "source": [
        "which means that the matrix rank, the number of non-zero eigenvalues, is 1"
      ]
    },
    {
      "cell_type": "code",
      "metadata": {
        "id": "Fyv_UYMaxrNA",
        "outputId": "c9a857d0-2c25-43e6-b2b8-d496f3cf4a58"
      },
      "source": [
        "np.linalg.matrix_rank(M)"
      ],
      "execution_count": null,
      "outputs": [
        {
          "output_type": "execute_result",
          "data": {
            "text/plain": [
              "1"
            ]
          },
          "metadata": {
            "tags": []
          },
          "execution_count": 116
        }
      ]
    },
    {
      "cell_type": "markdown",
      "metadata": {
        "id": "Fl34A1NdxrNC"
      },
      "source": [
        "To make the change to the _phyisical_ basis,\n",
        "$$\n",
        "X=\\begin{bmatrix}\n",
        "A\\\\\n",
        "Z\n",
        "\\end{bmatrix}\n",
        "$$\n",
        "through the rotation matrix\n",
        "$$\n",
        "V=\\begin{bmatrix}\n",
        "\\cos\\theta_W & \\sin\\theta_W\\\\\n",
        "-\\sin\\theta_W & \\cos\\theta_W\n",
        "\\end{bmatrix},\n",
        "$$\n",
        "the following transformation need to be established\n",
        "\\begin{align}\n",
        "X'=\n",
        "\\begin{bmatrix}\n",
        "B\\\\\n",
        "W\n",
        "\\end{bmatrix}\\equiv\n",
        "\\begin{bmatrix}\n",
        "\\cos\\theta_W & \\sin\\theta_W\\\\\n",
        "-\\sin\\theta_W & \\cos\\theta_W\n",
        "\\end{bmatrix}\n",
        "\\begin{bmatrix}\n",
        "A\\\\\n",
        "Z\n",
        "\\end{bmatrix}=\n",
        "V X\\,,\n",
        "\\end{align}\n",
        "such that $V$ is the diagonalization matrix of $M$"
      ]
    },
    {
      "cell_type": "markdown",
      "metadata": {
        "id": "GumW47MxxrNC"
      },
      "source": [
        "$$M_{\\text{diag}}=V^{\\operatorname{T}} M V$$\n",
        "with the normal ordering: $|\\lambda_1|\\le|\\lambda_2|$, and"
      ]
    },
    {
      "cell_type": "markdown",
      "metadata": {
        "id": "STD69LsYxrNC"
      },
      "source": [
        "* $V$ → Diagonalization matrix\n",
        "* $V$ → Ortogonal matrix\n",
        "* $V$ → Rotation matrix\n",
        "\n",
        "To obtain the eigensystem, we use"
      ]
    },
    {
      "cell_type": "code",
      "metadata": {
        "id": "6DUqmzujxrNC"
      },
      "source": [
        "λ,V=np.linalg.eig(M)"
      ],
      "execution_count": null,
      "outputs": []
    },
    {
      "cell_type": "markdown",
      "metadata": {
        "id": "2nNipprHxrND"
      },
      "source": [
        "which in fact satisfy"
      ]
    },
    {
      "cell_type": "code",
      "metadata": {
        "id": "hg25bHyvxrNE",
        "outputId": "11da429a-4095-4c5f-ca41-4edaddb66eed"
      },
      "source": [
        "np.dot( np.dot(V.transpose(),M) , V).round(12)"
      ],
      "execution_count": null,
      "outputs": [
        {
          "output_type": "execute_result",
          "data": {
            "text/plain": [
              "array([[  -0.        ,    0.        ],\n",
              "       [  -0.        , 8315.20321512]])"
            ]
          },
          "metadata": {
            "tags": []
          },
          "execution_count": 129
        }
      ]
    },
    {
      "cell_type": "markdown",
      "metadata": {
        "id": "EBlPSqpgxrNH"
      },
      "source": [
        "Since the first (zero) eigenvalue is the one associated to $A$, we can interpret directly the rotation matrix without changing the order of the eigenvectors"
      ]
    },
    {
      "cell_type": "code",
      "metadata": {
        "id": "Nt6-jU1DxrNH",
        "outputId": "675f999c-f838-4f36-cf5b-ea2e520e560b"
      },
      "source": [
        "V"
      ],
      "execution_count": null,
      "outputs": [
        {
          "output_type": "execute_result",
          "data": {
            "text/plain": [
              "array([[-0.87749437,  0.47958694],\n",
              "       [-0.47958694, -0.87749437]])"
            ]
          },
          "metadata": {
            "tags": []
          },
          "execution_count": 132
        }
      ]
    },
    {
      "cell_type": "markdown",
      "metadata": {
        "id": "DIF0QgBqxrNJ"
      },
      "source": [
        "Note that in fact, the absolute value of the first element of the first eigenvector is the larger one and corresponds to the component along the $B$-axis."
      ]
    },
    {
      "cell_type": "markdown",
      "metadata": {
        "id": "PLwRF3oBxrNJ"
      },
      "source": [
        "Therefore"
      ]
    },
    {
      "cell_type": "code",
      "metadata": {
        "id": "pNXbINrpxrNK",
        "outputId": "94f789ad-3f7c-4e2a-c008-2583a73fc4b8"
      },
      "source": [
        "θ_W=np.arcsin( V[0,1] )\n",
        "θ_W"
      ],
      "execution_count": null,
      "outputs": [
        {
          "output_type": "execute_result",
          "data": {
            "text/plain": [
              "0.5001839211647364"
            ]
          },
          "metadata": {
            "tags": []
          },
          "execution_count": 133
        }
      ]
    },
    {
      "cell_type": "markdown",
      "metadata": {
        "id": "DKQOf7cVxrNL"
      },
      "source": [
        "The eigenvalue associated to $Z$ is"
      ]
    },
    {
      "cell_type": "code",
      "metadata": {
        "id": "oZ_C7IpuxrNL",
        "outputId": "7934fd5c-3954-4141-fb16-f3a8fb0da618"
      },
      "source": [
        "mZ=np.sqrt(λ[1])\n",
        "mZ"
      ],
      "execution_count": null,
      "outputs": [
        {
          "output_type": "execute_result",
          "data": {
            "text/plain": [
              "91.18773610041056"
            ]
          },
          "metadata": {
            "tags": []
          },
          "execution_count": 139
        }
      ]
    },
    {
      "cell_type": "markdown",
      "metadata": {
        "id": "RYrTJgNkxrNM"
      },
      "source": [
        "corresponding to the  $Z$ mass in units of $\\text{GeV}/c^2$. As a reference, the proton mass is approximately $1\\ \\text{GeV}/c^2$\n",
        "\n",
        "The physical observable associated to the _weak mixing angle_, $\\theta_W$, is (see [PDF](https://pdg.lbl.gov/2019/reviews/rpp2018-rev-phys-constants.pdf), along with the $Z^0$ _boson mass_, $m_Z$)"
      ]
    },
    {
      "cell_type": "code",
      "metadata": {
        "id": "-43glITjxrNN",
        "outputId": "889bd783-4000-4d07-dff4-1b809d5e8a5c"
      },
      "source": [
        "np.sin(θ_W)**2"
      ],
      "execution_count": null,
      "outputs": [
        {
          "output_type": "execute_result",
          "data": {
            "text/plain": [
              "0.23000362966286086"
            ]
          },
          "metadata": {
            "tags": []
          },
          "execution_count": 138
        }
      ]
    },
    {
      "cell_type": "markdown",
      "metadata": {
        "id": "bfum4WmoxrNP"
      },
      "source": [
        "## Neutrino mass matrix\n",
        "Returning back to the neutrino mixing discussion, it is worth noticing that in the mathematical basis\n",
        "$$\n",
        "N=\\left(\\begin{array}{l}\n",
        "\\left|\\nu_{e}\\right\\rangle \\\\\n",
        "\\left|\\nu_{\\mu}\\right\\rangle \\\\\n",
        "\\left|\\nu_{\\tau}\\right\\rangle\n",
        "\\end{array}\\right)\n",
        "$$\n",
        "the mass matrix, $\\mathcal{M}_\\nu$ is non-diagonal. However, if we assume that it is symmetric, then the previous rotation matrix there\n",
        "$$\n",
        "\\left(\\begin{array}{l}\n",
        "\\left|\\nu_{e}\\right\\rangle \\\\\n",
        "\\left|\\nu_{\\mu}\\right\\rangle \\\\\n",
        "\\left|\\nu_{\\tau}\\right\\rangle\n",
        "\\end{array}\\right)= \\boldsymbol{U}\\left(\\begin{array}{l}\n",
        "\\left|\\nu_{1}\\right\\rangle \\\\\n",
        "\\left|\\nu_{2}\\right\\rangle \\\\\n",
        "\\left|\\nu_{3}\\right\\rangle\n",
        "\\end{array}\\right),\n",
        "$$\n",
        "corresponds to the diagonalization matrix\n",
        "$$\n",
        "\\boldsymbol{U}^\\dagger \\mathcal{M}_\\nu \\boldsymbol{U}=\\operatorname{diag}(m_1,m_2,m_3).\n",
        "$$"
      ]
    },
    {
      "cell_type": "code",
      "metadata": {
        "id": "XLCctUyzxrNP"
      },
      "source": [
        ""
      ],
      "execution_count": null,
      "outputs": []
    }
  ]
}