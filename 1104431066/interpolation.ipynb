{
  "nbformat": 4,
  "nbformat_minor": 0,
  "metadata": {
    "colab": {
      "name": "interpolation.ipynb",
      "provenance": [],
      "collapsed_sections": [
        "HAld-e8YEZXu",
        "me-qxh8sEZXv",
        "QrN1hmlnEZXv",
        "WSrNnaKcEZX2",
        "FEj64uDmEZX8",
        "XFqacQP6EZX8",
        "-1r8xBk8EZX9",
        "IAYkvn-_EZYD"
      ]
    },
    "kernelspec": {
      "display_name": "Python 3",
      "language": "python",
      "name": "python3"
    },
    "language_info": {
      "codemirror_mode": {
        "name": "ipython",
        "version": 3
      },
      "file_extension": ".py",
      "mimetype": "text/x-python",
      "name": "python",
      "nbconvert_exporter": "python",
      "pygments_lexer": "ipython3",
      "version": "3.7.3"
    }
  },
  "cells": [
    {
      "cell_type": "markdown",
      "metadata": {
        "id": "XGh1ScX5EZVp"
      },
      "source": [
        "# Interpolation Methods\n",
        "<a href=\"https://colab.research.google.com/github/restrepo/ComputationalMethods/blob/master/material/interpolation.ipynb\" target=\"_parent\"><img src=\"https://colab.research.google.com/assets/colab-badge.svg\" alt=\"Open In Colab\"/></a>"
      ]
    },
    {
      "cell_type": "markdown",
      "metadata": {
        "id": "b9K_MnFJEZVr"
      },
      "source": [
        "Due to the discrete (and sometimes sparse) nature of experiments and observations, data taking procedures will always produce discrete data as well. Even, as we have seen before, information only can be discretely presented into a computer due to the binary representation. However, when we are dealing with physical models, continuous and smooth properties are of course preferred. Interpolation techniques allow then to recover a continuous field (intermediate values) from sparse datasets. Throughout this section we shall cover some of these interpolation methods.\n",
        "\n",
        "---\n",
        "\n",
        "<!-- __Homework__: https://classroom.github.com/a/SB94rDVJ -->\n",
        "## Bibliography: \n",
        "[1a] Gonzalo Galiano Casas, Esperanza García Gonzalo [Numerical Computation](https://www.unioviedo.es/compnum/expositive/handbook/metnum.pdf) - [GD](https://drive.google.com/file/d/1gwHYLx5aBf3oXRhmGeG-n1toTtAUhvfX/view?usp=sharing) - [Web page with notebooks](https://www.unioviedo.es/compnum/index.php/english-menu)<br/>\n",
        "[1g] Mo Mu, [MATH 3311: Introduction to Numerical Methods](https://www.math.ust.hk/~mamu/courses/230/course.htm) [GD](https://drive.google.com/drive/folders/1vv38SS7Zpw8mOHG7Kq_3lZr6o9H4xOYP?usp=sharing) - [Demostration Error in Lagrange Polynomials](https://www.math.ust.hk/~mamu/courses/231/Slides/CH03_1B.pdf)<br/>\n",
        "[1h] Zhiliang Xu, [ACMS 40390: Fall 2016 - Numerical Analysis](https://www3.nd.edu/~zxu2/ACMS40390-F16.html) [GD](https://drive.google.com/drive/folders/1Z9Fws1v34PuPdGAp_mBCWmTvZM_Qd6Xk?usp=sharing)</br>\n",
        "\n",
        "\n",
        "https://github.com/restrepo/Calculus/blob/master/Differential_Calculus.ipynb\n"
      ]
    },
    {
      "cell_type": "markdown",
      "metadata": {
        "id": "ooE-OhsOEZVs"
      },
      "source": [
        "- - -\n",
        "- [NumPy polynomials](#NumPy-Polynomials)\n",
        "- [Linear Interpolation](#Linear-Interpolation)\n",
        "    - [Steps](#Steps-LI)\n",
        "    - [Example 1](#Example-1)\n",
        "- [Lagrange Polynomial](#Lagrange-Polynomial)\n",
        "    - [Derivation](#Derivation)\n",
        "    - [Steps](#Steps-LP)\n",
        "    - [Activity](#Activity-LP)\n",
        "- [Divided Differences](#Divided-Differences)\n",
        "    - [Example 2](#Example-2)\n",
        "- [Hermite Interpolation](#Hermite-Interpolation)\n",
        "    - [Derivation in terms of divided differences](#Derivation-in-terms-of-divided-differences)\n",
        "    - [Example 3](#Example-3)\n",
        "- - -"
      ]
    },
    {
      "cell_type": "code",
      "metadata": {
        "id": "8BwVVom3EZVu",
        "outputId": "bd426374-95fe-46ee-9fc6-d7806f001f76",
        "colab": {
          "base_uri": "https://localhost:8080/",
          "height": 34
        }
      },
      "source": [
        "%pylab inline"
      ],
      "execution_count": 1,
      "outputs": [
        {
          "output_type": "stream",
          "text": [
            "Populating the interactive namespace from numpy and matplotlib\n"
          ],
          "name": "stdout"
        }
      ]
    },
    {
      "cell_type": "code",
      "metadata": {
        "id": "jLrHQj5MEZV0"
      },
      "source": [
        "from IPython.display import display, Markdown, Latex, Image \n",
        "import pandas as pd"
      ],
      "execution_count": 2,
      "outputs": []
    },
    {
      "cell_type": "code",
      "metadata": {
        "id": "qA6vPaJBEZV2"
      },
      "source": [
        "from scipy import interpolate"
      ],
      "execution_count": 3,
      "outputs": []
    },
    {
      "cell_type": "code",
      "metadata": {
        "id": "rIsrgFTCEZV4"
      },
      "source": [
        "import numpy as np\n",
        "# JSAnimation import available at https://github.com/jakevdp/JSAnimation\n",
        "#from JSAnimation import IPython_display\n",
        "from matplotlib import animation\n",
        "from IPython.core.display import Image "
      ],
      "execution_count": 5,
      "outputs": []
    },
    {
      "cell_type": "markdown",
      "metadata": {
        "id": "izA9D35WdJjg"
      },
      "source": [
        "Pretty print inside colaboratory"
      ]
    },
    {
      "cell_type": "code",
      "metadata": {
        "id": "vU_ALGnRhKna"
      },
      "source": [
        "import IPython\n",
        "\n",
        "def setup_typeset():\n",
        "  \"\"\"MathJax initialization for the current cell.\n",
        "  \n",
        "  This installs and configures MathJax for the current output.\n",
        "  \"\"\"\n",
        "  IPython.display.display(IPython.display.HTML('''\n",
        "      <script src=\"https://www.gstatic.com/external_hosted/mathjax/latest/MathJax.js?config=TeX-AMS_HTML-full,Safe&delayStartupUntil=configured\"></script>\n",
        "      <script>\n",
        "        (() => {\n",
        "          const mathjax = window.MathJax;\n",
        "          mathjax.Hub.Config({\n",
        "          'tex2jax': {\n",
        "            'inlineMath': [['$', '$'], ['\\\\(', '\\\\)']],\n",
        "            'displayMath': [['$$', '$$'], ['\\\\[', '\\\\]']],\n",
        "            'processEscapes': true,\n",
        "            'processEnvironments': true,\n",
        "            'skipTags': ['script', 'noscript', 'style', 'textarea', 'code'],\n",
        "            'displayAlign': 'center',\n",
        "          },\n",
        "          'HTML-CSS': {\n",
        "            'styles': {'.MathJax_Display': {'margin': 0}},\n",
        "            'linebreaks': {'automatic': true},\n",
        "            // Disable to prevent OTF font loading, which aren't part of our\n",
        "            // distribution.\n",
        "            'imageFont': null,\n",
        "          },\n",
        "          'messageStyle': 'none'\n",
        "        });\n",
        "        mathjax.Hub.Configured();\n",
        "      })();\n",
        "      </script>\n",
        "      '''))\n",
        "    \n",
        "def Polynomial_to_LaTeX(p):\n",
        "    \"\"\" Small function to print nicely the polynomial p as we write it in maths, in LaTeX code.\"\"\"\n",
        "    coefs = p.coef[::-1]  # List of coefficient, sorted by increasing degrees\n",
        "    res = \"\"  # The resulting string\n",
        "    for i, a in enumerate(coefs):\n",
        "        if int(a) == a:  # Remove the trailing .0\n",
        "            a = int(a)\n",
        "        if i == 0:  # First coefficient, no need for X\n",
        "            if a > 0:\n",
        "                res += \"{a} + \".format(a=a)\n",
        "            elif a < 0:  # Negative a is printed like (a)\n",
        "                res += \"({a}) + \".format(a=a)\n",
        "            # a = 0 is not displayed \n",
        "        elif i == 1:  # Second coefficient, only X and not X**i\n",
        "            if a == 1:  # a = 1 does not need to be displayed\n",
        "                res += \"x + \"\n",
        "            elif a > 0:\n",
        "                res += \"{a} \\;x + \".format(a=a)\n",
        "            elif a < 0:\n",
        "                res += \"({a}) \\;x + \".format(a=a)\n",
        "        else:\n",
        "            if a == 1:\n",
        "                # A special care needs to be addressed to put the exponent in {..} in LaTeX\n",
        "                res += \"x^{i} + \".format(i=\"{%d}\" % i)\n",
        "            elif a > 0:\n",
        "                res += \"{a} \\;x^{i} + \".format(a=a, i=\"{%d}\" % i)\n",
        "            elif a < 0:\n",
        "                res += \"({a}) \\;x^{i} + \".format(a=a, i=\"{%d}\" % i)\n",
        "    return \"$\" + res[:-3] + \"$\" if res else \"\"    "
      ],
      "execution_count": 6,
      "outputs": []
    },
    {
      "cell_type": "markdown",
      "metadata": {
        "id": "udTzmy-CEZV7"
      },
      "source": [
        "- - -"
      ]
    },
    {
      "cell_type": "markdown",
      "metadata": {
        "id": "Z-txzMoJEZV7"
      },
      "source": [
        "# NumPy Polynomials"
      ]
    },
    {
      "cell_type": "markdown",
      "metadata": {
        "id": "bA0x7_nCEZV9"
      },
      "source": [
        "In Numpy there is an implementation of Polynomials. The object is initialized giving the polynomial coefficients: \n",
        "\n",
        "More information about this\n",
        "* [LaTeX print](https://perso.crans.org/besson/publis/notebooks/Demonstration%20of%20numpy.polynomial.Polynomial%20and%20nice%20display%20with%20LaTeX%20and%20MathJax%20(python3).html): "
      ]
    },
    {
      "cell_type": "code",
      "metadata": {
        "id": "OEDBQReUEZV9",
        "outputId": "2e1ad54d-6a97-4daf-dc72-98ea965b7794",
        "colab": {
          "base_uri": "https://localhost:8080/",
          "height": 51
        }
      },
      "source": [
        "p = np.poly1d([1, 2, -3])\n",
        "print(p)"
      ],
      "execution_count": 7,
      "outputs": [
        {
          "output_type": "stream",
          "text": [
            "   2\n",
            "1 x + 2 x - 3\n"
          ],
          "name": "stdout"
        }
      ]
    },
    {
      "cell_type": "code",
      "metadata": {
        "id": "fOvUPjgrQq01",
        "outputId": "16297142-faa1-4627-bbc8-6104b83436e3",
        "colab": {
          "base_uri": "https://localhost:8080/",
          "height": 51
        }
      },
      "source": [
        "print('\\thola\\nmundo\\\\')"
      ],
      "execution_count": 8,
      "outputs": [
        {
          "output_type": "stream",
          "text": [
            "\thola\n",
            "mundo\\\n"
          ],
          "name": "stdout"
        }
      ]
    },
    {
      "cell_type": "code",
      "metadata": {
        "id": "BtBRAq0iQq06",
        "outputId": "bb68e99f-2618-4acb-b629-5dd3cb029e62",
        "colab": {
          "base_uri": "https://localhost:8080/",
          "height": 35
        }
      },
      "source": [
        "Polynomial_to_LaTeX(p)"
      ],
      "execution_count": 9,
      "outputs": [
        {
          "output_type": "execute_result",
          "data": {
            "application/vnd.google.colaboratory.intrinsic+json": {
              "type": "string"
            },
            "text/plain": [
              "'$(-3) + 2 \\\\;x + x^{2}$'"
            ]
          },
          "metadata": {
            "tags": []
          },
          "execution_count": 9
        }
      ]
    },
    {
      "cell_type": "markdown",
      "metadata": {
        "id": "8m74XsOSQq08"
      },
      "source": [
        "In a text cell: $(-3) + 2 \\;x + x^{2}$"
      ]
    },
    {
      "cell_type": "code",
      "metadata": {
        "id": "V_4h2028Qq08",
        "outputId": "dfa397a6-84d9-49c2-aca0-a9db5b625b80",
        "colab": {
          "base_uri": "https://localhost:8080/",
          "height": 38
        }
      },
      "source": [
        "Latex(Polynomial_to_LaTeX(p))"
      ],
      "execution_count": 10,
      "outputs": [
        {
          "output_type": "execute_result",
          "data": {
            "text/latex": "$(-3) + 2 \\;x + x^{2}$",
            "text/plain": [
              "<IPython.core.display.Latex object>"
            ]
          },
          "metadata": {
            "tags": []
          },
          "execution_count": 10
        }
      ]
    },
    {
      "cell_type": "markdown",
      "metadata": {
        "id": "fXZFBPhsQq0-"
      },
      "source": [
        "The numpy polynomial is automatically a function of its variable $x$"
      ]
    },
    {
      "cell_type": "code",
      "metadata": {
        "id": "GJiv6iCFQq0-",
        "outputId": "1ec3a7b3-7e5b-4ed1-a3d7-21c15d65386a",
        "colab": {
          "base_uri": "https://localhost:8080/",
          "height": 34
        }
      },
      "source": [
        "p(1.3)"
      ],
      "execution_count": 11,
      "outputs": [
        {
          "output_type": "execute_result",
          "data": {
            "text/plain": [
              "1.29"
            ]
          },
          "metadata": {
            "tags": []
          },
          "execution_count": 11
        }
      ]
    },
    {
      "cell_type": "markdown",
      "metadata": {
        "id": "HuqkJBhWEZV_"
      },
      "source": [
        "By default, the assigned the attribute `variable` is `x`:"
      ]
    },
    {
      "cell_type": "code",
      "metadata": {
        "id": "jT6FBw47EZWA",
        "outputId": "0c57894c-25ef-4618-b6e2-e025b493a6f4",
        "colab": {
          "base_uri": "https://localhost:8080/",
          "height": 35
        }
      },
      "source": [
        "p.variable"
      ],
      "execution_count": 12,
      "outputs": [
        {
          "output_type": "execute_result",
          "data": {
            "application/vnd.google.colaboratory.intrinsic+json": {
              "type": "string"
            },
            "text/plain": [
              "'x'"
            ]
          },
          "metadata": {
            "tags": []
          },
          "execution_count": 12
        }
      ]
    },
    {
      "cell_type": "markdown",
      "metadata": {
        "id": "x-7Tef0-EZWC"
      },
      "source": [
        "which can be assigned at initialization "
      ]
    },
    {
      "cell_type": "code",
      "metadata": {
        "id": "A8ZMzlaTEZWD",
        "outputId": "da723545-a87a-4b40-bc5a-72b03051771e",
        "colab": {
          "base_uri": "https://localhost:8080/",
          "height": 51
        }
      },
      "source": [
        "q = np.poly1d([1, 2, -3],variable='t')\n",
        "print(q)"
      ],
      "execution_count": 13,
      "outputs": [
        {
          "output_type": "stream",
          "text": [
            "   2\n",
            "1 t + 2 t - 3\n"
          ],
          "name": "stdout"
        }
      ]
    },
    {
      "cell_type": "markdown",
      "metadata": {
        "id": "nJtZ4y7VQq1H"
      },
      "source": [
        "Change of variable"
      ]
    },
    {
      "cell_type": "code",
      "metadata": {
        "id": "IZSYXcAsQq1I",
        "outputId": "7c577523-ebe0-46e8-c32c-187793754857",
        "colab": {
          "base_uri": "https://localhost:8080/",
          "height": 51
        }
      },
      "source": [
        "p = np.poly1d([1, 2, -3])\n",
        "print(p)"
      ],
      "execution_count": 14,
      "outputs": [
        {
          "output_type": "stream",
          "text": [
            "   2\n",
            "1 x + 2 x - 3\n"
          ],
          "name": "stdout"
        }
      ]
    },
    {
      "cell_type": "code",
      "metadata": {
        "id": "gtDQ9XX_Qq1K",
        "outputId": "b94145ba-f21c-4c76-9f55-707f0b5a6449",
        "colab": {
          "base_uri": "https://localhost:8080/",
          "height": 51
        }
      },
      "source": [
        "pp=np.poly1d(p.coef,variable='t')\n",
        "print(pp)"
      ],
      "execution_count": 15,
      "outputs": [
        {
          "output_type": "stream",
          "text": [
            "   2\n",
            "1 t + 2 t - 3\n"
          ],
          "name": "stdout"
        }
      ]
    },
    {
      "cell_type": "markdown",
      "metadata": {
        "id": "W7MuNikhQq1N"
      },
      "source": [
        "Polynomial can be added but not multiplied, simplified or expanded"
      ]
    },
    {
      "cell_type": "code",
      "metadata": {
        "id": "653DCEw5Qq1N",
        "outputId": "e53518a9-66d3-4142-c26c-dcf56adf5c0e",
        "colab": {
          "base_uri": "https://localhost:8080/",
          "height": 153
        }
      },
      "source": [
        "p1=np.poly1d([1,1])\n",
        "print('p1(x)={}'.format(p1))\n",
        "print('*'*20)\n",
        "p2=np.poly1d([-1,1])\n",
        "print('p2(x)={}'.format(p2))\n",
        "print('*'*20)\n",
        "print('p1(x)+p2(x)={}'.format(p1+p2))"
      ],
      "execution_count": 16,
      "outputs": [
        {
          "output_type": "stream",
          "text": [
            "p1(x)= \n",
            "1 x + 1\n",
            "********************\n",
            "p2(x)= \n",
            "-1 x + 1\n",
            "********************\n",
            "p1(x)+p2(x)= \n",
            "2\n"
          ],
          "name": "stdout"
        }
      ]
    },
    {
      "cell_type": "markdown",
      "metadata": {
        "id": "hDgtm5VCEZWF"
      },
      "source": [
        "The object have in particular methods for <br/>\n",
        "__Integration__:"
      ]
    },
    {
      "cell_type": "code",
      "metadata": {
        "id": "t21oQRuRQq1P",
        "outputId": "2be3d193-f69c-423c-a473-2a14ff6f882f",
        "colab": {
          "base_uri": "https://localhost:8080/",
          "height": 34
        }
      },
      "source": [
        "p1+p2"
      ],
      "execution_count": 17,
      "outputs": [
        {
          "output_type": "execute_result",
          "data": {
            "text/plain": [
              "poly1d([2])"
            ]
          },
          "metadata": {
            "tags": []
          },
          "execution_count": 17
        }
      ]
    },
    {
      "cell_type": "code",
      "metadata": {
        "id": "s6qCWnuYQq1R",
        "outputId": "4f6555b4-1f23-4129-87ed-9f56cf6bd2ee",
        "colab": {
          "base_uri": "https://localhost:8080/",
          "height": 51
        }
      },
      "source": [
        "print(p)"
      ],
      "execution_count": 18,
      "outputs": [
        {
          "output_type": "stream",
          "text": [
            "   2\n",
            "1 x + 2 x - 3\n"
          ],
          "name": "stdout"
        }
      ]
    },
    {
      "cell_type": "code",
      "metadata": {
        "id": "fNO8_bVTQq1T",
        "outputId": "a37d6d25-3d59-4f4d-8b66-bc9ce81dd023",
        "colab": {
          "base_uri": "https://localhost:8080/",
          "height": 51
        }
      },
      "source": [
        "print(p)"
      ],
      "execution_count": 19,
      "outputs": [
        {
          "output_type": "stream",
          "text": [
            "   2\n",
            "1 x + 2 x - 3\n"
          ],
          "name": "stdout"
        }
      ]
    },
    {
      "cell_type": "code",
      "metadata": {
        "id": "nMJq0CrOEZWG",
        "outputId": "38bfcf35-4d06-4451-e939-95ee388969ce",
        "colab": {
          "base_uri": "https://localhost:8080/",
          "height": 51
        }
      },
      "source": [
        "p = np.poly1d([1, 2, -3])\n",
        "print( p.integ() )"
      ],
      "execution_count": 20,
      "outputs": [
        {
          "output_type": "stream",
          "text": [
            "        3     2\n",
            "0.3333 x + 1 x - 3 x\n"
          ],
          "name": "stdout"
        }
      ]
    },
    {
      "cell_type": "markdown",
      "metadata": {
        "id": "JVolgx0wEZWI"
      },
      "source": [
        "__Derivatives__"
      ]
    },
    {
      "cell_type": "code",
      "metadata": {
        "id": "fVS5U1bBEZWJ",
        "outputId": "2ab4e4fe-8bbe-4fcb-c367-72123a3bae87",
        "colab": {
          "base_uri": "https://localhost:8080/",
          "height": 51
        }
      },
      "source": [
        "print( p.deriv() )"
      ],
      "execution_count": 21,
      "outputs": [
        {
          "output_type": "stream",
          "text": [
            " \n",
            "2 x + 2\n"
          ],
          "name": "stdout"
        }
      ]
    },
    {
      "cell_type": "markdown",
      "metadata": {
        "id": "R8f3r0yOEZWN"
      },
      "source": [
        "__roots__:"
      ]
    },
    {
      "cell_type": "code",
      "metadata": {
        "id": "Md4Q2gmNEZWO",
        "outputId": "1187d575-0c83-449b-ec8e-fa4030636b6f",
        "colab": {
          "base_uri": "https://localhost:8080/",
          "height": 68
        }
      },
      "source": [
        "setup_typeset() #active colab pretty print\n",
        "print(p.roots)\n",
        "Latex( '$p({})$={}'.format(round(p.roots[0],1),\n",
        "                                      p((p.roots[0] )  ) ) )"
      ],
      "execution_count": 22,
      "outputs": [
        {
          "output_type": "display_data",
          "data": {
            "text/html": [
              "\n",
              "      <script src=\"https://www.gstatic.com/external_hosted/mathjax/latest/MathJax.js?config=TeX-AMS_HTML-full,Safe&delayStartupUntil=configured\"></script>\n",
              "      <script>\n",
              "        (() => {\n",
              "          const mathjax = window.MathJax;\n",
              "          mathjax.Hub.Config({\n",
              "          'tex2jax': {\n",
              "            'inlineMath': [['$', '$'], ['\\(', '\\)']],\n",
              "            'displayMath': [['$$', '$$'], ['\\[', '\\]']],\n",
              "            'processEscapes': true,\n",
              "            'processEnvironments': true,\n",
              "            'skipTags': ['script', 'noscript', 'style', 'textarea', 'code'],\n",
              "            'displayAlign': 'center',\n",
              "          },\n",
              "          'HTML-CSS': {\n",
              "            'styles': {'.MathJax_Display': {'margin': 0}},\n",
              "            'linebreaks': {'automatic': true},\n",
              "            // Disable to prevent OTF font loading, which aren't part of our\n",
              "            // distribution.\n",
              "            'imageFont': null,\n",
              "          },\n",
              "          'messageStyle': 'none'\n",
              "        });\n",
              "        mathjax.Hub.Configured();\n",
              "      })();\n",
              "      </script>\n",
              "      "
            ],
            "text/plain": [
              "<IPython.core.display.HTML object>"
            ]
          },
          "metadata": {
            "tags": []
          }
        },
        {
          "output_type": "stream",
          "text": [
            "[-3.  1.]\n"
          ],
          "name": "stdout"
        },
        {
          "output_type": "execute_result",
          "data": {
            "text/latex": "$p(-3.0)$=1.7763568394002505e-15",
            "text/plain": [
              "<IPython.core.display.Latex object>"
            ]
          },
          "metadata": {
            "tags": []
          },
          "execution_count": 22
        }
      ]
    },
    {
      "cell_type": "markdown",
      "metadata": {
        "id": "1NLa6wh1EZWQ"
      },
      "source": [
        " It is possible to define polynomial by given the list of roots and "
      ]
    },
    {
      "cell_type": "code",
      "metadata": {
        "id": "E67K42bQEZWR",
        "outputId": "c5d0e729-9477-4257-8c92-d8a11ffb09ff",
        "colab": {
          "base_uri": "https://localhost:8080/",
          "height": 51
        }
      },
      "source": [
        "p=np.poly1d([-246.2,-40,40,246.2],r=True)\n",
        "print(p)"
      ],
      "execution_count": 23,
      "outputs": [
        {
          "output_type": "stream",
          "text": [
            "   4             2\n",
            "1 x - 6.221e+04 x + 9.698e+07\n"
          ],
          "name": "stdout"
        }
      ]
    },
    {
      "cell_type": "markdown",
      "metadata": {
        "id": "GSuuNnvMEZWU"
      },
      "source": [
        "For further details check the official help:"
      ]
    },
    {
      "cell_type": "code",
      "metadata": {
        "id": "n5GOuKoeEZWV"
      },
      "source": [
        "np.poly1d?"
      ],
      "execution_count": 24,
      "outputs": []
    },
    {
      "cell_type": "markdown",
      "metadata": {
        "id": "3cs7-2egEZWW"
      },
      "source": [
        "__Activity__:  Movement with uniform acceleration\n",
        "1. Define a polynomial for the movement with uniform acceleration:\n",
        "\\begin{align}\n",
        "x(t)=x_0+v_0 (t-t_0)+\\tfrac{1}{2} a (t-t_0)^2 \\,,\n",
        "\\end{align}\n",
        "2. Use the previous formula expressed as polynomial of degree 2, to solve the following problem with `np.poly1d`: \n",
        "    * A car departs from rest with a constant acceleration of $6~\\text{m}\\cdot\\text{s}^{-2}$ and travels through a flat and straight road. 10 seconds later a second pass for the same starting point and in the same direction with an initial speed of $10~\\text{m}\\cdot\\text{s}^{-1}$ and a constant acelleration of $10~\\text{m}\\cdot\\text{s}^{-2}$. Find the time and distance at which the two cars meet.\n",
        "    \n",
        "_Hint_. \n",
        "\\begin{align}\n",
        "x(t)=x_0-v_0t_0+\\frac{1}{2}at_0^2 +(v_0-at_0)t+\\tfrac{1}{2} a t^2 \n",
        "\\end{align}\n"
      ]
    },
    {
      "cell_type": "code",
      "metadata": {
        "id": "F1qsPJMgQq1j",
        "outputId": "f2e02151-232e-41bf-b0d2-306b78f3552e",
        "colab": {
          "base_uri": "https://localhost:8080/",
          "height": 51
        }
      },
      "source": [
        "x = np.poly1d([3, 0, 0],variable='t')\n",
        "y = x.deriv()\n",
        "print(x(10),y(10)) \n",
        "y = x.deriv()\n",
        "print(x(10),y(10)) "
      ],
      "execution_count": 27,
      "outputs": [
        {
          "output_type": "stream",
          "text": [
            "300 60\n",
            "300 60\n"
          ],
          "name": "stdout"
        }
      ]
    },
    {
      "cell_type": "code",
      "metadata": {
        "id": "BZ7HUDEaQq1n",
        "outputId": "91b670ea-a352-45ee-f435-f2a93fd8318b",
        "colab": {
          "base_uri": "https://localhost:8080/",
          "height": 102
        }
      },
      "source": [
        "p1 = np.poly1d([3, 60, 300],variable='t')\n",
        "p2 = np.poly1d([5, 10, 0],variable='t')\n",
        "x = p2 - p1\n",
        "t = np.poly1d(x.coef,variable='t')\n",
        "print(t)\n",
        "print('Los carros se topan en un tiempo de : {}s'.format(t.roots[0]))\n",
        "print(p1(30),p2(30))\n",
        "print('Los carros se hallan a una distancia de  : {}m'.format(p1(30)))"
      ],
      "execution_count": 31,
      "outputs": [
        {
          "output_type": "stream",
          "text": [
            "   2\n",
            "2 t - 50 t - 300\n",
            "Los carros se topan en un tiempo de : 30.0s\n",
            "4800 4800\n",
            "Los carros se hallan a una distancia de  : 4800m\n"
          ],
          "name": "stdout"
        }
      ]
    },
    {
      "cell_type": "markdown",
      "metadata": {
        "id": "smN1y6pyEZWX"
      },
      "source": [
        "<!-- ### <font color=red>Solution</font>\n",
        "setup_typeset() #active colab pretty print\n",
        "def x(x0,t0,v0,a):\n",
        "    return np.poly1d( [0.5*a,v0-a*t0,x0-v0*t0+0.5*a*t0**2],\n",
        "                     variable='t'  )\n",
        "x1=x(0,0,0,6)\n",
        "x2=x(0,10,10,10)\n",
        "display(Latex('$x_1(t)=$'))\n",
        "print(x1) \n",
        "display(Latex('$x_2(t)=$'))\n",
        "print(x2)\n",
        "t=np.linspace(0,45,100)\n",
        "plt.plot(t,x2(t)-x1(t))\n",
        "plt.grid()\n",
        "#plt.plot(t,(x2-x1)(t))\n",
        "#plt.grid()\n",
        "#Physica solution is the one after 10s\n",
        "Latex(r'meeting time $t_{\\rm end}=$ %g s; meeting point $x_{\\rm end}=$ %g m' \n",
        "          %(  (x2-x1).r[0]  ,  x2(  (x2-x1).r[0]  )   )) \n",
        "#plt.plot(t,x2(t),'ro')\n",
        "#plt.plot(t,x2(t),'k-')\n",
        "#plt.xlim(10,15)\n",
        "#plt.ylim(0,200)          \n",
        "          -->"
      ]
    },
    {
      "cell_type": "markdown",
      "metadata": {
        "id": "vWJZfq_YEZWe"
      },
      "source": [
        "# Linear Interpolation"
      ]
    },
    {
      "cell_type": "markdown",
      "metadata": {
        "id": "wGj1U7PmEZWe"
      },
      "source": [
        "When we have a set of discrete points of the form $(x_i, y_i)$ for $1\\leq i \\leq N$, the most natural way to obtain (approximate) any intermediate value is assuming points connected by lines. Let's assume a set of points $(x_i, y_i)$ such that $y_i = f(x_i)$ for an unknown function $f(x)$, if we want to approximate the value $f(x)$ for $x_i\\leq x \\leq x_{i+1}$, we construct an equation of a line passing through $(x_i,y_i)$ and $(x_{i+1},y_{i+1})$.\n",
        "\n",
        "The linear equation is\n",
        "\n",
        "$$y=mx+b$$\n",
        "\n",
        "where\n",
        "\n",
        "$$m=\\frac{y_{i+1}-y_i}{x_{i+1}-x_i} $$\n",
        "\n",
        "and $b$ is obtained by evaluating with either $(x_i,y_i)$ or $(x_{i+1},y_{i+1})$\n",
        "\n",
        "$$y=\\frac{y_{i+1}-y_i}{x_{i+1}-x_i}x+b$$\n",
        "\n",
        "$$b=y_i-\\frac{y_{i+1}-y_i}{x_{i+1}-x_i}x_i$$\n",
        "\n",
        "\n",
        "\\begin{align}\n",
        "%$$  \n",
        "f(x)\\approx y = &\\frac{y_{i+1}-y_i}{x_{i+1}-x_i}(x-x_i) + y_i \\\\\n",
        "=&\\frac{y_{i+1}-y_i}{x_{i+1}-x_i}x+\\left[y_i-\\frac{y_{i+1}-y_i}{x_{i+1}-x_i}x_i\\right] \\\\\n",
        "%$$\n",
        "\\end{align}\n",
        "\n",
        "and this can be applied for any $x$ such that $x_0\\leq x \\leq x_N$ and where it has been assumed an ordered set $\\left\\{x_i\\right\\}_i$."
      ]
    },
    {
      "cell_type": "markdown",
      "metadata": {
        "id": "WsnL9PoDEZWi"
      },
      "source": [
        "## Steps LI"
      ]
    },
    {
      "cell_type": "markdown",
      "metadata": {
        "id": "w4MSYnO6EZWi"
      },
      "source": [
        "Once defined the mathematical basis behind linear interpolation, we proceed to establish the algorithmic steps for an implementation.\n",
        "\n",
        "1. Establish the dataset you want to interpolate, i.e. you must provide a set of the form $(x_i,y_i)$.\n",
        "2. Give the value $x$ where you want to approximate the value $f(x)$.\n",
        "3. Find the interval $[x_i, x_{i+1}]$ in which $x$ is embedded.\n",
        "4. Use the above expression in order to find $y=f(x)$."
      ]
    },
    {
      "cell_type": "markdown",
      "metadata": {
        "id": "0Gmn6NAdjz1W"
      },
      "source": [
        "To make the linear interpolation we will use"
      ]
    },
    {
      "cell_type": "code",
      "metadata": {
        "id": "bzCHHksPEZWn"
      },
      "source": [
        "import scipy as sp\n",
        "sp.interpolate.interp1d?"
      ],
      "execution_count": 32,
      "outputs": []
    },
    {
      "cell_type": "markdown",
      "metadata": {
        "id": "epbBukAVjz1Z"
      },
      "source": [
        "The option `kind` specifies the kind of interpolation: \n",
        "* `'linear', 'nearest', 'zero', 'slinear', 'quadratic', 'cubic'`,\n",
        "    where `'zero', 'slinear', 'quadratic' and 'cubic'` refer to a spline\n",
        "    interpolation of zeroth, first, second or third order) \n",
        "* or as an\n",
        "    integer specifying the order of the spline interpolator to use.\n",
        "\n",
        "Default is `'linear'` correponding to integer 1."
      ]
    },
    {
      "cell_type": "markdown",
      "metadata": {
        "id": "OZXQtU4WEZWj"
      },
      "source": [
        "## Example 1"
      ]
    },
    {
      "cell_type": "markdown",
      "metadata": {
        "id": "Jb7eChUUEZWk"
      },
      "source": [
        "Sample the function $f(x) = \\sin(x)$ between $0$ and $10$ using $N=10$ points (9 intervals). Plot both, the interpolation and the original function."
      ]
    },
    {
      "cell_type": "code",
      "metadata": {
        "id": "5G1t56pnjz1a"
      },
      "source": [
        "import scipy as sp\n",
        "from scipy import interpolate "
      ],
      "execution_count": 44,
      "outputs": []
    },
    {
      "cell_type": "markdown",
      "metadata": {
        "id": "A0mxSeRjk1T6"
      },
      "source": [
        "`sp` reemplaza completamente a numpy con `np`"
      ]
    },
    {
      "cell_type": "markdown",
      "metadata": {
        "id": "sB0lNqKIEZWn"
      },
      "source": [
        "Interpolation with 9 equal intervals"
      ]
    },
    {
      "cell_type": "code",
      "metadata": {
        "id": "BaCvQYBoEZWp"
      },
      "source": [
        "n_points = 10\n",
        "x=np.linspace(0, 2*np.pi, n_points)\n",
        "f=interpolate.interp1d( x,np.sin(x),kind='linear' )"
      ],
      "execution_count": 45,
      "outputs": []
    },
    {
      "cell_type": "markdown",
      "metadata": {
        "id": "IFSu7iE6jz1g"
      },
      "source": [
        "Plotting the results adding the real function with enough points"
      ]
    },
    {
      "cell_type": "code",
      "metadata": {
        "id": "3Ggn5WacEZWq",
        "outputId": "ed8332d1-214e-47e6-d29a-d1a0c2b96a49",
        "colab": {
          "base_uri": "https://localhost:8080/",
          "height": 411
        }
      },
      "source": [
        "Ninter = 100\n",
        "X=np.linspace(0, 2*np.pi, Ninter)\n",
        "plt.figure( figsize=(12,6) )\n",
        "plt.plot(x,f(x),'ro',label='Data')\n",
        "plt.plot(X,f(X),'k-',lw=3,label='linear interpolation')\n",
        "plt.plot(X,np.sin(X),'c-',label='real function')\n",
        "\n",
        "#Formatting\n",
        "plt.plot(2.35,f(2.35),'y*',markersize=10,label='sample point')\n",
        "plt.title( \"Linear interpolation of $\\sin(x)$\" )\n",
        "plt.legend()\n",
        "plt.xlabel( \"$x$\",size=15 )\n",
        "plt.ylabel( \"$y$\",size=15 )\n",
        "plt.grid()"
      ],
      "execution_count": 46,
      "outputs": [
        {
          "output_type": "display_data",
          "data": {
            "image/png": "[encoded data removed]",
            "text/plain": [
              "<Figure size 864x432 with 1 Axes>"
            ]
          },
          "metadata": {
            "tags": [],
            "needs_background": "light"
          }
        }
      ]
    },
    {
      "cell_type": "markdown",
      "metadata": {
        "id": "QeCb12m0jz1j"
      },
      "source": [
        "Other `kind` values: 0,1,2"
      ]
    },
    {
      "cell_type": "code",
      "metadata": {
        "id": "yPis66gEmHSY",
        "outputId": "43e23304-2a30-47a3-985a-efa5fe66a501",
        "colab": {
          "base_uri": "https://localhost:8080/",
          "height": 85
        }
      },
      "source": [
        "%pylab inline"
      ],
      "execution_count": 47,
      "outputs": [
        {
          "output_type": "stream",
          "text": [
            "Populating the interactive namespace from numpy and matplotlib\n"
          ],
          "name": "stdout"
        },
        {
          "output_type": "stream",
          "text": [
            "/usr/local/lib/python3.6/dist-packages/IPython/core/magics/pylab.py:161: UserWarning: pylab import has clobbered these variables: ['f']\n",
            "`%matplotlib` prevents importing * from pylab and numpy\n",
            "  \"\\n`%matplotlib` prevents importing * from pylab and numpy\"\n"
          ],
          "name": "stderr"
        }
      ]
    },
    {
      "cell_type": "code",
      "metadata": {
        "id": "pvnSUdF8jz1k",
        "outputId": "57f31a45-1e98-437c-afbd-5ed954a02213",
        "colab": {
          "base_uri": "https://localhost:8080/",
          "height": 411
        }
      },
      "source": [
        "n_points = 10\n",
        "x=np.linspace(0, 2*np.pi, n_points)\n",
        "Ninter = 100\n",
        "X=np.linspace(0, 2*np.pi, Ninter)\n",
        "plt.figure( figsize=(12,6) )\n",
        "plt.plot(x,np.sin(x),'ro',label='Data')\n",
        "plt.plot(X,np.sin(X),'c-',label='real function')\n",
        "\n",
        "plt.plot(X,interpolate.interp1d( x,np.sin(x),kind=0)(X),\n",
        "         'g--',lw=1,label='interpolation with horizontal lines')\n",
        "plt.plot(X,interpolate.interp1d( x,np.sin(x),kind=1)(X),\n",
        "         'k-',lw=1,label='linear interpolation')\n",
        "plt.plot(X,interpolate.interp1d( x,np.sin(x),kind=2)(X),\n",
        "         'r:',lw=1,label='quadratic interpolation')\n",
        "#plt.plot(X,interpolate.interp1d( x,np.sin(x),kind=3)(X),\n",
        "#         'k:',lw=1,label='quadratic interpolation')\n",
        "\n",
        "#Formatting\n",
        "plt.title( \"Linear interpolation of $\\sin(x)$\" )\n",
        "plt.legend()\n",
        "plt.xlabel( \"$x$\",size=15 )\n",
        "plt.ylabel( \"$y$\",size=15 )\n",
        "plt.grid()"
      ],
      "execution_count": 48,
      "outputs": [
        {
          "output_type": "display_data",
          "data": {
            "image/png": "[encoded data removed]",
            "text/plain": [
              "<Figure size 864x432 with 1 Axes>"
            ]
          },
          "metadata": {
            "tags": [],
            "needs_background": "light"
          }
        }
      ]
    },
    {
      "cell_type": "markdown",
      "metadata": {
        "id": "AyEnMaaqjz1m"
      },
      "source": [
        "We can see that the data poinst are just joined by straight lines:"
      ]
    },
    {
      "cell_type": "code",
      "metadata": {
        "id": "g7QLUR5MEZWs",
        "outputId": "60a78411-4729-414e-83b9-afe55ef56f35",
        "colab": {
          "base_uri": "https://localhost:8080/",
          "height": 197
        }
      },
      "source": [
        "f(2.35),np.sin(2.35)"
      ],
      "execution_count": 49,
      "outputs": [
        {
          "output_type": "error",
          "ename": "TypeError",
          "evalue": "ignored",
          "traceback": [
            "\u001b[0;31m---------------------------------------------------------------------------\u001b[0m",
            "\u001b[0;31mTypeError\u001b[0m                                 Traceback (most recent call last)",
            "\u001b[0;32m<ipython-input-49-040932ec1ecf>\u001b[0m in \u001b[0;36m<module>\u001b[0;34m()\u001b[0m\n\u001b[0;32m----> 1\u001b[0;31m \u001b[0mf\u001b[0m\u001b[0;34m(\u001b[0m\u001b[0;36m2.35\u001b[0m\u001b[0;34m)\u001b[0m\u001b[0;34m,\u001b[0m\u001b[0mnp\u001b[0m\u001b[0;34m.\u001b[0m\u001b[0msin\u001b[0m\u001b[0;34m(\u001b[0m\u001b[0;36m2.35\u001b[0m\u001b[0;34m)\u001b[0m\u001b[0;34m\u001b[0m\u001b[0;34m\u001b[0m\u001b[0m\n\u001b[0m",
            "\u001b[0;32mmtrand.pyx\u001b[0m in \u001b[0;36mnumpy.random.mtrand.RandomState.f\u001b[0;34m()\u001b[0m\n",
            "\u001b[0;31mTypeError\u001b[0m: f() takes at least 2 positional arguments (1 given)"
          ]
        }
      ]
    },
    {
      "cell_type": "markdown",
      "metadata": {
        "id": "Gn2sL8iZEZWu"
      },
      "source": [
        "However, the object `f` behaves like a function. For example. We can evaluate both the real and the interpolated function in $x_0=3$"
      ]
    },
    {
      "cell_type": "code",
      "metadata": {
        "id": "c0Hix__AEZWu",
        "outputId": "1d2604df-6ecf-4702-ba9b-9a7c81ea3827",
        "colab": {
          "base_uri": "https://localhost:8080/",
          "height": 34
        }
      },
      "source": [
        "np.sin(3)"
      ],
      "execution_count": 39,
      "outputs": [
        {
          "output_type": "execute_result",
          "data": {
            "text/plain": [
              "0.1411200080598672"
            ]
          },
          "metadata": {
            "tags": []
          },
          "execution_count": 39
        }
      ]
    },
    {
      "cell_type": "code",
      "metadata": {
        "id": "-skeqhluEZWx",
        "outputId": "cb8fbe8d-4ad7-4ce1-c50f-8a1554e81fef",
        "colab": {
          "base_uri": "https://localhost:8080/",
          "height": 197
        }
      },
      "source": [
        "f(3)"
      ],
      "execution_count": 50,
      "outputs": [
        {
          "output_type": "error",
          "ename": "TypeError",
          "evalue": "ignored",
          "traceback": [
            "\u001b[0;31m---------------------------------------------------------------------------\u001b[0m",
            "\u001b[0;31mTypeError\u001b[0m                                 Traceback (most recent call last)",
            "\u001b[0;32m<ipython-input-50-1bff2c73920e>\u001b[0m in \u001b[0;36m<module>\u001b[0;34m()\u001b[0m\n\u001b[0;32m----> 1\u001b[0;31m \u001b[0mf\u001b[0m\u001b[0;34m(\u001b[0m\u001b[0;36m3\u001b[0m\u001b[0;34m)\u001b[0m\u001b[0;34m\u001b[0m\u001b[0;34m\u001b[0m\u001b[0m\n\u001b[0m",
            "\u001b[0;32mmtrand.pyx\u001b[0m in \u001b[0;36mnumpy.random.mtrand.RandomState.f\u001b[0;34m()\u001b[0m\n",
            "\u001b[0;31mTypeError\u001b[0m: f() takes at least 2 positional arguments (1 given)"
          ]
        }
      ]
    },
    {
      "cell_type": "markdown",
      "metadata": {
        "id": "fv_29O5rEZW2"
      },
      "source": [
        "**Activity**   \n",
        "    \n",
        "Use the previous code and explore the behaviour of the Linear Interpolation algorithm when varying the number of data used."
      ]
    },
    {
      "cell_type": "markdown",
      "metadata": {
        "id": "CPc-9Ql1EZW3"
      },
      "source": [
        "<!--\n",
        "N=20\n",
        "x=np.linspace(0,6,N)\n",
        "f=interpolate.interp1d( x,np.sin(x) )\n",
        "X=np.linspace(0,6,100)\n",
        "plt.plot(x,f(x),'ro')\n",
        "plt.plot(x,f(x),'k-',lw=3)\n",
        "plt.plot(X,np.sin(X),'c-')\n",
        "plt.plot(2.35,f(2.35),'y*',markersize=10)\n",
        "-->"
      ]
    },
    {
      "cell_type": "markdown",
      "metadata": {
        "id": "3SGRypgREZW5"
      },
      "source": [
        "- - -"
      ]
    },
    {
      "cell_type": "markdown",
      "metadata": {
        "id": "3Zgj3wv8EZW6"
      },
      "source": [
        "## Example: \n",
        "Generate three points that do not lie upon a stright line, and try to make a manual interpolation with a polynomial of degree two."
      ]
    },
    {
      "cell_type": "code",
      "metadata": {
        "id": "S6UxbvTtEZW7"
      },
      "source": [
        "import pandas as pd\n",
        "df=pd.DataFrame({ 'X':[-2.4,3,21.3],\n",
        "                  'Y':[-10.,8.,3.]\n",
        "                 }  \n",
        "                )"
      ],
      "execution_count": null,
      "outputs": []
    },
    {
      "cell_type": "code",
      "metadata": {
        "id": "9souHyUYEZW9",
        "outputId": "05e01698-bf8f-4600-8590-b2cbbb7e26ab",
        "colab": {
          "base_uri": "https://localhost:8080/",
          "height": 141
        }
      },
      "source": [
        "df"
      ],
      "execution_count": null,
      "outputs": [
        {
          "output_type": "execute_result",
          "data": {
            "text/html": [
              "<div>\n",
              "<style scoped>\n",
              "    .dataframe tbody tr th:only-of-type {\n",
              "        vertical-align: middle;\n",
              "    }\n",
              "\n",
              "    .dataframe tbody tr th {\n",
              "        vertical-align: top;\n",
              "    }\n",
              "\n",
              "    .dataframe thead th {\n",
              "        text-align: right;\n",
              "    }\n",
              "</style>\n",
              "<table border=\"1\" class=\"dataframe\">\n",
              "  <thead>\n",
              "    <tr style=\"text-align: right;\">\n",
              "      <th></th>\n",
              "      <th>X</th>\n",
              "      <th>Y</th>\n",
              "    </tr>\n",
              "  </thead>\n",
              "  <tbody>\n",
              "    <tr>\n",
              "      <th>0</th>\n",
              "      <td>-2.4</td>\n",
              "      <td>-10.0</td>\n",
              "    </tr>\n",
              "    <tr>\n",
              "      <th>1</th>\n",
              "      <td>3.0</td>\n",
              "      <td>8.0</td>\n",
              "    </tr>\n",
              "    <tr>\n",
              "      <th>2</th>\n",
              "      <td>21.3</td>\n",
              "      <td>3.0</td>\n",
              "    </tr>\n",
              "  </tbody>\n",
              "</table>\n",
              "</div>"
            ],
            "text/plain": [
              "      X     Y\n",
              "0  -2.4 -10.0\n",
              "1   3.0   8.0\n",
              "2  21.3   3.0"
            ]
          },
          "metadata": {
            "tags": []
          },
          "execution_count": 76
        }
      ]
    },
    {
      "cell_type": "code",
      "metadata": {
        "id": "efE3I3CCEZW_",
        "outputId": "879d3a7d-bcf5-44ff-f5fd-75fc4cca1198",
        "colab": {
          "base_uri": "https://localhost:8080/",
          "height": 265
        }
      },
      "source": [
        "plt.plot(df.X,df.Y,'ro')\n",
        "plt.grid()"
      ],
      "execution_count": null,
      "outputs": [
        {
          "output_type": "display_data",
          "data": {
            "image/png": "[encoded data removed]",
            "text/plain": [
              "<Figure size 432x288 with 1 Axes>"
            ]
          },
          "metadata": {
            "tags": [],
            "needs_background": "light"
          }
        }
      ]
    },
    {
      "cell_type": "code",
      "metadata": {
        "id": "gMncmDM0jz16",
        "outputId": "e35e011f-237d-448c-ed12-be409f1e83ca"
      },
      "source": [
        "sp.interpolate.interp1d?"
      ],
      "execution_count": null,
      "outputs": [
        {
          "output_type": "stream",
          "text": [
            "Object `sp.interpolate.interp1d` not found.\n"
          ],
          "name": "stdout"
        }
      ]
    },
    {
      "cell_type": "markdown",
      "metadata": {
        "id": "BP0sX_6fEZXA"
      },
      "source": [
        "### Polynomial object in `numpy`\n",
        "In `numpy` it is possible to define polynomials friom either its coefficients o its roots with `np.poly1d`"
      ]
    },
    {
      "cell_type": "markdown",
      "metadata": {
        "id": "yKOPE5AcEZXC"
      },
      "source": [
        "Define a two degree polynomial from its roots:"
      ]
    },
    {
      "cell_type": "code",
      "metadata": {
        "id": "S_V2zHPnjz19"
      },
      "source": [
        "import numpy as np"
      ],
      "execution_count": null,
      "outputs": []
    },
    {
      "cell_type": "markdown",
      "metadata": {
        "id": "l-sKCHWojz2A"
      },
      "source": [
        "We try to make a fit by using an inverted parabola passing trough the tree points and using the roots as a guess.\n",
        "In fact, we can try with a polynomial of degree two with roots at 1 and 22.\n",
        "\n",
        "With $k$ we can flip the curve and reduce the maximum without change the roots"
      ]
    },
    {
      "cell_type": "code",
      "metadata": {
        "id": "uV6xujqPEZXC"
      },
      "source": [
        "k=-0.1\n",
        "P=k*np.poly1d([0,23],r=True)"
      ],
      "execution_count": null,
      "outputs": []
    },
    {
      "cell_type": "code",
      "metadata": {
        "id": "9ztBor9-EZXE",
        "outputId": "44ab36ca-8f74-4113-aec0-e8d6072beab0",
        "colab": {
          "base_uri": "https://localhost:8080/",
          "height": 51
        }
      },
      "source": [
        "print(P)"
      ],
      "execution_count": null,
      "outputs": [
        {
          "output_type": "stream",
          "text": [
            "      2\n",
            "-0.1 x + 2.3 x - 0\n"
          ],
          "name": "stdout"
        }
      ]
    },
    {
      "cell_type": "code",
      "metadata": {
        "id": "oGBYy5vAm6LU",
        "outputId": "b2e42386-2d86-4092-bcfe-c5088642f126",
        "colab": {
          "base_uri": "https://localhost:8080/",
          "height": 34
        }
      },
      "source": [
        "P.roots"
      ],
      "execution_count": null,
      "outputs": [
        {
          "output_type": "execute_result",
          "data": {
            "text/plain": [
              "array([23.,  0.])"
            ]
          },
          "metadata": {
            "tags": []
          },
          "execution_count": 80
        }
      ]
    },
    {
      "cell_type": "code",
      "metadata": {
        "id": "PUM8A4EmEZXG",
        "outputId": "413d70fc-0b17-497a-a84f-2b96300bc306",
        "colab": {
          "base_uri": "https://localhost:8080/",
          "height": 286
        }
      },
      "source": [
        "plt.plot(df.X,df.Y,'ro')\n",
        "x=np.linspace(-8,30)\n",
        "plt.plot(x,P( x),'b-')\n",
        "plt.grid()\n",
        "plt.xlim(-8,30)\n",
        "plt.ylim(-15,20)"
      ],
      "execution_count": null,
      "outputs": [
        {
          "output_type": "execute_result",
          "data": {
            "text/plain": [
              "(-15, 20)"
            ]
          },
          "metadata": {
            "tags": []
          },
          "execution_count": 81
        },
        {
          "output_type": "display_data",
          "data": {
            "image/png": "[encoded data removed]",
            "text/plain": [
              "<Figure size 432x288 with 1 Axes>"
            ]
          },
          "metadata": {
            "tags": [],
            "needs_background": "light"
          }
        }
      ]
    },
    {
      "cell_type": "markdown",
      "metadata": {
        "id": "tlOZC1tQEZXM"
      },
      "source": [
        "__Activity__: Scipy interpolation.\n",
        "\n",
        "Define an interplation function which passes throgh the three points by using `interp1D` of Scipy with several linear and quadratic curves between the points."
      ]
    },
    {
      "cell_type": "markdown",
      "metadata": {
        "id": "QCe6jFV_jz2M"
      },
      "source": [
        "<!-- \n",
        "plt.plot(df.X,df.Y,'ro')\n",
        "x=sp.linspace(df.X.min(),df.X.max() )\n",
        "plt.plot(x, sp.interpolate.interp1d(df.X,df.Y,kind=1)(x),label='linear')\n",
        "plt.plot(x, sp.interpolate.interp1d(df.X,df.Y,kind=2)(x),label='qudratic')\n",
        "plt.legend()\n",
        "plt.grid()\n",
        "plt.xlabel( \"$x$\",size=15 )\n",
        "plt.ylabel( \"$y$\",size=15 )\n",
        "plt.xlim(-8,30)\n",
        "plt.ylim(-15,20)\n",
        "-->"
      ]
    },
    {
      "cell_type": "markdown",
      "metadata": {
        "id": "473B0wvREZXN"
      },
      "source": [
        "### Interpolation with `numpy`\n",
        "`numpy` already include an interpolation function with polynomials called `np.polyfit`"
      ]
    },
    {
      "cell_type": "code",
      "metadata": {
        "id": "7Y1-HKaFEZXN"
      },
      "source": [
        "```python\n",
        "np.polyfit(x, y, deg, rcond=None, full=False, w=None, cov=False)\n",
        "```\n",
        "\n",
        "Least squares polynomial fit.\n",
        "\n",
        "Fit a polynomial ``p(x) = p[0] * x**deg + ... + p[deg]`` of degree `deg`\n",
        "to points `(x, y)`. Returns a vector of coefficients `p` that minimises\n",
        "the squared error."
      ],
      "execution_count": null,
      "outputs": []
    },
    {
      "cell_type": "markdown",
      "metadata": {
        "id": "YqD87C61jz2P"
      },
      "source": [
        "To fit a set of `x` and `y` we need to specify the degree of the polynial to make the fit with the madatory argument: `deg`"
      ]
    },
    {
      "cell_type": "markdown",
      "metadata": {
        "id": "a8l2s1ZDjz2Q"
      },
      "source": [
        "__Example__: fit the points of the previous DataFrame with a polynomial of degree 3"
      ]
    },
    {
      "cell_type": "code",
      "metadata": {
        "id": "fk00t2uDEZXP"
      },
      "source": [
        "coeffs=np.polyfit(df.X,df.Y,deg=2)"
      ],
      "execution_count": null,
      "outputs": []
    },
    {
      "cell_type": "code",
      "metadata": {
        "id": "Jjo6Xezsjz2U",
        "outputId": "b7ee15e1-da50-490a-cf22-ae5e1c3646bb",
        "colab": {
          "base_uri": "https://localhost:8080/",
          "height": 34
        }
      },
      "source": [
        "np.poly1d(coeffs).roots"
      ],
      "execution_count": null,
      "outputs": [
        {
          "output_type": "execute_result",
          "data": {
            "text/plain": [
              "array([22.2373041 ,  0.26724135])"
            ]
          },
          "metadata": {
            "tags": []
          },
          "execution_count": 83
        }
      ]
    },
    {
      "cell_type": "code",
      "metadata": {
        "id": "bmIVN0hzEZXQ",
        "outputId": "d1d4d3fc-2f37-40d6-b4dc-5089ffd9487a",
        "colab": {
          "base_uri": "https://localhost:8080/",
          "height": 51
        }
      },
      "source": [
        "print(np.poly1d(coeffs))"
      ],
      "execution_count": null,
      "outputs": [
        {
          "output_type": "stream",
          "text": [
            "         2\n",
            "-0.1522 x + 3.425 x - 0.9043\n"
          ],
          "name": "stdout"
        }
      ]
    },
    {
      "cell_type": "code",
      "metadata": {
        "id": "O8F-k_NxEZXT",
        "outputId": "46d14de8-926d-4f4f-ba1a-aa38b2153d6b",
        "colab": {
          "base_uri": "https://localhost:8080/",
          "height": 286
        }
      },
      "source": [
        "P=np.poly1d(coeffs)\n",
        "plt.plot(df.X,df.Y,'ro')\n",
        "x=np.linspace(-8,30,100)\n",
        "plt.plot(x,P( x),'b-')\n",
        "plt.grid()\n",
        "plt.ylim(-20,20)"
      ],
      "execution_count": null,
      "outputs": [
        {
          "output_type": "execute_result",
          "data": {
            "text/plain": [
              "(-20, 20)"
            ]
          },
          "metadata": {
            "tags": []
          },
          "execution_count": 85
        },
        {
          "output_type": "display_data",
          "data": {
            "image/png": "[encoded data removed]",
            "text/plain": [
              "<Figure size 432x288 with 1 Axes>"
            ]
          },
          "metadata": {
            "tags": [],
            "needs_background": "light"
          }
        }
      ]
    },
    {
      "cell_type": "markdown",
      "metadata": {
        "id": "63FIku-BEZXX"
      },
      "source": [
        "## Example: Least action\n",
        "see Least action Notebook: [[local]](./least_action.ipynb) [[GitHub]](https://github.com/restrepo/ComputationalMethods/blob/master/material/least_action.ipynb) "
      ]
    },
    {
      "cell_type": "code",
      "metadata": {
        "id": "uFPhevxyEZXY"
      },
      "source": [
        "#np.poly1d?"
      ],
      "execution_count": null,
      "outputs": []
    },
    {
      "cell_type": "markdown",
      "metadata": {
        "id": "oKqUP0SaEZXZ"
      },
      "source": [
        "# Lagrange Polynomial"
      ]
    },
    {
      "cell_type": "markdown",
      "metadata": {
        "id": "P09CyJ2SEZXa"
      },
      "source": [
        "Algebraic polynomials are very special functions as they have properties like differentiability (unlike linear interpolation) and continuity that make them useful for approximations like interpolation. A Polynomial is defined as a function given by the general expression:\n",
        "\n",
        "$$P_n(x) = a_nx^n + a_{n-1}x^{n-1} + \\cdots + a_1 x + a_0$$\n",
        "\n",
        "where $n$ is the polynomial degree.\n",
        "\n",
        "Another important property of polynomials is given by the [Weierstrass Approximation Theorem](http://en.wikipedia.org/wiki/Stone%E2%80%93Weierstrass_theorem), which states given a cotinuous function $f$ defined on a interval $[a,b]$, for all $\\epsilon >0$, there exits a polynomial $P(x)$ such that\n",
        "\n",
        "$$|f(x) - P(x)|<\\epsilon\\ \\ \\ \\ \\  \\mbox{for all }\\ x\\ \\mbox{ in }\\ [a,b].$$\n",
        "\n",
        "This theorem guarantees the existence of such a polynomial, however it is necessary to propose a scheme to build it."
      ]
    },
    {
      "cell_type": "code",
      "metadata": {
        "id": "X8U0VfLjEZXa",
        "outputId": "676dc519-d056-4c02-d362-185158372d51",
        "colab": {
          "base_uri": "https://localhost:8080/",
          "height": 110
        }
      },
      "source": [
        "import pandas as pd\n",
        "df=pd.DataFrame({ 'X':[3,21.3],\n",
        "                  'Y':[8.,3.]\n",
        "                 }  \n",
        "                )\n",
        "df"
      ],
      "execution_count": null,
      "outputs": [
        {
          "output_type": "execute_result",
          "data": {
            "text/html": [
              "<div>\n",
              "<style scoped>\n",
              "    .dataframe tbody tr th:only-of-type {\n",
              "        vertical-align: middle;\n",
              "    }\n",
              "\n",
              "    .dataframe tbody tr th {\n",
              "        vertical-align: top;\n",
              "    }\n",
              "\n",
              "    .dataframe thead th {\n",
              "        text-align: right;\n",
              "    }\n",
              "</style>\n",
              "<table border=\"1\" class=\"dataframe\">\n",
              "  <thead>\n",
              "    <tr style=\"text-align: right;\">\n",
              "      <th></th>\n",
              "      <th>X</th>\n",
              "      <th>Y</th>\n",
              "    </tr>\n",
              "  </thead>\n",
              "  <tbody>\n",
              "    <tr>\n",
              "      <th>0</th>\n",
              "      <td>3.0</td>\n",
              "      <td>8.0</td>\n",
              "    </tr>\n",
              "    <tr>\n",
              "      <th>1</th>\n",
              "      <td>21.3</td>\n",
              "      <td>3.0</td>\n",
              "    </tr>\n",
              "  </tbody>\n",
              "</table>\n",
              "</div>"
            ],
            "text/plain": [
              "      X    Y\n",
              "0   3.0  8.0\n",
              "1  21.3  3.0"
            ]
          },
          "metadata": {
            "tags": []
          },
          "execution_count": 86
        }
      ]
    },
    {
      "cell_type": "code",
      "metadata": {
        "id": "qS_89FJWEZXd",
        "outputId": "c2c6cff1-a0ff-48bd-a618-581a9dc64410",
        "colab": {
          "base_uri": "https://localhost:8080/",
          "height": 265
        }
      },
      "source": [
        "plt.plot(df.X,df.Y,'ro')\n",
        "plt.grid()"
      ],
      "execution_count": null,
      "outputs": [
        {
          "output_type": "display_data",
          "data": {
            "image/png": "[encoded data removed]",
            "text/plain": [
              "<Figure size 432x288 with 1 Axes>"
            ]
          },
          "metadata": {
            "tags": [],
            "needs_background": "light"
          }
        }
      ]
    },
    {
      "cell_type": "markdown",
      "metadata": {
        "id": "1Kv8QCJpEZXf"
      },
      "source": [
        "Polinomio de interp. de grado <font color=\"blue\">0</font>"
      ]
    },
    {
      "cell_type": "code",
      "metadata": {
        "id": "vDmLxerpEZXf",
        "outputId": "6b846d93-a28d-4f72-e02c-bd559e7205b1",
        "colab": {
          "base_uri": "https://localhost:8080/",
          "height": 303
        }
      },
      "source": [
        "coeffs=np.polyfit(df.X,df.Y,deg=0)\n",
        "\n",
        "P=np.poly1d(coeffs)\n",
        "plt.plot(df.X,df.Y,'ro')\n",
        "x=np.linspace(-8,30)\n",
        "plt.plot(x,P( x),'b-')\n",
        "plt.grid()\n",
        "plt.ylim(0,12)\n",
        "\n",
        "print(np.poly1d(coeffs))"
      ],
      "execution_count": null,
      "outputs": [
        {
          "output_type": "stream",
          "text": [
            " \n",
            "5.5\n"
          ],
          "name": "stdout"
        },
        {
          "output_type": "display_data",
          "data": {
            "image/png": "[encoded data removed]",
            "text/plain": [
              "<Figure size 432x288 with 1 Axes>"
            ]
          },
          "metadata": {
            "tags": [],
            "needs_background": "light"
          }
        }
      ]
    },
    {
      "cell_type": "markdown",
      "metadata": {
        "id": "7Sh-xNwBEZXg"
      },
      "source": [
        "Polinomio de interp. de grado <font color=\"blue\">1</font>"
      ]
    },
    {
      "cell_type": "code",
      "metadata": {
        "id": "3GUuXGJDEZXh",
        "outputId": "f3fadba7-0ecd-4964-901a-04f83470a134",
        "colab": {
          "base_uri": "https://localhost:8080/",
          "height": 303
        }
      },
      "source": [
        "coeffs=np.polyfit(df.X,df.Y,deg=1)\n",
        "\n",
        "P=np.poly1d(coeffs)\n",
        "plt.plot(df.X,df.Y,'ro')\n",
        "x=np.linspace(-8,30)\n",
        "plt.plot(x,P( x),'b-')\n",
        "plt.grid()\n",
        "plt.ylim(0,12)\n",
        "\n",
        "print(np.poly1d(coeffs))"
      ],
      "execution_count": null,
      "outputs": [
        {
          "output_type": "stream",
          "text": [
            " \n",
            "-0.2732 x + 8.82\n"
          ],
          "name": "stdout"
        },
        {
          "output_type": "display_data",
          "data": {
            "image/png": "[encoded data removed]",
            "text/plain": [
              "<Figure size 432x288 with 1 Axes>"
            ]
          },
          "metadata": {
            "tags": [],
            "needs_background": "light"
          }
        }
      ]
    },
    {
      "cell_type": "markdown",
      "metadata": {
        "id": "3XW4YY3_EZXk"
      },
      "source": [
        "Polinomio de interp. de grado <font color=\"blue\">2</font>"
      ]
    },
    {
      "cell_type": "code",
      "metadata": {
        "id": "-B1dOzcAEZXl",
        "outputId": "a0d6608a-57ff-47d1-eab3-da42e3634f81",
        "colab": {
          "base_uri": "https://localhost:8080/",
          "height": 358
        }
      },
      "source": [
        "coeffs=np.polyfit(df.X,df.Y,deg=2)\n",
        "\n",
        "P=np.poly1d(coeffs)\n",
        "plt.plot(df.X,df.Y,'ro')\n",
        "x=np.linspace(-8,30)\n",
        "plt.plot(x,P( x),'b-')\n",
        "plt.grid()\n",
        "plt.ylim(0,12)\n",
        "\n",
        "print(np.poly1d(coeffs))"
      ],
      "execution_count": null,
      "outputs": [
        {
          "output_type": "stream",
          "text": [
            "           2\n",
            "-0.008617 x - 0.06383 x + 8.269\n"
          ],
          "name": "stdout"
        },
        {
          "output_type": "stream",
          "text": [
            "/usr/local/lib/python3.5/dist-packages/ipykernel_launcher.py:1: RankWarning: Polyfit may be poorly conditioned\n",
            "  \"\"\"Entry point for launching an IPython kernel.\n"
          ],
          "name": "stderr"
        },
        {
          "output_type": "display_data",
          "data": {
            "image/png": "[encoded data removed]",
            "text/plain": [
              "<Figure size 432x288 with 1 Axes>"
            ]
          },
          "metadata": {
            "tags": [],
            "needs_background": "light"
          }
        }
      ]
    },
    {
      "cell_type": "code",
      "metadata": {
        "id": "bVUgkRx8EZXn",
        "outputId": "005d71b7-4e58-4c82-aeea-084c00d5bc03",
        "colab": {
          "base_uri": "https://localhost:8080/",
          "height": 141
        }
      },
      "source": [
        "df=df.append({'X':10,'Y':6.5},ignore_index=True).sort_values('X')\n",
        "df.to_csv('../data/interpolation.csv',index=False)\n",
        "df"
      ],
      "execution_count": null,
      "outputs": [
        {
          "output_type": "execute_result",
          "data": {
            "text/html": [
              "<div>\n",
              "<style scoped>\n",
              "    .dataframe tbody tr th:only-of-type {\n",
              "        vertical-align: middle;\n",
              "    }\n",
              "\n",
              "    .dataframe tbody tr th {\n",
              "        vertical-align: top;\n",
              "    }\n",
              "\n",
              "    .dataframe thead th {\n",
              "        text-align: right;\n",
              "    }\n",
              "</style>\n",
              "<table border=\"1\" class=\"dataframe\">\n",
              "  <thead>\n",
              "    <tr style=\"text-align: right;\">\n",
              "      <th></th>\n",
              "      <th>X</th>\n",
              "      <th>Y</th>\n",
              "    </tr>\n",
              "  </thead>\n",
              "  <tbody>\n",
              "    <tr>\n",
              "      <th>0</th>\n",
              "      <td>3.0</td>\n",
              "      <td>8.0</td>\n",
              "    </tr>\n",
              "    <tr>\n",
              "      <th>2</th>\n",
              "      <td>10.0</td>\n",
              "      <td>6.5</td>\n",
              "    </tr>\n",
              "    <tr>\n",
              "      <th>1</th>\n",
              "      <td>21.3</td>\n",
              "      <td>3.0</td>\n",
              "    </tr>\n",
              "  </tbody>\n",
              "</table>\n",
              "</div>"
            ],
            "text/plain": [
              "      X    Y\n",
              "0   3.0  8.0\n",
              "2  10.0  6.5\n",
              "1  21.3  3.0"
            ]
          },
          "metadata": {
            "tags": []
          },
          "execution_count": 91
        }
      ]
    },
    {
      "cell_type": "code",
      "metadata": {
        "id": "MGNua9-REZXo",
        "outputId": "89115b32-35e1-45f5-9b10-1f0cb3467423",
        "colab": {
          "base_uri": "https://localhost:8080/",
          "height": 303
        }
      },
      "source": [
        "coeffs=np.polyfit(df.X,df.Y,deg=2)\n",
        "\n",
        "P=np.poly1d(coeffs)\n",
        "plt.plot(df.X,df.Y,'ro')\n",
        "x=np.linspace(-8,30)\n",
        "plt.plot(x,P( x),'b-')\n",
        "plt.grid()\n",
        "plt.ylim(0,12)\n",
        "\n",
        "print(np.poly1d(coeffs))"
      ],
      "execution_count": null,
      "outputs": [
        {
          "output_type": "stream",
          "text": [
            "           2\n",
            "-0.005216 x - 0.1465 x + 8.486\n"
          ],
          "name": "stdout"
        },
        {
          "output_type": "display_data",
          "data": {
            "image/png": "[encoded data removed]",
            "text/plain": [
              "<Figure size 432x288 with 1 Axes>"
            ]
          },
          "metadata": {
            "tags": [],
            "needs_background": "light"
          }
        }
      ]
    },
    {
      "cell_type": "code",
      "metadata": {
        "id": "XqX2NSmUEZXq",
        "outputId": "3bb4a6a6-0f22-49ef-8dec-32d0a04e39ae",
        "colab": {
          "base_uri": "https://localhost:8080/",
          "height": 51
        }
      },
      "source": [
        "print(np.poly1d(coeffs))"
      ],
      "execution_count": null,
      "outputs": [
        {
          "output_type": "stream",
          "text": [
            "           2\n",
            "-0.005216 x - 0.1465 x + 8.486\n"
          ],
          "name": "stdout"
        }
      ]
    },
    {
      "cell_type": "markdown",
      "metadata": {
        "id": "jN_ZqgxNEZXs"
      },
      "source": [
        "## Derivation"
      ]
    },
    {
      "cell_type": "markdown",
      "metadata": {
        "id": "d2qULdqzEZXt"
      },
      "source": [
        "Let's suppose a well-behaved yet unknown function $f$ and two points $(x_0,y_0)$ and $(x_1,y_1)$ for which $f(x_0) = y_0$ and $f(x_1) = y_1$. With this information we can build a first-degree polynomial that passes through both points by using the last equation in sec. [Linear Interpolation](interpolation.ipynb#Linear-Interpolation), we have\n",
        "\n",
        "$$P_1(x) = \\left[ \\frac{y_{1}-y_0}{x_{1}-x_0} \\right]x + \\left[ y_0 - \\frac{y_{1}-y_0}{x_{1}-x_0}x_0 \\right]$$\n",
        "\n",
        "We can readily rewrite this expression like:\n",
        "\\begin{align}\n",
        "P_1(x) =& \\frac{y_{1}}{x_{1}-x_0} x- \\frac{y_0}{x_{1}-x_0} x + y_0 -\\frac{y_{1}}{x_{1}-x_0}x_0 +  \\frac{y_0}{x_{1}-x_0}x_0 \\nonumber\\\\\n",
        "=& \\left[1 - \\frac{x}{x_{1}-x_0}  +  \\frac{x_0}{x_{1}-x_0}\\right]y_0+\n",
        "\\left[\\frac{x}{x_{1}-x_0}  -\\frac{x_0}{x_{1}-x_0}\\right]y_1    \\nonumber\\\\\n",
        " =& \\left[\\frac{x_1-x_0}{x_{1}-x_0} - \\frac{x}{x_{1}-x_0}  +  \\frac{x_0}{x_{1}-x_0}\\right]y_0+\n",
        "\\left[\\frac{x}{x_{1}-x_0}  -\\frac{x_0}{x_{1}-x_0}\\right]y_1    \\nonumber\\\\\n",
        "=& \\left[\\frac{x_1-x}{x_{1}-x_0}\\right]y_0+\n",
        "\\left[\\frac{x-x_0}{x_{1}-x_0}\\right]y_1    \\,.\n",
        "\\end{align}\n",
        "In this way\n",
        "$$P_1(x) = L_0(x)f(x_0) + L_1(x)f(x_1)$$\n",
        "\n",
        "where we define the functions $L_0(x)$ and $L_1(x)$ as:\n",
        "\n",
        "$$L_0(x) = \\frac{x-x_1}{x_0-x_1} \\mbox{ and } L_1(x) = \\frac{x-x_0}{x_1-x_0}$$\n",
        "\n",
        "Note that\n",
        "\n",
        "$$L_0(x_0) = 1,\\ \\ \\ L_0(x_1) = 0,\\ \\ \\ L_1(x_0) = 0,\\ \\ \\ L_1(x_1) = 1$$\n",
        "\n",
        "implying:\n",
        "\n",
        "$$P_1(x_0) = f(x_0) = y_0$$\n",
        "\n",
        "$$P_1(x_1) = f(x_1) = y_1$$\n",
        "\n",
        "Although all this procedure may seem unnecessary for a polynomial of degree 1, a generalization to polynomials of larger degrees is now possible."
      ]
    },
    {
      "cell_type": "markdown",
      "metadata": {
        "id": "t5benGvIEZXt"
      },
      "source": [
        "## General case\n",
        "Let's assume again a well-behaved and unknown function $f$ sampled by using a set of $n+1$ data $(x_m,y_m)$ ($0\\leq m \\leq n$).\n",
        "We call the set of $[x_0,x_1,\\ldots,x_n]$ as the _node_ points of the _interpolation polynomial in the Lagrange form_, $P_n(x)$, where:\n",
        "$$f(x)\\approx P_n(x)\\,,$$\n",
        "\n",
        "$$P_n(x) = \\sum_{i=0}^n f(x_i)L_{n,i}(x) = \\sum_{i=0}^n y_iL_{n,i}(x)$$\n",
        "\n",
        "Such that\n",
        "$$f(x_i)= P_n(x_i)\\,,$$\n",
        "\n",
        "We need to find the _Lagrange polynomials_,  $L_{n,i}(x)$, such that \n",
        "$$L_{n,i}(x_i) = 1\\,,\\qquad\\text{and}\\,,\\qquad L_{n,i}(x_j) = 0\\quad\\text{for $i\\neq j$}$$ \n",
        "A function that satisfies this criterion is\n",
        "\n",
        "$$L_{n,i}(x) = \\prod_{\\begin{smallmatrix}m=0\\\\ m\\neq i\\end{smallmatrix}}^n \\frac{x-x_m}{x_i-x_m} =\\frac{(x-x_0)}{(x_i-x_0)}\\frac{(x-x_1)}{(x_i-x_1)}\\cdots \\frac{(x-x_{i-1})}{(x_i-x_{i-1})}\\underbrace{\\frac{}{}}_{m\\ne i}\n",
        "\\frac{(x-x_{i+1})}{(x_i-x_{i+1})} \\cdots \\frac{(x-x_{n-1})}{(x_i-x_{n-1})}\\frac{(x-x_n)}{(x_i-x_n)}  $$\n",
        "Please note that in the expansion the term $(x-x_i)$ does not appears in both the numerator and the denominator as stablished in the productory condition $m\\neq i$.\n",
        "\n",
        "Moreower\n",
        "$$L_{n,i}(x_i) = \\prod_{\\begin{smallmatrix}m=0\\\\ m\\neq i\\end{smallmatrix}}^n \\frac{x_i-x_m}{x_i-x_m} =1$$\n",
        "and, for $j\\ne i$\n",
        "$$L_{n,i}(x_j) = \\prod_{\\begin{smallmatrix}m=0\\\\ m\\neq i\\end{smallmatrix}}^n \\frac{x_j-x_m}{x_i-x_m} =\\frac{(x_j-x_0)}{(x_i-x_0)}\\cdots \\frac{(\\boldsymbol{x_j}-\\boldsymbol{x_j})}{(x_i-x_j)}\\cdots\\frac{(x_j-x_n)}{(x_i-x_n)}=0.$$\n",
        "\n",
        "\n",
        "Then, the polynomial of $n$th-degree $P_n(x)$ will satisfy the definitory property for a interpolating polynomial, i.e. $P_n(x_i) = y_i$ for any $i$ and it is called the _interpolation Polynomial in the Lagrange form_.\n",
        "\n",
        "Check [this implementation in sympy](./LagrangePoly.ipynb) [[View in Colaboratory](https://colab.research.google.com/github/restrepo/ComputationalMethods/blob/master/material/LagrangePoly.ipynb)] where both the interpolating polynomial and the Lagrange polynomials are defined."
      ]
    },
    {
      "cell_type": "markdown",
      "metadata": {
        "id": "Ulmt0VxjQq3B"
      },
      "source": [
        "**Further details at:**\n",
        "[Wikipedia](https://en.wikipedia.org/wiki/Lagrange_polynomial)"
      ]
    },
    {
      "cell_type": "markdown",
      "metadata": {
        "id": "HAld-e8YEZXu"
      },
      "source": [
        "### Example:\n",
        "Obtain the Lagrange Polynomials for a Interpolation polynomial of degree 1."
      ]
    },
    {
      "cell_type": "markdown",
      "metadata": {
        "id": "9WWq5hcOEZXu"
      },
      "source": [
        "$i=0$, $n=1$\n",
        "$$ L_{1,0}=\\prod_{\\begin{smallmatrix}m=0\\\\ m\\neq 0\\end{smallmatrix}}^1 \\frac{x-x_m}{x_i-x_m}=\\prod_{\\begin{smallmatrix}m=1\\end{smallmatrix}}^1 \\frac{x-x_m}{x_0-x_m}=\\frac{x-x_1}{x_0-x_1}$$\n",
        "$i=i$, $n=1$\n",
        "$$ L_{1,1}=\\prod_{\\begin{smallmatrix}m=0\\\\ m\\neq 1\\end{smallmatrix}}^1 \\frac{x-x_m}{x_i-x_m}=\\prod_{\\begin{smallmatrix}m=0\\end{smallmatrix}}^0 \\frac{x-x_m}{x_1-x_m}=\\frac{x-x_0}{x_1-x_0}$$"
      ]
    },
    {
      "cell_type": "markdown",
      "metadata": {
        "id": "TTCS1bBFQq3C"
      },
      "source": [
        "Until now we can only guarantee that $P_n(x_i)=f(x_i)$. To calculate the function from any $x$ in the interpolation interval we have the following Theorem (See [here](https://www3.nd.edu/~zxu2/acms40390F12/Lec-3.1.pdf))\n",
        "## Theorem\n",
        "Suppose $X_0,\\ldots,x_n$ are distinct numbers in the interval $[a,b]$ and $f\\in[a,b]$.Then for each $x$ in $[a,b]$, a number $\\xi(x)$ between $x_0,\\ldots,x_n$, and hence in $[a,b]$, exists with\n",
        "$$\n",
        "f(x)=P_n(x)+E_n(x)\\,,\\qquad \\text{such that } E_n(x_i)=0\\,,\n",
        "$$\n",
        "where the formula for the error bound is given by\n",
        "$$\n",
        "E_n(x) = {f^{n+1}(\\xi(x)) \\over (n+1)!} \\cdot \\prod_{i=0}^{n}\\left(x-x_{i}\\right)\\,,\n",
        "$$\n",
        "$f^{(n+1)}$ is the $n+1$ derivative of $f$\n",
        "\n",
        "For a demostration see [1d] → https://www.math.ust.hk/~mamu/courses/231/Slides/CH03_1B.pdf\n",
        "\n",
        "The specific calculation of the bounded error is to find the $\\xi$ and $x$ such that\n",
        "$$\n",
        "\\left|f(x)-P(x)\\right| \\leq \\max_{\\xi\\in[a,b]}\\left|\\frac{f^{(n+1)}(\\xi)}{(n+1) !}\\right| \\cdot \\max_{x\\in[a,b]}\\left|\\prod_{i=0}^{n}\\left(x-x_{i}\\right)\\right|\n",
        "$$"
      ]
    },
    {
      "cell_type": "markdown",
      "metadata": {
        "id": "me-qxh8sEZXv"
      },
      "source": [
        "### Exercise-interpolation\n",
        "Obtain the Lagrange Polynomials for a Interpolation polynomial of degree 2."
      ]
    },
    {
      "cell_type": "markdown",
      "metadata": {
        "id": "QrN1hmlnEZXv"
      },
      "source": [
        "### Implementation in Scipy"
      ]
    },
    {
      "cell_type": "code",
      "metadata": {
        "id": "IRQNq9xrEZXw"
      },
      "source": [
        "from scipy import interpolate"
      ],
      "execution_count": 51,
      "outputs": []
    },
    {
      "cell_type": "code",
      "metadata": {
        "id": "SP7TER3gEZXy"
      },
      "source": [
        "#interpolate.lagrange?"
      ],
      "execution_count": 52,
      "outputs": []
    },
    {
      "cell_type": "code",
      "metadata": {
        "id": "-p_85Kiz5Xi-",
        "outputId": "201be2fd-bf24-41f4-9e97-09a4c756f755",
        "colab": {
          "base_uri": "https://localhost:8080/",
          "height": 163
        }
      },
      "source": [
        "df"
      ],
      "execution_count": 53,
      "outputs": [
        {
          "output_type": "error",
          "ename": "NameError",
          "evalue": "ignored",
          "traceback": [
            "\u001b[0;31m---------------------------------------------------------------------------\u001b[0m",
            "\u001b[0;31mNameError\u001b[0m                                 Traceback (most recent call last)",
            "\u001b[0;32m<ipython-input-53-00cf07b74dcd>\u001b[0m in \u001b[0;36m<module>\u001b[0;34m()\u001b[0m\n\u001b[0;32m----> 1\u001b[0;31m \u001b[0mdf\u001b[0m\u001b[0;34m\u001b[0m\u001b[0;34m\u001b[0m\u001b[0m\n\u001b[0m",
            "\u001b[0;31mNameError\u001b[0m: name 'df' is not defined"
          ]
        }
      ]
    },
    {
      "cell_type": "code",
      "metadata": {
        "id": "YkHQHYglEZXz"
      },
      "source": [
        "P=interpolate.lagrange(df.X,df.Y)\n",
        "print(P)"
      ],
      "execution_count": null,
      "outputs": []
    },
    {
      "cell_type": "code",
      "metadata": {
        "id": "7Tyn6kv0EZX0"
      },
      "source": [
        "plt.plot(df.X,df.Y,'ro')\n",
        "x=np.linspace(-8,30)\n",
        "plt.plot(x,P( x),'b-')\n",
        "plt.grid()\n",
        "plt.ylim(0,12)"
      ],
      "execution_count": null,
      "outputs": []
    },
    {
      "cell_type": "markdown",
      "metadata": {
        "id": "tD5Vi8IvQq3R"
      },
      "source": [
        "### Example of error calculation\n",
        "See details [here](https://math.stackexchange.com/a/1151599/790274)\n",
        "\n",
        "Consider $f(x) = \\operatorname{e}^{2x} - x$ interpolation in the interval $(1,1.6)$ \n",
        "\n",
        "1. Construct the Lagrange Polynomial for the points $x_0=1$, $x_1=1.25$, $x_2=1.6$. \n",
        "1. Find the approximate value at $f(1.5)$ and the error bound for the approximation"
      ]
    },
    {
      "cell_type": "markdown",
      "metadata": {
        "id": "56kWoZ3nQq3R"
      },
      "source": [
        "1. We start by defining the function\n",
        "\n",
        "Be sure that the function input will be an array"
      ]
    },
    {
      "cell_type": "code",
      "metadata": {
        "id": "bFWAoHrdQq3S",
        "outputId": "e4fca377-5492-4065-b7a7-8fbc69b5900c"
      },
      "source": [
        "#Wrong result for a list\n",
        "x=[1,1.25,1.6]\n",
        "np.exp(2*x)"
      ],
      "execution_count": null,
      "outputs": [
        {
          "output_type": "execute_result",
          "data": {
            "text/plain": [
              "array([2.71828183, 3.49034296, 4.95303242, 2.71828183, 3.49034296,\n",
              "       4.95303242])"
            ]
          },
          "metadata": {
            "tags": []
          },
          "execution_count": 68
        }
      ]
    },
    {
      "cell_type": "code",
      "metadata": {
        "id": "TXnR9BoMQq3e",
        "outputId": "202f5e0e-0840-4c35-822a-4718e193c67c"
      },
      "source": [
        "np.exp(2*np.array(x))"
      ],
      "execution_count": null,
      "outputs": [
        {
          "output_type": "execute_result",
          "data": {
            "text/plain": [
              "array([ 7.3890561 , 12.18249396, 24.5325302 ])"
            ]
          },
          "metadata": {
            "tags": []
          },
          "execution_count": 69
        }
      ]
    },
    {
      "cell_type": "code",
      "metadata": {
        "id": "H396yoBxQq3g",
        "outputId": "df5b16e6-95e5-4855-d935-c8fd91e98694"
      },
      "source": [
        "#List operations are not well defined in general\n",
        "[1,2,4]-[1,5,6]"
      ],
      "execution_count": null,
      "outputs": [
        {
          "output_type": "error",
          "ename": "TypeError",
          "evalue": "unsupported operand type(s) for -: 'list' and 'list'",
          "traceback": [
            "\u001b[0;31m---------------------------------------------------------------------------\u001b[0m",
            "\u001b[0;31mTypeError\u001b[0m                                 Traceback (most recent call last)",
            "\u001b[0;32m<ipython-input-70-641c9f212de0>\u001b[0m in \u001b[0;36m<module>\u001b[0;34m()\u001b[0m\n\u001b[1;32m      1\u001b[0m \u001b[0;31m#List operations are not well defined in general\u001b[0m\u001b[0;34m\u001b[0m\u001b[0;34m\u001b[0m\u001b[0;34m\u001b[0m\u001b[0m\n\u001b[0;32m----> 2\u001b[0;31m \u001b[0;34m[\u001b[0m\u001b[0;36m1\u001b[0m\u001b[0;34m,\u001b[0m\u001b[0;36m2\u001b[0m\u001b[0;34m,\u001b[0m\u001b[0;36m4\u001b[0m\u001b[0;34m]\u001b[0m\u001b[0;34m-\u001b[0m\u001b[0;34m[\u001b[0m\u001b[0;36m1\u001b[0m\u001b[0;34m,\u001b[0m\u001b[0;36m5\u001b[0m\u001b[0;34m,\u001b[0m\u001b[0;36m6\u001b[0m\u001b[0;34m]\u001b[0m\u001b[0;34m\u001b[0m\u001b[0;34m\u001b[0m\u001b[0m\n\u001b[0m",
            "\u001b[0;31mTypeError\u001b[0m: unsupported operand type(s) for -: 'list' and 'list'"
          ]
        }
      ]
    },
    {
      "cell_type": "code",
      "metadata": {
        "id": "pWZCuoaBQq3i"
      },
      "source": [
        "def f(x):\n",
        "    '''\n",
        "    WARNING: all the parts of the function must be \n",
        "    numpy arrays in order to get the element by element sum.\n",
        "    '''\n",
        "    x=np.asarray(x) # Force x → array\n",
        "    return np.exp(2*x)-x"
      ],
      "execution_count": null,
      "outputs": []
    },
    {
      "cell_type": "markdown",
      "metadata": {
        "id": "Z8vRE5xeQq3j"
      },
      "source": [
        "The interpolation polynomial is"
      ]
    },
    {
      "cell_type": "code",
      "metadata": {
        "id": "kIBmQ0O6Qq3j",
        "outputId": "bbd6a918-06a9-45f7-a805-cf3c46681da1"
      },
      "source": [
        "x=[1,1.25,1.6]\n",
        "P_2=interpolate.lagrange(x,f(x))\n",
        "print(P_2)"
      ],
      "execution_count": null,
      "outputs": [
        {
          "output_type": "stream",
          "text": [
            "       2\n",
            "26.85 x - 42.25 x + 21.78\n"
          ],
          "name": "stdout"
        }
      ]
    },
    {
      "cell_type": "markdown",
      "metadata": {
        "id": "8Df0b5E9Qq3k"
      },
      "source": [
        "Test interpolation with one of the three points"
      ]
    },
    {
      "cell_type": "code",
      "metadata": {
        "id": "rhUrzKwkQq3l",
        "outputId": "eea79e85-57ea-46e1-cae6-c47512606e67"
      },
      "source": [
        "P_2(x[1]),f(x[1])"
      ],
      "execution_count": null,
      "outputs": [
        {
          "output_type": "execute_result",
          "data": {
            "text/plain": [
              "(10.932493960703491, 10.932493960703473)"
            ]
          },
          "metadata": {
            "tags": []
          },
          "execution_count": 35
        }
      ]
    },
    {
      "cell_type": "markdown",
      "metadata": {
        "id": "fPpKnAOnQq3o"
      },
      "source": [
        "For the bounded error we start with the left part\n",
        "$$\n",
        "\\max_{\\xi\\in[1,1.6]}\\left|\\frac{f'''(\\xi)}{(3)!}\\right| \n",
        "$$\n",
        "where\n",
        "$$f'(x)=2\\operatorname{e}^{2x}-1$$\n",
        "$$f''(x)=4\\operatorname{e}^{2x}$$\n",
        "$$f'''(x)=8\\operatorname{e}^{2x}$$\n",
        "The maximum is obtained for the last point $x_2$"
      ]
    },
    {
      "cell_type": "code",
      "metadata": {
        "id": "1PS8rewyQq3o",
        "outputId": "2c36a74c-6ffb-4b8f-82e9-72af329f18fd"
      },
      "source": [
        "fppp=8*np.exp(2*x[2])\n",
        "fppp"
      ],
      "execution_count": null,
      "outputs": [
        {
          "output_type": "execute_result",
          "data": {
            "text/plain": [
              "196.26024157687482"
            ]
          },
          "metadata": {
            "tags": []
          },
          "execution_count": 36
        }
      ]
    },
    {
      "cell_type": "markdown",
      "metadata": {
        "id": "V9eugd_OQq3r"
      },
      "source": [
        "For the right part \n",
        "$$\n",
        "\\max_{x\\in[a,b]}\\left|\\prod_{i=0}^{2}\\left(x-x_{i}\\right)\\right|=\n",
        "$$\n",
        "we need just to build the numpy polynomial with roots at $(x_0,x_1,x_2)$\n",
        "$$\n",
        "p(x)=(x-x_0)(x-x_1)(x-x_2)\\,,\n",
        "$$"
      ]
    },
    {
      "cell_type": "code",
      "metadata": {
        "id": "otGBmtd0Qq3s"
      },
      "source": [
        "p=np.poly1d(x,r=True)"
      ],
      "execution_count": null,
      "outputs": []
    },
    {
      "cell_type": "markdown",
      "metadata": {
        "id": "yEnY6vE-Qq3u"
      },
      "source": [
        "And find the maximun of the absolute value of the critical points"
      ]
    },
    {
      "cell_type": "code",
      "metadata": {
        "id": "4hfHwmk0Qq3v",
        "outputId": "9bfb41ed-7201-4689-e50d-b88d2cd4d4fa"
      },
      "source": [
        "p.deriv().roots"
      ],
      "execution_count": null,
      "outputs": [
        {
          "output_type": "execute_result",
          "data": {
            "text/plain": [
              "array([1.45733844, 1.10932822])"
            ]
          },
          "metadata": {
            "tags": []
          },
          "execution_count": 48
        }
      ]
    },
    {
      "cell_type": "code",
      "metadata": {
        "id": "eJ9rvh9eQq3x",
        "outputId": "0d7d8d54-aaa8-4047-9ef9-8bb9639b1c2c"
      },
      "source": [
        "p(p.deriv().roots)"
      ],
      "execution_count": null,
      "outputs": [
        {
          "output_type": "execute_result",
          "data": {
            "text/plain": [
              "array([-0.01352772,  0.00754624])"
            ]
          },
          "metadata": {
            "tags": []
          },
          "execution_count": 49
        }
      ]
    },
    {
      "cell_type": "code",
      "metadata": {
        "id": "DJpiPRGkQq3z"
      },
      "source": [
        "pmax=np.abs( p(p.deriv().roots) ).max()"
      ],
      "execution_count": null,
      "outputs": []
    },
    {
      "cell_type": "markdown",
      "metadata": {
        "id": "IVPJB_vfQq30"
      },
      "source": [
        "In this way, the maximum error for $p(x)$ is expected for $x_{\\text{max}}=1.45733844$"
      ]
    },
    {
      "cell_type": "markdown",
      "metadata": {
        "id": "kQB34FPTQq31"
      },
      "source": [
        "The bounded error is then\n",
        "$$\n",
        "E_2(x)=\\max_{\\xi\\in[1,1.6]}\\left|\\frac{f'''(\\xi)}{(3)!}\\right|\\cdot\\max_{x\\in[a,b]}\\left|\\prod_{i=0}^{2}\\left(x-x_{i}\\right)\\right|\n",
        "$$"
      ]
    },
    {
      "cell_type": "code",
      "metadata": {
        "id": "0mqU4I-pQq31",
        "outputId": "1301fdd3-965b-4b5a-cfad-4276bbd034b5"
      },
      "source": [
        "pmax"
      ],
      "execution_count": null,
      "outputs": [
        {
          "output_type": "execute_result",
          "data": {
            "text/plain": [
              "0.013527716754363928"
            ]
          },
          "metadata": {
            "tags": []
          },
          "execution_count": 39
        }
      ]
    },
    {
      "cell_type": "code",
      "metadata": {
        "id": "l7M8jEtWQq32",
        "outputId": "7d899227-30a4-4b74-d478-b759e574f45b"
      },
      "source": [
        "E_2=fppp/(2*3)*pmax\n",
        "E_2"
      ],
      "execution_count": null,
      "outputs": [
        {
          "output_type": "execute_result",
          "data": {
            "text/plain": [
              "0.4424921596991669"
            ]
          },
          "metadata": {
            "tags": []
          },
          "execution_count": 40
        }
      ]
    },
    {
      "cell_type": "code",
      "metadata": {
        "id": "KkNhRYPvQq34",
        "outputId": "23d661fc-da7d-44b4-f868-0b53d1201adf"
      },
      "source": [
        "X=1.5\n",
        "f(X)"
      ],
      "execution_count": null,
      "outputs": [
        {
          "output_type": "execute_result",
          "data": {
            "text/plain": [
              "18.585536923187668"
            ]
          },
          "metadata": {
            "tags": []
          },
          "execution_count": 56
        }
      ]
    },
    {
      "cell_type": "code",
      "metadata": {
        "id": "_MeLNGR_Qq35",
        "outputId": "9cc62164-9d80-4d22-fa0f-341d14343c0d"
      },
      "source": [
        "P_2(X)"
      ],
      "execution_count": null,
      "outputs": [
        {
          "output_type": "execute_result",
          "data": {
            "text/plain": [
              "18.832612316478652"
            ]
          },
          "metadata": {
            "tags": []
          },
          "execution_count": 57
        }
      ]
    },
    {
      "cell_type": "code",
      "metadata": {
        "id": "k7993O-hQq37",
        "outputId": "af7c97b7-27f3-4ad0-dfa8-4d0971f45463"
      },
      "source": [
        "P_2(X)-f(X)"
      ],
      "execution_count": null,
      "outputs": [
        {
          "output_type": "execute_result",
          "data": {
            "text/plain": [
              "0.24707539329098438"
            ]
          },
          "metadata": {
            "tags": []
          },
          "execution_count": 58
        }
      ]
    },
    {
      "cell_type": "markdown",
      "metadata": {
        "id": "V-oEGFTCQq38"
      },
      "source": [
        "The real bounded error is"
      ]
    },
    {
      "cell_type": "code",
      "metadata": {
        "id": "xbkvLAnBQq38",
        "outputId": "7a53879b-65be-4c7b-c184-1a61010e722a"
      },
      "source": [
        "xlin=np.linspace(x[0],x[-1],100)\n",
        "np.abs(P_2(xlin)-f(xlin)).max()"
      ],
      "execution_count": null,
      "outputs": [
        {
          "output_type": "execute_result",
          "data": {
            "text/plain": [
              "0.26182823963596036"
            ]
          },
          "metadata": {
            "tags": []
          },
          "execution_count": 61
        }
      ]
    },
    {
      "cell_type": "markdown",
      "metadata": {
        "id": "WSrNnaKcEZX2"
      },
      "source": [
        "### Implementation in `sympy`\n",
        "For details see [here](./LagrangePoly.ipynb)"
      ]
    },
    {
      "cell_type": "code",
      "metadata": {
        "id": "Xmh06aWwQq3-",
        "outputId": "f5d27e3d-0aaa-4db5-ce0a-a90a5838af42"
      },
      "source": [
        "%pylab inline"
      ],
      "execution_count": null,
      "outputs": [
        {
          "output_type": "stream",
          "text": [
            "Populating the interactive namespace from numpy and matplotlib\n"
          ],
          "name": "stdout"
        }
      ]
    },
    {
      "cell_type": "code",
      "metadata": {
        "id": "mz8V7XSPQq4A"
      },
      "source": [
        "df=pd.read_csv('https://github.com/restrepo/ComputationalMethods/raw/master/data/interpolation.csv')"
      ],
      "execution_count": null,
      "outputs": []
    },
    {
      "cell_type": "code",
      "metadata": {
        "id": "0VOIS4fJEZX3",
        "outputId": "91f56066-10ac-4c21-84cf-c0cd76bab274"
      },
      "source": [
        "import LagrangePolynomial as LP\n",
        "LP.lagrangePolynomial(df.X,df.Y)"
      ],
      "execution_count": null,
      "outputs": [
        {
          "output_type": "execute_result",
          "data": {
            "text/latex": "$\\displaystyle - 0.00521578136549848 x^{2} - 0.146480556534234 x + 8.48638370189219$",
            "text/plain": [
              "-0.00521578136549848*x**2 - 0.146480556534234*x + 8.48638370189219"
            ]
          },
          "metadata": {
            "tags": []
          },
          "execution_count": 99
        }
      ]
    },
    {
      "cell_type": "markdown",
      "metadata": {
        "id": "2_6up-MlEZX6"
      },
      "source": [
        "$$P_n(x) =  \\sum_{i=0}^n L_{n,i}(x) \\, y_i$$"
      ]
    },
    {
      "cell_type": "code",
      "metadata": {
        "id": "mh1rbre7EZX6",
        "outputId": "c919803b-049e-49be-c8d8-124ed9695410"
      },
      "source": [
        "LP.polyL( df.X,0)*df.Y[0]+LP.polyL( df.X,1)*df.Y[1]+LP.polyL( df.X,2)*df.Y[2]"
      ],
      "execution_count": null,
      "outputs": [
        {
          "output_type": "execute_result",
          "data": {
            "text/latex": "$\\displaystyle 0.0559573894841558 x^{2} - 1.44173177757974 x + 11.8215788273818$",
            "text/plain": [
              "0.0559573894841558*x**2 - 1.44173177757974*x + 11.8215788273818"
            ]
          },
          "metadata": {
            "tags": []
          },
          "execution_count": 100
        }
      ]
    },
    {
      "cell_type": "code",
      "metadata": {
        "id": "e2DVkKoiQq4F",
        "outputId": "5c5bebfe-09c2-4a3e-8559-8e2efea64cd9"
      },
      "source": [
        "df"
      ],
      "execution_count": null,
      "outputs": [
        {
          "output_type": "execute_result",
          "data": {
            "text/html": [
              "<div>\n",
              "<style scoped>\n",
              "    .dataframe tbody tr th:only-of-type {\n",
              "        vertical-align: middle;\n",
              "    }\n",
              "\n",
              "    .dataframe tbody tr th {\n",
              "        vertical-align: top;\n",
              "    }\n",
              "\n",
              "    .dataframe thead th {\n",
              "        text-align: right;\n",
              "    }\n",
              "</style>\n",
              "<table border=\"1\" class=\"dataframe\">\n",
              "  <thead>\n",
              "    <tr style=\"text-align: right;\">\n",
              "      <th></th>\n",
              "      <th>X</th>\n",
              "      <th>Y</th>\n",
              "    </tr>\n",
              "  </thead>\n",
              "  <tbody>\n",
              "    <tr>\n",
              "      <th>0</th>\n",
              "      <td>3.0</td>\n",
              "      <td>8.0</td>\n",
              "    </tr>\n",
              "    <tr>\n",
              "      <th>2</th>\n",
              "      <td>10.0</td>\n",
              "      <td>6.5</td>\n",
              "    </tr>\n",
              "    <tr>\n",
              "      <th>1</th>\n",
              "      <td>21.3</td>\n",
              "      <td>3.0</td>\n",
              "    </tr>\n",
              "  </tbody>\n",
              "</table>\n",
              "</div>"
            ],
            "text/plain": [
              "      X    Y\n",
              "0   3.0  8.0\n",
              "2  10.0  6.5\n",
              "1  21.3  3.0"
            ]
          },
          "metadata": {
            "tags": []
          },
          "execution_count": 102
        }
      ]
    },
    {
      "cell_type": "code",
      "metadata": {
        "id": "qFELwQNsQq4H",
        "outputId": "4ef1601c-c381-4829-ba57-e483829e3b81"
      },
      "source": [
        "df.X[0]"
      ],
      "execution_count": null,
      "outputs": [
        {
          "output_type": "execute_result",
          "data": {
            "text/plain": [
              "3.0"
            ]
          },
          "metadata": {
            "tags": []
          },
          "execution_count": 103
        }
      ]
    },
    {
      "cell_type": "markdown",
      "metadata": {
        "id": "FEj64uDmEZX8"
      },
      "source": [
        "## Steps LP"
      ]
    },
    {
      "cell_type": "markdown",
      "metadata": {
        "id": "t6ks3grEEZX8"
      },
      "source": [
        "Once defined the formal procedure for constructing a Lagrange Polynomial, we proceed to describe the explicit algorithm:\n",
        "\n",
        "1. Give the working dataset $(x_i, y_i)$ and stablish how many points you have.\n",
        "2. Define the functions $L_{n,i}(x)$ in a general way.\n",
        "3. Add each of those terms as shown in last expression.\n",
        "4. Evaluate your result wherever you want."
      ]
    },
    {
      "cell_type": "markdown",
      "metadata": {
        "id": "FbuCBnS4EZX9"
      },
      "source": [
        "**Activity**\n",
        "\n",
        "Along with the professor, write an implementation of the previous algorithm during classtime."
      ]
    },
    {
      "cell_type": "markdown",
      "metadata": {
        "id": "-1r8xBk8EZX9"
      },
      "source": [
        "## Activity LP"
      ]
    },
    {
      "cell_type": "markdown",
      "metadata": {
        "id": "ZkuEZPFTEZX-"
      },
      "source": [
        "<div style=\"float: right;\" markdown=\"1\">\n",
        "    <img src=\"http://universe-review.ca/I05-28-NGC7331.jpg\">\n",
        "</div>\n",
        "\n",
        "One of the very first evidences of the existence of dark matter was the flat rotation curves of spiral galaxies. If we assume the total budget of mass of a galaxy is entirely made of luminous matter, the orbital circular velocity of stars around the galaxy plane should decay according to a keplerian potential. However this is not the case and the circular velocity barely decreases at larger radius, thus indicating the presence of a new non-visible matter component (dark matter). When it is necessary to determine how massive is the dark matter halo embedding a galaxy, an integration of the circular velocity is required. Nevertheless, due to the finite array of a CCD camera, only a discrete set of velocities can be measured and interpolation techniques are required.\n",
        "\n",
        "\n",
        "In this activity we will take a discrete dataset of the circular velocity as a function of the radius for the galaxy [NGC 7331](http://es.wikipedia.org/wiki/NGC_7331) and perform both, a linear and a Lagrange interpolation. You can download the dataset from this [link](https://raw.githubusercontent.com/sbustamante/ComputationalMethods/master/data/NGC7331.dat).\n"
      ]
    },
    {
      "cell_type": "markdown",
      "metadata": {
        "id": "6BmEFS28EZX_"
      },
      "source": [
        "[Video](https://upload.wikimedia.org/wikipedia/commons/transcoded/3/33/Galaxy_rotation_under_the_influence_of_dark_matter.ogv/Galaxy_rotation_under_the_influence_of_dark_matter.ogv.360p.webm)"
      ]
    },
    {
      "cell_type": "markdown",
      "metadata": {
        "id": "fseOFy-DEZX_"
      },
      "source": [
        "<font color='blue'>\n",
        "**TRIVIA**<br/> \n",
        "To which of two curves the real data approach better?\n",
        "</font>"
      ]
    },
    {
      "cell_type": "markdown",
      "metadata": {
        "id": "XaM0WuPQEZX_"
      },
      "source": [
        "import os\n",
        "os.remove('trivia_results.txt')"
      ]
    },
    {
      "cell_type": "code",
      "metadata": {
        "id": "pcbVK4pkEZX_",
        "outputId": "9a3d3a34-0d69-4dd9-f722-b0e0151af485",
        "colab": {
          "base_uri": "https://localhost:8080/",
          "height": 648
        }
      },
      "source": [
        "f=open('trivia_results.txt','a')\n",
        "AB=input(r'''A: to the curve \"velocity goes to zero when distance goes to infinity\"\n",
        "B: to the curve \"velocity goes to high constant when distance goes to infinity\"\n",
        "''')\n",
        "f.write( '{}\\n'.format(AB) )\n",
        "f.close()"
      ],
      "execution_count": 54,
      "outputs": [
        {
          "output_type": "stream",
          "text": [
            "ERROR:root:An unexpected error occurred while tokenizing input\n",
            "The following traceback may be corrupted or invalid\n",
            "The error message is: ('EOF in multi-line string', (1, 0))\n",
            "\n"
          ],
          "name": "stderr"
        },
        {
          "output_type": "error",
          "ename": "KeyboardInterrupt",
          "evalue": "ignored",
          "traceback": [
            "\u001b[0;31m---------------------------------------------------------------------------\u001b[0m",
            "\u001b[0;31mKeyboardInterrupt\u001b[0m                         Traceback (most recent call last)",
            "\u001b[0;32m/usr/local/lib/python3.6/dist-packages/ipykernel/kernelbase.py\u001b[0m in \u001b[0;36m_input_request\u001b[0;34m(self, prompt, ident, parent, password)\u001b[0m\n\u001b[1;32m    728\u001b[0m             \u001b[0;32mtry\u001b[0m\u001b[0;34m:\u001b[0m\u001b[0;34m\u001b[0m\u001b[0;34m\u001b[0m\u001b[0m\n\u001b[0;32m--> 729\u001b[0;31m                 \u001b[0mident\u001b[0m\u001b[0;34m,\u001b[0m \u001b[0mreply\u001b[0m \u001b[0;34m=\u001b[0m \u001b[0mself\u001b[0m\u001b[0;34m.\u001b[0m\u001b[0msession\u001b[0m\u001b[0;34m.\u001b[0m\u001b[0mrecv\u001b[0m\u001b[0;34m(\u001b[0m\u001b[0mself\u001b[0m\u001b[0;34m.\u001b[0m\u001b[0mstdin_socket\u001b[0m\u001b[0;34m,\u001b[0m \u001b[0;36m0\u001b[0m\u001b[0;34m)\u001b[0m\u001b[0;34m\u001b[0m\u001b[0;34m\u001b[0m\u001b[0m\n\u001b[0m\u001b[1;32m    730\u001b[0m             \u001b[0;32mexcept\u001b[0m \u001b[0mException\u001b[0m\u001b[0;34m:\u001b[0m\u001b[0;34m\u001b[0m\u001b[0;34m\u001b[0m\u001b[0m\n",
            "\u001b[0;32m/usr/local/lib/python3.6/dist-packages/jupyter_client/session.py\u001b[0m in \u001b[0;36mrecv\u001b[0;34m(self, socket, mode, content, copy)\u001b[0m\n\u001b[1;32m    802\u001b[0m         \u001b[0;32mtry\u001b[0m\u001b[0;34m:\u001b[0m\u001b[0;34m\u001b[0m\u001b[0;34m\u001b[0m\u001b[0m\n\u001b[0;32m--> 803\u001b[0;31m             \u001b[0mmsg_list\u001b[0m \u001b[0;34m=\u001b[0m \u001b[0msocket\u001b[0m\u001b[0;34m.\u001b[0m\u001b[0mrecv_multipart\u001b[0m\u001b[0;34m(\u001b[0m\u001b[0mmode\u001b[0m\u001b[0;34m,\u001b[0m \u001b[0mcopy\u001b[0m\u001b[0;34m=\u001b[0m\u001b[0mcopy\u001b[0m\u001b[0;34m)\u001b[0m\u001b[0;34m\u001b[0m\u001b[0;34m\u001b[0m\u001b[0m\n\u001b[0m\u001b[1;32m    804\u001b[0m         \u001b[0;32mexcept\u001b[0m \u001b[0mzmq\u001b[0m\u001b[0;34m.\u001b[0m\u001b[0mZMQError\u001b[0m \u001b[0;32mas\u001b[0m \u001b[0me\u001b[0m\u001b[0;34m:\u001b[0m\u001b[0;34m\u001b[0m\u001b[0;34m\u001b[0m\u001b[0m\n",
            "\u001b[0;32m/usr/local/lib/python3.6/dist-packages/zmq/sugar/socket.py\u001b[0m in \u001b[0;36mrecv_multipart\u001b[0;34m(self, flags, copy, track)\u001b[0m\n\u001b[1;32m    490\u001b[0m         \"\"\"\n\u001b[0;32m--> 491\u001b[0;31m         \u001b[0mparts\u001b[0m \u001b[0;34m=\u001b[0m \u001b[0;34m[\u001b[0m\u001b[0mself\u001b[0m\u001b[0;34m.\u001b[0m\u001b[0mrecv\u001b[0m\u001b[0;34m(\u001b[0m\u001b[0mflags\u001b[0m\u001b[0;34m,\u001b[0m \u001b[0mcopy\u001b[0m\u001b[0;34m=\u001b[0m\u001b[0mcopy\u001b[0m\u001b[0;34m,\u001b[0m \u001b[0mtrack\u001b[0m\u001b[0;34m=\u001b[0m\u001b[0mtrack\u001b[0m\u001b[0;34m)\u001b[0m\u001b[0;34m]\u001b[0m\u001b[0;34m\u001b[0m\u001b[0;34m\u001b[0m\u001b[0m\n\u001b[0m\u001b[1;32m    492\u001b[0m         \u001b[0;31m# have first part already, only loop while more to receive\u001b[0m\u001b[0;34m\u001b[0m\u001b[0;34m\u001b[0m\u001b[0;34m\u001b[0m\u001b[0m\n",
            "\u001b[0;32mzmq/backend/cython/socket.pyx\u001b[0m in \u001b[0;36mzmq.backend.cython.socket.Socket.recv\u001b[0;34m()\u001b[0m\n",
            "\u001b[0;32mzmq/backend/cython/socket.pyx\u001b[0m in \u001b[0;36mzmq.backend.cython.socket.Socket.recv\u001b[0;34m()\u001b[0m\n",
            "\u001b[0;32mzmq/backend/cython/socket.pyx\u001b[0m in \u001b[0;36mzmq.backend.cython.socket._recv_copy\u001b[0;34m()\u001b[0m\n",
            "\u001b[0;32m/usr/local/lib/python3.6/dist-packages/zmq/backend/cython/checkrc.pxd\u001b[0m in \u001b[0;36mzmq.backend.cython.checkrc._check_rc\u001b[0;34m()\u001b[0m\n",
            "\u001b[0;31mKeyboardInterrupt\u001b[0m: ",
            "\nDuring handling of the above exception, another exception occurred:\n",
            "\u001b[0;31mKeyboardInterrupt\u001b[0m                         Traceback (most recent call last)",
            "\u001b[0;32m<ipython-input-54-1e77c0d448c1>\u001b[0m in \u001b[0;36m<module>\u001b[0;34m()\u001b[0m\n\u001b[1;32m      2\u001b[0m AB=input(r'''A: to the curve \"velocity goes to zero when distance goes to infinity\"\n\u001b[1;32m      3\u001b[0m \u001b[0mB\u001b[0m\u001b[0;34m:\u001b[0m \u001b[0mto\u001b[0m \u001b[0mthe\u001b[0m \u001b[0mcurve\u001b[0m \u001b[0;34m\"velocity goes to high constant when distance goes to infinity\"\u001b[0m\u001b[0;34m\u001b[0m\u001b[0;34m\u001b[0m\u001b[0m\n\u001b[0;32m----> 4\u001b[0;31m ''')\n\u001b[0m\u001b[1;32m      5\u001b[0m \u001b[0mf\u001b[0m\u001b[0;34m.\u001b[0m\u001b[0mwrite\u001b[0m\u001b[0;34m(\u001b[0m \u001b[0;34m'{}\\n'\u001b[0m\u001b[0;34m.\u001b[0m\u001b[0mformat\u001b[0m\u001b[0;34m(\u001b[0m\u001b[0mAB\u001b[0m\u001b[0;34m)\u001b[0m \u001b[0;34m)\u001b[0m\u001b[0;34m\u001b[0m\u001b[0;34m\u001b[0m\u001b[0m\n\u001b[1;32m      6\u001b[0m \u001b[0mf\u001b[0m\u001b[0;34m.\u001b[0m\u001b[0mclose\u001b[0m\u001b[0;34m(\u001b[0m\u001b[0;34m)\u001b[0m\u001b[0;34m\u001b[0m\u001b[0;34m\u001b[0m\u001b[0m\n",
            "\u001b[0;32m/usr/local/lib/python3.6/dist-packages/ipykernel/kernelbase.py\u001b[0m in \u001b[0;36mraw_input\u001b[0;34m(self, prompt)\u001b[0m\n\u001b[1;32m    702\u001b[0m             \u001b[0mself\u001b[0m\u001b[0;34m.\u001b[0m\u001b[0m_parent_ident\u001b[0m\u001b[0;34m,\u001b[0m\u001b[0;34m\u001b[0m\u001b[0;34m\u001b[0m\u001b[0m\n\u001b[1;32m    703\u001b[0m             \u001b[0mself\u001b[0m\u001b[0;34m.\u001b[0m\u001b[0m_parent_header\u001b[0m\u001b[0;34m,\u001b[0m\u001b[0;34m\u001b[0m\u001b[0;34m\u001b[0m\u001b[0m\n\u001b[0;32m--> 704\u001b[0;31m             \u001b[0mpassword\u001b[0m\u001b[0;34m=\u001b[0m\u001b[0;32mFalse\u001b[0m\u001b[0;34m,\u001b[0m\u001b[0;34m\u001b[0m\u001b[0;34m\u001b[0m\u001b[0m\n\u001b[0m\u001b[1;32m    705\u001b[0m         )\n\u001b[1;32m    706\u001b[0m \u001b[0;34m\u001b[0m\u001b[0m\n",
            "\u001b[0;32m/usr/local/lib/python3.6/dist-packages/ipykernel/kernelbase.py\u001b[0m in \u001b[0;36m_input_request\u001b[0;34m(self, prompt, ident, parent, password)\u001b[0m\n\u001b[1;32m    732\u001b[0m             \u001b[0;32mexcept\u001b[0m \u001b[0mKeyboardInterrupt\u001b[0m\u001b[0;34m:\u001b[0m\u001b[0;34m\u001b[0m\u001b[0;34m\u001b[0m\u001b[0m\n\u001b[1;32m    733\u001b[0m                 \u001b[0;31m# re-raise KeyboardInterrupt, to truncate traceback\u001b[0m\u001b[0;34m\u001b[0m\u001b[0;34m\u001b[0m\u001b[0;34m\u001b[0m\u001b[0m\n\u001b[0;32m--> 734\u001b[0;31m                 \u001b[0;32mraise\u001b[0m \u001b[0mKeyboardInterrupt\u001b[0m\u001b[0;34m\u001b[0m\u001b[0;34m\u001b[0m\u001b[0m\n\u001b[0m\u001b[1;32m    735\u001b[0m             \u001b[0;32melse\u001b[0m\u001b[0;34m:\u001b[0m\u001b[0;34m\u001b[0m\u001b[0;34m\u001b[0m\u001b[0m\n\u001b[1;32m    736\u001b[0m                 \u001b[0;32mbreak\u001b[0m\u001b[0;34m\u001b[0m\u001b[0;34m\u001b[0m\u001b[0m\n",
            "\u001b[0;31mKeyboardInterrupt\u001b[0m: "
          ]
        }
      ]
    },
    {
      "cell_type": "code",
      "metadata": {
        "id": "xQ1a6G2ZEZYB"
      },
      "source": [
        "fr=open('trivia_results.txt')\n",
        "print( fr.read())\n",
        "fr.close()"
      ],
      "execution_count": null,
      "outputs": []
    },
    {
      "cell_type": "markdown",
      "metadata": {
        "id": "WsMD7hIjEZYD"
      },
      "source": [
        "os.remove('trivia_results.txt')"
      ]
    },
    {
      "cell_type": "markdown",
      "metadata": {
        "id": "IAYkvn-_EZYD"
      },
      "source": [
        "### Lets us check! "
      ]
    },
    {
      "cell_type": "code",
      "metadata": {
        "id": "JiCl9H_TEZYE"
      },
      "source": [
        "#DATA URL: \n",
        "url='https://raw.githubusercontent.com/restrepo/ComputationalMethods/master/data/NGC7331.csv'\n",
        "df=pd.read_csv(url)\n",
        "df[0:5]"
      ],
      "execution_count": null,
      "outputs": []
    },
    {
      "cell_type": "code",
      "metadata": {
        "id": "HUVw9xGgEZYL"
      },
      "source": [
        "plt.plot(df.r,df.v,'r.')"
      ],
      "execution_count": null,
      "outputs": []
    },
    {
      "cell_type": "markdown",
      "metadata": {
        "id": "by-IQm0uEZYO"
      },
      "source": [
        "Build expected data"
      ]
    },
    {
      "cell_type": "code",
      "metadata": {
        "id": "Hq31R98xEZYP"
      },
      "source": [
        "dff=df[:60]\n",
        "#dff=dff.append(pd.DataFrame( {'r':[5,10],'v':[60,20]} )).reset_index(drop=True) # ,15,20,25,30 ,120,105,100,98\n",
        "#dff=dff.append(pd.DataFrame( {'r':[3.5,4,10],'v':[230,200,20]} )).reset_index(drop=True) # ,15,20,25,30 ,120,105,100,98\n",
        "dff=dff.append(pd.DataFrame( {'r':[3.5,4,9],'v':[230,200,22]} )).reset_index(drop=True) # ,15,20,25,30 ,120,105,100,98"
      ],
      "execution_count": null,
      "outputs": []
    },
    {
      "cell_type": "code",
      "metadata": {
        "id": "ioCe6gC6EZYQ"
      },
      "source": [
        "plt.plot(df['r'],df['v'],'r-')\n",
        "plt.plot(dff.r, dff.v,'b.')"
      ],
      "execution_count": null,
      "outputs": []
    },
    {
      "cell_type": "code",
      "metadata": {
        "id": "CRQDSzoyEZYU"
      },
      "source": [
        "plt.plot(df['r'],1./df['v'],'r-')\n",
        "plt.plot(dff['r'],1./dff['v'],'b.')"
      ],
      "execution_count": null,
      "outputs": []
    },
    {
      "cell_type": "code",
      "metadata": {
        "id": "fA6q4n5XEZYX"
      },
      "source": [
        "coeff=np.polyfit(dff['r'],1./dff['v'],2)\n",
        "P=poly1d(coeff,variable='r')\n",
        "print(P)"
      ],
      "execution_count": null,
      "outputs": []
    },
    {
      "cell_type": "code",
      "metadata": {
        "id": "d0ctfSJmEZYa"
      },
      "source": [
        "r=np.logspace( np.log10(0.001),np.log10(30 ),100 )\n",
        "plt.plot(dff['r'],1./dff['v'],'b.')\n",
        "plt.plot(r,P(r),'k-')"
      ],
      "execution_count": null,
      "outputs": []
    },
    {
      "cell_type": "code",
      "metadata": {
        "id": "efFbUfhoEZYe"
      },
      "source": [
        "plt.plot(df['r'],df['v'],'r-')\n",
        "plt.plot(dff['r'],dff['v'],'b.')\n",
        "plt.plot(r,1/P(r),'k-')"
      ],
      "execution_count": null,
      "outputs": []
    },
    {
      "cell_type": "markdown",
      "metadata": {
        "id": "1la5ZCwrEZYh"
      },
      "source": [
        "- - -"
      ]
    },
    {
      "cell_type": "code",
      "metadata": {
        "id": "yHx9Utbqjz3i"
      },
      "source": [
        "np.log(2)/0.105"
      ],
      "execution_count": null,
      "outputs": []
    },
    {
      "cell_type": "markdown",
      "metadata": {
        "id": "BR6smicNjz3k"
      },
      "source": [
        "###  Logarithmic interpolation\n",
        "See: https://stackoverflow.com/a/29359275/2268280"
      ]
    },
    {
      "cell_type": "markdown",
      "metadata": {
        "id": "VSYozPLFEZYl"
      },
      "source": [
        "# Appendix\n",
        "Thecnical details of interpolation functions: [interpolation_details.ipynb](./interpolation_details.ipynb)"
      ]
    },
    {
      "cell_type": "markdown",
      "metadata": {
        "id": "a0eWpVB3Qq4g"
      },
      "source": [
        "<span style=\"color:blue\">some *blue* text</span>.\n",
        "\n",
        "Hola"
      ]
    },
    {
      "cell_type": "code",
      "metadata": {
        "id": "VbQd-R6eQq4g"
      },
      "source": [
        ""
      ],
      "execution_count": null,
      "outputs": []
    }
  ]
}