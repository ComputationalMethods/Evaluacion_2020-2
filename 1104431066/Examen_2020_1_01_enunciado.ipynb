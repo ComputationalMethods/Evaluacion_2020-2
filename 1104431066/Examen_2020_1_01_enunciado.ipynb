{
  "nbformat": 4,
  "nbformat_minor": 0,
  "metadata": {
    "colab": {
      "name": "Examen_2020_1_01_enunciado.ipynb",
      "provenance": []
    },
    "kernelspec": {
      "display_name": "Python 3",
      "language": "python",
      "name": "python3"
    },
    "language_info": {
      "codemirror_mode": {
        "name": "ipython",
        "version": 3
      },
      "file_extension": ".py",
      "mimetype": "text/x-python",
      "name": "python",
      "nbconvert_exporter": "python",
      "pygments_lexer": "ipython3",
      "version": "3.7.3"
    },
    "toc": {
      "colors": {
        "hover_highlight": "#DAA520",
        "running_highlight": "#FF0000",
        "selected_highlight": "#FFD700"
      },
      "moveMenuLeft": true,
      "nav_menu": {
        "height": "30px",
        "width": "252px"
      },
      "navigate_menu": true,
      "number_sections": true,
      "sideBar": true,
      "threshold": 4,
      "toc_cell": false,
      "toc_section_display": "block",
      "toc_window_display": false
    }
  },
  "cells": [
    {
      "cell_type": "markdown",
      "metadata": {
        "id": "bWVchymOoRBb"
      },
      "source": [
        "# Primer Examen 15%"
      ]
    },
    {
      "cell_type": "markdown",
      "metadata": {
        "id": "cuGCz-DOoRBc"
      },
      "source": [
        "## Ejercicio 1\n",
        "El siguiente url entrega 100 artículos (ver`/work?rows=100` al final del url) de la revista con el ISSN: 1029-8479 correspondiente a \"Journal of High Energy Physics\" en formato JSON usando el API de CrossRef:\n",
        "\n",
        "https://api.crossref.org/journals/1029-8479/works?rows=100\n",
        "\n",
        "La base de datos con los 100 artículos que tambíen se puede cargar en otro DataFrame de Pandas, se encuentra anidada en la celda con fila `'items'` y columna `'messages'` la cual se puede obtener con el método `.loc['items','message']` del DataFrame original.\n",
        "\n",
        "Obtenga la lista de DOIs para los artículos de Alessandro Strumia en esa base de datos anidada"
      ]
    },
    {
      "cell_type": "code",
      "metadata": {
        "id": "34MIwub69-4o"
      },
      "source": [
        "#Importamos librerías \n",
        "import json\n",
        "import requests\n",
        "import numpy as np\n",
        "from scipy import optimize\n",
        "import matplotlib.pyplot as plt"
      ],
      "execution_count": 18,
      "outputs": []
    },
    {
      "cell_type": "code",
      "metadata": {
        "id": "0MNrISc9-Cmk",
        "outputId": "c4adfe32-5cdc-44fa-ab4c-b15584ff9e9e",
        "colab": {
          "base_uri": "https://localhost:8080/",
          "height": 34
        }
      },
      "source": [
        "l = requests.get('https://api.crossref.org/journals/1029-8479/works?rows=100')\n",
        "data = json.loads(l.text)\n",
        "\n",
        "dicts = data['message']['items']\n",
        "\n",
        "dois = []\n",
        "for item in dicts:\n",
        "    for author in item['author']:\n",
        "        if author['given'] == 'Alessandro' and author['family'] == 'Strumia':\n",
        "            dois.append(item['DOI'])\n",
        "\n",
        "print(dois)"
      ],
      "execution_count": 19,
      "outputs": [
        {
          "output_type": "stream",
          "text": [
            "['10.1088/1126-6708/2000/12/016', '10.1088/1126-6708/2001/11/048']\n"
          ],
          "name": "stdout"
        }
      ]
    },
    {
      "cell_type": "markdown",
      "metadata": {
        "id": "E6U6cMUsoRBc"
      },
      "source": [
        "## Ejercicio 2\n",
        "2a) Genere un polinomio de numpy con 7 raices aleatorias entre 1 y 10\n",
        "\n",
        "2b) Encuentre los puntos críticos del polinomio: las raices de la derivada el polinomio.\n",
        "\n",
        "2c) Con alguna de los métodos para encontrar mínimos compruebe que el punto crítico de menor (mayor) valor corresponde al mínimo (máximo) global del polinomio\n",
        "\n",
        "2d) Grafique el polinomío inclueyendo los puntos asociados a las raices."
      ]
    },
    {
      "cell_type": "code",
      "metadata": {
        "id": "IDECcGPXLaBj",
        "outputId": "09a9a02d-3461-415b-fa16-d6c2e6d3f2fc",
        "colab": {
          "base_uri": "https://localhost:8080/",
          "height": 51
        }
      },
      "source": [
        "#a\n",
        "\n",
        "ra = np.random.randint(low=1, high=10, size=7)\n",
        "pol = np.polynomial.polynomial.polyfromroots(ra)\n",
        "\n",
        "print(\"Nuestro polinomio: \",pol[0],\" + \",pol[1],\"x + \",pol[2],\"x^2 + \",pol[3],\"x^3 + \",pol[4],\"x^4 + \",pol[5],\"x^5 + \",pol[6],\"x^6 + \",pol[7],\"x^7\")\n",
        "print(\"Nuestras raices: \",ra)"
      ],
      "execution_count": 22,
      "outputs": [
        {
          "output_type": "stream",
          "text": [
            "Nuestro polinomio:  -279936.0  +  353808.0 x +  -185868.0 x^2 +  52740.0 x^3 +  -8751.0 x^4 +  851.0 x^5 +  -45.0 x^6 +  1.0 x^7\n",
            "Nuestras raices:  [9 3 9 4 6 8 6]\n"
          ],
          "name": "stdout"
        }
      ]
    },
    {
      "cell_type": "code",
      "metadata": {
        "id": "drq0m_Rx-2cg",
        "outputId": "8ff4d4f9-5d0d-4728-9100-ebf23a3065ce",
        "colab": {
          "base_uri": "https://localhost:8080/",
          "height": 68
        }
      },
      "source": [
        "#b\n",
        "\n",
        "p = np.poly1d(pol[::-1])\n",
        "\n",
        "deriva = p.deriv()\n",
        "print(\"Derivada del polinomio: \\n\",deriva)"
      ],
      "execution_count": 37,
      "outputs": [
        {
          "output_type": "stream",
          "text": [
            "Derivada del polinomio: \n",
            "    6       5        4           3             2\n",
            "7 x - 270 x + 4255 x - 3.5e+04 x + 1.582e+05 x - 3.717e+05 x + 3.538e+05\n"
          ],
          "name": "stdout"
        }
      ]
    },
    {
      "cell_type": "code",
      "metadata": {
        "id": "L3Jpr27e_FK5",
        "outputId": "0cddf716-033c-47b2-f67c-affae0768061",
        "colab": {
          "base_uri": "https://localhost:8080/",
          "height": 34
        }
      },
      "source": [
        "raices_der = deriva.r\n",
        "print(\"Nuestros puntos criticos: \", raices_der)"
      ],
      "execution_count": 38,
      "outputs": [
        {
          "output_type": "stream",
          "text": [
            "Nuestros puntos criticos:  [9.         8.43415264 7.16097061 6.         4.62676922 3.3495361 ]\n"
          ],
          "name": "stdout"
        }
      ]
    },
    {
      "cell_type": "code",
      "metadata": {
        "id": "mJfHQMjc_mKh",
        "outputId": "3c0e8758-c9b9-485d-d143-b248f85e047d",
        "colab": {
          "base_uri": "https://localhost:8080/",
          "height": 34
        }
      },
      "source": [
        "#c\n",
        "\n",
        "def f(x):\n",
        "  return p.__call__(x)\n",
        "\n",
        "res = optimize.minimize_scalar(f, bounds=(1, 10), method='bounded')\n",
        "print(res.x)"
      ],
      "execution_count": 30,
      "outputs": [
        {
          "output_type": "stream",
          "text": [
            "4.626771098468283\n"
          ],
          "name": "stdout"
        }
      ]
    },
    {
      "cell_type": "markdown",
      "metadata": {
        "id": "a_0IWUnOAzGk"
      },
      "source": [
        "Valor mínimo"
      ]
    },
    {
      "cell_type": "code",
      "metadata": {
        "id": "26o4XbhU_y3l",
        "outputId": "df4ea6c1-96ba-4ce3-de69-8fdd13263d9f",
        "colab": {
          "base_uri": "https://localhost:8080/",
          "height": 592
        }
      },
      "source": [
        "#d\n",
        "\n",
        "x = np.linspace(1,10,50)\n",
        "\n",
        "plt.figure(figsize=(10,10))\n",
        "plt.plot(x,p.__call__(x))\n",
        "plt.plot(ra,[0,0,0,0,0,0,0],\"go\")\n",
        "plt.grid()\n",
        "plt.show()"
      ],
      "execution_count": 35,
      "outputs": [
        {
          "output_type": "display_data",
          "data": {
            "image/png": "[encoded data removed]",
            "text/plain": [
              "<Figure size 720x720 with 1 Axes>"
            ]
          },
          "metadata": {
            "tags": [],
            "needs_background": "light"
          }
        }
      ]
    }
  ]
}