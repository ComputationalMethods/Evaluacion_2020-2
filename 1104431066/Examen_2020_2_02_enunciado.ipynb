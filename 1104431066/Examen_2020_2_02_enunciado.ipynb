{
  "nbformat": 4,
  "nbformat_minor": 0,
  "metadata": {
    "colab": {
      "name": "Examen_2020_2_02_enunciado.ipynb",
      "provenance": []
    },
    "kernelspec": {
      "display_name": "Python 3",
      "language": "python",
      "name": "python3"
    },
    "language_info": {
      "codemirror_mode": {
        "name": "ipython",
        "version": 3
      },
      "file_extension": ".py",
      "mimetype": "text/x-python",
      "name": "python",
      "nbconvert_exporter": "python",
      "pygments_lexer": "ipython3",
      "version": "3.7.3"
    }
  },
  "cells": [
    {
      "cell_type": "markdown",
      "metadata": {
        "id": "CN-nz6iCZVao"
      },
      "source": [
        "I) The period of a pendulum of length l oscillating at a large angle $\\alpha$ is given by\n",
        "$$\n",
        "T=T_{0} \\frac{\\sqrt{2}}{\\pi} \\int_{0}^{\\alpha} \\frac{d \\theta}{(\\cos \\theta-\\cos \\alpha)^{\\frac{1}{2}}}\n",
        "$$\n",
        "where\n",
        "$$\n",
        "T_{0}=2 \\pi \\sqrt{\\frac{l}{g}}\n",
        "$$\n",
        "is the period of the same pendulum at small amplitudes. Any numerical evaluation of the integral as is would fail (explain why). If we change the variable by writing:\n",
        "$$\n",
        "\\sin \\frac{\\theta}{2}=\\sin \\frac{\\alpha}{2} \\sin \\phi\n",
        "$$\n",
        "we can get:\n",
        "$$\n",
        "T=\\frac{2 T_{0}}{\\pi} \\int_{0}^{\\frac{\\pi}{2}} \\frac{d \\phi}{\\left(1-\\sin ^{2} \\frac{\\alpha}{2} \\sin ^{2} \\phi\\right)^{\\frac{1}{2}}}\n",
        "$$\n",
        "which is a well-behaved integral. Write a program to use the above integral to calculate the ratio $T/T_0$ for integral amplitudes $0^\\circ \\le\\alpha \\le 90^\\circ$. Output these values as a pandas dataframe showing the amplitude in degrees and radians as well as $T/T_0$, and make a plot with the two columns. Explain the result when $\\alpha = 0.$ "
      ]
    },
    {
      "cell_type": "code",
      "metadata": {
        "id": "4Moc_vbem1kG"
      },
      "source": [
        "import numpy as np\n",
        "import pandas as pd\n",
        "import matplotlib.pyplot as plt\n",
        "from scipy import integrate\n",
        "import sympy as sp"
      ],
      "execution_count": 11,
      "outputs": []
    },
    {
      "cell_type": "code",
      "metadata": {
        "id": "C3zYEkkdm8Wa"
      },
      "source": [
        "#Para ángulos en radianes \n",
        "x = np.linspace(0,np.pi/2)\n",
        "\n",
        "#Para ángulos en grados\n",
        "x_deg = x*180/np.pi "
      ],
      "execution_count": 12,
      "outputs": []
    },
    {
      "cell_type": "code",
      "metadata": {
        "id": "ivlZbb-RnBvY"
      },
      "source": [
        "#Integramos \n",
        "\n",
        "#Primero damos un rango de límites de integración\n",
        "a = 0 #Límite superior \n",
        "b = np.pi/2 #Límite inferior\n",
        "\n",
        "def g(x, a, b):\n",
        "  d = np.sin(0.5*x)\n",
        "  return integrate.quad(lambda x: 1/(1 - d**2 * np.sin(x)**2)**0.5 , a, b)[0]\n",
        "\n",
        "#En este punto se evalúa la integral para cada ángulo\n",
        "integ = np.zeros(len(x))\n",
        "\n",
        "for i in range(0, len(x)):\n",
        "  integ[i] = g(x[i], a, b)\n",
        "\n",
        "#Aquí calculamos el T/T0\n",
        "T_T_0 = (2/np.pi)*integ"
      ],
      "execution_count": 22,
      "outputs": []
    },
    {
      "cell_type": "code",
      "metadata": {
        "id": "qkqUV8bvqBa-",
        "outputId": "8c17fc6b-8231-474d-b3d3-df58f1f778a7",
        "colab": {
          "base_uri": "https://localhost:8080/",
          "height": 235
        }
      },
      "source": [
        "#Para el DataFrame\n",
        "\n",
        "df = pd.DataFrame({'Ángulo-grados': x_deg, 'Ángulo-radianes': x, 'T/T0':T_T_0})\n",
        "df[:6]"
      ],
      "execution_count": 27,
      "outputs": [
        {
          "output_type": "execute_result",
          "data": {
            "text/html": [
              "<div>\n",
              "<style scoped>\n",
              "    .dataframe tbody tr th:only-of-type {\n",
              "        vertical-align: middle;\n",
              "    }\n",
              "\n",
              "    .dataframe tbody tr th {\n",
              "        vertical-align: top;\n",
              "    }\n",
              "\n",
              "    .dataframe thead th {\n",
              "        text-align: right;\n",
              "    }\n",
              "</style>\n",
              "<table border=\"1\" class=\"dataframe\">\n",
              "  <thead>\n",
              "    <tr style=\"text-align: right;\">\n",
              "      <th></th>\n",
              "      <th>Ángulo-grados</th>\n",
              "      <th>Ángulo-radianes</th>\n",
              "      <th>T/T0</th>\n",
              "    </tr>\n",
              "  </thead>\n",
              "  <tbody>\n",
              "    <tr>\n",
              "      <th>0</th>\n",
              "      <td>0.000000</td>\n",
              "      <td>0.000000</td>\n",
              "      <td>1.000000</td>\n",
              "    </tr>\n",
              "    <tr>\n",
              "      <th>1</th>\n",
              "      <td>1.836735</td>\n",
              "      <td>0.032057</td>\n",
              "      <td>1.000064</td>\n",
              "    </tr>\n",
              "    <tr>\n",
              "      <th>2</th>\n",
              "      <td>3.673469</td>\n",
              "      <td>0.064114</td>\n",
              "      <td>1.000257</td>\n",
              "    </tr>\n",
              "    <tr>\n",
              "      <th>3</th>\n",
              "      <td>5.510204</td>\n",
              "      <td>0.096171</td>\n",
              "      <td>1.000578</td>\n",
              "    </tr>\n",
              "    <tr>\n",
              "      <th>4</th>\n",
              "      <td>7.346939</td>\n",
              "      <td>0.128228</td>\n",
              "      <td>1.001029</td>\n",
              "    </tr>\n",
              "    <tr>\n",
              "      <th>5</th>\n",
              "      <td>9.183673</td>\n",
              "      <td>0.160285</td>\n",
              "      <td>1.001608</td>\n",
              "    </tr>\n",
              "  </tbody>\n",
              "</table>\n",
              "</div>"
            ],
            "text/plain": [
              "   Ángulo-grados  Ángulo-radianes      T/T0\n",
              "0       0.000000         0.000000  1.000000\n",
              "1       1.836735         0.032057  1.000064\n",
              "2       3.673469         0.064114  1.000257\n",
              "3       5.510204         0.096171  1.000578\n",
              "4       7.346939         0.128228  1.001029\n",
              "5       9.183673         0.160285  1.001608"
            ]
          },
          "metadata": {
            "tags": []
          },
          "execution_count": 27
        }
      ]
    },
    {
      "cell_type": "code",
      "metadata": {
        "id": "R7Pv1BJBrS--",
        "outputId": "42e40aaa-b933-4569-f0dc-08087bb7f284",
        "colab": {
          "base_uri": "https://localhost:8080/",
          "height": 285
        }
      },
      "source": [
        "#Realizamos la gráfica \n",
        "\n",
        "plt.plot(x, T_T_0,'y--')\n",
        "plt.xlabel('$Ángulo$ $en$ $Radianes$ $(θ)$')\n",
        "plt.ylabel('$Relación$ $(\\dfrac{T}{T_0}$)')\n",
        "plt.grid()"
      ],
      "execution_count": 36,
      "outputs": [
        {
          "output_type": "display_data",
          "data": {
            "image/png": "[encoded data removed]",
            "text/plain": [
              "<Figure size 432x288 with 1 Axes>"
            ]
          },
          "metadata": {
            "tags": [],
            "needs_background": "light"
          }
        }
      ]
    },
    {
      "cell_type": "markdown",
      "metadata": {
        "id": "kUi_GHnPsCXZ"
      },
      "source": [
        "Vemos que cuando el ángulo es igual a cero, el periodo no cambia.\n",
        "Cabe anotar que esta relación es válida sólo para ángulos pequeños."
      ]
    },
    {
      "cell_type": "markdown",
      "metadata": {
        "id": "Bc1wXQwxZVap"
      },
      "source": [
        "II)\n",
        "### Casas-Ibarra parameterization\n",
        "Consider a $n\\times n$ symmetric matrix $A$. We can assumme without lost of generality that this can be generated from a matrix $Y$ such that\n",
        "$$\n",
        "A=Y^{\\operatorname{T}}Y\n",
        "$$\n",
        "Theorem 1 gurantees that exists an ortogonal matrix $U$ such that\n",
        "$$\n",
        "U^{\\operatorname{T}} A U=U^{\\operatorname{T}} Y^{\\operatorname{T}}Y U=D_\\lambda\n",
        "$$\n",
        "where\n",
        "$$\n",
        "D_{\\lambda}=A_{\\text{diag}}=\\operatorname{diag}\\left(\\lambda_1,\\lambda_2,\\ldots,\\lambda_n\\right)\n",
        "$$\n",
        "where $\\lambda_i$ are the eigenvalues of $A$. Therefore\n",
        "\\begin{align}\n",
        " Y^{\\operatorname{T}}Y =&U D_\\lambda U^{\\operatorname{T}}\\\\\n",
        " =&U D_{\\sqrt{\\lambda}} D_{\\sqrt{\\lambda}} U^{\\operatorname{T}}\\\\\n",
        "\\end{align}\n",
        "where\n",
        "$$\n",
        "D_{\\sqrt{\\lambda}}=\\operatorname{diag}\\left(\\sqrt{\\lambda_1},\\sqrt{\\lambda_2},\\ldots \\sqrt{\\lambda_n}\\right)\n",
        "$$\n",
        "Therefore, exists an ortogonal arbitrary matrix $R$, such that\n",
        "$$\n",
        " Y^{\\operatorname{T}}Y =U D_{\\sqrt{\\lambda}}R^{\\operatorname{T}}R D_{\\sqrt{\\lambda}} U^{\\operatorname{T}}\\\\\n",
        "$$\n",
        "\n",
        "In this way, the matrix $Y$ can be parameterized in terms of $R$ as\n",
        "$$\n",
        "Y=R D_{\\sqrt{\\lambda}} U^{\\operatorname{T}}\n",
        "$$\n",
        "\n",
        "\n",
        "1) By using the previous equations, build a matrix $Y$ $2\\times 2$ with the following conditions\n",
        "* $R$ is an orthogonal matrix with a mixing angle as a random number between $(0,2\\pi)$. Use your identification number as the seed of the random number generator.\n",
        "* The eigenvalues are $\\lambda_1=2$ and $\\lambda_2=4$. \n",
        "* $U$ is a diagonalization matrix with mixing angle $\\pi/4$\n",
        "\n",
        "2) Build the matrix $A$ and check that has the proper eigenvalues and eigenvectors"
      ]
    },
    {
      "cell_type": "code",
      "metadata": {
        "id": "B5acdqVIxOQt"
      },
      "source": [
        "sp.init_printing()"
      ],
      "execution_count": 54,
      "outputs": []
    },
    {
      "cell_type": "code",
      "metadata": {
        "id": "rwaVY97AtQVL",
        "outputId": "0ad647c8-63ff-4fb4-fcbf-5d5ec77929e9",
        "colab": {
          "base_uri": "https://localhost:8080/",
          "height": 37
        }
      },
      "source": [
        "#Primero obtendremos el ángulo de mezcla\n",
        "np.random.seed(1001030700) \n",
        "x = np.random.uniform(0,2*np.pi)\n",
        "x"
      ],
      "execution_count": 55,
      "outputs": [
        {
          "output_type": "execute_result",
          "data": {
            "image/png": "[encoded data removed]",
            "text/latex": "$$6.214506644094317$$",
            "text/plain": [
              "6.214506644094317"
            ]
          },
          "metadata": {
            "tags": []
          },
          "execution_count": 55
        }
      ]
    },
    {
      "cell_type": "code",
      "metadata": {
        "id": "NCVrtPv6vLdb",
        "outputId": "e2c422c0-2dd1-4a16-be52-c7b6fc981221",
        "colab": {
          "base_uri": "https://localhost:8080/",
          "height": 58
        }
      },
      "source": [
        "#Ahora definimos las matrices\n",
        "\n",
        "y = np.diag([2,4]) #Matriz - Autovalores\n",
        "z = np.sqrt(y) #Matriz - Raiz autovalores\n",
        "\n",
        "U = np.array([[np.cos(np.pi/4), -np.sin(np.pi/4)],[np.sin(np.pi/4), np.cos(np.pi/4)]])\n",
        "R = np.array([[np.cos(x), -np.sin(x)],[np.sin(x), np.cos(x)]])\n",
        "\n",
        "#Valor de Y\n",
        "Y = np.dot( R, np.dot(R, np.transpose(U)) )\n",
        "sp.Matrix(Y)"
      ],
      "execution_count": 56,
      "outputs": [
        {
          "output_type": "execute_result",
          "data": {
            "text/latex": "$$\\left[\\begin{matrix}0.603625587542606 & 0.797267928656261\\\\-0.797267928656261 & 0.603625587542606\\end{matrix}\\right]$$",
            "text/plain": [
              "⎡0.603625587542606   0.797267928656261⎤\n",
              "⎢                                     ⎥\n",
              "⎣-0.797267928656261  0.603625587542606⎦"
            ]
          },
          "metadata": {
            "tags": []
          },
          "execution_count": 56
        }
      ]
    },
    {
      "cell_type": "code",
      "metadata": {
        "id": "cIczHUcLvwSp",
        "outputId": "099d0fff-bc9e-4bc2-95c7-bba875877721",
        "colab": {
          "base_uri": "https://localhost:8080/",
          "height": 58
        }
      },
      "source": [
        "#Ahora calculamos A\n",
        "A = np.dot(np.transpose(Y), Y)\n",
        "sp.Matrix((A))"
      ],
      "execution_count": 57,
      "outputs": [
        {
          "output_type": "execute_result",
          "data": {
            "text/latex": "$$\\left[\\begin{matrix}1.0 & -2.04408282505857 \\cdot 10^{-17}\\\\-2.04408282505857 \\cdot 10^{-17} & 1.0\\end{matrix}\\right]$$",
            "text/plain": [
              "⎡         1.0           -2.04408282505857e-17⎤\n",
              "⎢                                            ⎥\n",
              "⎣-2.04408282505857e-17           1.0         ⎦"
            ]
          },
          "metadata": {
            "tags": []
          },
          "execution_count": 57
        }
      ]
    },
    {
      "cell_type": "code",
      "metadata": {
        "id": "XdRM4SB3wDev",
        "outputId": "ee25a4e5-ef67-4916-f426-3fbf577bcf30",
        "colab": {
          "base_uri": "https://localhost:8080/",
          "height": 58
        }
      },
      "source": [
        "#Lo siguiente es hallar los autovectores y autovalores de A\n",
        "E, e = np.linalg.eig(A)\n",
        "\n",
        "#Autovectores\n",
        "sp.Matrix(e.round(7))"
      ],
      "execution_count": 58,
      "outputs": [
        {
          "output_type": "execute_result",
          "data": {
            "text/latex": "$$\\left[\\begin{matrix}0.7071068 & -0.7071068\\\\0.7071068 & 0.7071068\\end{matrix}\\right]$$",
            "text/plain": [
              "⎡0.7071068  -0.7071068⎤\n",
              "⎢                     ⎥\n",
              "⎣0.7071068  0.7071068 ⎦"
            ]
          },
          "metadata": {
            "tags": []
          },
          "execution_count": 58
        }
      ]
    },
    {
      "cell_type": "code",
      "metadata": {
        "id": "y2sgyAG2wbSv",
        "outputId": "5f24701c-47d8-4e8a-f409-19d46de23b35",
        "colab": {
          "base_uri": "https://localhost:8080/",
          "height": 58
        }
      },
      "source": [
        "#Autovalores\n",
        "sp.Matrix(np.diag(E) )"
      ],
      "execution_count": 59,
      "outputs": [
        {
          "output_type": "execute_result",
          "data": {
            "text/latex": "$$\\left[\\begin{matrix}1.0 & 0.0\\\\0.0 & 1.0\\end{matrix}\\right]$$",
            "text/plain": [
              "⎡1.0  0.0⎤\n",
              "⎢        ⎥\n",
              "⎣0.0  1.0⎦"
            ]
          },
          "metadata": {
            "tags": []
          },
          "execution_count": 59
        }
      ]
    },
    {
      "cell_type": "code",
      "metadata": {
        "id": "_xh2NkqTwrse",
        "outputId": "e6334bf6-70f1-423c-970e-7d6058ac10cc",
        "colab": {
          "base_uri": "https://localhost:8080/"
        }
      },
      "source": [
        "np.dot(e,np.dot(np.diag(E), e.transpose()))"
      ],
      "execution_count": 60,
      "outputs": [
        {
          "output_type": "execute_result",
          "data": {
            "text/plain": [
              "array([[ 1.00000000e+00, -2.23711432e-17],\n",
              "       [-2.23711432e-17,  1.00000000e+00]])"
            ]
          },
          "metadata": {
            "tags": []
          },
          "execution_count": 60
        }
      ]
    },
    {
      "cell_type": "markdown",
      "metadata": {
        "id": "Gu6x6ZEcwviD"
      },
      "source": [
        "Podemos corroborar la certeza de la matriz notando que corresponden a los mismos valores que calculamos en A"
      ]
    }
  ]
}