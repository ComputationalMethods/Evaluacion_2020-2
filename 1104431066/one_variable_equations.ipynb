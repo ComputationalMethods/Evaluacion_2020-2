{
  "nbformat": 4,
  "nbformat_minor": 0,
  "metadata": {
    "colab": {
      "name": "one-variable-equations.ipynb",
      "provenance": []
    },
    "kernelspec": {
      "display_name": "Python 3",
      "language": "python",
      "name": "python3"
    },
    "language_info": {
      "codemirror_mode": {
        "name": "ipython",
        "version": 3
      },
      "file_extension": ".py",
      "mimetype": "text/x-python",
      "name": "python",
      "nbconvert_exporter": "python",
      "pygments_lexer": "ipython3",
      "version": "3.7.3"
    },
    "toc": {
      "colors": {
        "hover_highlight": "#DAA520",
        "running_highlight": "#FF0000",
        "selected_highlight": "#FFD700"
      },
      "moveMenuLeft": true,
      "nav_menu": {
        "height": "426px",
        "width": "252px"
      },
      "navigate_menu": true,
      "number_sections": true,
      "sideBar": true,
      "threshold": 4,
      "toc_cell": false,
      "toc_section_display": "block",
      "toc_window_display": false
    }
  },
  "cells": [
    {
      "cell_type": "markdown",
      "metadata": {
        "colab_type": "text",
        "id": "cx_2LAjUw7VH"
      },
      "source": [
        "<a href=\"https://colab.research.google.com/github/restrepo/ComputationalMethods/blob/master/material/one-variable-equations.ipynb\" target=\"_parent\"><img src=\"https://colab.research.google.com/assets/colab-badge.svg\" alt=\"Open In Colab\"/></a>\n",
        "\n",
        "# One Variable Equations\n",
        "<a href=\"https://colab.research.google.com/github/restrepo/ComputationalMethods/blob/master/material/one-variable-equations.ipynb\" target=\"_parent\"><img src=\"https://colab.research.google.com/assets/colab-badge.svg\" alt=\"Open In Colab\"/></a>\n",
        "\n",
        "Throughout this section and the next ones we shall cover the topic of solutions to one variable equations. Many different problems in physics and astronomy require the use of complex expressions, even with implicit dependence of variables. When it is necessary to solve for one of those variable, an analytical approach is not usually the best solution, because of its complexity or even because it does not exist at all. Different approaches for dealing with this comprehend series expansions and numerical solutions. Among the most widely used numerical approaches are the Bisection or Binary-search method, fixed-point iteration, Newton's methods.\n",
        "\n",
        "For further details see for example Chap. 5 of Ref. ([1](../index.ipynb#Bibliography)) or Chap. 4 of Ref. ([3](../index.ipynb#Bibliography))\n"
      ]
    },
    {
      "cell_type": "markdown",
      "metadata": {
        "colab_type": "text",
        "id": "sExxbMPEw7VM"
      },
      "source": [
        "- - -\n",
        "- [Bisection Method](#Bisection-Method) \n",
        "    - [Steps](#Steps-BM)\n",
        "    - [Stop condition](#Stop-condition-BM)\n",
        "    - [Error analysis](#Error-analysis-BM)\n",
        "    - [Example 1](#Example-1)\n",
        "    - [Example 2](#Example-2)\n",
        "- [Fixed-point Iteration](./one-variable-equations-fixed-point.ipynb#Fixed-point-Iteration)\n",
        "    - [Steps](./one-variable-equations-fixed-point.ipynb#Steps-FP)\n",
        "    - [Example 3](./one-variable-equations-fixed-point.ipynb#Example-3)\n",
        "    - [Stop condition](./one-variable-equations-fixed-point.ipynb#Stop-condition-FP)\n",
        "    - [Example 4](./one-variable-equations-fixed-point.ipynb#Example-4)\n",
        "    - [Activity](./one-variable-equations-fixed-point.ipynb#ACTIVITY-FP)\n",
        "- [Newton-Raphson Method](./one-variable-equations-fixed-point.ipynb#Newton-Raphson-Method)\n",
        "    - [Derivation](./one-variable-equations-fixed-point.ipynb#Derivation-NM)\n",
        "    - [Steps](./one-variable-equations-fixed-point.ipynb#Steps-NM)\n",
        "    - [Example 5](./one-variable-equations-fixed-point.ipynb#Example-5)\n",
        "    - [Stop condition](./one-variable-equations-fixed-point.ipynb#Stop-condition-NM)\n",
        "    - [Convergence](./one-variable-equations-fixed-point.ipynb#Convergence-NM)\n",
        "- [Secant Method](./one-variable-equations-fixed-point.ipynb#Secant-Method)\n",
        "    - [Derivation](./one-variable-equations-fixed-point.ipynb#Derivation-SM)\n",
        "    - [Steps](./one-variable-equations-fixed-point.ipynb#Steps-SM)\n",
        "\n",
        "- - -\n",
        "## Bibliography\n",
        "[1] [Kiusalaas, Numerical Methods in Engineering with Python](https://drive.google.com/file/d/0BxoOXsn2EUNIQUdFVkctR2xWRUk/view?usp=sharing)<br/>\n",
        "[2] [Jensen, Computational_Physics](https://drive.google.com/file/d/0BxoOXsn2EUNIekRUMFVPYXVsSTg/view?usp=sharing).  Companion repos: https://github.com/mhjensen [Web page](http://compphysics.github.io/ComputationalPhysics/doc/web/course)  <br/>\n",
        "[3] E. Ayres, [Computational Physics With Python](http://bit.ly/CPwPython)<br/>\n"
      ]
    },
    {
      "cell_type": "code",
      "metadata": {
        "colab_type": "code",
        "id": "GD4z2RTZw7VN",
        "colab": {
          "base_uri": "https://localhost:8080/",
          "height": 85
        },
        "outputId": "d123ecb8-7fc1-4305-f47b-3afdd5f72f61"
      },
      "source": [
        "%pylab inline\n",
        "rc('animation', html='jshtml')"
      ],
      "execution_count": 71,
      "outputs": [
        {
          "output_type": "stream",
          "text": [
            "Populating the interactive namespace from numpy and matplotlib\n"
          ],
          "name": "stdout"
        },
        {
          "output_type": "stream",
          "text": [
            "/usr/local/lib/python3.6/dist-packages/IPython/core/magics/pylab.py:161: UserWarning: pylab import has clobbered these variables: ['info', 'f']\n",
            "`%matplotlib` prevents importing * from pylab and numpy\n",
            "  \"\\n`%matplotlib` prevents importing * from pylab and numpy\"\n"
          ],
          "name": "stderr"
        }
      ]
    },
    {
      "cell_type": "markdown",
      "metadata": {
        "colab_type": "text",
        "id": "FY0-QkUnw7VS"
      },
      "source": [
        "JSAnimation import available at https://github.com/jakevdp/JSAnimation"
      ]
    },
    {
      "cell_type": "code",
      "metadata": {
        "colab_type": "code",
        "id": "5rHmuj6mw7VT",
        "colab": {}
      },
      "source": [
        "#from JSAnimation import IPython_display\n",
        "from matplotlib import animation"
      ],
      "execution_count": 72,
      "outputs": []
    },
    {
      "cell_type": "code",
      "metadata": {
        "colab_type": "code",
        "id": "zM--Q1_nw7VX",
        "colab": {}
      },
      "source": [
        "import numpy as np\n",
        "\n",
        "\n",
        "from scipy import integrate\n",
        "from scipy import optimize"
      ],
      "execution_count": 73,
      "outputs": []
    },
    {
      "cell_type": "markdown",
      "metadata": {
        "colab_type": "text",
        "id": "_45Zy-RWw7Vb"
      },
      "source": [
        "- - - "
      ]
    },
    {
      "cell_type": "markdown",
      "metadata": {
        "colab_type": "text",
        "id": "RNEo8n--w7Vc"
      },
      "source": [
        "# Bisection Method"
      ]
    },
    {
      "cell_type": "markdown",
      "metadata": {
        "colab_type": "text",
        "id": "2ZgAUxxyw7Vf"
      },
      "source": [
        "The Bisection method exploits the [intermediate value theorem](http://en.wikipedia.org/wiki/Intermediate_value_theorem), where a continuous and differentiable function $f$ must have a zero between an interval $[a,b]$ such that $f(a)f(b)<0$, or equivalently, there must be a value $p\\in[a,b]$ such that $f(p)=0$. Below the algorithmm is stated explicitly."
      ]
    },
    {
      "cell_type": "markdown",
      "metadata": {
        "colab_type": "text",
        "id": "tCrKSgUrw7Vh"
      },
      "source": [
        "## Steps BM"
      ]
    },
    {
      "cell_type": "markdown",
      "metadata": {
        "colab_type": "text",
        "id": "8uRIVSQOw7Vj"
      },
      "source": [
        "<div style=\"float: right;\" markdown=\"1\">\n",
        "    <img src=\"http://upload.wikimedia.org/wikipedia/commons/thumb/8/8c/Bisection_method.svg/300px-Bisection_method.svg.png\">\n",
        "</div>\n",
        "\n",
        "\n",
        "1. There must be selected two values $a$ and $b$ such that $f(a)f(b)<0$ and $p\\in[a,b]$ where $f(p)=0$. In other words, though we do not know the value of the root, we must know that there is at least one within the selected interval.\n",
        "\n",
        "2. To begin, it must be set $a_1=a$ and $b_1=b$.\n",
        "\n",
        "3. Calculate the mid-point $p_1$ as\n",
        "\n",
        "    $$p_1 = a_1 + \\frac{b_1-a_1}{2} = \\frac{a_1+b_1}{2}$$\n",
        "\n",
        "4. Evaluate the function in $p_1$, if the [stop condition](#Stop-Condition) is true, go to step 6.\n",
        "\n",
        "5. If the [stop condition](#Stop-Condition) is not satisfied, then:\n",
        "\n",
        "    1. If $f(p_1)f(a_1) > 0$, $p\\in(p_1,b_1)$. Then set $a_2=p_1$ and $b_2=b_1$\n",
        "\n",
        "    2. If $f(p_1)f(a_1) < 0$, $p\\in(a_1,p_1)$. Then set $a_2=a_1$ and $b_2=p_1$\n",
        "\n",
        "    3. Go to step 3 using $p_2$, $a_2$ and $b_2$ instead of $p_1$, $a_1$ and $b_1$. For next iterations the index increases until the [stop condition](#Stop-Condition) is reached.\n",
        "\n",
        "6. The End!"
      ]
    },
    {
      "cell_type": "markdown",
      "metadata": {
        "colab_type": "text",
        "id": "7uoUfZn9w7Vk"
      },
      "source": [
        "## Stop condition BM"
      ]
    },
    {
      "cell_type": "markdown",
      "metadata": {
        "colab_type": "text",
        "id": "qtHv5IGIw7Vl"
      },
      "source": [
        "There are several different stop conditions for this algorithm. The most used are stated below:\n",
        "\n",
        "* A fixed distance between the last two steps (absolute convergence):\n",
        "\n",
        "    $$|p_i - p_{i-1}|<\\epsilon$$\n",
        "\n",
        "* A fixed relative distance between the last two steps (relative convergence):\n",
        "\n",
        "    $$\\frac{|p_i - p_{i-1}|}{|p_i|}<\\epsilon\\ \\ \\ \\ \\ p_i \\neq 0$$\n",
        "\n",
        "* Function tolerance:\n",
        "\n",
        "    $$f(p_i)< \\epsilon$$\n",
        "\n",
        "All these conditions should lead to a desired convergence expressed by the $\\epsilon$ value. However, the first and the third conditions present some problems when the function has a derivative very large or close to $0$ as evaluated in the root value. When the function is very inclined, the first condition fails as a convergence in the $x$ axis does not guarantee a convergence in the $y$ axis, so the found root $p$ may be far from the real value. When the function is very flat ($dF/dx\\rightarrow 0$), the third condition fails due to an analogous reason.\n",
        "\n",
        "A final stop condition which does not have mathematical motivation but a computational one, is a maximum number of allowed iterations. This condition should be used not only for this algorithm but for all iteration-based numerical methods. This condition guarantees a finite computing time and prevents undesired infinite bucles.\n",
        "\n",
        "* If $N>N_{max}$, stop!"
      ]
    },
    {
      "cell_type": "markdown",
      "metadata": {
        "colab_type": "text",
        "id": "nBQBHO23w7Vm"
      },
      "source": [
        "## Error analysis BM"
      ]
    },
    {
      "cell_type": "markdown",
      "metadata": {
        "colab_type": "text",
        "id": "2u-a2qPOw7Vn"
      },
      "source": [
        "If we suppose $f\\in C[a,b]$ and $f(a)f(b)<0$, the Bisection method generates a sequence of numbers $\\left\\{p_i\\right\\}_{i=1}^\\infty$ approximating a root $p$ of $f$ as:\n",
        "\n",
        "$$|p_i-p|\\leq \\frac{b-a}{2^n},\\ \\ \\ \\ \\ i\\geq 1$$\n",
        "\n",
        "From this, we can conclude the convergence rate of the method is\n",
        "\n",
        "$$p_i = p + \\mathcal{O}\\left( \\frac{1}{2^i} \\right)$$\n",
        "\n",
        "This expression allows us to estimate the maximum number of required iterations for achieving a desired precision. The next figure sketches the number of iterations required for some precision."
      ]
    },
    {
      "cell_type": "code",
      "metadata": {
        "colab_type": "code",
        "id": "OsQu8x8Jw7Vo",
        "colab": {}
      },
      "source": [
        "import time"
      ],
      "execution_count": 74,
      "outputs": []
    },
    {
      "cell_type": "code",
      "metadata": {
        "colab_type": "code",
        "id": "NRO_1bQGw7Vt",
        "colab": {
          "base_uri": "https://localhost:8080/",
          "height": 34
        },
        "outputId": "3eb66c63-8006-4b16-96ee-195d814d27cb"
      },
      "source": [
        "i=np.arange( 1, 100)\n",
        "i[:3]"
      ],
      "execution_count": 75,
      "outputs": [
        {
          "output_type": "execute_result",
          "data": {
            "text/plain": [
              "array([1, 2, 3])"
            ]
          },
          "metadata": {
            "tags": []
          },
          "execution_count": 75
        }
      ]
    },
    {
      "cell_type": "code",
      "metadata": {
        "colab_type": "code",
        "id": "Uf5JCpRuw7Vy",
        "colab": {}
      },
      "source": [
        "# plt.plot( x,y  ) # points joined with straight lines "
      ],
      "execution_count": 76,
      "outputs": []
    },
    {
      "cell_type": "code",
      "metadata": {
        "colab_type": "code",
        "id": "j02SkcI1w7V4",
        "colab": {
          "base_uri": "https://localhost:8080/",
          "height": 282
        },
        "outputId": "2150b5e2-8836-4505-e2af-b29b04050c72"
      },
      "source": [
        "# 1/2**i → exp2(-i)\n",
        "plt.plot(i,np.exp2(-i))"
      ],
      "execution_count": 77,
      "outputs": [
        {
          "output_type": "execute_result",
          "data": {
            "text/plain": [
              "[<matplotlib.lines.Line2D at 0x7fa2af8f7160>]"
            ]
          },
          "metadata": {
            "tags": []
          },
          "execution_count": 77
        },
        {
          "output_type": "display_data",
          "data": {
            "image/png": "[encoded data removed]",
            "text/plain": [
              "<Figure size 432x288 with 1 Axes>"
            ]
          },
          "metadata": {
            "tags": [],
            "needs_background": "light"
          }
        }
      ]
    },
    {
      "cell_type": "code",
      "metadata": {
        "colab_type": "code",
        "id": "_Eye-yOJw7V7",
        "colab": {
          "base_uri": "https://localhost:8080/",
          "height": 393
        },
        "outputId": "91c63075-3207-4d9f-8a38-de1397d79484"
      },
      "source": [
        "s=time.time()\n",
        "#Array of iterations\n",
        "Niter = np.arange( 1, 100 )\n",
        "\n",
        "plt.figure( figsize=(6,6) )\n",
        "#plt.semilogy( Niter, 2.0**-Niter, color=\"green\", lw = 2 )\n",
        "plt.semilogy( Niter, np.exp2(-Niter), color=\"green\", lw = 2 )\n",
        "plt.grid(True)\n",
        "plt.xlabel(\"Number of Iterations\",size=15)\n",
        "plt.ylabel(\"Absolute Error $|p_n-p|$\",size=15)\n",
        "f=time.time()-s"
      ],
      "execution_count": 78,
      "outputs": [
        {
          "output_type": "display_data",
          "data": {
            "image/png": "[encoded data removed]",
            "text/plain": [
              "<Figure size 432x432 with 1 Axes>"
            ]
          },
          "metadata": {
            "tags": [],
            "needs_background": "light"
          }
        }
      ]
    },
    {
      "cell_type": "markdown",
      "metadata": {
        "colab_type": "text",
        "id": "pd9PwTe1w7V-"
      },
      "source": [
        "## Example 1"
      ]
    },
    {
      "cell_type": "markdown",
      "metadata": {
        "colab_type": "text",
        "id": "vlEpT9Sjw7V_"
      },
      "source": [
        "Find the root of the function $f$\n",
        "\n",
        "$f(x) = x^3 - 2$\n",
        "\n",
        "for $20$ iterations, show the result and the relative error in each iteration."
      ]
    },
    {
      "cell_type": "code",
      "metadata": {
        "colab_type": "code",
        "id": "GpdA20yow7WB",
        "colab": {}
      },
      "source": [
        "#Defining Bisection function\n",
        "def Bisection( f, a, b, Nmax, printer=False ):\n",
        "    \"\"\"\n",
        "    Find the root of function f between a and b\n",
        "    \n",
        "    f: function\n",
        "    a,b: the initial interval\n",
        "    Nmax: Nmax de interations\n",
        "    printer: bool, to print internal steps\n",
        "    \"\"\"\n",
        "    #verifying the STEP1, a and b with different signs\n",
        "    import sys\n",
        "    if f(a)*f(b)>0:\n",
        "        sys.exit(\"Error, f(a) and f(b) should have opposite signs\")\n",
        "        return False\n",
        "    #Assigning the current extreme values, STEP2\n",
        "    ai = a\n",
        "    bi = b\n",
        "    #Iterations\n",
        "    n = 1\n",
        "    while n<=Nmax:\n",
        "        #Bisection, STEP3\n",
        "        pi = (ai+bi)/2.0\n",
        "        #Evaluating function in pi, STEP4 and STEP5\n",
        "        if printer:\n",
        "            print( \"Value for {} iterations: {}\".format(n,pi) )\n",
        "        #Condition A\n",
        "        if f(pi)*f(ai)>0:\n",
        "            ai = pi\n",
        "        #Condition B\n",
        "        elif f(pi)*f(ai)<0:\n",
        "            bi = pi\n",
        "        #Condition C: repeat the cycle\n",
        "        n+=1\n",
        "    #Final result\n",
        "    return pi"
      ],
      "execution_count": 79,
      "outputs": []
    },
    {
      "cell_type": "markdown",
      "metadata": {
        "colab_type": "text",
        "id": "Z1XWelBgw7WJ"
      },
      "source": [
        "Defining function"
      ]
    },
    {
      "cell_type": "code",
      "metadata": {
        "colab_type": "code",
        "id": "0Vd7ahTbw7WK",
        "colab": {}
      },
      "source": [
        "def function(x):\n",
        "    return x**3.0 - 2.0"
      ],
      "execution_count": 7,
      "outputs": []
    },
    {
      "cell_type": "markdown",
      "metadata": {
        "colab_type": "text",
        "id": "Cy9OT7XDw7WN"
      },
      "source": [
        "Finding the root of the function. The real root is $\\sqrt[3]{2}$, so `a` and `b` should enclose this value"
      ]
    },
    {
      "cell_type": "code",
      "metadata": {
        "colab_type": "code",
        "id": "pvl1fZSKw7WO",
        "colab": {
          "base_uri": "https://localhost:8080/",
          "height": 391
        },
        "outputId": "6fd4d68a-2ab3-42a2-ab3a-e25b7aaef657"
      },
      "source": [
        "#Defining a and b\n",
        "a = 0.0\n",
        "b = 2.0\n",
        "Nmax = 20\n",
        "result = Bisection(function, a, b, Nmax, printer=True)\n",
        "print ( \"Real value:\", 2**(1/3.0))\n",
        "print ( \"Absolute error\", abs((2**(1/3.0)-result)) )"
      ],
      "execution_count": 8,
      "outputs": [
        {
          "output_type": "stream",
          "text": [
            "Value for 1 iterations: 1.0\n",
            "Value for 2 iterations: 1.5\n",
            "Value for 3 iterations: 1.25\n",
            "Value for 4 iterations: 1.375\n",
            "Value for 5 iterations: 1.3125\n",
            "Value for 6 iterations: 1.28125\n",
            "Value for 7 iterations: 1.265625\n",
            "Value for 8 iterations: 1.2578125\n",
            "Value for 9 iterations: 1.26171875\n",
            "Value for 10 iterations: 1.259765625\n",
            "Value for 11 iterations: 1.2607421875\n",
            "Value for 12 iterations: 1.26025390625\n",
            "Value for 13 iterations: 1.260009765625\n",
            "Value for 14 iterations: 1.2598876953125\n",
            "Value for 15 iterations: 1.25994873046875\n",
            "Value for 16 iterations: 1.259918212890625\n",
            "Value for 17 iterations: 1.2599334716796875\n",
            "Value for 18 iterations: 1.2599258422851562\n",
            "Value for 19 iterations: 1.2599220275878906\n",
            "Value for 20 iterations: 1.2599201202392578\n",
            "Real value: 1.2599210498948732\n",
            "Absolute error 9.296556153781665e-07\n"
          ],
          "name": "stdout"
        }
      ]
    },
    {
      "cell_type": "markdown",
      "metadata": {
        "colab_type": "text",
        "id": "CmP1u-lPw7WQ"
      },
      "source": [
        "Using the error analysis, we can predict the produced error at $20$ iterations by computing:\n",
        "\n",
        "$$ \\left( \\frac{1}{2^{20}}\\right) \\approx 9.53674316\\times 10^{-7} $$\n",
        "\n",
        "This value is very close to the obtained relative error.\n",
        "\n",
        "If we were interested in a double precision, i.e. $\\epsilon \\sim 10^{-17}$, the number of required iterations would be:\n",
        "\n",
        "$$ 10^{-17} = \\left( \\frac{1}{2^{N}}\\right) \\longrightarrow N = \\frac{17}{\\log_{10}(2)} \\approx 56 $$"
      ]
    },
    {
      "cell_type": "markdown",
      "metadata": {
        "colab_type": "text",
        "id": "p2lZUHGSw7WR"
      },
      "source": [
        "Now the same but using scipy implementation"
      ]
    },
    {
      "cell_type": "code",
      "metadata": {
        "colab_type": "code",
        "id": "LKwXO9vfw7WS",
        "colab": {}
      },
      "source": [
        "from scipy import optimize "
      ],
      "execution_count": 9,
      "outputs": []
    },
    {
      "cell_type": "markdown",
      "metadata": {
        "colab_type": "text",
        "id": "x92AU0K6w7WV"
      },
      "source": [
        "See help with `optimize?:`"
      ]
    },
    {
      "cell_type": "markdown",
      "metadata": {
        "colab_type": "text",
        "id": "VqmyDCFIw7Wa"
      },
      "source": [
        "Check the help:"
      ]
    },
    {
      "cell_type": "code",
      "metadata": {
        "colab_type": "code",
        "id": "s7ZzL1BEw7Wa",
        "colab": {
          "base_uri": "https://localhost:8080/",
          "height": 1000
        },
        "outputId": "505414e0-f99c-4112-b76b-614e3b246f40"
      },
      "source": [
        "help(optimize.bisect)"
      ],
      "execution_count": 10,
      "outputs": [
        {
          "output_type": "stream",
          "text": [
            "Help on function bisect in module scipy.optimize.zeros:\n",
            "\n",
            "bisect(f, a, b, args=(), xtol=2e-12, rtol=8.881784197001252e-16, maxiter=100, full_output=False, disp=True)\n",
            "    Find root of a function within an interval using bisection.\n",
            "    \n",
            "    Basic bisection routine to find a zero of the function `f` between the\n",
            "    arguments `a` and `b`. `f(a)` and `f(b)` cannot have the same signs.\n",
            "    Slow but sure.\n",
            "    \n",
            "    Parameters\n",
            "    ----------\n",
            "    f : function\n",
            "        Python function returning a number.  `f` must be continuous, and\n",
            "        f(a) and f(b) must have opposite signs.\n",
            "    a : scalar\n",
            "        One end of the bracketing interval [a,b].\n",
            "    b : scalar\n",
            "        The other end of the bracketing interval [a,b].\n",
            "    xtol : number, optional\n",
            "        The computed root ``x0`` will satisfy ``np.allclose(x, x0,\n",
            "        atol=xtol, rtol=rtol)``, where ``x`` is the exact root. The\n",
            "        parameter must be nonnegative.\n",
            "    rtol : number, optional\n",
            "        The computed root ``x0`` will satisfy ``np.allclose(x, x0,\n",
            "        atol=xtol, rtol=rtol)``, where ``x`` is the exact root. The\n",
            "        parameter cannot be smaller than its default value of\n",
            "        ``4*np.finfo(float).eps``.\n",
            "    maxiter : int, optional\n",
            "        if convergence is not achieved in `maxiter` iterations, an error is\n",
            "        raised.  Must be >= 0.\n",
            "    args : tuple, optional\n",
            "        containing extra arguments for the function `f`.\n",
            "        `f` is called by ``apply(f, (x)+args)``.\n",
            "    full_output : bool, optional\n",
            "        If `full_output` is False, the root is returned.  If `full_output` is\n",
            "        True, the return value is ``(x, r)``, where x is the root, and r is\n",
            "        a `RootResults` object.\n",
            "    disp : bool, optional\n",
            "        If True, raise RuntimeError if the algorithm didn't converge.\n",
            "        Otherwise the convergence status is recorded in a `RootResults`\n",
            "        return object.\n",
            "    \n",
            "    Returns\n",
            "    -------\n",
            "    x0 : float\n",
            "        Zero of `f` between `a` and `b`.\n",
            "    r : `RootResults` (present if ``full_output = True``)\n",
            "        Object containing information about the convergence.  In particular,\n",
            "        ``r.converged`` is True if the routine converged.\n",
            "    \n",
            "    Examples\n",
            "    --------\n",
            "    \n",
            "    >>> def f(x):\n",
            "    ...     return (x**2 - 1)\n",
            "    \n",
            "    >>> from scipy import optimize\n",
            "    \n",
            "    >>> root = optimize.bisect(f, 0, 2)\n",
            "    >>> root\n",
            "    1.0\n",
            "    \n",
            "    >>> root = optimize.bisect(f, -2, 0)\n",
            "    >>> root\n",
            "    -1.0\n",
            "    \n",
            "    See Also\n",
            "    --------\n",
            "    brentq, brenth, bisect, newton\n",
            "    fixed_point : scalar fixed-point finder\n",
            "    fsolve : n-dimensional root-finding\n",
            "\n"
          ],
          "name": "stdout"
        }
      ]
    },
    {
      "cell_type": "markdown",
      "metadata": {
        "colab_type": "text",
        "id": "yC9nyRCwGJaw"
      },
      "source": [
        "## General arguments and options of a SciPy function"
      ]
    },
    {
      "cell_type": "markdown",
      "metadata": {
        "colab_type": "text",
        "id": "B-D9tsnEGTHD"
      },
      "source": [
        "Let define a general multiparameter \n",
        "* `f`\n",
        "with a mandatory parameter and two optional parameters, corresponding to a straight line with the slope and the intercept as parameters\n",
        "$$\n",
        "f(x)=mx+b\\,,\n",
        "$$"
      ]
    },
    {
      "cell_type": "code",
      "metadata": {
        "colab_type": "code",
        "id": "3Jxl8Cyx4J32",
        "colab": {}
      },
      "source": [
        "def f(x,m=3,b=-2):\n",
        "    return m*x+b"
      ],
      "execution_count": 82,
      "outputs": []
    },
    {
      "cell_type": "code",
      "metadata": {
        "colab_type": "code",
        "id": "WrYXrulI44Ij",
        "colab": {
          "base_uri": "https://localhost:8080/",
          "height": 34
        },
        "outputId": "2c907432-1780-40cc-8cc4-0fa861b4a2a6"
      },
      "source": [
        "f(0.66666666666666666,-3,2)"
      ],
      "execution_count": 83,
      "outputs": [
        {
          "output_type": "execute_result",
          "data": {
            "text/plain": [
              "0.0"
            ]
          },
          "metadata": {
            "tags": []
          },
          "execution_count": 83
        }
      ]
    },
    {
      "cell_type": "markdown",
      "metadata": {
        "id": "Snzy7eYanduc",
        "colab_type": "text"
      },
      "source": [
        "We have at least three ways to use a multiparameter function, the first two with the implicit `lambda` function"
      ]
    },
    {
      "cell_type": "code",
      "metadata": {
        "colab_type": "code",
        "id": "R6ihC-WN4ZUR",
        "colab": {
          "base_uri": "https://localhost:8080/",
          "height": 34
        },
        "outputId": "e7331f16-0965-41f9-d874-c55038336e6f"
      },
      "source": [
        "optimize.bisect(lambda x: -3*x+2,-10,10)"
      ],
      "execution_count": 13,
      "outputs": [
        {
          "output_type": "execute_result",
          "data": {
            "text/plain": [
              "0.6666666666671972"
            ]
          },
          "metadata": {
            "tags": []
          },
          "execution_count": 13
        }
      ]
    },
    {
      "cell_type": "code",
      "metadata": {
        "colab_type": "code",
        "id": "iZHq9BrU4xFh",
        "colab": {
          "base_uri": "https://localhost:8080/",
          "height": 34
        },
        "outputId": "2dd98f03-52e6-41df-e484-f37b11fd33b0"
      },
      "source": [
        "optimize.bisect(lambda x: f(x,-3,2),-10,10,)"
      ],
      "execution_count": 14,
      "outputs": [
        {
          "output_type": "execute_result",
          "data": {
            "text/plain": [
              "0.6666666666671972"
            ]
          },
          "metadata": {
            "tags": []
          },
          "execution_count": 14
        }
      ]
    },
    {
      "cell_type": "markdown",
      "metadata": {
        "id": "bQJp1OoZnduh",
        "colab_type": "text"
      },
      "source": [
        "and the recommended way to used the designed implementation in Scipy through the `args` parameter which is common to many methods "
      ]
    },
    {
      "cell_type": "code",
      "metadata": {
        "colab_type": "code",
        "id": "ojivSEZh5YLx",
        "colab": {
          "base_uri": "https://localhost:8080/",
          "height": 34
        },
        "outputId": "ad1c6b4e-f7fd-4760-cd90-8b46743e96aa"
      },
      "source": [
        "optimize.bisect(f,-10,10,args=(-3,2))"
      ],
      "execution_count": 15,
      "outputs": [
        {
          "output_type": "execute_result",
          "data": {
            "text/plain": [
              "0.6666666666671972"
            ]
          },
          "metadata": {
            "tags": []
          },
          "execution_count": 15
        }
      ]
    },
    {
      "cell_type": "markdown",
      "metadata": {
        "colab_type": "text",
        "id": "7wLEoVWK8FqU"
      },
      "source": [
        "* `xtol`"
      ]
    },
    {
      "cell_type": "code",
      "metadata": {
        "colab_type": "code",
        "id": "1UyHY0m76fIk",
        "colab": {
          "base_uri": "https://localhost:8080/",
          "height": 34
        },
        "outputId": "a56b4396-a00b-47e4-ffde-713627e4dc0f"
      },
      "source": [
        "optimize.bisect(f,-10,10,args=(-3,2),xtol=1E-17)"
      ],
      "execution_count": 16,
      "outputs": [
        {
          "output_type": "execute_result",
          "data": {
            "text/plain": [
              "0.6666666666666671"
            ]
          },
          "metadata": {
            "tags": []
          },
          "execution_count": 16
        }
      ]
    },
    {
      "cell_type": "markdown",
      "metadata": {
        "colab_type": "text",
        "id": "yjQIGQ5fGpIU"
      },
      "source": [
        "* `maxiter`"
      ]
    },
    {
      "cell_type": "code",
      "metadata": {
        "colab_type": "code",
        "id": "xyyTsH7L7R-E",
        "colab": {
          "base_uri": "https://localhost:8080/",
          "height": 34
        },
        "outputId": "db6c2f57-475a-434c-cd75-d9700589d3ba"
      },
      "source": [
        "optimize.bisect(f,-10,10,args=(-3,2),xtol=1E-17,maxiter=10000)"
      ],
      "execution_count": 17,
      "outputs": [
        {
          "output_type": "execute_result",
          "data": {
            "text/plain": [
              "0.6666666666666671"
            ]
          },
          "metadata": {
            "tags": []
          },
          "execution_count": 17
        }
      ]
    },
    {
      "cell_type": "code",
      "metadata": {
        "id": "MlqSC9ZOnduo",
        "colab_type": "code",
        "colab": {
          "base_uri": "https://localhost:8080/",
          "height": 34
        },
        "outputId": "e0384bc3-018b-4e2e-d0e1-1c8d6fea90fa"
      },
      "source": [
        "optimize.bisect(f,-10,10,args=(-3,2),xtol=1E-17,rtol=1E-15,maxiter=10000)"
      ],
      "execution_count": 18,
      "outputs": [
        {
          "output_type": "execute_result",
          "data": {
            "text/plain": [
              "0.6666666666666671"
            ]
          },
          "metadata": {
            "tags": []
          },
          "execution_count": 18
        }
      ]
    },
    {
      "cell_type": "markdown",
      "metadata": {
        "colab_type": "text",
        "id": "FiXdFcKEGuIU"
      },
      "source": [
        "* `full_output`"
      ]
    },
    {
      "cell_type": "code",
      "metadata": {
        "colab_type": "code",
        "id": "tQnA1hbu7vYE",
        "colab": {}
      },
      "source": [
        "x0,r=optimize.bisect(f,-10,10,args=(-3,2),xtol=1E-17,full_output=True)"
      ],
      "execution_count": 19,
      "outputs": []
    },
    {
      "cell_type": "code",
      "metadata": {
        "colab_type": "code",
        "id": "YIE2XkN68Bfg",
        "colab": {
          "base_uri": "https://localhost:8080/",
          "height": 34
        },
        "outputId": "bd5a4825-cd5d-4d0b-baab-695ce7617dff"
      },
      "source": [
        "type(r)"
      ],
      "execution_count": 20,
      "outputs": [
        {
          "output_type": "execute_result",
          "data": {
            "text/plain": [
              "scipy.optimize.zeros.RootResults"
            ]
          },
          "metadata": {
            "tags": []
          },
          "execution_count": 20
        }
      ]
    },
    {
      "cell_type": "markdown",
      "metadata": {
        "colab_type": "text",
        "id": "QmSG5wGKw7We"
      },
      "source": [
        "Check the code"
      ]
    },
    {
      "cell_type": "code",
      "metadata": {
        "colab_type": "code",
        "id": "jBi0uZeE8NGk",
        "colab": {
          "base_uri": "https://localhost:8080/",
          "height": 34
        },
        "outputId": "0cd6c084-aecb-4e85-e423-6abce38647d8"
      },
      "source": [
        "r.function_calls"
      ],
      "execution_count": 21,
      "outputs": [
        {
          "output_type": "execute_result",
          "data": {
            "text/plain": [
              "57"
            ]
          },
          "metadata": {
            "tags": []
          },
          "execution_count": 21
        }
      ]
    },
    {
      "cell_type": "markdown",
      "metadata": {
        "id": "7tsHlvtnndu6",
        "colab_type": "text"
      },
      "source": [
        "The help of the function is write directly in the code of the Scipy method `bisect`"
      ]
    },
    {
      "cell_type": "code",
      "metadata": {
        "colab_type": "code",
        "id": "csnji5Tsw7Wf",
        "colab": {}
      },
      "source": [
        "optimize.bisect??"
      ],
      "execution_count": 52,
      "outputs": []
    },
    {
      "cell_type": "markdown",
      "metadata": {
        "colab_type": "text",
        "id": "6_7lOL6Ww7Wj"
      },
      "source": [
        "Check the internal referenced code"
      ]
    },
    {
      "cell_type": "code",
      "metadata": {
        "colab_type": "code",
        "id": "Qh9fqUvgw7Wk",
        "colab": {}
      },
      "source": [
        "optimize._zeros??"
      ],
      "execution_count": 53,
      "outputs": []
    },
    {
      "cell_type": "markdown",
      "metadata": {
        "colab_type": "text",
        "id": "IJIfqraOG_fz"
      },
      "source": [
        "### Example\n",
        "Find the roots of\n",
        "$$x^3=2$$"
      ]
    },
    {
      "cell_type": "code",
      "metadata": {
        "colab_type": "code",
        "id": "O1E6o0IRw7Wo",
        "colab": {}
      },
      "source": [
        "def function(x):\n",
        "    return x**3.0 - 2.0"
      ],
      "execution_count": 84,
      "outputs": []
    },
    {
      "cell_type": "code",
      "metadata": {
        "id": "ux1sGSZ2ndvM",
        "colab_type": "code",
        "colab": {
          "base_uri": "https://localhost:8080/",
          "height": 282
        },
        "outputId": "97c6d990-020a-4d1e-8d85-ce3ad823c542"
      },
      "source": [
        "todo=optimize.bisect(function,a,b,full_output=True)"
      ],
      "execution_count": 85,
      "outputs": [
        {
          "output_type": "error",
          "ename": "ValueError",
          "evalue": "ignored",
          "traceback": [
            "\u001b[0;31m---------------------------------------------------------------------------\u001b[0m",
            "\u001b[0;31mValueError\u001b[0m                                Traceback (most recent call last)",
            "\u001b[0;32m<ipython-input-85-a586b917d51a>\u001b[0m in \u001b[0;36m<module>\u001b[0;34m()\u001b[0m\n\u001b[0;32m----> 1\u001b[0;31m \u001b[0mtodo\u001b[0m\u001b[0;34m=\u001b[0m\u001b[0moptimize\u001b[0m\u001b[0;34m.\u001b[0m\u001b[0mbisect\u001b[0m\u001b[0;34m(\u001b[0m\u001b[0mfunction\u001b[0m\u001b[0;34m,\u001b[0m\u001b[0ma\u001b[0m\u001b[0;34m,\u001b[0m\u001b[0mb\u001b[0m\u001b[0;34m,\u001b[0m\u001b[0mfull_output\u001b[0m\u001b[0;34m=\u001b[0m\u001b[0;32mTrue\u001b[0m\u001b[0;34m)\u001b[0m\u001b[0;34m\u001b[0m\u001b[0;34m\u001b[0m\u001b[0m\n\u001b[0m",
            "\u001b[0;32m/usr/local/lib/python3.6/dist-packages/scipy/optimize/zeros.py\u001b[0m in \u001b[0;36mbisect\u001b[0;34m(f, a, b, args, xtol, rtol, maxiter, full_output, disp)\u001b[0m\n\u001b[1;32m    551\u001b[0m     \u001b[0;32mif\u001b[0m \u001b[0mrtol\u001b[0m \u001b[0;34m<\u001b[0m \u001b[0m_rtol\u001b[0m\u001b[0;34m:\u001b[0m\u001b[0;34m\u001b[0m\u001b[0;34m\u001b[0m\u001b[0m\n\u001b[1;32m    552\u001b[0m         \u001b[0;32mraise\u001b[0m \u001b[0mValueError\u001b[0m\u001b[0;34m(\u001b[0m\u001b[0;34m\"rtol too small (%g < %g)\"\u001b[0m \u001b[0;34m%\u001b[0m \u001b[0;34m(\u001b[0m\u001b[0mrtol\u001b[0m\u001b[0;34m,\u001b[0m \u001b[0m_rtol\u001b[0m\u001b[0;34m)\u001b[0m\u001b[0;34m)\u001b[0m\u001b[0;34m\u001b[0m\u001b[0;34m\u001b[0m\u001b[0m\n\u001b[0;32m--> 553\u001b[0;31m     \u001b[0mr\u001b[0m \u001b[0;34m=\u001b[0m \u001b[0m_zeros\u001b[0m\u001b[0;34m.\u001b[0m\u001b[0m_bisect\u001b[0m\u001b[0;34m(\u001b[0m\u001b[0mf\u001b[0m\u001b[0;34m,\u001b[0m \u001b[0ma\u001b[0m\u001b[0;34m,\u001b[0m \u001b[0mb\u001b[0m\u001b[0;34m,\u001b[0m \u001b[0mxtol\u001b[0m\u001b[0;34m,\u001b[0m \u001b[0mrtol\u001b[0m\u001b[0;34m,\u001b[0m \u001b[0mmaxiter\u001b[0m\u001b[0;34m,\u001b[0m \u001b[0margs\u001b[0m\u001b[0;34m,\u001b[0m \u001b[0mfull_output\u001b[0m\u001b[0;34m,\u001b[0m \u001b[0mdisp\u001b[0m\u001b[0;34m)\u001b[0m\u001b[0;34m\u001b[0m\u001b[0;34m\u001b[0m\u001b[0m\n\u001b[0m\u001b[1;32m    554\u001b[0m     \u001b[0;32mreturn\u001b[0m \u001b[0mresults_c\u001b[0m\u001b[0;34m(\u001b[0m\u001b[0mfull_output\u001b[0m\u001b[0;34m,\u001b[0m \u001b[0mr\u001b[0m\u001b[0;34m)\u001b[0m\u001b[0;34m\u001b[0m\u001b[0;34m\u001b[0m\u001b[0m\n\u001b[1;32m    555\u001b[0m \u001b[0;34m\u001b[0m\u001b[0m\n",
            "\u001b[0;31mValueError\u001b[0m: f(a) and f(b) must have different signs"
          ]
        }
      ]
    },
    {
      "cell_type": "code",
      "metadata": {
        "id": "mIknVIjEndvO",
        "colab_type": "code",
        "colab": {
          "base_uri": "https://localhost:8080/",
          "height": 34
        },
        "outputId": "8c13d071-fef2-4426-cff9-d0e9fda2aeb5"
      },
      "source": [
        "type(todo)"
      ],
      "execution_count": 65,
      "outputs": [
        {
          "output_type": "execute_result",
          "data": {
            "text/plain": [
              "float"
            ]
          },
          "metadata": {
            "tags": []
          },
          "execution_count": 65
        }
      ]
    },
    {
      "cell_type": "code",
      "metadata": {
        "id": "38kUvpfTndvQ",
        "colab_type": "code",
        "colab": {
          "base_uri": "https://localhost:8080/",
          "height": 163
        },
        "outputId": "9ded4117-187d-48cc-8641-6c022d5b20ce"
      },
      "source": [
        "len(todo)"
      ],
      "execution_count": 66,
      "outputs": [
        {
          "output_type": "error",
          "ename": "TypeError",
          "evalue": "ignored",
          "traceback": [
            "\u001b[0;31m---------------------------------------------------------------------------\u001b[0m",
            "\u001b[0;31mTypeError\u001b[0m                                 Traceback (most recent call last)",
            "\u001b[0;32m<ipython-input-66-ca4c0f27d30c>\u001b[0m in \u001b[0;36m<module>\u001b[0;34m()\u001b[0m\n\u001b[0;32m----> 1\u001b[0;31m \u001b[0mlen\u001b[0m\u001b[0;34m(\u001b[0m\u001b[0mtodo\u001b[0m\u001b[0;34m)\u001b[0m\u001b[0;34m\u001b[0m\u001b[0;34m\u001b[0m\u001b[0m\n\u001b[0m",
            "\u001b[0;31mTypeError\u001b[0m: object of type 'float' has no len()"
          ]
        }
      ]
    },
    {
      "cell_type": "code",
      "metadata": {
        "id": "wuBoDSxnndvT",
        "colab_type": "code",
        "colab": {
          "base_uri": "https://localhost:8080/",
          "height": 180
        },
        "outputId": "4252353b-8ed4-40b3-ebc3-afedb9b25306"
      },
      "source": [
        "result=todo[0]\n",
        "result"
      ],
      "execution_count": 67,
      "outputs": [
        {
          "output_type": "error",
          "ename": "TypeError",
          "evalue": "ignored",
          "traceback": [
            "\u001b[0;31m---------------------------------------------------------------------------\u001b[0m",
            "\u001b[0;31mTypeError\u001b[0m                                 Traceback (most recent call last)",
            "\u001b[0;32m<ipython-input-67-f450ea309b17>\u001b[0m in \u001b[0;36m<module>\u001b[0;34m()\u001b[0m\n\u001b[0;32m----> 1\u001b[0;31m \u001b[0mresult\u001b[0m\u001b[0;34m=\u001b[0m\u001b[0mtodo\u001b[0m\u001b[0;34m[\u001b[0m\u001b[0;36m0\u001b[0m\u001b[0;34m]\u001b[0m\u001b[0;34m\u001b[0m\u001b[0;34m\u001b[0m\u001b[0m\n\u001b[0m\u001b[1;32m      2\u001b[0m \u001b[0mresult\u001b[0m\u001b[0;34m\u001b[0m\u001b[0;34m\u001b[0m\u001b[0m\n",
            "\u001b[0;31mTypeError\u001b[0m: 'float' object is not subscriptable"
          ]
        }
      ]
    },
    {
      "cell_type": "code",
      "metadata": {
        "id": "0vAGahrzndvV",
        "colab_type": "code",
        "colab": {}
      },
      "source": [
        "r=todo[1]\n",
        "r"
      ],
      "execution_count": null,
      "outputs": []
    },
    {
      "cell_type": "code",
      "metadata": {
        "id": "_UhkemBjndvY",
        "colab_type": "code",
        "colab": {}
      },
      "source": [
        "type(r)"
      ],
      "execution_count": null,
      "outputs": []
    },
    {
      "cell_type": "code",
      "metadata": {
        "id": "6RiwaI9MndvZ",
        "colab_type": "code",
        "colab": {}
      },
      "source": [
        "r.iterations"
      ],
      "execution_count": null,
      "outputs": []
    },
    {
      "cell_type": "code",
      "metadata": {
        "id": "7UtgfIRCndvb",
        "colab_type": "code",
        "colab": {
          "base_uri": "https://localhost:8080/",
          "height": 282
        },
        "outputId": "934592c2-d468-42dc-e907-08a0baf995ff"
      },
      "source": [
        "todo=optimize.bisect(function,a,b,full_output=False)"
      ],
      "execution_count": 86,
      "outputs": [
        {
          "output_type": "error",
          "ename": "ValueError",
          "evalue": "ignored",
          "traceback": [
            "\u001b[0;31m---------------------------------------------------------------------------\u001b[0m",
            "\u001b[0;31mValueError\u001b[0m                                Traceback (most recent call last)",
            "\u001b[0;32m<ipython-input-86-126a3f6094c8>\u001b[0m in \u001b[0;36m<module>\u001b[0;34m()\u001b[0m\n\u001b[0;32m----> 1\u001b[0;31m \u001b[0mtodo\u001b[0m\u001b[0;34m=\u001b[0m\u001b[0moptimize\u001b[0m\u001b[0;34m.\u001b[0m\u001b[0mbisect\u001b[0m\u001b[0;34m(\u001b[0m\u001b[0mfunction\u001b[0m\u001b[0;34m,\u001b[0m\u001b[0ma\u001b[0m\u001b[0;34m,\u001b[0m\u001b[0mb\u001b[0m\u001b[0;34m,\u001b[0m\u001b[0mfull_output\u001b[0m\u001b[0;34m=\u001b[0m\u001b[0;32mFalse\u001b[0m\u001b[0;34m)\u001b[0m\u001b[0;34m\u001b[0m\u001b[0;34m\u001b[0m\u001b[0m\n\u001b[0m",
            "\u001b[0;32m/usr/local/lib/python3.6/dist-packages/scipy/optimize/zeros.py\u001b[0m in \u001b[0;36mbisect\u001b[0;34m(f, a, b, args, xtol, rtol, maxiter, full_output, disp)\u001b[0m\n\u001b[1;32m    551\u001b[0m     \u001b[0;32mif\u001b[0m \u001b[0mrtol\u001b[0m \u001b[0;34m<\u001b[0m \u001b[0m_rtol\u001b[0m\u001b[0;34m:\u001b[0m\u001b[0;34m\u001b[0m\u001b[0;34m\u001b[0m\u001b[0m\n\u001b[1;32m    552\u001b[0m         \u001b[0;32mraise\u001b[0m \u001b[0mValueError\u001b[0m\u001b[0;34m(\u001b[0m\u001b[0;34m\"rtol too small (%g < %g)\"\u001b[0m \u001b[0;34m%\u001b[0m \u001b[0;34m(\u001b[0m\u001b[0mrtol\u001b[0m\u001b[0;34m,\u001b[0m \u001b[0m_rtol\u001b[0m\u001b[0;34m)\u001b[0m\u001b[0;34m)\u001b[0m\u001b[0;34m\u001b[0m\u001b[0;34m\u001b[0m\u001b[0m\n\u001b[0;32m--> 553\u001b[0;31m     \u001b[0mr\u001b[0m \u001b[0;34m=\u001b[0m \u001b[0m_zeros\u001b[0m\u001b[0;34m.\u001b[0m\u001b[0m_bisect\u001b[0m\u001b[0;34m(\u001b[0m\u001b[0mf\u001b[0m\u001b[0;34m,\u001b[0m \u001b[0ma\u001b[0m\u001b[0;34m,\u001b[0m \u001b[0mb\u001b[0m\u001b[0;34m,\u001b[0m \u001b[0mxtol\u001b[0m\u001b[0;34m,\u001b[0m \u001b[0mrtol\u001b[0m\u001b[0;34m,\u001b[0m \u001b[0mmaxiter\u001b[0m\u001b[0;34m,\u001b[0m \u001b[0margs\u001b[0m\u001b[0;34m,\u001b[0m \u001b[0mfull_output\u001b[0m\u001b[0;34m,\u001b[0m \u001b[0mdisp\u001b[0m\u001b[0;34m)\u001b[0m\u001b[0;34m\u001b[0m\u001b[0;34m\u001b[0m\u001b[0m\n\u001b[0m\u001b[1;32m    554\u001b[0m     \u001b[0;32mreturn\u001b[0m \u001b[0mresults_c\u001b[0m\u001b[0;34m(\u001b[0m\u001b[0mfull_output\u001b[0m\u001b[0;34m,\u001b[0m \u001b[0mr\u001b[0m\u001b[0;34m)\u001b[0m\u001b[0;34m\u001b[0m\u001b[0;34m\u001b[0m\u001b[0m\n\u001b[1;32m    555\u001b[0m \u001b[0;34m\u001b[0m\u001b[0m\n",
            "\u001b[0;31mValueError\u001b[0m: f(a) and f(b) must have different signs"
          ]
        }
      ]
    },
    {
      "cell_type": "code",
      "metadata": {
        "id": "ZjEB64v4ndvh",
        "colab_type": "code",
        "colab": {}
      },
      "source": [
        "type(todo)"
      ],
      "execution_count": null,
      "outputs": []
    },
    {
      "cell_type": "code",
      "metadata": {
        "colab_type": "code",
        "id": "kABWCrNcw7Wq",
        "colab": {}
      },
      "source": [
        "a = 0.0\n",
        "b = 2.0\n",
        "\n",
        "result,r=optimize.bisect(function,a,b,full_output=True)"
      ],
      "execution_count": null,
      "outputs": []
    },
    {
      "cell_type": "code",
      "metadata": {
        "colab_type": "code",
        "id": "nlxlkNYyw7Wt",
        "colab": {}
      },
      "source": [
        "result"
      ],
      "execution_count": null,
      "outputs": []
    },
    {
      "cell_type": "code",
      "metadata": {
        "colab_type": "code",
        "id": "L3HyS2OGw7Wv",
        "colab": {}
      },
      "source": [
        "2**(1/3.0)"
      ],
      "execution_count": null,
      "outputs": []
    },
    {
      "cell_type": "markdown",
      "metadata": {
        "colab_type": "text",
        "id": "TKlBRLXUw7Wy"
      },
      "source": [
        "Check `r` object by using the `<TAB>` key next"
      ]
    },
    {
      "cell_type": "code",
      "metadata": {
        "colab_type": "code",
        "id": "TkfTsXumw7Wz",
        "colab": {}
      },
      "source": [
        "r.iterations"
      ],
      "execution_count": null,
      "outputs": []
    },
    {
      "cell_type": "code",
      "metadata": {
        "id": "Th9tjCNmndvx",
        "colab_type": "code",
        "colab": {}
      },
      "source": [
        "r.function_calls"
      ],
      "execution_count": null,
      "outputs": []
    },
    {
      "cell_type": "code",
      "metadata": {
        "colab_type": "code",
        "id": "HpBNHlWDw7W3",
        "colab": {}
      },
      "source": [
        "2**(-r.iterations)"
      ],
      "execution_count": null,
      "outputs": []
    },
    {
      "cell_type": "code",
      "metadata": {
        "colab_type": "code",
        "id": "tvkJ0Jy5w7W6",
        "colab": {}
      },
      "source": [
        "abs((2**(1/3.0)-result))"
      ],
      "execution_count": null,
      "outputs": []
    },
    {
      "cell_type": "code",
      "metadata": {
        "colab_type": "code",
        "id": "4m6VCcpiw7W8",
        "colab": {}
      },
      "source": [
        "r.converged"
      ],
      "execution_count": null,
      "outputs": []
    },
    {
      "cell_type": "code",
      "metadata": {
        "colab_type": "code",
        "id": "7bp9qun4w7W_",
        "colab": {}
      },
      "source": [
        "result,r=optimize.bisect(function,a,b,xtol=1E-17,full_output=True)"
      ],
      "execution_count": null,
      "outputs": []
    },
    {
      "cell_type": "code",
      "metadata": {
        "colab_type": "code",
        "id": "kmUCIBwlw7XB",
        "colab": {}
      },
      "source": [
        "r.iterations"
      ],
      "execution_count": null,
      "outputs": []
    },
    {
      "cell_type": "code",
      "metadata": {
        "colab_type": "code",
        "id": "zQTyAChgw7XE",
        "colab": {}
      },
      "source": [
        "abs((2**(1/3.0)-result))"
      ],
      "execution_count": null,
      "outputs": []
    },
    {
      "cell_type": "code",
      "metadata": {
        "colab_type": "code",
        "id": "eXvvDw-4EZr-",
        "colab": {
          "base_uri": "https://localhost:8080/",
          "height": 34
        },
        "outputId": "97d4668e-d427-4327-bf46-3bb791f35572"
      },
      "source": [
        "2**(-r.iterations)"
      ],
      "execution_count": 63,
      "outputs": [
        {
          "output_type": "execute_result",
          "data": {
            "text/plain": [
              "4.440892098500626e-16"
            ]
          },
          "metadata": {
            "tags": []
          },
          "execution_count": 63
        }
      ]
    },
    {
      "cell_type": "markdown",
      "metadata": {
        "colab_type": "text",
        "id": "Mf8r3RfJw7XG"
      },
      "source": [
        "### <font color='red'> ACTIVITY </font>"
      ]
    },
    {
      "cell_type": "markdown",
      "metadata": {
        "colab_type": "text",
        "id": "gDKsdwSZw7XH"
      },
      "source": [
        "<font color='red'>\n",
        "In an IPython notebook, use the scipy implementation and find the first solution to the equation\n",
        "    \n",
        "$ 7 = \\sqrt{x^2+1}+e^x\\sin x $\n",
        "    \n",
        "CLUE: Check graphically (with matplotlib) that the solution is within the interval $[0,2]$.\n",
        "</font>"
      ]
    },
    {
      "cell_type": "markdown",
      "metadata": {
        "colab_type": "text",
        "id": "3Sr162oVw7XI"
      },
      "source": [
        "[solution](./solutions/sltn_bisect.ipynb)"
      ]
    },
    {
      "cell_type": "code",
      "metadata": {
        "id": "-SUafCmSzOcP",
        "colab_type": "code",
        "colab": {}
      },
      "source": [
        "import numpy as np\n",
        "import matplotlib.pylab as plt"
      ],
      "execution_count": 87,
      "outputs": []
    },
    {
      "cell_type": "code",
      "metadata": {
        "id": "SAcAhnXdzyvw",
        "colab_type": "code",
        "colab": {}
      },
      "source": [
        "def function(x):\n",
        "    return (x**2 + 1)**0.5 + np.exp(x) * np.sin(x) - 7"
      ],
      "execution_count": 89,
      "outputs": []
    },
    {
      "cell_type": "code",
      "metadata": {
        "id": "zT3wQZuQz1pr",
        "colab_type": "code",
        "colab": {}
      },
      "source": [
        "a = 0.0\n",
        "b = 2.0\n",
        "result,r=optimize.bisect(function,a,b,full_output=True)"
      ],
      "execution_count": 91,
      "outputs": []
    },
    {
      "cell_type": "code",
      "metadata": {
        "id": "JLsyZCOCz-Tx",
        "colab_type": "code",
        "colab": {}
      },
      "source": [
        "result,r=optimize.bisect(function,a,b,xtol=1E-17,full_output=True)"
      ],
      "execution_count": 92,
      "outputs": []
    },
    {
      "cell_type": "code",
      "metadata": {
        "id": "zR0PyW370B0y",
        "colab_type": "code",
        "colab": {
          "base_uri": "https://localhost:8080/",
          "height": 34
        },
        "outputId": "fe3ab0a8-9b28-479e-bfe5-8e45f58a7452"
      },
      "source": [
        "result"
      ],
      "execution_count": 93,
      "outputs": [
        {
          "output_type": "execute_result",
          "data": {
            "text/plain": [
              "1.628718494927008"
            ]
          },
          "metadata": {
            "tags": []
          },
          "execution_count": 93
        }
      ]
    },
    {
      "cell_type": "code",
      "metadata": {
        "id": "G6I71bWW0Gzp",
        "colab_type": "code",
        "colab": {
          "base_uri": "https://localhost:8080/",
          "height": 102
        },
        "outputId": "4610b46c-bb7d-4737-b4bd-7b1596505919"
      },
      "source": [
        "r"
      ],
      "execution_count": 94,
      "outputs": [
        {
          "output_type": "execute_result",
          "data": {
            "text/plain": [
              "      converged: True\n",
              "           flag: 'converged'\n",
              " function_calls: 53\n",
              "     iterations: 51\n",
              "           root: 1.628718494927008"
            ]
          },
          "metadata": {
            "tags": []
          },
          "execution_count": 94
        }
      ]
    },
    {
      "cell_type": "code",
      "metadata": {
        "id": "ymIchnab0I4a",
        "colab_type": "code",
        "colab": {
          "base_uri": "https://localhost:8080/",
          "height": 282
        },
        "outputId": "d87d2db2-64f0-41c1-fc0c-7e02d2762ac1"
      },
      "source": [
        "x = np.linspace(0.0, 2.0, 100)\n",
        "y = (x**2 + 1)**0.5 + np.e**x * np.sin(x) - 7\n",
        "plt.plot(x,y)"
      ],
      "execution_count": 95,
      "outputs": [
        {
          "output_type": "execute_result",
          "data": {
            "text/plain": [
              "[<matplotlib.lines.Line2D at 0x7fa2af2cfe80>]"
            ]
          },
          "metadata": {
            "tags": []
          },
          "execution_count": 95
        },
        {
          "output_type": "display_data",
          "data": {
            "image/png": "[encoded data removed]",
            "text/plain": [
              "<Figure size 432x288 with 1 Axes>"
            ]
          },
          "metadata": {
            "tags": [],
            "needs_background": "light"
          }
        }
      ]
    },
    {
      "cell_type": "code",
      "metadata": {
        "colab_type": "code",
        "id": "e5at_XXzHSlk",
        "colab": {}
      },
      "source": [
        "a,b,c=(2,3,4)"
      ],
      "execution_count": 58,
      "outputs": []
    },
    {
      "cell_type": "code",
      "metadata": {
        "colab_type": "code",
        "id": "geD3ecfDHXFE",
        "colab": {
          "base_uri": "https://localhost:8080/",
          "height": 34
        },
        "outputId": "10450b60-2150-4952-fe58-57db54e56f02"
      },
      "source": [
        "c"
      ],
      "execution_count": 59,
      "outputs": [
        {
          "output_type": "execute_result",
          "data": {
            "text/plain": [
              "4"
            ]
          },
          "metadata": {
            "tags": []
          },
          "execution_count": 59
        }
      ]
    },
    {
      "cell_type": "code",
      "metadata": {
        "colab_type": "code",
        "id": "zrY4Rc19E_zC",
        "colab": {}
      },
      "source": [
        "import numpy as np"
      ],
      "execution_count": 60,
      "outputs": []
    },
    {
      "cell_type": "code",
      "metadata": {
        "colab_type": "code",
        "id": "SZhTQgvLFDmg",
        "colab": {
          "base_uri": "https://localhost:8080/",
          "height": 34
        },
        "outputId": "febe1d1c-3169-4b21-a5ee-851046b41cad"
      },
      "source": [
        "# Solo usar para constante\n",
        "np.e"
      ],
      "execution_count": 61,
      "outputs": [
        {
          "output_type": "execute_result",
          "data": {
            "text/plain": [
              "2.718281828459045"
            ]
          },
          "metadata": {
            "tags": []
          },
          "execution_count": 61
        }
      ]
    },
    {
      "cell_type": "code",
      "metadata": {
        "colab_type": "code",
        "id": "ela6ZuPcFGPQ",
        "colab": {
          "base_uri": "https://localhost:8080/",
          "height": 34
        },
        "outputId": "c31b937f-dbcc-4588-ec3a-1a366942082b"
      },
      "source": [
        "np.exp(1)"
      ],
      "execution_count": 62,
      "outputs": [
        {
          "output_type": "execute_result",
          "data": {
            "text/plain": [
              "2.718281828459045"
            ]
          },
          "metadata": {
            "tags": []
          },
          "execution_count": 62
        }
      ]
    },
    {
      "cell_type": "markdown",
      "metadata": {
        "colab_type": "text",
        "id": "hBSyBUNrw7XJ"
      },
      "source": [
        "## Example 2"
      ]
    },
    {
      "cell_type": "markdown",
      "metadata": {
        "colab_type": "text",
        "id": "qpIK0RxFw7XK"
      },
      "source": [
        "In orbital mechanics, when solving the central-force problem it becomes necessary to solve the Kepler's equation. This is a transcendental equation that relates the orbital parameters of the trajectory.\n",
        "\n",
        "*Kepler equation:* $M = E - \\epsilon \\sin E$\n",
        "\n",
        "where $M$ is the mean anomaly, $E$ the eccentric anomaly and $\\epsilon$ the eccentricity. The mean anomaly can be computed with the expression\n",
        "\n",
        "$$M = n\\ t = \\sqrt{ \\frac{GM}{a^3} } t$$\n",
        "\n",
        "where $n$ is the mean motion, $G$ the gravitational constant, $M$ the mass of the central body and $a$ the semi-major axis. $t$ is the time where the position in the trajectory will be computed.\n",
        "\n",
        "The coordinates $x$ and $y$ as time functions can be recovered by means of the next expressions\n",
        "\n",
        "$$x(t) = a(\\cos E - \\epsilon)$$\n",
        "\n",
        "$$y(t) = b\\sin E$$\n",
        "\n",
        "where $b = a \\sqrt{1-\\epsilon^2}$ is the semi-minor axis of the orbit and the implicit time-dependence of the eccentric anomaly $E$ is computed through the Kepler's equation."
      ]
    },
    {
      "cell_type": "markdown",
      "metadata": {
        "colab_type": "text",
        "id": "FlKupbitw7XL"
      },
      "source": [
        "**Problem:**\n",
        "\n",
        "For a stallite orbiting the earth in a equatorial trajectory with eccentricity $\\epsilon = 0.5$ at a geostationary distance for the semi-major axis, tabulate the positions $x$ and $y$ within the orbital plane in intervals of $15$ min during $5$ hours.\n",
        "\n",
        "**Parameters:**\n",
        "\n",
        "- $\\epsilon = 0.5$\n",
        "\n",
        "- $a = 35900$ km\n",
        "\n",
        "- $G = 6.67384 \\times 10^{-11}$ m$^3$ kg$^{-1}$ s$^{-2}$\n",
        "\n",
        "- $M_{\\oplus} = 5.972\\times 10^{24}$ kg"
      ]
    },
    {
      "cell_type": "code",
      "metadata": {
        "colab_type": "code",
        "id": "URwGARM5w7XL",
        "colab": {}
      },
      "source": [
        "#====================================================================\n",
        "#Parameters\n",
        "#====================================================================\n",
        "#Eccentricity\n",
        "eps = 0.5\n",
        "#Semi-major axis    [m]\n",
        "a = 35900e3\n",
        "#Gravitational constant    [m3kg-1s-2]\n",
        "GC = 6.67384e-11\n",
        "#Earth mass    [kg]\n",
        "Me = 5.972e24\n",
        "\n",
        "#Semi-minor axis    [m]\n",
        "b = a*(1-eps**2.0)**0.5\n",
        "#Mean motion\n",
        "n = ( GC*Me/a**3.0 )**0.5\n",
        "\n",
        "#Hour to Second\n",
        "HR2SC = 3600.\n",
        "#Initial time    [hr]\n",
        "t0 = 0*HR2SC\n",
        "#Final time    [hr]\n",
        "tf = 5*HR2SC\n",
        "#Time step    [hr]\n",
        "tstep = 0.25*HR2SC\n",
        "#Number of maxim iterations\n",
        "Niter = 56\n",
        "#Root interval\n",
        "a0 = -10\n",
        "b0 = 10\n",
        "\n",
        "#====================================================================\n",
        "#Kepler Function\n",
        "#====================================================================\n",
        "def kepler( E ):\n",
        "    func = E - eps*np.sin(E) - n*t\n",
        "    return func\n",
        "\n",
        "#====================================================================\n",
        "#Position function\n",
        "#====================================================================\n",
        "def r(E):\n",
        "    x = a*(np.cos(E)-eps)\n",
        "    y = b*np.sin(E)\n",
        "    return [x/1.e3, y/1.e3]"
      ],
      "execution_count": 96,
      "outputs": []
    },
    {
      "cell_type": "code",
      "metadata": {
        "colab_type": "code",
        "id": "z4PZbsmIw7XQ",
        "colab": {
          "base_uri": "https://localhost:8080/",
          "height": 640
        },
        "outputId": "2b12c64b-b75b-4d0c-9da7-b351ed1af5ab"
      },
      "source": [
        "#====================================================================\n",
        "#Solving for different times\n",
        "#====================================================================\n",
        "#Time array\n",
        "times = np.arange( t0, tf, tstep )\n",
        "\n",
        "rpos = []\n",
        "for t in times:\n",
        "    #Finding the new eccentric anomaly\n",
        "    E = optimize.bisect( kepler, a0, b0 )\n",
        "    #Computing coordinates at this time\n",
        "    ri = r(E)\n",
        "    print (\"In %f hours, the satellite is located at (%f,%f) km\"%(t/HR2SC, ri[0], ri[1]) )\n",
        "    rpos.append( ri )\n",
        "rpos = np.array(rpos)    \n",
        "\n",
        "#Plotting\n",
        "plt.plot( rpos[:,0], rpos[:,1], \"o-\", color=\"red\", lw = 2 )\n",
        "plt.grid(True)\n",
        "plt.xlabel(\"$x$ coordinate [km]\")\n",
        "plt.ylabel(\"$y$ coordinate [km]\")"
      ],
      "execution_count": 97,
      "outputs": [
        {
          "output_type": "stream",
          "text": [
            "In 0.000000 hours, the satellite is located at (17950.000000,0.000000) km\n",
            "In 0.250000 hours, the satellite is located at (17454.741542,5146.426647) km\n",
            "In 0.500000 hours, the satellite is located at (16033.097675,10023.437750) km\n",
            "In 0.750000 hours, the satellite is located at (13848.847528,14430.262364) km\n",
            "In 1.000000 hours, the satellite is located at (11104.379909,18261.701894) km\n",
            "In 1.250000 hours, the satellite is located at (7989.437466,21493.410338) km\n",
            "In 1.500000 hours, the satellite is located at (4657.168469,24151.489610) km\n",
            "In 1.750000 hours, the satellite is located at (1221.066166,26286.121177) km\n",
            "In 2.000000 hours, the satellite is located at (-2238.747501,27954.872718) km\n",
            "In 2.250000 hours, the satellite is located at (-5667.264143,29214.008624) km\n",
            "In 2.500000 hours, the satellite is located at (-9027.373695,30114.739827) km\n",
            "In 2.750000 hours, the satellite is located at (-12294.392344,30702.085866) km\n",
            "In 3.000000 hours, the satellite is located at (-15452.164136,31014.965936) km\n",
            "In 3.250000 hours, the satellite is located at (-18490.361033,31086.789919) km\n",
            "In 3.500000 hours, the satellite is located at (-21402.633716,30946.195086) km\n",
            "In 3.750000 hours, the satellite is located at (-24185.347784,30617.769816) km\n",
            "In 4.000000 hours, the satellite is located at (-26836.717825,30122.702148) km\n",
            "In 4.250000 hours, the satellite is located at (-29356.211228,29479.336137) km\n",
            "In 4.500000 hours, the satellite is located at (-31744.135350,28703.638662) km\n",
            "In 4.750000 hours, the satellite is located at (-34001.350021,27809.586870) km\n"
          ],
          "name": "stdout"
        },
        {
          "output_type": "execute_result",
          "data": {
            "text/plain": [
              "Text(0, 0.5, '$y$ coordinate [km]')"
            ]
          },
          "metadata": {
            "tags": []
          },
          "execution_count": 97
        },
        {
          "output_type": "display_data",
          "data": {
            "image/png": "[encoded data removed]",
            "text/plain": [
              "<Figure size 432x288 with 1 Axes>"
            ]
          },
          "metadata": {
            "tags": [],
            "needs_background": "light"
          }
        }
      ]
    },
    {
      "cell_type": "markdown",
      "metadata": {
        "colab_type": "text",
        "id": "RJlKLGjww7XU"
      },
      "source": [
        "- - - "
      ]
    }
  ]
}