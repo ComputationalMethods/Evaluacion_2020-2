{
  "nbformat": 4,
  "nbformat_minor": 0,
  "metadata": {
    "kernelspec": {
      "display_name": "Python 3",
      "language": "python",
      "name": "python3"
    },
    "language_info": {
      "codemirror_mode": {
        "name": "ipython",
        "version": 3
      },
      "file_extension": ".py",
      "mimetype": "text/x-python",
      "name": "python",
      "nbconvert_exporter": "python",
      "pygments_lexer": "ipython3",
      "version": "3.7.3"
    },
    "colab": {
      "name": "linear-algebra-diagonalization.ipynb",
      "provenance": []
    }
  },
  "cells": [
    {
      "cell_type": "markdown",
      "metadata": {
        "id": "I-46MAJZImXY"
      },
      "source": [
        "# Matrix diagonalization\n",
        "<a href=\"https://colab.research.google.com/github/restrepo/ComputationalMethods/blob/master/material/linear-algebra-diagonalization.ipynb\" target=\"_parent\"><img src=\"https://colab.research.google.com/assets/colab-badge.svg\" alt=\"Open In Colab\"/></a>"
      ]
    },
    {
      "cell_type": "markdown",
      "metadata": {
        "id": "40WhQJy2EWqx"
      },
      "source": [
        "## Theorem 1\n",
        "\n",
        "If $\\boldsymbol{A}$ is Hermitic, e.g:\n",
        "\\begin{align}\n",
        "\\boldsymbol{A}^\\dagger =\\boldsymbol{A}\\,,\n",
        "\\end{align}\n",
        "Then exists an _unitary  matrix_ $\\boldsymbol{V}$ e.g:\n",
        "\\begin{align}\n",
        "\\boldsymbol{V}^{\\ -1}=\\boldsymbol{V}^\\dagger \\,,\n",
        "\\end{align}\n",
        "such that\n",
        "\\begin{equation}\n",
        "  \\boldsymbol{V}^\\dagger\\boldsymbol{A}\\,\\boldsymbol{V}=\\boldsymbol{A}_{\\text{diag}}\\,,\n",
        "\\end{equation}\n",
        "where \n",
        "$\\boldsymbol{A}_{\\text{diag}}=\\operatorname{diag}(\\lambda_1,\\lambda_2,\\ldots \\lambda_n)$ is the diagonalized mass matrix."
      ]
    },
    {
      "cell_type": "markdown",
      "metadata": {
        "id": "QousO-tmLx5e"
      },
      "source": [
        "### Corollary 1\n",
        "\n",
        "If $\\boldsymbol{A}$ is symmetric, e.g:\n",
        "\\begin{align}\n",
        "\\boldsymbol{A}^{\\operatorname{T}} =\\boldsymbol{A}\\,,\n",
        "\\end{align}\n",
        "Then exists an _ortogonal matrix_ $\\boldsymbol{V}$, e.g:\n",
        "\\begin{align}\n",
        "\\boldsymbol{V}^{-1}=\\boldsymbol{V}^{\\operatorname{T}} \\,,\n",
        "\\end{align}\n",
        "such that\n",
        "\\begin{equation}\n",
        "  \\boldsymbol{V}^{\\operatorname{T}}\\boldsymbol{A}\\,\\boldsymbol{V}=\\boldsymbol{A}_{\\text{diag}}\\,,\n",
        "\\end{equation}\n",
        "where \n",
        "$\\boldsymbol{A}_{\\text{diag}}=\\operatorname{diag}(\\lambda_1,\\lambda_2,\\ldots \\lambda_n)$ is the diagonalized mass matrix."
      ]
    },
    {
      "cell_type": "markdown",
      "metadata": {
        "id": "I23Zd47bwB-z"
      },
      "source": [
        "____"
      ]
    },
    {
      "cell_type": "markdown",
      "metadata": {
        "id": "Czn5t78GZepT"
      },
      "source": [
        "### Eigenvector problem\n",
        "Note that each eigenvector, corresponding to each column of the matrix, is associated to each eigenvalue\n",
        "$$\n",
        "\\boldsymbol{V}=\\begin{bmatrix}\n",
        "\\boldsymbol{V}_1 \\vdots \\boldsymbol{V}_2\\cdots \\vdots \\boldsymbol{V}_i \\vdots \\boldsymbol{V}_j\\vdots\\cdots \\vdots \\boldsymbol{V}_n \n",
        "\\end{bmatrix}.\n",
        "$$\n",
        "where $\\boldsymbol{V}_i$ is the $i$-th column of the matrix  $\\boldsymbol{V}$.\n",
        "\n",
        "In this way, if we interchange the $i\\leftrightarrow j$ columns of the diagonalization matrix $\\boldsymbol{V}$, the order of the eigenvalues also change\n",
        "$$\n",
        "\\begin{bmatrix}\n",
        "\\boldsymbol{V}_1 \\vdots \\boldsymbol{V}_2\\cdots \\vdots \\boldsymbol{V}_j \\vdots \\boldsymbol{V}_i\\vdots\\cdots \\vdots \\boldsymbol{V}_n \n",
        "\\end{bmatrix}^\\dagger \\boldsymbol{A} \\begin{bmatrix}\n",
        "\\boldsymbol{V}_1 \\vdots \\boldsymbol{V}_2\\cdots \\vdots \\boldsymbol{V}_j \\vdots \\boldsymbol{V}_i\\vdots\\cdots \\vdots \\boldsymbol{V}_n \n",
        "\\end{bmatrix}=\\operatorname{diag}(\\lambda_1,\\lambda_2,\\ldots,\\lambda_j,\\lambda_i,\\ldots \\lambda_n).\n",
        "$$\n",
        "This property is very important because usually the diagonalizationn alghoritm gives not the desired ordering of the eigenvalues and eigenvectors. It is recommended to use the `np.c_` method for the eigenvector reoirdering\n",
        "\n",
        "However, the __Theorem__ only guarantees existence. Tor really calculate the diagonalization matrix we must establish the eigenvector problem:\n",
        "\n",
        "We can use the unitary propery to write\n",
        "\\begin{align}\n",
        "  \\boldsymbol{V}\\boldsymbol{V}^\\dagger\\boldsymbol{A}\\,\\boldsymbol{V}=&\\boldsymbol{V}\\boldsymbol{A}_{\\text{diag}}\\\\\n",
        "\\boldsymbol{A}\\,\\boldsymbol{V}=&\\boldsymbol{V}\\boldsymbol{A}_{\\text{diag}}\\,,\n",
        "\\end{align}\n",
        "or\n",
        "$$\n",
        "\\boldsymbol{A}\\begin{bmatrix}\n",
        "\\boldsymbol{V}_1 \\vdots \\boldsymbol{V}_2\\cdots \\vdots \\boldsymbol{V}_n \n",
        "\\end{bmatrix} =\\operatorname{diag}(\\lambda_1,\\lambda_2\\ldots,\\lambda_n)\\begin{bmatrix}\n",
        "\\boldsymbol{V}_1 \\vdots \\boldsymbol{V}_2\\cdots  \\vdots \\boldsymbol{V}_n \n",
        "\\end{bmatrix}.\n",
        "$$\n",
        "Therefore, the eigenvalue equation is just:\n",
        "\\begin{align}\n",
        "%$$\n",
        "  \\boldsymbol{A}\\,\\boldsymbol{V}_i=&\\lambda_i\\boldsymbol{V}_i \\nonumber\\\\\n",
        "  \\boldsymbol{A}\\,\\boldsymbol{V}_i-\\lambda_i\\boldsymbol{V}_i=&\\boldsymbol{0} \\nonumber\\\\\n",
        "  (\\boldsymbol{A}-\\lambda_i \\,\\boldsymbol{I})\\boldsymbol{V}_i=&\\boldsymbol{0}\\,,\n",
        "%$$\n",
        "\\end{align}\n",
        "where $\\boldsymbol{V}_i$ is the $i$-th column of the matrix  $\\boldsymbol{V}$, and $\\boldsymbol{I}$ is the identity matrix. \n",
        "\n",
        "To avoid the trivial solution $\\boldsymbol{V}_i=\\boldsymbol{0}$, we require that $\\boldsymbol{A}-\\lambda_i\\, \\boldsymbol{I}$\n",
        "does not have an inverse, or equivalently\n",
        "$$\\det( \\boldsymbol{A}-\\lambda_i\\, \\boldsymbol{I})=0\\,.$$"
      ]
    },
    {
      "cell_type": "markdown",
      "metadata": {
        "id": "taoC5VsiwB-1"
      },
      "source": [
        "### Example\n",
        "The observables associated to the three neutrinos are the entries of a $3\\times 3$ unitary matrix $\\boldsymbol{U}=\\begin{pmatrix}\\boldsymbol{U}_1\\vdots\\boldsymbol{U}_2\\vdots\\boldsymbol{U}_3\\end{pmatrix}$ and the eigenvalues associated to each eigenvector $\\boldsymbol{U}_1\\to  m_1$, $\\boldsymbol{U}_2\\to m_2$, $\\boldsymbol{U}_3\\to m_3$. The normal ordering is $m_1<m_2<m_3$. The unitary matrix can be parameterized in terms of three mixing angles, $\\theta_{12}$ $\\theta_{13}$, $\\theta_{13}$, and a complex phase, $\\delta_{\\text{CP}}$, such that\n",
        "$$\n",
        "\\boldsymbol{U}=\\left(\\begin{array}{ccc}\n",
        "1 & 0 & 0 \\\\\n",
        "0 & c_{23} & s_{23} \\\\\n",
        "0 & -s_{23} & c_{23}\n",
        "\\end{array}\\right) \\cdot\\left(\\begin{array}{ccc}\n",
        "c_{13} & 0 & s_{13} e^{-i \\delta_{\\mathrm{CP}}} \\\\\n",
        "0 & 1 & 0 \\\\\n",
        "-s_{13} e^{i \\delta_{\\mathrm{CP}}} & 0 & c_{13}\n",
        "\\end{array}\\right) \\cdot\\left(\\begin{array}{ccc}\n",
        "c_{21} & s_{12} & 0 \\\\\n",
        "-s_{12} & c_{12} & 0 \\\\\n",
        "0 & 0 & 1\n",
        "\\end{array}\\right),\n",
        "$$\n",
        "where $c_{i j} \\equiv \\cos \\theta_{i j}$ and $s_{i j} \\equiv \\sin \\theta_{i j}$. Thus, we can write $\\boldsymbol{U}$ as\n",
        "$$\n",
        "\\boldsymbol{U}=\\left(\\begin{array}{ccc}c_{12} c_{13} & s_{12} c_{13} & s_{13} e^{-i \\delta_{\\mathrm{CP}}} \\\\ -s_{12} c_{23}-c_{12} s_{13} s_{23} e^{i \\delta_{\\mathrm{CP}}} & c_{12} c_{23}-s_{12} s_{13} s_{23} e^{i \\delta_{\\mathrm{CP}}} & c_{13} s_{23} \\\\ s_{12} s_{23}-c_{12} s_{13} c_{23} e^{i \\delta_{\\mathrm{CP}}} & -c_{12} s_{23}-s_{12} s_{13} c_{23} e^{i \\delta_{\\mathrm{CP}}} & c_{13} c_{23}\\end{array}\\right)\n",
        "$$\n",
        "so that\n",
        "$$\n",
        "\\boldsymbol{U}_1=\\begin{pmatrix}\n",
        "c_{12} c_{13} \\\\\n",
        "-s_{12} c_{23}-c_{12} s_{13} s_{23} e^{i \\delta_{\\mathrm{CP}}} \\\\\n",
        "s_{12} s_{23}-c_{12} s_{13} c_{23} e^{i \\delta_{\\mathrm{CP}}}\n",
        "\\end{pmatrix},\\qquad \\boldsymbol{U}_2=\\begin{pmatrix}\n",
        "s_{12} c_{13} \\\\\n",
        "c_{12} c_{23}-s_{12} s_{13} s_{23} e^{i \\delta_{\\mathrm{CP}}} \\\\\n",
        "-c_{12} s_{23}-s_{12} s_{13} c_{23} e^{i \\delta_{\\mathrm{CP}}}\n",
        "\\end{pmatrix},\\qquad\n",
        "\\boldsymbol{U}_3=\\begin{pmatrix}\n",
        "s_{13} e^{-i \\delta_{\\mathrm{CP}}} \\\\\n",
        "c_{13} s_{23} \\\\\n",
        "c_{13} c_{23}\n",
        "\\end{pmatrix}\n",
        "$$\n",
        "\n",
        "After decades of experimental efforts with thousands of millions of dollars in investment and two recent Nobel prizes, most of the parameters are already measured (see [PDG22020](https://pdg.lbl.gov/2018/reviews/rpp2018-rev-neutrino-mixing.pdf) ):\n",
        "\n",
        "![IMAGE](https://github.com/restrepo/ComputationalMethods/blob/master/material/figures/nu.png?raw=1)\n",
        "\n",
        "where $\\Delta m^2_{ij}=m^2_i-m^2_j$ is the squared mass difference between eigenvalues $i$ and $j$; and $\\text{eV}$ is really $\\text{eV}/c^2$ where $c$ is the speed of light  in vacuum in natural units with $c=1$, and $1\\ \\text{eV}=1.602\\,176\\,6208(98)\\times 10^{-19}\\ \\text{J}$.\n"
      ]
    },
    {
      "cell_type": "markdown",
      "metadata": {
        "id": "RHEadZrOwB-1"
      },
      "source": [
        "To a better measurement of $\\delta_{CP}$ for example, a new large experiment called [DUNE](https://www.dunescience.org/), and with a cost of around [$\\$1\\,500$ million of dollars](https://web.fnal.gov/organization/OPSS/Projects/LBNFDUNE/LBNF%20APM%20Jul%202015/Review%20Documents/LBNF%20DUNE%20ICR_Final%20Report.pdf), is in construction in the United States\n",
        "![IMAGE](https://github.com/restrepo/ComputationalMethods/blob/master/material/figures/DUNE.jpg?raw=1)"
      ]
    },
    {
      "cell_type": "markdown",
      "metadata": {
        "id": "pCSR2TVCHRwa"
      },
      "source": [
        "## Theorem 2: Singular value decomposition (SVD)\n",
        "See [SVD](https://en.wikipedia.org/wiki/Singular_value_decomposition) (where the  Hermetique-conjugate is denoted with \"*\" instead that with \"\")\n",
        "\n",
        "A general complex matrix $\\boldsymbol{A}$  can be diagonalized by a bi-diagonal transformation such that\n",
        "\\begin{equation}\n",
        "  \\boldsymbol{V}^\\dagger\\boldsymbol{A}\\,\\boldsymbol{U}=\\boldsymbol{A}_{\\text{diag}}\\,,\n",
        "\\end{equation}\n",
        "where \n",
        "$\\boldsymbol{A}_{\\text{diag}}=\\operatorname{diag}(\\lambda_1,\\lambda_2,\\ldots \\lambda_n)$ is the diagonalized mass matrix.\n",
        "\n",
        "### Demostration\n",
        "\\begin{align}\n",
        "  \\boldsymbol{A}_{\\text{diag}}=&\\boldsymbol{V}^\\dagger\\boldsymbol{A}\\,\\boldsymbol{U}\\\\\n",
        "  \\boldsymbol{A}_{\\text{diag}}\\boldsymbol{A}_{\\text{diag}}^\\dagger=&\\boldsymbol{V}^\\dagger\\boldsymbol{A}\\,\\boldsymbol{U}\n",
        "  \\left(\\boldsymbol{V}^\\dagger\\boldsymbol{A}\\,\\boldsymbol{U}\\right)^\\dagger\\\\\n",
        "  =&\\boldsymbol{V}^\\dagger\\boldsymbol{A}\\,\\boldsymbol{U}\n",
        "  \\left(   \\boldsymbol{U}^\\dagger \\boldsymbol{A}^\\dagger\\,\\boldsymbol{V}\\right)\\\\\n",
        "  =&\\boldsymbol{V}^\\dagger\n",
        "  \\left( \\boldsymbol{A}  \\boldsymbol{A}^\\dagger\\,\\right) \\boldsymbol{V}\\,.\\\\\n",
        "\\end{align}\n",
        "Since $\\boldsymbol{A}  \\boldsymbol{A}^\\dagger$ is hermitic and $\\boldsymbol{A}  \\boldsymbol{A}^\\dagger$ is diagonal, then in fact there exists an unitary matrix $\\boldsymbol{V}$.  Similarly there exists an unitary matrix $\\boldsymbol{U}$ which diagonalizes  $\\boldsymbol{A}^\\dagger  \\boldsymbol{A}$"
      ]
    },
    {
      "cell_type": "markdown",
      "metadata": {
        "id": "172CplqHwB-3"
      },
      "source": [
        "### Scipy implementation\n",
        "The implementation in scipy is based in the inverted relation \n",
        "\\begin{align}\n",
        "  \\boldsymbol{V}^\\dagger\\boldsymbol{A}\\,\\boldsymbol{U}=&\\boldsymbol{A}_{\\text{diag}}\\\\\n",
        "  \\boldsymbol{V}\\boldsymbol{V}^\\dagger\\boldsymbol{A}\\,\\boldsymbol{U}\\boldsymbol{U}^\\dagger=&\\boldsymbol{V}\\boldsymbol{A}_{\\text{diag}}\\boldsymbol{U}^\\dagger\\\\\n",
        "  \\boldsymbol{A}=&\\boldsymbol{V}\\boldsymbol{A}_{\\text{diag}}\\boldsymbol{U}^\\dagger\\,.\n",
        "\\end{align}\n",
        "\n",
        "The implementation is trough the module `scipy.linalg.svd`:\n",
        "```bash\n",
        "V,Adiag,Udagger=linalg.svd(A)\n",
        "```\n"
      ]
    },
    {
      "cell_type": "markdown",
      "metadata": {
        "id": "osxweeQvZeoY"
      },
      "source": [
        "### Eigenvectors and eigenvalues\n",
        "If we make\n",
        "$$ \\boldsymbol{U}=[\\boldsymbol{U}_1\\vdots\\boldsymbol{U}_2\\vdots\\cdots\\vdots\\boldsymbol{U}_n], \\qquad \\boldsymbol{V}=[\\boldsymbol{V}_1\\vdots\\boldsymbol{V}_2\\vdots\\cdots\\vdots\\boldsymbol{V}_n] $$\n",
        "\n",
        "We know that there exists a bi-diagonal transformación such that\n",
        "\\begin{equation}\n",
        "%$$\n",
        "  \\boldsymbol{A}\\,\\boldsymbol{U}=\\boldsymbol{V}\\boldsymbol{A}_{\\text{diag}}\n",
        "\\end{equation}\n",
        "\\begin{equation}\n",
        "  \\boldsymbol{A}\\,\\boldsymbol{U}_i=\\lambda_i\\boldsymbol{V}_i\n",
        "%$$\n",
        "\\end{equation}\n",
        "not sum upon $i$. Here \n",
        "* $\\lambda_i$ are called eigenvalues\n",
        "* $V_i$ and $U_i$ are the eigenvectors"
      ]
    },
    {
      "cell_type": "markdown",
      "metadata": {
        "id": "KzphXQAeZeoY"
      },
      "source": [
        "We can use this to check the proper order of the eigenvalues"
      ]
    },
    {
      "cell_type": "markdown",
      "metadata": {
        "id": "A1iOYehvZeoK"
      },
      "source": [
        "### Transformation of a linear system\n",
        "We start again with the matrix equation, capitol bold letters denotes matrices\n",
        "\\begin{equation}\n",
        "  \\boldsymbol{A}\\boldsymbol{X}=\\boldsymbol{B}\\,,\n",
        "\\end{equation}\n",
        "where $\\boldsymbol{A}$ is an $n \\times n$ matrix.\n",
        "\n",
        "We know that there exists a bi-diagonal transformación such that\n",
        "\\begin{equation}\n",
        "  \\boldsymbol{V}^\\dagger\\boldsymbol{A}\\,\\boldsymbol{U}=\\boldsymbol{A}_{\\text{diag}}\n",
        "\\end{equation}\n",
        "So, by doing standard operations we have\n",
        "\\begin{align}\n",
        "  \\boldsymbol{V}^\\dagger \\boldsymbol{A} \\boldsymbol{U} \\boldsymbol{U}^\\dagger \\boldsymbol{X}=& \\boldsymbol{V}^\\dagger \\boldsymbol{B}\\\\\n",
        "   \\left( \\boldsymbol{V}^\\dagger \\boldsymbol{A} \\boldsymbol{U} \\right) \n",
        "   \\left( \\boldsymbol{U}^\\dagger \\boldsymbol{X}\\right)=& \\boldsymbol{V}^\\dagger \\boldsymbol{B}\\\\\n",
        "  \\boldsymbol{A}_{\\text{diag}} \\boldsymbol{X}'=&\\boldsymbol{B}'\\,,      \n",
        "\\end{align}\n",
        "where\n",
        "\\begin{align}\n",
        "  \\boldsymbol{X}'=& \\boldsymbol{U}^\\dagger \\boldsymbol{X}\\,, &    \\boldsymbol{B}'=& \\boldsymbol{V}^\\dagger \\boldsymbol{B}\\,,\n",
        "\\end{align}\n",
        "or\n",
        "\\begin{align}\n",
        "  \\boldsymbol{X}=& \\boldsymbol{U}\\boldsymbol{X}'\\,, &    \\boldsymbol{B}=& \\boldsymbol{V}\\boldsymbol{B}'\\,.\n",
        "\\end{align}\n",
        "\n",
        "If $\\boldsymbol{A}_{\\text{diag}}=\\operatorname{diag}(\\lambda_1,\\lambda_2,\\ldots \\lambda_n)$, $\\boldsymbol{X}^{\\operatorname{T}}=\\begin{pmatrix}x_1 & x_2 &\\cdots & x_n\\end{pmatrix}^{\\operatorname{T}}$ and $\\boldsymbol{B}^{\\operatorname{T}}=\\begin{pmatrix}b_1& b_2 &\\cdots & b_n\\end{pmatrix}^{\\operatorname{T}}$,\n",
        "the solution of the system is given by\n",
        "\\begin{equation}\n",
        "\\lambda_i x'_i=b_i'\\,.\n",
        "\\end{equation}\n",
        "\n",
        "Note that\n",
        "\\begin{align}\n",
        "   \\boldsymbol{X}'=&\\boldsymbol{A}_{\\text{diag}}^{-1}\\boldsymbol{B}'\\,,      \n",
        "\\end{align}\n",
        "and the final solution is\n",
        "\\begin{align}\n",
        "   \\boldsymbol{X}=&U \\boldsymbol{X}'\\\\ \n",
        "               =&U\\boldsymbol{A}_{\\text{diag}}^{-1}V^\\dagger \\boldsymbol{B}\\,,      \n",
        "\\end{align}\n",
        "Therefore\n",
        "$$A^{-1}=U\\boldsymbol{A}_{\\text{diag}}^{-1}V^\\dagger$$"
      ]
    },
    {
      "cell_type": "markdown",
      "metadata": {
        "id": "4Cvjb8GR7YAl"
      },
      "source": [
        "### Example"
      ]
    },
    {
      "cell_type": "markdown",
      "metadata": {
        "id": "1gnmh6-0ZeoK"
      },
      "source": [
        " A suitable way to introduce this method is applying it to some basic problem. To do so, let's take the result of the [Example 1](#Example-1):\n",
        "\n",
        "$$ \\begin{bmatrix}\n",
        "5 & -4 & 0 \\\\\n",
        "-4 & 7 & -3 \\\\ \n",
        "0 & -3 & 5\n",
        "\\end{bmatrix}\n",
        "\\begin{bmatrix}\n",
        "x_{1} \\\\\n",
        "x_{2} \\\\\n",
        "x_{3} \n",
        "\\end{bmatrix}  =\n",
        "\\begin{bmatrix}\n",
        "1 \\\\\n",
        "0 \\\\\n",
        "-2\n",
        "\\end{bmatrix}\n",
        "$$\n",
        "As the matrix is symmetric $\\boldsymbol{V}=\\boldsymbol{U}$ and $\\boldsymbol{U}^\\dagger=\\boldsymbol{U}^{\\operatorname{T}}$ "
      ]
    },
    {
      "cell_type": "code",
      "metadata": {
        "id": "ZrG-KMwhwB-8"
      },
      "source": [
        "import numpy as np"
      ],
      "execution_count": 1,
      "outputs": []
    },
    {
      "cell_type": "code",
      "metadata": {
        "id": "mIm4WqinUMlv"
      },
      "source": [
        "M1=np.array([[5,-4,0],\n",
        "             [-4,7,-3],\n",
        "             [0,-3,5]])"
      ],
      "execution_count": null,
      "outputs": []
    },
    {
      "cell_type": "code",
      "metadata": {
        "id": "YUHs_HgxZeoL",
        "outputId": "1e4481c1-6117-4b2f-807f-00c82b5c212a",
        "colab": {
          "base_uri": "https://localhost:8080/",
          "height": 71
        }
      },
      "source": [
        "A=M1\n",
        "A"
      ],
      "execution_count": null,
      "outputs": [
        {
          "output_type": "execute_result",
          "data": {
            "text/plain": [
              "array([[ 5, -4,  0],\n",
              "       [-4,  7, -3],\n",
              "       [ 0, -3,  5]])"
            ]
          },
          "metadata": {
            "tags": []
          },
          "execution_count": 19
        }
      ]
    },
    {
      "cell_type": "markdown",
      "metadata": {
        "id": "wPaMSVoVUZWm"
      },
      "source": [
        "Check if all eigenvalues are different from zero:"
      ]
    },
    {
      "cell_type": "code",
      "metadata": {
        "id": "TSE7tFaFUjhF",
        "outputId": "08a9734c-93b2-4689-f3c9-0fec86608f5a",
        "colab": {
          "base_uri": "https://localhost:8080/",
          "height": 35
        }
      },
      "source": [
        "np.linalg.det(A)"
      ],
      "execution_count": null,
      "outputs": [
        {
          "output_type": "execute_result",
          "data": {
            "text/plain": [
              "49.99999999999999"
            ]
          },
          "metadata": {
            "tags": []
          },
          "execution_count": 20
        }
      ]
    },
    {
      "cell_type": "code",
      "metadata": {
        "id": "JDFWE3CDUp7c",
        "outputId": "adcadc55-e2bc-4275-aab8-6aeabf816359",
        "colab": {
          "base_uri": "https://localhost:8080/",
          "height": 71
        }
      },
      "source": [
        "B=np.c_[ [1,0,-2]  ]\n",
        "B"
      ],
      "execution_count": null,
      "outputs": [
        {
          "output_type": "execute_result",
          "data": {
            "text/plain": [
              "array([[ 1],\n",
              "       [ 0],\n",
              "       [-2]])"
            ]
          },
          "metadata": {
            "tags": []
          },
          "execution_count": 21
        }
      ]
    },
    {
      "cell_type": "markdown",
      "metadata": {
        "id": "VzE6Z0THVAXa"
      },
      "source": [
        "Also as \n",
        "```python\n",
        "B=np.array([[1],[0],[-2]])\n",
        "#or\n",
        "B=np.reshape(  [1,0,-2],(3,1) )\n",
        "```"
      ]
    },
    {
      "cell_type": "markdown",
      "metadata": {
        "id": "4RHVUZN6wB_Z"
      },
      "source": [
        "### Theorem 1 in `numpy`"
      ]
    },
    {
      "cell_type": "code",
      "metadata": {
        "id": "7iQkosR8ZeoQ"
      },
      "source": [
        "λ,V=np.linalg.eig( A )"
      ],
      "execution_count": null,
      "outputs": []
    },
    {
      "cell_type": "code",
      "metadata": {
        "id": "oRoNMFvLZeoS",
        "outputId": "3c4b2983-8977-47fb-b737-ff0dfa84e851",
        "colab": {
          "base_uri": "https://localhost:8080/",
          "height": 71
        }
      },
      "source": [
        "A_diag=np.diag(λ)\n",
        "A_diag"
      ],
      "execution_count": null,
      "outputs": [
        {
          "output_type": "execute_result",
          "data": {
            "text/plain": [
              "array([[11.09901951,  0.        ,  0.        ],\n",
              "       [ 0.        ,  0.90098049,  0.        ],\n",
              "       [ 0.        ,  0.        ,  5.        ]])"
            ]
          },
          "metadata": {
            "tags": []
          },
          "execution_count": 23
        }
      ]
    },
    {
      "cell_type": "code",
      "metadata": {
        "id": "81EhmwnPZeoU",
        "outputId": "ceeea4a7-4857-4926-98ed-0840e3b635f2",
        "colab": {
          "base_uri": "https://localhost:8080/",
          "height": 71
        }
      },
      "source": [
        "V"
      ],
      "execution_count": null,
      "outputs": [
        {
          "output_type": "execute_result",
          "data": {
            "text/plain": [
              "array([[-5.07191124e-01, -6.18673713e-01, -6.00000000e-01],\n",
              "       [ 7.73342141e-01, -6.33988906e-01,  1.91548674e-16],\n",
              "       [-3.80393343e-01, -4.64005285e-01,  8.00000000e-01]])"
            ]
          },
          "metadata": {
            "tags": []
          },
          "execution_count": 24
        }
      ]
    },
    {
      "cell_type": "markdown",
      "metadata": {
        "id": "oQMyx6oAZeoW"
      },
      "source": [
        "We first check the proper order of the diagonalization"
      ]
    },
    {
      "cell_type": "code",
      "metadata": {
        "id": "vYFqc13bZeoW",
        "outputId": "79ada534-d98c-42b1-becb-ca85aaf778cc",
        "colab": {
          "base_uri": "https://localhost:8080/",
          "height": 71
        }
      },
      "source": [
        "np.dot(  np.dot( V.transpose(),A  ), V).round(14)"
      ],
      "execution_count": null,
      "outputs": [
        {
          "output_type": "execute_result",
          "data": {
            "text/plain": [
              "array([[11.09901951,  0.        ,  0.        ],\n",
              "       [ 0.        ,  0.90098049,  0.        ],\n",
              "       [ 0.        ,  0.        ,  5.        ]])"
            ]
          },
          "metadata": {
            "tags": []
          },
          "execution_count": 25
        }
      ]
    },
    {
      "cell_type": "markdown",
      "metadata": {
        "id": "njiAE4b4ZeoZ"
      },
      "source": [
        "Since"
      ]
    },
    {
      "cell_type": "code",
      "metadata": {
        "id": "RQ2mx4eIZeoa",
        "outputId": "300d5b59-f1fa-40ee-891a-e4299085c242"
      },
      "source": [
        "V"
      ],
      "execution_count": null,
      "outputs": [
        {
          "output_type": "execute_result",
          "data": {
            "text/plain": [
              "array([[-5.07191124e-01, -6.18673713e-01, -6.00000000e-01],\n",
              "       [ 7.73342141e-01, -6.33988906e-01,  1.91548674e-16],\n",
              "       [-3.80393343e-01, -4.64005285e-01,  8.00000000e-01]])"
            ]
          },
          "metadata": {
            "tags": []
          },
          "execution_count": 26
        }
      ]
    },
    {
      "cell_type": "markdown",
      "metadata": {
        "id": "JkZI2pTNZeoc"
      },
      "source": [
        "The final solution is:"
      ]
    },
    {
      "cell_type": "code",
      "metadata": {
        "id": "dfsG88C5VqvK",
        "outputId": "f0c29663-8175-4e0f-bf54-25666a2cb1aa",
        "colab": {
          "base_uri": "https://localhost:8080/",
          "height": 71
        }
      },
      "source": [
        "A_diag_inv=np.diag(1/λ)\n",
        "A_diag_inv"
      ],
      "execution_count": null,
      "outputs": [
        {
          "output_type": "execute_result",
          "data": {
            "text/plain": [
              "array([[0.09009805, 0.        , 0.        ],\n",
              "       [0.        , 1.10990195, 0.        ],\n",
              "       [0.        , 0.        , 0.2       ]])"
            ]
          },
          "metadata": {
            "tags": []
          },
          "execution_count": 27
        }
      ]
    },
    {
      "cell_type": "markdown",
      "metadata": {
        "id": "ai04_rhhV7g4"
      },
      "source": [
        "check with `np.linalg.inv(A_diag)`"
      ]
    },
    {
      "cell_type": "code",
      "metadata": {
        "id": "bldXFh02Zeoc",
        "outputId": "efb61ac2-68de-47d7-f836-0ebb6d868ede",
        "colab": {
          "base_uri": "https://localhost:8080/",
          "height": 71
        }
      },
      "source": [
        "X=np.dot( np.dot( np.dot( V, np.diag(1/λ) ),V.transpose() ),B)\n",
        "X"
      ],
      "execution_count": null,
      "outputs": [
        {
          "output_type": "execute_result",
          "data": {
            "text/plain": [
              "array([[ 0.04],\n",
              "       [-0.2 ],\n",
              "       [-0.52]])"
            ]
          },
          "metadata": {
            "tags": []
          },
          "execution_count": 28
        }
      ]
    },
    {
      "cell_type": "markdown",
      "metadata": {
        "id": "xEtpogskWT5H"
      },
      "source": [
        "__<font color=\"red\">Activity</font>__: Usar np.lingalg.solve"
      ]
    },
    {
      "cell_type": "code",
      "metadata": {
        "id": "crPW_WltW9Bt",
        "outputId": "58090a9c-48bd-4e6e-f9f8-6696ece4d2ec",
        "colab": {
          "base_uri": "https://localhost:8080/",
          "height": 35
        }
      },
      "source": [
        "B.transpose()[0]"
      ],
      "execution_count": null,
      "outputs": [
        {
          "output_type": "execute_result",
          "data": {
            "text/plain": [
              "array([ 1,  0, -2])"
            ]
          },
          "metadata": {
            "tags": []
          },
          "execution_count": 24
        }
      ]
    },
    {
      "cell_type": "code",
      "metadata": {
        "id": "FbDQyS3_Wi-f",
        "outputId": "e44b25b2-55ad-455e-c4a5-68176d5bb6e2",
        "colab": {
          "base_uri": "https://localhost:8080/",
          "height": 35
        }
      },
      "source": [
        "np.linalg.solve(A,B.transpose()[0])"
      ],
      "execution_count": null,
      "outputs": [
        {
          "output_type": "execute_result",
          "data": {
            "text/plain": [
              "array([ 0.04, -0.2 , -0.52])"
            ]
          },
          "metadata": {
            "tags": []
          },
          "execution_count": 29
        }
      ]
    },
    {
      "cell_type": "markdown",
      "metadata": {
        "id": "agZ-WPWgZeoe"
      },
      "source": [
        "We can now check some properties.\n",
        "* Obtain $\\theta_{12}$ for $\\lambda_1<\\lambda_2<\\lambda_3$"
      ]
    },
    {
      "cell_type": "code",
      "metadata": {
        "id": "KAruEyXoZeoe",
        "outputId": "506837cc-f6f5-4daa-885f-74de9d7e0a9e",
        "colab": {
          "base_uri": "https://localhost:8080/",
          "height": 71
        }
      },
      "source": [
        "V"
      ],
      "execution_count": null,
      "outputs": [
        {
          "output_type": "execute_result",
          "data": {
            "text/plain": [
              "array([[-5.07191124e-01, -6.18673713e-01, -6.00000000e-01],\n",
              "       [ 7.73342141e-01, -6.33988906e-01,  1.91548674e-16],\n",
              "       [-3.80393343e-01, -4.64005285e-01,  8.00000000e-01]])"
            ]
          },
          "metadata": {
            "tags": []
          },
          "execution_count": 30
        }
      ]
    },
    {
      "cell_type": "code",
      "metadata": {
        "id": "Lg_7lshmZeoh",
        "outputId": "171eeba4-27f8-443a-8b44-72e7807b3c86",
        "colab": {
          "base_uri": "https://localhost:8080/",
          "height": 71
        }
      },
      "source": [
        "np.c_[ V[: ,0] ]"
      ],
      "execution_count": null,
      "outputs": [
        {
          "output_type": "execute_result",
          "data": {
            "text/plain": [
              "array([[-0.50719112],\n",
              "       [ 0.77334214],\n",
              "       [-0.38039334]])"
            ]
          },
          "metadata": {
            "tags": []
          },
          "execution_count": 31
        }
      ]
    },
    {
      "cell_type": "code",
      "metadata": {
        "id": "VAFBe0g_Zeok",
        "outputId": "b096d3be-9235-46ac-cb8a-1762fed22867",
        "colab": {
          "base_uri": "https://localhost:8080/",
          "height": 35
        }
      },
      "source": [
        "A_diag[0,0],λ[0]"
      ],
      "execution_count": null,
      "outputs": [
        {
          "output_type": "execute_result",
          "data": {
            "text/plain": [
              "(11.099019513592784, 11.099019513592784)"
            ]
          },
          "metadata": {
            "tags": []
          },
          "execution_count": 32
        }
      ]
    },
    {
      "cell_type": "markdown",
      "metadata": {
        "id": "utMR7eiOZeom"
      },
      "source": [
        "We define the eigenvector $V_i$ as"
      ]
    },
    {
      "cell_type": "code",
      "metadata": {
        "id": "ButZ6c29Zeom",
        "outputId": "bb46e578-01a6-42d1-b495-aa9853a12df4",
        "colab": {
          "base_uri": "https://localhost:8080/",
          "height": 179
        }
      },
      "source": [
        "V0=np.c_[ V[:,0] ]\n",
        "V1=np.c_[ V[:,1] ]\n",
        "V2=np.c_[ V[:,2] ]\n",
        "display(V0)\n",
        "display(V1)\n",
        "V2"
      ],
      "execution_count": null,
      "outputs": [
        {
          "output_type": "display_data",
          "data": {
            "text/plain": [
              "array([[-0.50719112],\n",
              "       [ 0.77334214],\n",
              "       [-0.38039334]])"
            ]
          },
          "metadata": {
            "tags": []
          }
        },
        {
          "output_type": "display_data",
          "data": {
            "text/plain": [
              "array([[-0.61867371],\n",
              "       [-0.63398891],\n",
              "       [-0.46400528]])"
            ]
          },
          "metadata": {
            "tags": []
          }
        },
        {
          "output_type": "execute_result",
          "data": {
            "text/plain": [
              "array([[-6.00000000e-01],\n",
              "       [ 1.91548674e-16],\n",
              "       [ 8.00000000e-01]])"
            ]
          },
          "metadata": {
            "tags": []
          },
          "execution_count": 33
        }
      ]
    },
    {
      "cell_type": "code",
      "metadata": {
        "id": "MkfNpMwbZeow",
        "outputId": "7759c6fb-c985-435d-9a3c-5e0a22487e26",
        "colab": {
          "base_uri": "https://localhost:8080/",
          "height": 125
        }
      },
      "source": [
        "print('{} =\\n{}'.format( np.dot(A,V0),λ[0]*V0 ) )"
      ],
      "execution_count": null,
      "outputs": [
        {
          "output_type": "stream",
          "text": [
            "[[-5.62932419]\n",
            " [ 8.58333952]\n",
            " [-4.22199314]] =\n",
            "[[-5.62932419]\n",
            " [ 8.58333952]\n",
            " [-4.22199314]]\n"
          ],
          "name": "stdout"
        }
      ]
    },
    {
      "cell_type": "markdown",
      "metadata": {
        "id": "2gSZQGhwZMbU"
      },
      "source": [
        "Check: $ A V_i=\\lambda_i V_i$\n",
        "\n",
        "Which means the eigenvalue associated to the \"operator\" $A$ acting on the eigenvector $V_1$"
      ]
    },
    {
      "cell_type": "code",
      "metadata": {
        "id": "N7rTShl9Zeoz",
        "outputId": "e2cc0abe-6639-4789-f7ba-4957ea65c6e3",
        "colab": {
          "base_uri": "https://localhost:8080/",
          "height": 125
        }
      },
      "source": [
        "print('{} =\\n{}'.format( np.dot(A,V1),λ[1]*V1 ) )"
      ],
      "execution_count": null,
      "outputs": [
        {
          "output_type": "stream",
          "text": [
            "[[-0.55741294]\n",
            " [-0.57121163]\n",
            " [-0.41805971]] =\n",
            "[[-0.55741294]\n",
            " [-0.57121163]\n",
            " [-0.41805971]]\n"
          ],
          "name": "stdout"
        }
      ]
    },
    {
      "cell_type": "code",
      "metadata": {
        "id": "zRu4zQHKZeo2",
        "outputId": "b123d387-d8da-43db-808e-0600748ceb2d",
        "colab": {
          "base_uri": "https://localhost:8080/",
          "height": 125
        }
      },
      "source": [
        "print('{} =\\n{}'.format( np.dot(A,V2).round(14),\n",
        "                         (λ[2]*V2).round(14) ) )"
      ],
      "execution_count": null,
      "outputs": [
        {
          "output_type": "stream",
          "text": [
            "[[-3.]\n",
            " [ 0.]\n",
            " [ 4.]] =\n",
            "[[-3.]\n",
            " [ 0.]\n",
            " [ 4.]]\n"
          ],
          "name": "stdout"
        }
      ]
    },
    {
      "cell_type": "markdown",
      "metadata": {
        "id": "wmszgFZdZeo5"
      },
      "source": [
        "The diagonalization matrix can be rebuild from the eigenvectors"
      ]
    },
    {
      "cell_type": "code",
      "metadata": {
        "id": "2uAsu7Bgarxo",
        "outputId": "3ea7390e-f31b-494e-c759-27544186198a",
        "colab": {
          "base_uri": "https://localhost:8080/",
          "height": 71
        }
      },
      "source": [
        "V"
      ],
      "execution_count": null,
      "outputs": [
        {
          "output_type": "execute_result",
          "data": {
            "text/plain": [
              "array([[-5.07191124e-01, -6.18673713e-01, -6.00000000e-01],\n",
              "       [ 7.73342141e-01, -6.33988906e-01,  1.91548674e-16],\n",
              "       [-3.80393343e-01, -4.64005285e-01,  8.00000000e-01]])"
            ]
          },
          "metadata": {
            "tags": []
          },
          "execution_count": 44
        }
      ]
    },
    {
      "cell_type": "markdown",
      "metadata": {
        "id": "_AjDSlz3bIPW"
      },
      "source": [
        "is rebuild with"
      ]
    },
    {
      "cell_type": "code",
      "metadata": {
        "id": "5Q0PN44GavcA",
        "outputId": "7aadd247-dfaa-4096-9aae-972755b4259a",
        "colab": {
          "base_uri": "https://localhost:8080/",
          "height": 71
        }
      },
      "source": [
        "U=np.c_[ V0,V1,V2]\n",
        "U"
      ],
      "execution_count": null,
      "outputs": [
        {
          "output_type": "execute_result",
          "data": {
            "text/plain": [
              "array([[-5.07191124e-01, -6.18673713e-01, -6.00000000e-01],\n",
              "       [ 7.73342141e-01, -6.33988906e-01,  1.91548674e-16],\n",
              "       [-3.80393343e-01, -4.64005285e-01,  8.00000000e-01]])"
            ]
          },
          "metadata": {
            "tags": []
          },
          "execution_count": 35
        }
      ]
    },
    {
      "cell_type": "markdown",
      "metadata": {
        "id": "E_TOP-rdZeo5"
      },
      "source": [
        "or with: `np.hstack((V0,V1,V2))`"
      ]
    },
    {
      "cell_type": "code",
      "metadata": {
        "id": "-Vc63b8TZeo7",
        "outputId": "b7851c5c-8e95-42b5-b6df-27bf584494b4",
        "colab": {
          "base_uri": "https://localhost:8080/",
          "height": 71
        }
      },
      "source": [
        "np.dot(  np.dot( U.transpose(),A  ), U).round(14)"
      ],
      "execution_count": null,
      "outputs": [
        {
          "output_type": "execute_result",
          "data": {
            "text/plain": [
              "array([[11.09901951,  0.        ,  0.        ],\n",
              "       [ 0.        ,  0.90098049,  0.        ],\n",
              "       [ 0.        ,  0.        ,  5.        ]])"
            ]
          },
          "metadata": {
            "tags": []
          },
          "execution_count": 52
        }
      ]
    },
    {
      "cell_type": "markdown",
      "metadata": {
        "id": "9bls0mm5Zeo9"
      },
      "source": [
        "### Eigenvector reordering"
      ]
    },
    {
      "cell_type": "markdown",
      "metadata": {
        "id": "v_KcyjBpwCAp"
      },
      "source": [
        "<span style=\"color:red\">__Activity__</span>: https://beta.deepnote.com/project/17b487c8-b092-4032-94f5-438ba4eeb1e9"
      ]
    },
    {
      "cell_type": "markdown",
      "metadata": {
        "id": "DOBPvoJ1Zeo-"
      },
      "source": [
        "We can use this to check the proper order of the eigenvalues"
      ]
    },
    {
      "cell_type": "code",
      "metadata": {
        "id": "QE3H4w64bopE",
        "outputId": "532bdd2e-d2d2-4b9f-f1ff-8e3a74b6b42f",
        "colab": {
          "base_uri": "https://localhost:8080/",
          "height": 71
        }
      },
      "source": [
        "U=np.c_[ V1,V2,V0]\n",
        "np.dot(  np.dot( U.transpose(),A  ), U).round(14)"
      ],
      "execution_count": null,
      "outputs": [
        {
          "output_type": "execute_result",
          "data": {
            "text/plain": [
              "array([[ 0.90098049,  0.        ,  0.        ],\n",
              "       [ 0.        ,  5.        ,  0.        ],\n",
              "       [ 0.        ,  0.        , 11.09901951]])"
            ]
          },
          "metadata": {
            "tags": []
          },
          "execution_count": 36
        }
      ]
    },
    {
      "cell_type": "markdown",
      "metadata": {
        "id": "m6PMCrJlZeo-"
      },
      "source": [
        "The order of eigenvalues can now be changed by changing the order of the eigenvectors and redifining the diagonalization matrix. For example, from small to large. We define first the eigenvalues"
      ]
    },
    {
      "cell_type": "code",
      "metadata": {
        "id": "lKB5y3CawCAv",
        "outputId": "21ab2973-dc47-4f14-a59f-b9829052e5ad"
      },
      "source": [
        "U"
      ],
      "execution_count": null,
      "outputs": [
        {
          "output_type": "execute_result",
          "data": {
            "text/plain": [
              "array([[-6.18673713e-01, -6.00000000e-01, -5.07191124e-01],\n",
              "       [-6.33988906e-01,  1.91548674e-16,  7.73342141e-01],\n",
              "       [-4.64005285e-01,  8.00000000e-01, -3.80393343e-01]])"
            ]
          },
          "metadata": {
            "tags": []
          },
          "execution_count": 37
        }
      ]
    },
    {
      "cell_type": "code",
      "metadata": {
        "id": "9ek1yT-9wCAy"
      },
      "source": [
        "θ_12=np.arctan( U[0,1]/U[0,0] )"
      ],
      "execution_count": null,
      "outputs": []
    },
    {
      "cell_type": "code",
      "metadata": {
        "id": "C9Wgax1hwCA2",
        "outputId": "5634acb7-3d82-40fa-a6d1-db7805e034c8"
      },
      "source": [
        "θ_12, θ_12*180/np.pi"
      ],
      "execution_count": null,
      "outputs": [
        {
          "output_type": "execute_result",
          "data": {
            "text/plain": [
              "(0.7700763823614476, 44.122126612013574)"
            ]
          },
          "metadata": {
            "tags": []
          },
          "execution_count": 41
        }
      ]
    },
    {
      "cell_type": "markdown",
      "metadata": {
        "id": "n3kLyVHEwCA6"
      },
      "source": [
        "Generalization of the reordering"
      ]
    },
    {
      "cell_type": "code",
      "metadata": {
        "id": "HTWgBePpZeo_"
      },
      "source": [
        "np.sort?"
      ],
      "execution_count": null,
      "outputs": []
    },
    {
      "cell_type": "code",
      "metadata": {
        "id": "pixl0cvzZepB",
        "outputId": "b913c528-c7f8-413f-ab91-f36c0bdd36f1",
        "colab": {
          "base_uri": "https://localhost:8080/",
          "height": 35
        }
      },
      "source": [
        "np.sort( λ)"
      ],
      "execution_count": null,
      "outputs": [
        {
          "output_type": "execute_result",
          "data": {
            "text/plain": [
              "array([ 0.90098049,  5.        , 11.09901951])"
            ]
          },
          "metadata": {
            "tags": []
          },
          "execution_count": 59
        }
      ]
    },
    {
      "cell_type": "markdown",
      "metadata": {
        "id": "pZbAW-34cs7I"
      },
      "source": [
        "To reverse the order"
      ]
    },
    {
      "cell_type": "code",
      "metadata": {
        "id": "L3Qi31TkZepG",
        "outputId": "9058d74b-f071-48b2-aee1-14cbed77ba5e",
        "colab": {
          "base_uri": "https://localhost:8080/",
          "height": 35
        }
      },
      "source": [
        "np.sort( λ)[::-1]"
      ],
      "execution_count": null,
      "outputs": [
        {
          "output_type": "execute_result",
          "data": {
            "text/plain": [
              "array([11.09901951,  5.        ,  0.90098049])"
            ]
          },
          "metadata": {
            "tags": []
          },
          "execution_count": 60
        }
      ]
    },
    {
      "cell_type": "code",
      "metadata": {
        "id": "aYaYHJ2wZepJ",
        "outputId": "d2041162-e2cc-47f6-ad98-e201e6924677"
      },
      "source": [
        "λ"
      ],
      "execution_count": null,
      "outputs": [
        {
          "output_type": "execute_result",
          "data": {
            "text/plain": [
              "array([ 11.09901951,   0.90098049,   5.        ])"
            ]
          },
          "metadata": {
            "tags": []
          },
          "execution_count": 102
        }
      ]
    },
    {
      "cell_type": "code",
      "metadata": {
        "id": "DeIj8z5kZepL",
        "outputId": "90606a4c-6f6a-4709-ebd9-4a5141f75ee4",
        "colab": {
          "base_uri": "https://localhost:8080/",
          "height": 35
        }
      },
      "source": [
        "index=np.abs(λ).argsort()\n",
        "index"
      ],
      "execution_count": null,
      "outputs": [
        {
          "output_type": "execute_result",
          "data": {
            "text/plain": [
              "array([1, 2, 0])"
            ]
          },
          "metadata": {
            "tags": []
          },
          "execution_count": 64
        }
      ]
    },
    {
      "cell_type": "markdown",
      "metadata": {
        "id": "v5Mhuh-QZepP"
      },
      "source": [
        "can be implemented in general with a _comprehensive_ list"
      ]
    },
    {
      "cell_type": "code",
      "metadata": {
        "id": "iWvRFdz9etKa",
        "outputId": "ac48d6bf-e16f-4056-9ead-ccb31362f3c8",
        "colab": {
          "base_uri": "https://localhost:8080/",
          "height": 71
        }
      },
      "source": [
        "V"
      ],
      "execution_count": null,
      "outputs": [
        {
          "output_type": "execute_result",
          "data": {
            "text/plain": [
              "array([[-5.07191124e-01, -6.18673713e-01, -6.00000000e-01],\n",
              "       [ 7.73342141e-01, -6.33988906e-01,  1.91548674e-16],\n",
              "       [-3.80393343e-01, -4.64005285e-01,  8.00000000e-01]])"
            ]
          },
          "metadata": {
            "tags": []
          },
          "execution_count": 65
        }
      ]
    },
    {
      "cell_type": "code",
      "metadata": {
        "id": "UeBueRxbfeUc",
        "outputId": "0b497826-0400-4b28-9291-149f038b47c1",
        "colab": {
          "base_uri": "https://localhost:8080/",
          "height": 71
        }
      },
      "source": [
        "np.c_[ tuple( [ np.c_[V[:,i]]    for i in range(3) ] ) ]"
      ],
      "execution_count": null,
      "outputs": [
        {
          "output_type": "execute_result",
          "data": {
            "text/plain": [
              "array([[-5.07191124e-01, -6.18673713e-01, -6.00000000e-01],\n",
              "       [ 7.73342141e-01, -6.33988906e-01,  1.91548674e-16],\n",
              "       [-3.80393343e-01, -4.64005285e-01,  8.00000000e-01]])"
            ]
          },
          "metadata": {
            "tags": []
          },
          "execution_count": 42
        }
      ]
    },
    {
      "cell_type": "markdown",
      "metadata": {
        "id": "WwokXTJ-elVp"
      },
      "source": [
        "Changing the order to `index`"
      ]
    },
    {
      "cell_type": "code",
      "metadata": {
        "id": "wObPrmb4dgrs",
        "outputId": "8b850a8f-89b5-4e48-b587-7c298651f085",
        "colab": {
          "base_uri": "https://localhost:8080/",
          "height": 71
        }
      },
      "source": [
        "U=np.c_[ tuple( [ np.c_[V[:,i]]    for i in np.abs(λ).argsort() ] ) ]\n",
        "U"
      ],
      "execution_count": null,
      "outputs": [
        {
          "output_type": "execute_result",
          "data": {
            "text/plain": [
              "array([[-6.18673713e-01, -6.00000000e-01, -5.07191124e-01],\n",
              "       [-6.33988906e-01,  1.91548674e-16,  7.73342141e-01],\n",
              "       [-4.64005285e-01,  8.00000000e-01, -3.80393343e-01]])"
            ]
          },
          "metadata": {
            "tags": []
          },
          "execution_count": 68
        }
      ]
    },
    {
      "cell_type": "markdown",
      "metadata": {
        "id": "u0PoVQJshW8A"
      },
      "source": [
        "or: \n",
        "```python\n",
        "n=3\n",
        "U=np.hstack( [ np.reshape( V[:,i], (n,1) ) for i in index   ] )\n",
        "```"
      ]
    },
    {
      "cell_type": "code",
      "metadata": {
        "id": "2_A609DeZepR",
        "outputId": "d10f93b9-2dc0-4e95-ee4f-86cc1c7cc751",
        "colab": {
          "base_uri": "https://localhost:8080/",
          "height": 71
        }
      },
      "source": [
        "np.dot(  np.dot( U.transpose(),A  ), U).round(14)"
      ],
      "execution_count": null,
      "outputs": [
        {
          "output_type": "execute_result",
          "data": {
            "text/plain": [
              "array([[ 0.90098049,  0.        ,  0.        ],\n",
              "       [ 0.        ,  5.        ,  0.        ],\n",
              "       [ 0.        ,  0.        , 11.09901951]])"
            ]
          },
          "metadata": {
            "tags": []
          },
          "execution_count": 69
        }
      ]
    },
    {
      "cell_type": "markdown",
      "metadata": {
        "id": "ryPEhIWgiE-O"
      },
      "source": [
        "<font color=\"red\">__Activity__</font>:  Build a function that diagonalize with increasing order in the eigenvalues as a replacement of `np.linalg.eig`\n",
        "```python\n",
        "def argeig(A):\n",
        "    l,V=np.linalg.eig(A)\n",
        "    ....\n",
        "    return argl, argV\n",
        "```\n",
        "\n"
      ]
    },
    {
      "cell_type": "code",
      "metadata": {
        "id": "PL43mZH7leLE"
      },
      "source": [
        "and check that"
      ],
      "execution_count": null,
      "outputs": []
    },
    {
      "cell_type": "code",
      "metadata": {
        "id": "1VNLtnpSlEU9",
        "outputId": "011f20fd-03fe-4867-fa9d-6f7b1fefb51a",
        "colab": {
          "base_uri": "https://localhost:8080/"
        }
      },
      "source": [
        "%%writefile argeig.py\n",
        "#!/usr/bin/env python3\n",
        "def argeig(a):\n",
        "    \"\"\"\n",
        "    Diagonalize with increasing order in the eigenvalues.\n",
        "  \n",
        "    See help(np.linalg.eig)\n",
        "    \"\"\"\n",
        "    l,V=np.linalg.eig(a)\n",
        "    index=np.abs(l).argsort()\n",
        "    argl= np.sort( l)\n",
        "    argV=np.c_[ tuple([ np.c_[ V[:,i]] for i in index   ]) ]\n",
        "    return argl, argV"
      ],
      "execution_count": 15,
      "outputs": [
        {
          "output_type": "stream",
          "text": [
            "Overwriting argeig.py\n"
          ],
          "name": "stdout"
        }
      ]
    },
    {
      "cell_type": "code",
      "metadata": {
        "id": "rpj5-dz2wonx"
      },
      "source": [
        "C=np.array([[6,-5,0],\n",
        "             [-5,7,-1],\n",
        "             [0,-1,6]])"
      ],
      "execution_count": 16,
      "outputs": []
    },
    {
      "cell_type": "code",
      "metadata": {
        "id": "ZnFrd_vFwx1H",
        "outputId": "52302447-2dc8-4d4c-fe9c-0aa7ab3a4d04",
        "colab": {
          "base_uri": "https://localhost:8080/"
        }
      },
      "source": [
        "λ,V=argeig(C)\n",
        "λ,V"
      ],
      "execution_count": 17,
      "outputs": [
        {
          "output_type": "execute_result",
          "data": {
            "text/plain": [
              "(array([ 1.37652462,  6.        , 11.62347538]),\n",
              " array([[-7.26421024e-01, -1.96116135e-01, -6.58673635e-01],\n",
              "        [-6.71717944e-01,  8.29317461e-17,  7.40806995e-01],\n",
              "        [-1.45284205e-01,  9.80580676e-01, -1.31734727e-01]]))"
            ]
          },
          "metadata": {
            "tags": []
          },
          "execution_count": 17
        }
      ]
    },
    {
      "cell_type": "code",
      "metadata": {
        "id": "94ZHLjM0l-vS"
      },
      "source": [
        "```python\n",
        "#1.\n",
        "λ,V=argeig(A)\n",
        "λ,V\n",
        "Out[1]:\n",
        "(array([ 0.90098049,  5.        , 11.09901951]),\n",
        " array([[-6.18673713e-01, -6.00000000e-01, -5.07191124e-01],\n",
        "        [-6.33988906e-01,  1.91548674e-16,  7.73342141e-01],\n",
        "        [-4.64005285e-01,  8.00000000e-01, -3.80393343e-01]]))   \n",
        "```"
      ],
      "execution_count": null,
      "outputs": []
    },
    {
      "cell_type": "code",
      "metadata": {
        "id": "SqxnBdaDmBXq"
      },
      "source": [
        "```python\n",
        "#2.\n",
        "np.dot(  np.dot( V.transpose(),A  ), V).round(14)\n",
        "Out[1]:\n",
        "array([[ 0.90098049,  0.        ,  0.        ],\n",
        "       [ 0.        ,  5.        ,  0.        ],\n",
        "       [ 0.        ,  0.        , 11.09901951]])\n",
        "```"
      ],
      "execution_count": null,
      "outputs": []
    },
    {
      "cell_type": "code",
      "metadata": {
        "id": "CFemQeVVZepT"
      },
      "source": [
        "```python\n",
        "#3.\n",
        "print( np.linalg.det(A- λ[0]*np.identity(3) ) )\n",
        "print( np.linalg.det(A- λ[1]*np.identity(3) ) )\n",
        "np.linalg.det(A- λ[2]*np.identity(3) )\n",
        "```"
      ],
      "execution_count": null,
      "outputs": []
    },
    {
      "cell_type": "markdown",
      "metadata": {
        "id": "QLp5N41JZepX"
      },
      "source": [
        "### General matrix"
      ]
    },
    {
      "cell_type": "code",
      "metadata": {
        "id": "idtcA162wCCA"
      },
      "source": [
        "import numpy as np\n",
        "from scipy import linalg"
      ],
      "execution_count": null,
      "outputs": []
    },
    {
      "cell_type": "markdown",
      "metadata": {
        "id": "NjSBa_OrwCCD"
      },
      "source": [
        "__Example__:"
      ]
    },
    {
      "cell_type": "code",
      "metadata": {
        "id": "-Xsb1MHowCCD"
      },
      "source": [
        "#A=np.array([[ 2.5       ,  6.92820323],\n",
        "#            [-4.33012702,  4.        ]])"
      ],
      "execution_count": null,
      "outputs": []
    },
    {
      "cell_type": "code",
      "metadata": {
        "id": "wf4_9iGTwCCG"
      },
      "source": [
        "A=np.array([[ 6.66674644,  3.13121253],\n",
        "            [-0.23343505,  5.8902893 ]])"
      ],
      "execution_count": null,
      "outputs": []
    },
    {
      "cell_type": "code",
      "metadata": {
        "id": "66SuaPdSwCCK"
      },
      "source": [
        "from scipy import linalg"
      ],
      "execution_count": null,
      "outputs": []
    },
    {
      "cell_type": "code",
      "metadata": {
        "id": "iswUE7uiwCCQ"
      },
      "source": [
        "V,diag,Udagger=linalg.svd(A)"
      ],
      "execution_count": null,
      "outputs": []
    },
    {
      "cell_type": "code",
      "metadata": {
        "id": "Szl9PbQWwCCU"
      },
      "source": [
        "U=Udagger.transpose().conjugate()"
      ],
      "execution_count": null,
      "outputs": []
    },
    {
      "cell_type": "code",
      "metadata": {
        "id": "OzbMlmM3wCCX",
        "outputId": "6677f633-8407-473d-ac39-3b55a9068ee6"
      },
      "source": [
        "np.dot( np.dot( V.transpose().conjugate(),A    ), U).round(14)"
      ],
      "execution_count": null,
      "outputs": [
        {
          "output_type": "execute_result",
          "data": {
            "text/plain": [
              "array([[8., 0.],\n",
              "       [0., 5.]])"
            ]
          },
          "metadata": {
            "tags": []
          },
          "execution_count": 75
        }
      ]
    },
    {
      "cell_type": "markdown",
      "metadata": {
        "id": "IACBwzKCwCCb"
      },
      "source": [
        "This is important to stablish that the eigenvectors are determined until ordering and permutations"
      ]
    },
    {
      "cell_type": "code",
      "metadata": {
        "id": "tVBQ21dswCCb",
        "outputId": "a34ea71c-8751-47f8-b84a-400260ca555a"
      },
      "source": [
        "V"
      ],
      "execution_count": null,
      "outputs": [
        {
          "output_type": "execute_result",
          "data": {
            "text/plain": [
              "array([[-0.8660254, -0.5      ],\n",
              "       [-0.5      ,  0.8660254]])"
            ]
          },
          "metadata": {
            "tags": []
          },
          "execution_count": 76
        }
      ]
    },
    {
      "cell_type": "code",
      "metadata": {
        "id": "shHcXn2DwCCe",
        "outputId": "e76984cf-a167-4eb5-8bde-275e09ea5c5a"
      },
      "source": [
        "U"
      ],
      "execution_count": null,
      "outputs": [
        {
          "output_type": "execute_result",
          "data": {
            "text/plain": [
              "array([[-0.70710678, -0.70710678],\n",
              "       [-0.70710678,  0.70710678]])"
            ]
          },
          "metadata": {
            "tags": []
          },
          "execution_count": 77
        }
      ]
    },
    {
      "cell_type": "code",
      "metadata": {
        "id": "_Na3MWpkwCCh",
        "outputId": "eb5eab25-7de6-4e5d-d55e-11060d927d85"
      },
      "source": [
        "np.dot( np.transpose(U),U ).round(14)"
      ],
      "execution_count": null,
      "outputs": [
        {
          "output_type": "execute_result",
          "data": {
            "text/plain": [
              "array([[ 1., -0.],\n",
              "       [-0.,  1.]])"
            ]
          },
          "metadata": {
            "tags": []
          },
          "execution_count": 78
        }
      ]
    },
    {
      "cell_type": "code",
      "metadata": {
        "id": "MczQaGGlwCCk"
      },
      "source": [
        "def orthogonal(θ):\n",
        "    return np.array( [[np.cos(θ) ,np.sin(θ)],\n",
        "                      [-np.sin(θ),np.cos(θ)]]   )"
      ],
      "execution_count": null,
      "outputs": []
    },
    {
      "cell_type": "code",
      "metadata": {
        "id": "ldMZeCNLwCCm",
        "outputId": "92a66b60-3bd4-43d7-b562-16b1abe98422"
      },
      "source": [
        "Vp=orthogonal(np.pi/3)\n",
        "Vp"
      ],
      "execution_count": null,
      "outputs": [
        {
          "output_type": "execute_result",
          "data": {
            "text/plain": [
              "array([[ 0.5      ,  0.8660254],\n",
              "       [-0.8660254,  0.5      ]])"
            ]
          },
          "metadata": {
            "tags": []
          },
          "execution_count": 80
        }
      ]
    },
    {
      "cell_type": "code",
      "metadata": {
        "id": "RW_1U4NZwCCq",
        "outputId": "0b85a4ac-4a2b-4a3d-afda-bce15af1c6b4"
      },
      "source": [
        "VV=np.c_[ -V[:,1],-V[:,0]  ]\n",
        "VV"
      ],
      "execution_count": null,
      "outputs": [
        {
          "output_type": "execute_result",
          "data": {
            "text/plain": [
              "array([[ 0.5      ,  0.8660254],\n",
              "       [-0.8660254,  0.5      ]])"
            ]
          },
          "metadata": {
            "tags": []
          },
          "execution_count": 81
        }
      ]
    },
    {
      "cell_type": "code",
      "metadata": {
        "id": "5DtW3phAwCCu",
        "outputId": "aa7aa977-ce53-4314-ce87-6d59c01f64f5"
      },
      "source": [
        "Up=orthogonal(np.pi/4)\n",
        "Up"
      ],
      "execution_count": null,
      "outputs": [
        {
          "output_type": "execute_result",
          "data": {
            "text/plain": [
              "array([[ 0.70710678,  0.70710678],\n",
              "       [-0.70710678,  0.70710678]])"
            ]
          },
          "metadata": {
            "tags": []
          },
          "execution_count": 82
        }
      ]
    },
    {
      "cell_type": "code",
      "metadata": {
        "id": "ycMzA3FiwCCw",
        "outputId": "9916d4fc-1cde-4493-f478-a59b9c39dbc4"
      },
      "source": [
        "UU=np.c_[ -U[:,1],-U[:,0]  ]\n",
        "UU"
      ],
      "execution_count": null,
      "outputs": [
        {
          "output_type": "execute_result",
          "data": {
            "text/plain": [
              "array([[ 0.70710678,  0.70710678],\n",
              "       [-0.70710678,  0.70710678]])"
            ]
          },
          "metadata": {
            "tags": []
          },
          "execution_count": 83
        }
      ]
    },
    {
      "cell_type": "code",
      "metadata": {
        "id": "b1ybkvuVwCCy",
        "outputId": "9901d9b2-0b83-495f-c0c8-29d5a5cf27f6"
      },
      "source": [
        "np.dot( np.dot( VV.transpose().conjugate(),A    ), UU).round(14)"
      ],
      "execution_count": null,
      "outputs": [
        {
          "output_type": "execute_result",
          "data": {
            "text/plain": [
              "array([[5., 0.],\n",
              "       [0., 8.]])"
            ]
          },
          "metadata": {
            "tags": []
          },
          "execution_count": 84
        }
      ]
    },
    {
      "cell_type": "markdown",
      "metadata": {
        "id": "f5-1c-yzwCC0"
      },
      "source": [
        "<span style=\"color:red\">__Activity__</span>: https://beta.deepnote.com/project/17b487c8-b092-4032-94f5-438ba4eeb1e9"
      ]
    },
    {
      "cell_type": "markdown",
      "metadata": {
        "id": "14xxq4ROwCC1"
      },
      "source": [
        "<font color=\"red\">__Activity__</font>: Solve the system\n",
        "$$ \\boldsymbol{A} \\boldsymbol{x}=\\boldsymbol{B}$$\n",
        "for the previous $ \\boldsymbol{A}$ matrix and\n",
        "$$\\boldsymbol{B}=\\begin{bmatrix}\n",
        "   1\\\\\n",
        "   -4\\\\\n",
        "   \\end{bmatrix}$$"
      ]
    },
    {
      "cell_type": "markdown",
      "metadata": {
        "id": "lczgv4RawCC1"
      },
      "source": [
        "### Interpretations of Theorem 2"
      ]
    },
    {
      "cell_type": "markdown",
      "metadata": {
        "id": "BoesluQcwCC1"
      },
      "source": [
        "In Theorem 2 establishes a unique set of a matrix $A$ with its eigenvalues and eigenvectors. However, for a fixed set of eigenvalues and eigenvectors we can have several possibilities of $A'$ matrices. For example, if we fix $U'=\\boldsymbol{1}$ \n",
        "\\begin{equation}\n",
        "  {V'}^\\dagger \\boldsymbol{A'}=\\boldsymbol{A}_{\\text{diag}}\\,,\n",
        "\\end{equation}\n",
        "so that\n",
        "\\begin{equation}\n",
        "  \\boldsymbol{A}'=V'\\boldsymbol{A}_{\\text{diag}}\n",
        "\\end{equation}\n",
        "\n",
        "We can now choose any unitary matrix $V'$ and search for the matrix $A'$  which gives rise to the same eigenvalues.\n",
        "\n",
        "__Example__\n",
        "Let $V'=U^{\\operatorname{T}} V$ in the previous example. Find the matrix $A'$ which gives rise to the same eigenvalues"
      ]
    },
    {
      "cell_type": "code",
      "metadata": {
        "id": "6LbXZG5gwCC2"
      },
      "source": [
        "Adiag=np.array( [[5,0],\n",
        "                 [0,8]] )"
      ],
      "execution_count": null,
      "outputs": []
    },
    {
      "cell_type": "code",
      "metadata": {
        "id": "qqTkcN3ZwCC3",
        "outputId": "4d270301-0afc-4129-ebab-f30484343f41"
      },
      "source": [
        "Vp=np.dot( orthogonal(np.pi/4).transpose(),orthogonal(np.pi/3) )\n",
        "Vp"
      ],
      "execution_count": null,
      "outputs": [
        {
          "output_type": "execute_result",
          "data": {
            "text/plain": [
              "array([[ 0.96592583,  0.25881905],\n",
              "       [-0.25881905,  0.96592583]])"
            ]
          },
          "metadata": {
            "tags": []
          },
          "execution_count": 85
        }
      ]
    },
    {
      "cell_type": "code",
      "metadata": {
        "id": "yxf130nfwCC6",
        "outputId": "b1bd03ff-5d04-4283-b56d-5ec3d29845d4"
      },
      "source": [
        "Ap=np.dot( Vp,np.array( Adiag ) )\n",
        "Ap"
      ],
      "execution_count": null,
      "outputs": [
        {
          "output_type": "execute_result",
          "data": {
            "text/plain": [
              "array([[ 4.82962913,  2.07055236],\n",
              "       [-1.29409523,  7.72740661]])"
            ]
          },
          "metadata": {
            "tags": []
          },
          "execution_count": 24
        }
      ]
    },
    {
      "cell_type": "code",
      "metadata": {
        "id": "fEW6SfjhwCC9",
        "outputId": "9ec30381-050e-4a27-b48c-772a9cde4ffa"
      },
      "source": [
        "np.dot( Vp.transpose(),Ap).round(14)"
      ],
      "execution_count": null,
      "outputs": [
        {
          "output_type": "execute_result",
          "data": {
            "text/plain": [
              "array([[5., 0.],\n",
              "       [0., 8.]])"
            ]
          },
          "metadata": {
            "tags": []
          },
          "execution_count": 30
        }
      ]
    },
    {
      "cell_type": "markdown",
      "metadata": {
        "id": "eGrU7mrAwCC_"
      },
      "source": [
        "Finally, we can use the full procedure of hermitic matrices to obtain the bidiagonal matrices $U,V$\n",
        "\n",
        "__Example__:\n",
        "Diagonalize the matrix $A$ by using the Theorem 1 instead"
      ]
    },
    {
      "cell_type": "code",
      "metadata": {
        "id": "LunLbEqgwCDA"
      },
      "source": [
        "A=np.array([[ 6.66674644,  3.13121253],\n",
        "            [-0.23343505,  5.8902893 ]])"
      ],
      "execution_count": null,
      "outputs": []
    },
    {
      "cell_type": "code",
      "metadata": {
        "id": "qUeAj2QlwCDF",
        "outputId": "0959ad70-004c-4da6-d49c-2aa242446d2f"
      },
      "source": [
        "np.dot( A,A.transpose() )"
      ],
      "execution_count": null,
      "outputs": [
        {
          "output_type": "execute_result",
          "data": {
            "text/plain": [
              "array([[54.25      , 16.88749537],\n",
              "       [16.88749537, 34.74999996]])"
            ]
          },
          "metadata": {
            "tags": []
          },
          "execution_count": 89
        }
      ]
    },
    {
      "cell_type": "code",
      "metadata": {
        "id": "Yppl103gwCDU",
        "outputId": "cf09855d-25a6-4105-bc47-737b164e359a"
      },
      "source": [
        "np.dot( A.transpose(),A )"
      ],
      "execution_count": null,
      "outputs": [
        {
          "output_type": "execute_result",
          "data": {
            "text/plain": [
              "array([[44.50000002, 19.50000001],\n",
              "       [19.50000001, 44.49999995]])"
            ]
          },
          "metadata": {
            "tags": []
          },
          "execution_count": 90
        }
      ]
    },
    {
      "cell_type": "markdown",
      "metadata": {
        "id": "Po3uDwBnwCDW"
      },
      "source": [
        "→ is obtained with `<ALT GR>+i` or, similarly: ↓←"
      ]
    },
    {
      "cell_type": "code",
      "metadata": {
        "id": "sdTIZXfGwCDW",
        "outputId": "417fd339-c2ec-49ba-ac74-18e8c05dd3f8"
      },
      "source": [
        "λ2,V=np.linalg.eig( np.dot( A,A.transpose() ) )\n",
        "print(λ2,'→',np.sqrt(λ2))\n",
        "#V=np.c_[ -V[:,0],V[:,0]  ]\n",
        "V"
      ],
      "execution_count": null,
      "outputs": [
        {
          "output_type": "stream",
          "text": [
            "[63.99999999 24.99999997] → [8. 5.]\n"
          ],
          "name": "stdout"
        },
        {
          "output_type": "execute_result",
          "data": {
            "text/plain": [
              "array([[ 0.8660254, -0.5      ],\n",
              "       [ 0.5      ,  0.8660254]])"
            ]
          },
          "metadata": {
            "tags": []
          },
          "execution_count": 135
        }
      ]
    },
    {
      "cell_type": "code",
      "metadata": {
        "id": "E7oNXHEmwCDY",
        "outputId": "2f6d71d4-a031-4d91-bc40-149c8a3ec6fd"
      },
      "source": [
        "λ2p,U=np.linalg.eig( np.dot( A.transpose(),A ) )\n",
        "print(np.sqrt(λ2))\n",
        "U"
      ],
      "execution_count": null,
      "outputs": [
        {
          "output_type": "stream",
          "text": [
            "[8. 5.]\n"
          ],
          "name": "stdout"
        },
        {
          "output_type": "execute_result",
          "data": {
            "text/plain": [
              "array([[ 0.70710678, -0.70710678],\n",
              "       [ 0.70710678,  0.70710678]])"
            ]
          },
          "metadata": {
            "tags": []
          },
          "execution_count": 136
        }
      ]
    },
    {
      "cell_type": "code",
      "metadata": {
        "id": "aXKSEf_FwCDb",
        "outputId": "9e7dabbc-cb07-4256-e0cf-17889f64f429"
      },
      "source": [
        "np.dot( np.dot( V.transpose(),A ), U ).round(14)"
      ],
      "execution_count": null,
      "outputs": [
        {
          "output_type": "execute_result",
          "data": {
            "text/plain": [
              "array([[ 8., -0.],\n",
              "       [ 0.,  5.]])"
            ]
          },
          "metadata": {
            "tags": []
          },
          "execution_count": 137
        }
      ]
    },
    {
      "cell_type": "markdown",
      "metadata": {
        "id": "AcCr_56CwCDe"
      },
      "source": [
        "<span style=\"color:red\">__Actividad:__</span> cambiar el orden de los autovectores para obtener un orden ascendente en los autovalores"
      ]
    },
    {
      "cell_type": "markdown",
      "metadata": {
        "id": "F8PZnuDXwCDf"
      },
      "source": [
        "## Mixed terms"
      ]
    },
    {
      "cell_type": "markdown",
      "metadata": {
        "id": "eoToXo6jwCDf"
      },
      "source": [
        "Let:\n",
        "\\begin{align}\n",
        "X' = \n",
        "\\begin{bmatrix}\n",
        "B \\\\ \n",
        "W \\\\\n",
        "\\end{bmatrix}\n",
        "\\end{align}\n",
        "\n",
        "Consider  the quadratic equation \n",
        "\\begin{align}\n",
        "X^{\\prime\\operatorname{T}} M X^\\prime=& \\begin{bmatrix}\n",
        "B & W \n",
        "\\end{bmatrix}\n",
        "\\begin{bmatrix}\n",
        "M_{11} & M_{12} \\\\\n",
        "M_{12} & M_{22} \\\\\n",
        "\\end{bmatrix}\n",
        "\\begin{bmatrix}\n",
        "B \\\\ \n",
        "W \\\\\n",
        "\\end{bmatrix}\\\\\n",
        "=& \n",
        "\\begin{bmatrix}\n",
        "B & W \n",
        "\\end{bmatrix}\n",
        "\\begin{bmatrix}\n",
        "M_{11}B + M_{12}W \\\\\n",
        "M_{12}B + M_{22}W \\\\\n",
        "\\end{bmatrix}\\\\\n",
        "=& \n",
        "B( M_{11}B + M_{12}W)+  W ( M_{12}B + M_{22}W )\\\\\n",
        "=&M_{11} B^2 + 2M_{12} BW+ M_{22} W^2\\,. \n",
        "\\end{align}\n",
        "The quadratic equation is in terms of: $M_{11}$, $M_{12}$ y $M_{22}$\n",
        "\n",
        "We can simplify this expression if we change to a new basis \n",
        "$$\n",
        "X=\\begin{bmatrix}\n",
        "A\\\\\n",
        "Z\n",
        "\\end{bmatrix}\n",
        "$$\n",
        "in which $M$ is diagonal, in such a case the crossed term would disappear. \n",
        "The rotation from $X'\\to X$ is defined by\n",
        "\\begin{align}\n",
        "X'=\n",
        "\\begin{bmatrix}\n",
        "B\\\\\n",
        "W\n",
        "\\end{bmatrix}\\equiv\n",
        "\\begin{bmatrix}\n",
        "\\cos\\theta & \\sin\\theta\\\\\n",
        "-\\sin\\theta & \\cos\\theta\n",
        "\\end{bmatrix}\n",
        "\\begin{bmatrix}\n",
        "A\\\\\n",
        "Z\n",
        "\\end{bmatrix}=\n",
        "V X \n",
        "\\end{align}\n",
        "where $V$ is the rotation matrix\n",
        "$$\n",
        "V=\\begin{bmatrix}\n",
        "\\cos\\theta & \\sin\\theta\\\\\n",
        "-\\sin\\theta & \\cos\\theta\n",
        "\\end{bmatrix}.\n",
        "$$\n",
        "Therefore\n",
        "\\begin{align}\n",
        "X\\equiv\n",
        "\\begin{bmatrix}\n",
        "A\\\\\n",
        "Z\n",
        "\\end{bmatrix}=V^{\\operatorname{T}} X' \\to X^{\\operatorname{T}}= X^{\\prime\\operatorname{T}} V\\,,\n",
        "\\end{align}\n",
        "\n",
        "\n",
        "\n",
        "In the new basis\n",
        "\\begin{align}\n",
        "X^{\\prime\\operatorname{T}} M X^\\prime=&X^{\\prime\\operatorname{T}}V V^{\\operatorname{T}} M V V^{\\operatorname{T}} X^\\prime\\\\\n",
        "=&(X^{\\prime\\operatorname{T}}V) (V^{\\operatorname{T}} M V) (V^{\\operatorname{T}} X^\\prime)\\\\\n",
        "=& X^{\\operatorname{T}} M_{\\text{diag}} X \\\\\n",
        "=&  \\lambda_1 A^2+\\lambda_2 Z^2\\,.\n",
        "\\end{align}"
      ]
    },
    {
      "cell_type": "markdown",
      "metadata": {
        "id": "L244j4AzwCDg"
      },
      "source": [
        "such that $|\\lambda_1|\\le|\\lambda_2|$, where\n",
        "\\begin{align}\n",
        "M_{\\text{diag}}\\equiv V^{\\operatorname{T}} M V=\\begin{bmatrix}\n",
        "\\lambda_1 & 0 \\\\ \n",
        "0 & \\lambda_2 \\\\\n",
        "\\end{bmatrix}\\,,\n",
        "\\end{align}\n",
        "\n",
        "In this basis, the quadratic equation is in terms of eigenvalues and mixing angle, $\\theta$.\n",
        "Therefore, there are not longer mixed terms.\n",
        "\n",
        "The diagonalization of quadratic equations can be straightforwardly  generalized to $n$-th degree equations in terms of $n\\times n$ matrices\n"
      ]
    },
    {
      "cell_type": "code",
      "metadata": {
        "hide_input": true,
        "id": "_jjy5sMAwCDg"
      },
      "source": [
        "import numpy as np\n",
        "g =0.64996\n",
        "gp=0.35523\n",
        "v=246.22046"
      ],
      "execution_count": null,
      "outputs": []
    },
    {
      "cell_type": "markdown",
      "metadata": {
        "id": "0JVGnIhowCDi"
      },
      "source": [
        "### Example: Electroweak interactions\n",
        "To understand the electromagnetic and weak fundamental interactions, the mathematical formulation need to be done in one basis where the photon field, denoted with a symbol $A$, is still not well defined. Instead, the field $B$, the precursor of $A$, appears along with the weak field $W$, the precursor of the electroweak field $Z$. In the _mathematical_ basis we have then\n",
        "\\begin{align}\n",
        "X' = \n",
        "\\begin{bmatrix}\n",
        "B \\\\ \n",
        "W \\\\\n",
        "\\end{bmatrix},\n",
        "\\end{align}\n",
        "and there, the symmetric mass matrix is calculated as (Details here: [PDF](https://github.com/restrepo/TCC/releases/latest))"
      ]
    },
    {
      "cell_type": "markdown",
      "metadata": {
        "id": "DA2HFquvwCDi"
      },
      "source": [
        "<!-- \n",
        "sin2θ=0.23\n",
        "θ=np.arcsin( np.sqrt(sin2θ)  )\n",
        "print(θ)\n",
        "MZ=91.1876\n",
        "GF=1.166371E-5\n",
        "v=1/np.sqrt(np.sqrt(2)*GF)\n",
        "g=2*MZ*np.cos(θ)/v\n",
        "gp=g*np.tan(θ)\n",
        "gp\n",
        "-->"
      ]
    },
    {
      "cell_type": "code",
      "metadata": {
        "id": "FF5M4wiGwCDj"
      },
      "source": [
        "M=(v**2/4)*np.array([[gp**2,-g*gp],\n",
        "                     [-g*gp, g**2]])"
      ],
      "execution_count": null,
      "outputs": []
    },
    {
      "cell_type": "code",
      "metadata": {
        "id": "wAuxlardwCDl",
        "outputId": "43a86a75-a7eb-4960-f88c-124cf4355385"
      },
      "source": [
        "M"
      ],
      "execution_count": null,
      "outputs": [
        {
          "output_type": "execute_result",
          "data": {
            "text/plain": [
              "array([[ 1912.52692086, -3499.32718938],\n",
              "       [-3499.32718938,  6402.67629426]])"
            ]
          },
          "metadata": {
            "tags": []
          },
          "execution_count": 113
        }
      ]
    },
    {
      "cell_type": "markdown",
      "metadata": {
        "id": "0gZFc7ZLwCDn"
      },
      "source": [
        "Checking that the determinant is zero"
      ]
    },
    {
      "cell_type": "code",
      "metadata": {
        "id": "gG49CcDrwCDo",
        "outputId": "8a5e76ea-b630-48a6-8145-cc8491906957"
      },
      "source": [
        "np.linalg.det(M).round(8)"
      ],
      "execution_count": null,
      "outputs": [
        {
          "output_type": "execute_result",
          "data": {
            "text/plain": [
              "0.0"
            ]
          },
          "metadata": {
            "tags": []
          },
          "execution_count": 114
        }
      ]
    },
    {
      "cell_type": "markdown",
      "metadata": {
        "id": "tiQCMX-SwCDt"
      },
      "source": [
        "This imply that one egivanlue is zero"
      ]
    },
    {
      "cell_type": "code",
      "metadata": {
        "id": "gm8uCECswCDt",
        "outputId": "cc385285-4a96-47fe-bf6a-effde3cb939e"
      },
      "source": [
        "np.linalg.eigvals(M).round(12)"
      ],
      "execution_count": null,
      "outputs": [
        {
          "output_type": "execute_result",
          "data": {
            "text/plain": [
              "array([   0.        , 8315.20321512])"
            ]
          },
          "metadata": {
            "tags": []
          },
          "execution_count": 115
        }
      ]
    },
    {
      "cell_type": "markdown",
      "metadata": {
        "id": "PfO6ijPmwCDw"
      },
      "source": [
        "which means that the matrix rank, the number of non-zero eigenvalues, is 1"
      ]
    },
    {
      "cell_type": "code",
      "metadata": {
        "id": "0dlFAw8twCDw",
        "outputId": "840ca02d-4897-459b-d7c5-66d129df77c4"
      },
      "source": [
        "np.linalg.matrix_rank(M)"
      ],
      "execution_count": null,
      "outputs": [
        {
          "output_type": "execute_result",
          "data": {
            "text/plain": [
              "1"
            ]
          },
          "metadata": {
            "tags": []
          },
          "execution_count": 116
        }
      ]
    },
    {
      "cell_type": "markdown",
      "metadata": {
        "id": "Ea5Gb_EbwCDy"
      },
      "source": [
        "To make the change to the _phyisical_ basis,\n",
        "$$\n",
        "X=\\begin{bmatrix}\n",
        "A\\\\\n",
        "Z\n",
        "\\end{bmatrix}\n",
        "$$\n",
        "through the rotation matrix\n",
        "$$\n",
        "V=\\begin{bmatrix}\n",
        "\\cos\\theta_W & \\sin\\theta_W\\\\\n",
        "-\\sin\\theta_W & \\cos\\theta_W\n",
        "\\end{bmatrix},\n",
        "$$\n",
        "the following transformation need to be established\n",
        "\\begin{align}\n",
        "X'=\n",
        "\\begin{bmatrix}\n",
        "B\\\\\n",
        "W\n",
        "\\end{bmatrix}\\equiv\n",
        "\\begin{bmatrix}\n",
        "\\cos\\theta_W & \\sin\\theta_W\\\\\n",
        "-\\sin\\theta_W & \\cos\\theta_W\n",
        "\\end{bmatrix}\n",
        "\\begin{bmatrix}\n",
        "A\\\\\n",
        "Z\n",
        "\\end{bmatrix}=\n",
        "V X\\,,\n",
        "\\end{align}\n",
        "such that $V$ is the diagonalization matrix of $M$"
      ]
    },
    {
      "cell_type": "markdown",
      "metadata": {
        "id": "Fv04xQQjwCDy"
      },
      "source": [
        "$$M_{\\text{diag}}=V^{\\operatorname{T}} M V$$\n",
        "with the normal ordering: $|\\lambda_1|\\le|\\lambda_2|$, and"
      ]
    },
    {
      "cell_type": "markdown",
      "metadata": {
        "id": "ntk-dZg5wCDz"
      },
      "source": [
        "* $V$ → Diagonalization matrix\n",
        "* $V$ → Ortogonal matrix\n",
        "* $V$ → Rotation matrix\n",
        "\n",
        "To obtain the eigensystem, we use"
      ]
    },
    {
      "cell_type": "code",
      "metadata": {
        "id": "reegb9cRwCDz"
      },
      "source": [
        "λ,V=np.linalg.eig(M)"
      ],
      "execution_count": null,
      "outputs": []
    },
    {
      "cell_type": "markdown",
      "metadata": {
        "id": "PJA7fQwmwCD1"
      },
      "source": [
        "which in fact satisfy"
      ]
    },
    {
      "cell_type": "code",
      "metadata": {
        "id": "H4Ld_gLpwCD2",
        "outputId": "f75d5f34-ae20-497c-dab2-261db633e5d2"
      },
      "source": [
        "np.dot( np.dot(V.transpose(),M) , V).round(12)"
      ],
      "execution_count": null,
      "outputs": [
        {
          "output_type": "execute_result",
          "data": {
            "text/plain": [
              "array([[  -0.        ,    0.        ],\n",
              "       [  -0.        , 8315.20321512]])"
            ]
          },
          "metadata": {
            "tags": []
          },
          "execution_count": 129
        }
      ]
    },
    {
      "cell_type": "markdown",
      "metadata": {
        "id": "tQgLiyxHwCD4"
      },
      "source": [
        "Since the first (zero) eigenvalue is the one associated to $A$, we can interpret directly the rotation matrix without changing the order of the eigenvectors"
      ]
    },
    {
      "cell_type": "code",
      "metadata": {
        "id": "tLIYTVcMwCD4",
        "outputId": "ba349f7f-c666-4cfb-fd9f-acbfaaf87508"
      },
      "source": [
        "V"
      ],
      "execution_count": null,
      "outputs": [
        {
          "output_type": "execute_result",
          "data": {
            "text/plain": [
              "array([[-0.87749437,  0.47958694],\n",
              "       [-0.47958694, -0.87749437]])"
            ]
          },
          "metadata": {
            "tags": []
          },
          "execution_count": 132
        }
      ]
    },
    {
      "cell_type": "markdown",
      "metadata": {
        "id": "5YDP7KmcwCD5"
      },
      "source": [
        "Note that in fact, the absolute value of the first element of the first eigenvector is the larger one and corresponds to the component along the $B$-axis."
      ]
    },
    {
      "cell_type": "markdown",
      "metadata": {
        "id": "y0GGAs8fwCD6"
      },
      "source": [
        "Therefore"
      ]
    },
    {
      "cell_type": "code",
      "metadata": {
        "id": "eaXUTU_KwCD6",
        "outputId": "968dda06-05ae-42ae-b431-7960f1ad7615"
      },
      "source": [
        "θ_W=np.arcsin( V[0,1] )\n",
        "θ_W"
      ],
      "execution_count": null,
      "outputs": [
        {
          "output_type": "execute_result",
          "data": {
            "text/plain": [
              "0.5001839211647364"
            ]
          },
          "metadata": {
            "tags": []
          },
          "execution_count": 133
        }
      ]
    },
    {
      "cell_type": "markdown",
      "metadata": {
        "id": "pDVByeNBwCD8"
      },
      "source": [
        "The eigenvalue associated to $Z$ is"
      ]
    },
    {
      "cell_type": "code",
      "metadata": {
        "id": "nuYQJV9xwCD8",
        "outputId": "cf7483b2-9003-4d7e-ad76-8dba8666a79c"
      },
      "source": [
        "mZ=np.sqrt(λ[1])\n",
        "mZ"
      ],
      "execution_count": null,
      "outputs": [
        {
          "output_type": "execute_result",
          "data": {
            "text/plain": [
              "91.18773610041056"
            ]
          },
          "metadata": {
            "tags": []
          },
          "execution_count": 139
        }
      ]
    },
    {
      "cell_type": "markdown",
      "metadata": {
        "id": "rYgEesk3wCD_"
      },
      "source": [
        "corresponding to the  $Z$ mass in units of $\\text{GeV}/c^2$. As a reference, the proton mass is approximately $1\\ \\text{GeV}/c^2$\n",
        "\n",
        "The physical observable associated to the _weak mixing angle_, $\\theta_W$, is (see [PDF](https://pdg.lbl.gov/2019/reviews/rpp2018-rev-phys-constants.pdf), along with the $Z^0$ _boson mass_, $m_Z$)"
      ]
    },
    {
      "cell_type": "code",
      "metadata": {
        "id": "iV4L67a-wCD_",
        "outputId": "ff84568d-8ca0-412c-9cc4-70757d0728a4"
      },
      "source": [
        "np.sin(θ_W)**2"
      ],
      "execution_count": null,
      "outputs": [
        {
          "output_type": "execute_result",
          "data": {
            "text/plain": [
              "0.23000362966286086"
            ]
          },
          "metadata": {
            "tags": []
          },
          "execution_count": 138
        }
      ]
    }
  ]
}