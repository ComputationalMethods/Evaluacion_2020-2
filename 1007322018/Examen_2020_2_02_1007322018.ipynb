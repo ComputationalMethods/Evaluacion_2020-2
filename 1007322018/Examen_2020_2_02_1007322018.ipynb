{
  "nbformat": 4,
  "nbformat_minor": 0,
  "metadata": {
    "colab": {
      "name": "Examen_2020_2_02_1007322018.ipynb",
      "provenance": []
    },
    "kernelspec": {
      "display_name": "Python 3",
      "language": "python",
      "name": "python3"
    },
    "language_info": {
      "codemirror_mode": {
        "name": "ipython",
        "version": 3
      },
      "file_extension": ".py",
      "mimetype": "text/x-python",
      "name": "python",
      "nbconvert_exporter": "python",
      "pygments_lexer": "ipython3",
      "version": "3.7.3"
    }
  },
  "cells": [
    {
      "cell_type": "markdown",
      "metadata": {
        "id": "CN-nz6iCZVao"
      },
      "source": [
        "I) The period of a pendulum of length l oscillating at a large angle $\\alpha$ is given by\n",
        "$$\n",
        "T=T_{0} \\frac{\\sqrt{2}}{\\pi} \\int_{0}^{\\alpha} \\frac{d \\theta}{(\\cos \\theta-\\cos \\alpha)^{\\frac{1}{2}}}\n",
        "$$\n",
        "where\n",
        "$$\n",
        "T_{0}=2 \\pi \\sqrt{\\frac{l}{g}}\n",
        "$$\n",
        "is the period of the same pendulum at small amplitudes. Any numerical evaluation of the integral as is would fail (explain why). If we change the variable by writing:\n",
        "$$\n",
        "\\sin \\frac{\\theta}{2}=\\sin \\frac{\\alpha}{2} \\sin \\phi\n",
        "$$\n",
        "we can get:\n",
        "$$\n",
        "T=\\frac{2 T_{0}}{\\pi} \\int_{0}^{\\frac{\\pi}{2}} \\frac{d \\phi}{\\left(1-\\sin ^{2} \\frac{\\alpha}{2} \\sin ^{2} \\phi\\right)^{\\frac{1}{2}}}\n",
        "$$\n",
        "which is a well-behaved integral. Write a program to use the above integral to calculate the ratio $T/T_0$ for integral amplitudes $0^\\circ \\le\\alpha \\le 90^\\circ$. Output these values as a pandas dataframe showing the amplitude in degrees and radians as well as $T/T_0$, and make a plot with the two columns. Explain the result when $\\alpha = 0.$ "
      ]
    },
    {
      "cell_type": "code",
      "metadata": {
        "id": "8OlhM4EjofAD",
        "outputId": "d0df9704-0198-4cc0-be14-49f3bd0132a4",
        "colab": {
          "base_uri": "https://localhost:8080/",
          "height": 88
        }
      },
      "source": [
        "from sympy import integrate, init_printing\n",
        "init_printing(use_latex=\"mathjax\")\n",
        "from sympy.abc import x,a\n",
        "from sympy import cos\n",
        "\n",
        "I1 = integrate(1/(cos(x)-cos(a)) , (x,0,a))\n",
        "I1"
      ],
      "execution_count": null,
      "outputs": [
        {
          "output_type": "execute_result",
          "data": {
            "text/latex": "$$\\begin{cases} -\\infty + \\frac{1}{\\tan{\\left (\\frac{a}{2} \\right )}} & \\text{for}\\: a = 0 \\\\\\frac{1}{2} \\log{\\left (- \\tan{\\left (\\frac{a}{2} \\right )} \\right )} \\tan{\\left (\\frac{a}{2} \\right )} + \\frac{\\log{\\left (- \\tan{\\left (\\frac{a}{2} \\right )} \\right )}}{2 \\tan{\\left (\\frac{a}{2} \\right )}} - \\frac{1}{2} \\log{\\left (\\tan{\\left (\\frac{a}{2} \\right )} \\right )} \\tan{\\left (\\frac{a}{2} \\right )} - \\frac{\\log{\\left (\\tan{\\left (\\frac{a}{2} \\right )} \\right )}}{2 \\tan{\\left (\\frac{a}{2} \\right )}} + \\infty \\operatorname{sign}{\\left (\\frac{\\tan^{2}{\\left (\\frac{a}{2} \\right )} + 1}{\\tan{\\left (\\frac{a}{2} \\right )}} \\right )} & \\text{otherwise} \\end{cases}$$",
            "text/plain": [
              "⎧                                               1                             \n",
              "⎪                                        -∞ + ──────                          \n",
              "⎪                                                ⎛a⎞                          \n",
              "⎪                                             tan⎜─⎟                          \n",
              "⎪                                                ⎝2⎠                          \n",
              "⎪                                                                             \n",
              "⎨   ⎛    ⎛a⎞⎞    ⎛a⎞      ⎛    ⎛a⎞⎞      ⎛   ⎛a⎞⎞    ⎛a⎞      ⎛   ⎛a⎞⎞        \n",
              "⎪log⎜-tan⎜─⎟⎟⋅tan⎜─⎟   log⎜-tan⎜─⎟⎟   log⎜tan⎜─⎟⎟⋅tan⎜─⎟   log⎜tan⎜─⎟⎟        \n",
              "⎪   ⎝    ⎝2⎠⎠    ⎝2⎠      ⎝    ⎝2⎠⎠      ⎝   ⎝2⎠⎠    ⎝2⎠      ⎝   ⎝2⎠⎠        \n",
              "⎪─────────────────── + ──────────── - ────────────────── - ─────────── + ∞⋅sig\n",
              "⎪         2                   ⎛a⎞             2                   ⎛a⎞         \n",
              "⎪                        2⋅tan⎜─⎟                            2⋅tan⎜─⎟         \n",
              "⎩                             ⎝2⎠                                 ⎝2⎠         \n",
              "\n",
              "                         \n",
              "                for a = 0\n",
              "                         \n",
              "                         \n",
              "                         \n",
              "                         \n",
              " ⎛   2⎛a⎞    ⎞           \n",
              " ⎜tan ⎜─⎟ + 1⎟           \n",
              " ⎜    ⎝2⎠    ⎟           \n",
              "n⎜───────────⎟  otherwise\n",
              " ⎜      ⎛a⎞  ⎟           \n",
              " ⎜   tan⎜─⎟  ⎟           \n",
              " ⎝      ⎝2⎠  ⎠           "
            ]
          },
          "metadata": {
            "tags": []
          },
          "execution_count": 1
        }
      ]
    },
    {
      "cell_type": "markdown",
      "metadata": {
        "id": "5PCZGhOE18mk"
      },
      "source": [
        "Any numerical evaluation of the integral as is would fail bacause in the last integral ($I1$) we can see that the integral diverge"
      ]
    },
    {
      "cell_type": "markdown",
      "metadata": {
        "id": "BtOOxjCDq3__"
      },
      "source": [
        "Tenemos que:\n",
        "$$\n",
        "Z=\\frac{T}{T_{0}}=\\frac{2}{\\pi} \\int_{0}^{\\frac{\\pi}{2}} \\frac{d \\phi}{\\left(1-\\sin ^{2} \\frac{\\alpha}{2} \\sin ^{2} \\phi\\right)^{\\frac{1}{2}}}\n",
        "$$"
      ]
    },
    {
      "cell_type": "code",
      "metadata": {
        "id": "WRgbZpGm4lWr"
      },
      "source": [
        "from scipy import interpolate\n",
        "from scipy.misc import derivative\n",
        "from scipy import integrate\n",
        "import numpy as np\n",
        "import matplotlib.pyplot as plt\n",
        "import pandas as pd"
      ],
      "execution_count": null,
      "outputs": []
    },
    {
      "cell_type": "code",
      "metadata": {
        "id": "MaumJGFOdrk9"
      },
      "source": [
        "def T(α):\n",
        "    k=np.sin(α/2)\n",
        "\n",
        "    return (2/np.pi)*integrate.quad(lambda ϕ:(1)/(np.sqrt(1-k**2*np.sin(ϕ)**2)),0,np.pi/2)[0]\n"
      ],
      "execution_count": null,
      "outputs": []
    },
    {
      "cell_type": "code",
      "metadata": {
        "id": "ez1XpQr-jXxE",
        "outputId": "83f1b11d-0a2a-4411-f8a6-e11a5e652a10",
        "colab": {
          "base_uri": "https://localhost:8080/"
        }
      },
      "source": [
        "y=np.linspace(0,np.pi/2,20)\n",
        "y"
      ],
      "execution_count": null,
      "outputs": [
        {
          "output_type": "execute_result",
          "data": {
            "text/plain": [
              "array([0.        , 0.08267349, 0.16534698, 0.24802047, 0.33069396,\n",
              "       0.41336745, 0.49604095, 0.57871444, 0.66138793, 0.74406142,\n",
              "       0.82673491, 0.9094084 , 0.99208189, 1.07475538, 1.15742887,\n",
              "       1.24010236, 1.32277585, 1.40544935, 1.48812284, 1.57079633])"
            ]
          },
          "metadata": {
            "tags": []
          },
          "execution_count": 4
        }
      ]
    },
    {
      "cell_type": "code",
      "metadata": {
        "id": "gUblxqlzgA07",
        "outputId": "6ba8220c-73a2-4427-dfdd-b82f4bbdc7d5",
        "colab": {
          "base_uri": "https://localhost:8080/"
        }
      },
      "source": [
        "v = np.zeros(20)\n",
        "for i in range(0, 20):\n",
        "  v[i]=T(y[i])\n",
        "v"
      ],
      "execution_count": null,
      "outputs": [
        {
          "output_type": "execute_result",
          "data": {
            "text/plain": [
              "array([1.        , 1.00042735, 1.00171141, 1.00385824, 1.00687804,\n",
              "       1.01078527, 1.01559889, 1.02134257, 1.02804509, 1.03574074,\n",
              "       1.04446986, 1.05427951, 1.06522421, 1.07736699, 1.09078049,\n",
              "       1.10554846, 1.12176752, 1.13954935, 1.15902345, 1.1803406 ])"
            ]
          },
          "metadata": {
            "tags": []
          },
          "execution_count": 5
        }
      ]
    },
    {
      "cell_type": "code",
      "metadata": {
        "id": "MG8W43afi1G8"
      },
      "source": [
        "θ= y*(180/np.pi)\n",
        "TABLA={\"α radianes\": y,   \n",
        "         \"α grados\" : θ,\n",
        "       \"T/T_0\": v }  \n",
        "         "
      ],
      "execution_count": null,
      "outputs": []
    },
    {
      "cell_type": "code",
      "metadata": {
        "id": "TKY2UBA2kYne",
        "outputId": "6b1c5237-7966-4874-e3e4-46a68b5532fc",
        "colab": {
          "base_uri": "https://localhost:8080/",
          "height": 669
        }
      },
      "source": [
        "df = pd.DataFrame(TABLA)\n",
        "df "
      ],
      "execution_count": null,
      "outputs": [
        {
          "output_type": "execute_result",
          "data": {
            "text/html": [
              "<div>\n",
              "<style scoped>\n",
              "    .dataframe tbody tr th:only-of-type {\n",
              "        vertical-align: middle;\n",
              "    }\n",
              "\n",
              "    .dataframe tbody tr th {\n",
              "        vertical-align: top;\n",
              "    }\n",
              "\n",
              "    .dataframe thead th {\n",
              "        text-align: right;\n",
              "    }\n",
              "</style>\n",
              "<table border=\"1\" class=\"dataframe\">\n",
              "  <thead>\n",
              "    <tr style=\"text-align: right;\">\n",
              "      <th></th>\n",
              "      <th>α radianes</th>\n",
              "      <th>α grados</th>\n",
              "      <th>T/T_0</th>\n",
              "    </tr>\n",
              "  </thead>\n",
              "  <tbody>\n",
              "    <tr>\n",
              "      <th>0</th>\n",
              "      <td>0.000000</td>\n",
              "      <td>0.000000</td>\n",
              "      <td>1.000000</td>\n",
              "    </tr>\n",
              "    <tr>\n",
              "      <th>1</th>\n",
              "      <td>0.082673</td>\n",
              "      <td>4.736842</td>\n",
              "      <td>1.000427</td>\n",
              "    </tr>\n",
              "    <tr>\n",
              "      <th>2</th>\n",
              "      <td>0.165347</td>\n",
              "      <td>9.473684</td>\n",
              "      <td>1.001711</td>\n",
              "    </tr>\n",
              "    <tr>\n",
              "      <th>3</th>\n",
              "      <td>0.248020</td>\n",
              "      <td>14.210526</td>\n",
              "      <td>1.003858</td>\n",
              "    </tr>\n",
              "    <tr>\n",
              "      <th>4</th>\n",
              "      <td>0.330694</td>\n",
              "      <td>18.947368</td>\n",
              "      <td>1.006878</td>\n",
              "    </tr>\n",
              "    <tr>\n",
              "      <th>5</th>\n",
              "      <td>0.413367</td>\n",
              "      <td>23.684211</td>\n",
              "      <td>1.010785</td>\n",
              "    </tr>\n",
              "    <tr>\n",
              "      <th>6</th>\n",
              "      <td>0.496041</td>\n",
              "      <td>28.421053</td>\n",
              "      <td>1.015599</td>\n",
              "    </tr>\n",
              "    <tr>\n",
              "      <th>7</th>\n",
              "      <td>0.578714</td>\n",
              "      <td>33.157895</td>\n",
              "      <td>1.021343</td>\n",
              "    </tr>\n",
              "    <tr>\n",
              "      <th>8</th>\n",
              "      <td>0.661388</td>\n",
              "      <td>37.894737</td>\n",
              "      <td>1.028045</td>\n",
              "    </tr>\n",
              "    <tr>\n",
              "      <th>9</th>\n",
              "      <td>0.744061</td>\n",
              "      <td>42.631579</td>\n",
              "      <td>1.035741</td>\n",
              "    </tr>\n",
              "    <tr>\n",
              "      <th>10</th>\n",
              "      <td>0.826735</td>\n",
              "      <td>47.368421</td>\n",
              "      <td>1.044470</td>\n",
              "    </tr>\n",
              "    <tr>\n",
              "      <th>11</th>\n",
              "      <td>0.909408</td>\n",
              "      <td>52.105263</td>\n",
              "      <td>1.054280</td>\n",
              "    </tr>\n",
              "    <tr>\n",
              "      <th>12</th>\n",
              "      <td>0.992082</td>\n",
              "      <td>56.842105</td>\n",
              "      <td>1.065224</td>\n",
              "    </tr>\n",
              "    <tr>\n",
              "      <th>13</th>\n",
              "      <td>1.074755</td>\n",
              "      <td>61.578947</td>\n",
              "      <td>1.077367</td>\n",
              "    </tr>\n",
              "    <tr>\n",
              "      <th>14</th>\n",
              "      <td>1.157429</td>\n",
              "      <td>66.315789</td>\n",
              "      <td>1.090780</td>\n",
              "    </tr>\n",
              "    <tr>\n",
              "      <th>15</th>\n",
              "      <td>1.240102</td>\n",
              "      <td>71.052632</td>\n",
              "      <td>1.105548</td>\n",
              "    </tr>\n",
              "    <tr>\n",
              "      <th>16</th>\n",
              "      <td>1.322776</td>\n",
              "      <td>75.789474</td>\n",
              "      <td>1.121768</td>\n",
              "    </tr>\n",
              "    <tr>\n",
              "      <th>17</th>\n",
              "      <td>1.405449</td>\n",
              "      <td>80.526316</td>\n",
              "      <td>1.139549</td>\n",
              "    </tr>\n",
              "    <tr>\n",
              "      <th>18</th>\n",
              "      <td>1.488123</td>\n",
              "      <td>85.263158</td>\n",
              "      <td>1.159023</td>\n",
              "    </tr>\n",
              "    <tr>\n",
              "      <th>19</th>\n",
              "      <td>1.570796</td>\n",
              "      <td>90.000000</td>\n",
              "      <td>1.180341</td>\n",
              "    </tr>\n",
              "  </tbody>\n",
              "</table>\n",
              "</div>"
            ],
            "text/plain": [
              "    α radianes   α grados     T/T_0\n",
              "0     0.000000   0.000000  1.000000\n",
              "1     0.082673   4.736842  1.000427\n",
              "2     0.165347   9.473684  1.001711\n",
              "3     0.248020  14.210526  1.003858\n",
              "4     0.330694  18.947368  1.006878\n",
              "5     0.413367  23.684211  1.010785\n",
              "6     0.496041  28.421053  1.015599\n",
              "7     0.578714  33.157895  1.021343\n",
              "8     0.661388  37.894737  1.028045\n",
              "9     0.744061  42.631579  1.035741\n",
              "10    0.826735  47.368421  1.044470\n",
              "11    0.909408  52.105263  1.054280\n",
              "12    0.992082  56.842105  1.065224\n",
              "13    1.074755  61.578947  1.077367\n",
              "14    1.157429  66.315789  1.090780\n",
              "15    1.240102  71.052632  1.105548\n",
              "16    1.322776  75.789474  1.121768\n",
              "17    1.405449  80.526316  1.139549\n",
              "18    1.488123  85.263158  1.159023\n",
              "19    1.570796  90.000000  1.180341"
            ]
          },
          "metadata": {
            "tags": []
          },
          "execution_count": 9
        }
      ]
    },
    {
      "cell_type": "code",
      "metadata": {
        "id": "hCSN7riZnrsm",
        "outputId": "48de3bfc-2595-4669-d4e9-49afa58def95",
        "colab": {
          "base_uri": "https://localhost:8080/",
          "height": 321
        }
      },
      "source": [
        "#and make a plot with the two columns\n",
        "plt.plot(y,v,'c-' )\n",
        "\n",
        "plt.legend()\n",
        "plt.ylabel('${T}/{T_0} $ ' ,size=15)\n",
        "plt.xlabel(r'$\\alpha$ [rad]' ,size=15)\n",
        "\n"
      ],
      "execution_count": null,
      "outputs": [
        {
          "output_type": "stream",
          "text": [
            "No handles with labels found to put in legend.\n"
          ],
          "name": "stderr"
        },
        {
          "output_type": "execute_result",
          "data": {
            "text/plain": [
              "Text(0.5, 0, '$\\\\alpha$ [rad]')"
            ]
          },
          "metadata": {
            "tags": []
          },
          "execution_count": 10
        },
        {
          "output_type": "display_data",
          "data": {
            "image/png": "[encoded data removed]",
            "text/plain": [
              "<Figure size 432x288 with 1 Axes>"
            ]
          },
          "metadata": {
            "tags": [],
            "needs_background": "light"
          }
        }
      ]
    },
    {
      "cell_type": "code",
      "metadata": {
        "id": "8N5vTg1jxqOE",
        "outputId": "c7e0399b-d2f2-4648-8283-6bbbe28dced5",
        "colab": {
          "base_uri": "https://localhost:8080/",
          "height": 322
        }
      },
      "source": [
        "plt.plot(θ,v,'r-' )\n",
        "\n",
        "plt.legend()\n",
        "plt.ylabel('${T}/{T_0} $ ' ,size=15)\n",
        "plt.xlabel(r'$\\alpha$ [grad]' ,size=15)"
      ],
      "execution_count": null,
      "outputs": [
        {
          "output_type": "stream",
          "text": [
            "No handles with labels found to put in legend.\n"
          ],
          "name": "stderr"
        },
        {
          "output_type": "execute_result",
          "data": {
            "text/plain": [
              "Text(0.5, 0, '$\\\\alpha$ [grad]')"
            ]
          },
          "metadata": {
            "tags": []
          },
          "execution_count": 11
        },
        {
          "output_type": "display_data",
          "data": {
            "image/png": "[encoded data removed]",
            "text/plain": [
              "<Figure size 432x288 with 1 Axes>"
            ]
          },
          "metadata": {
            "tags": [],
            "needs_background": "light"
          }
        }
      ]
    },
    {
      "cell_type": "markdown",
      "metadata": {
        "id": "FIOldukgy4e4"
      },
      "source": [
        "Explein the result when $\\alpha=0$\n",
        "\n",
        "$\\frac{T}{T_{0}}=1$ when $\\alpha=0$ because $T_0$ is for small amplitudes so $lim_{\\alpha \\to 0}(T(\\alpha))= T_0$"
      ]
    },
    {
      "cell_type": "markdown",
      "metadata": {
        "id": "Bc1wXQwxZVap"
      },
      "source": [
        "II)\n",
        "### Casas-Ibarra parameterization\n",
        "Consider a $n\\times n$ symmetric matrix $A$. We can assumme without lost of generality that this can be generated from a matrix $Y$ such that\n",
        "$$\n",
        "A=Y^{\\operatorname{T}}Y\n",
        "$$\n",
        "Theorem 1 gurantees that exists an ortogonal matrix $U$ such that\n",
        "$$\n",
        "U^{\\operatorname{T}} A U=U^{\\operatorname{T}} Y^{\\operatorname{T}}Y U=D_\\lambda\n",
        "$$\n",
        "where\n",
        "$$\n",
        "D_{\\lambda}=A_{\\text{diag}}=\\operatorname{diag}\\left(\\lambda_1,\\lambda_2,\\ldots,\\lambda_n\\right)\n",
        "$$\n",
        "where $\\lambda_i$ are the eigenvalues of $A$. Therefore\n",
        "\\begin{align}\n",
        " Y^{\\operatorname{T}}Y =&U D_\\lambda U^{\\operatorname{T}}\\\\\n",
        " =&U D_{\\sqrt{\\lambda}} D_{\\sqrt{\\lambda}} U^{\\operatorname{T}}\\\\\n",
        "\\end{align}\n",
        "where\n",
        "$$\n",
        "D_{\\sqrt{\\lambda}}=\\operatorname{diag}\\left(\\sqrt{\\lambda_1},\\sqrt{\\lambda_2},\\ldots \\sqrt{\\lambda_n}\\right)\n",
        "$$\n",
        "Therefore, exists an ortogonal arbitrary matrix $R$, such that\n",
        "$$\n",
        " Y^{\\operatorname{T}}Y =U D_{\\sqrt{\\lambda}}R^{\\operatorname{T}}R D_{\\sqrt{\\lambda}} U^{\\operatorname{T}}\\\\\n",
        "$$\n",
        "\n",
        "In this way, the matrix $Y$ can be parameterized in terms of $R$ as\n",
        "$$\n",
        "Y=R D_{\\sqrt{\\lambda}} U^{\\operatorname{T}}\n",
        "$$\n",
        "\n",
        "\n",
        "1) By using the previous equations, build a matrix $Y$ $2\\times 2$ with the following conditions\n",
        "* $R$ is an orthogonal matrix with a mixing angle as a random number between $(0,2\\pi)$. Use your identification number as the seed of the random number generator.\n",
        "* The eigenvalues are $\\lambda_1=2$ and $\\lambda_2=4$. \n",
        "* $U$ is a diagonalization matrix with mixing angle $\\pi/4$\n",
        "2) Build the matrix $A$ and check that has the proper eigenvalues and eigenvectors"
      ]
    },
    {
      "cell_type": "code",
      "metadata": {
        "id": "Rn2W9wE2vP0A"
      },
      "source": [
        "λ=([2,4])\n"
      ],
      "execution_count": null,
      "outputs": []
    },
    {
      "cell_type": "code",
      "metadata": {
        "id": "ueT_Gl6HZVaq",
        "outputId": "1d11e2e1-a255-4570-f28d-1adfc105effb",
        "colab": {
          "base_uri": "https://localhost:8080/"
        }
      },
      "source": [
        "A_diag = np.diag(λ)\n",
        "A_diag                 "
      ],
      "execution_count": null,
      "outputs": [
        {
          "output_type": "execute_result",
          "data": {
            "text/plain": [
              "array([[2, 0],\n",
              "       [0, 4]])"
            ]
          },
          "metadata": {
            "tags": []
          },
          "execution_count": 13
        }
      ]
    },
    {
      "cell_type": "code",
      "metadata": {
        "id": "moRc0_ii0YNz",
        "outputId": "ae7b94a4-9e6e-4b77-b2c5-9cb6fc5a10bf",
        "colab": {
          "base_uri": "https://localhost:8080/"
        }
      },
      "source": [
        "D = np.diag(np.sqrt(λ))\n",
        "D"
      ],
      "execution_count": null,
      "outputs": [
        {
          "output_type": "execute_result",
          "data": {
            "text/plain": [
              "array([[1.41421356, 0.        ],\n",
              "       [0.        , 2.        ]])"
            ]
          },
          "metadata": {
            "tags": []
          },
          "execution_count": 14
        }
      ]
    },
    {
      "cell_type": "code",
      "metadata": {
        "id": "mcoBT__Mz_GA"
      },
      "source": [
        "def orthogonal(θ):\n",
        "    return np.array( [[np.cos(θ) ,np.sin(θ)],\n",
        "                      [-np.sin(θ),np.cos(θ)]]   )"
      ],
      "execution_count": null,
      "outputs": []
    },
    {
      "cell_type": "code",
      "metadata": {
        "id": "0DPFkidZ2vOu",
        "outputId": "213afab0-8b4b-4a52-b2d5-887fae774011",
        "colab": {
          "base_uri": "https://localhost:8080/",
          "height": 37
        }
      },
      "source": [
        "np.random.seed(1007322018)\n",
        "β=np.random.rand()\n",
        "β\n",
        "\n",
        "\n"
      ],
      "execution_count": null,
      "outputs": [
        {
          "output_type": "execute_result",
          "data": {
            "text/latex": "$$0.39108273269266725$$",
            "text/plain": [
              "0.39108273269266725"
            ]
          },
          "metadata": {
            "tags": []
          },
          "execution_count": 16
        }
      ]
    },
    {
      "cell_type": "code",
      "metadata": {
        "id": "XpbT0ZUn1uOy",
        "outputId": "89c3e1f5-29dd-4fa1-fa4d-369ac3979b9a",
        "colab": {
          "base_uri": "https://localhost:8080/"
        }
      },
      "source": [
        "R=orthogonal(β)\n",
        "R"
      ],
      "execution_count": null,
      "outputs": [
        {
          "output_type": "execute_result",
          "data": {
            "text/plain": [
              "array([[ 0.92449688,  0.38118962],\n",
              "       [-0.38118962,  0.92449688]])"
            ]
          },
          "metadata": {
            "tags": []
          },
          "execution_count": 17
        }
      ]
    },
    {
      "cell_type": "code",
      "metadata": {
        "id": "LOuqwM-_0BxK",
        "outputId": "be0157af-93ff-4824-8188-09563146ef7f",
        "colab": {
          "base_uri": "https://localhost:8080/"
        }
      },
      "source": [
        "U=orthogonal(np.pi/4)\n",
        "U"
      ],
      "execution_count": null,
      "outputs": [
        {
          "output_type": "execute_result",
          "data": {
            "text/plain": [
              "array([[ 0.70710678,  0.70710678],\n",
              "       [-0.70710678,  0.70710678]])"
            ]
          },
          "metadata": {
            "tags": []
          },
          "execution_count": 18
        }
      ]
    },
    {
      "cell_type": "code",
      "metadata": {
        "id": "93n2qMwI37Oc",
        "outputId": "3fd4de27-3d57-481d-ae19-366928c5cdb6",
        "colab": {
          "base_uri": "https://localhost:8080/"
        }
      },
      "source": [
        "#1.Build a matrix  𝑌   2×2  with the following conditions\n",
        "Y=np.dot( np.dot(R, D), U.transpose())\n",
        "Y"
      ],
      "execution_count": null,
      "outputs": [
        {
          "output_type": "execute_result",
          "data": {
            "text/plain": [
              "array([[ 1.46358041, -0.38541334],\n",
              "       [ 0.9262464 ,  1.68862564]])"
            ]
          },
          "metadata": {
            "tags": []
          },
          "execution_count": 19
        }
      ]
    },
    {
      "cell_type": "code",
      "metadata": {
        "id": "qA6aDmbU4vKK",
        "outputId": "e3bd7f98-c06d-4707-8f38-4cd6fd9eb858",
        "colab": {
          "base_uri": "https://localhost:8080/"
        }
      },
      "source": [
        "#2.Build the matrix  𝐴\n",
        "A=np.dot(Y.transpose(),Y)\n",
        "A"
      ],
      "execution_count": null,
      "outputs": [
        {
          "output_type": "execute_result",
          "data": {
            "text/plain": [
              "array([[3., 1.],\n",
              "       [1., 3.]])"
            ]
          },
          "metadata": {
            "tags": []
          },
          "execution_count": 20
        }
      ]
    },
    {
      "cell_type": "code",
      "metadata": {
        "id": "u_aHrGPs47ag"
      },
      "source": [
        "λ,V=np.linalg.eig( A )"
      ],
      "execution_count": null,
      "outputs": []
    },
    {
      "cell_type": "code",
      "metadata": {
        "id": "8qohw25T5HFn",
        "outputId": "1d6a538c-60b0-4293-d5a1-dbe9cd23c3aa",
        "colab": {
          "base_uri": "https://localhost:8080/"
        }
      },
      "source": [
        "# check that has the proper eigenvalues and eigenvectors\n",
        "print('A eigenvalues',λ)\n",
        "print('A eigenvectors', V)"
      ],
      "execution_count": null,
      "outputs": [
        {
          "output_type": "stream",
          "text": [
            "A eigenvalues [2. 4.]\n",
            "A eigenvectors [[-0.70710678 -0.70710678]\n",
            " [ 0.70710678 -0.70710678]]\n"
          ],
          "name": "stdout"
        }
      ]
    }
  ]
}