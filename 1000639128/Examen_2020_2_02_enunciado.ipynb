{
  "nbformat": 4,
  "nbformat_minor": 0,
  "metadata": {
    "colab": {
      "name": "Examen_2020_2_02_enunciado.ipynb",
      "provenance": []
    },
    "kernelspec": {
      "display_name": "Python 3",
      "language": "python",
      "name": "python3"
    },
    "language_info": {
      "codemirror_mode": {
        "name": "ipython",
        "version": 3
      },
      "file_extension": ".py",
      "mimetype": "text/x-python",
      "name": "python",
      "nbconvert_exporter": "python",
      "pygments_lexer": "ipython3",
      "version": "3.7.3"
    }
  },
  "cells": [
    {
      "cell_type": "markdown",
      "metadata": {
        "id": "8SRlUO6n5a62"
      },
      "source": [
        "Kevin Andrés Restrepo Tobón\n",
        "CC 1000630129"
      ]
    },
    {
      "cell_type": "markdown",
      "metadata": {
        "id": "CN-nz6iCZVao"
      },
      "source": [
        "###I) The period of a pendulum of length l oscillating at a large angle $\\alpha$ is given by\n",
        "$$\n",
        "T=T_{0} \\frac{\\sqrt{2}}{\\pi} \\int_{0}^{\\alpha} \\frac{d \\theta}{(\\cos \\theta-\\cos \\alpha)^{\\frac{1}{2}}}\n",
        "$$\n",
        "where\n",
        "$$\n",
        "T_{0}=2 \\pi \\sqrt{\\frac{l}{g}}\n",
        "$$\n",
        "is the period of the same pendulum at small amplitudes. Any numerical evaluation of the integral as is would fail (explain why). If we change the variable by writing:\n",
        "$$\n",
        "\\sin \\frac{\\theta}{2}=\\sin \\frac{\\alpha}{2} \\sin \\phi\n",
        "$$\n",
        "we can get:\n",
        "$$\n",
        "T=\\frac{2 T_{0}}{\\pi} \\int_{0}^{\\frac{\\pi}{2}} \\frac{d \\phi}{\\left(1-\\sin ^{2} \\frac{\\alpha}{2} \\sin ^{2} \\phi\\right)^{\\frac{1}{2}}}\n",
        "$$\n",
        "which is a well-behaved integral. Write a program to use the above integral to calculate the ratio $T/T_0$ for integral amplitudes $0^\\circ \\le\\alpha \\le 90^\\circ$. Output these values as a pandas dataframe showing the amplitude in degrees and radians as well as $T/T_0$, and make a plot with the two columns. Explain the result when $\\alpha = 0.$ "
      ]
    },
    {
      "cell_type": "code",
      "metadata": {
        "id": "gaqpfXW6fCaD"
      },
      "source": [
        "import numpy as np\n",
        "from scipy import integrate\n",
        "import scipy.optimize as optimize\n",
        "import pandas as pd\n",
        "import matplotlib.pylab as plt"
      ],
      "execution_count": 63,
      "outputs": []
    },
    {
      "cell_type": "markdown",
      "metadata": {
        "id": "A35eanvp5nsV"
      },
      "source": [
        "En puntos dentro del intervalo como $\\alpha = 0$ el integrando tiene extremadamente mal comportamiento:\n",
        "$$\n",
        "\\frac{\\sqrt{2} d \\theta}{(\\cos \\theta-\\cos (0))^{\\frac{1}{2}}}\n",
        "= \\frac{d \\theta}{\\frac{(\\cos \\theta-1)^{\\frac{1}{2}}}{\\sqrt{2}}}\n",
        "$$\n",
        "$$\n",
        "=\\frac{d \\theta}{\\sqrt{\\frac{(\\cos \\theta-1)}{2}}}\n",
        "$$\n",
        "Esta expresión tiene problemas para $\\theta = 0 $ y para todo $\\cos(\\theta)<1$, por lo que la evaluación de la integral fallará siempre.\n",
        "\n",
        "\n"
      ]
    },
    {
      "cell_type": "code",
      "metadata": {
        "id": "X6r_c6YPftkX",
        "outputId": "a1ab2584-ecf8-42db-c218-401ddab42c2f",
        "colab": {
          "base_uri": "https://localhost:8080/"
        }
      },
      "source": [
        "\n",
        "I = lambda α: integrate.quad(lambda ϕ:1/np.sqrt(1-np.sin(α/2)**2*np.sin(ϕ)**2),0,np.pi/2)[0]\n",
        "def Si(t):\n",
        "    try:\n",
        "        nn=np.array(t).shape[0]\n",
        "        f=np.vectorize(I)\n",
        "    except IndexError:\n",
        "        f=I\n",
        "    return f(t)*2/np.pi\n",
        "x_ = np.linspace(0,np.pi/2,100)\n",
        "Si(x_)"
      ],
      "execution_count": 109,
      "outputs": [
        {
          "output_type": "execute_result",
          "data": {
            "text/plain": [
              "array([1.        , 1.00001573, 1.00006294, 1.00014163, 1.00025181,\n",
              "       1.0003935 , 1.00056673, 1.00077153, 1.00100793, 1.00127597,\n",
              "       1.00157571, 1.00190719, 1.00227047, 1.00266561, 1.00309268,\n",
              "       1.00355177, 1.00404293, 1.00456628, 1.00512189, 1.00570986,\n",
              "       1.0063303 , 1.00698332, 1.00766903, 1.00838755, 1.00913901,\n",
              "       1.00992355, 1.01074131, 1.01159243, 1.01247707, 1.01339538,\n",
              "       1.01434753, 1.0153337 , 1.01635406, 1.0174088 , 1.01849811,\n",
              "       1.0196222 , 1.02078127, 1.02197553, 1.02320522, 1.02447055,\n",
              "       1.02577177, 1.02710911, 1.02848285, 1.02989323, 1.03134052,\n",
              "       1.03282501, 1.03434697, 1.03590671, 1.03750453, 1.03914074,\n",
              "       1.04081567, 1.04252964, 1.04428299, 1.04607609, 1.04790929,\n",
              "       1.04978296, 1.05169749, 1.05365326, 1.05565069, 1.05769018,\n",
              "       1.05977217, 1.0618971 , 1.06406541, 1.06627758, 1.06853407,\n",
              "       1.07083538, 1.07318201, 1.07557448, 1.07801332, 1.08049907,\n",
              "       1.08303231, 1.0856136 , 1.08824354, 1.09092274, 1.09365182,\n",
              "       1.09643144, 1.09926224, 1.10214491, 1.10508015, 1.10806868,\n",
              "       1.11111124, 1.11420858, 1.11736149, 1.12057078, 1.12383726,\n",
              "       1.12716179, 1.13054525, 1.13398853, 1.13749256, 1.14105829,\n",
              "       1.14468672, 1.14837883, 1.15213569, 1.15595835, 1.15984793,\n",
              "       1.16380556, 1.16783241, 1.1719297 , 1.17609867, 1.1803406 ])"
            ]
          },
          "metadata": {
            "tags": []
          },
          "execution_count": 109
        }
      ]
    },
    {
      "cell_type": "code",
      "metadata": {
        "id": "-a28iBiklZlH",
        "outputId": "6149b564-817e-4b73-caf8-60e80930b443",
        "colab": {
          "base_uri": "https://localhost:8080/",
          "height": 419
        }
      },
      "source": [
        "df = pd.DataFrame({'α [rad]':x_,'α [°]':x_*180/np.pi,'T/T0':Si(x_)})\n",
        "df"
      ],
      "execution_count": 111,
      "outputs": [
        {
          "output_type": "execute_result",
          "data": {
            "text/html": [
              "<div>\n",
              "<style scoped>\n",
              "    .dataframe tbody tr th:only-of-type {\n",
              "        vertical-align: middle;\n",
              "    }\n",
              "\n",
              "    .dataframe tbody tr th {\n",
              "        vertical-align: top;\n",
              "    }\n",
              "\n",
              "    .dataframe thead th {\n",
              "        text-align: right;\n",
              "    }\n",
              "</style>\n",
              "<table border=\"1\" class=\"dataframe\">\n",
              "  <thead>\n",
              "    <tr style=\"text-align: right;\">\n",
              "      <th></th>\n",
              "      <th>α [rad]</th>\n",
              "      <th>α [°]</th>\n",
              "      <th>T/T0</th>\n",
              "    </tr>\n",
              "  </thead>\n",
              "  <tbody>\n",
              "    <tr>\n",
              "      <th>0</th>\n",
              "      <td>0.000000</td>\n",
              "      <td>0.000000</td>\n",
              "      <td>1.000000</td>\n",
              "    </tr>\n",
              "    <tr>\n",
              "      <th>1</th>\n",
              "      <td>0.015867</td>\n",
              "      <td>0.909091</td>\n",
              "      <td>1.000016</td>\n",
              "    </tr>\n",
              "    <tr>\n",
              "      <th>2</th>\n",
              "      <td>0.031733</td>\n",
              "      <td>1.818182</td>\n",
              "      <td>1.000063</td>\n",
              "    </tr>\n",
              "    <tr>\n",
              "      <th>3</th>\n",
              "      <td>0.047600</td>\n",
              "      <td>2.727273</td>\n",
              "      <td>1.000142</td>\n",
              "    </tr>\n",
              "    <tr>\n",
              "      <th>4</th>\n",
              "      <td>0.063467</td>\n",
              "      <td>3.636364</td>\n",
              "      <td>1.000252</td>\n",
              "    </tr>\n",
              "    <tr>\n",
              "      <th>...</th>\n",
              "      <td>...</td>\n",
              "      <td>...</td>\n",
              "      <td>...</td>\n",
              "    </tr>\n",
              "    <tr>\n",
              "      <th>95</th>\n",
              "      <td>1.507330</td>\n",
              "      <td>86.363636</td>\n",
              "      <td>1.163806</td>\n",
              "    </tr>\n",
              "    <tr>\n",
              "      <th>96</th>\n",
              "      <td>1.523196</td>\n",
              "      <td>87.272727</td>\n",
              "      <td>1.167832</td>\n",
              "    </tr>\n",
              "    <tr>\n",
              "      <th>97</th>\n",
              "      <td>1.539063</td>\n",
              "      <td>88.181818</td>\n",
              "      <td>1.171930</td>\n",
              "    </tr>\n",
              "    <tr>\n",
              "      <th>98</th>\n",
              "      <td>1.554930</td>\n",
              "      <td>89.090909</td>\n",
              "      <td>1.176099</td>\n",
              "    </tr>\n",
              "    <tr>\n",
              "      <th>99</th>\n",
              "      <td>1.570796</td>\n",
              "      <td>90.000000</td>\n",
              "      <td>1.180341</td>\n",
              "    </tr>\n",
              "  </tbody>\n",
              "</table>\n",
              "<p>100 rows × 3 columns</p>\n",
              "</div>"
            ],
            "text/plain": [
              "     α [rad]      α [°]      T/T0\n",
              "0   0.000000   0.000000  1.000000\n",
              "1   0.015867   0.909091  1.000016\n",
              "2   0.031733   1.818182  1.000063\n",
              "3   0.047600   2.727273  1.000142\n",
              "4   0.063467   3.636364  1.000252\n",
              "..       ...        ...       ...\n",
              "95  1.507330  86.363636  1.163806\n",
              "96  1.523196  87.272727  1.167832\n",
              "97  1.539063  88.181818  1.171930\n",
              "98  1.554930  89.090909  1.176099\n",
              "99  1.570796  90.000000  1.180341\n",
              "\n",
              "[100 rows x 3 columns]"
            ]
          },
          "metadata": {
            "tags": []
          },
          "execution_count": 111
        }
      ]
    },
    {
      "cell_type": "code",
      "metadata": {
        "id": "gQCcIw7hyo5e",
        "outputId": "e92971e8-1a4f-4f5b-a628-dbe2817cd048",
        "colab": {
          "base_uri": "https://localhost:8080/",
          "height": 351
        }
      },
      "source": [
        "plt.figure(figsize = (8,5))\n",
        "plt.plot(df['α [°]'],df['T/T0'],'c',label = 'T/T0(α)')\n",
        "plt.title('Razón de T/T0 en función de la amplitud α',size=14)\n",
        "plt.ylabel('T/T0')\n",
        "plt.xlabel('α en grados')\n",
        "plt.grid()\n",
        "plt.legend()\n",
        "plt.show()"
      ],
      "execution_count": 112,
      "outputs": [
        {
          "output_type": "display_data",
          "data": {
            "image/png": "[encoded data removed]",
            "text/plain": [
              "<Figure size 576x360 with 1 Axes>"
            ]
          },
          "metadata": {
            "tags": [],
            "needs_background": "light"
          }
        }
      ]
    },
    {
      "cell_type": "markdown",
      "metadata": {
        "id": "bfqqgfME1kxM"
      },
      "source": [
        "Cuando $\\alpha \\longrightarrow 0$, i.e: la amplitud es cada vez más pequeña y por lo tanto el periodo se aproxima al periodo del pendulo a amplitudes pequeñas\n",
        "$$T\\longrightarrow T_0$$\n",
        "De modo que\n",
        "$$\n",
        "\\frac{T}{T_0} = 1\n",
        "$$"
      ]
    },
    {
      "cell_type": "markdown",
      "metadata": {
        "id": "Bc1wXQwxZVap"
      },
      "source": [
        "II)\n",
        "### Casas-Ibarra parameterization\n",
        "Consider a $n\\times n$ symmetric matrix $A$. We can assumme without lost of generality that this can be generated from a matrix $Y$ such that\n",
        "$$\n",
        "A=Y^{\\operatorname{T}}Y\n",
        "$$\n",
        "Theorem 1 gurantees that exists an ortogonal matrix $U$ such that\n",
        "$$\n",
        "U^{\\operatorname{T}} A U=U^{\\operatorname{T}} Y^{\\operatorname{T}}Y U=D_\\lambda\n",
        "$$\n",
        "where\n",
        "$$\n",
        "D_{\\lambda}=A_{\\text{diag}}=\\operatorname{diag}\\left(\\lambda_1,\\lambda_2,\\ldots,\\lambda_n\\right)\n",
        "$$\n",
        "where $\\lambda_i$ are the eigenvalues of $A$. Therefore\n",
        "\\begin{align}\n",
        " Y^{\\operatorname{T}}Y =&U D_\\lambda U^{\\operatorname{T}}\\\\\n",
        " =&U D_{\\sqrt{\\lambda}} D_{\\sqrt{\\lambda}} U^{\\operatorname{T}}\\\\\n",
        "\\end{align}\n",
        "where\n",
        "$$\n",
        "D_{\\sqrt{\\lambda}}=\\operatorname{diag}\\left(\\sqrt{\\lambda_1},\\sqrt{\\lambda_2},\\ldots \\sqrt{\\lambda_n}\\right)\n",
        "$$\n",
        "Therefore, exists an ortogonal arbitrary matrix $R$, such that\n",
        "$$\n",
        " Y^{\\operatorname{T}}Y =U D_{\\sqrt{\\lambda}}R^{\\operatorname{T}}R D_{\\sqrt{\\lambda}} U^{\\operatorname{T}}\\\\\n",
        "$$\n",
        "\n",
        "In this way, the matrix $Y$ can be parameterized in terms of $R$ as\n",
        "$$\n",
        "Y=R D_{\\sqrt{\\lambda}} U^{\\operatorname{T}}\n",
        "$$\n",
        "\n",
        "\n",
        "1) By using the previous equations, build a matrix $Y$ $2\\times 2$ with the following conditions\n",
        "* $R$ is an orthogonal matrix with a mixing angle as a random number between $(0,2\\pi)$. Use your identification number as the seed of the random number generator.\n",
        "* The eigenvalues are $\\lambda_1=2$ and $\\lambda_2=4$. \n",
        "* $U$ is a diagonalization matrix with mixing angle $\\pi/4$\n",
        "\n",
        "\n",
        "2) Build the matrix $A$ and check that has the proper eigenvalues and eigenvectors"
      ]
    },
    {
      "cell_type": "code",
      "metadata": {
        "id": "IeopTL9RR-1s"
      },
      "source": [
        "import random\n",
        "\n",
        "def orthogonal(θ):\n",
        "    return np.array( [[np.cos(θ) ,np.sin(θ)],\n",
        "                      [-np.sin(θ),np.cos(θ)]]   )"
      ],
      "execution_count": 115,
      "outputs": []
    },
    {
      "cell_type": "code",
      "metadata": {
        "id": "Ooww6vD8TJOY"
      },
      "source": [
        "random.seed(1000639128)\n",
        "θ = random.uniform(0,2*np.pi)"
      ],
      "execution_count": 118,
      "outputs": []
    },
    {
      "cell_type": "code",
      "metadata": {
        "id": "ueT_Gl6HZVaq",
        "outputId": "3146068e-dfec-4064-92df-df8a153aeb42",
        "colab": {
          "base_uri": "https://localhost:8080/"
        }
      },
      "source": [
        "R = orthogonal(θ)\n",
        "U = orthogonal(np.pi/4)\n",
        "D = np.diag([2,4]) #matriz diagonal\n",
        "Y = np.dot(R@np.sqrt(D),U.transpose())\n",
        "Y\n"
      ],
      "execution_count": 122,
      "outputs": [
        {
          "output_type": "execute_result",
          "data": {
            "text/plain": [
              "array([[ 0.54988746,  1.7318073 ],\n",
              "       [-1.64244445, -0.02904261]])"
            ]
          },
          "metadata": {
            "tags": []
          },
          "execution_count": 122
        }
      ]
    },
    {
      "cell_type": "markdown",
      "metadata": {
        "id": "qMR-4UcFZ9di"
      },
      "source": [
        "La matriz A"
      ]
    },
    {
      "cell_type": "code",
      "metadata": {
        "id": "9Wis_i0WTvv7",
        "outputId": "2c4a56b2-895c-46aa-e82c-8e4049308a61",
        "colab": {
          "base_uri": "https://localhost:8080/"
        }
      },
      "source": [
        "A = Y.transpose()@Y\n",
        "A"
      ],
      "execution_count": 124,
      "outputs": [
        {
          "output_type": "execute_result",
          "data": {
            "text/plain": [
              "array([[3., 1.],\n",
              "       [1., 3.]])"
            ]
          },
          "metadata": {
            "tags": []
          },
          "execution_count": 124
        }
      ]
    },
    {
      "cell_type": "code",
      "metadata": {
        "id": "ev4AT3vFV68R",
        "outputId": "fe786945-d199-493c-d7a5-e8ec3d6f51a6",
        "colab": {
          "base_uri": "https://localhost:8080/"
        }
      },
      "source": [
        "print('Eigenvalues:\\n{}\\nEigenvectors:\\n{}'.format(np.dot(U.transpose()@A,U).round(15).astype(int),U))"
      ],
      "execution_count": 147,
      "outputs": [
        {
          "output_type": "stream",
          "text": [
            "Eigenvalues:\n",
            "[[2 0]\n",
            " [0 4]]\n",
            "Eigenvectors:\n",
            "[[ 0.70710678  0.70710678]\n",
            " [-0.70710678  0.70710678]]\n"
          ],
          "name": "stdout"
        }
      ]
    },
    {
      "cell_type": "code",
      "metadata": {
        "id": "UI14BnVgXDBR",
        "outputId": "9a61eb69-fa92-4fb1-b84b-80a256c83e37",
        "colab": {
          "base_uri": "https://localhost:8080/"
        }
      },
      "source": [
        "λ,V =np.linalg.eig(A)\n",
        "print('Eigenvalues:\\n{}\\nEigenvectors:\\n{}'.format(np.diag(λ),np.c_[ -V[:,1],-V[:,0]  ]\n",
        "))\n"
      ],
      "execution_count": 148,
      "outputs": [
        {
          "output_type": "stream",
          "text": [
            "Eigenvalues:\n",
            "[[2. 0.]\n",
            " [0. 4.]]\n",
            "Eigenvectors:\n",
            "[[ 0.70710678  0.70710678]\n",
            " [ 0.70710678 -0.70710678]]\n"
          ],
          "name": "stdout"
        }
      ]
    }
  ]
}