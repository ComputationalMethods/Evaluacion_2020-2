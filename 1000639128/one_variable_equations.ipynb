{
  "nbformat": 4,
  "nbformat_minor": 0,
  "metadata": {
    "colab": {
      "name": "one-variable-equations.ipynb",
      "provenance": []
    },
    "kernelspec": {
      "display_name": "Python 3",
      "language": "python",
      "name": "python3"
    },
    "language_info": {
      "codemirror_mode": {
        "name": "ipython",
        "version": 3
      },
      "file_extension": ".py",
      "mimetype": "text/x-python",
      "name": "python",
      "nbconvert_exporter": "python",
      "pygments_lexer": "ipython3",
      "version": "3.7.3"
    },
    "toc": {
      "colors": {
        "hover_highlight": "#DAA520",
        "running_highlight": "#FF0000",
        "selected_highlight": "#FFD700"
      },
      "moveMenuLeft": true,
      "nav_menu": {
        "height": "426px",
        "width": "252px"
      },
      "navigate_menu": true,
      "number_sections": true,
      "sideBar": true,
      "threshold": 4,
      "toc_cell": false,
      "toc_section_display": "block",
      "toc_window_display": false
    }
  },
  "cells": [
    {
      "cell_type": "markdown",
      "metadata": {
        "colab_type": "text",
        "id": "cx_2LAjUw7VH"
      },
      "source": [
        "<a href=\"https://colab.research.google.com/github/restrepo/ComputationalMethods/blob/master/material/one-variable-equations.ipynb\" target=\"_parent\"><img src=\"https://colab.research.google.com/assets/colab-badge.svg\" alt=\"Open In Colab\"/></a>\n",
        "\n",
        "# One Variable Equations\n",
        "<a href=\"https://colab.research.google.com/github/restrepo/ComputationalMethods/blob/master/material/one-variable-equations.ipynb\" target=\"_parent\"><img src=\"https://colab.research.google.com/assets/colab-badge.svg\" alt=\"Open In Colab\"/></a>\n",
        "\n",
        "Throughout this section and the next ones we shall cover the topic of solutions to one variable equations. Many different problems in physics and astronomy require the use of complex expressions, even with implicit dependence of variables. When it is necessary to solve for one of those variable, an analytical approach is not usually the best solution, because of its complexity or even because it does not exist at all. Different approaches for dealing with this comprehend series expansions and numerical solutions. Among the most widely used numerical approaches are the Bisection or Binary-search method, fixed-point iteration, Newton's methods.\n",
        "\n",
        "For further details see for example Chap. 5 of Ref. ([1](../index.ipynb#Bibliography)) or Chap. 4 of Ref. ([3](../index.ipynb#Bibliography))\n"
      ]
    },
    {
      "cell_type": "markdown",
      "metadata": {
        "colab_type": "text",
        "id": "sExxbMPEw7VM"
      },
      "source": [
        "- - -\n",
        "- [Bisection Method](#Bisection-Method) \n",
        "    - [Steps](#Steps-BM)\n",
        "    - [Stop condition](#Stop-condition-BM)\n",
        "    - [Error analysis](#Error-analysis-BM)\n",
        "    - [Example 1](#Example-1)\n",
        "    - [Example 2](#Example-2)\n",
        "- [Fixed-point Iteration](./one-variable-equations-fixed-point.ipynb#Fixed-point-Iteration)\n",
        "    - [Steps](./one-variable-equations-fixed-point.ipynb#Steps-FP)\n",
        "    - [Example 3](./one-variable-equations-fixed-point.ipynb#Example-3)\n",
        "    - [Stop condition](./one-variable-equations-fixed-point.ipynb#Stop-condition-FP)\n",
        "    - [Example 4](./one-variable-equations-fixed-point.ipynb#Example-4)\n",
        "    - [Activity](./one-variable-equations-fixed-point.ipynb#ACTIVITY-FP)\n",
        "- [Newton-Raphson Method](./one-variable-equations-fixed-point.ipynb#Newton-Raphson-Method)\n",
        "    - [Derivation](./one-variable-equations-fixed-point.ipynb#Derivation-NM)\n",
        "    - [Steps](./one-variable-equations-fixed-point.ipynb#Steps-NM)\n",
        "    - [Example 5](./one-variable-equations-fixed-point.ipynb#Example-5)\n",
        "    - [Stop condition](./one-variable-equations-fixed-point.ipynb#Stop-condition-NM)\n",
        "    - [Convergence](./one-variable-equations-fixed-point.ipynb#Convergence-NM)\n",
        "- [Secant Method](./one-variable-equations-fixed-point.ipynb#Secant-Method)\n",
        "    - [Derivation](./one-variable-equations-fixed-point.ipynb#Derivation-SM)\n",
        "    - [Steps](./one-variable-equations-fixed-point.ipynb#Steps-SM)\n",
        "\n",
        "- - -\n",
        "## Bibliography\n",
        "[1] [Kiusalaas, Numerical Methods in Engineering with Python](https://drive.google.com/file/d/0BxoOXsn2EUNIQUdFVkctR2xWRUk/view?usp=sharing)<br/>\n",
        "[2] [Jensen, Computational_Physics](https://drive.google.com/file/d/0BxoOXsn2EUNIekRUMFVPYXVsSTg/view?usp=sharing).  Companion repos: https://github.com/mhjensen [Web page](http://compphysics.github.io/ComputationalPhysics/doc/web/course)  <br/>\n",
        "[3] E. Ayres, [Computational Physics With Python](http://bit.ly/CPwPython)<br/>\n"
      ]
    },
    {
      "cell_type": "code",
      "metadata": {
        "colab_type": "code",
        "id": "GD4z2RTZw7VN",
        "colab": {
          "base_uri": "https://localhost:8080/",
          "height": 34
        },
        "outputId": "e07e58f7-a7cb-4d69-c9e3-559a88aefa72"
      },
      "source": [
        "%pylab inline\n",
        "rc('animation', html='jshtml')"
      ],
      "execution_count": 1,
      "outputs": [
        {
          "output_type": "stream",
          "text": [
            "Populating the interactive namespace from numpy and matplotlib\n"
          ],
          "name": "stdout"
        }
      ]
    },
    {
      "cell_type": "markdown",
      "metadata": {
        "colab_type": "text",
        "id": "FY0-QkUnw7VS"
      },
      "source": [
        "JSAnimation import available at https://github.com/jakevdp/JSAnimation"
      ]
    },
    {
      "cell_type": "code",
      "metadata": {
        "colab_type": "code",
        "id": "5rHmuj6mw7VT",
        "colab": {}
      },
      "source": [
        "#from JSAnimation import IPython_display\n",
        "from matplotlib import animation"
      ],
      "execution_count": 2,
      "outputs": []
    },
    {
      "cell_type": "code",
      "metadata": {
        "colab_type": "code",
        "id": "zM--Q1_nw7VX",
        "colab": {}
      },
      "source": [
        "import numpy as np\n",
        "\n",
        "\n",
        "from scipy import integrate\n",
        "from scipy import optimize"
      ],
      "execution_count": 3,
      "outputs": []
    },
    {
      "cell_type": "markdown",
      "metadata": {
        "colab_type": "text",
        "id": "_45Zy-RWw7Vb"
      },
      "source": [
        "- - - "
      ]
    },
    {
      "cell_type": "markdown",
      "metadata": {
        "colab_type": "text",
        "id": "RNEo8n--w7Vc"
      },
      "source": [
        "# Bisection Method"
      ]
    },
    {
      "cell_type": "markdown",
      "metadata": {
        "colab_type": "text",
        "id": "2ZgAUxxyw7Vf"
      },
      "source": [
        "The Bisection method exploits the [intermediate value theorem](http://en.wikipedia.org/wiki/Intermediate_value_theorem), where a continuous and differentiable function $f$ must have a zero between an interval $[a,b]$ such that $f(a)f(b)<0$, or equivalently, there must be a value $p\\in[a,b]$ such that $f(p)=0$. Below the algorithmm is stated explicitly."
      ]
    },
    {
      "cell_type": "markdown",
      "metadata": {
        "colab_type": "text",
        "id": "tCrKSgUrw7Vh"
      },
      "source": [
        "## Steps BM"
      ]
    },
    {
      "cell_type": "markdown",
      "metadata": {
        "colab_type": "text",
        "id": "8uRIVSQOw7Vj"
      },
      "source": [
        "<div style=\"float: right;\" markdown=\"1\">\n",
        "    <img src=\"http://upload.wikimedia.org/wikipedia/commons/thumb/8/8c/Bisection_method.svg/300px-Bisection_method.svg.png\">\n",
        "</div>\n",
        "\n",
        "\n",
        "1. There must be selected two values $a$ and $b$ such that $f(a)f(b)<0$ and $p\\in[a,b]$ where $f(p)=0$. In other words, though we do not know the value of the root, we must know that there is at least one within the selected interval.\n",
        "\n",
        "2. To begin, it must be set $a_1=a$ and $b_1=b$.\n",
        "\n",
        "3. Calculate the mid-point $p_1$ as\n",
        "\n",
        "    $$p_1 = a_1 + \\frac{b_1-a_1}{2} = \\frac{a_1+b_1}{2}$$\n",
        "\n",
        "4. Evaluate the function in $p_1$, if the [stop condition](#Stop-Condition) is true, go to step 6.\n",
        "\n",
        "5. If the [stop condition](#Stop-Condition) is not satisfied, then:\n",
        "\n",
        "    1. If $f(p_1)f(a_1) > 0$, $p\\in(p_1,b_1)$. Then set $a_2=p_1$ and $b_2=b_1$\n",
        "\n",
        "    2. If $f(p_1)f(a_1) < 0$, $p\\in(a_1,p_1)$. Then set $a_2=a_1$ and $b_2=p_1$\n",
        "\n",
        "    3. Go to step 3 using $p_2$, $a_2$ and $b_2$ instead of $p_1$, $a_1$ and $b_1$. For next iterations the index increases until the [stop condition](#Stop-Condition) is reached.\n",
        "\n",
        "6. The End!"
      ]
    },
    {
      "cell_type": "markdown",
      "metadata": {
        "colab_type": "text",
        "id": "7uoUfZn9w7Vk"
      },
      "source": [
        "## Stop condition BM"
      ]
    },
    {
      "cell_type": "markdown",
      "metadata": {
        "colab_type": "text",
        "id": "qtHv5IGIw7Vl"
      },
      "source": [
        "There are several different stop conditions for this algorithm. The most used are stated below:\n",
        "\n",
        "* A fixed distance between the last two steps (absolute convergence):\n",
        "\n",
        "    $$|p_i - p_{i-1}|<\\epsilon$$\n",
        "\n",
        "* A fixed relative distance between the last two steps (relative convergence):\n",
        "\n",
        "    $$\\frac{|p_i - p_{i-1}|}{|p_i|}<\\epsilon\\ \\ \\ \\ \\ p_i \\neq 0$$\n",
        "\n",
        "* Function tolerance:\n",
        "\n",
        "    $$f(p_i)< \\epsilon$$\n",
        "\n",
        "All these conditions should lead to a desired convergence expressed by the $\\epsilon$ value. However, the first and the third conditions present some problems when the function has a derivative very large or close to $0$ as evaluated in the root value. When the function is very inclined, the first condition fails as a convergence in the $x$ axis does not guarantee a convergence in the $y$ axis, so the found root $p$ may be far from the real value. When the function is very flat ($dF/dx\\rightarrow 0$), the third condition fails due to an analogous reason.\n",
        "\n",
        "A final stop condition which does not have mathematical motivation but a computational one, is a maximum number of allowed iterations. This condition should be used not only for this algorithm but for all iteration-based numerical methods. This condition guarantees a finite computing time and prevents undesired infinite bucles.\n",
        "\n",
        "* If $N>N_{max}$, stop!"
      ]
    },
    {
      "cell_type": "markdown",
      "metadata": {
        "colab_type": "text",
        "id": "nBQBHO23w7Vm"
      },
      "source": [
        "## Error analysis BM"
      ]
    },
    {
      "cell_type": "markdown",
      "metadata": {
        "colab_type": "text",
        "id": "2u-a2qPOw7Vn"
      },
      "source": [
        "If we suppose $f\\in C[a,b]$ and $f(a)f(b)<0$, the Bisection method generates a sequence of numbers $\\left\\{p_i\\right\\}_{i=1}^\\infty$ approximating a root $p$ of $f$ as:\n",
        "\n",
        "$$|p_i-p|\\leq \\frac{b-a}{2^n},\\ \\ \\ \\ \\ i\\geq 1$$\n",
        "\n",
        "From this, we can conclude the convergence rate of the method is\n",
        "\n",
        "$$p_i = p + \\mathcal{O}\\left( \\frac{1}{2^i} \\right)$$\n",
        "\n",
        "This expression allows us to estimate the maximum number of required iterations for achieving a desired precision. The next figure sketches the number of iterations required for some precision."
      ]
    },
    {
      "cell_type": "code",
      "metadata": {
        "colab_type": "code",
        "id": "OsQu8x8Jw7Vo",
        "colab": {}
      },
      "source": [
        "import time"
      ],
      "execution_count": 4,
      "outputs": []
    },
    {
      "cell_type": "code",
      "metadata": {
        "colab_type": "code",
        "id": "NRO_1bQGw7Vt",
        "colab": {
          "base_uri": "https://localhost:8080/",
          "height": 34
        },
        "outputId": "c76db0c6-402c-4130-d4a6-5e92baf0c687"
      },
      "source": [
        "x=np.arange( 1, 100)\n",
        "x[:3]"
      ],
      "execution_count": 9,
      "outputs": [
        {
          "output_type": "execute_result",
          "data": {
            "text/plain": [
              "array([1, 2, 3])"
            ]
          },
          "metadata": {
            "tags": []
          },
          "execution_count": 9
        }
      ]
    },
    {
      "cell_type": "code",
      "metadata": {
        "colab_type": "code",
        "id": "Uf5JCpRuw7Vy",
        "colab": {}
      },
      "source": [
        "# plt.plot( x,y  ) # points joined with straight lines "
      ],
      "execution_count": null,
      "outputs": []
    },
    {
      "cell_type": "code",
      "metadata": {
        "colab_type": "code",
        "id": "XuHIZQEVw7V1",
        "colab": {}
      },
      "source": [
        "y=np.exp2(-x)\n",
        "y="
      ],
      "execution_count": null,
      "outputs": []
    },
    {
      "cell_type": "code",
      "metadata": {
        "colab_type": "code",
        "id": "j02SkcI1w7V4",
        "colab": {
          "base_uri": "https://localhost:8080/",
          "height": 282
        },
        "outputId": "529226a6-be05-4869-b6a9-162ae0946bf2"
      },
      "source": [
        "# 1/2**x → exp2(-x)\n",
        "plt.plot(x,exp2(-x))"
      ],
      "execution_count": 10,
      "outputs": [
        {
          "output_type": "execute_result",
          "data": {
            "text/plain": [
              "[<matplotlib.lines.Line2D at 0x7f09bf5ff898>]"
            ]
          },
          "metadata": {
            "tags": []
          },
          "execution_count": 10
        },
        {
          "output_type": "display_data",
          "data": {
            "image/png": "[encoded data removed]",
            "text/plain": [
              "<Figure size 432x288 with 1 Axes>"
            ]
          },
          "metadata": {
            "tags": [],
            "needs_background": "light"
          }
        }
      ]
    },
    {
      "cell_type": "code",
      "metadata": {
        "colab_type": "code",
        "id": "_Eye-yOJw7V7",
        "colab": {
          "base_uri": "https://localhost:8080/",
          "height": 393
        },
        "outputId": "cf3bd304-d1e0-498a-ef3f-e71646c8d4f4"
      },
      "source": [
        "s=time.time()\n",
        "#Array of iterations\n",
        "Niter = np.arange( 1, 100 )\n",
        "\n",
        "plt.figure( figsize=(6,6) )\n",
        "#plt.semilogy( Niter, 2.0**-Niter, color=\"green\", lw = 2 )\n",
        "plt.semilogy( Niter, np.exp2(-Niter), color=\"green\", lw = 2 )\n",
        "plt.grid(True)\n",
        "plt.xlabel(\"Number of Iterations\",size=15)\n",
        "plt.ylabel(\"Absolute Error $|p_n-p|$\",size=15)\n",
        "f=time.time()-s"
      ],
      "execution_count": 12,
      "outputs": [
        {
          "output_type": "display_data",
          "data": {
            "image/png": "[encoded data removed]",
            "text/plain": [
              "<Figure size 432x432 with 1 Axes>"
            ]
          },
          "metadata": {
            "tags": [],
            "needs_background": "light"
          }
        }
      ]
    },
    {
      "cell_type": "markdown",
      "metadata": {
        "colab_type": "text",
        "id": "pd9PwTe1w7V-"
      },
      "source": [
        "## Example 1"
      ]
    },
    {
      "cell_type": "markdown",
      "metadata": {
        "colab_type": "text",
        "id": "vlEpT9Sjw7V_"
      },
      "source": [
        "Find the root of the function $f$\n",
        "\n",
        "$f(x) = x^3 - 2$\n",
        "\n",
        "for $20$ iterations, show the result and the relative error in each iteration."
      ]
    },
    {
      "cell_type": "code",
      "metadata": {
        "colab_type": "code",
        "id": "GpdA20yow7WB",
        "colab": {}
      },
      "source": [
        "#Defining Bisection function\n",
        "def Bisection( f, a, b, Nmax, printer=False ):\n",
        "    \"\"\"\n",
        "    Find the root of function f between a and b\n",
        "    \n",
        "    f: function\n",
        "    a,b: the initial interval\n",
        "    Nmax: Nmax de interations\n",
        "    printer: bool, to print internal steps\n",
        "    \"\"\"\n",
        "    #verifying the STEP1, a and b with different signs\n",
        "    import sys\n",
        "    if f(a)*f(b)>0:\n",
        "        sys.exit(\"Error, f(a) and f(b) should have opposite signs\")\n",
        "        return False\n",
        "    #Assigning the current extreme values, STEP2\n",
        "    ai = a\n",
        "    bi = b\n",
        "    #Iterations\n",
        "    n = 1\n",
        "    while n<=Nmax:\n",
        "        #Bisection, STEP3\n",
        "        pi = (ai+bi)/2.0\n",
        "        #Evaluating function in pi, STEP4 and STEP5\n",
        "        if printer:\n",
        "            print( \"Value for {} iterations: {}\".format(n,pi) )\n",
        "        #Condition A\n",
        "        if f(pi)*f(ai)>0:\n",
        "            ai = pi\n",
        "        #Condition B\n",
        "        elif f(pi)*f(ai)<0:\n",
        "            bi = pi\n",
        "        #Condition C: repeat the cycle\n",
        "        n+=1\n",
        "    #Final result\n",
        "    return pi"
      ],
      "execution_count": 13,
      "outputs": []
    },
    {
      "cell_type": "markdown",
      "metadata": {
        "colab_type": "text",
        "id": "Z1XWelBgw7WJ"
      },
      "source": [
        "Defining function"
      ]
    },
    {
      "cell_type": "code",
      "metadata": {
        "colab_type": "code",
        "id": "0Vd7ahTbw7WK",
        "colab": {}
      },
      "source": [
        "def function(x):\n",
        "    return x**3.0 - 2.0"
      ],
      "execution_count": 14,
      "outputs": []
    },
    {
      "cell_type": "markdown",
      "metadata": {
        "colab_type": "text",
        "id": "Cy9OT7XDw7WN"
      },
      "source": [
        "Finding the root of the function. The real root is $\\sqrt[3]{2}$, so `a` and `b` should enclose this value"
      ]
    },
    {
      "cell_type": "code",
      "metadata": {
        "colab_type": "code",
        "id": "pvl1fZSKw7WO",
        "colab": {
          "base_uri": "https://localhost:8080/",
          "height": 391
        },
        "outputId": "3f14da30-6232-4437-fa96-affeeb54374d"
      },
      "source": [
        "#Defining a and b\n",
        "a = 0.0\n",
        "b = 2.0\n",
        "Nmax = 20\n",
        "result = Bisection(function, a, b, Nmax, printer=True)\n",
        "print ( \"Real value:\", 2**(1/3.0))\n",
        "print ( \"Absolute error\", abs((2**(1/3.0)-result)) )"
      ],
      "execution_count": 15,
      "outputs": [
        {
          "output_type": "stream",
          "text": [
            "Value for 1 iterations: 1.0\n",
            "Value for 2 iterations: 1.5\n",
            "Value for 3 iterations: 1.25\n",
            "Value for 4 iterations: 1.375\n",
            "Value for 5 iterations: 1.3125\n",
            "Value for 6 iterations: 1.28125\n",
            "Value for 7 iterations: 1.265625\n",
            "Value for 8 iterations: 1.2578125\n",
            "Value for 9 iterations: 1.26171875\n",
            "Value for 10 iterations: 1.259765625\n",
            "Value for 11 iterations: 1.2607421875\n",
            "Value for 12 iterations: 1.26025390625\n",
            "Value for 13 iterations: 1.260009765625\n",
            "Value for 14 iterations: 1.2598876953125\n",
            "Value for 15 iterations: 1.25994873046875\n",
            "Value for 16 iterations: 1.259918212890625\n",
            "Value for 17 iterations: 1.2599334716796875\n",
            "Value for 18 iterations: 1.2599258422851562\n",
            "Value for 19 iterations: 1.2599220275878906\n",
            "Value for 20 iterations: 1.2599201202392578\n",
            "Real value: 1.2599210498948732\n",
            "Absolute error 9.296556153781665e-07\n"
          ],
          "name": "stdout"
        }
      ]
    },
    {
      "cell_type": "markdown",
      "metadata": {
        "colab_type": "text",
        "id": "CmP1u-lPw7WQ"
      },
      "source": [
        "Using the error analysis, we can predict the produced error at $20$ iterations by computing:\n",
        "\n",
        "$$ \\left( \\frac{1}{2^{20}}\\right) \\approx 9.53674316\\times 10^{-7} $$\n",
        "\n",
        "This value is very close to the obtained relative error.\n",
        "\n",
        "If we were interested in a double precision, i.e. $\\epsilon \\sim 10^{-17}$, the number of required iterations would be:\n",
        "\n",
        "$$ 10^{-17} = \\left( \\frac{1}{2^{N}}\\right) \\longrightarrow N = \\frac{17}{\\log_{10}(2)} \\approx 56 $$"
      ]
    },
    {
      "cell_type": "markdown",
      "metadata": {
        "colab_type": "text",
        "id": "p2lZUHGSw7WR"
      },
      "source": [
        "Now the same but using scipy implementation"
      ]
    },
    {
      "cell_type": "code",
      "metadata": {
        "colab_type": "code",
        "id": "LKwXO9vfw7WS",
        "colab": {}
      },
      "source": [
        "from scipy import optimize "
      ],
      "execution_count": 16,
      "outputs": []
    },
    {
      "cell_type": "markdown",
      "metadata": {
        "colab_type": "text",
        "id": "x92AU0K6w7WV"
      },
      "source": [
        "See help with `optimize?:`"
      ]
    },
    {
      "cell_type": "markdown",
      "metadata": {
        "colab_type": "text",
        "id": "VqmyDCFIw7Wa"
      },
      "source": [
        "Check the help:"
      ]
    },
    {
      "cell_type": "code",
      "metadata": {
        "colab_type": "code",
        "id": "s7ZzL1BEw7Wa",
        "colab": {
          "base_uri": "https://localhost:8080/",
          "height": 1000
        },
        "outputId": "2025a798-fc36-4b69-a779-803017703e6c"
      },
      "source": [
        "help(optimize.bisect)"
      ],
      "execution_count": 17,
      "outputs": [
        {
          "output_type": "stream",
          "text": [
            "Help on function bisect in module scipy.optimize.zeros:\n",
            "\n",
            "bisect(f, a, b, args=(), xtol=2e-12, rtol=8.881784197001252e-16, maxiter=100, full_output=False, disp=True)\n",
            "    Find root of a function within an interval using bisection.\n",
            "    \n",
            "    Basic bisection routine to find a zero of the function `f` between the\n",
            "    arguments `a` and `b`. `f(a)` and `f(b)` cannot have the same signs.\n",
            "    Slow but sure.\n",
            "    \n",
            "    Parameters\n",
            "    ----------\n",
            "    f : function\n",
            "        Python function returning a number.  `f` must be continuous, and\n",
            "        f(a) and f(b) must have opposite signs.\n",
            "    a : scalar\n",
            "        One end of the bracketing interval [a,b].\n",
            "    b : scalar\n",
            "        The other end of the bracketing interval [a,b].\n",
            "    xtol : number, optional\n",
            "        The computed root ``x0`` will satisfy ``np.allclose(x, x0,\n",
            "        atol=xtol, rtol=rtol)``, where ``x`` is the exact root. The\n",
            "        parameter must be nonnegative.\n",
            "    rtol : number, optional\n",
            "        The computed root ``x0`` will satisfy ``np.allclose(x, x0,\n",
            "        atol=xtol, rtol=rtol)``, where ``x`` is the exact root. The\n",
            "        parameter cannot be smaller than its default value of\n",
            "        ``4*np.finfo(float).eps``.\n",
            "    maxiter : int, optional\n",
            "        if convergence is not achieved in `maxiter` iterations, an error is\n",
            "        raised.  Must be >= 0.\n",
            "    args : tuple, optional\n",
            "        containing extra arguments for the function `f`.\n",
            "        `f` is called by ``apply(f, (x)+args)``.\n",
            "    full_output : bool, optional\n",
            "        If `full_output` is False, the root is returned.  If `full_output` is\n",
            "        True, the return value is ``(x, r)``, where x is the root, and r is\n",
            "        a `RootResults` object.\n",
            "    disp : bool, optional\n",
            "        If True, raise RuntimeError if the algorithm didn't converge.\n",
            "        Otherwise the convergence status is recorded in a `RootResults`\n",
            "        return object.\n",
            "    \n",
            "    Returns\n",
            "    -------\n",
            "    x0 : float\n",
            "        Zero of `f` between `a` and `b`.\n",
            "    r : `RootResults` (present if ``full_output = True``)\n",
            "        Object containing information about the convergence.  In particular,\n",
            "        ``r.converged`` is True if the routine converged.\n",
            "    \n",
            "    Examples\n",
            "    --------\n",
            "    \n",
            "    >>> def f(x):\n",
            "    ...     return (x**2 - 1)\n",
            "    \n",
            "    >>> from scipy import optimize\n",
            "    \n",
            "    >>> root = optimize.bisect(f, 0, 2)\n",
            "    >>> root\n",
            "    1.0\n",
            "    \n",
            "    >>> root = optimize.bisect(f, -2, 0)\n",
            "    >>> root\n",
            "    -1.0\n",
            "    \n",
            "    See Also\n",
            "    --------\n",
            "    brentq, brenth, bisect, newton\n",
            "    fixed_point : scalar fixed-point finder\n",
            "    fsolve : n-dimensional root-finding\n",
            "\n"
          ],
          "name": "stdout"
        }
      ]
    },
    {
      "cell_type": "markdown",
      "metadata": {
        "colab_type": "text",
        "id": "yC9nyRCwGJaw"
      },
      "source": [
        "## General arguments and options of a SciPy function"
      ]
    },
    {
      "cell_type": "markdown",
      "metadata": {
        "colab_type": "text",
        "id": "B-D9tsnEGTHD"
      },
      "source": [
        "* `f`"
      ]
    },
    {
      "cell_type": "code",
      "metadata": {
        "colab_type": "code",
        "id": "3Jxl8Cyx4J32",
        "colab": {}
      },
      "source": [
        "def f(x,m=3,b=-2):\n",
        "    return m*x+b"
      ],
      "execution_count": 18,
      "outputs": []
    },
    {
      "cell_type": "code",
      "metadata": {
        "colab_type": "code",
        "id": "WrYXrulI44Ij",
        "colab": {
          "base_uri": "https://localhost:8080/",
          "height": 35
        },
        "outputId": "b5bb125b-60da-4edc-fc0b-0249f80b66ca"
      },
      "source": [
        "f(0.66666666666666666,-3,2)"
      ],
      "execution_count": null,
      "outputs": [
        {
          "output_type": "execute_result",
          "data": {
            "text/plain": [
              "0.0"
            ]
          },
          "metadata": {
            "tags": []
          },
          "execution_count": 58
        }
      ]
    },
    {
      "cell_type": "code",
      "metadata": {
        "colab_type": "code",
        "id": "R6ihC-WN4ZUR",
        "colab": {
          "base_uri": "https://localhost:8080/",
          "height": 35
        },
        "outputId": "9d5a4737-95fe-4940-e9bc-f4dee796793c"
      },
      "source": [
        "optimize.bisect(lambda x: -3*x+2,-10,10)"
      ],
      "execution_count": null,
      "outputs": [
        {
          "output_type": "execute_result",
          "data": {
            "text/plain": [
              "0.6666666666671972"
            ]
          },
          "metadata": {
            "tags": []
          },
          "execution_count": 59
        }
      ]
    },
    {
      "cell_type": "code",
      "metadata": {
        "colab_type": "code",
        "id": "iZHq9BrU4xFh",
        "colab": {
          "base_uri": "https://localhost:8080/",
          "height": 35
        },
        "outputId": "1a105e92-22a5-47e6-873b-6f17d8f6a412"
      },
      "source": [
        "optimize.bisect(lambda x: f(x,-3,2),-10,10,)"
      ],
      "execution_count": null,
      "outputs": [
        {
          "output_type": "execute_result",
          "data": {
            "text/plain": [
              "0.6666666666671972"
            ]
          },
          "metadata": {
            "tags": []
          },
          "execution_count": 60
        }
      ]
    },
    {
      "cell_type": "code",
      "metadata": {
        "colab_type": "code",
        "id": "ojivSEZh5YLx",
        "colab": {
          "base_uri": "https://localhost:8080/",
          "height": 35
        },
        "outputId": "ed0c6690-c165-43d1-8e8e-4251fe0ea33b"
      },
      "source": [
        "optimize.bisect(f,-10,10,args=(-3,2))"
      ],
      "execution_count": null,
      "outputs": [
        {
          "output_type": "execute_result",
          "data": {
            "text/plain": [
              "0.6666666666671972"
            ]
          },
          "metadata": {
            "tags": []
          },
          "execution_count": 61
        }
      ]
    },
    {
      "cell_type": "markdown",
      "metadata": {
        "colab_type": "text",
        "id": "7wLEoVWK8FqU"
      },
      "source": [
        "* `xtol`"
      ]
    },
    {
      "cell_type": "code",
      "metadata": {
        "colab_type": "code",
        "id": "1UyHY0m76fIk",
        "colab": {
          "base_uri": "https://localhost:8080/",
          "height": 35
        },
        "outputId": "2b172be2-43dd-4940-ba04-75659bda3d83"
      },
      "source": [
        "optimize.bisect(f,-10,10,args=(-3,2),xtol=1E-17)"
      ],
      "execution_count": null,
      "outputs": [
        {
          "output_type": "execute_result",
          "data": {
            "text/plain": [
              "0.6666666666666671"
            ]
          },
          "metadata": {
            "tags": []
          },
          "execution_count": 62
        }
      ]
    },
    {
      "cell_type": "markdown",
      "metadata": {
        "colab_type": "text",
        "id": "yjQIGQ5fGpIU"
      },
      "source": [
        "* `maxiter`"
      ]
    },
    {
      "cell_type": "code",
      "metadata": {
        "colab_type": "code",
        "id": "xyyTsH7L7R-E",
        "colab": {
          "base_uri": "https://localhost:8080/",
          "height": 35
        },
        "outputId": "bc87c14b-b6a1-4c22-b68f-bef351841a12"
      },
      "source": [
        "optimize.bisect(f,-10,10,args=(-3,2),xtol=1E-17,maxiter=10000)"
      ],
      "execution_count": null,
      "outputs": [
        {
          "output_type": "execute_result",
          "data": {
            "text/plain": [
              "0.6666666666666671"
            ]
          },
          "metadata": {
            "tags": []
          },
          "execution_count": 63
        }
      ]
    },
    {
      "cell_type": "markdown",
      "metadata": {
        "colab_type": "text",
        "id": "FiXdFcKEGuIU"
      },
      "source": [
        "* `full_output`"
      ]
    },
    {
      "cell_type": "code",
      "metadata": {
        "colab_type": "code",
        "id": "tQnA1hbu7vYE",
        "colab": {}
      },
      "source": [
        "x0,r=optimize.bisect(f,-10,10,args=(-3,2),xtol=1E-17,full_output=True)"
      ],
      "execution_count": 19,
      "outputs": []
    },
    {
      "cell_type": "code",
      "metadata": {
        "colab_type": "code",
        "id": "YIE2XkN68Bfg",
        "colab": {
          "base_uri": "https://localhost:8080/",
          "height": 34
        },
        "outputId": "899fd54b-9cd9-4920-c8c0-b12a1f9b6abb"
      },
      "source": [
        "type(r)"
      ],
      "execution_count": 20,
      "outputs": [
        {
          "output_type": "execute_result",
          "data": {
            "text/plain": [
              "scipy.optimize.zeros.RootResults"
            ]
          },
          "metadata": {
            "tags": []
          },
          "execution_count": 20
        }
      ]
    },
    {
      "cell_type": "markdown",
      "metadata": {
        "colab_type": "text",
        "id": "QmSG5wGKw7We"
      },
      "source": [
        "Check the code"
      ]
    },
    {
      "cell_type": "code",
      "metadata": {
        "colab_type": "code",
        "id": "jBi0uZeE8NGk",
        "colab": {
          "base_uri": "https://localhost:8080/",
          "height": 35
        },
        "outputId": "aacf42d1-5bb2-4028-bbdc-e4ae465ff554"
      },
      "source": [
        "r.function_calls"
      ],
      "execution_count": null,
      "outputs": [
        {
          "output_type": "execute_result",
          "data": {
            "text/plain": [
              "57"
            ]
          },
          "metadata": {
            "tags": []
          },
          "execution_count": 66
        }
      ]
    },
    {
      "cell_type": "code",
      "metadata": {
        "colab_type": "code",
        "id": "csnji5Tsw7Wf",
        "colab": {},
        "outputId": "e32aa863-c231-4711-b570-50cbef8c2626"
      },
      "source": [
        "optimize.bisect??"
      ],
      "execution_count": null,
      "outputs": [
        {
          "output_type": "display_data",
          "data": {
            "text/plain": [
              "\u001b[0;31mSignature:\u001b[0m \u001b[0moptimize\u001b[0m\u001b[0;34m.\u001b[0m\u001b[0mbisect\u001b[0m\u001b[0;34m(\u001b[0m\u001b[0mf\u001b[0m\u001b[0;34m,\u001b[0m \u001b[0ma\u001b[0m\u001b[0;34m,\u001b[0m \u001b[0mb\u001b[0m\u001b[0;34m,\u001b[0m \u001b[0margs\u001b[0m\u001b[0;34m=\u001b[0m\u001b[0;34m(\u001b[0m\u001b[0;34m)\u001b[0m\u001b[0;34m,\u001b[0m \u001b[0mxtol\u001b[0m\u001b[0;34m=\u001b[0m\u001b[0;36m2e-12\u001b[0m\u001b[0;34m,\u001b[0m \u001b[0mrtol\u001b[0m\u001b[0;34m=\u001b[0m\u001b[0;36m8.881784197001252e-16\u001b[0m\u001b[0;34m,\u001b[0m \u001b[0mmaxiter\u001b[0m\u001b[0;34m=\u001b[0m\u001b[0;36m100\u001b[0m\u001b[0;34m,\u001b[0m \u001b[0mfull_output\u001b[0m\u001b[0;34m=\u001b[0m\u001b[0;32mFalse\u001b[0m\u001b[0;34m,\u001b[0m \u001b[0mdisp\u001b[0m\u001b[0;34m=\u001b[0m\u001b[0;32mTrue\u001b[0m\u001b[0;34m)\u001b[0m\u001b[0;34m\u001b[0m\u001b[0;34m\u001b[0m\u001b[0m\n",
              "\u001b[0;31mSource:\u001b[0m   \n",
              "\u001b[0;32mdef\u001b[0m \u001b[0mbisect\u001b[0m\u001b[0;34m(\u001b[0m\u001b[0mf\u001b[0m\u001b[0;34m,\u001b[0m \u001b[0ma\u001b[0m\u001b[0;34m,\u001b[0m \u001b[0mb\u001b[0m\u001b[0;34m,\u001b[0m \u001b[0margs\u001b[0m\u001b[0;34m=\u001b[0m\u001b[0;34m(\u001b[0m\u001b[0;34m)\u001b[0m\u001b[0;34m,\u001b[0m\u001b[0;34m\u001b[0m\n",
              "\u001b[0;34m\u001b[0m           \u001b[0mxtol\u001b[0m\u001b[0;34m=\u001b[0m\u001b[0m_xtol\u001b[0m\u001b[0;34m,\u001b[0m \u001b[0mrtol\u001b[0m\u001b[0;34m=\u001b[0m\u001b[0m_rtol\u001b[0m\u001b[0;34m,\u001b[0m \u001b[0mmaxiter\u001b[0m\u001b[0;34m=\u001b[0m\u001b[0m_iter\u001b[0m\u001b[0;34m,\u001b[0m\u001b[0;34m\u001b[0m\n",
              "\u001b[0;34m\u001b[0m           \u001b[0mfull_output\u001b[0m\u001b[0;34m=\u001b[0m\u001b[0;32mFalse\u001b[0m\u001b[0;34m,\u001b[0m \u001b[0mdisp\u001b[0m\u001b[0;34m=\u001b[0m\u001b[0;32mTrue\u001b[0m\u001b[0;34m)\u001b[0m\u001b[0;34m:\u001b[0m\u001b[0;34m\u001b[0m\n",
              "\u001b[0;34m\u001b[0m    \u001b[0;34m\"\"\"\u001b[0m\n",
              "\u001b[0;34m    Find root of a function within an interval using bisection.\u001b[0m\n",
              "\u001b[0;34m\u001b[0m\n",
              "\u001b[0;34m    Basic bisection routine to find a zero of the function `f` between the\u001b[0m\n",
              "\u001b[0;34m    arguments `a` and `b`. `f(a)` and `f(b)` cannot have the same signs.\u001b[0m\n",
              "\u001b[0;34m    Slow but sure.\u001b[0m\n",
              "\u001b[0;34m\u001b[0m\n",
              "\u001b[0;34m    Parameters\u001b[0m\n",
              "\u001b[0;34m    ----------\u001b[0m\n",
              "\u001b[0;34m    f : function\u001b[0m\n",
              "\u001b[0;34m        Python function returning a number.  `f` must be continuous, and\u001b[0m\n",
              "\u001b[0;34m        f(a) and f(b) must have opposite signs.\u001b[0m\n",
              "\u001b[0;34m    a : scalar\u001b[0m\n",
              "\u001b[0;34m        One end of the bracketing interval [a,b].\u001b[0m\n",
              "\u001b[0;34m    b : scalar\u001b[0m\n",
              "\u001b[0;34m        The other end of the bracketing interval [a,b].\u001b[0m\n",
              "\u001b[0;34m    xtol : number, optional\u001b[0m\n",
              "\u001b[0;34m        The computed root ``x0`` will satisfy ``np.allclose(x, x0,\u001b[0m\n",
              "\u001b[0;34m        atol=xtol, rtol=rtol)``, where ``x`` is the exact root. The\u001b[0m\n",
              "\u001b[0;34m        parameter must be nonnegative.\u001b[0m\n",
              "\u001b[0;34m    rtol : number, optional\u001b[0m\n",
              "\u001b[0;34m        The computed root ``x0`` will satisfy ``np.allclose(x, x0,\u001b[0m\n",
              "\u001b[0;34m        atol=xtol, rtol=rtol)``, where ``x`` is the exact root. The\u001b[0m\n",
              "\u001b[0;34m        parameter cannot be smaller than its default value of\u001b[0m\n",
              "\u001b[0;34m        ``4*np.finfo(float).eps``.\u001b[0m\n",
              "\u001b[0;34m    maxiter : int, optional\u001b[0m\n",
              "\u001b[0;34m        If convergence is not achieved in `maxiter` iterations, an error is\u001b[0m\n",
              "\u001b[0;34m        raised. Must be >= 0.\u001b[0m\n",
              "\u001b[0;34m    args : tuple, optional\u001b[0m\n",
              "\u001b[0;34m        Containing extra arguments for the function `f`.\u001b[0m\n",
              "\u001b[0;34m        `f` is called by ``apply(f, (x)+args)``.\u001b[0m\n",
              "\u001b[0;34m    full_output : bool, optional\u001b[0m\n",
              "\u001b[0;34m        If `full_output` is False, the root is returned. If `full_output` is\u001b[0m\n",
              "\u001b[0;34m        True, the return value is ``(x, r)``, where x is the root, and r is\u001b[0m\n",
              "\u001b[0;34m        a `RootResults` object.\u001b[0m\n",
              "\u001b[0;34m    disp : bool, optional\u001b[0m\n",
              "\u001b[0;34m        If True, raise RuntimeError if the algorithm didn't converge.\u001b[0m\n",
              "\u001b[0;34m        Otherwise, the convergence status is recorded in a `RootResults`\u001b[0m\n",
              "\u001b[0;34m        return object.\u001b[0m\n",
              "\u001b[0;34m\u001b[0m\n",
              "\u001b[0;34m    Returns\u001b[0m\n",
              "\u001b[0;34m    -------\u001b[0m\n",
              "\u001b[0;34m    x0 : float\u001b[0m\n",
              "\u001b[0;34m        Zero of `f` between `a` and `b`.\u001b[0m\n",
              "\u001b[0;34m    r : `RootResults` (present if ``full_output = True``)\u001b[0m\n",
              "\u001b[0;34m        Object containing information about the convergence. In particular,\u001b[0m\n",
              "\u001b[0;34m        ``r.converged`` is True if the routine converged.\u001b[0m\n",
              "\u001b[0;34m\u001b[0m\n",
              "\u001b[0;34m    Examples\u001b[0m\n",
              "\u001b[0;34m    --------\u001b[0m\n",
              "\u001b[0;34m\u001b[0m\n",
              "\u001b[0;34m    >>> def f(x):\u001b[0m\n",
              "\u001b[0;34m    ...     return (x**2 - 1)\u001b[0m\n",
              "\u001b[0;34m\u001b[0m\n",
              "\u001b[0;34m    >>> from scipy import optimize\u001b[0m\n",
              "\u001b[0;34m\u001b[0m\n",
              "\u001b[0;34m    >>> root = optimize.bisect(f, 0, 2)\u001b[0m\n",
              "\u001b[0;34m    >>> root\u001b[0m\n",
              "\u001b[0;34m    1.0\u001b[0m\n",
              "\u001b[0;34m\u001b[0m\n",
              "\u001b[0;34m    >>> root = optimize.bisect(f, -2, 0)\u001b[0m\n",
              "\u001b[0;34m    >>> root\u001b[0m\n",
              "\u001b[0;34m    -1.0\u001b[0m\n",
              "\u001b[0;34m\u001b[0m\n",
              "\u001b[0;34m    See Also\u001b[0m\n",
              "\u001b[0;34m    --------\u001b[0m\n",
              "\u001b[0;34m    brentq, brenth, bisect, newton\u001b[0m\n",
              "\u001b[0;34m    fixed_point : scalar fixed-point finder\u001b[0m\n",
              "\u001b[0;34m    fsolve : n-dimensional root-finding\u001b[0m\n",
              "\u001b[0;34m\u001b[0m\n",
              "\u001b[0;34m    \"\"\"\u001b[0m\u001b[0;34m\u001b[0m\n",
              "\u001b[0;34m\u001b[0m    \u001b[0;32mif\u001b[0m \u001b[0;32mnot\u001b[0m \u001b[0misinstance\u001b[0m\u001b[0;34m(\u001b[0m\u001b[0margs\u001b[0m\u001b[0;34m,\u001b[0m \u001b[0mtuple\u001b[0m\u001b[0;34m)\u001b[0m\u001b[0;34m:\u001b[0m\u001b[0;34m\u001b[0m\n",
              "\u001b[0;34m\u001b[0m        \u001b[0margs\u001b[0m \u001b[0;34m=\u001b[0m \u001b[0;34m(\u001b[0m\u001b[0margs\u001b[0m\u001b[0;34m,\u001b[0m\u001b[0;34m)\u001b[0m\u001b[0;34m\u001b[0m\n",
              "\u001b[0;34m\u001b[0m    \u001b[0mmaxiter\u001b[0m \u001b[0;34m=\u001b[0m \u001b[0moperator\u001b[0m\u001b[0;34m.\u001b[0m\u001b[0mindex\u001b[0m\u001b[0;34m(\u001b[0m\u001b[0mmaxiter\u001b[0m\u001b[0;34m)\u001b[0m\u001b[0;34m\u001b[0m\n",
              "\u001b[0;34m\u001b[0m    \u001b[0;32mif\u001b[0m \u001b[0mxtol\u001b[0m \u001b[0;34m<=\u001b[0m \u001b[0;36m0\u001b[0m\u001b[0;34m:\u001b[0m\u001b[0;34m\u001b[0m\n",
              "\u001b[0;34m\u001b[0m        \u001b[0;32mraise\u001b[0m \u001b[0mValueError\u001b[0m\u001b[0;34m(\u001b[0m\u001b[0;34m\"xtol too small (%g <= 0)\"\u001b[0m \u001b[0;34m%\u001b[0m \u001b[0mxtol\u001b[0m\u001b[0;34m)\u001b[0m\u001b[0;34m\u001b[0m\n",
              "\u001b[0;34m\u001b[0m    \u001b[0;32mif\u001b[0m \u001b[0mrtol\u001b[0m \u001b[0;34m<\u001b[0m \u001b[0m_rtol\u001b[0m\u001b[0;34m:\u001b[0m\u001b[0;34m\u001b[0m\n",
              "\u001b[0;34m\u001b[0m        \u001b[0;32mraise\u001b[0m \u001b[0mValueError\u001b[0m\u001b[0;34m(\u001b[0m\u001b[0;34m\"rtol too small (%g < %g)\"\u001b[0m \u001b[0;34m%\u001b[0m \u001b[0;34m(\u001b[0m\u001b[0mrtol\u001b[0m\u001b[0;34m,\u001b[0m \u001b[0m_rtol\u001b[0m\u001b[0;34m)\u001b[0m\u001b[0;34m)\u001b[0m\u001b[0;34m\u001b[0m\n",
              "\u001b[0;34m\u001b[0m    \u001b[0mr\u001b[0m \u001b[0;34m=\u001b[0m \u001b[0m_zeros\u001b[0m\u001b[0;34m.\u001b[0m\u001b[0m_bisect\u001b[0m\u001b[0;34m(\u001b[0m\u001b[0mf\u001b[0m\u001b[0;34m,\u001b[0m \u001b[0ma\u001b[0m\u001b[0;34m,\u001b[0m \u001b[0mb\u001b[0m\u001b[0;34m,\u001b[0m \u001b[0mxtol\u001b[0m\u001b[0;34m,\u001b[0m \u001b[0mrtol\u001b[0m\u001b[0;34m,\u001b[0m \u001b[0mmaxiter\u001b[0m\u001b[0;34m,\u001b[0m \u001b[0margs\u001b[0m\u001b[0;34m,\u001b[0m \u001b[0mfull_output\u001b[0m\u001b[0;34m,\u001b[0m \u001b[0mdisp\u001b[0m\u001b[0;34m)\u001b[0m\u001b[0;34m\u001b[0m\n",
              "\u001b[0;34m\u001b[0m    \u001b[0;32mreturn\u001b[0m \u001b[0mresults_c\u001b[0m\u001b[0;34m(\u001b[0m\u001b[0mfull_output\u001b[0m\u001b[0;34m,\u001b[0m \u001b[0mr\u001b[0m\u001b[0;34m)\u001b[0m\u001b[0;34m\u001b[0m\u001b[0;34m\u001b[0m\u001b[0m\n",
              "\u001b[0;31mFile:\u001b[0m      /usr/local/lib/python3.7/dist-packages/scipy/optimize/zeros.py\n",
              "\u001b[0;31mType:\u001b[0m      function\n"
            ]
          },
          "metadata": {
            "tags": []
          }
        }
      ]
    },
    {
      "cell_type": "markdown",
      "metadata": {
        "colab_type": "text",
        "id": "6_7lOL6Ww7Wj"
      },
      "source": [
        "Check the internal referenced code"
      ]
    },
    {
      "cell_type": "code",
      "metadata": {
        "colab_type": "code",
        "id": "Qh9fqUvgw7Wk",
        "colab": {},
        "outputId": "9ef68ef2-f4d5-487a-f9b3-8a44390a89aa"
      },
      "source": [
        "optimize._zeros??"
      ],
      "execution_count": null,
      "outputs": [
        {
          "output_type": "display_data",
          "data": {
            "text/plain": [
              "\u001b[0;31mType:\u001b[0m        module\n",
              "\u001b[0;31mString form:\u001b[0m <module 'scipy.optimize._zeros' from '/usr/local/lib/python3.7/dist-packages/scipy/optimize/_zeros.cpython-37m-x86_64-linux-gnu.so'>\n",
              "\u001b[0;31mFile:\u001b[0m        /usr/local/lib/python3.7/dist-packages/scipy/optimize/_zeros.cpython-37m-x86_64-linux-gnu.so\n"
            ]
          },
          "metadata": {
            "tags": []
          }
        }
      ]
    },
    {
      "cell_type": "markdown",
      "metadata": {
        "colab_type": "text",
        "id": "IJIfqraOG_fz"
      },
      "source": [
        "### Example\n",
        "Find the roots of\n",
        "$$x^3=2$$"
      ]
    },
    {
      "cell_type": "code",
      "metadata": {
        "colab_type": "code",
        "id": "O1E6o0IRw7Wo",
        "colab": {}
      },
      "source": [
        "def function(x):\n",
        "    return x**3.0 - 2.0"
      ],
      "execution_count": 24,
      "outputs": []
    },
    {
      "cell_type": "code",
      "metadata": {
        "colab_type": "code",
        "id": "kABWCrNcw7Wq",
        "colab": {}
      },
      "source": [
        "a = 0.0\n",
        "b = 2.0\n",
        "\n",
        "result,r=optimize.bisect(function,a,b,full_output=True)"
      ],
      "execution_count": 25,
      "outputs": []
    },
    {
      "cell_type": "code",
      "metadata": {
        "colab_type": "code",
        "id": "nlxlkNYyw7Wt",
        "colab": {
          "base_uri": "https://localhost:8080/",
          "height": 34
        },
        "outputId": "b93a9234-872c-4099-f231-90364090c303"
      },
      "source": [
        "result"
      ],
      "execution_count": 27,
      "outputs": [
        {
          "output_type": "execute_result",
          "data": {
            "text/plain": [
              "1.2599210498938191"
            ]
          },
          "metadata": {
            "tags": []
          },
          "execution_count": 27
        }
      ]
    },
    {
      "cell_type": "code",
      "metadata": {
        "colab_type": "code",
        "id": "L3HyS2OGw7Wv",
        "colab": {
          "base_uri": "https://localhost:8080/",
          "height": 34
        },
        "outputId": "10ea2eab-cf07-4003-8d04-831421d6d2d7"
      },
      "source": [
        "2**(1/3.0)"
      ],
      "execution_count": 28,
      "outputs": [
        {
          "output_type": "execute_result",
          "data": {
            "text/plain": [
              "1.2599210498948732"
            ]
          },
          "metadata": {
            "tags": []
          },
          "execution_count": 28
        }
      ]
    },
    {
      "cell_type": "markdown",
      "metadata": {
        "colab_type": "text",
        "id": "TKlBRLXUw7Wy"
      },
      "source": [
        "Check `r` object by using the `<TAB>` key next"
      ]
    },
    {
      "cell_type": "code",
      "metadata": {
        "colab_type": "code",
        "id": "TkfTsXumw7Wz",
        "colab": {
          "base_uri": "https://localhost:8080/",
          "height": 35
        },
        "outputId": "d618fc43-05eb-4e22-de7e-4db81ad77435"
      },
      "source": [
        "r.iterations"
      ],
      "execution_count": null,
      "outputs": [
        {
          "output_type": "execute_result",
          "data": {
            "text/plain": [
              "40"
            ]
          },
          "metadata": {
            "tags": []
          },
          "execution_count": 73
        }
      ]
    },
    {
      "cell_type": "code",
      "metadata": {
        "colab_type": "code",
        "id": "HpBNHlWDw7W3",
        "colab": {
          "base_uri": "https://localhost:8080/",
          "height": 35
        },
        "outputId": "25eb56bd-9ec6-4c4f-9a08-b3035ac7260c"
      },
      "source": [
        "2**(-r.iterations)"
      ],
      "execution_count": null,
      "outputs": [
        {
          "output_type": "execute_result",
          "data": {
            "text/plain": [
              "9.094947017729282e-13"
            ]
          },
          "metadata": {
            "tags": []
          },
          "execution_count": 74
        }
      ]
    },
    {
      "cell_type": "code",
      "metadata": {
        "colab_type": "code",
        "id": "tvkJ0Jy5w7W6",
        "colab": {
          "base_uri": "https://localhost:8080/",
          "height": 35
        },
        "outputId": "c9d1ebf4-0f00-4992-c901-562c1ae6dfde"
      },
      "source": [
        "abs((2**(1/3.0)-result))"
      ],
      "execution_count": null,
      "outputs": [
        {
          "output_type": "execute_result",
          "data": {
            "text/plain": [
              "1.0540457395791236e-12"
            ]
          },
          "metadata": {
            "tags": []
          },
          "execution_count": 75
        }
      ]
    },
    {
      "cell_type": "code",
      "metadata": {
        "colab_type": "code",
        "id": "4m6VCcpiw7W8",
        "colab": {
          "base_uri": "https://localhost:8080/",
          "height": 35
        },
        "outputId": "8229c9e2-8cb1-4a0c-a2e1-51f77ae36dc4"
      },
      "source": [
        "r.converged"
      ],
      "execution_count": null,
      "outputs": [
        {
          "output_type": "execute_result",
          "data": {
            "text/plain": [
              "True"
            ]
          },
          "metadata": {
            "tags": []
          },
          "execution_count": 76
        }
      ]
    },
    {
      "cell_type": "code",
      "metadata": {
        "colab_type": "code",
        "id": "7bp9qun4w7W_",
        "colab": {}
      },
      "source": [
        "result,r=optimize.bisect(function,a,b,xtol=1E-17,full_output=True)"
      ],
      "execution_count": 29,
      "outputs": []
    },
    {
      "cell_type": "code",
      "metadata": {
        "colab_type": "code",
        "id": "kmUCIBwlw7XB",
        "colab": {
          "base_uri": "https://localhost:8080/",
          "height": 34
        },
        "outputId": "d20d0197-7eb8-482e-b0ec-075969ccf7e1"
      },
      "source": [
        "r.iterations"
      ],
      "execution_count": 30,
      "outputs": [
        {
          "output_type": "execute_result",
          "data": {
            "text/plain": [
              "51"
            ]
          },
          "metadata": {
            "tags": []
          },
          "execution_count": 30
        }
      ]
    },
    {
      "cell_type": "code",
      "metadata": {
        "colab_type": "code",
        "id": "zQTyAChgw7XE",
        "colab": {
          "base_uri": "https://localhost:8080/",
          "height": 34
        },
        "outputId": "fea196ac-9ae2-4cbc-b229-1879b16eb040"
      },
      "source": [
        "abs((2**(1/3.0)-result))"
      ],
      "execution_count": 31,
      "outputs": [
        {
          "output_type": "execute_result",
          "data": {
            "text/plain": [
              "2.220446049250313e-16"
            ]
          },
          "metadata": {
            "tags": []
          },
          "execution_count": 31
        }
      ]
    },
    {
      "cell_type": "code",
      "metadata": {
        "colab_type": "code",
        "id": "eXvvDw-4EZr-",
        "colab": {
          "base_uri": "https://localhost:8080/",
          "height": 34
        },
        "outputId": "bbfb4d3a-f83b-4d7d-ee38-9a703ab6dac3"
      },
      "source": [
        "2**(-r.iterations)"
      ],
      "execution_count": 32,
      "outputs": [
        {
          "output_type": "execute_result",
          "data": {
            "text/plain": [
              "4.440892098500626e-16"
            ]
          },
          "metadata": {
            "tags": []
          },
          "execution_count": 32
        }
      ]
    },
    {
      "cell_type": "markdown",
      "metadata": {
        "colab_type": "text",
        "id": "Mf8r3RfJw7XG"
      },
      "source": [
        "### <font color='red'> ACTIVITY </font>"
      ]
    },
    {
      "cell_type": "markdown",
      "metadata": {
        "colab_type": "text",
        "id": "gDKsdwSZw7XH"
      },
      "source": [
        "<font color='red'>\n",
        "In an IPython notebook, use the scipy implementation and find the first solution to the equation\n",
        "    \n",
        "$ 7 = \\sqrt{x^2+1}+e^x\\sin x $\n",
        "    \n",
        "CLUE: Check graphically (with matplotlib) that the solution is within the interval $[0,2]$.\n",
        "</font>"
      ]
    },
    {
      "cell_type": "markdown",
      "metadata": {
        "colab_type": "text",
        "id": "3Sr162oVw7XI"
      },
      "source": [
        "[solution](./solutions/sltn_bisect.ipynb)"
      ]
    },
    {
      "cell_type": "code",
      "metadata": {
        "id": "WRDJUM9G3VP-",
        "colab_type": "code",
        "colab": {}
      },
      "source": [
        "def función(x):\n",
        "  return np.sqrt(x**2+1)+np.exp(x)*np.sin(x)-7"
      ],
      "execution_count": 51,
      "outputs": []
    },
    {
      "cell_type": "markdown",
      "metadata": {
        "id": "9bY4tXsT9FJx",
        "colab_type": "text"
      },
      "source": [
        "Primera solución: Entre [-8,-6]\n"
      ]
    },
    {
      "cell_type": "code",
      "metadata": {
        "id": "yVLN0j_z7gOj",
        "colab_type": "code",
        "colab": {
          "base_uri": "https://localhost:8080/",
          "height": 287
        },
        "outputId": "be8ca00c-f6b4-45f1-dfcc-9567905b236d"
      },
      "source": [
        "x=np.arange(-8,2,0.1)\n",
        "plt.plot(x,np.sqrt(x**2+1)+np.exp(x)*np.sin(x)-7)\n",
        "plt.hlines(y=0, xmin=-8, xmax=2,label= 'x=0')\n",
        "plt.xlim(-8,2)\n",
        "plt.legend()\n",
        "plt.xlabel('X',fontsize=18)\n",
        "plt.ylabel('f(x)',fontsize=18)\n",
        "plt.grid()"
      ],
      "execution_count": 90,
      "outputs": [
        {
          "output_type": "display_data",
          "data": {
            "image/png": "[encoded data removed]",
            "text/plain": [
              "<Figure size 432x288 with 1 Axes>"
            ]
          },
          "metadata": {
            "tags": [],
            "needs_background": "light"
          }
        }
      ]
    },
    {
      "cell_type": "code",
      "metadata": {
        "id": "tHPomR9_9tAp",
        "colab_type": "code",
        "colab": {
          "base_uri": "https://localhost:8080/",
          "height": 34
        },
        "outputId": "2a5e30fc-161e-4d4d-bbf7-17a63433d319"
      },
      "source": [
        "optimize.bisect(función,a= -8, b = -6)"
      ],
      "execution_count": 95,
      "outputs": [
        {
          "output_type": "execute_result",
          "data": {
            "text/plain": [
              "-6.928798494349394"
            ]
          },
          "metadata": {
            "tags": []
          },
          "execution_count": 95
        }
      ]
    },
    {
      "cell_type": "markdown",
      "metadata": {
        "colab_type": "text",
        "id": "Dmg0dkxO9eFl"
      },
      "source": [
        " solución entre [0,2]\n",
        " \n"
      ]
    },
    {
      "cell_type": "code",
      "metadata": {
        "id": "y45Ol3fl6IaM",
        "colab_type": "code",
        "colab": {
          "base_uri": "https://localhost:8080/",
          "height": 265
        },
        "outputId": "2af2c5f5-e3a1-465a-eedf-3e9392dc842e"
      },
      "source": [
        "x=np.arange(0,2,0.1)\n",
        "plt.plot(x,np.sqrt(x**2+1)+np.exp(x)*np.sin(x)-7)\n",
        "plt.hlines(y=0, xmin=0, xmax=2,label= 'x=0')\n",
        "plt.xlim(0,2)\n",
        "plt.legend()\n",
        "plt.grid()"
      ],
      "execution_count": 68,
      "outputs": [
        {
          "output_type": "display_data",
          "data": {
            "image/png": "[encoded data removed]",
            "text/plain": [
              "<Figure size 432x288 with 1 Axes>"
            ]
          },
          "metadata": {
            "tags": [],
            "needs_background": "light"
          }
        }
      ]
    },
    {
      "cell_type": "code",
      "metadata": {
        "id": "er2rSFuA3097",
        "colab_type": "code",
        "colab": {}
      },
      "source": [
        "result,r=optimize.bisect(función,a= 0, b = 2,full_output=True)"
      ],
      "execution_count": 69,
      "outputs": []
    },
    {
      "cell_type": "code",
      "metadata": {
        "id": "B-4AqZmi3V9_",
        "colab_type": "code",
        "colab": {
          "base_uri": "https://localhost:8080/",
          "height": 34
        },
        "outputId": "66c3b1f9-84f6-420c-b3c8-44e95f2be5ff"
      },
      "source": [
        "result"
      ],
      "execution_count": 70,
      "outputs": [
        {
          "output_type": "execute_result",
          "data": {
            "text/plain": [
              "1.628718494926943"
            ]
          },
          "metadata": {
            "tags": []
          },
          "execution_count": 70
        }
      ]
    },
    {
      "cell_type": "code",
      "metadata": {
        "id": "5Q_feTDu5x0m",
        "colab_type": "code",
        "colab": {
          "base_uri": "https://localhost:8080/",
          "height": 102
        },
        "outputId": "3c7b6159-7b02-4448-f67c-fee1ebcc71f7"
      },
      "source": [
        "r"
      ],
      "execution_count": 55,
      "outputs": [
        {
          "output_type": "execute_result",
          "data": {
            "text/plain": [
              "      converged: True\n",
              "           flag: 'converged'\n",
              " function_calls: 42\n",
              "     iterations: 40\n",
              "           root: 1.628718494926943"
            ]
          },
          "metadata": {
            "tags": []
          },
          "execution_count": 55
        }
      ]
    },
    {
      "cell_type": "code",
      "metadata": {
        "colab_type": "code",
        "id": "e5at_XXzHSlk",
        "colab": {}
      },
      "source": [
        "a,b,c=(2,3,4)"
      ],
      "execution_count": null,
      "outputs": []
    },
    {
      "cell_type": "code",
      "metadata": {
        "colab_type": "code",
        "id": "geD3ecfDHXFE",
        "colab": {
          "base_uri": "https://localhost:8080/",
          "height": 35
        },
        "outputId": "e823e103-fbd6-461d-c9ed-82c11a9c5d28"
      },
      "source": [
        "c"
      ],
      "execution_count": null,
      "outputs": [
        {
          "output_type": "execute_result",
          "data": {
            "text/plain": [
              "4"
            ]
          },
          "metadata": {
            "tags": []
          },
          "execution_count": 39
        }
      ]
    },
    {
      "cell_type": "code",
      "metadata": {
        "colab_type": "code",
        "id": "zrY4Rc19E_zC",
        "colab": {}
      },
      "source": [
        "import numpy as np"
      ],
      "execution_count": null,
      "outputs": []
    },
    {
      "cell_type": "code",
      "metadata": {
        "colab_type": "code",
        "id": "SZhTQgvLFDmg",
        "colab": {
          "base_uri": "https://localhost:8080/",
          "height": 35
        },
        "outputId": "51f03fe3-2248-4cd6-832e-0f4ecebc3059"
      },
      "source": [
        "# Solo usar para constante\n",
        "np.e"
      ],
      "execution_count": null,
      "outputs": [
        {
          "output_type": "execute_result",
          "data": {
            "text/plain": [
              "2.718281828459045"
            ]
          },
          "metadata": {
            "tags": []
          },
          "execution_count": 41
        }
      ]
    },
    {
      "cell_type": "code",
      "metadata": {
        "colab_type": "code",
        "id": "ela6ZuPcFGPQ",
        "colab": {
          "base_uri": "https://localhost:8080/",
          "height": 35
        },
        "outputId": "9237d95b-cf27-43b2-aab8-242954b8ec85"
      },
      "source": [
        "np.exp(1)"
      ],
      "execution_count": null,
      "outputs": [
        {
          "output_type": "execute_result",
          "data": {
            "text/plain": [
              "2.718281828459045"
            ]
          },
          "metadata": {
            "tags": []
          },
          "execution_count": 42
        }
      ]
    },
    {
      "cell_type": "markdown",
      "metadata": {
        "colab_type": "text",
        "id": "hBSyBUNrw7XJ"
      },
      "source": [
        "## Example 2"
      ]
    },
    {
      "cell_type": "markdown",
      "metadata": {
        "colab_type": "text",
        "id": "qpIK0RxFw7XK"
      },
      "source": [
        "In orbital mechanics, when solving the central-force problem it becomes necessary to solve the Kepler's equation. This is a transcendental equation that relates the orbital parameters of the trajectory.\n",
        "\n",
        "*Kepler equation:* $M = E - \\epsilon \\sin E$\n",
        "\n",
        "where $M$ is the mean anomaly, $E$ the eccentric anomaly and $\\epsilon$ the eccentricity. The mean anomaly can be computed with the expression\n",
        "\n",
        "$$M = n\\ t = \\sqrt{ \\frac{GM}{a^3} } t$$\n",
        "\n",
        "where $n$ is the mean motion, $G$ the gravitational constant, $M$ the mass of the central body and $a$ the semi-major axis. $t$ is the time where the position in the trajectory will be computed.\n",
        "\n",
        "The coordinates $x$ and $y$ as time functions can be recovered by means of the next expressions\n",
        "\n",
        "$$x(t) = a(\\cos E - \\epsilon)$$\n",
        "\n",
        "$$y(t) = b\\sin E$$\n",
        "\n",
        "where $b = a \\sqrt{1-\\epsilon^2}$ is the semi-minor axis of the orbit and the implicit time-dependence of the eccentric anomaly $E$ is computed through the Kepler's equation."
      ]
    },
    {
      "cell_type": "markdown",
      "metadata": {
        "colab_type": "text",
        "id": "FlKupbitw7XL"
      },
      "source": [
        "**Problem:**\n",
        "\n",
        "For a stallite orbiting the earth in a equatorial trajectory with eccentricity $\\epsilon = 0.5$ at a geostationary distance for the semi-major axis, tabulate the positions $x$ and $y$ within the orbital plane in intervals of $15$ min during $5$ hours.\n",
        "\n",
        "**Parameters:**\n",
        "\n",
        "- $\\epsilon = 0.5$\n",
        "\n",
        "- $a = 35900$ km\n",
        "\n",
        "- $G = 6.67384 \\times 10^{-11}$ m$^3$ kg$^{-1}$ s$^{-2}$\n",
        "\n",
        "- $M_{\\oplus} = 5.972\\times 10^{24}$ kg"
      ]
    },
    {
      "cell_type": "code",
      "metadata": {
        "colab_type": "code",
        "id": "URwGARM5w7XL",
        "colab": {}
      },
      "source": [
        "#====================================================================\n",
        "#Parameters\n",
        "#====================================================================\n",
        "#Eccentricity\n",
        "eps = 0.5\n",
        "#Semi-major axis    [m]\n",
        "a = 35900e3\n",
        "#Gravitational constant    [m3kg-1s-2]\n",
        "GC = 6.67384e-11\n",
        "#Earth mass    [kg]\n",
        "Me = 5.972e24\n",
        "\n",
        "#Semi-minor axis    [m]\n",
        "b = a*(1-eps**2.0)**0.5\n",
        "#Mean motion\n",
        "n = ( GC*Me/a**3.0 )**0.5\n",
        "\n",
        "#Hour to Second\n",
        "HR2SC = 3600.\n",
        "#Initial time    [hr]\n",
        "t0 = 0*HR2SC\n",
        "#Final time    [hr]\n",
        "tf = 5*HR2SC\n",
        "#Time step    [hr]\n",
        "tstep = 0.25*HR2SC\n",
        "#Number of maxim iterations\n",
        "Niter = 56\n",
        "#Root interval\n",
        "a0 = -10\n",
        "b0 = 10\n",
        "\n",
        "#====================================================================\n",
        "#Kepler Function\n",
        "#====================================================================\n",
        "def kepler( E ):\n",
        "    func = E - eps*np.sin(E) - n*t\n",
        "    return func\n",
        "\n",
        "#====================================================================\n",
        "#Position function\n",
        "#====================================================================\n",
        "def r(E):\n",
        "    x = a*(np.cos(E)-eps)\n",
        "    y = b*np.sin(E)\n",
        "    return [x/1.e3, y/1.e3]"
      ],
      "execution_count": null,
      "outputs": []
    },
    {
      "cell_type": "code",
      "metadata": {
        "colab_type": "code",
        "id": "z4PZbsmIw7XQ",
        "colab": {},
        "outputId": "bb53b14d-8d19-459f-ecf6-4e9d8988266d"
      },
      "source": [
        "#====================================================================\n",
        "#Solving for different times\n",
        "#====================================================================\n",
        "#Time array\n",
        "times = np.arange( t0, tf, tstep )\n",
        "\n",
        "rpos = []\n",
        "for t in times:\n",
        "    #Finding the new eccentric anomaly\n",
        "    E = optimize.bisect( kepler, a0, b0 )\n",
        "    #Computing coordinates at this time\n",
        "    ri = r(E)\n",
        "    print (\"In %f hours, the satellite is located at (%f,%f) km\"%(t/HR2SC, ri[0], ri[1]) )\n",
        "    rpos.append( ri )\n",
        "rpos = np.array(rpos)    \n",
        "\n",
        "#Plotting\n",
        "plt.plot( rpos[:,0], rpos[:,1], \"o-\", color=\"red\", lw = 2 )\n",
        "plt.grid(True)\n",
        "plt.xlabel(\"$x$ coordinate [km]\")\n",
        "plt.ylabel(\"$y$ coordinate [km]\")"
      ],
      "execution_count": null,
      "outputs": [
        {
          "output_type": "stream",
          "text": [
            "In 0.000000 hours, the satellite is located at (17950.000000,0.000000) km\n",
            "In 0.250000 hours, the satellite is located at (17454.741542,5146.426647) km\n",
            "In 0.500000 hours, the satellite is located at (16033.097675,10023.437750) km\n",
            "In 0.750000 hours, the satellite is located at (13848.847528,14430.262364) km\n",
            "In 1.000000 hours, the satellite is located at (11104.379909,18261.701894) km\n",
            "In 1.250000 hours, the satellite is located at (7989.437466,21493.410338) km\n",
            "In 1.500000 hours, the satellite is located at (4657.168469,24151.489610) km\n",
            "In 1.750000 hours, the satellite is located at (1221.066166,26286.121177) km\n",
            "In 2.000000 hours, the satellite is located at (-2238.747501,27954.872718) km\n",
            "In 2.250000 hours, the satellite is located at (-5667.264143,29214.008624) km\n",
            "In 2.500000 hours, the satellite is located at (-9027.373695,30114.739827) km\n",
            "In 2.750000 hours, the satellite is located at (-12294.392344,30702.085866) km\n",
            "In 3.000000 hours, the satellite is located at (-15452.164136,31014.965936) km\n",
            "In 3.250000 hours, the satellite is located at (-18490.361033,31086.789919) km\n",
            "In 3.500000 hours, the satellite is located at (-21402.633716,30946.195086) km\n",
            "In 3.750000 hours, the satellite is located at (-24185.347784,30617.769816) km\n",
            "In 4.000000 hours, the satellite is located at (-26836.717825,30122.702148) km\n",
            "In 4.250000 hours, the satellite is located at (-29356.211228,29479.336137) km\n",
            "In 4.500000 hours, the satellite is located at (-31744.135350,28703.638662) km\n",
            "In 4.750000 hours, the satellite is located at (-34001.350021,27809.586870) km\n"
          ],
          "name": "stdout"
        },
        {
          "output_type": "execute_result",
          "data": {
            "text/plain": [
              "Text(0, 0.5, '$y$ coordinate [km]')"
            ]
          },
          "metadata": {
            "tags": []
          },
          "execution_count": 45
        },
        {
          "output_type": "display_data",
          "data": {
            "image/png": "[encoded data removed]",
            "text/plain": [
              "<Figure size 432x288 with 1 Axes>"
            ]
          },
          "metadata": {
            "tags": [],
            "needs_background": "light"
          }
        }
      ]
    },
    {
      "cell_type": "markdown",
      "metadata": {
        "colab_type": "text",
        "id": "RJlKLGjww7XU"
      },
      "source": [
        "- - - "
      ]
    }
  ]
}