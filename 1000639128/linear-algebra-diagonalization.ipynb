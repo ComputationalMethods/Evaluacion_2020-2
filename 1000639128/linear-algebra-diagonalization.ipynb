{
 "cells": [
  {
   "cell_type": "markdown",
   "metadata": {
    "colab_type": "text",
    "id": "I-46MAJZImXY"
   },
   "source": [
    "# Matrix diagonalization\n",
    "<a href=\"https://colab.research.google.com/github/restrepo/ComputationalMethods/blob/master/material/linear-algebra-diagonalization.ipynb\" target=\"_parent\"><img src=\"https://colab.research.google.com/assets/colab-badge.svg\" alt=\"Open In Colab\"/></a>"
   ]
  },
  {
   "cell_type": "markdown",
   "metadata": {
    "colab_type": "text",
    "id": "40WhQJy2EWqx"
   },
   "source": [
    "## Theorem 1\n",
    "\n",
    "If $\\boldsymbol{A}$ is Hermitic, e.g:\n",
    "\\begin{align}\n",
    "\\boldsymbol{A}^\\dagger =\\boldsymbol{A}\\,,\n",
    "\\end{align}\n",
    "Then exists an _unitary  matrix_ $\\boldsymbol{V}$ e.g:\n",
    "\\begin{align}\n",
    "\\boldsymbol{V}^{\\ -1}=\\boldsymbol{V}^\\dagger \\,,\n",
    "\\end{align}\n",
    "such that\n",
    "\\begin{equation}\n",
    "  \\boldsymbol{V}^\\dagger\\boldsymbol{A}\\,\\boldsymbol{V}=\\boldsymbol{A}_{\\text{diag}}\\,,\n",
    "\\end{equation}\n",
    "where \n",
    "$\\boldsymbol{A}_{\\text{diag}}=\\operatorname{diag}(\\lambda_1,\\lambda_2,\\ldots \\lambda_n)$ is the diagonalized mass matrix."
   ]
  },
  {
   "cell_type": "markdown",
   "metadata": {
    "colab_type": "text",
    "id": "QousO-tmLx5e"
   },
   "source": [
    "### Corollary 1\n",
    "\n",
    "If $\\boldsymbol{A}$ is symmetric, e.g:\n",
    "\\begin{align}\n",
    "\\boldsymbol{A}^{\\operatorname{T}} =\\boldsymbol{A}\\,,\n",
    "\\end{align}\n",
    "Then exists an _ortogonal matrix_ $\\boldsymbol{V}$, e.g:\n",
    "\\begin{align}\n",
    "\\boldsymbol{V}^{-1}=\\boldsymbol{V}^{\\operatorname{T}} \\,,\n",
    "\\end{align}\n",
    "such that\n",
    "\\begin{equation}\n",
    "  \\boldsymbol{V}^{\\operatorname{T}}\\boldsymbol{A}\\,\\boldsymbol{V}=\\boldsymbol{A}_{\\text{diag}}\\,,\n",
    "\\end{equation}\n",
    "where \n",
    "$\\boldsymbol{A}_{\\text{diag}}=\\operatorname{diag}(\\lambda_1,\\lambda_2,\\ldots \\lambda_n)$ is the diagonalized mass matrix."
   ]
  },
  {
   "cell_type": "markdown",
   "metadata": {},
   "source": [
    "____"
   ]
  },
  {
   "cell_type": "markdown",
   "metadata": {
    "colab_type": "text",
    "id": "Czn5t78GZepT"
   },
   "source": [
    "### Eigenvector problem\n",
    "Note that each eigenvector, corresponding to each column of the matrix, is associated to each eigenvalue\n",
    "$$\n",
    "\\boldsymbol{V}=\\begin{bmatrix}\n",
    "\\boldsymbol{V}_1 \\vdots \\boldsymbol{V}_2\\cdots \\vdots \\boldsymbol{V}_i \\vdots \\boldsymbol{V}_j\\vdots\\cdots \\vdots \\boldsymbol{V}_n \n",
    "\\end{bmatrix}.\n",
    "$$\n",
    "where $\\boldsymbol{V}_i$ is the $i$-th column of the matrix  $\\boldsymbol{V}$.\n",
    "\n",
    "In this way, if we interchange the $i\\leftrightarrow j$ columns of the diagonalization matrix $\\boldsymbol{V}$, the order of the eigenvalues also change\n",
    "$$\n",
    "\\begin{bmatrix}\n",
    "\\boldsymbol{V}_1 \\vdots \\boldsymbol{V}_2\\cdots \\vdots \\boldsymbol{V}_j \\vdots \\boldsymbol{V}_i\\vdots\\cdots \\vdots \\boldsymbol{V}_n \n",
    "\\end{bmatrix}^\\dagger \\boldsymbol{A} \\begin{bmatrix}\n",
    "\\boldsymbol{V}_1 \\vdots \\boldsymbol{V}_2\\cdots \\vdots \\boldsymbol{V}_j \\vdots \\boldsymbol{V}_i\\vdots\\cdots \\vdots \\boldsymbol{V}_n \n",
    "\\end{bmatrix}=\\operatorname{diag}(\\lambda_1,\\lambda_2,\\ldots,\\lambda_j,\\lambda_i,\\ldots \\lambda_n).\n",
    "$$\n",
    "This property is very important because usually the diagonalizationn alghoritm gives not the desired ordering of the eigenvalues and eigenvectors. It is recommended to use the `np.c_` method for the eigenvector reoirdering\n",
    "\n",
    "However, the __Theorem__ only guarantees existence. Tor really calculate the diagonalization matrix we must establish the eigenvector problem:\n",
    "\n",
    "We can use the unitary propery to write\n",
    "\\begin{align}\n",
    "  \\boldsymbol{V}\\boldsymbol{V}^\\dagger\\boldsymbol{A}\\,\\boldsymbol{V}=&\\boldsymbol{V}\\boldsymbol{A}_{\\text{diag}}\\\\\n",
    "\\boldsymbol{A}\\,\\boldsymbol{V}=&\\boldsymbol{V}\\boldsymbol{A}_{\\text{diag}}\\,,\n",
    "\\end{align}\n",
    "or\n",
    "$$\n",
    "\\boldsymbol{A}\\begin{bmatrix}\n",
    "\\boldsymbol{V}_1 \\vdots \\boldsymbol{V}_2\\cdots \\vdots \\boldsymbol{V}_n \n",
    "\\end{bmatrix} =\\operatorname{diag}(\\lambda_1,\\lambda_2\\ldots,\\lambda_n)\\begin{bmatrix}\n",
    "\\boldsymbol{V}_1 \\vdots \\boldsymbol{V}_2\\cdots  \\vdots \\boldsymbol{V}_n \n",
    "\\end{bmatrix}.\n",
    "$$\n",
    "Therefore, the eigenvalue equation is just:\n",
    "\\begin{align}\n",
    "%$$\n",
    "  \\boldsymbol{A}\\,\\boldsymbol{V}_i=&\\lambda_i\\boldsymbol{V}_i \\nonumber\\\\\n",
    "  \\boldsymbol{A}\\,\\boldsymbol{V}_i-\\lambda_i\\boldsymbol{V}_i=&\\boldsymbol{0} \\nonumber\\\\\n",
    "  (\\boldsymbol{A}-\\lambda_i \\,\\boldsymbol{I})\\boldsymbol{V}_i=&\\boldsymbol{0}\\,,\n",
    "%$$\n",
    "\\end{align}\n",
    "where $\\boldsymbol{V}_i$ is the $i$-th column of the matrix  $\\boldsymbol{V}$, and $\\boldsymbol{I}$ is the identity matrix. \n",
    "\n",
    "To avoid the trivial solution $\\boldsymbol{V}_i=\\boldsymbol{0}$, we require that $\\boldsymbol{A}-\\lambda_i\\, \\boldsymbol{I}$\n",
    "does not have an inverse, or equivalently\n",
    "$$\\det( \\boldsymbol{A}-\\lambda_i\\, \\boldsymbol{I})=0\\,.$$"
   ]
  },
  {
   "cell_type": "markdown",
   "metadata": {},
   "source": [
    "### Example\n",
    "The observables associated to the three neutrinos are the entries of a $3\\times 3$ unitary matrix $\\boldsymbol{U}=\\begin{pmatrix}\\boldsymbol{U}_1\\vdots\\boldsymbol{U}_2\\vdots\\boldsymbol{U}_3\\end{pmatrix}$ and the eigenvalues associated to each eigenvector $\\boldsymbol{U}_1\\to  m_1$, $\\boldsymbol{U}_2\\to m_2$, $\\boldsymbol{U}_3\\to m_3$. The normal ordering is $m_1<m_2<m_3$. The unitary matrix can be parameterized in terms of three mixing angles, $\\theta_{12}$ $\\theta_{13}$, $\\theta_{13}$, and a complex phase, $\\delta_{\\text{CP}}$, such that\n",
    "$$\n",
    "\\boldsymbol{U}=\\left(\\begin{array}{ccc}\n",
    "1 & 0 & 0 \\\\\n",
    "0 & c_{23} & s_{23} \\\\\n",
    "0 & -s_{23} & c_{23}\n",
    "\\end{array}\\right) \\cdot\\left(\\begin{array}{ccc}\n",
    "c_{13} & 0 & s_{13} e^{-i \\delta_{\\mathrm{CP}}} \\\\\n",
    "0 & 1 & 0 \\\\\n",
    "-s_{13} e^{i \\delta_{\\mathrm{CP}}} & 0 & c_{13}\n",
    "\\end{array}\\right) \\cdot\\left(\\begin{array}{ccc}\n",
    "c_{21} & s_{12} & 0 \\\\\n",
    "-s_{12} & c_{12} & 0 \\\\\n",
    "0 & 0 & 1\n",
    "\\end{array}\\right),\n",
    "$$\n",
    "where $c_{i j} \\equiv \\cos \\theta_{i j}$ and $s_{i j} \\equiv \\sin \\theta_{i j}$. Thus, we can write $\\boldsymbol{U}$ as\n",
    "$$\n",
    "\\boldsymbol{U}=\\left(\\begin{array}{ccc}c_{12} c_{13} & s_{12} c_{13} & s_{13} e^{-i \\delta_{\\mathrm{CP}}} \\\\ -s_{12} c_{23}-c_{12} s_{13} s_{23} e^{i \\delta_{\\mathrm{CP}}} & c_{12} c_{23}-s_{12} s_{13} s_{23} e^{i \\delta_{\\mathrm{CP}}} & c_{13} s_{23} \\\\ s_{12} s_{23}-c_{12} s_{13} c_{23} e^{i \\delta_{\\mathrm{CP}}} & -c_{12} s_{23}-s_{12} s_{13} c_{23} e^{i \\delta_{\\mathrm{CP}}} & c_{13} c_{23}\\end{array}\\right)\n",
    "$$\n",
    "so that\n",
    "$$\n",
    "\\boldsymbol{U}_1=\\begin{pmatrix}\n",
    "c_{12} c_{13} \\\\\n",
    "-s_{12} c_{23}-c_{12} s_{13} s_{23} e^{i \\delta_{\\mathrm{CP}}} \\\\\n",
    "s_{12} s_{23}-c_{12} s_{13} c_{23} e^{i \\delta_{\\mathrm{CP}}}\n",
    "\\end{pmatrix},\\qquad \\boldsymbol{U}_2=\\begin{pmatrix}\n",
    "s_{12} c_{13} \\\\\n",
    "c_{12} c_{23}-s_{12} s_{13} s_{23} e^{i \\delta_{\\mathrm{CP}}} \\\\\n",
    "-c_{12} s_{23}-s_{12} s_{13} c_{23} e^{i \\delta_{\\mathrm{CP}}}\n",
    "\\end{pmatrix},\\qquad\n",
    "\\boldsymbol{U}_3=\\begin{pmatrix}\n",
    "s_{13} e^{-i \\delta_{\\mathrm{CP}}} \\\\\n",
    "c_{13} s_{23} \\\\\n",
    "c_{13} c_{23}\n",
    "\\end{pmatrix}\n",
    "$$\n",
    "\n",
    "After decades of experimental efforts with thousands of millions of dollars in investment and two recent Nobel prizes, most of the parameters are already measured (see [PDG22020](https://pdg.lbl.gov/2018/reviews/rpp2018-rev-neutrino-mixing.pdf) ):\n",
    "\n",
    "![IMAGE](figures/nu.png)\n",
    "\n",
    "where $\\Delta m^2_{ij}=m^2_i-m^2_j$ is the squared mass difference between eigenvalues $i$ and $j$; and $\\text{eV}$ is really $\\text{eV}/c^2$ where $c$ is the speed of light  in vacuum in natural units with $c=1$, and $1\\ \\text{eV}=1.602\\,176\\,6208(98)\\times 10^{-19}\\ \\text{J}$.\n"
   ]
  },
  {
   "cell_type": "markdown",
   "metadata": {},
   "source": [
    "To a better measurement of $\\delta_{CP}$ for example, a new large experiment called [DUNE](https://www.dunescience.org/), and with a cost of around [$\\$1\\,500$ million of dollars](https://web.fnal.gov/organization/OPSS/Projects/LBNFDUNE/LBNF%20APM%20Jul%202015/Review%20Documents/LBNF%20DUNE%20ICR_Final%20Report.pdf), is in construction in the United States\n",
    "![IMAGE](figures/DUNE.jpg)"
   ]
  },
  {
   "cell_type": "markdown",
   "metadata": {
    "colab_type": "text",
    "id": "pCSR2TVCHRwa"
   },
   "source": [
    "## Theorem 2: Singular value decomposition (SVD)\n",
    "See [SVD](https://en.wikipedia.org/wiki/Singular_value_decomposition) (where the  Hermetique-conjugate is denoted with \"*\" instead that with \"\")\n",
    "\n",
    "A general complex matrix $\\boldsymbol{A}$  can be diagonalized by a bi-diagonal transformation such that\n",
    "\\begin{equation}\n",
    "  \\boldsymbol{V}^\\dagger\\boldsymbol{A}\\,\\boldsymbol{U}=\\boldsymbol{A}_{\\text{diag}}\\,,\n",
    "\\end{equation}\n",
    "where \n",
    "$\\boldsymbol{A}_{\\text{diag}}=\\operatorname{diag}(\\lambda_1,\\lambda_2,\\ldots \\lambda_n)$ is the diagonalized mass matrix.\n",
    "\n",
    "### Demostration\n",
    "\\begin{align}\n",
    "  \\boldsymbol{A}_{\\text{diag}}=&\\boldsymbol{V}^\\dagger\\boldsymbol{A}\\,\\boldsymbol{U}\\\\\n",
    "  \\boldsymbol{A}_{\\text{diag}}\\boldsymbol{A}_{\\text{diag}}^\\dagger=&\\boldsymbol{V}^\\dagger\\boldsymbol{A}\\,\\boldsymbol{U}\n",
    "  \\left(\\boldsymbol{V}^\\dagger\\boldsymbol{A}\\,\\boldsymbol{U}\\right)^\\dagger\\\\\n",
    "  =&\\boldsymbol{V}^\\dagger\\boldsymbol{A}\\,\\boldsymbol{U}\n",
    "  \\left(   \\boldsymbol{U}^\\dagger \\boldsymbol{A}^\\dagger\\,\\boldsymbol{V}\\right)\\\\\n",
    "  =&\\boldsymbol{V}^\\dagger\n",
    "  \\left( \\boldsymbol{A}  \\boldsymbol{A}^\\dagger\\,\\right) \\boldsymbol{V}\\,.\\\\\n",
    "\\end{align}\n",
    "Since $\\boldsymbol{A}  \\boldsymbol{A}^\\dagger$ is hermitic and $\\boldsymbol{A}  \\boldsymbol{A}^\\dagger$ is diagonal, then in fact there exists an unitary matrix $\\boldsymbol{V}$.  Similarly there exists an unitary matrix $\\boldsymbol{U}$ which diagonalizes  $\\boldsymbol{A}^\\dagger  \\boldsymbol{A}$"
   ]
  },
  {
   "cell_type": "markdown",
   "metadata": {},
   "source": [
    "### Scipy implementation\n",
    "The implementation in scipy is based in the inverted relation \n",
    "\\begin{align}\n",
    "  \\boldsymbol{V}^\\dagger\\boldsymbol{A}\\,\\boldsymbol{U}=&\\boldsymbol{A}_{\\text{diag}}\\\\\n",
    "  \\boldsymbol{V}\\boldsymbol{V}^\\dagger\\boldsymbol{A}\\,\\boldsymbol{U}\\boldsymbol{U}^\\dagger=&\\boldsymbol{V}\\boldsymbol{A}_{\\text{diag}}\\boldsymbol{U}^\\dagger\\\\\n",
    "  \\boldsymbol{A}=&\\boldsymbol{V}\\boldsymbol{A}_{\\text{diag}}\\boldsymbol{U}^\\dagger\\,.\n",
    "\\end{align}\n",
    "\n",
    "The implementation is trough the module `scipy.linalg.svd`:\n",
    "```bash\n",
    "V,Adiag,Udagger=linalg.svd(A)\n",
    "```\n"
   ]
  },
  {
   "cell_type": "markdown",
   "metadata": {
    "colab_type": "text",
    "id": "osxweeQvZeoY"
   },
   "source": [
    "### Eigenvectors and eigenvalues\n",
    "If we make\n",
    "$$ \\boldsymbol{U}=[\\boldsymbol{U}_1\\vdots\\boldsymbol{U}_2\\vdots\\cdots\\vdots\\boldsymbol{U}_n], \\qquad \\boldsymbol{V}=[\\boldsymbol{V}_1\\vdots\\boldsymbol{V}_2\\vdots\\cdots\\vdots\\boldsymbol{V}_n] $$\n",
    "\n",
    "We know that there exists a bi-diagonal transformación such that\n",
    "\\begin{equation}\n",
    "%$$\n",
    "  \\boldsymbol{A}\\,\\boldsymbol{U}=\\boldsymbol{V}\\boldsymbol{A}_{\\text{diag}}\n",
    "\\end{equation}\n",
    "\\begin{equation}\n",
    "  \\boldsymbol{A}\\,\\boldsymbol{U}_i=\\lambda_i\\boldsymbol{V}_i\n",
    "%$$\n",
    "\\end{equation}\n",
    "not sum upon $i$. Here \n",
    "* $\\lambda_i$ are called eigenvalues\n",
    "* $V_i$ and $U_i$ are the eigenvectors"
   ]
  },
  {
   "cell_type": "markdown",
   "metadata": {
    "colab_type": "text",
    "id": "KzphXQAeZeoY"
   },
   "source": [
    "We can use this to check the proper order of the eigenvalues"
   ]
  },
  {
   "cell_type": "markdown",
   "metadata": {
    "colab_type": "text",
    "id": "A1iOYehvZeoK"
   },
   "source": [
    "### Transformation of a linear system\n",
    "We start again with the matrix equation, capitol bold letters denotes matrices\n",
    "\\begin{equation}\n",
    "  \\boldsymbol{A}\\boldsymbol{X}=\\boldsymbol{B}\\,,\n",
    "\\end{equation}\n",
    "where $\\boldsymbol{A}$ is an $n \\times n$ matrix.\n",
    "\n",
    "We know that there exists a bi-diagonal transformación such that\n",
    "\\begin{equation}\n",
    "  \\boldsymbol{V}^\\dagger\\boldsymbol{A}\\,\\boldsymbol{U}=\\boldsymbol{A}_{\\text{diag}}\n",
    "\\end{equation}\n",
    "So, by doing standard operations we have\n",
    "\\begin{align}\n",
    "  \\boldsymbol{V}^\\dagger \\boldsymbol{A} \\boldsymbol{U} \\boldsymbol{U}^\\dagger \\boldsymbol{X}=& \\boldsymbol{V}^\\dagger \\boldsymbol{B}\\\\\n",
    "   \\left( \\boldsymbol{V}^\\dagger \\boldsymbol{A} \\boldsymbol{U} \\right) \n",
    "   \\left( \\boldsymbol{U}^\\dagger \\boldsymbol{X}\\right)=& \\boldsymbol{V}^\\dagger \\boldsymbol{B}\\\\\n",
    "  \\boldsymbol{A}_{\\text{diag}} \\boldsymbol{X}'=&\\boldsymbol{B}'\\,,      \n",
    "\\end{align}\n",
    "where\n",
    "\\begin{align}\n",
    "  \\boldsymbol{X}'=& \\boldsymbol{U}^\\dagger \\boldsymbol{X}\\,, &    \\boldsymbol{B}'=& \\boldsymbol{V}^\\dagger \\boldsymbol{B}\\,,\n",
    "\\end{align}\n",
    "or\n",
    "\\begin{align}\n",
    "  \\boldsymbol{X}=& \\boldsymbol{U}\\boldsymbol{X}'\\,, &    \\boldsymbol{B}=& \\boldsymbol{V}\\boldsymbol{B}'\\,.\n",
    "\\end{align}\n",
    "\n",
    "If $\\boldsymbol{A}_{\\text{diag}}=\\operatorname{diag}(\\lambda_1,\\lambda_2,\\ldots \\lambda_n)$, $\\boldsymbol{X}^{\\operatorname{T}}=\\begin{pmatrix}x_1 & x_2 &\\cdots & x_n\\end{pmatrix}^{\\operatorname{T}}$ and $\\boldsymbol{B}^{\\operatorname{T}}=\\begin{pmatrix}b_1& b_2 &\\cdots & b_n\\end{pmatrix}^{\\operatorname{T}}$,\n",
    "the solution of the system is given by\n",
    "\\begin{equation}\n",
    "\\lambda_i x'_i=b_i'\\,.\n",
    "\\end{equation}\n",
    "\n",
    "Note that\n",
    "\\begin{align}\n",
    "   \\boldsymbol{X}'=&\\boldsymbol{A}_{\\text{diag}}^{-1}\\boldsymbol{B}'\\,,      \n",
    "\\end{align}\n",
    "and the final solution is\n",
    "\\begin{align}\n",
    "   \\boldsymbol{X}=&U \\boldsymbol{X}'\\\\ \n",
    "               =&U\\boldsymbol{A}_{\\text{diag}}^{-1}V^\\dagger \\boldsymbol{B}\\,,      \n",
    "\\end{align}\n",
    "Therefore\n",
    "$$A^{-1}=U\\boldsymbol{A}_{\\text{diag}}^{-1}V^\\dagger$$"
   ]
  },
  {
   "cell_type": "markdown",
   "metadata": {
    "colab_type": "text",
    "id": "4Cvjb8GR7YAl"
   },
   "source": [
    "### Example"
   ]
  },
  {
   "cell_type": "markdown",
   "metadata": {
    "colab_type": "text",
    "id": "1gnmh6-0ZeoK"
   },
   "source": [
    " A suitable way to introduce this method is applying it to some basic problem. To do so, let's take the result of the [Example 1](#Example-1):\n",
    "\n",
    "$$ \\begin{bmatrix}\n",
    "5 & -4 & 0 \\\\\n",
    "-4 & 7 & -3 \\\\ \n",
    "0 & -3 & 5\n",
    "\\end{bmatrix}\n",
    "\\begin{bmatrix}\n",
    "x_{1} \\\\\n",
    "x_{2} \\\\\n",
    "x_{3} \n",
    "\\end{bmatrix}  =\n",
    "\\begin{bmatrix}\n",
    "1 \\\\\n",
    "0 \\\\\n",
    "-2\n",
    "\\end{bmatrix}\n",
    "$$\n",
    "As the matrix is symmetric $\\boldsymbol{V}=\\boldsymbol{U}$ and $\\boldsymbol{U}^\\dagger=\\boldsymbol{U}^{\\operatorname{T}}$ "
   ]
  },
  {
   "cell_type": "code",
   "execution_count": 1,
   "metadata": {},
   "outputs": [],
   "source": [
    "import numpy as np"
   ]
  },
  {
   "cell_type": "code",
   "execution_count": 2,
   "metadata": {
    "colab": {},
    "colab_type": "code",
    "id": "mIm4WqinUMlv"
   },
   "outputs": [],
   "source": [
    "M1=np.array([[5,-4,0],\n",
    "             [-4,7,-3],\n",
    "             [0,-3,5]])"
   ]
  },
  {
   "cell_type": "code",
   "execution_count": 3,
   "metadata": {
    "colab": {
     "base_uri": "https://localhost:8080/",
     "height": 71
    },
    "colab_type": "code",
    "id": "YUHs_HgxZeoL",
    "outputId": "1e4481c1-6117-4b2f-807f-00c82b5c212a"
   },
   "outputs": [
    {
     "output_type": "execute_result",
     "data": {
      "text/plain": [
       "array([[ 5, -4,  0],\n",
       "       [-4,  7, -3],\n",
       "       [ 0, -3,  5]])"
      ]
     },
     "metadata": {},
     "execution_count": 3
    }
   ],
   "source": [
    "A=M1\n",
    "A"
   ]
  },
  {
   "cell_type": "markdown",
   "metadata": {
    "colab_type": "text",
    "id": "wPaMSVoVUZWm"
   },
   "source": [
    "Check if all eigenvalues are different from zero:"
   ]
  },
  {
   "cell_type": "code",
   "execution_count": 4,
   "metadata": {
    "colab": {
     "base_uri": "https://localhost:8080/",
     "height": 35
    },
    "colab_type": "code",
    "id": "TSE7tFaFUjhF",
    "outputId": "08a9734c-93b2-4689-f3c9-0fec86608f5a"
   },
   "outputs": [
    {
     "output_type": "execute_result",
     "data": {
      "text/plain": [
       "49.99999999999999"
      ]
     },
     "metadata": {},
     "execution_count": 4
    }
   ],
   "source": [
    "np.linalg.det(A)"
   ]
  },
  {
   "cell_type": "code",
   "execution_count": 5,
   "metadata": {
    "colab": {
     "base_uri": "https://localhost:8080/",
     "height": 71
    },
    "colab_type": "code",
    "id": "JDFWE3CDUp7c",
    "outputId": "adcadc55-e2bc-4275-aab8-6aeabf816359"
   },
   "outputs": [
    {
     "output_type": "execute_result",
     "data": {
      "text/plain": [
       "array([[ 1],\n",
       "       [ 0],\n",
       "       [-2]])"
      ]
     },
     "metadata": {},
     "execution_count": 5
    }
   ],
   "source": [
    "B=np.c_[ [1,0,-2]  ]\n",
    "B"
   ]
  },
  {
   "cell_type": "markdown",
   "metadata": {
    "colab_type": "text",
    "id": "VzE6Z0THVAXa"
   },
   "source": [
    "Also as \n",
    "```python\n",
    "B=np.array([[1],[0],[-2]])\n",
    "#or\n",
    "B=np.reshape(  [1,0,-2],(3,1) )\n",
    "```"
   ]
  },
  {
   "cell_type": "markdown",
   "metadata": {},
   "source": [
    "### Theorem 1 in `numpy`"
   ]
  },
  {
   "cell_type": "code",
   "execution_count": 6,
   "metadata": {
    "colab": {},
    "colab_type": "code",
    "id": "7iQkosR8ZeoQ"
   },
   "outputs": [],
   "source": [
    "λ,V=np.linalg.eig( A )"
   ]
  },
  {
   "cell_type": "code",
   "execution_count": 7,
   "metadata": {
    "colab": {
     "base_uri": "https://localhost:8080/",
     "height": 71
    },
    "colab_type": "code",
    "id": "oRoNMFvLZeoS",
    "outputId": "3c4b2983-8977-47fb-b737-ff0dfa84e851"
   },
   "outputs": [
    {
     "output_type": "execute_result",
     "data": {
      "text/plain": [
       "array([[11.09901951,  0.        ,  0.        ],\n",
       "       [ 0.        ,  0.90098049,  0.        ],\n",
       "       [ 0.        ,  0.        ,  5.        ]])"
      ]
     },
     "metadata": {},
     "execution_count": 7
    }
   ],
   "source": [
    "A_diag=np.diag(λ)\n",
    "A_diag"
   ]
  },
  {
   "cell_type": "code",
   "execution_count": 8,
   "metadata": {
    "colab": {
     "base_uri": "https://localhost:8080/",
     "height": 71
    },
    "colab_type": "code",
    "id": "81EhmwnPZeoU",
    "outputId": "ceeea4a7-4857-4926-98ed-0840e3b635f2"
   },
   "outputs": [
    {
     "output_type": "execute_result",
     "data": {
      "text/plain": [
       "array([[-5.07191124e-01, -6.18673713e-01, -6.00000000e-01],\n",
       "       [ 7.73342141e-01, -6.33988906e-01,  1.91548674e-16],\n",
       "       [-3.80393343e-01, -4.64005285e-01,  8.00000000e-01]])"
      ]
     },
     "metadata": {},
     "execution_count": 8
    }
   ],
   "source": [
    "V"
   ]
  },
  {
   "cell_type": "markdown",
   "metadata": {
    "colab_type": "text",
    "id": "oQMyx6oAZeoW"
   },
   "source": [
    "We first check the proper order of the diagonalization"
   ]
  },
  {
   "cell_type": "code",
   "execution_count": 9,
   "metadata": {
    "colab": {
     "base_uri": "https://localhost:8080/",
     "height": 71
    },
    "colab_type": "code",
    "id": "vYFqc13bZeoW",
    "outputId": "79ada534-d98c-42b1-becb-ca85aaf778cc"
   },
   "outputs": [
    {
     "output_type": "execute_result",
     "data": {
      "text/plain": [
       "array([[1.10990195e+01, 1.00000000e-14, 0.00000000e+00],\n",
       "       [0.00000000e+00, 9.00980486e-01, 0.00000000e+00],\n",
       "       [0.00000000e+00, 0.00000000e+00, 5.00000000e+00]])"
      ]
     },
     "metadata": {},
     "execution_count": 9
    }
   ],
   "source": [
    "np.dot(  np.dot( V.transpose(),A  ), V).round(14)"
   ]
  },
  {
   "cell_type": "markdown",
   "metadata": {
    "colab_type": "text",
    "id": "njiAE4b4ZeoZ"
   },
   "source": [
    "Since"
   ]
  },
  {
   "cell_type": "code",
   "execution_count": 10,
   "metadata": {
    "colab": {},
    "colab_type": "code",
    "id": "RQ2mx4eIZeoa",
    "outputId": "300d5b59-f1fa-40ee-891a-e4299085c242"
   },
   "outputs": [
    {
     "output_type": "execute_result",
     "data": {
      "text/plain": [
       "array([[-5.07191124e-01, -6.18673713e-01, -6.00000000e-01],\n",
       "       [ 7.73342141e-01, -6.33988906e-01,  1.91548674e-16],\n",
       "       [-3.80393343e-01, -4.64005285e-01,  8.00000000e-01]])"
      ]
     },
     "metadata": {},
     "execution_count": 10
    }
   ],
   "source": [
    "V"
   ]
  },
  {
   "cell_type": "markdown",
   "metadata": {
    "colab_type": "text",
    "id": "JkZI2pTNZeoc"
   },
   "source": [
    "The final solution is:"
   ]
  },
  {
   "cell_type": "code",
   "execution_count": 11,
   "metadata": {
    "colab": {
     "base_uri": "https://localhost:8080/",
     "height": 71
    },
    "colab_type": "code",
    "id": "dfsG88C5VqvK",
    "outputId": "f0c29663-8175-4e0f-bf54-25666a2cb1aa"
   },
   "outputs": [
    {
     "output_type": "execute_result",
     "data": {
      "text/plain": [
       "array([[0.09009805, 0.        , 0.        ],\n",
       "       [0.        , 1.10990195, 0.        ],\n",
       "       [0.        , 0.        , 0.2       ]])"
      ]
     },
     "metadata": {},
     "execution_count": 11
    }
   ],
   "source": [
    "A_diag_inv=np.diag(1/λ)\n",
    "A_diag_inv"
   ]
  },
  {
   "cell_type": "markdown",
   "metadata": {
    "colab_type": "text",
    "id": "ai04_rhhV7g4"
   },
   "source": [
    "check with `np.linalg.inv(A_diag)`"
   ]
  },
  {
   "cell_type": "code",
   "execution_count": 12,
   "metadata": {
    "colab": {
     "base_uri": "https://localhost:8080/",
     "height": 71
    },
    "colab_type": "code",
    "id": "bldXFh02Zeoc",
    "outputId": "efb61ac2-68de-47d7-f836-0ebb6d868ede"
   },
   "outputs": [
    {
     "output_type": "execute_result",
     "data": {
      "text/plain": [
       "array([[ 0.04],\n",
       "       [-0.2 ],\n",
       "       [-0.52]])"
      ]
     },
     "metadata": {},
     "execution_count": 12
    }
   ],
   "source": [
    "X=np.dot( np.dot( np.dot( V, np.diag(1/λ) ),V.transpose() ),B)\n",
    "X"
   ]
  },
  {
   "cell_type": "markdown",
   "metadata": {
    "colab_type": "text",
    "id": "xEtpogskWT5H"
   },
   "source": [
    "__<font color=\"red\">Activity</font>__: Usar np.lingalg.solve"
   ]
  },
  {
   "cell_type": "code",
   "execution_count": 13,
   "metadata": {
    "colab": {
     "base_uri": "https://localhost:8080/",
     "height": 35
    },
    "colab_type": "code",
    "id": "crPW_WltW9Bt",
    "outputId": "58090a9c-48bd-4e6e-f9f8-6696ece4d2ec"
   },
   "outputs": [
    {
     "output_type": "execute_result",
     "data": {
      "text/plain": [
       "array([ 1,  0, -2])"
      ]
     },
     "metadata": {},
     "execution_count": 13
    }
   ],
   "source": [
    "B.transpose()[0]"
   ]
  },
  {
   "cell_type": "code",
   "execution_count": 14,
   "metadata": {
    "colab": {
     "base_uri": "https://localhost:8080/",
     "height": 35
    },
    "colab_type": "code",
    "id": "FbDQyS3_Wi-f",
    "outputId": "e44b25b2-55ad-455e-c4a5-68176d5bb6e2"
   },
   "outputs": [
    {
     "output_type": "execute_result",
     "data": {
      "text/plain": [
       "array([ 0.04, -0.2 , -0.52])"
      ]
     },
     "metadata": {},
     "execution_count": 14
    }
   ],
   "source": [
    "np.linalg.solve(A,B.transpose()[0])"
   ]
  },
  {
   "cell_type": "markdown",
   "metadata": {
    "colab_type": "text",
    "id": "agZ-WPWgZeoe"
   },
   "source": [
    "We can now check some properties.\n",
    "* Obtain $\\theta_{12}$ for $\\lambda_1<\\lambda_2<\\lambda_3$"
   ]
  },
  {
   "cell_type": "code",
   "execution_count": 15,
   "metadata": {
    "colab": {
     "base_uri": "https://localhost:8080/",
     "height": 71
    },
    "colab_type": "code",
    "id": "KAruEyXoZeoe",
    "outputId": "506837cc-f6f5-4daa-885f-74de9d7e0a9e"
   },
   "outputs": [
    {
     "output_type": "execute_result",
     "data": {
      "text/plain": [
       "array([[-5.07191124e-01, -6.18673713e-01, -6.00000000e-01],\n",
       "       [ 7.73342141e-01, -6.33988906e-01,  1.91548674e-16],\n",
       "       [-3.80393343e-01, -4.64005285e-01,  8.00000000e-01]])"
      ]
     },
     "metadata": {},
     "execution_count": 15
    }
   ],
   "source": [
    "V"
   ]
  },
  {
   "cell_type": "code",
   "execution_count": 16,
   "metadata": {
    "colab": {
     "base_uri": "https://localhost:8080/",
     "height": 71
    },
    "colab_type": "code",
    "id": "Lg_7lshmZeoh",
    "outputId": "171eeba4-27f8-443a-8b44-72e7807b3c86"
   },
   "outputs": [
    {
     "output_type": "execute_result",
     "data": {
      "text/plain": [
       "array([[-0.50719112],\n",
       "       [ 0.77334214],\n",
       "       [-0.38039334]])"
      ]
     },
     "metadata": {},
     "execution_count": 16
    }
   ],
   "source": [
    "np.c_[ V[: ,0] ]"
   ]
  },
  {
   "cell_type": "code",
   "execution_count": 17,
   "metadata": {
    "colab": {
     "base_uri": "https://localhost:8080/",
     "height": 35
    },
    "colab_type": "code",
    "id": "VAFBe0g_Zeok",
    "outputId": "b096d3be-9235-46ac-cb8a-1762fed22867"
   },
   "outputs": [
    {
     "output_type": "execute_result",
     "data": {
      "text/plain": [
       "(11.099019513592784, 11.099019513592784)"
      ]
     },
     "metadata": {},
     "execution_count": 17
    }
   ],
   "source": [
    "A_diag[0,0],λ[0]"
   ]
  },
  {
   "cell_type": "markdown",
   "metadata": {
    "colab_type": "text",
    "id": "utMR7eiOZeom"
   },
   "source": [
    "We define the eigenvector $V_i$ as"
   ]
  },
  {
   "cell_type": "code",
   "execution_count": 18,
   "metadata": {
    "colab": {
     "base_uri": "https://localhost:8080/",
     "height": 179
    },
    "colab_type": "code",
    "id": "ButZ6c29Zeom",
    "outputId": "bb46e578-01a6-42d1-b495-aa9853a12df4"
   },
   "outputs": [
    {
     "output_type": "display_data",
     "data": {
      "text/plain": "array([[-0.50719112],\n       [ 0.77334214],\n       [-0.38039334]])"
     },
     "metadata": {}
    },
    {
     "output_type": "display_data",
     "data": {
      "text/plain": "array([[-0.61867371],\n       [-0.63398891],\n       [-0.46400528]])"
     },
     "metadata": {}
    },
    {
     "output_type": "execute_result",
     "data": {
      "text/plain": [
       "array([[-6.00000000e-01],\n",
       "       [ 1.91548674e-16],\n",
       "       [ 8.00000000e-01]])"
      ]
     },
     "metadata": {},
     "execution_count": 18
    }
   ],
   "source": [
    "V0=np.c_[ V[:,0] ]\n",
    "V1=np.c_[ V[:,1] ]\n",
    "V2=np.c_[ V[:,2] ]\n",
    "display(V0)\n",
    "display(V1)\n",
    "V2"
   ]
  },
  {
   "cell_type": "code",
   "execution_count": 19,
   "metadata": {
    "colab": {
     "base_uri": "https://localhost:8080/",
     "height": 125
    },
    "colab_type": "code",
    "id": "MkfNpMwbZeow",
    "outputId": "7759c6fb-c985-435d-9a3c-5e0a22487e26"
   },
   "outputs": [
    {
     "output_type": "stream",
     "name": "stdout",
     "text": [
      "[[-5.62932419]\n [ 8.58333952]\n [-4.22199314]] =\n[[-5.62932419]\n [ 8.58333952]\n [-4.22199314]]\n"
     ]
    }
   ],
   "source": [
    "print('{} =\\n{}'.format( np.dot(A,V0),λ[0]*V0 ) )"
   ]
  },
  {
   "cell_type": "markdown",
   "metadata": {
    "colab_type": "text",
    "id": "2gSZQGhwZMbU"
   },
   "source": [
    "Check: $ A V_i=\\lambda_i V_i$\n",
    "\n",
    "Which means the eigenvalue associated to the \"operator\" $A$ acting on the eigenvector $V_1$"
   ]
  },
  {
   "cell_type": "code",
   "execution_count": 20,
   "metadata": {
    "colab": {
     "base_uri": "https://localhost:8080/",
     "height": 125
    },
    "colab_type": "code",
    "id": "N7rTShl9Zeoz",
    "outputId": "e2cc0abe-6639-4789-f7ba-4957ea65c6e3"
   },
   "outputs": [
    {
     "output_type": "stream",
     "name": "stdout",
     "text": [
      "[[-0.55741294]\n [-0.57121163]\n [-0.41805971]] =\n[[-0.55741294]\n [-0.57121163]\n [-0.41805971]]\n"
     ]
    }
   ],
   "source": [
    "print('{} =\\n{}'.format( np.dot(A,V1),λ[1]*V1 ) )"
   ]
  },
  {
   "cell_type": "code",
   "execution_count": 21,
   "metadata": {
    "colab": {
     "base_uri": "https://localhost:8080/",
     "height": 125
    },
    "colab_type": "code",
    "id": "zRu4zQHKZeo2",
    "outputId": "b123d387-d8da-43db-808e-0600748ceb2d"
   },
   "outputs": [
    {
     "output_type": "stream",
     "name": "stdout",
     "text": [
      "[[-3.]\n [ 0.]\n [ 4.]] =\n[[-3.]\n [ 0.]\n [ 4.]]\n"
     ]
    }
   ],
   "source": [
    "print('{} =\\n{}'.format( np.dot(A,V2).round(14),\n",
    "                         (λ[2]*V2).round(14) ) )"
   ]
  },
  {
   "cell_type": "markdown",
   "metadata": {
    "colab_type": "text",
    "id": "wmszgFZdZeo5"
   },
   "source": [
    "The diagonalization matrix can be rebuild from the eigenvectors"
   ]
  },
  {
   "cell_type": "code",
   "execution_count": 22,
   "metadata": {
    "colab": {
     "base_uri": "https://localhost:8080/",
     "height": 71
    },
    "colab_type": "code",
    "id": "2uAsu7Bgarxo",
    "outputId": "3ea7390e-f31b-494e-c759-27544186198a"
   },
   "outputs": [
    {
     "output_type": "execute_result",
     "data": {
      "text/plain": [
       "array([[-5.07191124e-01, -6.18673713e-01, -6.00000000e-01],\n",
       "       [ 7.73342141e-01, -6.33988906e-01,  1.91548674e-16],\n",
       "       [-3.80393343e-01, -4.64005285e-01,  8.00000000e-01]])"
      ]
     },
     "metadata": {},
     "execution_count": 22
    }
   ],
   "source": [
    "V"
   ]
  },
  {
   "cell_type": "markdown",
   "metadata": {
    "colab_type": "text",
    "id": "_AjDSlz3bIPW"
   },
   "source": [
    "is rebuild with"
   ]
  },
  {
   "cell_type": "code",
   "execution_count": 23,
   "metadata": {
    "colab": {
     "base_uri": "https://localhost:8080/",
     "height": 71
    },
    "colab_type": "code",
    "id": "5Q0PN44GavcA",
    "outputId": "7aadd247-dfaa-4096-9aae-972755b4259a"
   },
   "outputs": [
    {
     "output_type": "execute_result",
     "data": {
      "text/plain": [
       "array([[-5.07191124e-01, -6.18673713e-01, -6.00000000e-01],\n",
       "       [ 7.73342141e-01, -6.33988906e-01,  1.91548674e-16],\n",
       "       [-3.80393343e-01, -4.64005285e-01,  8.00000000e-01]])"
      ]
     },
     "metadata": {},
     "execution_count": 23
    }
   ],
   "source": [
    "U=np.c_[ V0,V1,V2]\n",
    "U"
   ]
  },
  {
   "cell_type": "markdown",
   "metadata": {
    "colab_type": "text",
    "id": "E_TOP-rdZeo5"
   },
   "source": [
    "or with: `np.hstack((V0,V1,V2))`"
   ]
  },
  {
   "cell_type": "code",
   "execution_count": 24,
   "metadata": {
    "colab": {
     "base_uri": "https://localhost:8080/",
     "height": 71
    },
    "colab_type": "code",
    "id": "-Vc63b8TZeo7",
    "outputId": "b7851c5c-8e95-42b5-b6df-27bf584494b4"
   },
   "outputs": [
    {
     "output_type": "execute_result",
     "data": {
      "text/plain": [
       "array([[1.10990195e+01, 1.00000000e-14, 0.00000000e+00],\n",
       "       [0.00000000e+00, 9.00980486e-01, 0.00000000e+00],\n",
       "       [0.00000000e+00, 0.00000000e+00, 5.00000000e+00]])"
      ]
     },
     "metadata": {},
     "execution_count": 24
    }
   ],
   "source": [
    "np.dot(  np.dot( U.transpose(),A  ), U).round(14)"
   ]
  },
  {
   "cell_type": "markdown",
   "metadata": {
    "colab_type": "text",
    "id": "9bls0mm5Zeo9"
   },
   "source": [
    "### Eigenvector reordering"
   ]
  },
  {
   "cell_type": "markdown",
   "metadata": {},
   "source": [
    "<span style=\"color:red\">__Activity__</span>: https://beta.deepnote.com/project/17b487c8-b092-4032-94f5-438ba4eeb1e9"
   ]
  },
  {
   "cell_type": "markdown",
   "metadata": {
    "colab_type": "text",
    "id": "DOBPvoJ1Zeo-"
   },
   "source": [
    "We can use this to check the proper order of the eigenvalues"
   ]
  },
  {
   "cell_type": "code",
   "execution_count": 25,
   "metadata": {
    "colab": {
     "base_uri": "https://localhost:8080/",
     "height": 71
    },
    "colab_type": "code",
    "id": "QE3H4w64bopE",
    "outputId": "532bdd2e-d2d2-4b9f-f1ff-8e3a74b6b42f"
   },
   "outputs": [
    {
     "output_type": "execute_result",
     "data": {
      "text/plain": [
       "array([[9.00980486e-01, 0.00000000e+00, 0.00000000e+00],\n",
       "       [0.00000000e+00, 5.00000000e+00, 0.00000000e+00],\n",
       "       [1.00000000e-14, 0.00000000e+00, 1.10990195e+01]])"
      ]
     },
     "metadata": {},
     "execution_count": 25
    }
   ],
   "source": [
    "U=np.c_[ V1,V2,V0]\n",
    "np.dot(  np.dot( U.transpose(),A  ), U).round(14)"
   ]
  },
  {
   "cell_type": "markdown",
   "metadata": {
    "colab_type": "text",
    "id": "m6PMCrJlZeo-"
   },
   "source": [
    "The order of eigenvalues can now be changed by changing the order of the eigenvectors and redifining the diagonalization matrix. For example, from small to large. We define first the eigenvalues"
   ]
  },
  {
   "cell_type": "code",
   "execution_count": 26,
   "metadata": {},
   "outputs": [
    {
     "output_type": "execute_result",
     "data": {
      "text/plain": [
       "array([[-6.18673713e-01, -6.00000000e-01, -5.07191124e-01],\n",
       "       [-6.33988906e-01,  1.91548674e-16,  7.73342141e-01],\n",
       "       [-4.64005285e-01,  8.00000000e-01, -3.80393343e-01]])"
      ]
     },
     "metadata": {},
     "execution_count": 26
    }
   ],
   "source": [
    "U"
   ]
  },
  {
   "cell_type": "code",
   "execution_count": 27,
   "metadata": {},
   "outputs": [],
   "source": [
    "θ_12=np.arctan( U[0,1]/U[0,0] )"
   ]
  },
  {
   "cell_type": "code",
   "execution_count": 28,
   "metadata": {},
   "outputs": [
    {
     "output_type": "execute_result",
     "data": {
      "text/plain": [
       "(0.7700763823614476, 44.122126612013574)"
      ]
     },
     "metadata": {},
     "execution_count": 28
    }
   ],
   "source": [
    "θ_12, θ_12*180/np.pi"
   ]
  },
  {
   "cell_type": "markdown",
   "metadata": {},
   "source": [
    "Generalization of the reordering"
   ]
  },
  {
   "cell_type": "code",
   "execution_count": 29,
   "metadata": {
    "colab": {},
    "colab_type": "code",
    "id": "HTWgBePpZeo_"
   },
   "outputs": [
    {
     "output_type": "stream",
     "text": [
      "\u001b[1;31mSignature:\u001b[0m \u001b[0mnp\u001b[0m\u001b[1;33m.\u001b[0m\u001b[0msort\u001b[0m\u001b[1;33m(\u001b[0m\u001b[0ma\u001b[0m\u001b[1;33m,\u001b[0m \u001b[0maxis\u001b[0m\u001b[1;33m=\u001b[0m\u001b[1;33m-\u001b[0m\u001b[1;36m1\u001b[0m\u001b[1;33m,\u001b[0m \u001b[0mkind\u001b[0m\u001b[1;33m=\u001b[0m\u001b[1;32mNone\u001b[0m\u001b[1;33m,\u001b[0m \u001b[0morder\u001b[0m\u001b[1;33m=\u001b[0m\u001b[1;32mNone\u001b[0m\u001b[1;33m)\u001b[0m\u001b[1;33m\u001b[0m\u001b[1;33m\u001b[0m\u001b[0m\n",
      "\u001b[1;31mDocstring:\u001b[0m\n",
      "Return a sorted copy of an array.\n",
      "\n",
      "Parameters\n",
      "----------\n",
      "a : array_like\n",
      "    Array to be sorted.\n",
      "axis : int or None, optional\n",
      "    Axis along which to sort. If None, the array is flattened before\n",
      "    sorting. The default is -1, which sorts along the last axis.\n",
      "kind : {'quicksort', 'mergesort', 'heapsort', 'stable'}, optional\n",
      "    Sorting algorithm. The default is 'quicksort'. Note that both 'stable'\n",
      "    and 'mergesort' use timsort or radix sort under the covers and, in general,\n",
      "    the actual implementation will vary with data type. The 'mergesort' option\n",
      "    is retained for backwards compatibility.\n",
      "\n",
      "    .. versionchanged:: 1.15.0.\n",
      "       The 'stable' option was added.\n",
      "\n",
      "order : str or list of str, optional\n",
      "    When `a` is an array with fields defined, this argument specifies\n",
      "    which fields to compare first, second, etc.  A single field can\n",
      "    be specified as a string, and not all fields need be specified,\n",
      "    but unspecified fields will still be used, in the order in which\n",
      "    they come up in the dtype, to break ties.\n",
      "\n",
      "Returns\n",
      "-------\n",
      "sorted_array : ndarray\n",
      "    Array of the same type and shape as `a`.\n",
      "\n",
      "See Also\n",
      "--------\n",
      "ndarray.sort : Method to sort an array in-place.\n",
      "argsort : Indirect sort.\n",
      "lexsort : Indirect stable sort on multiple keys.\n",
      "searchsorted : Find elements in a sorted array.\n",
      "partition : Partial sort.\n",
      "\n",
      "Notes\n",
      "-----\n",
      "The various sorting algorithms are characterized by their average speed,\n",
      "worst case performance, work space size, and whether they are stable. A\n",
      "stable sort keeps items with the same key in the same relative\n",
      "order. The four algorithms implemented in NumPy have the following\n",
      "properties:\n",
      "\n",
      "=========== ======= ============= ============ ========\n",
      "   kind      speed   worst case    work space   stable\n",
      "=========== ======= ============= ============ ========\n",
      "'quicksort'    1     O(n^2)            0          no\n",
      "'heapsort'     3     O(n*log(n))       0          no\n",
      "'mergesort'    2     O(n*log(n))      ~n/2        yes\n",
      "'timsort'      2     O(n*log(n))      ~n/2        yes\n",
      "=========== ======= ============= ============ ========\n",
      "\n",
      ".. note:: The datatype determines which of 'mergesort' or 'timsort'\n",
      "   is actually used, even if 'mergesort' is specified. User selection\n",
      "   at a finer scale is not currently available.\n",
      "\n",
      "All the sort algorithms make temporary copies of the data when\n",
      "sorting along any but the last axis.  Consequently, sorting along\n",
      "the last axis is faster and uses less space than sorting along\n",
      "any other axis.\n",
      "\n",
      "The sort order for complex numbers is lexicographic. If both the real\n",
      "and imaginary parts are non-nan then the order is determined by the\n",
      "real parts except when they are equal, in which case the order is\n",
      "determined by the imaginary parts.\n",
      "\n",
      "Previous to numpy 1.4.0 sorting real and complex arrays containing nan\n",
      "values led to undefined behaviour. In numpy versions >= 1.4.0 nan\n",
      "values are sorted to the end. The extended sort order is:\n",
      "\n",
      "  * Real: [R, nan]\n",
      "  * Complex: [R + Rj, R + nanj, nan + Rj, nan + nanj]\n",
      "\n",
      "where R is a non-nan real value. Complex values with the same nan\n",
      "placements are sorted according to the non-nan part if it exists.\n",
      "Non-nan values are sorted as before.\n",
      "\n",
      ".. versionadded:: 1.12.0\n",
      "\n",
      "quicksort has been changed to `introsort <https://en.wikipedia.org/wiki/Introsort>`_.\n",
      "When sorting does not make enough progress it switches to\n",
      "`heapsort <https://en.wikipedia.org/wiki/Heapsort>`_.\n",
      "This implementation makes quicksort O(n*log(n)) in the worst case.\n",
      "\n",
      "'stable' automatically chooses the best stable sorting algorithm\n",
      "for the data type being sorted.\n",
      "It, along with 'mergesort' is currently mapped to\n",
      "`timsort <https://en.wikipedia.org/wiki/Timsort>`_\n",
      "or `radix sort <https://en.wikipedia.org/wiki/Radix_sort>`_\n",
      "depending on the data type.\n",
      "API forward compatibility currently limits the\n",
      "ability to select the implementation and it is hardwired for the different\n",
      "data types.\n",
      "\n",
      ".. versionadded:: 1.17.0\n",
      "\n",
      "Timsort is added for better performance on already or nearly\n",
      "sorted data. On random data timsort is almost identical to\n",
      "mergesort. It is now used for stable sort while quicksort is still the\n",
      "default sort if none is chosen. For timsort details, refer to\n",
      "`CPython listsort.txt <https://github.com/python/cpython/blob/3.7/Objects/listsort.txt>`_.\n",
      "'mergesort' and 'stable' are mapped to radix sort for integer data types. Radix sort is an\n",
      "O(n) sort instead of O(n log n).\n",
      "\n",
      ".. versionchanged:: 1.17.0\n",
      "\n",
      "NaT now sorts to the end of arrays for consistency with NaN.\n",
      "\n",
      "Examples\n",
      "--------\n",
      ">>> a = np.array([[1,4],[3,1]])\n",
      ">>> np.sort(a)                # sort along the last axis\n",
      "array([[1, 4],\n",
      "       [1, 3]])\n",
      ">>> np.sort(a, axis=None)     # sort the flattened array\n",
      "array([1, 1, 3, 4])\n",
      ">>> np.sort(a, axis=0)        # sort along the first axis\n",
      "array([[1, 1],\n",
      "       [3, 4]])\n",
      "\n",
      "Use the `order` keyword to specify a field to use when sorting a\n",
      "structured array:\n",
      "\n",
      ">>> dtype = [('name', 'S10'), ('height', float), ('age', int)]\n",
      ">>> values = [('Arthur', 1.8, 41), ('Lancelot', 1.9, 38),\n",
      "...           ('Galahad', 1.7, 38)]\n",
      ">>> a = np.array(values, dtype=dtype)       # create a structured array\n",
      ">>> np.sort(a, order='height')                        # doctest: +SKIP\n",
      "array([('Galahad', 1.7, 38), ('Arthur', 1.8, 41),\n",
      "       ('Lancelot', 1.8999999999999999, 38)],\n",
      "      dtype=[('name', '|S10'), ('height', '<f8'), ('age', '<i4')])\n",
      "\n",
      "Sort by age, then height if ages are equal:\n",
      "\n",
      ">>> np.sort(a, order=['age', 'height'])               # doctest: +SKIP\n",
      "array([('Galahad', 1.7, 38), ('Lancelot', 1.8999999999999999, 38),\n",
      "       ('Arthur', 1.8, 41)],\n",
      "      dtype=[('name', '|S10'), ('height', '<f8'), ('age', '<i4')])\n",
      "\u001b[1;31mFile:\u001b[0m      d:\\anaconda\\lib\\site-packages\\numpy\\core\\fromnumeric.py\n",
      "\u001b[1;31mType:\u001b[0m      function\n"
     ],
     "name": "stdout"
    }
   ],
   "source": [
    "np.sort?"
   ]
  },
  {
   "cell_type": "code",
   "execution_count": 30,
   "metadata": {
    "colab": {
     "base_uri": "https://localhost:8080/",
     "height": 35
    },
    "colab_type": "code",
    "id": "pixl0cvzZepB",
    "outputId": "b913c528-c7f8-413f-ab91-f36c0bdd36f1"
   },
   "outputs": [
    {
     "output_type": "execute_result",
     "data": {
      "text/plain": [
       "array([ 0.90098049,  5.        , 11.09901951])"
      ]
     },
     "metadata": {},
     "execution_count": 30
    }
   ],
   "source": [
    "np.sort( λ)"
   ]
  },
  {
   "cell_type": "markdown",
   "metadata": {
    "colab_type": "text",
    "id": "pZbAW-34cs7I"
   },
   "source": [
    "To reverse the order"
   ]
  },
  {
   "cell_type": "code",
   "execution_count": 31,
   "metadata": {
    "colab": {
     "base_uri": "https://localhost:8080/",
     "height": 35
    },
    "colab_type": "code",
    "id": "L3Qi31TkZepG",
    "outputId": "9058d74b-f071-48b2-aee1-14cbed77ba5e"
   },
   "outputs": [
    {
     "output_type": "execute_result",
     "data": {
      "text/plain": [
       "array([11.09901951,  5.        ,  0.90098049])"
      ]
     },
     "metadata": {},
     "execution_count": 31
    }
   ],
   "source": [
    "np.sort( λ)[::-1]"
   ]
  },
  {
   "cell_type": "code",
   "execution_count": 32,
   "metadata": {
    "colab": {},
    "colab_type": "code",
    "id": "aYaYHJ2wZepJ",
    "outputId": "d2041162-e2cc-47f6-ad98-e201e6924677"
   },
   "outputs": [
    {
     "output_type": "execute_result",
     "data": {
      "text/plain": [
       "array([11.09901951,  0.90098049,  5.        ])"
      ]
     },
     "metadata": {},
     "execution_count": 32
    }
   ],
   "source": [
    "λ"
   ]
  },
  {
   "cell_type": "code",
   "execution_count": 33,
   "metadata": {
    "colab": {
     "base_uri": "https://localhost:8080/",
     "height": 35
    },
    "colab_type": "code",
    "id": "DeIj8z5kZepL",
    "outputId": "90606a4c-6f6a-4709-ebd9-4a5141f75ee4"
   },
   "outputs": [
    {
     "output_type": "execute_result",
     "data": {
      "text/plain": [
       "array([1, 2, 0], dtype=int64)"
      ]
     },
     "metadata": {},
     "execution_count": 33
    }
   ],
   "source": [
    "index=np.abs(λ).argsort()\n",
    "index"
   ]
  },
  {
   "cell_type": "markdown",
   "metadata": {
    "colab_type": "text",
    "id": "v5Mhuh-QZepP"
   },
   "source": [
    "can be implemented in general with a _comprehensive_ list"
   ]
  },
  {
   "cell_type": "code",
   "execution_count": 34,
   "metadata": {
    "colab": {
     "base_uri": "https://localhost:8080/",
     "height": 71
    },
    "colab_type": "code",
    "id": "iWvRFdz9etKa",
    "outputId": "ac48d6bf-e16f-4056-9ead-ccb31362f3c8"
   },
   "outputs": [
    {
     "output_type": "execute_result",
     "data": {
      "text/plain": [
       "array([[-5.07191124e-01, -6.18673713e-01, -6.00000000e-01],\n",
       "       [ 7.73342141e-01, -6.33988906e-01,  1.91548674e-16],\n",
       "       [-3.80393343e-01, -4.64005285e-01,  8.00000000e-01]])"
      ]
     },
     "metadata": {},
     "execution_count": 34
    }
   ],
   "source": [
    "V"
   ]
  },
  {
   "cell_type": "code",
   "execution_count": 35,
   "metadata": {
    "colab": {
     "base_uri": "https://localhost:8080/",
     "height": 71
    },
    "colab_type": "code",
    "id": "UeBueRxbfeUc",
    "outputId": "0b497826-0400-4b28-9291-149f038b47c1"
   },
   "outputs": [
    {
     "output_type": "execute_result",
     "data": {
      "text/plain": [
       "array([[-5.07191124e-01, -6.18673713e-01, -6.00000000e-01],\n",
       "       [ 7.73342141e-01, -6.33988906e-01,  1.91548674e-16],\n",
       "       [-3.80393343e-01, -4.64005285e-01,  8.00000000e-01]])"
      ]
     },
     "metadata": {},
     "execution_count": 35
    }
   ],
   "source": [
    "np.c_[ tuple( [ np.c_[V[:,i]]    for i in range(3) ] ) ]"
   ]
  },
  {
   "cell_type": "markdown",
   "metadata": {
    "colab_type": "text",
    "id": "WwokXTJ-elVp"
   },
   "source": [
    "Changing the order to `index`"
   ]
  },
  {
   "cell_type": "code",
   "execution_count": 36,
   "metadata": {
    "colab": {
     "base_uri": "https://localhost:8080/",
     "height": 71
    },
    "colab_type": "code",
    "id": "wObPrmb4dgrs",
    "outputId": "8b850a8f-89b5-4e48-b587-7c298651f085"
   },
   "outputs": [
    {
     "output_type": "execute_result",
     "data": {
      "text/plain": [
       "array([[-6.18673713e-01, -6.00000000e-01, -5.07191124e-01],\n",
       "       [-6.33988906e-01,  1.91548674e-16,  7.73342141e-01],\n",
       "       [-4.64005285e-01,  8.00000000e-01, -3.80393343e-01]])"
      ]
     },
     "metadata": {},
     "execution_count": 36
    }
   ],
   "source": [
    "U=np.c_[ tuple( [ np.c_[V[:,i]]    for i in np.abs(λ).argsort() ] ) ]\n",
    "U"
   ]
  },
  {
   "cell_type": "markdown",
   "metadata": {
    "colab_type": "text",
    "id": "u0PoVQJshW8A"
   },
   "source": [
    "or: \n",
    "```python\n",
    "n=3\n",
    "U=np.hstack( [ np.reshape( V[:,i], (n,1) ) for i in index   ] )\n",
    "```"
   ]
  },
  {
   "cell_type": "code",
   "execution_count": 37,
   "metadata": {
    "colab": {
     "base_uri": "https://localhost:8080/",
     "height": 71
    },
    "colab_type": "code",
    "id": "2_A609DeZepR",
    "outputId": "d10f93b9-2dc0-4e95-ee4f-86cc1c7cc751"
   },
   "outputs": [
    {
     "output_type": "execute_result",
     "data": {
      "text/plain": [
       "array([[9.00980486e-01, 0.00000000e+00, 0.00000000e+00],\n",
       "       [0.00000000e+00, 5.00000000e+00, 0.00000000e+00],\n",
       "       [1.00000000e-14, 0.00000000e+00, 1.10990195e+01]])"
      ]
     },
     "metadata": {},
     "execution_count": 37
    }
   ],
   "source": [
    "np.dot(  np.dot( U.transpose(),A  ), U).round(14)"
   ]
  },
  {
   "cell_type": "markdown",
   "metadata": {
    "colab_type": "text",
    "id": "ryPEhIWgiE-O"
   },
   "source": [
    "<font color=\"red\">__Activity__</font>:  Build a function that diagonalize with increasing order in the eigenvalues as a replacement of `np.linalg.eig`\n",
    "```python\n",
    "def argeig(A):\n",
    "    l,V=np.linalg.eig(A)\n",
    "    ....\n",
    "    return argl, argV\n",
    "```\n",
    "\n"
   ]
  },
  {
   "cell_type": "code",
   "execution_count": 38,
   "metadata": {},
   "outputs": [],
   "source": [
    "def argeig(A):\n",
    "    l,V = np.linalg.eig(A)\n",
    "    argl = np.sort(l)\n",
    "    index=np.abs(λ).argsort()\n",
    "    argV = np.c_[ tuple( [ np.c_[V[:,i]]    for i in index ] ) ]\n",
    "\n",
    "    return argl, argV\n",
    "    "
   ]
  },
  {
   "cell_type": "markdown",
   "metadata": {
    "colab": {},
    "colab_type": "code",
    "id": "PL43mZH7leLE"
   },
   "source": [
    "and check that"
   ]
  },
  {
   "cell_type": "markdown",
   "metadata": {
    "colab": {},
    "colab_type": "code",
    "id": "1VNLtnpSlEU9"
   },
   "source": [
    "<!--\n",
    "def argeig(a):\n",
    "    \"\"\"\n",
    "    Diagonalize with increasing order in the eigenvalues.\n",
    "  \n",
    "    See help(np.linalg.eig)\n",
    "    \"\"\"\n",
    "    l,V=np.linalg.eig(a)\n",
    "    index=np.abs(l).argsort()\n",
    "    argl= np.sort( l)\n",
    "    argV=np.c_[ tuple([ np.c_[ V[:,i]] for i in index   ]) ]\n",
    "    return argl, argV\n",
    "-->"
   ]
  },
  {
   "cell_type": "markdown",
   "metadata": {
    "colab": {
     "base_uri": "https://localhost:8080/",
     "height": 89
    },
    "colab_type": "code",
    "id": "94ZHLjM0l-vS",
    "outputId": "7484c181-7184-4514-f8c5-494b36427feb"
   },
   "source": [
    "```python\n",
    "#1.\n",
    "λ,V=argeig(A)\n",
    "λ,V\n",
    "Out[1]:\n",
    "(array([ 0.90098049,  5.        , 11.09901951]),\n",
    " array([[-6.18673713e-01, -6.00000000e-01, -5.07191124e-01],\n",
    "        [-6.33988906e-01,  1.91548674e-16,  7.73342141e-01],\n",
    "        [-4.64005285e-01,  8.00000000e-01, -3.80393343e-01]]))   \n",
    "```"
   ]
  },
  {
   "cell_type": "code",
   "execution_count": 39,
   "metadata": {},
   "outputs": [
    {
     "output_type": "execute_result",
     "data": {
      "text/plain": [
       "(array([ 0.90098049,  5.        , 11.09901951]),\n",
       " array([[-6.18673713e-01, -6.00000000e-01, -5.07191124e-01],\n",
       "        [-6.33988906e-01,  1.91548674e-16,  7.73342141e-01],\n",
       "        [-4.64005285e-01,  8.00000000e-01, -3.80393343e-01]]))"
      ]
     },
     "metadata": {},
     "execution_count": 39
    }
   ],
   "source": [
    "λ,V=argeig(A)\n",
    "λ,V\n"
   ]
  },
  {
   "cell_type": "markdown",
   "metadata": {
    "colab": {
     "base_uri": "https://localhost:8080/",
     "height": 71
    },
    "colab_type": "code",
    "id": "SqxnBdaDmBXq",
    "outputId": "33bb5733-facd-4397-f312-6456b038cd65"
   },
   "source": [
    "```python\n",
    "#2.\n",
    "np.dot(  np.dot( V.transpose(),A  ), V).round(14)\n",
    "Out[1]:\n",
    "array([[ 0.90098049,  0.        ,  0.        ],\n",
    "       [ 0.        ,  5.        ,  0.        ],\n",
    "       [ 0.        ,  0.        , 11.09901951]])\n",
    "```"
   ]
  },
  {
   "cell_type": "code",
   "execution_count": 44,
   "metadata": {},
   "outputs": [
    {
     "output_type": "execute_result",
     "data": {
      "text/plain": [
       "array([[9.00980486e-01, 0.00000000e+00, 0.00000000e+00],\n",
       "       [0.00000000e+00, 5.00000000e+00, 0.00000000e+00],\n",
       "       [1.00000000e-14, 0.00000000e+00, 1.10990195e+01]])"
      ]
     },
     "metadata": {},
     "execution_count": 44
    }
   ],
   "source": [
    "np.dot(  np.dot( V.transpose(),A  ), V).round(14)\n"
   ]
  },
  {
   "cell_type": "markdown",
   "metadata": {
    "colab": {},
    "colab_type": "code",
    "id": "CFemQeVVZepT",
    "outputId": "2374fd3a-8f31-49a3-85c4-8e314158be78"
   },
   "source": [
    "```python\n",
    "#3.\n",
    "print( np.linalg.det(A- λ[0]*np.identity(3) ) )\n",
    "print( np.linalg.det(A- λ[1]*np.identity(3) ) )\n",
    "np.linalg.det(A- λ[2]*np.identity(3) )\n",
    "```"
   ]
  },
  {
   "cell_type": "code",
   "execution_count": 45,
   "metadata": {},
   "outputs": [
    {
     "output_type": "stream",
     "name": "stdout",
     "text": [
      "2.237549839244279e-14\n0.0\n"
     ]
    },
    {
     "output_type": "execute_result",
     "data": {
      "text/plain": [
       "2.5418480411722236e-14"
      ]
     },
     "metadata": {},
     "execution_count": 45
    }
   ],
   "source": [
    "print( np.linalg.det(A- λ[0]*np.identity(3) ) )\n",
    "print( np.linalg.det(A- λ[1]*np.identity(3) ) )\n",
    "np.linalg.det(A- λ[2]*np.identity(3) )\n"
   ]
  },
  {
   "cell_type": "markdown",
   "metadata": {
    "colab_type": "text",
    "id": "QLp5N41JZepX"
   },
   "source": [
    "### General matrix"
   ]
  },
  {
   "cell_type": "code",
   "execution_count": 140,
   "metadata": {},
   "outputs": [],
   "source": [
    "import numpy as np\n",
    "from scipy import linalg"
   ]
  },
  {
   "cell_type": "markdown",
   "metadata": {},
   "source": [
    "__Example__:"
   ]
  },
  {
   "cell_type": "code",
   "execution_count": 2,
   "metadata": {},
   "outputs": [],
   "source": [
    "#A=np.array([[ 2.5       ,  6.92820323],\n",
    "#            [-4.33012702,  4.        ]])"
   ]
  },
  {
   "cell_type": "code",
   "execution_count": 71,
   "metadata": {},
   "outputs": [],
   "source": [
    "A=np.array([[ 6.66674644,  3.13121253],\n",
    "            [-0.23343505,  5.8902893 ]])"
   ]
  },
  {
   "cell_type": "code",
   "execution_count": 72,
   "metadata": {},
   "outputs": [],
   "source": [
    "from scipy import linalg"
   ]
  },
  {
   "cell_type": "code",
   "execution_count": 73,
   "metadata": {},
   "outputs": [],
   "source": [
    "V,diag,Udagger=linalg.svd(A)"
   ]
  },
  {
   "cell_type": "code",
   "execution_count": 74,
   "metadata": {},
   "outputs": [],
   "source": [
    "U=Udagger.transpose().conjugate()"
   ]
  },
  {
   "cell_type": "code",
   "execution_count": 75,
   "metadata": {},
   "outputs": [
    {
     "data": {
      "text/plain": [
       "array([[8., 0.],\n",
       "       [0., 5.]])"
      ]
     },
     "execution_count": 75,
     "metadata": {},
     "output_type": "execute_result"
    }
   ],
   "source": [
    "np.dot( np.dot( V.transpose().conjugate(),A    ), U).round(14)"
   ]
  },
  {
   "cell_type": "markdown",
   "metadata": {},
   "source": [
    "This is important to stablish that the eigenvectors are determined until ordering and permutations"
   ]
  },
  {
   "cell_type": "code",
   "execution_count": 76,
   "metadata": {},
   "outputs": [
    {
     "data": {
      "text/plain": [
       "array([[-0.8660254, -0.5      ],\n",
       "       [-0.5      ,  0.8660254]])"
      ]
     },
     "execution_count": 76,
     "metadata": {},
     "output_type": "execute_result"
    }
   ],
   "source": [
    "V"
   ]
  },
  {
   "cell_type": "code",
   "execution_count": 77,
   "metadata": {},
   "outputs": [
    {
     "data": {
      "text/plain": [
       "array([[-0.70710678, -0.70710678],\n",
       "       [-0.70710678,  0.70710678]])"
      ]
     },
     "execution_count": 77,
     "metadata": {},
     "output_type": "execute_result"
    }
   ],
   "source": [
    "U"
   ]
  },
  {
   "cell_type": "code",
   "execution_count": 78,
   "metadata": {},
   "outputs": [
    {
     "data": {
      "text/plain": [
       "array([[ 1., -0.],\n",
       "       [-0.,  1.]])"
      ]
     },
     "execution_count": 78,
     "metadata": {},
     "output_type": "execute_result"
    }
   ],
   "source": [
    "np.dot( np.transpose(U),U ).round(14)"
   ]
  },
  {
   "cell_type": "code",
   "execution_count": 79,
   "metadata": {},
   "outputs": [],
   "source": [
    "def orthogonal(θ):\n",
    "    return np.array( [[np.cos(θ) ,np.sin(θ)],\n",
    "                      [-np.sin(θ),np.cos(θ)]]   )"
   ]
  },
  {
   "cell_type": "code",
   "execution_count": 80,
   "metadata": {},
   "outputs": [
    {
     "data": {
      "text/plain": [
       "array([[ 0.5      ,  0.8660254],\n",
       "       [-0.8660254,  0.5      ]])"
      ]
     },
     "execution_count": 80,
     "metadata": {},
     "output_type": "execute_result"
    }
   ],
   "source": [
    "Vp=orthogonal(np.pi/3)\n",
    "Vp"
   ]
  },
  {
   "cell_type": "code",
   "execution_count": 81,
   "metadata": {},
   "outputs": [
    {
     "data": {
      "text/plain": [
       "array([[ 0.5      ,  0.8660254],\n",
       "       [-0.8660254,  0.5      ]])"
      ]
     },
     "execution_count": 81,
     "metadata": {},
     "output_type": "execute_result"
    }
   ],
   "source": [
    "VV=np.c_[ -V[:,1],-V[:,0]  ]\n",
    "VV"
   ]
  },
  {
   "cell_type": "code",
   "execution_count": 82,
   "metadata": {},
   "outputs": [
    {
     "data": {
      "text/plain": [
       "array([[ 0.70710678,  0.70710678],\n",
       "       [-0.70710678,  0.70710678]])"
      ]
     },
     "execution_count": 82,
     "metadata": {},
     "output_type": "execute_result"
    }
   ],
   "source": [
    "Up=orthogonal(np.pi/4)\n",
    "Up"
   ]
  },
  {
   "cell_type": "code",
   "execution_count": 83,
   "metadata": {},
   "outputs": [
    {
     "data": {
      "text/plain": [
       "array([[ 0.70710678,  0.70710678],\n",
       "       [-0.70710678,  0.70710678]])"
      ]
     },
     "execution_count": 83,
     "metadata": {},
     "output_type": "execute_result"
    }
   ],
   "source": [
    "UU=np.c_[ -U[:,1],-U[:,0]  ]\n",
    "UU"
   ]
  },
  {
   "cell_type": "code",
   "execution_count": 84,
   "metadata": {},
   "outputs": [
    {
     "data": {
      "text/plain": [
       "array([[5., 0.],\n",
       "       [0., 8.]])"
      ]
     },
     "execution_count": 84,
     "metadata": {},
     "output_type": "execute_result"
    }
   ],
   "source": [
    "np.dot( np.dot( VV.transpose().conjugate(),A    ), UU).round(14)"
   ]
  },
  {
   "cell_type": "markdown",
   "metadata": {},
   "source": [
    "<span style=\"color:red\">__Activity__</span>: https://beta.deepnote.com/project/17b487c8-b092-4032-94f5-438ba4eeb1e9"
   ]
  },
  {
   "cell_type": "markdown",
   "metadata": {},
   "source": [
    "<font color=\"red\">__Activity__</font>: Solve the system\n",
    "$$ \\boldsymbol{A} \\boldsymbol{x}=\\boldsymbol{B}$$\n",
    "for the previous $ \\boldsymbol{A}$ matrix and\n",
    "$$\\boldsymbol{B}=\\begin{bmatrix}\n",
    "   1\\\\\n",
    "   -4\\\\\n",
    "   \\end{bmatrix}$$"
   ]
  },
  {
   "cell_type": "markdown",
   "metadata": {},
   "source": [
    "### Interpretations of Theorem 2"
   ]
  },
  {
   "cell_type": "markdown",
   "metadata": {},
   "source": [
    "In Theorem 2 establishes a unique set of a matrix $A$ with its eigenvalues and eigenvectors. However, for a fixed set of eigenvalues and eigenvectors we can have several possibilities of $A'$ matrices. For example, if we fix $U'=\\boldsymbol{1}$ \n",
    "\\begin{equation}\n",
    "  {V'}^\\dagger \\boldsymbol{A'}=\\boldsymbol{A}_{\\text{diag}}\\,,\n",
    "\\end{equation}\n",
    "so that\n",
    "\\begin{equation}\n",
    "  \\boldsymbol{A}'=V'\\boldsymbol{A}_{\\text{diag}}\n",
    "\\end{equation}\n",
    "\n",
    "We can now choose any unitary matrix $V'$ and search for the matrix $A'$  which gives rise to the same eigenvalues.\n",
    "\n",
    "__Example__\n",
    "Let $V'=U^{\\operatorname{T}} V$ in the previous example. Find the matrix $A'$ which gives rise to the same eigenvalues"
   ]
  },
  {
   "cell_type": "code",
   "execution_count": 22,
   "metadata": {},
   "outputs": [],
   "source": [
    "Adiag=np.array( [[5,0],\n",
    "                 [0,8]] )"
   ]
  },
  {
   "cell_type": "code",
   "execution_count": 85,
   "metadata": {},
   "outputs": [
    {
     "data": {
      "text/plain": [
       "array([[ 0.96592583,  0.25881905],\n",
       "       [-0.25881905,  0.96592583]])"
      ]
     },
     "execution_count": 85,
     "metadata": {},
     "output_type": "execute_result"
    }
   ],
   "source": [
    "Vp=np.dot( orthogonal(np.pi/4).transpose(),orthogonal(np.pi/3) )\n",
    "Vp"
   ]
  },
  {
   "cell_type": "code",
   "execution_count": 24,
   "metadata": {},
   "outputs": [
    {
     "data": {
      "text/plain": [
       "array([[ 4.82962913,  2.07055236],\n",
       "       [-1.29409523,  7.72740661]])"
      ]
     },
     "execution_count": 24,
     "metadata": {},
     "output_type": "execute_result"
    }
   ],
   "source": [
    "Ap=np.dot( Vp,np.array( Adiag ) )\n",
    "Ap"
   ]
  },
  {
   "cell_type": "code",
   "execution_count": 30,
   "metadata": {},
   "outputs": [
    {
     "data": {
      "text/plain": [
       "array([[5., 0.],\n",
       "       [0., 8.]])"
      ]
     },
     "execution_count": 30,
     "metadata": {},
     "output_type": "execute_result"
    }
   ],
   "source": [
    "np.dot( Vp.transpose(),Ap).round(14)"
   ]
  },
  {
   "cell_type": "markdown",
   "metadata": {},
   "source": [
    "Finally, we can use the full procedure of hermitic matrices to obtain the bidiagonal matrices $U,V$\n",
    "\n",
    "__Example__:\n",
    "Diagonalize the matrix $A$ by using the Theorem 1 instead"
   ]
  },
  {
   "cell_type": "code",
   "execution_count": 86,
   "metadata": {},
   "outputs": [],
   "source": [
    "A=np.array([[ 6.66674644,  3.13121253],\n",
    "            [-0.23343505,  5.8902893 ]])"
   ]
  },
  {
   "cell_type": "code",
   "execution_count": 89,
   "metadata": {},
   "outputs": [
    {
     "data": {
      "text/plain": [
       "array([[54.25      , 16.88749537],\n",
       "       [16.88749537, 34.74999996]])"
      ]
     },
     "execution_count": 89,
     "metadata": {},
     "output_type": "execute_result"
    }
   ],
   "source": [
    "np.dot( A,A.transpose() )"
   ]
  },
  {
   "cell_type": "code",
   "execution_count": 90,
   "metadata": {},
   "outputs": [
    {
     "data": {
      "text/plain": [
       "array([[44.50000002, 19.50000001],\n",
       "       [19.50000001, 44.49999995]])"
      ]
     },
     "execution_count": 90,
     "metadata": {},
     "output_type": "execute_result"
    }
   ],
   "source": [
    "np.dot( A.transpose(),A )"
   ]
  },
  {
   "cell_type": "markdown",
   "metadata": {},
   "source": [
    "→ is obtained with `<ALT GR>+i` or, similarly: ↓←"
   ]
  },
  {
   "cell_type": "code",
   "execution_count": 135,
   "metadata": {},
   "outputs": [
    {
     "name": "stdout",
     "output_type": "stream",
     "text": [
      "[63.99999999 24.99999997] → [8. 5.]\n"
     ]
    },
    {
     "data": {
      "text/plain": [
       "array([[ 0.8660254, -0.5      ],\n",
       "       [ 0.5      ,  0.8660254]])"
      ]
     },
     "execution_count": 135,
     "metadata": {},
     "output_type": "execute_result"
    }
   ],
   "source": [
    "λ2,V=np.linalg.eig( np.dot( A,A.transpose() ) )\n",
    "print(λ2,'→',np.sqrt(λ2))\n",
    "#V=np.c_[ -V[:,0],V[:,0]  ]\n",
    "V"
   ]
  },
  {
   "cell_type": "code",
   "execution_count": 136,
   "metadata": {},
   "outputs": [
    {
     "name": "stdout",
     "output_type": "stream",
     "text": [
      "[8. 5.]\n"
     ]
    },
    {
     "data": {
      "text/plain": [
       "array([[ 0.70710678, -0.70710678],\n",
       "       [ 0.70710678,  0.70710678]])"
      ]
     },
     "execution_count": 136,
     "metadata": {},
     "output_type": "execute_result"
    }
   ],
   "source": [
    "λ2p,U=np.linalg.eig( np.dot( A.transpose(),A ) )\n",
    "print(np.sqrt(λ2))\n",
    "U"
   ]
  },
  {
   "cell_type": "code",
   "execution_count": 137,
   "metadata": {},
   "outputs": [
    {
     "data": {
      "text/plain": [
       "array([[ 8., -0.],\n",
       "       [ 0.,  5.]])"
      ]
     },
     "execution_count": 137,
     "metadata": {},
     "output_type": "execute_result"
    }
   ],
   "source": [
    "np.dot( np.dot( V.transpose(),A ), U ).round(14)"
   ]
  },
  {
   "cell_type": "markdown",
   "metadata": {},
   "source": [
    "<span style=\"color:red\">__Actividad:__</span> cambiar el orden de los autovectores para obtener un orden ascendente en los autovalores"
   ]
  },
  {
   "cell_type": "markdown",
   "metadata": {},
   "source": [
    "## Mixed terms"
   ]
  },
  {
   "cell_type": "markdown",
   "metadata": {},
   "source": [
    "Let:\n",
    "\\begin{align}\n",
    "X' = \n",
    "\\begin{bmatrix}\n",
    "B \\\\ \n",
    "W \\\\\n",
    "\\end{bmatrix}\n",
    "\\end{align}\n",
    "\n",
    "Consider  the quadratic equation \n",
    "\\begin{align}\n",
    "X^{\\prime\\operatorname{T}} M X^\\prime=& \\begin{bmatrix}\n",
    "B & W \n",
    "\\end{bmatrix}\n",
    "\\begin{bmatrix}\n",
    "M_{11} & M_{12} \\\\\n",
    "M_{12} & M_{22} \\\\\n",
    "\\end{bmatrix}\n",
    "\\begin{bmatrix}\n",
    "B \\\\ \n",
    "W \\\\\n",
    "\\end{bmatrix}\\\\\n",
    "=& \n",
    "\\begin{bmatrix}\n",
    "B & W \n",
    "\\end{bmatrix}\n",
    "\\begin{bmatrix}\n",
    "M_{11}B + M_{12}W \\\\\n",
    "M_{12}B + M_{22}W \\\\\n",
    "\\end{bmatrix}\\\\\n",
    "=& \n",
    "B( M_{11}B + M_{12}W)+  W ( M_{12}B + M_{22}W )\\\\\n",
    "=&M_{11} B^2 + 2M_{12} BW+ M_{22} W^2\\,. \n",
    "\\end{align}\n",
    "The quadratic equation is in terms of: $M_{11}$, $M_{12}$ y $M_{22}$\n",
    "\n",
    "We can simplify this expression if we change to a new basis \n",
    "$$\n",
    "X=\\begin{bmatrix}\n",
    "A\\\\\n",
    "Z\n",
    "\\end{bmatrix}\n",
    "$$\n",
    "in which $M$ is diagonal, in such a case the crossed term would disappear. \n",
    "The rotation from $X'\\to X$ is defined by\n",
    "\\begin{align}\n",
    "X'=\n",
    "\\begin{bmatrix}\n",
    "B\\\\\n",
    "W\n",
    "\\end{bmatrix}\\equiv\n",
    "\\begin{bmatrix}\n",
    "\\cos\\theta & \\sin\\theta\\\\\n",
    "-\\sin\\theta & \\cos\\theta\n",
    "\\end{bmatrix}\n",
    "\\begin{bmatrix}\n",
    "A\\\\\n",
    "Z\n",
    "\\end{bmatrix}=\n",
    "V X \n",
    "\\end{align}\n",
    "where $V$ is the rotation matrix\n",
    "$$\n",
    "V=\\begin{bmatrix}\n",
    "\\cos\\theta & \\sin\\theta\\\\\n",
    "-\\sin\\theta & \\cos\\theta\n",
    "\\end{bmatrix}.\n",
    "$$\n",
    "Therefore\n",
    "\\begin{align}\n",
    "X\\equiv\n",
    "\\begin{bmatrix}\n",
    "A\\\\\n",
    "Z\n",
    "\\end{bmatrix}=V^{\\operatorname{T}} X' \\to X^{\\operatorname{T}}= X^{\\prime\\operatorname{T}} V\\,,\n",
    "\\end{align}\n",
    "\n",
    "\n",
    "\n",
    "In the new basis\n",
    "\\begin{align}\n",
    "X^{\\prime\\operatorname{T}} M X^\\prime=&X^{\\prime\\operatorname{T}}V V^{\\operatorname{T}} M V V^{\\operatorname{T}} X^\\prime\\\\\n",
    "=&(X^{\\prime\\operatorname{T}}V) (V^{\\operatorname{T}} M V) (V^{\\operatorname{T}} X^\\prime)\\\\\n",
    "=& X^{\\operatorname{T}} M_{\\text{diag}} X \\\\\n",
    "=&  \\lambda_1 A^2+\\lambda_2 Z^2\\,.\n",
    "\\end{align}"
   ]
  },
  {
   "cell_type": "markdown",
   "metadata": {},
   "source": [
    "such that $|\\lambda_1|\\le|\\lambda_2|$, where\n",
    "\\begin{align}\n",
    "M_{\\text{diag}}\\equiv V^{\\operatorname{T}} M V=\\begin{bmatrix}\n",
    "\\lambda_1 & 0 \\\\ \n",
    "0 & \\lambda_2 \\\\\n",
    "\\end{bmatrix}\\,,\n",
    "\\end{align}\n",
    "\n",
    "In this basis, the quadratic equation is in terms of eigenvalues and mixing angle, $\\theta$.\n",
    "Therefore, there are not longer mixed terms.\n",
    "\n",
    "The diagonalization of quadratic equations can be straightforwardly  generalized to $n$-th degree equations in terms of $n\\times n$ matrices\n"
   ]
  },
  {
   "cell_type": "code",
   "execution_count": 97,
   "metadata": {
    "hide_input": true
   },
   "outputs": [],
   "source": [
    "import numpy as np\n",
    "g =0.64996\n",
    "gp=0.35523\n",
    "v=246.22046"
   ]
  },
  {
   "cell_type": "markdown",
   "metadata": {},
   "source": [
    "### Example: Electroweak interactions\n",
    "To understand the electromagnetic and weak fundamental interactions, the mathematical formulation need to be done in one basis where the photon field, denoted with a symbol $A$, is still not well defined. Instead, the field $B$, the precursor of $A$, appears along with the weak field $W$, the precursor of the electroweak field $Z$. In the _mathematical_ basis we have then\n",
    "\\begin{align}\n",
    "X' = \n",
    "\\begin{bmatrix}\n",
    "B \\\\ \n",
    "W \\\\\n",
    "\\end{bmatrix},\n",
    "\\end{align}\n",
    "and there, the symmetric mass matrix is calculated as (Details here: [PDF](https://github.com/restrepo/TCC/releases/latest))"
   ]
  },
  {
   "cell_type": "markdown",
   "metadata": {},
   "source": [
    "<!-- \n",
    "sin2θ=0.23\n",
    "θ=np.arcsin( np.sqrt(sin2θ)  )\n",
    "print(θ)\n",
    "MZ=91.1876\n",
    "GF=1.166371E-5\n",
    "v=1/np.sqrt(np.sqrt(2)*GF)\n",
    "g=2*MZ*np.cos(θ)/v\n",
    "gp=g*np.tan(θ)\n",
    "gp\n",
    "-->"
   ]
  },
  {
   "cell_type": "code",
   "execution_count": 112,
   "metadata": {},
   "outputs": [],
   "source": [
    "M=(v**2/4)*np.array([[gp**2,-g*gp],\n",
    "                     [-g*gp, g**2]])"
   ]
  },
  {
   "cell_type": "code",
   "execution_count": 113,
   "metadata": {},
   "outputs": [
    {
     "data": {
      "text/plain": [
       "array([[ 1912.52692086, -3499.32718938],\n",
       "       [-3499.32718938,  6402.67629426]])"
      ]
     },
     "execution_count": 113,
     "metadata": {},
     "output_type": "execute_result"
    }
   ],
   "source": [
    "M"
   ]
  },
  {
   "cell_type": "markdown",
   "metadata": {},
   "source": [
    "Checking that the determinant is zero"
   ]
  },
  {
   "cell_type": "code",
   "execution_count": 114,
   "metadata": {},
   "outputs": [
    {
     "data": {
      "text/plain": [
       "0.0"
      ]
     },
     "execution_count": 114,
     "metadata": {},
     "output_type": "execute_result"
    }
   ],
   "source": [
    "np.linalg.det(M).round(8)"
   ]
  },
  {
   "cell_type": "markdown",
   "metadata": {},
   "source": [
    "This imply that one egivanlue is zero"
   ]
  },
  {
   "cell_type": "code",
   "execution_count": 115,
   "metadata": {},
   "outputs": [
    {
     "data": {
      "text/plain": [
       "array([   0.        , 8315.20321512])"
      ]
     },
     "execution_count": 115,
     "metadata": {},
     "output_type": "execute_result"
    }
   ],
   "source": [
    "np.linalg.eigvals(M).round(12)"
   ]
  },
  {
   "cell_type": "markdown",
   "metadata": {},
   "source": [
    "which means that the matrix rank, the number of non-zero eigenvalues, is 1"
   ]
  },
  {
   "cell_type": "code",
   "execution_count": 116,
   "metadata": {},
   "outputs": [
    {
     "data": {
      "text/plain": [
       "1"
      ]
     },
     "execution_count": 116,
     "metadata": {},
     "output_type": "execute_result"
    }
   ],
   "source": [
    "np.linalg.matrix_rank(M)"
   ]
  },
  {
   "cell_type": "markdown",
   "metadata": {},
   "source": [
    "To make the change to the _phyisical_ basis,\n",
    "$$\n",
    "X=\\begin{bmatrix}\n",
    "A\\\\\n",
    "Z\n",
    "\\end{bmatrix}\n",
    "$$\n",
    "through the rotation matrix\n",
    "$$\n",
    "V=\\begin{bmatrix}\n",
    "\\cos\\theta_W & \\sin\\theta_W\\\\\n",
    "-\\sin\\theta_W & \\cos\\theta_W\n",
    "\\end{bmatrix},\n",
    "$$\n",
    "the following transformation need to be established\n",
    "\\begin{align}\n",
    "X'=\n",
    "\\begin{bmatrix}\n",
    "B\\\\\n",
    "W\n",
    "\\end{bmatrix}\\equiv\n",
    "\\begin{bmatrix}\n",
    "\\cos\\theta_W & \\sin\\theta_W\\\\\n",
    "-\\sin\\theta_W & \\cos\\theta_W\n",
    "\\end{bmatrix}\n",
    "\\begin{bmatrix}\n",
    "A\\\\\n",
    "Z\n",
    "\\end{bmatrix}=\n",
    "V X\\,,\n",
    "\\end{align}\n",
    "such that $V$ is the diagonalization matrix of $M$"
   ]
  },
  {
   "cell_type": "markdown",
   "metadata": {},
   "source": [
    "$$M_{\\text{diag}}=V^{\\operatorname{T}} M V$$\n",
    "with the normal ordering: $|\\lambda_1|\\le|\\lambda_2|$, and"
   ]
  },
  {
   "cell_type": "markdown",
   "metadata": {},
   "source": [
    "* $V$ → Diagonalization matrix\n",
    "* $V$ → Ortogonal matrix\n",
    "* $V$ → Rotation matrix\n",
    "\n",
    "To obtain the eigensystem, we use"
   ]
  },
  {
   "cell_type": "code",
   "execution_count": 117,
   "metadata": {},
   "outputs": [],
   "source": [
    "λ,V=np.linalg.eig(M)"
   ]
  },
  {
   "cell_type": "markdown",
   "metadata": {},
   "source": [
    "which in fact satisfy"
   ]
  },
  {
   "cell_type": "code",
   "execution_count": 129,
   "metadata": {},
   "outputs": [
    {
     "data": {
      "text/plain": [
       "array([[  -0.        ,    0.        ],\n",
       "       [  -0.        , 8315.20321512]])"
      ]
     },
     "execution_count": 129,
     "metadata": {},
     "output_type": "execute_result"
    }
   ],
   "source": [
    "np.dot( np.dot(V.transpose(),M) , V).round(12)"
   ]
  },
  {
   "cell_type": "markdown",
   "metadata": {},
   "source": [
    "Since the first (zero) eigenvalue is the one associated to $A$, we can interpret directly the rotation matrix without changing the order of the eigenvectors"
   ]
  },
  {
   "cell_type": "code",
   "execution_count": 132,
   "metadata": {},
   "outputs": [
    {
     "data": {
      "text/plain": [
       "array([[-0.87749437,  0.47958694],\n",
       "       [-0.47958694, -0.87749437]])"
      ]
     },
     "execution_count": 132,
     "metadata": {},
     "output_type": "execute_result"
    }
   ],
   "source": [
    "V"
   ]
  },
  {
   "cell_type": "markdown",
   "metadata": {},
   "source": [
    "Note that in fact, the absolute value of the first element of the first eigenvector is the larger one and corresponds to the component along the $B$-axis."
   ]
  },
  {
   "cell_type": "markdown",
   "metadata": {},
   "source": [
    "Therefore"
   ]
  },
  {
   "cell_type": "code",
   "execution_count": 133,
   "metadata": {},
   "outputs": [
    {
     "data": {
      "text/plain": [
       "0.5001839211647364"
      ]
     },
     "execution_count": 133,
     "metadata": {},
     "output_type": "execute_result"
    }
   ],
   "source": [
    "θ_W=np.arcsin( V[0,1] )\n",
    "θ_W"
   ]
  },
  {
   "cell_type": "markdown",
   "metadata": {},
   "source": [
    "The eigenvalue associated to $Z$ is"
   ]
  },
  {
   "cell_type": "code",
   "execution_count": 139,
   "metadata": {},
   "outputs": [
    {
     "data": {
      "text/plain": [
       "91.18773610041056"
      ]
     },
     "execution_count": 139,
     "metadata": {},
     "output_type": "execute_result"
    }
   ],
   "source": [
    "mZ=np.sqrt(λ[1])\n",
    "mZ"
   ]
  },
  {
   "cell_type": "markdown",
   "metadata": {},
   "source": [
    "corresponding to the  $Z$ mass in units of $\\text{GeV}/c^2$. As a reference, the proton mass is approximately $1\\ \\text{GeV}/c^2$\n",
    "\n",
    "The physical observable associated to the _weak mixing angle_, $\\theta_W$, is (see [PDF](https://pdg.lbl.gov/2019/reviews/rpp2018-rev-phys-constants.pdf), along with the $Z^0$ _boson mass_, $m_Z$)"
   ]
  },
  {
   "cell_type": "code",
   "execution_count": 138,
   "metadata": {},
   "outputs": [
    {
     "data": {
      "text/plain": [
       "0.23000362966286086"
      ]
     },
     "execution_count": 138,
     "metadata": {},
     "output_type": "execute_result"
    }
   ],
   "source": [
    "np.sin(θ_W)**2"
   ]
  }
 ],
 "metadata": {
  "kernelspec": {
   "name": "Python 3.8.3 64-bit",
   "display_name": "Python 3.8.3 64-bit",
   "metadata": {
    "interpreter": {
     "hash": "07efdcd4b820c98a756949507a4d29d7862823915ec7477944641bea022f4f62"
    }
   }
  },
  "language_info": {
   "codemirror_mode": {
    "name": "ipython",
    "version": 3
   },
   "file_extension": ".py",
   "mimetype": "text/x-python",
   "name": "python",
   "nbconvert_exporter": "python",
   "pygments_lexer": "ipython3",
   "version": "3.8.3-final"
  }
 },
 "nbformat": 4,
 "nbformat_minor": 4
}