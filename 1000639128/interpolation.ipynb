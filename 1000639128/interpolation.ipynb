{
  "nbformat": 4,
  "nbformat_minor": 0,
  "metadata": {
    "colab": {
      "name": "interpolation.ipynb",
      "provenance": [],
      "collapsed_sections": [
        "HAld-e8YEZXu",
        "me-qxh8sEZXv",
        "QrN1hmlnEZXv",
        "WSrNnaKcEZX2",
        "FEj64uDmEZX8",
        "XFqacQP6EZX8",
        "-1r8xBk8EZX9",
        "IAYkvn-_EZYD"
      ]
    },
    "kernelspec": {
      "display_name": "Python 3",
      "language": "python",
      "name": "python3"
    },
    "language_info": {
      "codemirror_mode": {
        "name": "ipython",
        "version": 3
      },
      "file_extension": ".py",
      "mimetype": "text/x-python",
      "name": "python",
      "nbconvert_exporter": "python",
      "pygments_lexer": "ipython3",
      "version": "3.7.3"
    }
  },
  "cells": [
    {
      "cell_type": "markdown",
      "metadata": {
        "colab_type": "text",
        "id": "XGh1ScX5EZVp"
      },
      "source": [
        "# Interpolation Methods\n",
        "<a href=\"https://colab.research.google.com/github/restrepo/ComputationalMethods/blob/master/material/interpolation.ipynb\" target=\"_parent\"><img src=\"https://colab.research.google.com/assets/colab-badge.svg\" alt=\"Open In Colab\"/></a>"
      ]
    },
    {
      "cell_type": "markdown",
      "metadata": {
        "colab_type": "text",
        "id": "b9K_MnFJEZVr"
      },
      "source": [
        "Due to the discrete (and sometimes sparse) nature of experiments and observations, data taking procedures will always produce discrete data as well. Even, as we have seen before, information only can be discretely presented into a computer due to the binary representation. However, when we are dealing with physical models, continuous and smooth properties are of course preferred. Interpolation techniques allow then to recover a continuous field (intermediate values) from sparse datasets. Throughout this section we shall cover some of these interpolation methods.\n",
        "\n",
        "---\n",
        "\n",
        "<!-- __Homework__: https://classroom.github.com/a/SB94rDVJ -->\n",
        "## Bibliography: \n",
        "[1d] Gonzalo Galiano Casas, Esperanza García Gonzalo [Numerical Computation](https://www.unioviedo.es/compnum/expositive/handbook/metnum.pdf) - [GD](https://drive.google.com/file/d/1gwHYLx5aBf3oXRhmGeG-n1toTtAUhvfX/view?usp=sharing) - [Web page with notebooks](https://www.unioviedo.es/compnum/index.php/english-menu)\n",
        "\n",
        "https://github.com/restrepo/Calculus/blob/master/Differential_Calculus.ipynb\n"
      ]
    },
    {
      "cell_type": "markdown",
      "metadata": {
        "colab_type": "text",
        "id": "ooE-OhsOEZVs"
      },
      "source": [
        "- - -\n",
        "- [NumPy polynomials](#NumPy-Polynomials)\n",
        "- [Linear Interpolation](#Linear-Interpolation)\n",
        "    - [Steps](#Steps-LI)\n",
        "    - [Example 1](#Example-1)\n",
        "- [Lagrange Polynomial](#Lagrange-Polynomial)\n",
        "    - [Derivation](#Derivation)\n",
        "    - [Steps](#Steps-LP)\n",
        "    - [Activity](#Activity-LP)\n",
        "- [Divided Differences](#Divided-Differences)\n",
        "    - [Example 2](#Example-2)\n",
        "- [Hermite Interpolation](#Hermite-Interpolation)\n",
        "    - [Derivation in terms of divided differences](#Derivation-in-terms-of-divided-differences)\n",
        "    - [Example 3](#Example-3)\n",
        "- - -"
      ]
    },
    {
      "cell_type": "code",
      "metadata": {
        "colab_type": "code",
        "id": "8BwVVom3EZVu",
        "colab": {
          "base_uri": "https://localhost:8080/",
          "height": 34
        },
        "outputId": "0340f048-76f6-4c55-9fab-eb8218768f08"
      },
      "source": [
        "%pylab inline"
      ],
      "execution_count": 1,
      "outputs": [
        {
          "output_type": "stream",
          "text": [
            "Populating the interactive namespace from numpy and matplotlib\n"
          ],
          "name": "stdout"
        }
      ]
    },
    {
      "cell_type": "code",
      "metadata": {
        "colab_type": "code",
        "id": "jLrHQj5MEZV0",
        "colab": {}
      },
      "source": [
        "from IPython.display import display, Markdown, Latex, Image \n",
        "import pandas as pd"
      ],
      "execution_count": 2,
      "outputs": []
    },
    {
      "cell_type": "code",
      "metadata": {
        "colab_type": "code",
        "id": "qA6vPaJBEZV2",
        "colab": {}
      },
      "source": [
        "from scipy import interpolate"
      ],
      "execution_count": 3,
      "outputs": []
    },
    {
      "cell_type": "code",
      "metadata": {
        "colab_type": "code",
        "id": "rIsrgFTCEZV4",
        "colab": {}
      },
      "source": [
        "import numpy as np\n",
        "# JSAnimation import available at https://github.com/jakevdp/JSAnimation\n",
        "#from JSAnimation import IPython_display\n",
        "from matplotlib import animation\n",
        "from IPython.core.display import Image "
      ],
      "execution_count": 4,
      "outputs": []
    },
    {
      "cell_type": "markdown",
      "metadata": {
        "colab_type": "text",
        "id": "izA9D35WdJjg"
      },
      "source": [
        "Pretty print inside colaboratory"
      ]
    },
    {
      "cell_type": "code",
      "metadata": {
        "colab_type": "code",
        "id": "vU_ALGnRhKna",
        "colab": {}
      },
      "source": [
        "import IPython\n",
        "\n",
        "def setup_typeset():\n",
        "  \"\"\"MathJax initialization for the current cell.\n",
        "  \n",
        "  This installs and configures MathJax for the current output.\n",
        "  \"\"\"\n",
        "  IPython.display.display(IPython.display.HTML('''\n",
        "      <script src=\"https://www.gstatic.com/external_hosted/mathjax/latest/MathJax.js?config=TeX-AMS_HTML-full,Safe&delayStartupUntil=configured\"></script>\n",
        "      <script>\n",
        "        (() => {\n",
        "          const mathjax = window.MathJax;\n",
        "          mathjax.Hub.Config({\n",
        "          'tex2jax': {\n",
        "            'inlineMath': [['$', '$'], ['\\\\(', '\\\\)']],\n",
        "            'displayMath': [['$$', '$$'], ['\\\\[', '\\\\]']],\n",
        "            'processEscapes': true,\n",
        "            'processEnvironments': true,\n",
        "            'skipTags': ['script', 'noscript', 'style', 'textarea', 'code'],\n",
        "            'displayAlign': 'center',\n",
        "          },\n",
        "          'HTML-CSS': {\n",
        "            'styles': {'.MathJax_Display': {'margin': 0}},\n",
        "            'linebreaks': {'automatic': true},\n",
        "            // Disable to prevent OTF font loading, which aren't part of our\n",
        "            // distribution.\n",
        "            'imageFont': null,\n",
        "          },\n",
        "          'messageStyle': 'none'\n",
        "        });\n",
        "        mathjax.Hub.Configured();\n",
        "      })();\n",
        "      </script>\n",
        "      '''))\n",
        "    \n",
        "def Polynomial_to_LaTeX(p):\n",
        "    \"\"\" Small function to print nicely the polynomial p as we write it in maths, in LaTeX code.\"\"\"\n",
        "    coefs = p.coef[::-1]  # List of coefficient, sorted by increasing degrees\n",
        "    res = \"\"  # The resulting string\n",
        "    for i, a in enumerate(coefs):\n",
        "        if int(a) == a:  # Remove the trailing .0\n",
        "            a = int(a)\n",
        "        if i == 0:  # First coefficient, no need for X\n",
        "            if a > 0:\n",
        "                res += \"{a} + \".format(a=a)\n",
        "            elif a < 0:  # Negative a is printed like (a)\n",
        "                res += \"({a}) + \".format(a=a)\n",
        "            # a = 0 is not displayed \n",
        "        elif i == 1:  # Second coefficient, only X and not X**i\n",
        "            if a == 1:  # a = 1 does not need to be displayed\n",
        "                res += \"x + \"\n",
        "            elif a > 0:\n",
        "                res += \"{a} \\;x + \".format(a=a)\n",
        "            elif a < 0:\n",
        "                res += \"({a}) \\;x + \".format(a=a)\n",
        "        else:\n",
        "            if a == 1:\n",
        "                # A special care needs to be addressed to put the exponent in {..} in LaTeX\n",
        "                res += \"x^{i} + \".format(i=\"{%d}\" % i)\n",
        "            elif a > 0:\n",
        "                res += \"{a} \\;x^{i} + \".format(a=a, i=\"{%d}\" % i)\n",
        "            elif a < 0:\n",
        "                res += \"({a}) \\;x^{i} + \".format(a=a, i=\"{%d}\" % i)\n",
        "    return \"$\" + res[:-3] + \"$\" if res else \"\"    "
      ],
      "execution_count": 5,
      "outputs": []
    },
    {
      "cell_type": "markdown",
      "metadata": {
        "colab_type": "text",
        "id": "udTzmy-CEZV7"
      },
      "source": [
        "- - -"
      ]
    },
    {
      "cell_type": "markdown",
      "metadata": {
        "colab_type": "text",
        "id": "Z-txzMoJEZV7"
      },
      "source": [
        "# NumPy Polynomials"
      ]
    },
    {
      "cell_type": "markdown",
      "metadata": {
        "colab_type": "text",
        "id": "bA0x7_nCEZV9"
      },
      "source": [
        "In Numpy there is an implementation of Polynomials. The object is initialized giving the polynomial coefficients: \n",
        "\n",
        "More information about this\n",
        "* [LaTeX print](https://perso.crans.org/besson/publis/notebooks/Demonstration%20of%20numpy.polynomial.Polynomial%20and%20nice%20display%20with%20LaTeX%20and%20MathJax%20(python3).html): "
      ]
    },
    {
      "cell_type": "code",
      "metadata": {
        "colab_type": "code",
        "id": "OEDBQReUEZV9",
        "colab": {
          "base_uri": "https://localhost:8080/",
          "height": 51
        },
        "outputId": "f28d7a00-bdfc-4622-e551-2929d8d323d2"
      },
      "source": [
        "p = np.poly1d([1, 2, -3])\n",
        "print(p)"
      ],
      "execution_count": 6,
      "outputs": [
        {
          "output_type": "stream",
          "text": [
            "   2\n",
            "1 x + 2 x - 3\n"
          ],
          "name": "stdout"
        }
      ]
    },
    {
      "cell_type": "code",
      "metadata": {
        "id": "zxX9TNoXCMkm",
        "colab_type": "code",
        "colab": {
          "base_uri": "https://localhost:8080/",
          "height": 38
        },
        "outputId": "f646a61b-af4f-45bc-8a0a-c45933a3ed92"
      },
      "source": [
        "Latex(Polynomial_to_LaTeX(p))"
      ],
      "execution_count": 7,
      "outputs": [
        {
          "output_type": "execute_result",
          "data": {
            "text/latex": "$(-3) + 2 \\;x + x^{2}$",
            "text/plain": [
              "<IPython.core.display.Latex object>"
            ]
          },
          "metadata": {
            "tags": []
          },
          "execution_count": 7
        }
      ]
    },
    {
      "cell_type": "markdown",
      "metadata": {
        "colab_type": "text",
        "id": "HuqkJBhWEZV_"
      },
      "source": [
        "By default, the assigned the attribute `variable` is `x`:"
      ]
    },
    {
      "cell_type": "code",
      "metadata": {
        "colab_type": "code",
        "id": "jT6FBw47EZWA",
        "colab": {
          "base_uri": "https://localhost:8080/",
          "height": 35
        },
        "outputId": "db9b4c55-9f35-4498-9038-4b3896e3c41e"
      },
      "source": [
        "p.variable"
      ],
      "execution_count": 8,
      "outputs": [
        {
          "output_type": "execute_result",
          "data": {
            "application/vnd.google.colaboratory.intrinsic+json": {
              "type": "string"
            },
            "text/plain": [
              "'x'"
            ]
          },
          "metadata": {
            "tags": []
          },
          "execution_count": 8
        }
      ]
    },
    {
      "cell_type": "markdown",
      "metadata": {
        "colab_type": "text",
        "id": "x-7Tef0-EZWC"
      },
      "source": [
        "which can be assigned at initialization "
      ]
    },
    {
      "cell_type": "code",
      "metadata": {
        "colab_type": "code",
        "id": "A8ZMzlaTEZWD",
        "colab": {
          "base_uri": "https://localhost:8080/",
          "height": 51
        },
        "outputId": "8df22d7e-3db3-4d15-b61f-566993847465"
      },
      "source": [
        "q = np.poly1d([1, 2, -3],variable='t')\n",
        "print(q)"
      ],
      "execution_count": null,
      "outputs": [
        {
          "output_type": "stream",
          "text": [
            "   2\n",
            "1 t + 2 t - 3\n"
          ],
          "name": "stdout"
        }
      ]
    },
    {
      "cell_type": "code",
      "metadata": {
        "id": "u5ODqZ6FHwCL",
        "colab_type": "code",
        "colab": {}
      },
      "source": [
        ""
      ],
      "execution_count": null,
      "outputs": []
    },
    {
      "cell_type": "markdown",
      "metadata": {
        "colab_type": "text",
        "id": "hDgtm5VCEZWF"
      },
      "source": [
        "The object have in particular methods for <br/>\n",
        "__Integration__:"
      ]
    },
    {
      "cell_type": "code",
      "metadata": {
        "colab_type": "code",
        "id": "nMJq0CrOEZWG",
        "colab": {
          "base_uri": "https://localhost:8080/",
          "height": 51
        },
        "outputId": "836fdb43-e142-4740-fdbf-94221970b2ad"
      },
      "source": [
        "p = np.poly1d([1, 2, -3])\n",
        "print( p.integ() )"
      ],
      "execution_count": null,
      "outputs": [
        {
          "output_type": "stream",
          "text": [
            "        3     2\n",
            "0.3333 x + 1 x - 3 x\n"
          ],
          "name": "stdout"
        }
      ]
    },
    {
      "cell_type": "markdown",
      "metadata": {
        "colab_type": "text",
        "id": "JVolgx0wEZWI"
      },
      "source": [
        "__Derivatives__"
      ]
    },
    {
      "cell_type": "code",
      "metadata": {
        "colab_type": "code",
        "id": "fVS5U1bBEZWJ",
        "colab": {
          "base_uri": "https://localhost:8080/",
          "height": 51
        },
        "outputId": "3e77e527-c41f-45dc-b7a2-0f575d102095"
      },
      "source": [
        "print( p.deriv() )"
      ],
      "execution_count": null,
      "outputs": [
        {
          "output_type": "stream",
          "text": [
            " \n",
            "2 x + 2\n"
          ],
          "name": "stdout"
        }
      ]
    },
    {
      "cell_type": "markdown",
      "metadata": {
        "colab_type": "text",
        "id": "R8f3r0yOEZWN"
      },
      "source": [
        "__roots__:"
      ]
    },
    {
      "cell_type": "code",
      "metadata": {
        "colab_type": "code",
        "id": "Md4Q2gmNEZWO",
        "colab": {
          "base_uri": "https://localhost:8080/",
          "height": 70
        },
        "outputId": "8a03f49c-1d06-4170-8c07-58dfc99e947a"
      },
      "source": [
        "setup_typeset() #active colab pretty print\n",
        "print(p.roots)\n",
        "Latex( '$p({})$={}'.format(round(p.roots[0],1),\n",
        "                                      p((p.roots[0] )  ) ) )"
      ],
      "execution_count": null,
      "outputs": [
        {
          "output_type": "display_data",
          "data": {
            "text/html": [
              "\n",
              "      <script src=\"https://www.gstatic.com/external_hosted/mathjax/latest/MathJax.js?config=TeX-AMS_HTML-full,Safe&delayStartupUntil=configured\"></script>\n",
              "      <script>\n",
              "        (() => {\n",
              "          const mathjax = window.MathJax;\n",
              "          mathjax.Hub.Config({\n",
              "          'tex2jax': {\n",
              "            'inlineMath': [['$', '$'], ['\\(', '\\)']],\n",
              "            'displayMath': [['$$', '$$'], ['\\[', '\\]']],\n",
              "            'processEscapes': true,\n",
              "            'processEnvironments': true,\n",
              "            'skipTags': ['script', 'noscript', 'style', 'textarea', 'code'],\n",
              "            'displayAlign': 'center',\n",
              "          },\n",
              "          'HTML-CSS': {\n",
              "            'styles': {'.MathJax_Display': {'margin': 0}},\n",
              "            'linebreaks': {'automatic': true},\n",
              "            // Disable to prevent OTF font loading, which aren't part of our\n",
              "            // distribution.\n",
              "            'imageFont': null,\n",
              "          },\n",
              "          'messageStyle': 'none'\n",
              "        });\n",
              "        mathjax.Hub.Configured();\n",
              "      })();\n",
              "      </script>\n",
              "      "
            ],
            "text/plain": [
              "<IPython.core.display.HTML object>"
            ]
          },
          "metadata": {
            "tags": []
          }
        },
        {
          "output_type": "stream",
          "text": [
            "[-3.  1.]\n"
          ],
          "name": "stdout"
        },
        {
          "output_type": "execute_result",
          "data": {
            "text/latex": "$p(-3.0)$=1.7763568394002505e-15",
            "text/plain": [
              "<IPython.core.display.Latex object>"
            ]
          },
          "metadata": {
            "tags": []
          },
          "execution_count": 26
        }
      ]
    },
    {
      "cell_type": "markdown",
      "metadata": {
        "colab_type": "text",
        "id": "1NLa6wh1EZWQ"
      },
      "source": [
        " It is possible to define polynomial by given the list of roots and "
      ]
    },
    {
      "cell_type": "code",
      "metadata": {
        "colab_type": "code",
        "id": "E67K42bQEZWR",
        "colab": {
          "base_uri": "https://localhost:8080/",
          "height": 51
        },
        "outputId": "81efc332-dc52-471c-c562-81ff1a4fb00f"
      },
      "source": [
        "p=np.poly1d([-246.2,-40,40,246.2],r=True)\n",
        "print(p)"
      ],
      "execution_count": null,
      "outputs": [
        {
          "output_type": "stream",
          "text": [
            "   4             2\n",
            "1 x - 6.221e+04 x + 9.698e+07\n"
          ],
          "name": "stdout"
        }
      ]
    },
    {
      "cell_type": "markdown",
      "metadata": {
        "colab_type": "text",
        "id": "GSuuNnvMEZWU"
      },
      "source": [
        "For further details check the official help:"
      ]
    },
    {
      "cell_type": "code",
      "metadata": {
        "colab_type": "code",
        "id": "n5GOuKoeEZWV",
        "colab": {}
      },
      "source": [
        "np.poly1d?"
      ],
      "execution_count": 9,
      "outputs": []
    },
    {
      "cell_type": "markdown",
      "metadata": {
        "colab_type": "text",
        "id": "3cs7-2egEZWW"
      },
      "source": [
        "__Activity__:  Movement with uniform acceleration\n",
        "1. Define a polynomial for the movement with uniform acceleration:\n",
        "\\begin{align}\n",
        "x(t)=x_0+v_0 (t-t_0)+\\tfrac{1}{2} a (t-t_0)^2 \\,,\n",
        "\\end{align}\n",
        "2. Use the definition to solve the following problem: \n",
        "    * A car departs from rest with a constant acceleration of $6~\\text{m}\\cdot\\text{s}^{-2}$ and travels through a flat and straight road. 10 seconds later a second pass for the same starting point and in the same direction with an initial speed of $10~\\text{m}\\cdot\\text{s}^{-1}$ and a constant acelleration of $10~\\text{m}\\cdot\\text{s}^{-2}$. Find the time and distance at which the two cars meet."
      ]
    },
    {
      "cell_type": "code",
      "metadata": {
        "id": "XzWb5n2yKZPu",
        "colab_type": "code",
        "colab": {
          "base_uri": "https://localhost:8080/",
          "height": 136
        },
        "outputId": "fbac4bf6-d6a1-43a4-c844-70059565daf4"
      },
      "source": [
        "a1 = 6 #aceleración primer auto\n",
        "a2 = 10 #aceleración segundo auto\n",
        "v02= 10 #aceleración inicial segundo auto\n",
        "t02= 10 #tiempo inicial segundo auto\n",
        "c1 = np.poly1d([1/2*a1,0,0],variable='t') #Ecuación de movimiento primer auto\n",
        "c2 = np.poly1d([1/2*a2,v02-a2*t02,1/2*a2*t02**2-v02*t02],variable='t')  #Ecuación de movimiento segundo auto\n",
        "ec = c1-c2\n",
        "print('Los autos se encuentran en {}seg y en {}seg'.format(ec.roots[0],ec.roots[1]))\n",
        "print('En {} segundos, los autos estarán a una distancia:\\nAuto 1: {}m \\nAuto 2: {}m'.format(ec.roots[0],c1(ec.roots[0]),c2(ec.roots[0])))\n",
        "print('En {} segundos, los autos estarán a una distancia:\\nAuto 1: {}m \\nAuto 2: {}m'.format(ec.roots[1],c1(ec.roots[1]),c2(ec.roots[1])))\n",
        "\n",
        "\n"
      ],
      "execution_count": 63,
      "outputs": [
        {
          "output_type": "stream",
          "text": [
            "Los autos se encuentran en 40.0seg y en 5.0seg\n",
            "En 40.0 segundos, los autos estarán a una distancia:\n",
            "Auto 1: 4800.0m \n",
            "Auto 2: 4800.0m\n",
            "En 5.0 segundos, los autos estarán a una distancia:\n",
            "Auto 1: 75.0m \n",
            "Auto 2: 75.0m\n"
          ],
          "name": "stdout"
        }
      ]
    },
    {
      "cell_type": "code",
      "metadata": {
        "id": "F4rA1MnrTnrh",
        "colab_type": "code",
        "colab": {
          "base_uri": "https://localhost:8080/",
          "height": 396
        },
        "outputId": "0784f339-e6cb-4c6f-b461-36c13cc2622e"
      },
      "source": [
        "import matplotlib.pyplot as plt\n",
        "t = np.linspace(0,50)\n",
        "r = np.array(ec.roots)\n",
        "plt.figure( figsize=(8, 6))\n",
        "plt.plot(t,c1(t),label = 'Auto 1')\n",
        "plt.plot(t,c2(t), label = 'Auto 2')\n",
        "plt.plot(r,c1(r),'o',color = 'black',label = 'Interceptos')\n",
        "plt.ylabel('x(t)',fontsize = 18)\n",
        "plt.xlabel('t',fontsize= 18)\n",
        "plt.legend()\n",
        "plt.show()\n",
        "\n"
      ],
      "execution_count": 64,
      "outputs": [
        {
          "output_type": "display_data",
          "data": {
            "image/png": "[encoded data removed]",
            "text/plain": [
              "<Figure size 576x432 with 1 Axes>"
            ]
          },
          "metadata": {
            "tags": [],
            "needs_background": "light"
          }
        }
      ]
    },
    {
      "cell_type": "markdown",
      "metadata": {
        "colab_type": "text",
        "id": "smN1y6pyEZWX"
      },
      "source": [
        "<!-- ### <font color=red>Solution</font>\n",
        "setup_typeset() #active colab pretty print\n",
        "def x(x0,t0,v0,a):\n",
        "    return np.poly1d( [0.5*a,v0-a*t0,x0-v0*t0+0.5*a*t0**2],\n",
        "                     variable='t'  )\n",
        "x1=x(0,0,0,6)\n",
        "x2=x(0,10,10,10)\n",
        "display(Latex('$x_1(t)=$'))\n",
        "print(x1) \n",
        "display(Latex('$x_2(t)=$'))\n",
        "print(x2)\n",
        "t=np.linspace(0,45,100)\n",
        "plt.plot(t,x2(t)-x1(t))\n",
        "plt.grid()\n",
        "#plt.plot(t,(x2-x1)(t))\n",
        "#plt.grid()\n",
        "#Physica solution is the one after 10s\n",
        "Latex(r'meeting time $t_{\\rm end}=$ %g s; meeting point $x_{\\rm end}=$ %g m' \n",
        "          %(  (x2-x1).r[0]  ,  x2(  (x2-x1).r[0]  )   )) \n",
        "#plt.plot(t,x2(t),'ro')\n",
        "#plt.plot(t,x2(t),'k-')\n",
        "#plt.xlim(10,15)\n",
        "#plt.ylim(0,200)          \n",
        "          -->"
      ]
    },
    {
      "cell_type": "markdown",
      "metadata": {
        "colab_type": "text",
        "id": "vWJZfq_YEZWe"
      },
      "source": [
        "# Linear Interpolation"
      ]
    },
    {
      "cell_type": "markdown",
      "metadata": {
        "colab_type": "text",
        "id": "wGj1U7PmEZWe"
      },
      "source": [
        "When we have a set of discrete points of the form $(x_i, y_i)$ for $1\\leq i \\leq N$, the most natural way to obtain (approximate) any intermediate value is assuming points connected by lines. Let's assume a set of points $(x_i, y_i)$ such that $y_i = f(x_i)$ for an unknown function $f(x)$, if we want to approximate the value $f(x)$ for $x_i\\leq x \\leq x_{i+1}$, we construct an equation of a line passing through $(x_i,y_i)$ and $(x_{i+1},y_{i+1})$.\n",
        "\n",
        "The linear equation is\n",
        "\n",
        "$$y=mx+b$$\n",
        "\n",
        "where\n",
        "\n",
        "$$m=\\frac{y_{i+1}-y_i}{x_{i+1}-x_i} $$\n",
        "\n",
        "and $b$ is obtained by evaluating with either $(x_i,y_i)$ or $(x_{i+1},y_{i+1})$\n",
        "\n",
        "$$y=\\frac{y_{i+1}-y_i}{x_{i+1}-x_i}x+b$$\n",
        "\n",
        "$$b=y_i-\\frac{y_{i+1}-y_i}{x_{i+1}-x_i}x_i$$\n",
        "\n",
        "\n",
        "\\begin{align}\n",
        "%$$  \n",
        "f(x)\\approx y = &\\frac{y_{i+1}-y_i}{x_{i+1}-x_i}(x-x_i) + y_i \\\\\n",
        "=&\\frac{y_{i+1}-y_i}{x_{i+1}-x_i}x+\\left[y_i-\\frac{y_{i+1}-y_i}{x_{i+1}-x_i}x_i\\right] \\\\\n",
        "%$$\n",
        "\\end{align}\n",
        "\n",
        "and this can be applied for any $x$ such that $x_0\\leq x \\leq x_N$ and where it has been assumed an ordered set $\\left\\{x_i\\right\\}_i$."
      ]
    },
    {
      "cell_type": "markdown",
      "metadata": {
        "colab_type": "text",
        "id": "WsnL9PoDEZWi"
      },
      "source": [
        "## Steps LI"
      ]
    },
    {
      "cell_type": "markdown",
      "metadata": {
        "colab_type": "text",
        "id": "w4MSYnO6EZWi"
      },
      "source": [
        "Once defined the mathematical basis behind linear interpolation, we proceed to establish the algorithmic steps for an implementation.\n",
        "\n",
        "1. Establish the dataset you want to interpolate, i.e. you must provide a set of the form $(x_i,y_i)$.\n",
        "2. Give the value $x$ where you want to approximate the value $f(x)$.\n",
        "3. Find the interval $[x_i, x_{i+1}]$ in which $x$ is embedded.\n",
        "4. Use the above expression in order to find $y=f(x)$."
      ]
    },
    {
      "cell_type": "markdown",
      "metadata": {
        "colab_type": "text",
        "id": "0Gmn6NAdjz1W"
      },
      "source": [
        "To make the linear interpolation we will use"
      ]
    },
    {
      "cell_type": "code",
      "metadata": {
        "colab_type": "code",
        "id": "bzCHHksPEZWn",
        "colab": {}
      },
      "source": [
        "import scipy as sp\n",
        "sp.interpolate.interp1d?"
      ],
      "execution_count": null,
      "outputs": []
    },
    {
      "cell_type": "markdown",
      "metadata": {
        "colab_type": "text",
        "id": "epbBukAVjz1Z"
      },
      "source": [
        "The option `kind` specifies the kind of interpolation: \n",
        "* `'linear', 'nearest', 'zero', 'slinear', 'quadratic', 'cubic'`,\n",
        "    where `'zero', 'slinear', 'quadratic' and 'cubic'` refer to a spline\n",
        "    interpolation of zeroth, first, second or third order) \n",
        "* or as an\n",
        "    integer specifying the order of the spline interpolator to use.\n",
        "\n",
        "Default is `'linear'` correponding to integer 1."
      ]
    },
    {
      "cell_type": "markdown",
      "metadata": {
        "colab_type": "text",
        "id": "OZXQtU4WEZWj"
      },
      "source": [
        "## Example 1"
      ]
    },
    {
      "cell_type": "markdown",
      "metadata": {
        "colab_type": "text",
        "id": "Jb7eChUUEZWk"
      },
      "source": [
        "Sample the function $f(x) = \\sin(x)$ between $0$ and $10$ using $N=10$ points (9 intervals). Plot both, the interpolation and the original function."
      ]
    },
    {
      "cell_type": "code",
      "metadata": {
        "colab_type": "code",
        "id": "5G1t56pnjz1a",
        "colab": {}
      },
      "source": [
        "import scipy as sp\n",
        "from scipy import interpolate "
      ],
      "execution_count": null,
      "outputs": []
    },
    {
      "cell_type": "markdown",
      "metadata": {
        "colab_type": "text",
        "id": "A0mxSeRjk1T6"
      },
      "source": [
        "`sp` reemplaza completamente a numpy con `np`"
      ]
    },
    {
      "cell_type": "markdown",
      "metadata": {
        "colab_type": "text",
        "id": "sB0lNqKIEZWn"
      },
      "source": [
        "Interpolation with 9 equal intervals"
      ]
    },
    {
      "cell_type": "code",
      "metadata": {
        "colab_type": "code",
        "id": "BaCvQYBoEZWp",
        "colab": {
          "base_uri": "https://localhost:8080/",
          "height": 85
        },
        "outputId": "00b9b521-818a-4f8b-c652-df4ec980a4c9"
      },
      "source": [
        "n_points = 10\n",
        "x=np.linspace(0, 2*sp.pi, n_points)\n",
        "f=interpolate.interp1d( x,sp.sin(x),kind='linear' )"
      ],
      "execution_count": null,
      "outputs": [
        {
          "output_type": "stream",
          "text": [
            "/usr/local/lib/python3.7/dist-packages/ipykernel_launcher.py:3: DeprecationWarning: scipy.sin is deprecated and will be removed in SciPy 2.0.0, use numpy.sin instead\n",
            "  This is separate from the ipykernel package so we can avoid doing imports until\n"
          ],
          "name": "stderr"
        }
      ]
    },
    {
      "cell_type": "markdown",
      "metadata": {
        "colab_type": "text",
        "id": "IFSu7iE6jz1g"
      },
      "source": [
        "Plotting the results adding the real function with enough points"
      ]
    },
    {
      "cell_type": "code",
      "metadata": {
        "colab_type": "code",
        "id": "3Ggn5WacEZWq",
        "colab": {
          "base_uri": "https://localhost:8080/",
          "height": 283
        },
        "outputId": "c33ed8a9-bd0c-4418-85e9-45e32cb2ab0d"
      },
      "source": [
        "Ninter = 100\n",
        "X=np.linspace(0, 2*sp.pi, Ninter)\n",
        "plt.figure( figsize=(12,6) )\n",
        "plt.plot(x,f(x),'ro',label='Data')\n",
        "plt.plot(X,f(X),'k-',lw=3,label='linear interpolation')\n",
        "plt.plot(X,np.sin(X),'c-',label='real function')\n",
        "\n",
        "#Formatting\n",
        "plt.plot(2.35,f(2.35),'y*',markersize=10,label='sample point')\n",
        "plt.title( \"Linear interpolation of $\\sin(x)$\" )\n",
        "plt.legend()\n",
        "plt.xlabel( \"$x$\",size=15 )\n",
        "plt.ylabel( \"$y$\",size=15 )\n",
        "plt.grid()"
      ],
      "execution_count": null,
      "outputs": [
        {
          "output_type": "display_data",
          "data": {
            "image/png": "[encoded data removed]",
            "text/plain": [
              "<Figure size 864x432 with 1 Axes>"
            ]
          },
          "metadata": {
            "tags": []
          }
        }
      ]
    },
    {
      "cell_type": "markdown",
      "metadata": {
        "colab_type": "text",
        "id": "QeCb12m0jz1j"
      },
      "source": [
        "Other `kind` values: 0,1,2"
      ]
    },
    {
      "cell_type": "code",
      "metadata": {
        "colab_type": "code",
        "id": "yPis66gEmHSY",
        "colab": {
          "base_uri": "https://localhost:8080/",
          "height": 85
        },
        "outputId": "22a59e6e-3f22-4f5d-b8f5-446a48f459bf"
      },
      "source": [
        "%pylab inline"
      ],
      "execution_count": null,
      "outputs": [
        {
          "output_type": "stream",
          "text": [
            "Populating the interactive namespace from numpy and matplotlib\n"
          ],
          "name": "stdout"
        },
        {
          "output_type": "stream",
          "text": [
            "/usr/local/lib/python3.6/dist-packages/IPython/core/magics/pylab.py:161: UserWarning: pylab import has clobbered these variables: ['f']\n",
            "`%matplotlib` prevents importing * from pylab and numpy\n",
            "  \"\\n`%matplotlib` prevents importing * from pylab and numpy\"\n"
          ],
          "name": "stderr"
        }
      ]
    },
    {
      "cell_type": "code",
      "metadata": {
        "colab_type": "code",
        "id": "pvnSUdF8jz1k",
        "colab": {
          "base_uri": "https://localhost:8080/",
          "height": 650
        },
        "outputId": "94de36f6-0068-4af8-d8dd-eac9aed6eb1e"
      },
      "source": [
        "n_points = 10\n",
        "x=np.linspace(0, 2*np.pi, n_points)\n",
        "Ninter = 100\n",
        "X=np.linspace(0, 2*np.pi, Ninter)\n",
        "plt.figure( figsize=(12,6) )\n",
        "plt.plot(x,np.sin(x),'ro',label='Data')\n",
        "plt.plot(X,np.sin(X),'c-',label='real function')\n",
        "\n",
        "plt.plot(X,interpolate.interp1d( x,np.sin(x),kind=0)(X),\n",
        "         'g--',lw=1,label='interpolation with horizontal lines')\n",
        "plt.plot(X,interpolate.interp1d( x,np.sin(x),kind=1)(X),\n",
        "         'k-',lw=1,label='linear interpolation')\n",
        "plt.plot(X,interpolate.interp1d( x,np.sin(x),kind=2)(X),\n",
        "         'r:',lw=1,label='quadratic interpolation')\n",
        "#plt.plot(X,interpolate.interp1d( x,np.sin(x),kind=3)(X),\n",
        "#         'k:',lw=1,label='quadratic interpolation')\n",
        "\n",
        "#Formatting\n",
        "plt.title( \"Linear interpolation of $\\sin(x)$\" )\n",
        "plt.legend()\n",
        "plt.xlabel( \"$x$\",size=15 )\n",
        "plt.ylabel( \"$y$\",size=15 )\n",
        "plt.grid()"
      ],
      "execution_count": null,
      "outputs": [
        {
          "output_type": "display_data",
          "data": {
            "image/png": "[encoded data removed]",
            "text/plain": [
              "<Figure size 864x432 with 1 Axes>"
            ]
          },
          "metadata": {
            "tags": [],
            "needs_background": "light"
          }
        }
      ]
    },
    {
      "cell_type": "markdown",
      "metadata": {
        "colab_type": "text",
        "id": "AyEnMaaqjz1m"
      },
      "source": [
        "We can see that the data poinst are just joined by straight lines:"
      ]
    },
    {
      "cell_type": "code",
      "metadata": {
        "colab_type": "code",
        "id": "g7QLUR5MEZWs",
        "colab": {
          "base_uri": "https://localhost:8080/",
          "height": 35
        },
        "outputId": "174f8d15-3c3a-4d44-f770-3a6c646e9366"
      },
      "source": [
        "f(2.35),np.sin(2.35)"
      ],
      "execution_count": null,
      "outputs": [
        {
          "output_type": "execute_result",
          "data": {
            "text/plain": [
              "(array(0.67198441), 0.7114733527908443)"
            ]
          },
          "metadata": {
            "tags": []
          },
          "execution_count": 23
        }
      ]
    },
    {
      "cell_type": "markdown",
      "metadata": {
        "colab_type": "text",
        "id": "Gn2sL8iZEZWu"
      },
      "source": [
        "However, the object `f` behaves like a function. For example. We can evaluate both the real and the interpolated function in $x_0=3$"
      ]
    },
    {
      "cell_type": "code",
      "metadata": {
        "colab_type": "code",
        "id": "c0Hix__AEZWu",
        "colab": {
          "base_uri": "https://localhost:8080/",
          "height": 35
        },
        "outputId": "b9451278-6747-46a3-e6db-f8f218265dfa"
      },
      "source": [
        "np.sin(3)"
      ],
      "execution_count": null,
      "outputs": [
        {
          "output_type": "execute_result",
          "data": {
            "text/plain": [
              "0.1411200080598672"
            ]
          },
          "metadata": {
            "tags": []
          },
          "execution_count": 24
        }
      ]
    },
    {
      "cell_type": "code",
      "metadata": {
        "colab_type": "code",
        "id": "-skeqhluEZWx",
        "colab": {
          "base_uri": "https://localhost:8080/",
          "height": 35
        },
        "outputId": "ab1b923d-89ca-4bcd-9bab-0c41ec693a72"
      },
      "source": [
        "f(3)"
      ],
      "execution_count": null,
      "outputs": [
        {
          "output_type": "execute_result",
          "data": {
            "text/plain": [
              "array(0.13335233)"
            ]
          },
          "metadata": {
            "tags": []
          },
          "execution_count": 25
        }
      ]
    },
    {
      "cell_type": "markdown",
      "metadata": {
        "colab_type": "text",
        "id": "fv_29O5rEZW2"
      },
      "source": [
        "**Activity**   \n",
        "    \n",
        "Use the previous code and explore the behaviour of the Linear Interpolation algorithm when varying the number of data used."
      ]
    },
    {
      "cell_type": "markdown",
      "metadata": {
        "colab_type": "text",
        "id": "CPc-9Ql1EZW3"
      },
      "source": [
        "<!--\n",
        "N=20\n",
        "x=np.linspace(0,6,N)\n",
        "f=interpolate.interp1d( x,np.sin(x) )\n",
        "X=np.linspace(0,6,100)\n",
        "plt.plot(x,f(x),'ro')\n",
        "plt.plot(x,f(x),'k-',lw=3)\n",
        "plt.plot(X,np.sin(X),'c-')\n",
        "plt.plot(2.35,f(2.35),'y*',markersize=10)\n",
        "-->"
      ]
    },
    {
      "cell_type": "markdown",
      "metadata": {
        "colab_type": "text",
        "id": "3SGRypgREZW5"
      },
      "source": [
        "- - -"
      ]
    },
    {
      "cell_type": "markdown",
      "metadata": {
        "colab_type": "text",
        "id": "3Zgj3wv8EZW6"
      },
      "source": [
        "## Example: \n",
        "Generate three points that do not lie upon a stright line, and try to make a manual interpolation with a polynomial of degree two."
      ]
    },
    {
      "cell_type": "code",
      "metadata": {
        "colab_type": "code",
        "id": "S6UxbvTtEZW7",
        "colab": {}
      },
      "source": [
        "import pandas as pd\n",
        "df=pd.DataFrame({ 'X':[-2.4,3,21.3],\n",
        "                  'Y':[-10.,8.,3.]\n",
        "                 }  \n",
        "                )"
      ],
      "execution_count": null,
      "outputs": []
    },
    {
      "cell_type": "code",
      "metadata": {
        "colab_type": "code",
        "id": "9souHyUYEZW9",
        "colab": {
          "base_uri": "https://localhost:8080/",
          "height": 141
        },
        "outputId": "05e01698-bf8f-4600-8590-b2cbbb7e26ab"
      },
      "source": [
        "df"
      ],
      "execution_count": null,
      "outputs": [
        {
          "output_type": "execute_result",
          "data": {
            "text/html": [
              "<div>\n",
              "<style scoped>\n",
              "    .dataframe tbody tr th:only-of-type {\n",
              "        vertical-align: middle;\n",
              "    }\n",
              "\n",
              "    .dataframe tbody tr th {\n",
              "        vertical-align: top;\n",
              "    }\n",
              "\n",
              "    .dataframe thead th {\n",
              "        text-align: right;\n",
              "    }\n",
              "</style>\n",
              "<table border=\"1\" class=\"dataframe\">\n",
              "  <thead>\n",
              "    <tr style=\"text-align: right;\">\n",
              "      <th></th>\n",
              "      <th>X</th>\n",
              "      <th>Y</th>\n",
              "    </tr>\n",
              "  </thead>\n",
              "  <tbody>\n",
              "    <tr>\n",
              "      <th>0</th>\n",
              "      <td>-2.4</td>\n",
              "      <td>-10.0</td>\n",
              "    </tr>\n",
              "    <tr>\n",
              "      <th>1</th>\n",
              "      <td>3.0</td>\n",
              "      <td>8.0</td>\n",
              "    </tr>\n",
              "    <tr>\n",
              "      <th>2</th>\n",
              "      <td>21.3</td>\n",
              "      <td>3.0</td>\n",
              "    </tr>\n",
              "  </tbody>\n",
              "</table>\n",
              "</div>"
            ],
            "text/plain": [
              "      X     Y\n",
              "0  -2.4 -10.0\n",
              "1   3.0   8.0\n",
              "2  21.3   3.0"
            ]
          },
          "metadata": {
            "tags": []
          },
          "execution_count": 15
        }
      ]
    },
    {
      "cell_type": "code",
      "metadata": {
        "colab_type": "code",
        "id": "efE3I3CCEZW_",
        "colab": {
          "base_uri": "https://localhost:8080/",
          "height": 265
        },
        "outputId": "879d3a7d-bcf5-44ff-f5fd-75fc4cca1198"
      },
      "source": [
        "plt.plot(df.X,df.Y,'ro')\n",
        "plt.grid()"
      ],
      "execution_count": null,
      "outputs": [
        {
          "output_type": "display_data",
          "data": {
            "image/png": "[encoded data removed]",
            "text/plain": [
              "<Figure size 432x288 with 1 Axes>"
            ]
          },
          "metadata": {
            "tags": []
          }
        }
      ]
    },
    {
      "cell_type": "code",
      "metadata": {
        "colab_type": "code",
        "id": "gMncmDM0jz16",
        "colab": {}
      },
      "source": [
        "sp.interpolate.interp1d?"
      ],
      "execution_count": null,
      "outputs": []
    },
    {
      "cell_type": "markdown",
      "metadata": {
        "colab_type": "text",
        "id": "BP0sX_6fEZXA"
      },
      "source": [
        "### Polynomial object in `numpy`\n",
        "In `numpy` it is possible to define polynomials friom either its coefficients o its roots with `np.poly1d`"
      ]
    },
    {
      "cell_type": "markdown",
      "metadata": {
        "colab_type": "text",
        "id": "yKOPE5AcEZXC"
      },
      "source": [
        "Define a two degree polynomial from its roots:"
      ]
    },
    {
      "cell_type": "code",
      "metadata": {
        "colab_type": "code",
        "id": "S_V2zHPnjz19",
        "colab": {}
      },
      "source": [
        "import numpy as np"
      ],
      "execution_count": null,
      "outputs": []
    },
    {
      "cell_type": "markdown",
      "metadata": {
        "colab_type": "text",
        "id": "l-sKCHWojz2A"
      },
      "source": [
        "We try to make a fit by using an inverted parabola passing trough the tree points and using the roots as a guess.\n",
        "In fact, we can try with a polynomial of degree two with roots at 1 and 22.\n",
        "\n",
        "With $k$ we can flip the curve and reduce the maximum without change the roots"
      ]
    },
    {
      "cell_type": "code",
      "metadata": {
        "colab_type": "code",
        "id": "uV6xujqPEZXC",
        "colab": {}
      },
      "source": [
        "k=-0.1\n",
        "P=k*np.poly1d([0,23],r=True)"
      ],
      "execution_count": null,
      "outputs": []
    },
    {
      "cell_type": "code",
      "metadata": {
        "colab_type": "code",
        "id": "9ztBor9-EZXE",
        "colab": {
          "base_uri": "https://localhost:8080/",
          "height": 51
        },
        "outputId": "44ab36ca-8f74-4113-aec0-e8d6072beab0"
      },
      "source": [
        "print(P)"
      ],
      "execution_count": null,
      "outputs": [
        {
          "output_type": "stream",
          "text": [
            "      2\n",
            "-0.1 x + 2.3 x - 0\n"
          ],
          "name": "stdout"
        }
      ]
    },
    {
      "cell_type": "code",
      "metadata": {
        "colab_type": "code",
        "id": "oGBYy5vAm6LU",
        "colab": {
          "base_uri": "https://localhost:8080/",
          "height": 34
        },
        "outputId": "b2e42386-2d86-4092-bcfe-c5088642f126"
      },
      "source": [
        "P.roots"
      ],
      "execution_count": null,
      "outputs": [
        {
          "output_type": "execute_result",
          "data": {
            "text/plain": [
              "array([23.,  0.])"
            ]
          },
          "metadata": {
            "tags": []
          },
          "execution_count": 23
        }
      ]
    },
    {
      "cell_type": "code",
      "metadata": {
        "colab_type": "code",
        "id": "PUM8A4EmEZXG",
        "colab": {
          "base_uri": "https://localhost:8080/",
          "height": 286
        },
        "outputId": "413d70fc-0b17-497a-a84f-2b96300bc306"
      },
      "source": [
        "plt.plot(df.X,df.Y,'ro')\n",
        "x=np.linspace(-8,30)\n",
        "plt.plot(x,P( x),'b-')\n",
        "plt.grid()\n",
        "plt.xlim(-8,30)\n",
        "plt.ylim(-15,20)"
      ],
      "execution_count": null,
      "outputs": [
        {
          "output_type": "execute_result",
          "data": {
            "text/plain": [
              "(-15.0, 20.0)"
            ]
          },
          "metadata": {
            "tags": []
          },
          "execution_count": 24
        },
        {
          "output_type": "display_data",
          "data": {
            "image/png": "[encoded data removed]",
            "text/plain": [
              "<Figure size 432x288 with 1 Axes>"
            ]
          },
          "metadata": {
            "tags": []
          }
        }
      ]
    },
    {
      "cell_type": "markdown",
      "metadata": {
        "colab_type": "text",
        "id": "tlOZC1tQEZXM"
      },
      "source": [
        "__Activity__: Scipy interpolation.\n",
        "\n",
        "Define an interplation function which passes throgh the three points by using `interp1D` of Scipy with several linear and quadratic curves between the points."
      ]
    },
    {
      "cell_type": "markdown",
      "metadata": {
        "colab_type": "text",
        "id": "QCe6jFV_jz2M"
      },
      "source": [
        "<!-- \n",
        "plt.plot(df.X,df.Y,'ro')\n",
        "x=sp.linspace(df.X.min(),df.X.max() )\n",
        "plt.plot(x, sp.interpolate.interp1d(df.X,df.Y,kind=1)(x),label='linear')\n",
        "plt.plot(x, sp.interpolate.interp1d(df.X,df.Y,kind=2)(x),label='qudratic')\n",
        "plt.legend()\n",
        "plt.grid()\n",
        "plt.xlabel( \"$x$\",size=15 )\n",
        "plt.ylabel( \"$y$\",size=15 )\n",
        "plt.xlim(-8,30)\n",
        "plt.ylim(-15,20)\n",
        "-->"
      ]
    },
    {
      "cell_type": "markdown",
      "metadata": {
        "colab_type": "text",
        "id": "473B0wvREZXN"
      },
      "source": [
        "### Interpolation with `numpy`\n",
        "`numpy` already include an interpolation function with polynomials called `np.polyfit`"
      ]
    },
    {
      "cell_type": "code",
      "metadata": {
        "colab_type": "code",
        "id": "7Y1-HKaFEZXN",
        "colab": {}
      },
      "source": [
        "np.polyfit?"
      ],
      "execution_count": null,
      "outputs": []
    },
    {
      "cell_type": "markdown",
      "metadata": {
        "colab_type": "text",
        "id": "YqD87C61jz2P"
      },
      "source": [
        "To fit a set of `x` and `y` we need to specify the degree of the polynial to make the fit with the madatory argument: `deg`"
      ]
    },
    {
      "cell_type": "markdown",
      "metadata": {
        "colab_type": "text",
        "id": "a8l2s1ZDjz2Q"
      },
      "source": [
        "__Example__: fit the points of the previous DataFrame with a polynomial of degree 3"
      ]
    },
    {
      "cell_type": "code",
      "metadata": {
        "colab_type": "code",
        "id": "fk00t2uDEZXP",
        "colab": {}
      },
      "source": [
        "coeffs=np.polyfit(df.X,df.Y,deg=2)"
      ],
      "execution_count": null,
      "outputs": []
    },
    {
      "cell_type": "code",
      "metadata": {
        "colab_type": "code",
        "id": "Jjo6Xezsjz2U",
        "colab": {
          "base_uri": "https://localhost:8080/",
          "height": 34
        },
        "outputId": "b7ee15e1-da50-490a-cf22-ae5e1c3646bb"
      },
      "source": [
        "np.poly1d(coeffs).roots"
      ],
      "execution_count": null,
      "outputs": [
        {
          "output_type": "execute_result",
          "data": {
            "text/plain": [
              "array([22.2373041 ,  0.26724135])"
            ]
          },
          "metadata": {
            "tags": []
          },
          "execution_count": 27
        }
      ]
    },
    {
      "cell_type": "code",
      "metadata": {
        "colab_type": "code",
        "id": "bmIVN0hzEZXQ",
        "colab": {
          "base_uri": "https://localhost:8080/",
          "height": 51
        },
        "outputId": "d1d4d3fc-2f37-40d6-b4dc-5089ffd9487a"
      },
      "source": [
        "print(np.poly1d(coeffs))"
      ],
      "execution_count": null,
      "outputs": [
        {
          "output_type": "stream",
          "text": [
            "         2\n",
            "-0.1522 x + 3.425 x - 0.9043\n"
          ],
          "name": "stdout"
        }
      ]
    },
    {
      "cell_type": "code",
      "metadata": {
        "colab_type": "code",
        "id": "O8F-k_NxEZXT",
        "colab": {
          "base_uri": "https://localhost:8080/",
          "height": 286
        },
        "outputId": "46d14de8-926d-4f4f-ba1a-aa38b2153d6b"
      },
      "source": [
        "P=np.poly1d(coeffs)\n",
        "plt.plot(df.X,df.Y,'ro')\n",
        "x=np.linspace(-8,30,100)\n",
        "plt.plot(x,P( x),'b-')\n",
        "plt.grid()\n",
        "plt.ylim(-20,20)"
      ],
      "execution_count": null,
      "outputs": [
        {
          "output_type": "execute_result",
          "data": {
            "text/plain": [
              "(-20.0, 20.0)"
            ]
          },
          "metadata": {
            "tags": []
          },
          "execution_count": 30
        },
        {
          "output_type": "display_data",
          "data": {
            "image/png": "[encoded data removed]",
            "text/plain": [
              "<Figure size 432x288 with 1 Axes>"
            ]
          },
          "metadata": {
            "tags": []
          }
        }
      ]
    },
    {
      "cell_type": "markdown",
      "metadata": {
        "colab_type": "text",
        "id": "63FIku-BEZXX"
      },
      "source": [
        "## Example: Least action\n",
        "see Least action Notebook: [[local]](./least_action.ipynb) [[GitHub]](https://github.com/restrepo/ComputationalMethods/blob/master/material/least_action.ipynb) "
      ]
    },
    {
      "cell_type": "code",
      "metadata": {
        "colab_type": "code",
        "id": "uFPhevxyEZXY",
        "colab": {}
      },
      "source": [
        "np.poly1d?"
      ],
      "execution_count": null,
      "outputs": []
    },
    {
      "cell_type": "markdown",
      "metadata": {
        "colab_type": "text",
        "id": "oKqUP0SaEZXZ"
      },
      "source": [
        "# Lagrange Polynomial"
      ]
    },
    {
      "cell_type": "markdown",
      "metadata": {
        "colab_type": "text",
        "id": "P09CyJ2SEZXa"
      },
      "source": [
        "Algebraic polynomials are very special functions as they have properties like differentiability (unlike linear interpolation) and continuity that make them useful for approximations like interpolation. A Polynomial is defined as a function given by the general expression:\n",
        "\n",
        "$$P_n(x) = a_nx^n + a_{n-1}x^{n-1} + \\cdots + a_1 x + a_0$$\n",
        "\n",
        "where $n$ is the polynomial degree.\n",
        "\n",
        "Another important property of polynomials is given by the [Weierstrass Approximation Theorem](http://en.wikipedia.org/wiki/Stone%E2%80%93Weierstrass_theorem), which states given a cotinuous function $f$ defined on a interval $[a,b]$, for all $\\epsilon >0$, there exits a polynomial $P(x)$ such that\n",
        "\n",
        "$$|f(x) - P(x)|<\\epsilon\\ \\ \\ \\ \\  \\mbox{for all }\\ x\\ \\mbox{ in }\\ [a,b].$$\n",
        "\n",
        "This theorem guarantees the existence of such a polynomial, however it is necessary to propose a scheme to build it."
      ]
    },
    {
      "cell_type": "code",
      "metadata": {
        "colab_type": "code",
        "id": "X8U0VfLjEZXa",
        "colab": {
          "base_uri": "https://localhost:8080/",
          "height": 110
        },
        "outputId": "676dc519-d056-4c02-d362-185158372d51"
      },
      "source": [
        "import pandas as pd\n",
        "df=pd.DataFrame({ 'X':[3,21.3],\n",
        "                  'Y':[8.,3.]\n",
        "                 }  \n",
        "                )\n",
        "df"
      ],
      "execution_count": null,
      "outputs": [
        {
          "output_type": "execute_result",
          "data": {
            "text/html": [
              "<div>\n",
              "<style scoped>\n",
              "    .dataframe tbody tr th:only-of-type {\n",
              "        vertical-align: middle;\n",
              "    }\n",
              "\n",
              "    .dataframe tbody tr th {\n",
              "        vertical-align: top;\n",
              "    }\n",
              "\n",
              "    .dataframe thead th {\n",
              "        text-align: right;\n",
              "    }\n",
              "</style>\n",
              "<table border=\"1\" class=\"dataframe\">\n",
              "  <thead>\n",
              "    <tr style=\"text-align: right;\">\n",
              "      <th></th>\n",
              "      <th>X</th>\n",
              "      <th>Y</th>\n",
              "    </tr>\n",
              "  </thead>\n",
              "  <tbody>\n",
              "    <tr>\n",
              "      <th>0</th>\n",
              "      <td>3.0</td>\n",
              "      <td>8.0</td>\n",
              "    </tr>\n",
              "    <tr>\n",
              "      <th>1</th>\n",
              "      <td>21.3</td>\n",
              "      <td>3.0</td>\n",
              "    </tr>\n",
              "  </tbody>\n",
              "</table>\n",
              "</div>"
            ],
            "text/plain": [
              "      X    Y\n",
              "0   3.0  8.0\n",
              "1  21.3  3.0"
            ]
          },
          "metadata": {
            "tags": []
          },
          "execution_count": 19
        }
      ]
    },
    {
      "cell_type": "code",
      "metadata": {
        "colab_type": "code",
        "id": "qS_89FJWEZXd",
        "colab": {
          "base_uri": "https://localhost:8080/",
          "height": 265
        },
        "outputId": "c2c6cff1-a0ff-48bd-a618-581a9dc64410"
      },
      "source": [
        "plt.plot(df.X,df.Y,'ro')\n",
        "plt.grid()"
      ],
      "execution_count": null,
      "outputs": [
        {
          "output_type": "display_data",
          "data": {
            "image/png": "[encoded data removed]",
            "text/plain": [
              "<Figure size 432x288 with 1 Axes>"
            ]
          },
          "metadata": {
            "tags": []
          }
        }
      ]
    },
    {
      "cell_type": "markdown",
      "metadata": {
        "colab_type": "text",
        "id": "1Kv8QCJpEZXf"
      },
      "source": [
        "Polinomio de interp. de grado <font color=\"blue\">0</font>"
      ]
    },
    {
      "cell_type": "code",
      "metadata": {
        "colab_type": "code",
        "id": "vDmLxerpEZXf",
        "colab": {
          "base_uri": "https://localhost:8080/",
          "height": 303
        },
        "outputId": "6b846d93-a28d-4f72-e02c-bd559e7205b1"
      },
      "source": [
        "coeffs=np.polyfit(df.X,df.Y,deg=0)\n",
        "\n",
        "P=np.poly1d(coeffs)\n",
        "plt.plot(df.X,df.Y,'ro')\n",
        "x=np.linspace(-8,30)\n",
        "plt.plot(x,P( x),'b-')\n",
        "plt.grid()\n",
        "plt.ylim(0,12)\n",
        "\n",
        "print(np.poly1d(coeffs))"
      ],
      "execution_count": null,
      "outputs": [
        {
          "output_type": "stream",
          "text": [
            " \n",
            "5.5\n"
          ],
          "name": "stdout"
        },
        {
          "output_type": "display_data",
          "data": {
            "image/png": "[encoded data removed]",
            "text/plain": [
              "<Figure size 432x288 with 1 Axes>"
            ]
          },
          "metadata": {
            "tags": []
          }
        }
      ]
    },
    {
      "cell_type": "markdown",
      "metadata": {
        "colab_type": "text",
        "id": "7Sh-xNwBEZXg"
      },
      "source": [
        "Polinomio de interp. de grado <font color=\"blue\">1</font>"
      ]
    },
    {
      "cell_type": "code",
      "metadata": {
        "colab_type": "code",
        "id": "3GUuXGJDEZXh",
        "colab": {
          "base_uri": "https://localhost:8080/",
          "height": 303
        },
        "outputId": "f3fadba7-0ecd-4964-901a-04f83470a134"
      },
      "source": [
        "coeffs=np.polyfit(df.X,df.Y,deg=1)\n",
        "\n",
        "P=np.poly1d(coeffs)\n",
        "plt.plot(df.X,df.Y,'ro')\n",
        "x=np.linspace(-8,30)\n",
        "plt.plot(x,P( x),'b-')\n",
        "plt.grid()\n",
        "plt.ylim(0,12)\n",
        "\n",
        "print(np.poly1d(coeffs))"
      ],
      "execution_count": null,
      "outputs": [
        {
          "output_type": "stream",
          "text": [
            " \n",
            "-0.2732 x + 8.82\n"
          ],
          "name": "stdout"
        },
        {
          "output_type": "display_data",
          "data": {
            "image/png": "[encoded data removed]",
            "text/plain": [
              "<Figure size 432x288 with 1 Axes>"
            ]
          },
          "metadata": {
            "tags": []
          }
        }
      ]
    },
    {
      "cell_type": "markdown",
      "metadata": {
        "colab_type": "text",
        "id": "3XW4YY3_EZXk"
      },
      "source": [
        "Polinomio de interp. de grado <font color=\"blue\">2</font>"
      ]
    },
    {
      "cell_type": "code",
      "metadata": {
        "colab_type": "code",
        "id": "-B1dOzcAEZXl",
        "colab": {
          "base_uri": "https://localhost:8080/",
          "height": 358
        },
        "outputId": "a0d6608a-57ff-47d1-eab3-da42e3634f81"
      },
      "source": [
        "coeffs=np.polyfit(df.X,df.Y,deg=2)\n",
        "\n",
        "P=np.poly1d(coeffs)\n",
        "plt.plot(df.X,df.Y,'ro')\n",
        "x=np.linspace(-8,30)\n",
        "plt.plot(x,P( x),'b-')\n",
        "plt.grid()\n",
        "plt.ylim(0,12)\n",
        "\n",
        "print(np.poly1d(coeffs))"
      ],
      "execution_count": null,
      "outputs": [
        {
          "output_type": "stream",
          "text": [
            "           2\n",
            "-0.008617 x - 0.06383 x + 8.269\n"
          ],
          "name": "stdout"
        },
        {
          "output_type": "stream",
          "text": [
            "/usr/local/lib/python3.6/dist-packages/IPython/core/interactiveshell.py:2882: RankWarning: Polyfit may be poorly conditioned\n",
            "  exec(code_obj, self.user_global_ns, self.user_ns)\n"
          ],
          "name": "stderr"
        },
        {
          "output_type": "display_data",
          "data": {
            "image/png": "[encoded data removed]",
            "text/plain": [
              "<Figure size 432x288 with 1 Axes>"
            ]
          },
          "metadata": {
            "tags": []
          }
        }
      ]
    },
    {
      "cell_type": "code",
      "metadata": {
        "colab_type": "code",
        "id": "bVUgkRx8EZXn",
        "colab": {
          "base_uri": "https://localhost:8080/",
          "height": 141
        },
        "outputId": "005d71b7-4e58-4c82-aeea-084c00d5bc03"
      },
      "source": [
        "df=df.append({'X':10,'Y':6.5},ignore_index=True).sort_values('X')\n",
        "df.to_csv('../data/interpolation.csv',index=False)\n",
        "df"
      ],
      "execution_count": null,
      "outputs": [
        {
          "output_type": "execute_result",
          "data": {
            "text/html": [
              "<div>\n",
              "<style scoped>\n",
              "    .dataframe tbody tr th:only-of-type {\n",
              "        vertical-align: middle;\n",
              "    }\n",
              "\n",
              "    .dataframe tbody tr th {\n",
              "        vertical-align: top;\n",
              "    }\n",
              "\n",
              "    .dataframe thead th {\n",
              "        text-align: right;\n",
              "    }\n",
              "</style>\n",
              "<table border=\"1\" class=\"dataframe\">\n",
              "  <thead>\n",
              "    <tr style=\"text-align: right;\">\n",
              "      <th></th>\n",
              "      <th>X</th>\n",
              "      <th>Y</th>\n",
              "    </tr>\n",
              "  </thead>\n",
              "  <tbody>\n",
              "    <tr>\n",
              "      <th>0</th>\n",
              "      <td>3.0</td>\n",
              "      <td>8.0</td>\n",
              "    </tr>\n",
              "    <tr>\n",
              "      <th>2</th>\n",
              "      <td>10.0</td>\n",
              "      <td>6.5</td>\n",
              "    </tr>\n",
              "    <tr>\n",
              "      <th>1</th>\n",
              "      <td>21.3</td>\n",
              "      <td>3.0</td>\n",
              "    </tr>\n",
              "  </tbody>\n",
              "</table>\n",
              "</div>"
            ],
            "text/plain": [
              "      X    Y\n",
              "0   3.0  8.0\n",
              "2  10.0  6.5\n",
              "1  21.3  3.0"
            ]
          },
          "metadata": {
            "tags": []
          },
          "execution_count": 20
        }
      ]
    },
    {
      "cell_type": "code",
      "metadata": {
        "colab_type": "code",
        "id": "MGNua9-REZXo",
        "colab": {
          "base_uri": "https://localhost:8080/",
          "height": 303
        },
        "outputId": "89115b32-35e1-45f5-9b10-1f0cb3467423"
      },
      "source": [
        "coeffs=np.polyfit(df.X,df.Y,deg=2)\n",
        "\n",
        "P=np.poly1d(coeffs)\n",
        "plt.plot(df.X,df.Y,'ro')\n",
        "x=np.linspace(-8,30)\n",
        "plt.plot(x,P( x),'b-')\n",
        "plt.grid()\n",
        "plt.ylim(0,12)\n",
        "\n",
        "print(np.poly1d(coeffs))"
      ],
      "execution_count": null,
      "outputs": [
        {
          "output_type": "stream",
          "text": [
            "           2\n",
            "-0.005216 x - 0.1465 x + 8.486\n"
          ],
          "name": "stdout"
        },
        {
          "output_type": "display_data",
          "data": {
            "image/png": "[encoded data removed]",
            "text/plain": [
              "<Figure size 432x288 with 1 Axes>"
            ]
          },
          "metadata": {
            "tags": []
          }
        }
      ]
    },
    {
      "cell_type": "code",
      "metadata": {
        "colab_type": "code",
        "id": "XqX2NSmUEZXq",
        "colab": {
          "base_uri": "https://localhost:8080/",
          "height": 51
        },
        "outputId": "3bb4a6a6-0f22-49ef-8dec-32d0a04e39ae"
      },
      "source": [
        "print(np.poly1d(coeffs))"
      ],
      "execution_count": null,
      "outputs": [
        {
          "output_type": "stream",
          "text": [
            "           2\n",
            "-0.005216 x - 0.1465 x + 8.486\n"
          ],
          "name": "stdout"
        }
      ]
    },
    {
      "cell_type": "markdown",
      "metadata": {
        "colab_type": "text",
        "id": "jN_ZqgxNEZXs"
      },
      "source": [
        "## Derivation"
      ]
    },
    {
      "cell_type": "markdown",
      "metadata": {
        "colab_type": "text",
        "id": "d2qULdqzEZXt"
      },
      "source": [
        "Let's suppose a well-behaved yet unknown function $f$ and two points $(x_0,y_0)$ and $(x_1,y_1)$ for which $f(x_0) = y_0$ and $f(x_1) = y_1$. With this information we can build a first-degree polynomial that passes through both points by using the last equation in sec. [Linear Interpolation](interpolation.ipynb#Linear-Interpolation), we have\n",
        "\n",
        "$$P_1(x) = \\left[ \\frac{y_{1}-y_0}{x_{1}-x_0} \\right]x + \\left[ y_0 - \\frac{y_{1}-y_0}{x_{1}-x_0}x_0 \\right]$$\n",
        "\n",
        "We can readily rewrite this expression like:\n",
        "\\begin{align}\n",
        "P_1(x) =& \\frac{y_{1}}{x_{1}-x_0} x- \\frac{y_0}{x_{1}-x_0} x + y_0 -\\frac{y_{1}}{x_{1}-x_0}x_0 +  \\frac{y_0}{x_{1}-x_0}x_0 \\nonumber\\\\\n",
        "=& \\left[1 - \\frac{x}{x_{1}-x_0}  +  \\frac{x_0}{x_{1}-x_0}\\right]y_0+\n",
        "\\left[\\frac{x}{x_{1}-x_0}  -\\frac{x_0}{x_{1}-x_0}\\right]y_1    \\nonumber\\\\\n",
        " =& \\left[\\frac{x_1-x_0}{x_{1}-x_0} - \\frac{x}{x_{1}-x_0}  +  \\frac{x_0}{x_{1}-x_0}\\right]y_0+\n",
        "\\left[\\frac{x}{x_{1}-x_0}  -\\frac{x_0}{x_{1}-x_0}\\right]y_1    \\nonumber\\\\\n",
        "=& \\left[\\frac{x_1-x}{x_{1}-x_0}\\right]y_0+\n",
        "\\left[\\frac{x-x_0}{x_{1}-x_0}\\right]y_1    \\,.\n",
        "\\end{align}\n",
        "In this way\n",
        "$$P_1(x) = L_0(x)f(x_0) + L_1(x)f(x_1)$$\n",
        "\n",
        "where we define the functions $L_0(x)$ and $L_1(x)$ as:\n",
        "\n",
        "$$L_0(x) = \\frac{x-x_1}{x_0-x_1} \\mbox{ and } L_1(x) = \\frac{x-x_0}{x_1-x_0}$$\n",
        "\n",
        "Note that\n",
        "\n",
        "$$L_0(x_0) = 1,\\ \\ \\ L_0(x_1) = 0,\\ \\ \\ L_1(x_0) = 0,\\ \\ \\ L_1(x_1) = 1$$\n",
        "\n",
        "implying:\n",
        "\n",
        "$$P_1(x_0) = f(x_0) = y_0$$\n",
        "\n",
        "$$P_1(x_1) = f(x_1) = y_1$$\n",
        "\n",
        "Although all this procedure may seem unnecessary for a polynomial of degree 1, a generalization to polynomials of larger degrees is now possible."
      ]
    },
    {
      "cell_type": "markdown",
      "metadata": {
        "colab_type": "text",
        "id": "t5benGvIEZXt"
      },
      "source": [
        "## General case\n",
        "Let's assume again a well-behaved and unknown function $f$ sampled by using a set of $n+1$ data $(x_m,y_m)$ ($0\\leq m \\leq n$).\n",
        "We call the set of $[x_0,x_1,\\ldots,x_n]$ as the _node_ points of the _interpolation polynomial in the Lagrange form_, $P_n(x)$, where:\n",
        "$$f(x)\\approx P_n(x)\\,,$$\n",
        "\n",
        "$$P_n(x) = \\sum_{i=0}^n f(x_i)L_{n,i}(x) = \\sum_{i=0}^n y_iL_{n,i}(x)$$\n",
        "\n",
        "We need to find the _Lagrange polynomials_,  $L_{n,i}(x)$, such that \n",
        "$$L_{n,i}(x_i) = 1\\,,\\qquad\\text{and}\\,,\\qquad L_{n,i}(x_j) = 0\\quad\\text{for $i\\neq j$}$$ \n",
        "A function that satisfies this criterion is\n",
        "\n",
        "$$L_{n,i}(x) = \\prod_{\\begin{smallmatrix}m=0\\\\ m\\neq i\\end{smallmatrix}}^n \\frac{x-x_m}{x_i-x_m} =\\frac{(x-x_0)}{(x_i-x_0)}\\frac{(x-x_1)}{(x_i-x_1)}\\cdots \\frac{(x-x_{i-1})}{(x_i-x_{i-1})}\\underbrace{\\frac{}{}}_{m\\ne i}\n",
        "\\frac{(x-x_{i+1})}{(x_i-x_{i+1})} \\cdots \\frac{(x-x_{n-1})}{(x_i-x_{n-1})}\\frac{(x-x_n)}{(x_i-x_n)}  $$\n",
        "Please note that in the expansion the term $(x-x_i)$ does not appears in both the numerator and the denominator as stablished in the productory condition $m\\neq i$.\n",
        "\n",
        "Moreower\n",
        "$$L_{n,i}(x_i) = \\prod_{\\begin{smallmatrix}m=0\\\\ m\\neq i\\end{smallmatrix}}^n \\frac{x_i-x_m}{x_i-x_m} =1$$\n",
        "and, for $j\\ne i$\n",
        "$$L_{n,i}(x_j) = \\prod_{\\begin{smallmatrix}m=0\\\\ m\\neq i\\end{smallmatrix}}^n \\frac{x_j-x_m}{x_i-x_m} =\\frac{(x_j-x_0)}{(x_i-x_0)}\\cdots \\frac{(\\boldsymbol{x_j}-\\boldsymbol{x_j})}{(x_i-x_j)}\\cdots\\frac{(x_j-x_n)}{(x_i-x_n)}=0.$$\n",
        "\n",
        "\n",
        "Then, the polynomial of $n$th-degree $P_n(x)$ will satisfy the definitory property for a interpolating polynomial, i.e. $P_n(x_i) = y_i$ for any $i$ and it is called the _interpolation Polynomial in the Lagrange form_.\n",
        "\n",
        "Check [this implementation in sympy](./LagrangePoly.ipynb) [[View in Colaboratory](https://colab.research.google.com/github/restrepo/ComputationalMethods/blob/master/material/LagrangePoly.ipynb)] where both the interpolating polynomial and the Lagrange polynomials are defined.\n",
        "\n",
        "**Further details at:**\n",
        "[Wikipedia](https://en.wikipedia.org/wiki/Lagrange_polynomial)"
      ]
    },
    {
      "cell_type": "markdown",
      "metadata": {
        "colab_type": "text",
        "id": "HAld-e8YEZXu"
      },
      "source": [
        "### Example:\n",
        "Obtain the Lagrange Polynomials for a Interpolation polynomial of degree 1."
      ]
    },
    {
      "cell_type": "markdown",
      "metadata": {
        "colab_type": "text",
        "id": "9WWq5hcOEZXu"
      },
      "source": [
        "$i=0$, $n=1$\n",
        "$$ L_{1,0}=\\prod_{\\begin{smallmatrix}m=0\\\\ m\\neq 0\\end{smallmatrix}}^1 \\frac{x-x_m}{x_i-x_m}=\\prod_{\\begin{smallmatrix}m=1\\end{smallmatrix}}^1 \\frac{x-x_m}{x_0-x_m}=\\frac{x-x_1}{x_0-x_1}$$\n",
        "$i=i$, $n=1$\n",
        "$$ L_{1,1}=\\prod_{\\begin{smallmatrix}m=0\\\\ m\\neq 1\\end{smallmatrix}}^1 \\frac{x-x_m}{x_i-x_m}=\\prod_{\\begin{smallmatrix}m=0\\end{smallmatrix}}^0 \\frac{x-x_m}{x_1-x_m}=\\frac{x-x_0}{x_1-x_0}$$"
      ]
    },
    {
      "cell_type": "markdown",
      "metadata": {
        "colab_type": "text",
        "id": "me-qxh8sEZXv"
      },
      "source": [
        "### Exercise-interpolation\n",
        "Obtain the Lagrange Polynomials for a Interpolation polynomial of degree 2."
      ]
    },
    {
      "cell_type": "markdown",
      "metadata": {
        "colab_type": "text",
        "id": "QrN1hmlnEZXv"
      },
      "source": [
        "### Implementation in Scipy"
      ]
    },
    {
      "cell_type": "code",
      "metadata": {
        "colab_type": "code",
        "id": "IRQNq9xrEZXw",
        "colab": {}
      },
      "source": [
        "from scipy import interpolate"
      ],
      "execution_count": null,
      "outputs": []
    },
    {
      "cell_type": "code",
      "metadata": {
        "colab_type": "code",
        "id": "SP7TER3gEZXy",
        "colab": {}
      },
      "source": [
        "interpolate.lagrange?"
      ],
      "execution_count": null,
      "outputs": []
    },
    {
      "cell_type": "code",
      "metadata": {
        "colab_type": "code",
        "id": "-p_85Kiz5Xi-",
        "colab": {
          "base_uri": "https://localhost:8080/",
          "height": 141
        },
        "outputId": "f6fe740e-5ba0-4407-d20f-50672c7926ef"
      },
      "source": [
        "df"
      ],
      "execution_count": null,
      "outputs": [
        {
          "output_type": "execute_result",
          "data": {
            "text/html": [
              "<div>\n",
              "<style scoped>\n",
              "    .dataframe tbody tr th:only-of-type {\n",
              "        vertical-align: middle;\n",
              "    }\n",
              "\n",
              "    .dataframe tbody tr th {\n",
              "        vertical-align: top;\n",
              "    }\n",
              "\n",
              "    .dataframe thead th {\n",
              "        text-align: right;\n",
              "    }\n",
              "</style>\n",
              "<table border=\"1\" class=\"dataframe\">\n",
              "  <thead>\n",
              "    <tr style=\"text-align: right;\">\n",
              "      <th></th>\n",
              "      <th>X</th>\n",
              "      <th>Y</th>\n",
              "    </tr>\n",
              "  </thead>\n",
              "  <tbody>\n",
              "    <tr>\n",
              "      <th>0</th>\n",
              "      <td>3.0</td>\n",
              "      <td>8.0</td>\n",
              "    </tr>\n",
              "    <tr>\n",
              "      <th>2</th>\n",
              "      <td>10.0</td>\n",
              "      <td>6.5</td>\n",
              "    </tr>\n",
              "    <tr>\n",
              "      <th>1</th>\n",
              "      <td>21.3</td>\n",
              "      <td>3.0</td>\n",
              "    </tr>\n",
              "  </tbody>\n",
              "</table>\n",
              "</div>"
            ],
            "text/plain": [
              "      X    Y\n",
              "0   3.0  8.0\n",
              "2  10.0  6.5\n",
              "1  21.3  3.0"
            ]
          },
          "metadata": {
            "tags": []
          },
          "execution_count": 21
        }
      ]
    },
    {
      "cell_type": "code",
      "metadata": {
        "colab_type": "code",
        "id": "YkHQHYglEZXz",
        "colab": {
          "base_uri": "https://localhost:8080/",
          "height": 51
        },
        "outputId": "a8272714-15a7-472b-9c11-25a259a3ac9d"
      },
      "source": [
        "P=interpolate.lagrange(df.X,df.Y)\n",
        "print(P)"
      ],
      "execution_count": null,
      "outputs": [
        {
          "output_type": "stream",
          "text": [
            "           2\n",
            "-0.005216 x - 0.1465 x + 8.486\n"
          ],
          "name": "stdout"
        }
      ]
    },
    {
      "cell_type": "code",
      "metadata": {
        "colab_type": "code",
        "id": "7Tyn6kv0EZX0",
        "colab": {},
        "outputId": "03a84f18-fa87-43d9-d69c-b419bbfd9e3c"
      },
      "source": [
        "plt.plot(df.X,df.Y,'ro')\n",
        "x=np.linspace(-8,30)\n",
        "plt.plot(x,P( x),'b-')\n",
        "plt.grid()\n",
        "plt.ylim(0,12)"
      ],
      "execution_count": null,
      "outputs": [
        {
          "output_type": "execute_result",
          "data": {
            "text/plain": [
              "(0, 12)"
            ]
          },
          "metadata": {
            "tags": []
          },
          "execution_count": 159
        },
        {
          "output_type": "display_data",
          "data": {
            "image/png": "[encoded data removed]",
            "text/plain": [
              "<Figure size 432x288 with 1 Axes>"
            ]
          },
          "metadata": {
            "tags": []
          }
        }
      ]
    },
    {
      "cell_type": "markdown",
      "metadata": {
        "colab_type": "text",
        "id": "WSrNnaKcEZX2"
      },
      "source": [
        "### Implementation in `sympy`\n",
        "For details see [here](./LagrangePoly.ipynb)"
      ]
    },
    {
      "cell_type": "code",
      "metadata": {
        "id": "JviLtz2_CMve",
        "colab_type": "code",
        "colab": {},
        "outputId": "f063edbc-bf07-407d-895f-f838baca594d"
      },
      "source": [
        "%pylab inline"
      ],
      "execution_count": null,
      "outputs": [
        {
          "output_type": "stream",
          "text": [
            "Populating the interactive namespace from numpy and matplotlib\n"
          ],
          "name": "stdout"
        },
        {
          "output_type": "stream",
          "text": [
            "/usr/local/lib/python3.5/dist-packages/IPython/core/magics/pylab.py:160: UserWarning: pylab import has clobbered these variables: ['f']\n",
            "`%matplotlib` prevents importing * from pylab and numpy\n",
            "  \"\\n`%matplotlib` prevents importing * from pylab and numpy\"\n"
          ],
          "name": "stderr"
        }
      ]
    },
    {
      "cell_type": "code",
      "metadata": {
        "id": "FS8GxJa6CMvs",
        "colab_type": "code",
        "colab": {}
      },
      "source": [
        "df=pd.read_csv('https://github.com/restrepo/ComputationalMethods/raw/master/data/interpolation.csv')"
      ],
      "execution_count": null,
      "outputs": []
    },
    {
      "cell_type": "code",
      "metadata": {
        "colab_type": "code",
        "id": "0VOIS4fJEZX3",
        "colab": {},
        "outputId": "91f56066-10ac-4c21-84cf-c0cd76bab274"
      },
      "source": [
        "import LagrangePolynomial as LP\n",
        "LP.lagrangePolynomial(df.X,df.Y)"
      ],
      "execution_count": null,
      "outputs": [
        {
          "output_type": "execute_result",
          "data": {
            "text/latex": "$\\displaystyle - 0.00521578136549848 x^{2} - 0.146480556534234 x + 8.48638370189219$",
            "text/plain": [
              "-0.00521578136549848*x**2 - 0.146480556534234*x + 8.48638370189219"
            ]
          },
          "metadata": {
            "tags": []
          },
          "execution_count": 8
        }
      ]
    },
    {
      "cell_type": "markdown",
      "metadata": {
        "colab_type": "text",
        "id": "2_6up-MlEZX6"
      },
      "source": [
        "$$P_n(x) =  \\sum_{i=0}^n L_{n,i}(x) \\, y_i$$"
      ]
    },
    {
      "cell_type": "code",
      "metadata": {
        "colab_type": "code",
        "id": "mh1rbre7EZX6",
        "colab": {},
        "outputId": "c919803b-049e-49be-c8d8-124ed9695410"
      },
      "source": [
        "LP.polyL( df.X,0)*df.Y[0]+LP.polyL( df.X,1)*df.Y[1]+LP.polyL( df.X,2)*df.Y[2]"
      ],
      "execution_count": null,
      "outputs": [
        {
          "output_type": "execute_result",
          "data": {
            "text/latex": "$\\displaystyle - 0.00521578136549848 x^{2} - 0.146480556534234 x + 8.48638370189219$",
            "text/plain": [
              "-0.00521578136549848*x**2 - 0.146480556534234*x + 8.48638370189219"
            ]
          },
          "metadata": {
            "tags": []
          },
          "execution_count": 9
        }
      ]
    },
    {
      "cell_type": "markdown",
      "metadata": {
        "colab_type": "text",
        "id": "FEj64uDmEZX8"
      },
      "source": [
        "## Steps LP"
      ]
    },
    {
      "cell_type": "markdown",
      "metadata": {
        "colab_type": "text",
        "id": "t6ks3grEEZX8"
      },
      "source": [
        "Once defined the formal procedure for constructing a Lagrange Polynomial, we proceed to describe the explicit algorithm:\n",
        "\n",
        "1. Give the working dataset $(x_i, y_i)$ and stablish how many points you have.\n",
        "2. Define the functions $L_{n,i}(x)$ in a general way.\n",
        "3. Add each of those terms as shown in last expression.\n",
        "4. Evaluate your result wherever you want."
      ]
    },
    {
      "cell_type": "markdown",
      "metadata": {
        "colab_type": "text",
        "id": "FbuCBnS4EZX9"
      },
      "source": [
        "**Activity**\n",
        "\n",
        "Along with the professor, write an implementation of the previous algorithm during classtime."
      ]
    },
    {
      "cell_type": "markdown",
      "metadata": {
        "colab_type": "text",
        "id": "-1r8xBk8EZX9"
      },
      "source": [
        "## Activity LP"
      ]
    },
    {
      "cell_type": "markdown",
      "metadata": {
        "colab_type": "text",
        "id": "ZkuEZPFTEZX-"
      },
      "source": [
        "<div style=\"float: right;\" markdown=\"1\">\n",
        "    <img src=\"http://universe-review.ca/I05-28-NGC7331.jpg\">\n",
        "</div>\n",
        "\n",
        "One of the very first evidences of the existence of dark matter was the flat rotation curves of spiral galaxies. If we assume the total budget of mass of a galaxy is entirely made of luminous matter, the orbital circular velocity of stars around the galaxy plane should decay according to a keplerian potential. However this is not the case and the circular velocity barely decreases at larger radius, thus indicating the presence of a new non-visible matter component (dark matter). When it is necessary to determine how massive is the dark matter halo embedding a galaxy, an integration of the circular velocity is required. Nevertheless, due to the finite array of a CCD camera, only a discrete set of velocities can be measured and interpolation techniques are required.\n",
        "\n",
        "\n",
        "In this activity we will take a discrete dataset of the circular velocity as a function of the radius for the galaxy [NGC 7331](http://es.wikipedia.org/wiki/NGC_7331) and perform both, a linear and a Lagrange interpolation. You can download the dataset from this [link](https://raw.githubusercontent.com/sbustamante/ComputationalMethods/master/data/NGC7331.dat).\n"
      ]
    },
    {
      "cell_type": "markdown",
      "metadata": {
        "colab_type": "text",
        "id": "6BmEFS28EZX_"
      },
      "source": [
        "[Video](https://upload.wikimedia.org/wikipedia/commons/transcoded/3/33/Galaxy_rotation_under_the_influence_of_dark_matter.ogv/Galaxy_rotation_under_the_influence_of_dark_matter.ogv.360p.webm)"
      ]
    },
    {
      "cell_type": "markdown",
      "metadata": {
        "colab_type": "text",
        "id": "fseOFy-DEZX_"
      },
      "source": [
        "<font color='blue'>\n",
        "**TRIVIA**<br/> \n",
        "To which of two curves the real data approach better?\n",
        "</font>"
      ]
    },
    {
      "cell_type": "markdown",
      "metadata": {
        "colab_type": "text",
        "id": "XaM0WuPQEZX_"
      },
      "source": [
        "import os\n",
        "os.remove('trivia_results.txt')"
      ]
    },
    {
      "cell_type": "code",
      "metadata": {
        "colab_type": "code",
        "id": "pcbVK4pkEZX_",
        "colab": {},
        "outputId": "c24c3075-c96b-4809-b64a-f3ce6b049926"
      },
      "source": [
        "f=open('trivia_results.txt','a')\n",
        "AB=input(r'''A: to the curve \"velocity goes to zero when distance goes to infinity\"\n",
        "B: to the curve \"velocity goes to high constant when distance goes to infinity\"\n",
        "''')\n",
        "f.write( '{}\\n'.format(AB) )\n",
        "f.close()"
      ],
      "execution_count": null,
      "outputs": [
        {
          "output_type": "stream",
          "text": [
            "A: to the curve \"velocity goes to zero when distance goes to infinity\"\n",
            "B: to the curve \"velocity goes to high constant when distance goes to infinity\"\n",
            " A\n"
          ],
          "name": "stdin"
        }
      ]
    },
    {
      "cell_type": "code",
      "metadata": {
        "colab_type": "code",
        "id": "xQ1a6G2ZEZYB",
        "colab": {},
        "outputId": "be642608-3aa3-4645-c2d7-a93e5e8bd029"
      },
      "source": [
        "fr=open('trivia_results.txt')\n",
        "print( fr.read())\n",
        "fr.close()"
      ],
      "execution_count": null,
      "outputs": [
        {
          "output_type": "stream",
          "text": [
            "C\n",
            "A\n",
            "\n"
          ],
          "name": "stdout"
        }
      ]
    },
    {
      "cell_type": "markdown",
      "metadata": {
        "colab_type": "text",
        "id": "WsMD7hIjEZYD"
      },
      "source": [
        "os.remove('trivia_results.txt')"
      ]
    },
    {
      "cell_type": "markdown",
      "metadata": {
        "colab_type": "text",
        "id": "IAYkvn-_EZYD"
      },
      "source": [
        "### Lets us check! "
      ]
    },
    {
      "cell_type": "code",
      "metadata": {
        "colab_type": "code",
        "id": "JiCl9H_TEZYE",
        "colab": {},
        "outputId": "329bce3d-5d4f-40fd-f726-dc0755207e29"
      },
      "source": [
        "#DATA URL: \n",
        "url='https://raw.githubusercontent.com/restrepo/ComputationalMethods/master/data/NGC7331.csv'\n",
        "df=pd.read_csv(url)\n",
        "df[0:5]"
      ],
      "execution_count": null,
      "outputs": [
        {
          "output_type": "execute_result",
          "data": {
            "text/html": [
              "<div>\n",
              "<style scoped>\n",
              "    .dataframe tbody tr th:only-of-type {\n",
              "        vertical-align: middle;\n",
              "    }\n",
              "\n",
              "    .dataframe tbody tr th {\n",
              "        vertical-align: top;\n",
              "    }\n",
              "\n",
              "    .dataframe thead th {\n",
              "        text-align: right;\n",
              "    }\n",
              "</style>\n",
              "<table border=\"1\" class=\"dataframe\">\n",
              "  <thead>\n",
              "    <tr style=\"text-align: right;\">\n",
              "      <th></th>\n",
              "      <th>r</th>\n",
              "      <th>v</th>\n",
              "    </tr>\n",
              "  </thead>\n",
              "  <tbody>\n",
              "    <tr>\n",
              "      <th>0</th>\n",
              "      <td>0.05</td>\n",
              "      <td>33.42496</td>\n",
              "    </tr>\n",
              "    <tr>\n",
              "      <th>1</th>\n",
              "      <td>0.10</td>\n",
              "      <td>71.70398</td>\n",
              "    </tr>\n",
              "    <tr>\n",
              "      <th>2</th>\n",
              "      <td>0.15</td>\n",
              "      <td>95.14708</td>\n",
              "    </tr>\n",
              "    <tr>\n",
              "      <th>3</th>\n",
              "      <td>0.20</td>\n",
              "      <td>107.32276</td>\n",
              "    </tr>\n",
              "    <tr>\n",
              "      <th>4</th>\n",
              "      <td>0.25</td>\n",
              "      <td>117.44285</td>\n",
              "    </tr>\n",
              "  </tbody>\n",
              "</table>\n",
              "</div>"
            ],
            "text/plain": [
              "      r          v\n",
              "0  0.05   33.42496\n",
              "1  0.10   71.70398\n",
              "2  0.15   95.14708\n",
              "3  0.20  107.32276\n",
              "4  0.25  117.44285"
            ]
          },
          "metadata": {
            "tags": []
          },
          "execution_count": 28
        }
      ]
    },
    {
      "cell_type": "code",
      "metadata": {
        "colab_type": "code",
        "id": "HUVw9xGgEZYL",
        "colab": {},
        "outputId": "87ed6dd1-ad29-4cf9-e50d-f57d5ca56ec9"
      },
      "source": [
        "plt.plot(df.r,df.v,'r.')"
      ],
      "execution_count": null,
      "outputs": [
        {
          "output_type": "execute_result",
          "data": {
            "text/plain": [
              "[<matplotlib.lines.Line2D at 0x7f90fc1f98d0>]"
            ]
          },
          "metadata": {
            "tags": []
          },
          "execution_count": 31
        },
        {
          "output_type": "display_data",
          "data": {
            "image/png": "[encoded data removed]",
            "text/plain": [
              "<Figure size 432x288 with 1 Axes>"
            ]
          },
          "metadata": {
            "tags": [],
            "needs_background": "light"
          }
        }
      ]
    },
    {
      "cell_type": "markdown",
      "metadata": {
        "colab_type": "text",
        "id": "by-IQm0uEZYO"
      },
      "source": [
        "Build expected data"
      ]
    },
    {
      "cell_type": "code",
      "metadata": {
        "colab_type": "code",
        "id": "Hq31R98xEZYP",
        "colab": {}
      },
      "source": [
        "dff=df[:60]\n",
        "#dff=dff.append(pd.DataFrame( {'r':[5,10],'v':[60,20]} )).reset_index(drop=True) # ,15,20,25,30 ,120,105,100,98\n",
        "#dff=dff.append(pd.DataFrame( {'r':[3.5,4,10],'v':[230,200,20]} )).reset_index(drop=True) # ,15,20,25,30 ,120,105,100,98\n",
        "dff=dff.append(pd.DataFrame( {'r':[3.5,4,9],'v':[230,200,22]} )).reset_index(drop=True) # ,15,20,25,30 ,120,105,100,98"
      ],
      "execution_count": null,
      "outputs": []
    },
    {
      "cell_type": "code",
      "metadata": {
        "colab_type": "code",
        "id": "ioCe6gC6EZYQ",
        "colab": {},
        "outputId": "6c706d79-a76a-4086-e531-0dde86c55379"
      },
      "source": [
        "plt.plot(df['r'],df['v'],'r-')\n",
        "plt.plot(dff.r, dff.v,'b.')"
      ],
      "execution_count": null,
      "outputs": [
        {
          "output_type": "execute_result",
          "data": {
            "text/plain": [
              "[<matplotlib.lines.Line2D at 0x7f90f8970128>]"
            ]
          },
          "metadata": {
            "tags": []
          },
          "execution_count": 33
        },
        {
          "output_type": "display_data",
          "data": {
            "image/png": "[encoded data removed]",
            "text/plain": [
              "<Figure size 432x288 with 1 Axes>"
            ]
          },
          "metadata": {
            "tags": [],
            "needs_background": "light"
          }
        }
      ]
    },
    {
      "cell_type": "code",
      "metadata": {
        "colab_type": "code",
        "id": "CRQDSzoyEZYU",
        "colab": {},
        "outputId": "b8f062b2-3a4c-4882-bb04-b77fc28f5d4f"
      },
      "source": [
        "plt.plot(df['r'],1./df['v'],'r-')\n",
        "plt.plot(dff['r'],1./dff['v'],'b.')"
      ],
      "execution_count": null,
      "outputs": [
        {
          "output_type": "execute_result",
          "data": {
            "text/plain": [
              "[<matplotlib.lines.Line2D at 0x7f63a0b58748>]"
            ]
          },
          "metadata": {
            "tags": []
          },
          "execution_count": 408
        },
        {
          "output_type": "display_data",
          "data": {
            "image/png": "[encoded data removed]",
            "text/plain": [
              "<matplotlib.figure.Figure at 0x7f63a0b58390>"
            ]
          },
          "metadata": {
            "tags": []
          }
        }
      ]
    },
    {
      "cell_type": "code",
      "metadata": {
        "colab_type": "code",
        "id": "fA6q4n5XEZYX",
        "colab": {},
        "outputId": "f09413b4-65ff-4807-c321-02c187aeaed0"
      },
      "source": [
        "coeff=np.polyfit(dff['r'],1./dff['v'],2)\n",
        "P=poly1d(coeff,variable='r')\n",
        "print(P)"
      ],
      "execution_count": null,
      "outputs": [
        {
          "output_type": "stream",
          "text": [
            "          2\n",
            "0.001084 r - 0.00594 r + 0.01169\n"
          ],
          "name": "stdout"
        }
      ]
    },
    {
      "cell_type": "code",
      "metadata": {
        "colab_type": "code",
        "id": "d0ctfSJmEZYa",
        "colab": {},
        "outputId": "9de7e46b-5275-4f0a-ed01-524e77dd5fdb"
      },
      "source": [
        "r=np.logspace( np.log10(0.001),np.log10(30 ),100 )\n",
        "plt.plot(dff['r'],1./dff['v'],'b.')\n",
        "plt.plot(r,P(r),'k-')"
      ],
      "execution_count": null,
      "outputs": [
        {
          "output_type": "execute_result",
          "data": {
            "text/plain": [
              "[<matplotlib.lines.Line2D at 0x7f63a0b687f0>]"
            ]
          },
          "metadata": {
            "tags": []
          },
          "execution_count": 410
        },
        {
          "output_type": "display_data",
          "data": {
            "image/png": "[encoded data removed]",
            "text/plain": [
              "<matplotlib.figure.Figure at 0x7f63a0b68588>"
            ]
          },
          "metadata": {
            "tags": []
          }
        }
      ]
    },
    {
      "cell_type": "code",
      "metadata": {
        "colab_type": "code",
        "id": "efFbUfhoEZYe",
        "colab": {},
        "outputId": "d165508a-493d-4879-c3a3-7b96e25a7900"
      },
      "source": [
        "plt.plot(df['r'],df['v'],'r-')\n",
        "plt.plot(dff['r'],dff['v'],'b.')\n",
        "plt.plot(r,1/P(r),'k-')"
      ],
      "execution_count": null,
      "outputs": [
        {
          "output_type": "execute_result",
          "data": {
            "text/plain": [
              "[<matplotlib.lines.Line2D at 0x7f63a0a0cc88>]"
            ]
          },
          "metadata": {
            "tags": []
          },
          "execution_count": 411
        },
        {
          "output_type": "display_data",
          "data": {
            "image/png": "[encoded data removed]",
            "text/plain": [
              "<matplotlib.figure.Figure at 0x7f63a0a496a0>"
            ]
          },
          "metadata": {
            "tags": []
          }
        }
      ]
    },
    {
      "cell_type": "markdown",
      "metadata": {
        "colab_type": "text",
        "id": "1la5ZCwrEZYh"
      },
      "source": [
        "- - -"
      ]
    },
    {
      "cell_type": "code",
      "metadata": {
        "colab_type": "code",
        "id": "yHx9Utbqjz3i",
        "colab": {},
        "outputId": "934ca394-a06a-4e78-e394-8be55e1dc1b2"
      },
      "source": [
        "np.log(2)/0.105"
      ],
      "execution_count": null,
      "outputs": [
        {
          "output_type": "execute_result",
          "data": {
            "text/plain": [
              "6.601401719618527"
            ]
          },
          "metadata": {
            "tags": []
          },
          "execution_count": 130
        }
      ]
    },
    {
      "cell_type": "markdown",
      "metadata": {
        "colab_type": "text",
        "id": "BR6smicNjz3k"
      },
      "source": [
        "###  Logarithmic interpolation\n",
        "See: https://stackoverflow.com/a/29359275/2268280"
      ]
    },
    {
      "cell_type": "markdown",
      "metadata": {
        "colab_type": "text",
        "id": "VSYozPLFEZYl"
      },
      "source": [
        "# Appendix\n",
        "Thecnical details of interpolation functions: [interpolation_details.ipynb](./interpolation_details.ipynb)"
      ]
    },
    {
      "cell_type": "markdown",
      "metadata": {
        "id": "QCTQZgTKCMyu",
        "colab_type": "text"
      },
      "source": [
        "<span style=\"color:blue\">some *blue* text</span>.\n",
        "\n",
        "Hola"
      ]
    },
    {
      "cell_type": "code",
      "metadata": {
        "id": "TTUJRB0_CMyw",
        "colab_type": "code",
        "colab": {}
      },
      "source": [
        ""
      ],
      "execution_count": null,
      "outputs": []
    }
  ]
}