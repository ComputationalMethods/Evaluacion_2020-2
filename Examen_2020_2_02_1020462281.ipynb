{
 "cells": [
  {
   "cell_type": "markdown",
   "metadata": {
    "id": "CN-nz6iCZVao"
   },
   "source": [
    "I) The period of a pendulum of length l oscillating at a large angle $\\alpha$ is given by\n",
    "$$\n",
    "T=T_{0} \\frac{\\sqrt{2}}{\\pi} \\int_{0}^{\\alpha} \\frac{d \\theta}{(\\cos \\theta-\\cos \\alpha)^ {\\frac{1}{2}}}\n",
    "$$\n",
    "where\n",
    "$$\n",
    "T_{0}=2 \\pi \\sqrt{\\frac{l}{g}}\n",
    "$$\n",
    "is the period of the same pendulum at small amplitudes. Any numerical evaluation of the integral as is would fail (explain why). If we change the variable by writing:\n",
    "$$\n",
    "\\sin \\frac{\\theta}{2}=\\sin \\frac{\\alpha}{2} \\sin \\phi\n",
    "$$\n",
    "we can get:\n",
    "$$\n",
    "T=\\frac{2 T_{0}}{\\pi} \\int_{0}^{\\frac{\\pi}{2}} \\frac{d \\phi}{\\left(1-\\sin ^{2} \\frac{\\alpha}{2} \\sin ^{2} \\phi\\right)^{\\frac{1}{2}}}\n",
    "$$\n",
    "which is a well-behaved integral. Write a program to use the above integral to calculate the ratio $T/T_0$ for integral amplitudes $0^\\circ \\le\\alpha \\le 90^\\circ$. Output these values as a pandas dataframe showing the amplitude in degrees and radians as well as $T/T_0$, and make a plot with the two columns. Explain the result when $\\alpha = 0.$ "
   ]
  },
  {
   "cell_type": "code",
   "execution_count": 33,
   "metadata": {},
   "outputs": [],
   "source": [
    "from scipy import integrate\n",
    "import numpy as np\n",
    "import matplotlib.pyplot as plt\n",
    "import math as m\n",
    "import scipy.optimize as optimize\n",
    "import pandas as pd\n",
    "import random"
   ]
  },
  {
   "cell_type": "code",
   "execution_count": 7,
   "metadata": {},
   "outputs": [
    {
     "name": "stdout",
     "output_type": "stream",
     "text": [
      "Ingrese el ángulo α: 90\n",
      "Ingrese la longitud l: 2\n"
     ]
    }
   ],
   "source": [
    "α = m.radians(float(input(\"Ingrese el ángulo α: \")))\n",
    "l = float(input(\"Ingrese la longitud l: \"))\n",
    "\n",
    "\n",
    "def f(x):\n",
    "    T = (2*(2*l/9.8)**0.5)*((np.cos(x)-np.cos(α))**0.5)**-1\n",
    "    return T\n"
   ]
  },
  {
   "cell_type": "code",
   "execution_count": 14,
   "metadata": {},
   "outputs": [
    {
     "name": "stderr",
     "output_type": "stream",
     "text": [
      "<ipython-input-7-9dcea8c7866f>:6: RuntimeWarning: invalid value encountered in sqrt\n",
      "  T = (2*(2*l/9.8)**0.5)*((np.cos(x)-np.cos(α))**0.5)**-1\n"
     ]
    },
    {
     "data": {
      "image/png": "[encoded data removed]",
      "text/plain": [
       "<Figure size 432x288 with 1 Axes>"
      ]
     },
     "metadata": {
      "needs_background": "light"
     },
     "output_type": "display_data"
    }
   ],
   "source": [
    "θ = np.linspace(0,2*α,1000)\n",
    "\n",
    "plt.plot(θ,f(θ),'b-')\n",
    "plt.ylim(top=80)\n",
    "plt.grid()\n",
    "plt.show()"
   ]
  },
  {
   "attachments": {},
   "cell_type": "markdown",
   "metadata": {},
   "source": [
    "Como podemos ver ésta es una función cuenta con una asíntota en f(α). Como la función no es continua en el intervalo $[0 , α]$ no se puede integrar"
   ]
  },
  {
   "cell_type": "code",
   "execution_count": 20,
   "metadata": {},
   "outputs": [
    {
     "data": {
      "text/plain": [
       "numpy.vectorize"
      ]
     },
     "execution_count": 20,
     "metadata": {},
     "output_type": "execute_result"
    }
   ],
   "source": [
    "#Usando las funciones de la clase.\n",
    "\n",
    "def T0(l,g=9.80665):\n",
    "    return 2*np.pi*np.sqrt(l/g)\n",
    "\n",
    "\n",
    "def T(Φ,l=1,g=9.80665):\n",
    "    k=np.sin(Φ/2)\n",
    "    return (2*T0(l,g)/np.pi)*integrate.quad(lambda u:(1)/(np.sqrt(1-k**2*np.sin(u)**2)),0,np.pi/2)[0]\n",
    "\n",
    "#vectorizando para poder evaluarla en más puntos\n",
    "\n",
    "Tv=np.vectorize(T)"
   ]
  },
  {
   "cell_type": "code",
   "execution_count": 27,
   "metadata": {},
   "outputs": [
    {
     "data": {
      "text/html": [
       "<div>\n",
       "<style scoped>\n",
       "    .dataframe tbody tr th:only-of-type {\n",
       "        vertical-align: middle;\n",
       "    }\n",
       "\n",
       "    .dataframe tbody tr th {\n",
       "        vertical-align: top;\n",
       "    }\n",
       "\n",
       "    .dataframe thead th {\n",
       "        text-align: right;\n",
       "    }\n",
       "</style>\n",
       "<table border=\"1\" class=\"dataframe\">\n",
       "  <thead>\n",
       "    <tr style=\"text-align: right;\">\n",
       "      <th></th>\n",
       "      <th>T/T0</th>\n",
       "      <th>Angulos en radianes</th>\n",
       "      <th>Ángulos en grados</th>\n",
       "    </tr>\n",
       "  </thead>\n",
       "  <tbody>\n",
       "    <tr>\n",
       "      <th>0</th>\n",
       "      <td>0.707107</td>\n",
       "      <td>0.000000</td>\n",
       "      <td>0.000000</td>\n",
       "    </tr>\n",
       "    <tr>\n",
       "      <th>1</th>\n",
       "      <td>0.707121</td>\n",
       "      <td>0.017649</td>\n",
       "      <td>1.011236</td>\n",
       "    </tr>\n",
       "    <tr>\n",
       "      <th>2</th>\n",
       "      <td>0.707162</td>\n",
       "      <td>0.035299</td>\n",
       "      <td>2.022472</td>\n",
       "    </tr>\n",
       "    <tr>\n",
       "      <th>3</th>\n",
       "      <td>0.707231</td>\n",
       "      <td>0.052948</td>\n",
       "      <td>3.033708</td>\n",
       "    </tr>\n",
       "    <tr>\n",
       "      <th>4</th>\n",
       "      <td>0.707327</td>\n",
       "      <td>0.070598</td>\n",
       "      <td>4.044944</td>\n",
       "    </tr>\n",
       "    <tr>\n",
       "      <th>...</th>\n",
       "      <td>...</td>\n",
       "      <td>...</td>\n",
       "      <td>...</td>\n",
       "    </tr>\n",
       "    <tr>\n",
       "      <th>85</th>\n",
       "      <td>0.821671</td>\n",
       "      <td>1.500199</td>\n",
       "      <td>85.955056</td>\n",
       "    </tr>\n",
       "    <tr>\n",
       "      <th>86</th>\n",
       "      <td>0.824817</td>\n",
       "      <td>1.517848</td>\n",
       "      <td>86.966292</td>\n",
       "    </tr>\n",
       "    <tr>\n",
       "      <th>87</th>\n",
       "      <td>0.828024</td>\n",
       "      <td>1.535498</td>\n",
       "      <td>87.977528</td>\n",
       "    </tr>\n",
       "    <tr>\n",
       "      <th>88</th>\n",
       "      <td>0.831294</td>\n",
       "      <td>1.553147</td>\n",
       "      <td>88.988764</td>\n",
       "    </tr>\n",
       "    <tr>\n",
       "      <th>89</th>\n",
       "      <td>0.834627</td>\n",
       "      <td>1.570796</td>\n",
       "      <td>90.000000</td>\n",
       "    </tr>\n",
       "  </tbody>\n",
       "</table>\n",
       "<p>90 rows × 3 columns</p>\n",
       "</div>"
      ],
      "text/plain": [
       "        T/T0  Angulos en radianes  Ángulos en grados\n",
       "0   0.707107             0.000000           0.000000\n",
       "1   0.707121             0.017649           1.011236\n",
       "2   0.707162             0.035299           2.022472\n",
       "3   0.707231             0.052948           3.033708\n",
       "4   0.707327             0.070598           4.044944\n",
       "..       ...                  ...                ...\n",
       "85  0.821671             1.500199          85.955056\n",
       "86  0.824817             1.517848          86.966292\n",
       "87  0.828024             1.535498          87.977528\n",
       "88  0.831294             1.553147          88.988764\n",
       "89  0.834627             1.570796          90.000000\n",
       "\n",
       "[90 rows x 3 columns]"
      ]
     },
     "execution_count": 27,
     "metadata": {},
     "output_type": "execute_result"
    }
   ],
   "source": [
    "Λ = np.linspace(m.radians(0),m.radians(90),90)\n",
    "x = np.linspace(0,90,90)\n",
    "\n",
    "Rat = Tv(Λ)/T0(l)\n",
    "\n",
    "d = {'T/T0': Rat, 'Angulos en radianes': Λ, 'Ángulos en grados' : x}\n",
    "df = pd.DataFrame(data=d)\n",
    "df"
   ]
  },
  {
   "cell_type": "code",
   "execution_count": 73,
   "metadata": {},
   "outputs": [
    {
     "data": {
      "image/png": "[encoded data removed]",
      "text/plain": [
       "<Figure size 432x288 with 1 Axes>"
      ]
     },
     "metadata": {
      "needs_background": "light"
     },
     "output_type": "display_data"
    }
   ],
   "source": [
    "plt.plot(df['Ángulos en grados'],df['T/T0'],'b-')\n",
    "plt.ylabel('Ratio T/T0')\n",
    "plt.xlabel('Ángulos en grados')\n",
    "plt.grid()\n",
    "plt.show()"
   ]
  },
  {
   "cell_type": "code",
   "execution_count": 31,
   "metadata": {},
   "outputs": [
    {
     "data": {
      "text/plain": [
       "2.0064092925890407"
      ]
     },
     "execution_count": 31,
     "metadata": {},
     "output_type": "execute_result"
    }
   ],
   "source": [
    "#Análisis 𝛼=0\n",
    "\n",
    "T(0)"
   ]
  },
  {
   "cell_type": "markdown",
   "metadata": {
    "id": "Bc1wXQwxZVap"
   },
   "source": [
    "II) \n",
    "### Casas-Ibarra parameterization\n",
    "Consider a $n\\times n$ symmetric matrix $A$. We can assumme without lost of generality that this can be generated from a matrix $Y$ such that\n",
    "$$\n",
    "A=Y^{\\operatorname{T}}Y\n",
    "$$\n",
    "Theorem 1 gurantees that exists an ortogonal matrix $U$ such that\n",
    "$$\n",
    "U^{\\operatorname{T}} A U=U^{\\operatorname{T}} Y^{\\operatorname{T}}Y U=D_\\lambda\n",
    "$$\n",
    "where\n",
    "$$\n",
    "D_{\\lambda}=A_{\\text{diag}}=\\operatorname{diag}\\left(\\lambda_1,\\lambda_2,\\ldots,\\lambda_n\\right)\n",
    "$$\n",
    "where $\\lambda_i$ are the eigenvalues of $A$. Therefore\n",
    "\\begin{align}\n",
    " Y^{\\operatorname{T}}Y =&U D_\\lambda U^{\\operatorname{T}}\\\\\n",
    " =&U D_{\\sqrt{\\lambda}} D_{\\sqrt{\\lambda}} U^{\\operatorname{T}}\\\\\n",
    "\\end{align}\n",
    "where\n",
    "$$\n",
    "D_{\\sqrt{\\lambda}}=\\operatorname{diag}\\left(\\sqrt{\\lambda_1},\\sqrt{\\lambda_2},\\ldots \\sqrt{\\lambda_n}\\right)\n",
    "$$\n",
    "Therefore, exists an ortogonal arbitrary matrix $R$, such that\n",
    "$$\n",
    " Y^{\\operatorname{T}}Y =U D_{\\sqrt{\\lambda}}R^{\\operatorname{T}}R D_{\\sqrt{\\lambda}} U^{\\operatorname{T}}\\\\\n",
    "$$\n",
    "\n",
    "In this way, the matrix $Y$ can be parameterized in terms of $R$ as\n",
    "$$\n",
    "Y=R D_{\\sqrt{\\lambda}} U^{\\operatorname{T}}\n",
    "$$\n",
    "\n",
    "\n",
    "1) By using the previous equations, build a matrix $Y$ $2\\times 2$ with the following conditions\n",
    "\n",
    "$R$ is an orthogonal matrix with a mixing angle as a random number between $(0,2\\pi)$. Use your identification number as the seed of the random number generator.\n",
    "The eigenvalues are $\\lambda_1=2$ and $\\lambda_2=4$.\n",
    "$U$ is a diagonalization matrix with mixing angle $\\pi/4$\n",
    "\n",
    "\n",
    "2) Build the matrix $A$ and check that has the proper eigenvalues and eigenvectors"
   ]
  },
  {
   "cell_type": "code",
   "execution_count": 53,
   "metadata": {
    "id": "ueT_Gl6HZVaq"
   },
   "outputs": [],
   "source": [
    "#Subpunto I\n",
    "\n",
    "np.random.seed(1020462281) #Semilla para generar número aleatorio\n",
    "\n",
    "θ = np.random.uniform(m.radians(0),m.radians(360)) #Generación del ángulo aleatorio.  \n",
    "pi4 = m.radians(45)\n"
   ]
  },
  {
   "cell_type": "code",
   "execution_count": 62,
   "metadata": {},
   "outputs": [
    {
     "data": {
      "text/plain": [
       "[[0.7071067811865476, 0.7071067811865476],\n",
       " [-0.7071067811865476, 0.7071067811865476]]"
      ]
     },
     "execution_count": 62,
     "metadata": {},
     "output_type": "execute_result"
    }
   ],
   "source": [
    "R = ([[np.cos(θ),np.sin(θ)],\n",
    "     [-np.sin(θ),np.cos(θ)]]) #Matríz R generada con aleatoriedad\n",
    "\n",
    "U = ([[np.cos(pi4),np.sin(pi4)],\n",
    "     [-np.sin(pi4),np.cos(pi4)]]) #Matríz U\n",
    "\n",
    "D = np.sqrt(np.diag([2,4])) #Matriz de Eigenvectores\n",
    "\n",
    "U"
   ]
  },
  {
   "cell_type": "code",
   "execution_count": 64,
   "metadata": {},
   "outputs": [
    {
     "data": {
      "text/plain": [
       "array([[1.69019793, 0.20658504],\n",
       "       [0.37845868, 1.71968678]])"
      ]
     },
     "execution_count": 64,
     "metadata": {},
     "output_type": "execute_result"
    }
   ],
   "source": [
    "Ut= np.transpose(U)\n",
    "\n",
    "Y = np.dot(np.dot(R,D),Ut) #Realizando la multiplicación UDU^t\n",
    "Y"
   ]
  },
  {
   "cell_type": "code",
   "execution_count": 72,
   "metadata": {},
   "outputs": [
    {
     "name": "stdout",
     "output_type": "stream",
     "text": [
      "El valor de los eigenvalores es \n",
      "[2. 4.]. \n",
      " La matríz cuyas columnas son los eigenvectores es \n",
      " [[-0.74180644 -0.67061405]\n",
      " [ 0.67061405 -0.74180644]]\n"
     ]
    }
   ],
   "source": [
    "#Subpunto II\n",
    "\n",
    "#La matríz A se genera multiplicando YY^t\n",
    "\n",
    "A = np.dot(Y,np.transpose(Y))\n",
    "\n",
    "#Ahora, los eigenvalores y eigenvectores corresponden a:\n",
    "\n",
    "λ , V = np.linalg.eig(A)\n",
    "\n",
    "print(\"El valor de los eigenvalores es \\n{}. \\n La matríz cuyas columnas son los eigenvectores es \\n {}\" .format(λ,V))"
   ]
  },
  {
   "cell_type": "code",
   "execution_count": null,
   "metadata": {},
   "outputs": [],
   "source": []
  }
 ],
 "metadata": {
  "colab": {
   "name": "Examen_2020_2_02_enunciado.ipynb",
   "provenance": []
  },
  "kernelspec": {
   "display_name": "Python 3",
   "language": "python",
   "name": "python3"
  },
  "language_info": {
   "codemirror_mode": {
    "name": "ipython",
    "version": 3
   },
   "file_extension": ".py",
   "mimetype": "text/x-python",
   "name": "python",
   "nbconvert_exporter": "python",
   "pygments_lexer": "ipython3",
   "version": "3.8.3"
  }
 },
 "nbformat": 4,
 "nbformat_minor": 1
}
