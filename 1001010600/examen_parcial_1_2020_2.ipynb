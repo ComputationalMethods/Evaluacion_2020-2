{
  "nbformat": 4,
  "nbformat_minor": 0,
  "metadata": {
    "colab": {
      "name": "Copia de Examen_2020_1_01_enunciado.ipynb",
      "provenance": []
    },
    "kernelspec": {
      "display_name": "Python 3",
      "language": "python",
      "name": "python3"
    },
    "language_info": {
      "codemirror_mode": {
        "name": "ipython",
        "version": 3
      },
      "file_extension": ".py",
      "mimetype": "text/x-python",
      "name": "python",
      "nbconvert_exporter": "python",
      "pygments_lexer": "ipython3",
      "version": "3.7.3"
    },
    "toc": {
      "colors": {
        "hover_highlight": "#DAA520",
        "running_highlight": "#FF0000",
        "selected_highlight": "#FFD700"
      },
      "moveMenuLeft": true,
      "nav_menu": {
        "height": "30px",
        "width": "252px"
      },
      "navigate_menu": true,
      "number_sections": true,
      "sideBar": true,
      "threshold": 4,
      "toc_cell": false,
      "toc_section_display": "block",
      "toc_window_display": false
    }
  },
  "cells": [
    {
      "cell_type": "markdown",
      "metadata": {
        "id": "bWVchymOoRBb"
      },
      "source": [
        "# Primer Examen 15%"
      ]
    },
    {
      "cell_type": "markdown",
      "metadata": {
        "id": "cuGCz-DOoRBc"
      },
      "source": [
        "## Ejercicio 1\n",
        "El siguiente url entrega 100 artículos (ver`/work?rows=100` al final del url) de la revista con el ISSN: 1029-8479 correspondiente a \"Journal of High Energy Physics\" en formato JSON usando el API de CrossRef:\n",
        "\n",
        "https://api.crossref.org/journals/1029-8479/works?rows=100\n",
        "\n",
        "La base de datos con los 100 artículos que tambíen se puede cargar en otro DataFrame de Pandas, se encuentra anidada en la celda con fila `'items'` y columna `'messages'` la cual se puede obtener con el método `.loc['items','message']` del DataFrame original.\n",
        "\n",
        "Obtenga la lista de DOIs para los artículos de Alessandro Strumia en esa base de datos anidada"
      ]
    },
    {
      "cell_type": "code",
      "metadata": {
        "id": "UOTQnz6kMtbV",
        "colab": {
          "base_uri": "https://localhost:8080/",
          "height": 206
        },
        "outputId": "cf572331-1aa4-4742-f897-6b722b4c05d1"
      },
      "source": [
        "import pandas as pd\n",
        "import numpy as np\n",
        "df = pd.DataFrame(pd.read_json('https://api.crossref.org/journals/1029-8479/works?rows=100'))\n",
        "df"
      ],
      "execution_count": 1,
      "outputs": [
        {
          "output_type": "execute_result",
          "data": {
            "text/html": [
              "<div>\n",
              "<style scoped>\n",
              "    .dataframe tbody tr th:only-of-type {\n",
              "        vertical-align: middle;\n",
              "    }\n",
              "\n",
              "    .dataframe tbody tr th {\n",
              "        vertical-align: top;\n",
              "    }\n",
              "\n",
              "    .dataframe thead th {\n",
              "        text-align: right;\n",
              "    }\n",
              "</style>\n",
              "<table border=\"1\" class=\"dataframe\">\n",
              "  <thead>\n",
              "    <tr style=\"text-align: right;\">\n",
              "      <th></th>\n",
              "      <th>status</th>\n",
              "      <th>message-type</th>\n",
              "      <th>message-version</th>\n",
              "      <th>message</th>\n",
              "    </tr>\n",
              "  </thead>\n",
              "  <tbody>\n",
              "    <tr>\n",
              "      <th>facets</th>\n",
              "      <td>ok</td>\n",
              "      <td>work-list</td>\n",
              "      <td>1.0.0</td>\n",
              "      <td>{}</td>\n",
              "    </tr>\n",
              "    <tr>\n",
              "      <th>items</th>\n",
              "      <td>ok</td>\n",
              "      <td>work-list</td>\n",
              "      <td>1.0.0</td>\n",
              "      <td>[{'indexed': {'date-parts': [[2020, 3, 30]], '...</td>\n",
              "    </tr>\n",
              "    <tr>\n",
              "      <th>items-per-page</th>\n",
              "      <td>ok</td>\n",
              "      <td>work-list</td>\n",
              "      <td>1.0.0</td>\n",
              "      <td>100</td>\n",
              "    </tr>\n",
              "    <tr>\n",
              "      <th>query</th>\n",
              "      <td>ok</td>\n",
              "      <td>work-list</td>\n",
              "      <td>1.0.0</td>\n",
              "      <td>{'start-index': 0, 'search-terms': None}</td>\n",
              "    </tr>\n",
              "    <tr>\n",
              "      <th>total-results</th>\n",
              "      <td>ok</td>\n",
              "      <td>work-list</td>\n",
              "      <td>1.0.0</td>\n",
              "      <td>32021</td>\n",
              "    </tr>\n",
              "  </tbody>\n",
              "</table>\n",
              "</div>"
            ],
            "text/plain": [
              "               status  ...                                            message\n",
              "facets             ok  ...                                                 {}\n",
              "items              ok  ...  [{'indexed': {'date-parts': [[2020, 3, 30]], '...\n",
              "items-per-page     ok  ...                                                100\n",
              "query              ok  ...           {'start-index': 0, 'search-terms': None}\n",
              "total-results      ok  ...                                              32021\n",
              "\n",
              "[5 rows x 4 columns]"
            ]
          },
          "metadata": {
            "tags": []
          },
          "execution_count": 1
        }
      ]
    },
    {
      "cell_type": "code",
      "metadata": {
        "id": "IrFOBg_7NrhD"
      },
      "source": [
        "data = df.loc['items', 'message']\n"
      ],
      "execution_count": null,
      "outputs": []
    },
    {
      "cell_type": "code",
      "metadata": {
        "id": "iBjAgnkR4Ylq",
        "colab": {
          "base_uri": "https://localhost:8080/"
        },
        "outputId": "a6236311-6fc1-404f-81c5-bd5af7971be0"
      },
      "source": [
        "DOI_list = np.array([])\n",
        "for i in range(0,len(data)):\n",
        "  for j in range(0, len(data[i]['author'])):\n",
        "    if data[i]['author'][j]['given'] == 'Alessandro':\n",
        "      doi = data[i]['DOI']\n",
        "      DOI_list = np.append(DOI_list, doi )\n",
        "\n",
        "print('La lista con los DOI es: ', DOI_list)"
      ],
      "execution_count": null,
      "outputs": [
        {
          "output_type": "stream",
          "text": [
            "La lista con los DOI es:  ['10.1088/1126-6708/2000/12/016' '10.1088/1126-6708/2009/11/126'\n",
            " '10.1088/1126-6708/2001/11/048']\n"
          ],
          "name": "stdout"
        }
      ]
    },
    {
      "cell_type": "markdown",
      "metadata": {
        "id": "E6U6cMUsoRBc"
      },
      "source": [
        "## Ejercicio 2\n",
        "2a) Genere un polinomio de numpy con 7 raices aleatorias entre 1 y 10\n",
        "\n",
        "2b) Encuentre los puntos críticos del polinomio: las raices de la derivada el polinomio.\n",
        "\n",
        "2c) Con alguna de los métodos para encontrar mínimos compruebe que el punto crítico de menor (mayor) valor corresponde al mínimo (máximo) global del polinomio\n",
        "\n",
        "2d) Grafique el polinomío inclueyendo los puntos asociados a las raices."
      ]
    },
    {
      "cell_type": "code",
      "metadata": {
        "id": "UsM0lYbRKzQl"
      },
      "source": [
        "import numpy as np\n",
        "import matplotlib.pyplot as plt\n",
        "from scipy import optimize\n",
        "\n"
      ],
      "execution_count": 1,
      "outputs": []
    },
    {
      "cell_type": "markdown",
      "metadata": {
        "id": "rBmRrLgAtXo5"
      },
      "source": [
        "_Punto 2a)_"
      ]
    },
    {
      "cell_type": "code",
      "metadata": {
        "id": "GKSMn41JZOan"
      },
      "source": [
        "roots_ = np.array([1,2,4,6,8,9,10]) #Raices para el polinomio"
      ],
      "execution_count": 2,
      "outputs": []
    },
    {
      "cell_type": "code",
      "metadata": {
        "id": "4LMTDsQXZaTD"
      },
      "source": [
        "poly = np.poly1d(roots_, True) #se genera el polinomio"
      ],
      "execution_count": 3,
      "outputs": []
    },
    {
      "cell_type": "markdown",
      "metadata": {
        "id": "j0ic5dlrtdjS"
      },
      "source": [
        "_punto 2b)_"
      ]
    },
    {
      "cell_type": "code",
      "metadata": {
        "id": "i5OnHavdahxb"
      },
      "source": [
        "dp = poly.deriv(1) #Derivada del polinomio"
      ],
      "execution_count": 4,
      "outputs": []
    },
    {
      "cell_type": "code",
      "metadata": {
        "id": "c2BqEL3xbtvo",
        "colab": {
          "base_uri": "https://localhost:8080/",
          "height": 283
        },
        "outputId": "c94f2ec0-dd2d-4ca1-f29f-a73204bac61c"
      },
      "source": [
        "#Hallando raices de la derivada del polinomio\n",
        "\n",
        "#primero graficare para saber donde buscar las raices\n",
        "x_axis = np.linspace(0,10,100)\n",
        "plt.plot(x_axis, dp(x_axis), 'r-', label = 'Derivada del polinomio')\n",
        "plt.xlim(1,10)\n",
        "plt.ylim(-3000,2000)\n",
        "plt.legend()\n",
        "plt.xlabel('$x$')\n",
        "plt.ylabel('$poly_{prima}(x)$')\n",
        "plt.grid()\n",
        "plt.show()\n"
      ],
      "execution_count": 5,
      "outputs": [
        {
          "output_type": "display_data",
          "data": {
            "image/png": "[encoded data removed]",
            "text/plain": [
              "<Figure size 432x288 with 1 Axes>"
            ]
          },
          "metadata": {
            "tags": [],
            "needs_background": "light"
          }
        }
      ]
    },
    {
      "cell_type": "code",
      "metadata": {
        "id": "uT8tTTJMdfTM",
        "colab": {
          "base_uri": "https://localhost:8080/"
        },
        "outputId": "78fd6394-c790-4abd-b794-c92ebf9445c3"
      },
      "source": [
        "#Para hallar los puntos criticos usare metodo de biseccion\n",
        "\n",
        "r0 = optimize.bisect(dp,1,2)\n",
        "r1 = optimize.bisect(dp,2,3)\n",
        "r2 = optimize.bisect(dp,4,5)\n",
        "r3 = optimize.bisect(dp,6.5,7.2)\n",
        "r4 = optimize.bisect(dp,8,9)\n",
        "r5 = optimize.bisect(dp,9,10)\n",
        "\n",
        "puntos_crit = np.array([r0,r1,r2,r3,r4,r5]) #Arreglo de numpy con los puntos criticos hallados\n",
        "puntos_crit"
      ],
      "execution_count": 6,
      "outputs": [
        {
          "output_type": "execute_result",
          "data": {
            "text/plain": [
              "array([1.38228371, 2.86280956, 4.91669337, 6.94750388, 8.52781656,\n",
              "       9.6486072 ])"
            ]
          },
          "metadata": {
            "tags": []
          },
          "execution_count": 6
        }
      ]
    },
    {
      "cell_type": "markdown",
      "metadata": {
        "id": "_Ra_zoYstnGg"
      },
      "source": [
        "_punto 2c) y 2d)_"
      ]
    },
    {
      "cell_type": "code",
      "metadata": {
        "id": "1-Ua9fUzfYF2",
        "colab": {
          "base_uri": "https://localhost:8080/",
          "height": 279
        },
        "outputId": "9194da01-74f9-43cb-f991-415e2dfeb812"
      },
      "source": [
        "#Graficando polinomio para comparar los minimos y maximos dados por fmi_powell y por el polinomio evaluado en los puntos criticos\n",
        "plt.plot(x_axis,poly(x_axis),'k-', label = 'Polinomio')\n",
        "plt.plot(roots_,poly(roots_),'ro', label = 'Raices')\n",
        "plt.grid()\n",
        "plt.legend()\n",
        "plt.xlabel('$x$')\n",
        "plt.ylabel('$poly(x)$')\n",
        "plt.xlim(0.5,10.5)\n",
        "plt.ylim(-1500,1300)\n",
        "plt.show()"
      ],
      "execution_count": 7,
      "outputs": [
        {
          "output_type": "display_data",
          "data": {
            "image/png": "[encoded data removed]",
            "text/plain": [
              "<Figure size 432x288 with 1 Axes>"
            ]
          },
          "metadata": {
            "tags": [],
            "needs_background": "light"
          }
        }
      ]
    },
    {
      "cell_type": "code",
      "metadata": {
        "id": "pKTbHZTthcnC",
        "colab": {
          "base_uri": "https://localhost:8080/"
        },
        "outputId": "e1f904fb-f2fd-48cb-d917-f9ddf2e1e081"
      },
      "source": [
        "#Para el intervalo [0,10] el polinomio aparenta tener un maximo global alrededor de 1.5 y un minimo global alrededor de 2.9\n",
        "\n",
        "#MAXIMO\n",
        "\n",
        "max_w_fmin = optimize.fmin_powell(-1*poly, 1.5, full_output=True) #Maximo hallado con scipy\n",
        "max_w_crit_point = poly(puntos_crit[0]) #Maximo hallado con punto critico\n",
        "\n",
        "#================================\n",
        "\n",
        "#MINIMO\n",
        "\n",
        "min_w_fmin = optimize.fmin_powell(poly, 3, full_output=True) #Minimo hallado con scipy\n",
        "min_w_crit_point = poly(puntos_crit[1]) #Minimo hallado con punto critico\n",
        "\n",
        "#=========================\n",
        "print('\\n')\n",
        "\n",
        "print('Punto maximo hallado evaluando la funcion en el punto critico es y = {}'.format(max_w_crit_point))\n",
        "print('Punto maximo hallado con scipy es y = {}'.format(-1*max_w_fmin[1]))\n",
        "\n",
        "print('\\n')\n",
        "\n",
        "print('Punto minimo hallado evaluando la funcion en el punto critico es y = {}'.format(min_w_crit_point))\n",
        "print('Punto minimo hallado con scipy es y = {}'.format(min_w_fmin[1]))\n",
        "\n",
        "print('\\n')\n",
        "\n",
        "print('Efectivamente, el valor con los dos metodos es el mismo, obviando una pequeñisima diferencia del valor')"
      ],
      "execution_count": 8,
      "outputs": [
        {
          "output_type": "stream",
          "text": [
            "Optimization terminated successfully.\n",
            "         Current function value: -1240.080275\n",
            "         Iterations: 2\n",
            "         Function evaluations: 28\n",
            "Optimization terminated successfully.\n",
            "         Current function value: -1290.268338\n",
            "         Iterations: 2\n",
            "         Function evaluations: 25\n",
            "\n",
            "\n",
            "Punto maximo hallado evaluando la funcion en el punto critico es y = 1240.0802746727422\n",
            "Punto maximo hallado con scipy es y = 1240.080274672735\n",
            "\n",
            "\n",
            "Punto minimo hallado evaluando la funcion en el punto critico es y = -1290.2683378348083\n",
            "Punto minimo hallado con scipy es y = -1290.268337834801\n",
            "\n",
            "\n",
            "Efectivamente, el valor con los dos metodos es el mismo, obviando una pequeñisima diferencia del valor\n"
          ],
          "name": "stdout"
        }
      ]
    },
    {
      "cell_type": "code",
      "metadata": {
        "id": "_VHD0YXhmLmD"
      },
      "source": [
        ""
      ],
      "execution_count": null,
      "outputs": []
    }
  ]
}