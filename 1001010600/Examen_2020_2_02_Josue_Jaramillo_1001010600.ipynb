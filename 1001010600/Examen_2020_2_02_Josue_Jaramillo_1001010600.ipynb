{
  "nbformat": 4,
  "nbformat_minor": 0,
  "metadata": {
    "kernelspec": {
      "display_name": "Python 3",
      "language": "python",
      "name": "python3"
    },
    "language_info": {
      "codemirror_mode": {
        "name": "ipython",
        "version": 3
      },
      "file_extension": ".py",
      "mimetype": "text/x-python",
      "name": "python",
      "nbconvert_exporter": "python",
      "pygments_lexer": "ipython3",
      "version": "3.7.3"
    },
    "colab": {
      "name": "Examen_2020_2_02_Josue_Jaramillo_1001010600.ipynb",
      "provenance": [],
      "collapsed_sections": []
    }
  },
  "cells": [
    {
      "cell_type": "markdown",
      "metadata": {
        "id": "CN-nz6iCZVao"
      },
      "source": [
        "I) The period of a pendulum of length l oscillating at a large angle $\\alpha$ is given by\n",
        "$$\n",
        "T=T_{0} \\frac{\\sqrt{2}}{\\pi} \\int_{0}^{\\alpha} \\frac{d \\theta}{(\\cos \\theta-\\cos \\alpha)^ \\frac{1}{2}}\n",
        "$$\n",
        "where\n",
        "$$\n",
        "T_{0}=2 \\pi \\sqrt{\\frac{l}{g}}\n",
        "$$\n",
        "is the period of the same pendulum at small amplitudes. Any numerical evaluation of the integral as is would fail (explain why). If we change the variable by writing:\n",
        "$$\n",
        "\\sin \\frac{\\theta}{2}=\\sin \\frac{\\alpha}{2} \\sin \\phi\n",
        "$$\n",
        "we can get:\n",
        "$$\n",
        "T=\\frac{2 T_{0}}{\\pi} \\int_{0}^{\\frac{\\pi}{2}} \\frac{d \\phi}{\\left(1-\\sin ^{2} \\frac{\\alpha}{2} \\sin ^{2} \\phi\\right)^{\\frac{1}{2}}}\n",
        "$$\n",
        "which is a well-behaved integral. Write a program to use the above integral to calculate the ratio $T/T_0$ for integral amplitudes $0^\\circ \\le\\alpha \\le 90^\\circ$. Output these values as a pandas dataframe showing the amplitude in degrees and radians as well as $T/T_0$, and make a plot with the two columns. Explain the result when $\\alpha = 0.$ "
      ]
    },
    {
      "cell_type": "markdown",
      "metadata": {
        "id": "vR9Inklj4aTd"
      },
      "source": [
        "Para la integral $$\n",
        "T=T_{0} \\frac{\\sqrt{2}}{\\pi} \\int_{0}^{\\alpha} \\frac{d \\theta}{(\\cos \\theta-\\cos \\alpha)^ \\frac{1}{2}}\n",
        "$$\n",
        "Se tiene que cuando $$0\\leq\\theta\\leq\\alpha$$\n",
        "Hay una indeterminación en $$\\theta = \\alpha$$ y una raiz de un numero negativo para $$0\\leq\\theta<\\alpha$$"
      ]
    },
    {
      "cell_type": "code",
      "metadata": {
        "id": "Y_PDJy27b4oP"
      },
      "source": [
        "import numpy as np\n",
        "from scipy import integrate\n",
        "import pandas as pd\n",
        "import matplotlib.pyplot as plt"
      ],
      "execution_count": 230,
      "outputs": []
    },
    {
      "cell_type": "code",
      "metadata": {
        "id": "jMELZkfxgGAI"
      },
      "source": [
        "#Arreglo con valores para alpha\n",
        "a = np.linspace(0,np.pi/2) #angulos en radianes\n",
        "a_deg = a*180/np.pi #angulos en degradanes"
      ],
      "execution_count": 231,
      "outputs": []
    },
    {
      "cell_type": "code",
      "metadata": {
        "id": "tiLDFJithgkg"
      },
      "source": [
        "#Integracion\n",
        "\n",
        "#Limites de integracion\n",
        "l1 = 0\n",
        "l2 = np.pi/2\n",
        "#======================\n",
        "\n",
        "def I(a, l1, l2):\n",
        "  c = np.sin(0.5*a)\n",
        "  return integrate.quad(lambda x: 1/(1 - c**2 * np.sin(x)**2)**0.5 , l1, l2)[0]\n",
        "\n",
        "#Evaluando la integral para cada uno de los angulos alpha\n",
        "integ = np.zeros(len(a)) #Inicializando arreglo para guardar los valores de la integral\n",
        "\n",
        "for i in range(0, len(a)):\n",
        "  integ[i] = I(a[i], l1, l2)\n"
      ],
      "execution_count": 232,
      "outputs": []
    },
    {
      "cell_type": "code",
      "metadata": {
        "id": "L0ufI0Bg2g_1"
      },
      "source": [
        "#Calculo de T/T0\n",
        "TT0 = (2/np.pi)*integ"
      ],
      "execution_count": 233,
      "outputs": []
    },
    {
      "cell_type": "code",
      "metadata": {
        "id": "XoBp_lZF2bZj",
        "outputId": "2f974dc4-6194-4709-9467-23b60cf82400",
        "colab": {
          "base_uri": "https://localhost:8080/",
          "height": 142
        }
      },
      "source": [
        "#Dataframe\n",
        "\n",
        "df = pd.DataFrame({'Ang Degradanes': a_deg, 'Ang radianes': a, 'T/T0':TT0})\n",
        "df[:3]"
      ],
      "execution_count": 234,
      "outputs": [
        {
          "output_type": "execute_result",
          "data": {
            "text/html": [
              "<div>\n",
              "<style scoped>\n",
              "    .dataframe tbody tr th:only-of-type {\n",
              "        vertical-align: middle;\n",
              "    }\n",
              "\n",
              "    .dataframe tbody tr th {\n",
              "        vertical-align: top;\n",
              "    }\n",
              "\n",
              "    .dataframe thead th {\n",
              "        text-align: right;\n",
              "    }\n",
              "</style>\n",
              "<table border=\"1\" class=\"dataframe\">\n",
              "  <thead>\n",
              "    <tr style=\"text-align: right;\">\n",
              "      <th></th>\n",
              "      <th>Ang Degradanes</th>\n",
              "      <th>Ang radianes</th>\n",
              "      <th>T/T0</th>\n",
              "    </tr>\n",
              "  </thead>\n",
              "  <tbody>\n",
              "    <tr>\n",
              "      <th>0</th>\n",
              "      <td>0.000000</td>\n",
              "      <td>0.000000</td>\n",
              "      <td>1.000000</td>\n",
              "    </tr>\n",
              "    <tr>\n",
              "      <th>1</th>\n",
              "      <td>1.836735</td>\n",
              "      <td>0.032057</td>\n",
              "      <td>1.000064</td>\n",
              "    </tr>\n",
              "    <tr>\n",
              "      <th>2</th>\n",
              "      <td>3.673469</td>\n",
              "      <td>0.064114</td>\n",
              "      <td>1.000257</td>\n",
              "    </tr>\n",
              "  </tbody>\n",
              "</table>\n",
              "</div>"
            ],
            "text/plain": [
              "   Ang Degradanes  Ang radianes      T/T0\n",
              "0        0.000000      0.000000  1.000000\n",
              "1        1.836735      0.032057  1.000064\n",
              "2        3.673469      0.064114  1.000257"
            ]
          },
          "metadata": {
            "tags": []
          },
          "execution_count": 234
        }
      ]
    },
    {
      "cell_type": "markdown",
      "metadata": {
        "id": "qYJkGXmv3NDl"
      },
      "source": [
        "Cuando el angulo $$ \\alpha = 0 $$ se tiene que el periodo es el mismo que para angulos pequeños"
      ]
    },
    {
      "cell_type": "code",
      "metadata": {
        "id": "hUKIKTiU5WHj",
        "outputId": "85cf3540-c2e8-498c-ddef-428e0ce2c8b6",
        "colab": {
          "base_uri": "https://localhost:8080/",
          "height": 300
        }
      },
      "source": [
        "plt.plot(a, TT0,'m-')\n",
        "plt.xlabel('$Angulo$ $en$ $radianes$')\n",
        "plt.ylabel('$Ratio$ $\\dfrac{T}{T_0}$')"
      ],
      "execution_count": 235,
      "outputs": [
        {
          "output_type": "execute_result",
          "data": {
            "text/plain": [
              "Text(0, 0.5, '$Ratio$ $\\\\dfrac{T}{T_0}$')"
            ]
          },
          "metadata": {
            "tags": []
          },
          "execution_count": 235
        },
        {
          "output_type": "display_data",
          "data": {
            "image/png": "[encoded data removed]",
            "text/plain": [
              "<Figure size 432x288 with 1 Axes>"
            ]
          },
          "metadata": {
            "tags": [],
            "needs_background": "light"
          }
        }
      ]
    },
    {
      "cell_type": "markdown",
      "metadata": {
        "id": "Bc1wXQwxZVap"
      },
      "source": [
        "II) \n",
        "### Casas-Ibarra parameterization\n",
        "Consider a $n\\times n$ symmetric matrix $A$. We can assumme without lost of generality that this can be generated from a matrix $Y$ such that\n",
        "$$\n",
        "A=Y^{\\operatorname{T}}Y\n",
        "$$\n",
        "Theorem 1 gurantees that exists an ortogonal matrix $U$ such that\n",
        "$$\n",
        "U^{\\operatorname{T}} A U=U^{\\operatorname{T}} Y^{\\operatorname{T}}Y U=D_\\lambda\n",
        "$$\n",
        "where\n",
        "$$\n",
        "D_{\\lambda}=A_{\\text{diag}}=\\operatorname{diag}\\left(\\lambda_1,\\lambda_2,\\ldots,\\lambda_n\\right)\n",
        "$$\n",
        "where $\\lambda_i$ are the eigenvalues of $A$. Therefore\n",
        "\\begin{align}\n",
        " Y^{\\operatorname{T}}Y =&U D_\\lambda U^{\\operatorname{T}}\\\\\n",
        " =&U D_{\\sqrt{\\lambda}} D_{\\sqrt{\\lambda}} U^{\\operatorname{T}}\\\\\n",
        "\\end{align}\n",
        "where\n",
        "$$\n",
        "D_{\\sqrt{\\lambda}}=\\operatorname{diag}\\left(\\sqrt{\\lambda_1},\\sqrt{\\lambda_2},\\ldots \\sqrt{\\lambda_n}\\right)\n",
        "$$\n",
        "Therefore, exists an ortogonal arbitrary matrix $R$, such that\n",
        "$$\n",
        " Y^{\\operatorname{T}}Y =U D_{\\sqrt{\\lambda}}R^{\\operatorname{T}}R D_{\\sqrt{\\lambda}} U^{\\operatorname{T}}\\\\\n",
        "$$\n",
        "\n",
        "In this way, the matrix $Y$ can be parameterized in terms of $R$ as\n",
        "$$\n",
        "Y=R D_{\\sqrt{\\lambda}} U^{\\operatorname{T}}\n",
        "$$\n",
        "\n",
        "\n",
        "1) By using the previous equations, build a matrix $Y$ $2\\times 2$ with the following conditions\n",
        "* $R$ is an orthogonal matrix with a mixing angle as a random number between $(0,2\\pi)$. Use your identification number as the seed of the random number generator.\n",
        "* The eigenvalues are $\\lambda_1=2$ and $\\lambda_2=4$. \n",
        "* $U$ is a diagonalization matrix with mixing angle $\\pi/4$\n",
        "\n",
        "2) Build the matrix $A$ and check that has the proper eigenvalues and eigenvectors"
      ]
    },
    {
      "cell_type": "code",
      "metadata": {
        "id": "Vix8PK_hIcZM"
      },
      "source": [
        "import sympy as sp\n",
        "sp.init_printing()"
      ],
      "execution_count": 224,
      "outputs": []
    },
    {
      "cell_type": "code",
      "metadata": {
        "id": "Od4gx5RF7Gsl",
        "outputId": "9dcc493c-a1cd-4bbc-f4ee-3161167051d2",
        "colab": {
          "base_uri": "https://localhost:8080/"
        }
      },
      "source": [
        "#Angulo de  mezcla\n",
        "np.random.seed(1001010600) \n",
        "mg = np.random.uniform(0,2*np.pi)\n",
        "mg"
      ],
      "execution_count": null,
      "outputs": [
        {
          "output_type": "execute_result",
          "data": {
            "text/plain": [
              "5.767929832007462"
            ]
          },
          "metadata": {
            "tags": []
          },
          "execution_count": 216
        }
      ]
    },
    {
      "cell_type": "code",
      "metadata": {
        "id": "NKTi4vh4-BD7"
      },
      "source": [
        "#Definicion de las diferentes matrices\n",
        "\n",
        "D = np.diag([2,4]) #Matriz de autovalores\n",
        "Droot = np.sqrt(D) #Matriz de la raiz de los autovalores\n",
        "\n",
        "U = np.array([[np.cos(np.pi/4), -np.sin(np.pi/4)],[np.sin(np.pi/4), np.cos(np.pi/4)]])\n",
        "R = np.array([[np.cos(mg), -np.sin(mg)],[np.sin(mg), np.cos(mg)]])"
      ],
      "execution_count": 262,
      "outputs": []
    },
    {
      "cell_type": "code",
      "metadata": {
        "id": "1SmUYCMYDYCi",
        "outputId": "21a9966a-5a35-425f-ce8f-98bdd743fd86",
        "colab": {
          "base_uri": "https://localhost:8080/",
          "height": 58
        }
      },
      "source": [
        "#Calculando Y\n",
        "Y = np.dot( R, np.dot(Droot, np.transpose(U)) )\n",
        "sp.Matrix(Y)"
      ],
      "execution_count": 263,
      "outputs": [
        {
          "output_type": "execute_result",
          "data": {
            "text/latex": "$$\\left[\\begin{matrix}0.173302989085499 & 1.56703073786081\\\\-1.72335895099484 & 0.737844608707952\\end{matrix}\\right]$$",
            "text/plain": [
              "⎡0.173302989085499  1.56703073786081 ⎤\n",
              "⎢                                    ⎥\n",
              "⎣-1.72335895099484  0.737844608707952⎦"
            ]
          },
          "metadata": {
            "tags": []
          },
          "execution_count": 263
        }
      ]
    },
    {
      "cell_type": "code",
      "metadata": {
        "id": "OBZIBJIvErS9",
        "outputId": "6454c805-a9ba-449f-be3f-238e2fc857e7",
        "colab": {
          "base_uri": "https://localhost:8080/",
          "height": 58
        }
      },
      "source": [
        "#Calculando A\n",
        "A = np.dot(np.transpose(Y), Y)\n",
        "sp.Matrix((A))"
      ],
      "execution_count": 264,
      "outputs": [
        {
          "output_type": "execute_result",
          "data": {
            "text/latex": "$$\\left[\\begin{matrix}3.0 & -1.0\\\\-1.0 & 3.0\\end{matrix}\\right]$$",
            "text/plain": [
              "⎡3.0   -1.0⎤\n",
              "⎢          ⎥\n",
              "⎣-1.0  3.0 ⎦"
            ]
          },
          "metadata": {
            "tags": []
          },
          "execution_count": 264
        }
      ]
    },
    {
      "cell_type": "code",
      "metadata": {
        "id": "kCMTxsqtE2yE"
      },
      "source": [
        "#Hallando autovalores y autovectores de A\n",
        "E, e = np.linalg.eig(A)"
      ],
      "execution_count": 285,
      "outputs": []
    },
    {
      "cell_type": "code",
      "metadata": {
        "id": "KPr7M48nH4rM",
        "outputId": "23a7d10d-5b25-4ecb-b688-764f16bf1072",
        "colab": {
          "base_uri": "https://localhost:8080/",
          "height": 58
        }
      },
      "source": [
        "#Autovalores\n",
        "sp.Matrix(np.diag(E) )"
      ],
      "execution_count": 277,
      "outputs": [
        {
          "output_type": "execute_result",
          "data": {
            "text/latex": "$$\\left[\\begin{matrix}4.0 & 0.0\\\\0.0 & 2.0\\end{matrix}\\right]$$",
            "text/plain": [
              "⎡4.0  0.0⎤\n",
              "⎢        ⎥\n",
              "⎣0.0  2.0⎦"
            ]
          },
          "metadata": {
            "tags": []
          },
          "execution_count": 277
        }
      ]
    },
    {
      "cell_type": "code",
      "metadata": {
        "id": "bXtTqNP-H8Zx",
        "outputId": "11dba3ff-653b-41ed-e60e-d59fb85557d7",
        "colab": {
          "base_uri": "https://localhost:8080/",
          "height": 58
        }
      },
      "source": [
        "#Autovectores\n",
        "sp.Matrix(e.round(7))"
      ],
      "execution_count": 267,
      "outputs": [
        {
          "output_type": "execute_result",
          "data": {
            "text/latex": "$$\\left[\\begin{matrix}0.7071068 & 0.7071068\\\\-0.7071068 & 0.7071068\\end{matrix}\\right]$$",
            "text/plain": [
              "⎡0.7071068   0.7071068⎤\n",
              "⎢                     ⎥\n",
              "⎣-0.7071068  0.7071068⎦"
            ]
          },
          "metadata": {
            "tags": []
          },
          "execution_count": 267
        }
      ]
    },
    {
      "cell_type": "code",
      "metadata": {
        "id": "EevnT7CtUlVH",
        "outputId": "d64adb88-d5d2-4f77-a135-625740b2a4d1",
        "colab": {
          "base_uri": "https://localhost:8080/"
        }
      },
      "source": [
        "np.dot(e,np.dot(np.diag(E), e.transpose()))"
      ],
      "execution_count": 280,
      "outputs": [
        {
          "output_type": "execute_result",
          "data": {
            "text/plain": [
              "array([[ 3., -1.],\n",
              "       [-1.,  3.]])"
            ]
          },
          "metadata": {
            "tags": []
          },
          "execution_count": 280
        }
      ]
    },
    {
      "cell_type": "code",
      "metadata": {
        "id": "nyG2qV2NXdzM"
      },
      "source": [
        ""
      ],
      "execution_count": null,
      "outputs": []
    }
  ]
}