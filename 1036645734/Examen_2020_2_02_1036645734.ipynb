{
  "nbformat": 4,
  "nbformat_minor": 0,
  "metadata": {
    "colab": {
      "name": "Examen_2020_2_02_1036645734.ipynb",
      "provenance": [],
      "collapsed_sections": []
    },
    "kernelspec": {
      "display_name": "Python 3",
      "language": "python",
      "name": "python3"
    },
    "language_info": {
      "codemirror_mode": {
        "name": "ipython",
        "version": 3
      },
      "file_extension": ".py",
      "mimetype": "text/x-python",
      "name": "python",
      "nbconvert_exporter": "python",
      "pygments_lexer": "ipython3",
      "version": "3.7.3"
    }
  },
  "cells": [
    {
      "cell_type": "markdown",
      "metadata": {
        "id": "CN-nz6iCZVao"
      },
      "source": [
        "I) The period of a pendulum of length l oscillating at a large angle $\\alpha$ is given by\n",
        "$$\n",
        "T=T_{0} \\frac{\\sqrt{2}}{\\pi} \\int_{0}^{\\alpha} \\frac{d \\theta}{(\\cos \\theta-\\cos \\alpha) \\frac{1}{2}}\n",
        "$$\n",
        "where\n",
        "$$\n",
        "T_{0}=2 \\pi \\sqrt{\\frac{l}{g}}\n",
        "$$\n",
        "is the period of the same pendulum at small amplitudes. Any numerical evaluation of the integral as is would fail (explain why). If we change the variable by writing:\n",
        "$$\n",
        "\\sin \\frac{\\theta}{2}=\\sin \\frac{\\alpha}{2} \\sin \\phi\n",
        "$$\n",
        "we can get:\n",
        "$$\n",
        "T=\\frac{2 T_{0}}{\\pi} \\int_{0}^{\\frac{\\pi}{2}} \\frac{d \\phi}{\\left(1-\\sin ^{2} \\frac{\\alpha}{2} \\sin ^{2} \\phi\\right)^{\\frac{1}{2}}}\n",
        "$$\n",
        "which is a well-behaved integral. Write a program to use the above integral to calculate the ratio $T/T_0$ for integral amplitudes $0^\\circ \\le\\alpha \\le 90^\\circ$. Output these values as a pandas dataframe showing the amplitude in degrees and radians as well as $T/T_0$, and make a plot with the two columns. Explain the result when $\\alpha = 0.$ "
      ]
    },
    {
      "cell_type": "markdown",
      "metadata": {
        "id": "0gIXyQuN-YCC"
      },
      "source": [
        "Para responder a la pregunta de ¿por qué θ no puede tomar cualquier valor entre 0 y α? \n",
        "resulta que si α=θ, el denominador de la integral se hace cero y por tanto obtendremos una indeterminación. Para otro valor diferente de cero y <=α, la raíz en el denominador será negativa y por tanto tendría soluciones complejas, lo cuál no tiene sentido para un periodo.\n",
        "\n",
        "\n"
      ]
    },
    {
      "cell_type": "code",
      "metadata": {
        "id": "z5oRQ-osdJdf"
      },
      "source": [
        "from scipy import interpolate\n",
        "from scipy.misc import derivative\n",
        "from scipy import integrate\n",
        "import pandas as pd\n",
        "import numpy as np\n",
        "import matplotlib.pyplot as plt\n",
        "\n"
      ],
      "execution_count": 149,
      "outputs": []
    },
    {
      "cell_type": "code",
      "metadata": {
        "id": "itAs88MjyPqv"
      },
      "source": [
        "α = np.linspace(0, np.pi/2) #Ángulos en radianes\n",
        "α_grad = α*180/np.pi #Ángulos en grados\n"
      ],
      "execution_count": 150,
      "outputs": []
    },
    {
      "cell_type": "code",
      "metadata": {
        "id": "M7p5rAIQ5a56"
      },
      "source": [
        "a = 0 # límite superior de la integral\n",
        "b = np.pi/2 # límite inferior de la integral\n",
        "\n",
        "def f(α, a, b):\n",
        "  e = np.sin(0.5*α)\n",
        "  return integrate.quad(lambda x: 1/(1-e**2*np.sin(x)**2)**0.5, a, b)[0]\n",
        "#Evaluemos la integral para cada uno de los valores de los ángulos\n",
        "I = np.zeros(len(α))\n",
        "for i in range(0, len(α)):\n",
        "  I[i]= f(α[i], a, b)"
      ],
      "execution_count": 303,
      "outputs": []
    },
    {
      "cell_type": "code",
      "metadata": {
        "id": "DKvS31LI72AE"
      },
      "source": [
        "#Hallemos T/T0\n",
        "T_T0 = (2/np.pi)*I"
      ],
      "execution_count": 304,
      "outputs": []
    },
    {
      "cell_type": "code",
      "metadata": {
        "id": "Tr8IvYMu8H8i",
        "outputId": "a77ff949-98a7-41d6-b3b0-cda622a43282",
        "colab": {
          "base_uri": "https://localhost:8080/",
          "height": 204
        }
      },
      "source": [
        "#Dataframe\n",
        "df = pd.DataFrame({'Áng. grados': α_grad, 'Áng. radianes': α, 'T/T0': T_T0 })\n",
        "df[:5]"
      ],
      "execution_count": 305,
      "outputs": [
        {
          "output_type": "execute_result",
          "data": {
            "text/html": [
              "<div>\n",
              "<style scoped>\n",
              "    .dataframe tbody tr th:only-of-type {\n",
              "        vertical-align: middle;\n",
              "    }\n",
              "\n",
              "    .dataframe tbody tr th {\n",
              "        vertical-align: top;\n",
              "    }\n",
              "\n",
              "    .dataframe thead th {\n",
              "        text-align: right;\n",
              "    }\n",
              "</style>\n",
              "<table border=\"1\" class=\"dataframe\">\n",
              "  <thead>\n",
              "    <tr style=\"text-align: right;\">\n",
              "      <th></th>\n",
              "      <th>Áng. grados</th>\n",
              "      <th>Áng. radianes</th>\n",
              "      <th>T/T0</th>\n",
              "    </tr>\n",
              "  </thead>\n",
              "  <tbody>\n",
              "    <tr>\n",
              "      <th>0</th>\n",
              "      <td>0.000000</td>\n",
              "      <td>0.000000</td>\n",
              "      <td>1.000000</td>\n",
              "    </tr>\n",
              "    <tr>\n",
              "      <th>1</th>\n",
              "      <td>1.836735</td>\n",
              "      <td>0.032057</td>\n",
              "      <td>1.000064</td>\n",
              "    </tr>\n",
              "    <tr>\n",
              "      <th>2</th>\n",
              "      <td>3.673469</td>\n",
              "      <td>0.064114</td>\n",
              "      <td>1.000257</td>\n",
              "    </tr>\n",
              "    <tr>\n",
              "      <th>3</th>\n",
              "      <td>5.510204</td>\n",
              "      <td>0.096171</td>\n",
              "      <td>1.000578</td>\n",
              "    </tr>\n",
              "    <tr>\n",
              "      <th>4</th>\n",
              "      <td>7.346939</td>\n",
              "      <td>0.128228</td>\n",
              "      <td>1.001029</td>\n",
              "    </tr>\n",
              "  </tbody>\n",
              "</table>\n",
              "</div>"
            ],
            "text/plain": [
              "   Áng. grados  Áng. radianes      T/T0\n",
              "0     0.000000       0.000000  1.000000\n",
              "1     1.836735       0.032057  1.000064\n",
              "2     3.673469       0.064114  1.000257\n",
              "3     5.510204       0.096171  1.000578\n",
              "4     7.346939       0.128228  1.001029"
            ]
          },
          "metadata": {
            "tags": []
          },
          "execution_count": 305
        }
      ]
    },
    {
      "cell_type": "code",
      "metadata": {
        "id": "UyfYJSiK9a0b",
        "outputId": "add8f5ba-c85f-4609-f0b3-6d1ab2c9e208",
        "colab": {
          "base_uri": "https://localhost:8080/",
          "height": 285
        }
      },
      "source": [
        "plt.plot(α, T_T0, 'g-' )\n",
        "plt.xlabel('$Ángulo$ $(θ)$ $en$ $radianes$')\n",
        "plt.ylabel('$Relación$ $entre$ $(\\dfrac{T}{T_0})$')\n",
        "plt.grid()"
      ],
      "execution_count": 309,
      "outputs": [
        {
          "output_type": "display_data",
          "data": {
            "image/png": "[encoded data removed]",
            "text/plain": [
              "<Figure size 432x288 with 1 Axes>"
            ]
          },
          "metadata": {
            "tags": [],
            "needs_background": "light"
          }
        }
      ]
    },
    {
      "cell_type": "markdown",
      "metadata": {
        "id": "pbqnDLXgixuJ"
      },
      "source": [
        "Cuando Alfa es igual a cero, se tiene que el periodo para bajas oscilaciones; es decir:\n",
        "$$\n",
        "T_{0}=2 \\pi \\sqrt{\\frac{l}{g}}\n",
        "$$"
      ]
    },
    {
      "cell_type": "markdown",
      "metadata": {
        "id": "Bc1wXQwxZVap"
      },
      "source": [
        "II)\n",
        "### Casas-Ibarra parameterization\n",
        "Consider a $n\\times n$ symmetric matrix $A$. We can assumme without lost of generality that this can be generated from a matrix $Y$ such that\n",
        "$$\n",
        "A=Y^{\\operatorname{T}}Y\n",
        "$$\n",
        "Theorem 1 gurantees that exists an ortogonal matrix $U$ such that\n",
        "$$\n",
        "U^{\\operatorname{T}} A U=U^{\\operatorname{T}} Y^{\\operatorname{T}}Y U=D_\\lambda\n",
        "$$\n",
        "where\n",
        "$$\n",
        "D_{\\lambda}=A_{\\text{diag}}=\\operatorname{diag}\\left(\\lambda_1,\\lambda_2,\\ldots,\\lambda_n\\right)\n",
        "$$\n",
        "where $\\lambda_i$ are the eigenvalues of $A$. Therefore\n",
        "\\begin{align}\n",
        " Y^{\\operatorname{T}}Y =&U D_\\lambda U^{\\operatorname{T}}\\\\\n",
        " =&U D_{\\sqrt{\\lambda}} D_{\\sqrt{\\lambda}} U^{\\operatorname{T}}\\\\\n",
        "\\end{align}\n",
        "where\n",
        "$$\n",
        "D_{\\sqrt{\\lambda}}=\\operatorname{diag}\\left(\\sqrt{\\lambda_1},\\sqrt{\\lambda_2},\\ldots \\sqrt{\\lambda_n}\\right)\n",
        "$$\n",
        "Therefore, exists an ortogonal arbitrary matrix $R$, such that\n",
        "$$\n",
        " Y^{\\operatorname{T}}Y =U D_{\\sqrt{\\lambda}}R^{\\operatorname{T}}R D_{\\sqrt{\\lambda}} U^{\\operatorname{T}}\\\\\n",
        "$$\n",
        "\n",
        "In this way, the matrix $Y$ can be parameterized in terms of $R$ as\n",
        "$$\n",
        "Y=R D_{\\sqrt{\\lambda}} U^{\\operatorname{T}}\n",
        "$$\n",
        "\n",
        "\n",
        "1) By using the previous equations, build a matrix $Y$ $2\\times 2$ with the following conditions\n",
        "* $R$ is an orthogonal matrix with a mixing angle as a random number between $(0,2\\pi)$. Use your identification number as the seed of the random number generator.\n",
        "* The eigenvalues are $\\lambda_1=2$ and $\\lambda_2=4$. \n",
        "* $U$ is a diagonalization matrix with mixing angle $\\pi/4$\n",
        "2) Build the matrix $A$ and check that has the proper eigenvalues and eigenvectors"
      ]
    },
    {
      "cell_type": "code",
      "metadata": {
        "id": "rx2VmzC3FBUk"
      },
      "source": [
        "import numpy as np\n",
        "import sympy as sp\n",
        "import matplotlib.pyplot as plt"
      ],
      "execution_count": 265,
      "outputs": []
    },
    {
      "cell_type": "code",
      "metadata": {
        "id": "GIVJpM07JDEU"
      },
      "source": [
        "np.random.seed(1036645734) \n",
        "t = np.random.uniform(0,2*np.pi)"
      ],
      "execution_count": 266,
      "outputs": []
    },
    {
      "cell_type": "code",
      "metadata": {
        "id": "pjcNmsIBIViL"
      },
      "source": [
        "#Se definirá la matriz R\n",
        "def R(θ):\n",
        "    return np.array( [[np.cos(θ) ,np.sin(θ)],\n",
        "                      [-np.sin(θ),np.cos(θ)]]   )"
      ],
      "execution_count": 267,
      "outputs": []
    },
    {
      "cell_type": "code",
      "metadata": {
        "id": "VJMvAwJbIbls",
        "outputId": "d3bd02c7-3ec4-4559-a28d-bb14fde11150",
        "colab": {
          "base_uri": "https://localhost:8080/"
        }
      },
      "source": [
        "R(t)"
      ],
      "execution_count": 268,
      "outputs": [
        {
          "output_type": "execute_result",
          "data": {
            "text/plain": [
              "array([[ 0.98350102, -0.18090255],\n",
              "       [ 0.18090255,  0.98350102]])"
            ]
          },
          "metadata": {
            "tags": []
          },
          "execution_count": 268
        }
      ]
    },
    {
      "cell_type": "code",
      "metadata": {
        "id": "s03VkYvGHDrx",
        "outputId": "2ac9029b-136a-489c-cd9e-57eb52b7167c",
        "colab": {
          "base_uri": "https://localhost:8080/"
        }
      },
      "source": [
        "R"
      ],
      "execution_count": 269,
      "outputs": [
        {
          "output_type": "execute_result",
          "data": {
            "text/plain": [
              "<function __main__.R>"
            ]
          },
          "metadata": {
            "tags": []
          },
          "execution_count": 269
        }
      ]
    },
    {
      "cell_type": "code",
      "metadata": {
        "id": "gZP8_gFqLsIH",
        "outputId": "208064b1-bb7f-42f3-ba36-cd5ff7f72735",
        "colab": {
          "base_uri": "https://localhost:8080/"
        }
      },
      "source": [
        "#Matriz de Diagonalización\n",
        "D = np.diag([2,4])\n",
        "D"
      ],
      "execution_count": 270,
      "outputs": [
        {
          "output_type": "execute_result",
          "data": {
            "text/plain": [
              "array([[2, 0],\n",
              "       [0, 4]])"
            ]
          },
          "metadata": {
            "tags": []
          },
          "execution_count": 270
        }
      ]
    },
    {
      "cell_type": "code",
      "metadata": {
        "id": "0lBIn-YRMC6t",
        "outputId": "38256b6b-3822-44d1-e3f7-6a972944272b",
        "colab": {
          "base_uri": "https://localhost:8080/"
        }
      },
      "source": [
        "#Matriz raíz de D\n",
        "D_r = np.sqrt(D).round(2)\n",
        "D_r"
      ],
      "execution_count": 271,
      "outputs": [
        {
          "output_type": "execute_result",
          "data": {
            "text/plain": [
              "array([[1.41, 0.  ],\n",
              "       [0.  , 2.  ]])"
            ]
          },
          "metadata": {
            "tags": []
          },
          "execution_count": 271
        }
      ]
    },
    {
      "cell_type": "code",
      "metadata": {
        "id": "FbOzh36wNAWY"
      },
      "source": [
        "#Se definirá U^T\n",
        "np.random.seed(1036645734) \n",
        "s = np.random.uniform(0,np.pi/4)\n",
        "def U(θ):\n",
        "    return np.array( [[np.cos(θ) ,np.sin(θ)],\n",
        "                      [-np.sin(θ),np.cos(θ)]]   )\n"
      ],
      "execution_count": 272,
      "outputs": []
    },
    {
      "cell_type": "code",
      "metadata": {
        "id": "etCktRYLOi_2",
        "outputId": "a9c101e9-1196-4d1c-c20e-a5eb89c1a64e",
        "colab": {
          "base_uri": "https://localhost:8080/"
        }
      },
      "source": [
        "U(s)"
      ],
      "execution_count": 273,
      "outputs": [
        {
          "output_type": "execute_result",
          "data": {
            "text/plain": [
              "array([[ 0.72300081,  0.69084718],\n",
              "       [-0.69084718,  0.72300081]])"
            ]
          },
          "metadata": {
            "tags": []
          },
          "execution_count": 273
        }
      ]
    },
    {
      "cell_type": "code",
      "metadata": {
        "id": "qMdGbfFHPZ4D"
      },
      "source": [
        "np.transpose?"
      ],
      "execution_count": 274,
      "outputs": []
    },
    {
      "cell_type": "code",
      "metadata": {
        "id": "n0y69an8POpI",
        "outputId": "466b5472-8f07-4194-cff7-c691c4d0868f",
        "colab": {
          "base_uri": "https://localhost:8080/"
        }
      },
      "source": [
        "UT = np.transpose(U(s))\n",
        "UT"
      ],
      "execution_count": 275,
      "outputs": [
        {
          "output_type": "execute_result",
          "data": {
            "text/plain": [
              "array([[ 0.72300081, -0.69084718],\n",
              "       [ 0.69084718,  0.72300081]])"
            ]
          },
          "metadata": {
            "tags": []
          },
          "execution_count": 275
        }
      ]
    },
    {
      "cell_type": "code",
      "metadata": {
        "id": "bjxmi2n5Qpsm",
        "outputId": "71357c50-b8ca-4183-a525-bd642f135674",
        "colab": {
          "base_uri": "https://localhost:8080/"
        }
      },
      "source": [
        "# Se determinará Y\n",
        "#Multiplication\n",
        "Y = np.dot(R(t), np.dot(D_r, UT) )\n",
        "Y\n"
      ],
      "execution_count": 276,
      "outputs": [
        {
          "output_type": "execute_result",
          "data": {
            "text/plain": [
              "array([[ 0.75265953, -1.21960835],\n",
              "       [ 1.54331552,  1.24592789]])"
            ]
          },
          "metadata": {
            "tags": []
          },
          "execution_count": 276
        }
      ]
    },
    {
      "cell_type": "code",
      "metadata": {
        "id": "4pEtkTiHRnYU",
        "outputId": "94794f7f-147c-4bd8-fb83-8ceec30322e8",
        "colab": {
          "base_uri": "https://localhost:8080/"
        }
      },
      "source": [
        "# Se determina YT\n",
        "YT = np.transpose(Y)\n",
        "YT"
      ],
      "execution_count": 277,
      "outputs": [
        {
          "output_type": "execute_result",
          "data": {
            "text/plain": [
              "array([[ 0.75265953,  1.54331552],\n",
              "       [-1.21960835,  1.24592789]])"
            ]
          },
          "metadata": {
            "tags": []
          },
          "execution_count": 277
        }
      ]
    },
    {
      "cell_type": "code",
      "metadata": {
        "id": "BGSjf6LNTaUk",
        "outputId": "08ac54ba-9146-4a3c-bb81-f309433d8024",
        "colab": {
          "base_uri": "https://localhost:8080/"
        }
      },
      "source": [
        "# YT*Y = A\n",
        "A = np.dot(YT, Y)\n",
        "A"
      ],
      "execution_count": 278,
      "outputs": [
        {
          "output_type": "execute_result",
          "data": {
            "text/plain": [
              "array([[2.94831917, 1.00490999],\n",
              "       [1.00490999, 3.03978083]])"
            ]
          },
          "metadata": {
            "tags": []
          },
          "execution_count": 278
        }
      ]
    },
    {
      "cell_type": "code",
      "metadata": {
        "id": "kvShzMNsXQlg",
        "outputId": "29336724-5df4-44b5-8e2e-63e9c0cbbf6c",
        "colab": {
          "base_uri": "https://localhost:8080/"
        }
      },
      "source": [
        "# Veamos si A es Hermítica, i.e, (AT)*=A\n",
        "# Se determina AT\n",
        "AT = np.transpose(A)\n",
        "AT"
      ],
      "execution_count": 279,
      "outputs": [
        {
          "output_type": "execute_result",
          "data": {
            "text/plain": [
              "array([[2.94831917, 1.00490999],\n",
              "       [1.00490999, 3.03978083]])"
            ]
          },
          "metadata": {
            "tags": []
          },
          "execution_count": 279
        }
      ]
    },
    {
      "cell_type": "code",
      "metadata": {
        "id": "AgxZ_A_EXjdT",
        "outputId": "94a909ac-8c7a-4221-e330-dd8d49edcae0",
        "colab": {
          "base_uri": "https://localhost:8080/"
        }
      },
      "source": [
        "AH = np.conjugate(AT)\n",
        "AH"
      ],
      "execution_count": 280,
      "outputs": [
        {
          "output_type": "execute_result",
          "data": {
            "text/plain": [
              "array([[2.94831917, 1.00490999],\n",
              "       [1.00490999, 3.03978083]])"
            ]
          },
          "metadata": {
            "tags": []
          },
          "execution_count": 280
        }
      ]
    },
    {
      "cell_type": "code",
      "metadata": {
        "id": "nHq2lGGIU8Cr"
      },
      "source": [
        "#Hallemos los valores propios de A y corroboremos con los dados\n",
        "from scipy import linalg\n"
      ],
      "execution_count": 289,
      "outputs": []
    },
    {
      "cell_type": "code",
      "metadata": {
        "id": "x4lJ62BAf-HK"
      },
      "source": [
        "λ,V=np.linalg.eig(A)\n"
      ],
      "execution_count": 290,
      "outputs": []
    },
    {
      "cell_type": "code",
      "metadata": {
        "id": "0gApmvmHgSAy",
        "outputId": "ead02142-eacd-4235-c097-d2f31c10e5be",
        "colab": {
          "base_uri": "https://localhost:8080/"
        }
      },
      "source": [
        "# Autovalores\n",
        "A_diag=np.diag(λ)\n",
        "A_diag"
      ],
      "execution_count": 292,
      "outputs": [
        {
          "output_type": "execute_result",
          "data": {
            "text/plain": [
              "array([[1.9881, 0.    ],\n",
              "       [0.    , 4.    ]])"
            ]
          },
          "metadata": {
            "tags": []
          },
          "execution_count": 292
        }
      ]
    },
    {
      "cell_type": "code",
      "metadata": {
        "id": "YXSBDbT5gdjc",
        "outputId": "b7b60f72-f4e3-4c13-81d2-841746cb8b27",
        "colab": {
          "base_uri": "https://localhost:8080/"
        }
      },
      "source": [
        "# Autovectores\n",
        "V"
      ],
      "execution_count": 294,
      "outputs": [
        {
          "output_type": "execute_result",
          "data": {
            "text/plain": [
              "array([[-0.72300081, -0.69084718],\n",
              "       [ 0.69084718, -0.72300081]])"
            ]
          },
          "metadata": {
            "tags": []
          },
          "execution_count": 294
        }
      ]
    },
    {
      "cell_type": "code",
      "metadata": {
        "id": "WyIDmCwyhYS_",
        "outputId": "5242ca04-0152-495f-fd95-bf662a6046f7",
        "colab": {
          "base_uri": "https://localhost:8080/"
        }
      },
      "source": [
        "#Verifiquemos el orden correcto\n",
        "np.dot(np.dot(V.transpose(), A), V).round(14)"
      ],
      "execution_count": 295,
      "outputs": [
        {
          "output_type": "execute_result",
          "data": {
            "text/plain": [
              "array([[1.9881, 0.    ],\n",
              "       [0.    , 4.    ]])"
            ]
          },
          "metadata": {
            "tags": []
          },
          "execution_count": 295
        }
      ]
    },
    {
      "cell_type": "markdown",
      "metadata": {
        "id": "neUTbjnph3W3"
      },
      "source": [
        "Efectivamente se obtuvo los mismos autovalores dados los métodos anteriores y en el orden correcto."
      ]
    }
  ]
}