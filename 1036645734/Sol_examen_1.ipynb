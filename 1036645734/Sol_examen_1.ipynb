{
  "nbformat": 4,
  "nbformat_minor": 0,
  "metadata": {
    "colab": {
      "name": "Copia de Examen_2020_1_01_enunciado.ipynb",
      "provenance": [],
      "collapsed_sections": []
    },
    "kernelspec": {
      "display_name": "Python 3",
      "language": "python",
      "name": "python3"
    },
    "language_info": {
      "codemirror_mode": {
        "name": "ipython",
        "version": 3
      },
      "file_extension": ".py",
      "mimetype": "text/x-python",
      "name": "python",
      "nbconvert_exporter": "python",
      "pygments_lexer": "ipython3",
      "version": "3.7.3"
    },
    "toc": {
      "colors": {
        "hover_highlight": "#DAA520",
        "running_highlight": "#FF0000",
        "selected_highlight": "#FFD700"
      },
      "moveMenuLeft": true,
      "nav_menu": {
        "height": "30px",
        "width": "252px"
      },
      "navigate_menu": true,
      "number_sections": true,
      "sideBar": true,
      "threshold": 4,
      "toc_cell": false,
      "toc_section_display": "block",
      "toc_window_display": false
    }
  },
  "cells": [
    {
      "cell_type": "markdown",
      "metadata": {
        "id": "bWVchymOoRBb"
      },
      "source": [
        "# Primer Examen 15%"
      ]
    },
    {
      "cell_type": "markdown",
      "metadata": {
        "id": "cuGCz-DOoRBc"
      },
      "source": [
        "## Ejercicio 1\n",
        "El siguiente url entrega 100 artículos (ver`/work?rows=100` al final del url) de la revista con el ISSN: 1029-8479 correspondiente a \"Journal of High Energy Physics\" en formato JSON usando el API de CrossRef:\n",
        "\n",
        "https://api.crossref.org/journals/1029-8479/works?rows=100\n",
        "\n",
        "La base de datos con los 100 artículos que tambíen se puede cargar en otro DataFrame de Pandas, se encuentra anidada en la celda con fila `'items'` y columna `'messages'` la cual se puede obtener con el método `.loc['items','message']` del DataFrame original.\n",
        "\n",
        "Obtenga la lista de DOIs para los artículos de Alessandro Strumia en esa base de datos anidada"
      ]
    },
    {
      "cell_type": "code",
      "metadata": {
        "id": "w_C-6IkFXBDU",
        "outputId": "dab8a63d-2c22-4031-8c09-ed1c37891cb5",
        "colab": {
          "base_uri": "https://localhost:8080/",
          "height": 204
        }
      },
      "source": [
        "import pandas as pd \n",
        "r = pd.read_json('https://api.crossref.org/journals/1029-8479/works?rows=100')\n",
        "r\n"
      ],
      "execution_count": 10,
      "outputs": [
        {
          "output_type": "execute_result",
          "data": {
            "text/html": [
              "<div>\n",
              "<style scoped>\n",
              "    .dataframe tbody tr th:only-of-type {\n",
              "        vertical-align: middle;\n",
              "    }\n",
              "\n",
              "    .dataframe tbody tr th {\n",
              "        vertical-align: top;\n",
              "    }\n",
              "\n",
              "    .dataframe thead th {\n",
              "        text-align: right;\n",
              "    }\n",
              "</style>\n",
              "<table border=\"1\" class=\"dataframe\">\n",
              "  <thead>\n",
              "    <tr style=\"text-align: right;\">\n",
              "      <th></th>\n",
              "      <th>status</th>\n",
              "      <th>message-type</th>\n",
              "      <th>message-version</th>\n",
              "      <th>message</th>\n",
              "    </tr>\n",
              "  </thead>\n",
              "  <tbody>\n",
              "    <tr>\n",
              "      <th>facets</th>\n",
              "      <td>ok</td>\n",
              "      <td>work-list</td>\n",
              "      <td>1.0.0</td>\n",
              "      <td>{}</td>\n",
              "    </tr>\n",
              "    <tr>\n",
              "      <th>items</th>\n",
              "      <td>ok</td>\n",
              "      <td>work-list</td>\n",
              "      <td>1.0.0</td>\n",
              "      <td>[{'indexed': {'date-parts': [[2020, 3, 30]], '...</td>\n",
              "    </tr>\n",
              "    <tr>\n",
              "      <th>items-per-page</th>\n",
              "      <td>ok</td>\n",
              "      <td>work-list</td>\n",
              "      <td>1.0.0</td>\n",
              "      <td>100</td>\n",
              "    </tr>\n",
              "    <tr>\n",
              "      <th>query</th>\n",
              "      <td>ok</td>\n",
              "      <td>work-list</td>\n",
              "      <td>1.0.0</td>\n",
              "      <td>{'start-index': 0, 'search-terms': None}</td>\n",
              "    </tr>\n",
              "    <tr>\n",
              "      <th>total-results</th>\n",
              "      <td>ok</td>\n",
              "      <td>work-list</td>\n",
              "      <td>1.0.0</td>\n",
              "      <td>31567</td>\n",
              "    </tr>\n",
              "  </tbody>\n",
              "</table>\n",
              "</div>"
            ],
            "text/plain": [
              "               status  ...                                            message\n",
              "facets             ok  ...                                                 {}\n",
              "items              ok  ...  [{'indexed': {'date-parts': [[2020, 3, 30]], '...\n",
              "items-per-page     ok  ...                                                100\n",
              "query              ok  ...           {'start-index': 0, 'search-terms': None}\n",
              "total-results      ok  ...                                              31567\n",
              "\n",
              "[5 rows x 4 columns]"
            ]
          },
          "metadata": {
            "tags": []
          },
          "execution_count": 10
        }
      ]
    },
    {
      "cell_type": "code",
      "metadata": {
        "id": "MQpIrWSDXr7r",
        "outputId": "890f52fd-4ba3-4a43-c3d0-6bf4a7d3b0e4",
        "colab": {
          "base_uri": "https://localhost:8080/",
          "height": 204
        }
      },
      "source": [
        "r.loc['items', 'massage'] \n",
        "r"
      ],
      "execution_count": 16,
      "outputs": [
        {
          "output_type": "execute_result",
          "data": {
            "text/html": [
              "<div>\n",
              "<style scoped>\n",
              "    .dataframe tbody tr th:only-of-type {\n",
              "        vertical-align: middle;\n",
              "    }\n",
              "\n",
              "    .dataframe tbody tr th {\n",
              "        vertical-align: top;\n",
              "    }\n",
              "\n",
              "    .dataframe thead th {\n",
              "        text-align: right;\n",
              "    }\n",
              "</style>\n",
              "<table border=\"1\" class=\"dataframe\">\n",
              "  <thead>\n",
              "    <tr style=\"text-align: right;\">\n",
              "      <th></th>\n",
              "      <th>status</th>\n",
              "      <th>message-type</th>\n",
              "      <th>message-version</th>\n",
              "      <th>message</th>\n",
              "      <th>massage</th>\n",
              "    </tr>\n",
              "  </thead>\n",
              "  <tbody>\n",
              "    <tr>\n",
              "      <th>facets</th>\n",
              "      <td>ok</td>\n",
              "      <td>work-list</td>\n",
              "      <td>1.0.0</td>\n",
              "      <td>{}</td>\n",
              "      <td>NaN</td>\n",
              "    </tr>\n",
              "    <tr>\n",
              "      <th>items</th>\n",
              "      <td>ok</td>\n",
              "      <td>work-list</td>\n",
              "      <td>1.0.0</td>\n",
              "      <td>[{'indexed': {'date-parts': [[2020, 3, 30]], '...</td>\n",
              "      <td>Author</td>\n",
              "    </tr>\n",
              "    <tr>\n",
              "      <th>items-per-page</th>\n",
              "      <td>ok</td>\n",
              "      <td>work-list</td>\n",
              "      <td>1.0.0</td>\n",
              "      <td>100</td>\n",
              "      <td>NaN</td>\n",
              "    </tr>\n",
              "    <tr>\n",
              "      <th>query</th>\n",
              "      <td>ok</td>\n",
              "      <td>work-list</td>\n",
              "      <td>1.0.0</td>\n",
              "      <td>{'start-index': 0, 'search-terms': None}</td>\n",
              "      <td>NaN</td>\n",
              "    </tr>\n",
              "    <tr>\n",
              "      <th>total-results</th>\n",
              "      <td>ok</td>\n",
              "      <td>work-list</td>\n",
              "      <td>1.0.0</td>\n",
              "      <td>31567</td>\n",
              "      <td>NaN</td>\n",
              "    </tr>\n",
              "  </tbody>\n",
              "</table>\n",
              "</div>"
            ],
            "text/plain": [
              "               status  ... massage\n",
              "facets             ok  ...     NaN\n",
              "items              ok  ...  Author\n",
              "items-per-page     ok  ...     NaN\n",
              "query              ok  ...     NaN\n",
              "total-results      ok  ...     NaN\n",
              "\n",
              "[5 rows x 5 columns]"
            ]
          },
          "metadata": {
            "tags": []
          },
          "execution_count": 16
        }
      ]
    },
    {
      "cell_type": "code",
      "metadata": {
        "id": "GWxBeLKraTCz"
      },
      "source": [
        "for i in range\n",
        "  "
      ],
      "execution_count": null,
      "outputs": []
    },
    {
      "cell_type": "markdown",
      "metadata": {
        "id": "E6U6cMUsoRBc"
      },
      "source": [
        "## Ejercicio 2\n",
        "2a) Genere un polinomio de numpy con 7 raices aleatorias entre 1 y 10\n",
        "\n",
        "2b) Encuentre los puntos críticos del polinomio: las raices de la derivada el polinomio.\n",
        "\n",
        "2c) Con alguna de los métodos para encontrar mínimos compruebe que el punto crítico de menor (mayor) valor corresponde al mínimo (máximo) global del polinomio\n",
        "\n",
        "2d) Grafique el polinomío inclueyendo los puntos asociados a las raices."
      ]
    },
    {
      "cell_type": "code",
      "metadata": {
        "id": "pmkC_LSwaRgb",
        "outputId": "712086d9-0390-440d-a52a-fbeb0d3c4e95",
        "colab": {
          "base_uri": "https://localhost:8080/",
          "height": 1000
        }
      },
      "source": [
        "import pandas as pd\n",
        "import numpy as np\n",
        "from random import randint, uniform,random\n",
        "from scipy import optimize\n",
        "import numpy as np\n",
        "import matplotlib.pylab as plt\n",
        "\n",
        "\"\"\" #intente con raices variables pero me di cuenta que era un problema para cuando fuera a hallar los intervalos para las raices, lo cual fije unos valores especificos\n",
        "c1 = (randint(0,10))\n",
        "c2 = (randint(0,10))\n",
        "c3 = (randint(0,10))\n",
        "c4 = (randint(0,10))\n",
        "c5 = (randint(0,10))\n",
        "c6 = (randint(0,10))\n",
        "c7 = (randint(0,10))\n",
        "p = np.polynomial.polynomial.Polynomial([c1, c2, c3, c4, c5, c6, c7])\n",
        "print(p)\n",
        "\n",
        "#poly = np.poly1d(p, True)\n",
        "#dx = poly.deriv(1)\n",
        "#print (dx)\n",
        "\"\"\"\n",
        "\n",
        "raices = np.array([5,3,9,2,10,6,8])\n",
        "p1 = np.poly1d(raices, True)\n",
        "#p1 = np.poly1d([c1, c2, c3, c4, c5, c6, c7])\n",
        "print(p1)\n",
        "dx1 = p1.deriv(1)\n",
        "print(dx1)\n",
        "\n",
        "dx2 = dx1.deriv(1)\n",
        "print(dx2)\n",
        "\n",
        "def f(x):\n",
        "    return p1\n",
        "\n",
        "\"\"\"#grafico para saber donde estan las raices\n",
        "x = np.linspace(0,10, 100)  \n",
        "plt.plot(x, p1(x), lw=2)\n",
        "plt.xlabel(\"X axis\")\n",
        "plt.ylabel(\"Y axis\")\n",
        "plt.grid(True)\n",
        "plt.xlim(1,11,1)\n",
        "plt.ylim(-2000,2000)   \n",
        "\"\"\"\n",
        "\n",
        "#se procede a hallar lsa raices por el metodo de newton\n",
        "r1 = optimize.newton(p1, x0=1, x1=2.2, fprime = None, tol = 1e-5, maxiter=50, full_output=True)\n",
        "r2 = optimize.newton(p1, x0=2.2, x1=2.9, fprime = None, tol = 1e-5, maxiter=50, full_output=True)\n",
        "r3 = optimize.newton(p1, x0=4.1, x1=4.7, fprime = None, tol = 1e-5, maxiter=50, full_output=True)\n",
        "r4 = optimize.newton(p1, x0=5.8, x1=6.2, fprime = None, tol = 1e-5, maxiter=50, full_output=True)\n",
        "r5 = optimize.newton(p1, x0=7.8, x1=8.2, fprime = None, tol = 1e-5, maxiter=50, full_output=True)\n",
        "r6 = optimize.newton(p1, x0=8.3, x1=9.1, fprime = None, tol = 1e-5, maxiter=50, full_output=True)\n",
        "r7 = optimize.newton(p1, x0=9.8, x1=10.1, fprime = None, tol = 1e-5, maxiter=50, full_output=True)\n",
        "\n",
        "#df=pd.DataFrame({ 'X':[r1,r2,r3,r4,r5,r6,r7],\n",
        "                 # 'Y':[0,0,0,0,0,0,0] }  )\n",
        "df=pd.DataFrame({ 'X':[2.0000000007520593,3.000000000004205,4.999999998810644,6.000000000000457,8.00000000016915,9.00000000000586,9.999999998569601],\n",
        "                  'Y':[0,0,0,0,0,0,0] }  )                 \n",
        "\n",
        "print(df)   \n",
        "\n",
        "x = np.linspace(0,10, 100)  \n",
        "plt.plot(x, p1(x), lw=3)\n",
        "plt.xlabel(\"X axis\")\n",
        "plt.ylabel(\"Y axis\")\n",
        "plt.grid(True)\n",
        "plt.xlim(1,11,1)\n",
        "plt.ylim(-2000,2000)        \n",
        "plt.plot(df.X,df.Y,'go', label = \"ceros del polinomio\",)   \n",
        "plt.title(\"Grafica del polinomio con sus raíces\", fontsize= 18)   \n",
        "plt.show()\n",
        "\n",
        "print (r1)\n",
        "print (r2)\n",
        "print (r3)\n",
        "print (r4)\n",
        "print (r5)\n",
        "print (r6)\n",
        "print (r7)"
      ],
      "execution_count": 19,
      "outputs": [
        {
          "output_type": "stream",
          "text": [
            "   7      6       5        4             3             2\n",
            "1 x - 43 x + 765 x - 7265 x + 3.955e+04 x - 1.227e+05 x + 1.991e+05 x - 1.296e+05\n",
            "   6       5        4             3             2\n",
            "7 x - 258 x + 3825 x - 2.906e+04 x + 1.187e+05 x - 2.453e+05 x + 1.991e+05\n",
            "    5        4            3             2\n",
            "42 x - 1290 x + 1.53e+04 x - 8.718e+04 x + 2.373e+05 x - 2.453e+05\n",
            "      X  Y\n",
            "0   2.0  0\n",
            "1   3.0  0\n",
            "2   5.0  0\n",
            "3   6.0  0\n",
            "4   8.0  0\n",
            "5   9.0  0\n",
            "6  10.0  0\n"
          ],
          "name": "stdout"
        },
        {
          "output_type": "display_data",
          "data": {
            "image/png": "[encoded data removed]",
            "text/plain": [
              "<Figure size 432x288 with 1 Axes>"
            ]
          },
          "metadata": {
            "tags": [],
            "needs_background": "light"
          }
        },
        {
          "output_type": "stream",
          "text": [
            "(2.0000000007520593,       converged: True\n",
            "           flag: 'converged'\n",
            " function_calls: 9\n",
            "     iterations: 8\n",
            "           root: 2.0000000007520593)\n",
            "(3.000000000004205,       converged: True\n",
            "           flag: 'converged'\n",
            " function_calls: 7\n",
            "     iterations: 6\n",
            "           root: 3.000000000004205)\n",
            "(4.999999998810644,       converged: True\n",
            "           flag: 'converged'\n",
            " function_calls: 6\n",
            "     iterations: 5\n",
            "           root: 4.999999998810644)\n",
            "(6.000000000000457,       converged: True\n",
            "           flag: 'converged'\n",
            " function_calls: 6\n",
            "     iterations: 5\n",
            "           root: 6.000000000000457)\n",
            "(8.00000000016915,       converged: True\n",
            "           flag: 'converged'\n",
            " function_calls: 5\n",
            "     iterations: 4\n",
            "           root: 8.00000000016915)\n",
            "(9.00000000000586,       converged: True\n",
            "           flag: 'converged'\n",
            " function_calls: 11\n",
            "     iterations: 10\n",
            "           root: 9.00000000000586)\n",
            "(9.999999998569601,       converged: True\n",
            "           flag: 'converged'\n",
            " function_calls: 7\n",
            "     iterations: 6\n",
            "           root: 9.999999998569601)\n"
          ],
          "name": "stdout"
        }
      ]
    },
    {
      "cell_type": "code",
      "metadata": {
        "id": "3KBagOF3LWtk"
      },
      "source": [
        ""
      ],
      "execution_count": null,
      "outputs": []
    }
  ]
}