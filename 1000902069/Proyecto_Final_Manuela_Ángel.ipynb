{
  "nbformat": 4,
  "nbformat_minor": 0,
  "metadata": {
    "colab": {
      "name": "Proyecto_Final_Manuela_Ángel.ipynb",
      "provenance": []
    },
    "kernelspec": {
      "name": "python3",
      "display_name": "Python 3"
    }
  },
  "cells": [
    {
      "cell_type": "markdown",
      "metadata": {
        "id": "0BGFkpdrzmyX"
      },
      "source": [
        "El modelo de Gompertz es un modelo de crecimiento que puede ser utilizado en el análisis de crecimiento tumoral, dado por:\r\n",
        "\r\n",
        "\\begin{equation}\r\n",
        "\\dot{N}(t)=\\lambda N(t) \\log\\left(\\frac{\\theta}{N(t)}\\right)\r\n",
        "\\end{equation}\r\n",
        "\r\n",
        "Donde N es el tamaño del tumor, $\\lambda$ es la constante relacionada a la capacidad de crecimiento de las células cancerígenas, y $\\theta$ es la capacidad o tamaño máximo del tumor."
      ]
    },
    {
      "cell_type": "code",
      "metadata": {
        "id": "JZ-ejIAPwbi-"
      },
      "source": [
        "import numpy as np\r\n",
        "import pandas as pd\r\n",
        "import matplotlib.pyplot as plt\r\n",
        "from scipy import integrate"
      ],
      "execution_count": 2,
      "outputs": []
    },
    {
      "cell_type": "code",
      "metadata": {
        "id": "XqC_PGyJqopd"
      },
      "source": [
        "\r\n",
        "def Gompertz(x,t):\r\n",
        "  l=0.5\r\n",
        "  tt=10\r\n",
        "  dxdt= l*x*np.log10(tt/x)\r\n",
        "  return dxdt\r\n",
        "\r\n",
        "ini= 1\r\n",
        "t=np.arange(1,100,0.1)"
      ],
      "execution_count": 5,
      "outputs": []
    },
    {
      "cell_type": "code",
      "metadata": {
        "id": "65gD68YvvTbE"
      },
      "source": [
        "result= integrate.odeint(Gompertz,ini,t)"
      ],
      "execution_count": 6,
      "outputs": []
    },
    {
      "cell_type": "code",
      "metadata": {
        "colab": {
          "base_uri": "https://localhost:8080/",
          "height": 295
        },
        "id": "PSLbtdaiwLpO",
        "outputId": "19ead1ae-8b02-406c-942d-09638e904cf8"
      },
      "source": [
        "plt.plot(t,result)\r\n",
        "plt.title('Modelo de Gompertz para crecimiento tumoral')\r\n",
        "plt.xlabel('Tiempo')\r\n",
        "plt.ylabel('Volumen');"
      ],
      "execution_count": 9,
      "outputs": [
        {
          "output_type": "display_data",
          "data": {
            "image/png": "[encoded data removed]",
            "text/plain": [
              "<Figure size 432x288 with 1 Axes>"
            ]
          },
          "metadata": {
            "tags": [],
            "needs_background": "light"
          }
        }
      ]
    },
    {
      "cell_type": "markdown",
      "metadata": {
        "id": "glbKTU69Dd89"
      },
      "source": [
        "Además, para aplicaciones más acordes a la realidad, se puede utilizar un modelo de Hahnfeldt-Folkman, donde se considera $K(t)$ como vascularización efectiva, y los parámetros λ, β, γ y δ representan respectivamente la\r\n",
        "tasa de crecimiento del tumor, la tasa de eliminación de vascularización y los\r\n",
        "coeficientes de estimulación e inhibición.\r\n",
        "\r\n",
        "\\begin{equation}\r\n",
        "\\dot{N}(t)= \\lambda N(t)\\log\\left(\\frac{K(t)}{N(t)}\\right)\r\n",
        "\\end{equation},\r\n",
        "\\begin{equation}\r\n",
        "\\dot{K}(t)= -\\beta K(t)+\\gamma N(t)- \\delta K(t) N(t)^\\frac{2}{3}\r\n",
        "\\end{equation}"
      ]
    },
    {
      "cell_type": "code",
      "metadata": {
        "id": "PCVaxFGyFIsu"
      },
      "source": [
        "l=0.5\r\n",
        "b=2\r\n",
        "c=10\r\n",
        "d=2\r\n",
        "def HF(ec,t):\r\n",
        "  x, k =ec\r\n",
        "  return l*x*np.log10(k/x), -b*k+c*x-d*k*x**(2/3)"
      ],
      "execution_count": 48,
      "outputs": []
    },
    {
      "cell_type": "code",
      "metadata": {
        "id": "eJT5N7tXF_-E"
      },
      "source": [
        "ini1= [1,1]\r\n",
        "t=np.arange(1,100,0.1)\r\n",
        "res=integrate.odeint(HF,ini1,t)\r\n",
        "\r\n",
        "N, K=res.T"
      ],
      "execution_count": 53,
      "outputs": []
    },
    {
      "cell_type": "code",
      "metadata": {
        "colab": {
          "base_uri": "https://localhost:8080/",
          "height": 295
        },
        "id": "8EmDkEEyIEeN",
        "outputId": "d6e3d9c6-64b1-495a-dac1-8a60f4a31077"
      },
      "source": [
        "plt.plot(t,N, label='Hahnfeldt-Folkman')\r\n",
        "plt.plot(t,result, label='Gompertz')\r\n",
        "plt.xlabel('Tiempo')\r\n",
        "plt.ylabel('Volumen')\r\n",
        "plt.title('Comparativa modelo de Gompertz y de Hahnfeldt-Folkman')\r\n",
        "plt.legend();"
      ],
      "execution_count": 55,
      "outputs": [
        {
          "output_type": "display_data",
          "data": {
            "image/png": "[encoded data removed]",
            "text/plain": [
              "<Figure size 432x288 with 1 Axes>"
            ]
          },
          "metadata": {
            "tags": [],
            "needs_background": "light"
          }
        }
      ]
    },
    {
      "cell_type": "markdown",
      "metadata": {
        "id": "zSg7hD_RLxs2"
      },
      "source": [
        "Ahora bien, si consideramos aplicar una terapia con un fármaco, la concentración del mismo puede ser descrita por el modelo de Bellman:\r\n",
        "\r\n",
        "\\begin{equation}\r\n",
        "\\dot{v}(t)=u(t)-\\gamma v(t)\r\n",
        "\\end{equation}\r\n",
        "\r\n",
        "Donde u representa el incremento en la concentración debido al suministro del medicamento, y $\\gamma$ es la tasa de crecimiento. Consideraremos $v_0= 0$ al inicio del tratamiento.\r\n",
        "Además, u está dada por $u(t)= \\sum_1^N u_iH(t-t_i)$. Donde H(t) es la función escalón unitario.\r\n",
        "\r\n",
        "Por último, la ecuación que describe el crecimiento del tumor bajo efectos de terapia es:\r\n",
        "\\begin{equation}\r\n",
        "\\dot{N}(t)= \\lambda N \\log \\left(\\frac{\\theta}{N} \\right) -k(v-v_t)+N\r\n",
        "\\end{equation}"
      ]
    },
    {
      "cell_type": "code",
      "metadata": {
        "id": "Q1Ryi53KNv92"
      },
      "source": [
        "l=0.5\r\n",
        "tt=10*10**4\r\n",
        "k=1\r\n",
        "vt=0.05\r\n",
        "for i in range(20):\r\n",
        "  v=np.exp(-2.1*(t-i))\r\n"
      ],
      "execution_count": 87,
      "outputs": []
    },
    {
      "cell_type": "code",
      "metadata": {
        "id": "AEBpfT0BSW2Q"
      },
      "source": [
        "def Gompt(x,t):\r\n",
        "   \r\n",
        "  dx_dt=l*x*np.log10(tt/x)-k*(v-vt)\r\n",
        "  return dx_dt"
      ],
      "execution_count": 88,
      "outputs": []
    },
    {
      "cell_type": "code",
      "metadata": {
        "colab": {
          "base_uri": "https://localhost:8080/",
          "height": 401
        },
        "id": "7VCNAASNPFd4",
        "outputId": "371eee87-54a6-4b77-bf05-1731f45d8ef7"
      },
      "source": [
        "ini2= 5*10**4\r\n",
        "t=np.arange(0,100,0.5)\r\n",
        "result2=integrate.odeint(Gompt,ini2,t)"
      ],
      "execution_count": 89,
      "outputs": [
        {
          "output_type": "error",
          "ename": "RuntimeError",
          "evalue": "ignored",
          "traceback": [
            "\u001b[0;31m---------------------------------------------------------------------------\u001b[0m",
            "\u001b[0;31mRuntimeError\u001b[0m                              Traceback (most recent call last)",
            "\u001b[0;32m<ipython-input-89-488140a94d0a>\u001b[0m in \u001b[0;36m<module>\u001b[0;34m()\u001b[0m\n\u001b[1;32m      1\u001b[0m \u001b[0mini2\u001b[0m\u001b[0;34m=\u001b[0m \u001b[0;36m5\u001b[0m\u001b[0;34m*\u001b[0m\u001b[0;36m10\u001b[0m\u001b[0;34m**\u001b[0m\u001b[0;36m4\u001b[0m\u001b[0;34m\u001b[0m\u001b[0;34m\u001b[0m\u001b[0m\n\u001b[1;32m      2\u001b[0m \u001b[0mt\u001b[0m\u001b[0;34m=\u001b[0m\u001b[0mnp\u001b[0m\u001b[0;34m.\u001b[0m\u001b[0marange\u001b[0m\u001b[0;34m(\u001b[0m\u001b[0;36m0\u001b[0m\u001b[0;34m,\u001b[0m\u001b[0;36m100\u001b[0m\u001b[0;34m,\u001b[0m\u001b[0;36m0.5\u001b[0m\u001b[0;34m)\u001b[0m\u001b[0;34m\u001b[0m\u001b[0;34m\u001b[0m\u001b[0m\n\u001b[0;32m----> 3\u001b[0;31m \u001b[0mresult2\u001b[0m\u001b[0;34m=\u001b[0m\u001b[0mintegrate\u001b[0m\u001b[0;34m.\u001b[0m\u001b[0modeint\u001b[0m\u001b[0;34m(\u001b[0m\u001b[0mGompt\u001b[0m\u001b[0;34m,\u001b[0m\u001b[0mini2\u001b[0m\u001b[0;34m,\u001b[0m\u001b[0mt\u001b[0m\u001b[0;34m)\u001b[0m\u001b[0;34m\u001b[0m\u001b[0;34m\u001b[0m\u001b[0m\n\u001b[0m",
            "\u001b[0;32m/usr/local/lib/python3.6/dist-packages/scipy/integrate/odepack.py\u001b[0m in \u001b[0;36modeint\u001b[0;34m(func, y0, t, args, Dfun, col_deriv, full_output, ml, mu, rtol, atol, tcrit, h0, hmax, hmin, ixpr, mxstep, mxhnil, mxordn, mxords, printmessg, tfirst)\u001b[0m\n\u001b[1;32m    243\u001b[0m                              \u001b[0mfull_output\u001b[0m\u001b[0;34m,\u001b[0m \u001b[0mrtol\u001b[0m\u001b[0;34m,\u001b[0m \u001b[0matol\u001b[0m\u001b[0;34m,\u001b[0m \u001b[0mtcrit\u001b[0m\u001b[0;34m,\u001b[0m \u001b[0mh0\u001b[0m\u001b[0;34m,\u001b[0m \u001b[0mhmax\u001b[0m\u001b[0;34m,\u001b[0m \u001b[0mhmin\u001b[0m\u001b[0;34m,\u001b[0m\u001b[0;34m\u001b[0m\u001b[0;34m\u001b[0m\u001b[0m\n\u001b[1;32m    244\u001b[0m                              \u001b[0mixpr\u001b[0m\u001b[0;34m,\u001b[0m \u001b[0mmxstep\u001b[0m\u001b[0;34m,\u001b[0m \u001b[0mmxhnil\u001b[0m\u001b[0;34m,\u001b[0m \u001b[0mmxordn\u001b[0m\u001b[0;34m,\u001b[0m \u001b[0mmxords\u001b[0m\u001b[0;34m,\u001b[0m\u001b[0;34m\u001b[0m\u001b[0;34m\u001b[0m\u001b[0m\n\u001b[0;32m--> 245\u001b[0;31m                              int(bool(tfirst)))\n\u001b[0m\u001b[1;32m    246\u001b[0m     \u001b[0;32mif\u001b[0m \u001b[0moutput\u001b[0m\u001b[0;34m[\u001b[0m\u001b[0;34m-\u001b[0m\u001b[0;36m1\u001b[0m\u001b[0;34m]\u001b[0m \u001b[0;34m<\u001b[0m \u001b[0;36m0\u001b[0m\u001b[0;34m:\u001b[0m\u001b[0;34m\u001b[0m\u001b[0;34m\u001b[0m\u001b[0m\n\u001b[1;32m    247\u001b[0m         \u001b[0mwarning_msg\u001b[0m \u001b[0;34m=\u001b[0m \u001b[0m_msgs\u001b[0m\u001b[0;34m[\u001b[0m\u001b[0moutput\u001b[0m\u001b[0;34m[\u001b[0m\u001b[0;34m-\u001b[0m\u001b[0;36m1\u001b[0m\u001b[0;34m]\u001b[0m\u001b[0;34m]\u001b[0m \u001b[0;34m+\u001b[0m \u001b[0;34m\" Run with full_output = 1 to get quantitative information.\"\u001b[0m\u001b[0;34m\u001b[0m\u001b[0;34m\u001b[0m\u001b[0m\n",
            "\u001b[0;31mRuntimeError\u001b[0m: The size of the array returned by func (200) does not match the size of y0 (1)."
          ]
        }
      ]
    },
    {
      "cell_type": "code",
      "metadata": {
        "colab": {
          "base_uri": "https://localhost:8080/",
          "height": 282
        },
        "id": "50OzkHVBPbjo",
        "outputId": "e4a35872-4916-447c-95ca-d851569bd93a"
      },
      "source": [
        "plt.plot(t,result2)"
      ],
      "execution_count": 68,
      "outputs": [
        {
          "output_type": "execute_result",
          "data": {
            "text/plain": [
              "[<matplotlib.lines.Line2D at 0x7fca49e1a668>]"
            ]
          },
          "metadata": {
            "tags": []
          },
          "execution_count": 68
        },
        {
          "output_type": "display_data",
          "data": {
            "image/png": "[encoded data removed]",
            "text/plain": [
              "<Figure size 432x288 with 1 Axes>"
            ]
          },
          "metadata": {
            "tags": [],
            "needs_background": "light"
          }
        }
      ]
    }
  ]
}