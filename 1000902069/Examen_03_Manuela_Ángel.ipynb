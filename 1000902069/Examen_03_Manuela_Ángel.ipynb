{
  "nbformat": 4,
  "nbformat_minor": 0,
  "metadata": {
    "kernelspec": {
      "display_name": "Python 3",
      "language": "python",
      "name": "python3"
    },
    "language_info": {
      "codemirror_mode": {
        "name": "ipython",
        "version": 3
      },
      "file_extension": ".py",
      "mimetype": "text/x-python",
      "name": "python",
      "nbconvert_exporter": "python",
      "pygments_lexer": "ipython3",
      "version": "3.7.3"
    },
    "colab": {
      "name": "Examen_03_Manuela_Ángel",
      "provenance": []
    }
  },
  "cells": [
    {
      "cell_type": "markdown",
      "metadata": {
        "id": "3zV_Sshfcflk"
      },
      "source": [
        "## Examen 3\n",
        "<a href=\"https://colab.research.google.com/github/restrepo/ComputationalMethods/blob/master/exams/Examen_2020_2_03_enunciado.ipynb\" target=\"_parent\"><img src=\"https://colab.research.google.com/assets/colab-badge.svg\" alt=\"Open In Colab\"/></a>\n",
        "1) Determine el espacio de configuraciones, en los ejes $(x, \\dot{x})$, del movimiento horizontal sin fricción de una masa de $0.2\\ \\text{Kg}$ atada a un resorte de constante elástica $k=1\\ \\text{N/m}$.\n",
        "\n",
        "\n",
        "2) Considere una muestra de Strontium-90, ${}^{98}_{38}\\text{Sr}$, que contieme inicialmente 1000 núcleos de Strontium-90 sin decaer. En la base de datos: \n",
        "\n",
        "[https://raw.githubusercontent.com/restrepo/ComputationalMethods/master/data/strontium.json](https://raw.githubusercontent.com/restrepo/ComputationalMethods/master/data/strontium.json) \n",
        "\n",
        "se tienen los datos de decaimiento durante 200 años. Despues de 10 años quedan 809 nucleos sin decaer, después de 22 años quedan 564 y así sucesivamente. \n",
        "\n",
        "El decaimiento radiativo está determinado por la formula\n",
        "$$\n",
        "N(t)=N_0 \\operatorname{e}^{-\\lambda t}\\,,\\qquad \\lambda=\\frac{\\ln(2)}{\\tau}\n",
        "$$\n",
        "* $N(t)$ es el número de núcleos radioactivos que qedan despues de un tiempo $t$\n",
        "* $N_0$ es el número inicial de las partículas presentes (es decir, $t=0$)\n",
        "* $\\lambda$ es la constante de decaimiento\n",
        "* $\\tau$ es la vida medía, es decir, el tiempo durante el cual la mitad de la muestra radioactiva ha decaído.\n",
        "\n",
        "(a) Realice un fit a los datos y determine la vida media con su respectivo error.\n",
        "\n",
        "(b) Grafique los datos como puntos en el plano $t$, $N(t)$ y el correspondiente al fit"
      ]
    },
    {
      "cell_type": "markdown",
      "metadata": {
        "id": "eHHVXmu_s1t9"
      },
      "source": [
        "# **Punto 1**"
      ]
    },
    {
      "cell_type": "code",
      "metadata": {
        "id": "QfOpJ026s-Sb"
      },
      "source": [
        "import numpy as np\n",
        "import scipy.integrate as integrate\n",
        "import matplotlib.pyplot as plt"
      ],
      "execution_count": 17,
      "outputs": []
    },
    {
      "cell_type": "code",
      "metadata": {
        "id": "di9nu6pitNoM"
      },
      "source": [
        "m= 0.2\n",
        "k= 1\n",
        "omega2= k/m"
      ],
      "execution_count": 18,
      "outputs": []
    },
    {
      "cell_type": "markdown",
      "metadata": {
        "id": "k1HThaW2uAW-"
      },
      "source": [
        "El movimiento está dado por la ecuación:\n",
        "$$ \\frac{d^2x}{dt^2}+{\\omega}^2x=0$$\n",
        "\n",
        "Hago \n",
        "$x'=y$\n",
        "\n",
        "\n",
        "\n",
        "$y'=-{\\omega}^2x$\n"
      ]
    },
    {
      "cell_type": "code",
      "metadata": {
        "id": "6YyqF6cB0KvL"
      },
      "source": [
        "def mov(U,x):\n",
        "  y,z= U\n",
        "  return [U[1], \n",
        "          omega2*x]"
      ],
      "execution_count": 90,
      "outputs": []
    },
    {
      "cell_type": "code",
      "metadata": {
        "id": "1Gmil9Fg6lxa"
      },
      "source": [
        "ini= x0,y0\n",
        "ts= np.arange(0,150,0.01)"
      ],
      "execution_count": 91,
      "outputs": []
    },
    {
      "cell_type": "code",
      "metadata": {
        "id": "aFVp79CvrJRS"
      },
      "source": [
        "x0= np.random.uniform(-10,10,50)\n",
        "y0= np.random.uniform(-10,10,50)\n",
        "\n",
        "for x, y in zip(x0, y0):\n",
        "  ini= [x,y]\n",
        "  "
      ],
      "execution_count": 92,
      "outputs": []
    },
    {
      "cell_type": "code",
      "metadata": {
        "id": "08D0FcBYmKdI"
      },
      "source": [
        "r= integrate.odeint(mov, ini, ts)\n",
        "\n",
        "xx, yy = r.T"
      ],
      "execution_count": 93,
      "outputs": []
    },
    {
      "cell_type": "code",
      "metadata": {
        "colab": {
          "base_uri": "https://localhost:8080/",
          "height": 295
        },
        "id": "Kr5f6d5qsbhe",
        "outputId": "4c0c084b-151e-4834-9d21-14f7889a4653"
      },
      "source": [
        "plt.plot(xx, yy)\n",
        "plt.xlabel('$x$')\n",
        "plt.ylabel(\"$x'$\")\n",
        "plt.title('Espacio de configuraciones sistema masa-resorte')\n",
        "plt.grid();"
      ],
      "execution_count": 94,
      "outputs": [
        {
          "output_type": "display_data",
          "data": {
            "image/png": "[encoded data removed]",
            "text/plain": [
              "<Figure size 432x288 with 1 Axes>"
            ]
          },
          "metadata": {
            "tags": [],
            "needs_background": "light"
          }
        }
      ]
    },
    {
      "cell_type": "markdown",
      "metadata": {
        "id": "qGyktpLDs_Ep"
      },
      "source": [
        "# **Punto 2**"
      ]
    },
    {
      "cell_type": "markdown",
      "metadata": {
        "id": "ObPWLt1idqjc"
      },
      "source": [
        "**a) Fit y cálculo de ${\\tau}$**"
      ]
    },
    {
      "cell_type": "code",
      "metadata": {
        "id": "IkQ5U_C1cflq"
      },
      "source": [
        "import pandas as pd\n",
        "import scipy.optimize as optimize\n",
        "import matplotlib.pyplot as plt\n",
        "import numpy as np"
      ],
      "execution_count": 2,
      "outputs": []
    },
    {
      "cell_type": "code",
      "metadata": {
        "id": "wlLEkZllcuNy"
      },
      "source": [
        "df= pd.read_json('https://raw.githubusercontent.com/restrepo/ComputationalMethods/master/data/strontium.json')"
      ],
      "execution_count": 49,
      "outputs": []
    },
    {
      "cell_type": "code",
      "metadata": {
        "id": "7qM89K58q22w"
      },
      "source": [
        "def N(t, tau):\n",
        "  l=np.log(2)/tau\n",
        "  return 1000*np.exp(-l*t)"
      ],
      "execution_count": 26,
      "outputs": []
    },
    {
      "cell_type": "code",
      "metadata": {
        "id": "vt8Tam7yn01f"
      },
      "source": [
        "a, da= optimize.curve_fit(N, df['t'], df['N(t)'])\n",
        "\n",
        "x_l= np.linspace(0, 200)\n",
        "y_m= N(x_l, *a)"
      ],
      "execution_count": 34,
      "outputs": []
    },
    {
      "cell_type": "markdown",
      "metadata": {
        "id": "ew6-V9oYbvSu"
      },
      "source": [
        "El valor de ${\\tau}$ corresponde a la variable 'a'."
      ]
    },
    {
      "cell_type": "code",
      "metadata": {
        "colab": {
          "base_uri": "https://localhost:8080/"
        },
        "id": "qkDkmQ7pb2KI",
        "outputId": "1a2c273e-6185-4fbc-94c7-21a719313854"
      },
      "source": [
        "print(a)"
      ],
      "execution_count": 75,
      "outputs": [
        {
          "output_type": "stream",
          "text": [
            "[27.99164064]\n"
          ],
          "name": "stdout"
        }
      ]
    },
    {
      "cell_type": "code",
      "metadata": {
        "id": "Db-9hUm2gJxP"
      },
      "source": [
        "#Error#\n",
        "tfit= N(df.t, *a)"
      ],
      "execution_count": 53,
      "outputs": []
    },
    {
      "cell_type": "markdown",
      "metadata": {
        "id": "3Zp2iGaqcIim"
      },
      "source": [
        "# **b) Gráfica**"
      ]
    },
    {
      "cell_type": "code",
      "metadata": {
        "colab": {
          "base_uri": "https://localhost:8080/",
          "height": 410
        },
        "id": "fT790sPjYE5X",
        "outputId": "b70b4bae-7711-417b-a537-1fc52d1d254c"
      },
      "source": [
        "plt.figure(figsize=[8,6])\n",
        "plt.plot(df['t'], df['N(t)'], 'o', label=\"Datos\")\n",
        "plt.plot(x_l, y_m, 'g-', label=\"Fit\")\n",
        "for i in range(df.t.size):\n",
        "    plt.plot(np.array([df.t[i],df.t[i]]), np.array([df['N(t)'][i],tfit[i] ]),\"c-\")\n",
        "plt.xlabel('$t$')\n",
        "plt.ylabel('$N(t)$')\n",
        "plt.legend()\n",
        "plt.grid()\n",
        "plt.title('Deacaimiento exponencial del $Sr-90$', fontsize=15);"
      ],
      "execution_count": 96,
      "outputs": [
        {
          "output_type": "display_data",
          "data": {
            "image/png": "[encoded data removed]",
            "text/plain": [
              "<Figure size 576x432 with 1 Axes>"
            ]
          },
          "metadata": {
            "tags": [],
            "needs_background": "light"
          }
        }
      ]
    }
  ]
}