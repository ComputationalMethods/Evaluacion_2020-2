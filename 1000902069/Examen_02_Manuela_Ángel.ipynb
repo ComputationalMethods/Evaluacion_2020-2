{
  "nbformat": 4,
  "nbformat_minor": 0,
  "metadata": {
    "colab": {
      "name": "Examen_02_Manuela_Ángel",
      "provenance": []
    },
    "kernelspec": {
      "display_name": "Python 3",
      "language": "python",
      "name": "python3"
    },
    "language_info": {
      "codemirror_mode": {
        "name": "ipython",
        "version": 3
      },
      "file_extension": ".py",
      "mimetype": "text/x-python",
      "name": "python",
      "nbconvert_exporter": "python",
      "pygments_lexer": "ipython3",
      "version": "3.7.3"
    }
  },
  "cells": [
    {
      "cell_type": "markdown",
      "metadata": {
        "id": "CN-nz6iCZVao"
      },
      "source": [
        "I) The period of a pendulum of length l oscillating at a large angle $\\alpha$ is given by\n",
        "$$\n",
        "T=T_{0} \\frac{\\sqrt{2}}{\\pi} \\int_{0}^{\\alpha} \\frac{d \\theta}{(\\cos \\theta-\\cos \\alpha)^{\\frac{1}{2}}}\n",
        "$$\n",
        "where\n",
        "$$\n",
        "T_{0}=2 \\pi \\sqrt{\\frac{l}{g}}\n",
        "$$\n",
        "is the period of the same pendulum at small amplitudes. Any numerical evaluation of the integral as is would fail (explain why). If we change the variable by writing:\n",
        "$$\n",
        "\\sin \\frac{\\theta}{2}=\\sin \\frac{\\alpha}{2} \\sin \\phi\n",
        "$$\n",
        "we can get:\n",
        "$$\n",
        "T=\\frac{2 T_{0}}{\\pi} \\int_{0}^{\\frac{\\pi}{2}} \\frac{d \\phi}{\\left(1-\\sin ^{2} \\frac{\\alpha}{2} \\sin ^{2} \\phi\\right)^{\\frac{1}{2}}}\n",
        "$$\n",
        "which is a well-behaved integral. Write a program to use the above integral to calculate the ratio $T/T_0$ for integral amplitudes $0^\\circ \\le\\alpha \\le 90^\\circ$. Output these values as a pandas dataframe showing the amplitude in degrees and radians as well as $T/T_0$, and make a plot with the two columns. Explain the result when $\\alpha = 0.$ "
      ]
    },
    {
      "cell_type": "code",
      "metadata": {
        "id": "SkxOOBwywv8B"
      },
      "source": [
        "import numpy as np\n",
        "from scipy import integrate\n",
        "import pandas as pd\n",
        "import matplotlib.pyplot as plt"
      ],
      "execution_count": 26,
      "outputs": []
    },
    {
      "cell_type": "code",
      "metadata": {
        "id": "BjJhtjvBh2no"
      },
      "source": [
        "l=np.linspace(0,np.pi/2)\n",
        "t=[]\n",
        "for i in l:\n",
        "  m=integrate.quad(lambda x: 1/(np.sqrt(1-(np.sin(x)**2)*(np.sin(i/2)**2))), 0, np.pi/2)[0]\n",
        "  w=(2/np.pi)*m\n",
        "  t.append(w)\n",
        "\n"
      ],
      "execution_count": 59,
      "outputs": []
    },
    {
      "cell_type": "code",
      "metadata": {
        "id": "P1dvdSFLjL39"
      },
      "source": [
        "T=pd.DataFrame(data=t,columns=['T/T0'])"
      ],
      "execution_count": 61,
      "outputs": []
    },
    {
      "cell_type": "code",
      "metadata": {
        "id": "WJr4aWPrk4HL",
        "outputId": "46e507b8-936c-4abc-da70-941fca15b9f1",
        "colab": {
          "base_uri": "https://localhost:8080/",
          "height": 1000
        }
      },
      "source": [
        "T['Rad']=l\n",
        "T['Deg']=l*180/np.pi\n",
        "T"
      ],
      "execution_count": 62,
      "outputs": [
        {
          "output_type": "execute_result",
          "data": {
            "text/html": [
              "<div>\n",
              "<style scoped>\n",
              "    .dataframe tbody tr th:only-of-type {\n",
              "        vertical-align: middle;\n",
              "    }\n",
              "\n",
              "    .dataframe tbody tr th {\n",
              "        vertical-align: top;\n",
              "    }\n",
              "\n",
              "    .dataframe thead th {\n",
              "        text-align: right;\n",
              "    }\n",
              "</style>\n",
              "<table border=\"1\" class=\"dataframe\">\n",
              "  <thead>\n",
              "    <tr style=\"text-align: right;\">\n",
              "      <th></th>\n",
              "      <th>T/T0</th>\n",
              "      <th>Rad</th>\n",
              "      <th>Deg</th>\n",
              "    </tr>\n",
              "  </thead>\n",
              "  <tbody>\n",
              "    <tr>\n",
              "      <th>0</th>\n",
              "      <td>1.000000</td>\n",
              "      <td>0.000000</td>\n",
              "      <td>0.000000</td>\n",
              "    </tr>\n",
              "    <tr>\n",
              "      <th>1</th>\n",
              "      <td>1.000064</td>\n",
              "      <td>0.032057</td>\n",
              "      <td>1.836735</td>\n",
              "    </tr>\n",
              "    <tr>\n",
              "      <th>2</th>\n",
              "      <td>1.000257</td>\n",
              "      <td>0.064114</td>\n",
              "      <td>3.673469</td>\n",
              "    </tr>\n",
              "    <tr>\n",
              "      <th>3</th>\n",
              "      <td>1.000578</td>\n",
              "      <td>0.096171</td>\n",
              "      <td>5.510204</td>\n",
              "    </tr>\n",
              "    <tr>\n",
              "      <th>4</th>\n",
              "      <td>1.001029</td>\n",
              "      <td>0.128228</td>\n",
              "      <td>7.346939</td>\n",
              "    </tr>\n",
              "    <tr>\n",
              "      <th>5</th>\n",
              "      <td>1.001608</td>\n",
              "      <td>0.160285</td>\n",
              "      <td>9.183673</td>\n",
              "    </tr>\n",
              "    <tr>\n",
              "      <th>6</th>\n",
              "      <td>1.002317</td>\n",
              "      <td>0.192342</td>\n",
              "      <td>11.020408</td>\n",
              "    </tr>\n",
              "    <tr>\n",
              "      <th>7</th>\n",
              "      <td>1.003156</td>\n",
              "      <td>0.224399</td>\n",
              "      <td>12.857143</td>\n",
              "    </tr>\n",
              "    <tr>\n",
              "      <th>8</th>\n",
              "      <td>1.004126</td>\n",
              "      <td>0.256457</td>\n",
              "      <td>14.693878</td>\n",
              "    </tr>\n",
              "    <tr>\n",
              "      <th>9</th>\n",
              "      <td>1.005227</td>\n",
              "      <td>0.288514</td>\n",
              "      <td>16.530612</td>\n",
              "    </tr>\n",
              "    <tr>\n",
              "      <th>10</th>\n",
              "      <td>1.006461</td>\n",
              "      <td>0.320571</td>\n",
              "      <td>18.367347</td>\n",
              "    </tr>\n",
              "    <tr>\n",
              "      <th>11</th>\n",
              "      <td>1.007827</td>\n",
              "      <td>0.352628</td>\n",
              "      <td>20.204082</td>\n",
              "    </tr>\n",
              "    <tr>\n",
              "      <th>12</th>\n",
              "      <td>1.009328</td>\n",
              "      <td>0.384685</td>\n",
              "      <td>22.040816</td>\n",
              "    </tr>\n",
              "    <tr>\n",
              "      <th>13</th>\n",
              "      <td>1.010964</td>\n",
              "      <td>0.416742</td>\n",
              "      <td>23.877551</td>\n",
              "    </tr>\n",
              "    <tr>\n",
              "      <th>14</th>\n",
              "      <td>1.012736</td>\n",
              "      <td>0.448799</td>\n",
              "      <td>25.714286</td>\n",
              "    </tr>\n",
              "    <tr>\n",
              "      <th>15</th>\n",
              "      <td>1.014646</td>\n",
              "      <td>0.480856</td>\n",
              "      <td>27.551020</td>\n",
              "    </tr>\n",
              "    <tr>\n",
              "      <th>16</th>\n",
              "      <td>1.016695</td>\n",
              "      <td>0.512913</td>\n",
              "      <td>29.387755</td>\n",
              "    </tr>\n",
              "    <tr>\n",
              "      <th>17</th>\n",
              "      <td>1.018884</td>\n",
              "      <td>0.544970</td>\n",
              "      <td>31.224490</td>\n",
              "    </tr>\n",
              "    <tr>\n",
              "      <th>18</th>\n",
              "      <td>1.021216</td>\n",
              "      <td>0.577027</td>\n",
              "      <td>33.061224</td>\n",
              "    </tr>\n",
              "    <tr>\n",
              "      <th>19</th>\n",
              "      <td>1.023692</td>\n",
              "      <td>0.609084</td>\n",
              "      <td>34.897959</td>\n",
              "    </tr>\n",
              "    <tr>\n",
              "      <th>20</th>\n",
              "      <td>1.026313</td>\n",
              "      <td>0.641141</td>\n",
              "      <td>36.734694</td>\n",
              "    </tr>\n",
              "    <tr>\n",
              "      <th>21</th>\n",
              "      <td>1.029083</td>\n",
              "      <td>0.673198</td>\n",
              "      <td>38.571429</td>\n",
              "    </tr>\n",
              "    <tr>\n",
              "      <th>22</th>\n",
              "      <td>1.032002</td>\n",
              "      <td>0.705255</td>\n",
              "      <td>40.408163</td>\n",
              "    </tr>\n",
              "    <tr>\n",
              "      <th>23</th>\n",
              "      <td>1.035074</td>\n",
              "      <td>0.737313</td>\n",
              "      <td>42.244898</td>\n",
              "    </tr>\n",
              "    <tr>\n",
              "      <th>24</th>\n",
              "      <td>1.038301</td>\n",
              "      <td>0.769370</td>\n",
              "      <td>44.081633</td>\n",
              "    </tr>\n",
              "    <tr>\n",
              "      <th>25</th>\n",
              "      <td>1.041685</td>\n",
              "      <td>0.801427</td>\n",
              "      <td>45.918367</td>\n",
              "    </tr>\n",
              "    <tr>\n",
              "      <th>26</th>\n",
              "      <td>1.045229</td>\n",
              "      <td>0.833484</td>\n",
              "      <td>47.755102</td>\n",
              "    </tr>\n",
              "    <tr>\n",
              "      <th>27</th>\n",
              "      <td>1.048937</td>\n",
              "      <td>0.865541</td>\n",
              "      <td>49.591837</td>\n",
              "    </tr>\n",
              "    <tr>\n",
              "      <th>28</th>\n",
              "      <td>1.052810</td>\n",
              "      <td>0.897598</td>\n",
              "      <td>51.428571</td>\n",
              "    </tr>\n",
              "    <tr>\n",
              "      <th>29</th>\n",
              "      <td>1.056853</td>\n",
              "      <td>0.929655</td>\n",
              "      <td>53.265306</td>\n",
              "    </tr>\n",
              "    <tr>\n",
              "      <th>30</th>\n",
              "      <td>1.061068</td>\n",
              "      <td>0.961712</td>\n",
              "      <td>55.102041</td>\n",
              "    </tr>\n",
              "    <tr>\n",
              "      <th>31</th>\n",
              "      <td>1.065460</td>\n",
              "      <td>0.993769</td>\n",
              "      <td>56.938776</td>\n",
              "    </tr>\n",
              "    <tr>\n",
              "      <th>32</th>\n",
              "      <td>1.070032</td>\n",
              "      <td>1.025826</td>\n",
              "      <td>58.775510</td>\n",
              "    </tr>\n",
              "    <tr>\n",
              "      <th>33</th>\n",
              "      <td>1.074788</td>\n",
              "      <td>1.057883</td>\n",
              "      <td>60.612245</td>\n",
              "    </tr>\n",
              "    <tr>\n",
              "      <th>34</th>\n",
              "      <td>1.079733</td>\n",
              "      <td>1.089940</td>\n",
              "      <td>62.448980</td>\n",
              "    </tr>\n",
              "    <tr>\n",
              "      <th>35</th>\n",
              "      <td>1.084871</td>\n",
              "      <td>1.121997</td>\n",
              "      <td>64.285714</td>\n",
              "    </tr>\n",
              "    <tr>\n",
              "      <th>36</th>\n",
              "      <td>1.090207</td>\n",
              "      <td>1.154054</td>\n",
              "      <td>66.122449</td>\n",
              "    </tr>\n",
              "    <tr>\n",
              "      <th>37</th>\n",
              "      <td>1.095746</td>\n",
              "      <td>1.186112</td>\n",
              "      <td>67.959184</td>\n",
              "    </tr>\n",
              "    <tr>\n",
              "      <th>38</th>\n",
              "      <td>1.101493</td>\n",
              "      <td>1.218169</td>\n",
              "      <td>69.795918</td>\n",
              "    </tr>\n",
              "    <tr>\n",
              "      <th>39</th>\n",
              "      <td>1.107454</td>\n",
              "      <td>1.250226</td>\n",
              "      <td>71.632653</td>\n",
              "    </tr>\n",
              "    <tr>\n",
              "      <th>40</th>\n",
              "      <td>1.113636</td>\n",
              "      <td>1.282283</td>\n",
              "      <td>73.469388</td>\n",
              "    </tr>\n",
              "    <tr>\n",
              "      <th>41</th>\n",
              "      <td>1.120043</td>\n",
              "      <td>1.314340</td>\n",
              "      <td>75.306122</td>\n",
              "    </tr>\n",
              "    <tr>\n",
              "      <th>42</th>\n",
              "      <td>1.126683</td>\n",
              "      <td>1.346397</td>\n",
              "      <td>77.142857</td>\n",
              "    </tr>\n",
              "    <tr>\n",
              "      <th>43</th>\n",
              "      <td>1.133564</td>\n",
              "      <td>1.378454</td>\n",
              "      <td>78.979592</td>\n",
              "    </tr>\n",
              "    <tr>\n",
              "      <th>44</th>\n",
              "      <td>1.140692</td>\n",
              "      <td>1.410511</td>\n",
              "      <td>80.816327</td>\n",
              "    </tr>\n",
              "    <tr>\n",
              "      <th>45</th>\n",
              "      <td>1.148075</td>\n",
              "      <td>1.442568</td>\n",
              "      <td>82.653061</td>\n",
              "    </tr>\n",
              "    <tr>\n",
              "      <th>46</th>\n",
              "      <td>1.155722</td>\n",
              "      <td>1.474625</td>\n",
              "      <td>84.489796</td>\n",
              "    </tr>\n",
              "    <tr>\n",
              "      <th>47</th>\n",
              "      <td>1.163643</td>\n",
              "      <td>1.506682</td>\n",
              "      <td>86.326531</td>\n",
              "    </tr>\n",
              "    <tr>\n",
              "      <th>48</th>\n",
              "      <td>1.171845</td>\n",
              "      <td>1.538739</td>\n",
              "      <td>88.163265</td>\n",
              "    </tr>\n",
              "    <tr>\n",
              "      <th>49</th>\n",
              "      <td>1.180341</td>\n",
              "      <td>1.570796</td>\n",
              "      <td>90.000000</td>\n",
              "    </tr>\n",
              "  </tbody>\n",
              "</table>\n",
              "</div>"
            ],
            "text/plain": [
              "        T/T0       Rad        Deg\n",
              "0   1.000000  0.000000   0.000000\n",
              "1   1.000064  0.032057   1.836735\n",
              "2   1.000257  0.064114   3.673469\n",
              "3   1.000578  0.096171   5.510204\n",
              "4   1.001029  0.128228   7.346939\n",
              "5   1.001608  0.160285   9.183673\n",
              "6   1.002317  0.192342  11.020408\n",
              "7   1.003156  0.224399  12.857143\n",
              "8   1.004126  0.256457  14.693878\n",
              "9   1.005227  0.288514  16.530612\n",
              "10  1.006461  0.320571  18.367347\n",
              "11  1.007827  0.352628  20.204082\n",
              "12  1.009328  0.384685  22.040816\n",
              "13  1.010964  0.416742  23.877551\n",
              "14  1.012736  0.448799  25.714286\n",
              "15  1.014646  0.480856  27.551020\n",
              "16  1.016695  0.512913  29.387755\n",
              "17  1.018884  0.544970  31.224490\n",
              "18  1.021216  0.577027  33.061224\n",
              "19  1.023692  0.609084  34.897959\n",
              "20  1.026313  0.641141  36.734694\n",
              "21  1.029083  0.673198  38.571429\n",
              "22  1.032002  0.705255  40.408163\n",
              "23  1.035074  0.737313  42.244898\n",
              "24  1.038301  0.769370  44.081633\n",
              "25  1.041685  0.801427  45.918367\n",
              "26  1.045229  0.833484  47.755102\n",
              "27  1.048937  0.865541  49.591837\n",
              "28  1.052810  0.897598  51.428571\n",
              "29  1.056853  0.929655  53.265306\n",
              "30  1.061068  0.961712  55.102041\n",
              "31  1.065460  0.993769  56.938776\n",
              "32  1.070032  1.025826  58.775510\n",
              "33  1.074788  1.057883  60.612245\n",
              "34  1.079733  1.089940  62.448980\n",
              "35  1.084871  1.121997  64.285714\n",
              "36  1.090207  1.154054  66.122449\n",
              "37  1.095746  1.186112  67.959184\n",
              "38  1.101493  1.218169  69.795918\n",
              "39  1.107454  1.250226  71.632653\n",
              "40  1.113636  1.282283  73.469388\n",
              "41  1.120043  1.314340  75.306122\n",
              "42  1.126683  1.346397  77.142857\n",
              "43  1.133564  1.378454  78.979592\n",
              "44  1.140692  1.410511  80.816327\n",
              "45  1.148075  1.442568  82.653061\n",
              "46  1.155722  1.474625  84.489796\n",
              "47  1.163643  1.506682  86.326531\n",
              "48  1.171845  1.538739  88.163265\n",
              "49  1.180341  1.570796  90.000000"
            ]
          },
          "metadata": {
            "tags": []
          },
          "execution_count": 62
        }
      ]
    },
    {
      "cell_type": "code",
      "metadata": {
        "id": "26LGTOljlcd7",
        "outputId": "ac2c3328-1a7b-4c93-aa35-4cc47f77878d",
        "colab": {
          "base_uri": "https://localhost:8080/",
          "height": 295
        }
      },
      "source": [
        "plt.plot(t,l)\n",
        "plt.grid()\n",
        "plt.xlabel('T/T0')\n",
        "plt.ylabel('alpha')\n",
        "plt.title('T/T0 vs. alpha');"
      ],
      "execution_count": 70,
      "outputs": [
        {
          "output_type": "display_data",
          "data": {
            "image/png": "[encoded data removed]",
            "text/plain": [
              "<Figure size 432x288 with 1 Axes>"
            ]
          },
          "metadata": {
            "tags": [],
            "needs_background": "light"
          }
        }
      ]
    },
    {
      "cell_type": "markdown",
      "metadata": {
        "id": "ibhSkZYJo5dd"
      },
      "source": [
        "En la primera integral dada, cualquier evaluación numérica fallaría porque es una integral impropia, que presenta una discontinuidad en $\\alpha$.\n",
        "\n",
        "Al hacer el cambio de variable, y hacer $\\alpha$ = 0, se tiene que el periodo para pequeñas oscilaciones es igual al periodo para grandes oscilaciones, esto es, $\\phi$ es un ángulo \"pequeño\"."
      ]
    },
    {
      "cell_type": "markdown",
      "metadata": {
        "id": "Bc1wXQwxZVap"
      },
      "source": [
        "II)\n",
        "### Casas-Ibarra parameterization\n",
        "Consider a $n\\times n$ symmetric matrix $A$. We can assumme without lost of generality that this can be generated from a matrix $Y$ such that\n",
        "$$\n",
        "A=Y^{\\operatorname{T}}Y\n",
        "$$\n",
        "Theorem 1 gurantees that exists an ortogonal matrix $U$ such that\n",
        "$$\n",
        "U^{\\operatorname{T}} A U=U^{\\operatorname{T}} Y^{\\operatorname{T}}Y U=D_\\lambda\n",
        "$$\n",
        "where\n",
        "$$\n",
        "D_{\\lambda}=A_{\\text{diag}}=\\operatorname{diag}\\left(\\lambda_1,\\lambda_2,\\ldots,\\lambda_n\\right)\n",
        "$$\n",
        "where $\\lambda_i$ are the eigenvalues of $A$. Therefore\n",
        "\\begin{align}\n",
        " Y^{\\operatorname{T}}Y =&U D_\\lambda U^{\\operatorname{T}}\\\\\n",
        " =&U D_{\\sqrt{\\lambda}} D_{\\sqrt{\\lambda}} U^{\\operatorname{T}}\\\\\n",
        "\\end{align}\n",
        "where\n",
        "$$\n",
        "D_{\\sqrt{\\lambda}}=\\operatorname{diag}\\left(\\sqrt{\\lambda_1},\\sqrt{\\lambda_2},\\ldots \\sqrt{\\lambda_n}\\right)\n",
        "$$\n",
        "Therefore, exists an ortogonal arbitrary matrix $R$, such that\n",
        "$$\n",
        " Y^{\\operatorname{T}}Y =U D_{\\sqrt{\\lambda}}R^{\\operatorname{T}}R D_{\\sqrt{\\lambda}} U^{\\operatorname{T}}\\\\\n",
        "$$\n",
        "\n",
        "In this way, the matrix $Y$ can be parameterized in terms of $R$ as\n",
        "$$\n",
        "Y=R D_{\\sqrt{\\lambda}} U^{\\operatorname{T}}\n",
        "$$\n",
        "\n",
        "\n",
        "1) By using the previous equations, build a matrix $Y$ $2\\times 2$ with the following conditions\n",
        "* $R$ is an orthogonal matrix with a mixing angle as a random number between $(0,2\\pi)$. Use your identification number as the seed of the random number generator.\n",
        "* The eigenvalues are $\\lambda_1=2$ and $\\lambda_2=4$. \n",
        "* $U$ is a diagonalization matrix with mixing angle $\\pi/4$\n",
        "\n",
        "2) Build the matrix $A$ and check that has the proper eigenvalues and eigenvectors"
      ]
    },
    {
      "cell_type": "code",
      "metadata": {
        "id": "ueT_Gl6HZVaq"
      },
      "source": [
        "np.random.seed(1000902069)\n",
        "p=np.random.uniform(0,2*np.pi)\n"
      ],
      "execution_count": 73,
      "outputs": []
    },
    {
      "cell_type": "code",
      "metadata": {
        "id": "n6NvfjxaxdON",
        "outputId": "d0b67605-ee24-455d-b5ed-eebe09bd46e4",
        "colab": {
          "base_uri": "https://localhost:8080/"
        }
      },
      "source": [
        "def R(r):\n",
        "  return np.array([[np.cos(r),np.sin(r)],\n",
        "                  [-np.sin(r), np.cos(r)]])\n",
        "  \n",
        "R(p)"
      ],
      "execution_count": 77,
      "outputs": [
        {
          "output_type": "execute_result",
          "data": {
            "text/plain": [
              "array([[-0.99378224,  0.11134116],\n",
              "       [-0.11134116, -0.99378224]])"
            ]
          },
          "metadata": {
            "tags": []
          },
          "execution_count": 77
        }
      ]
    },
    {
      "cell_type": "code",
      "metadata": {
        "id": "7IWOpljwwlrj",
        "outputId": "cfe1a499-6536-4b59-c23b-c553e4b8c298",
        "colab": {
          "base_uri": "https://localhost:8080/"
        }
      },
      "source": [
        "D=np.diag([2,4])\n",
        "D"
      ],
      "execution_count": 82,
      "outputs": [
        {
          "output_type": "execute_result",
          "data": {
            "text/plain": [
              "array([[2, 0],\n",
              "       [0, 4]])"
            ]
          },
          "metadata": {
            "tags": []
          },
          "execution_count": 82
        }
      ]
    },
    {
      "cell_type": "code",
      "metadata": {
        "id": "0L5_7_pv0Ecz",
        "outputId": "8a5def61-3bd1-4f95-86fb-4ef639776408",
        "colab": {
          "base_uri": "https://localhost:8080/"
        }
      },
      "source": [
        "D_= np.sqrt(D).round(3)\n",
        "D_"
      ],
      "execution_count": 96,
      "outputs": [
        {
          "output_type": "execute_result",
          "data": {
            "text/plain": [
              "array([[1.414, 0.   ],\n",
              "       [0.   , 2.   ]])"
            ]
          },
          "metadata": {
            "tags": []
          },
          "execution_count": 96
        }
      ]
    },
    {
      "cell_type": "code",
      "metadata": {
        "id": "kQPHf8950nBF"
      },
      "source": [
        "q=np.random.uniform(0,np.pi/4)\n",
        "def U(r):\n",
        "  return np.array([[np.cos(r),np.sin(r)],\n",
        "                  [-np.sin(r), np.cos(r)]])"
      ],
      "execution_count": 88,
      "outputs": []
    },
    {
      "cell_type": "code",
      "metadata": {
        "id": "rZEhUZzS03qG",
        "outputId": "3321e6ea-e75e-43fe-fafa-e3d00d3ae169",
        "colab": {
          "base_uri": "https://localhost:8080/"
        }
      },
      "source": [
        "U(q)"
      ],
      "execution_count": 89,
      "outputs": [
        {
          "output_type": "execute_result",
          "data": {
            "text/plain": [
              "array([[ 0.92967962,  0.36836912],\n",
              "       [-0.36836912,  0.92967962]])"
            ]
          },
          "metadata": {
            "tags": []
          },
          "execution_count": 89
        }
      ]
    },
    {
      "cell_type": "code",
      "metadata": {
        "id": "f0PsEtGJ05q5",
        "outputId": "2c8937c4-ff47-4f2d-b420-3ab99e7ae3d4",
        "colab": {
          "base_uri": "https://localhost:8080/"
        }
      },
      "source": [
        "UT=np.transpose(U(q))\n",
        "UT"
      ],
      "execution_count": 101,
      "outputs": [
        {
          "output_type": "execute_result",
          "data": {
            "text/plain": [
              "array([[ 0.92967962, -0.36836912],\n",
              "       [ 0.36836912,  0.92967962]])"
            ]
          },
          "metadata": {
            "tags": []
          },
          "execution_count": 101
        }
      ]
    },
    {
      "cell_type": "code",
      "metadata": {
        "id": "BfJlLbwZ1B5z",
        "outputId": "31015f5a-bd98-4291-856d-356eccda4cf6",
        "colab": {
          "base_uri": "https://localhost:8080/"
        }
      },
      "source": [
        "Y=np.dot(R(p),np.dot(D_,UT))\n",
        "Y"
      ],
      "execution_count": 97,
      "outputs": [
        {
          "output_type": "execute_result",
          "data": {
            "text/plain": [
              "array([[-1.22436404,  0.72465847],\n",
              "       [-0.87852279, -1.78980349]])"
            ]
          },
          "metadata": {
            "tags": []
          },
          "execution_count": 97
        }
      ]
    },
    {
      "cell_type": "code",
      "metadata": {
        "id": "5ygBxARJ1c4M",
        "outputId": "6e88b206-9b3d-4087-d6da-0bd961d92656",
        "colab": {
          "base_uri": "https://localhost:8080/"
        }
      },
      "source": [
        "A=np.dot(np.transpose(Y),Y)\n",
        "A"
      ],
      "execution_count": 98,
      "outputs": [
        {
          "output_type": "execute_result",
          "data": {
            "text/plain": [
              "array([[2.27086958, 0.68513737],\n",
              "       [0.68513737, 3.72852642]])"
            ]
          },
          "metadata": {
            "tags": []
          },
          "execution_count": 98
        }
      ]
    },
    {
      "cell_type": "code",
      "metadata": {
        "id": "Agym50I0262-",
        "outputId": "6ccadf86-9b9e-4627-d239-3a5da654215a",
        "colab": {
          "base_uri": "https://localhost:8080/"
        }
      },
      "source": [
        "np.linalg.eig(A)"
      ],
      "execution_count": 100,
      "outputs": [
        {
          "output_type": "execute_result",
          "data": {
            "text/plain": [
              "(array([1.999396, 4.      ]), array([[-0.92967962, -0.36836912],\n",
              "        [ 0.36836912, -0.92967962]]))"
            ]
          },
          "metadata": {
            "tags": []
          },
          "execution_count": 100
        }
      ]
    },
    {
      "cell_type": "markdown",
      "metadata": {
        "id": "nmoZPk503DGc"
      },
      "source": [
        "Efectivamente, tiene los valores y vectores propios adecuados."
      ]
    }
  ]
}