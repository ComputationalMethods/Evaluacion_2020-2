{
  "nbformat": 4,
  "nbformat_minor": 0,
  "metadata": {
    "kernelspec": {
      "display_name": "Python 3",
      "language": "python",
      "name": "python3"
    },
    "language_info": {
      "codemirror_mode": {
        "name": "ipython",
        "version": 3
      },
      "file_extension": ".py",
      "mimetype": "text/x-python",
      "name": "python",
      "nbconvert_exporter": "python",
      "pygments_lexer": "ipython3",
      "version": "3.7.3"
    },
    "colab": {
      "name": "linear-algebra-diagonalization.ipynb",
      "provenance": []
    }
  },
  "cells": [
    {
      "cell_type": "markdown",
      "metadata": {
        "id": "I-46MAJZImXY"
      },
      "source": [
        "# Matrix diagonalization"
      ]
    },
    {
      "cell_type": "markdown",
      "metadata": {
        "id": "40WhQJy2EWqx"
      },
      "source": [
        "## Theorem 1\n",
        "\n",
        "If $\\boldsymbol{A}$ is Hermitic, e.g:\n",
        "\\begin{align}\n",
        "\\boldsymbol{A}^\\dagger =\\boldsymbol{A}\\,,\n",
        "\\end{align}\n",
        "Then exists an _unitary  matrix_ $\\boldsymbol{V}$ e.g:\n",
        "\\begin{align}\n",
        "\\boldsymbol{V}^{\\ -1}=\\boldsymbol{V}^\\dagger \\,,\n",
        "\\end{align}\n",
        "such that\n",
        "\\begin{equation}\n",
        "  \\boldsymbol{V}^\\dagger\\boldsymbol{A}\\,\\boldsymbol{V}=\\boldsymbol{A}_{\\text{diag}}\\,,\n",
        "\\end{equation}\n",
        "where \n",
        "$\\boldsymbol{A}_{\\text{diag}}=\\operatorname{diag}(\\lambda_1,\\lambda_2,\\ldots \\lambda_n)$ is the diagonalized mass matrix."
      ]
    },
    {
      "cell_type": "markdown",
      "metadata": {
        "id": "QousO-tmLx5e"
      },
      "source": [
        "### Corollary 1\n",
        "\n",
        "If $\\boldsymbol{A}$ is symmetric, e.g:\n",
        "\\begin{align}\n",
        "\\boldsymbol{A}^{\\operatorname{T}} =\\boldsymbol{A}\\,,\n",
        "\\end{align}\n",
        "Then exists an _ortogonal matrix_ $\\boldsymbol{V}$, e.g:\n",
        "\\begin{align}\n",
        "\\boldsymbol{V}^{-1}=\\boldsymbol{V}^{\\operatorname{T}} \\,,\n",
        "\\end{align}\n",
        "such that\n",
        "\\begin{equation}\n",
        "  \\boldsymbol{V}^{\\operatorname{T}}\\boldsymbol{A}\\,\\boldsymbol{V}=\\boldsymbol{A}_{\\text{diag}}\\,,\n",
        "\\end{equation}\n",
        "where \n",
        "$\\boldsymbol{A}_{\\text{diag}}=\\operatorname{diag}(\\lambda_1,\\lambda_2,\\ldots \\lambda_n)$ is the diagonalized mass matrix."
      ]
    },
    {
      "cell_type": "markdown",
      "metadata": {
        "id": "wbFQHnH6_yJd"
      },
      "source": [
        "____"
      ]
    },
    {
      "cell_type": "markdown",
      "metadata": {
        "id": "Czn5t78GZepT"
      },
      "source": [
        "## Eigenvector problem\n",
        "Note that each eigenvector, corresponding to each column of the matrix, is associated to each eigenvalue\n",
        "$$\n",
        "\\boldsymbol{V}=\\begin{bmatrix}\n",
        "\\boldsymbol{V}_1 \\vdots \\boldsymbol{V}_2\\cdots \\vdots \\boldsymbol{V}_i \\vdots \\boldsymbol{V}_j\\vdots\\cdots \\vdots \\boldsymbol{V}_n \n",
        "\\end{bmatrix}.\n",
        "$$\n",
        "where $\\boldsymbol{V}_i$ is the $i$-th column of the matrix  $\\boldsymbol{V}$.\n",
        "\n",
        "In this way, if we interchange the $i\\leftrightarrow j$ columns of the diagonalization matrix $\\boldsymbol{V}$, the order of the eigenvalues also change\n",
        "$$\n",
        "\\begin{bmatrix}\n",
        "\\boldsymbol{V}_1 \\vdots \\boldsymbol{V}_2\\cdots \\vdots \\boldsymbol{V}_j \\vdots \\boldsymbol{V}_i\\vdots\\cdots \\vdots \\boldsymbol{V}_n \n",
        "\\end{bmatrix}^\\dagger \\boldsymbol{A} \\begin{bmatrix}\n",
        "\\boldsymbol{V}_1 \\vdots \\boldsymbol{V}_2\\cdots \\vdots \\boldsymbol{V}_j \\vdots \\boldsymbol{V}_i\\vdots\\cdots \\vdots \\boldsymbol{V}_n \n",
        "\\end{bmatrix}=\\operatorname{diag}(\\lambda_1,\\lambda_2,\\ldots,\\lambda_j,\\lambda_i,\\ldots \\lambda_n).\n",
        "$$\n",
        "This property is very important because usually the diagonalizationn alghoritm gives not the desired ordering of the eigenvalues and eigenvectors. It is recommended to use the `np.c_` method for the eigenvector reoirdering\n",
        "\n",
        "However, the __Theorem__ only guarantees existence. Tor really calculate the diagonalization matrix we must establish the eigenvector problem:\n",
        "\n",
        "We can use the unitary propery to write\n",
        "\\begin{align}\n",
        "  \\boldsymbol{V}\\boldsymbol{V}^\\dagger\\boldsymbol{A}\\,\\boldsymbol{V}=&\\boldsymbol{V}\\boldsymbol{A}_{\\text{diag}}\\\\\n",
        "\\boldsymbol{A}\\,\\boldsymbol{V}=&\\boldsymbol{V}\\boldsymbol{A}_{\\text{diag}}\\,,\n",
        "\\end{align}\n",
        "or\n",
        "$$\n",
        "\\boldsymbol{A}\\begin{bmatrix}\n",
        "\\boldsymbol{V}_1 \\vdots \\boldsymbol{V}_2\\cdots \\vdots \\boldsymbol{V}_n \n",
        "\\end{bmatrix} =\\operatorname{diag}(\\lambda_1,\\lambda_2\\ldots,\\lambda_n)\\begin{bmatrix}\n",
        "\\boldsymbol{V}_1 \\vdots \\boldsymbol{V}_2\\cdots  \\vdots \\boldsymbol{V}_n \n",
        "\\end{bmatrix}.\n",
        "$$\n",
        "Therefore, the eigenvalue equation is just:\n",
        "\\begin{align}\n",
        "%$$\n",
        "  \\boldsymbol{A}\\,\\boldsymbol{V}_i=&\\lambda_i\\boldsymbol{V}_i \\nonumber\\\\\n",
        "  \\boldsymbol{A}\\,\\boldsymbol{V}_i-\\lambda_i\\boldsymbol{V}_i=&\\boldsymbol{0} \\nonumber\\\\\n",
        "  (\\boldsymbol{A}-\\lambda_i \\,\\boldsymbol{I})\\boldsymbol{V}_i=&\\boldsymbol{0}\\,,\n",
        "%$$\n",
        "\\end{align}\n",
        "where $\\boldsymbol{V}_i$ is the $i$-th column of the matrix  $\\boldsymbol{V}$, and $\\boldsymbol{I}$ is the identity matrix. \n",
        "\n",
        "To avoid the trivial solution $\\boldsymbol{V}_i=\\boldsymbol{0}$, we require that $\\boldsymbol{A}-\\lambda_i\\, \\boldsymbol{I}$\n",
        "does not have an inverse, or equivalently\n",
        "$$\\det( \\boldsymbol{A}-\\lambda_i\\, \\boldsymbol{I})=0\\,.$$"
      ]
    },
    {
      "cell_type": "markdown",
      "metadata": {
        "id": "j-33BMlK_yJf"
      },
      "source": [
        "### Example\n",
        "The observables associated to the three neutrinos are the entries of a $3\\times 3$ unitary matrix $\\boldsymbol{U}=\\begin{pmatrix}\\boldsymbol{U}_1\\vdots\\boldsymbol{U}_2\\vdots\\boldsymbol{U}_3\\end{pmatrix}$ and the eigenvalues associated to each eigenvector $\\boldsymbol{U}_1\\to  m_1$, $\\boldsymbol{U}_2\\to m_2$, $\\boldsymbol{U}_3\\to m_3$. The unitary matrix can be parameterized in terms of three mixing angles, $\\theta_{12}$ $\\theta_{13}$, $\\theta_{13}$, and a complex phase, $\\delta_{\\text{CP}}$, such that\n",
        "$$\n",
        "\\boldsymbol{U}=\\left(\\begin{array}{ccc}\n",
        "1 & 0 & 0 \\\\\n",
        "0 & c_{23} & s_{23} \\\\\n",
        "0 & -s_{23} & c_{23}\n",
        "\\end{array}\\right) \\cdot\\left(\\begin{array}{ccc}\n",
        "c_{13} & 0 & s_{13} e^{-i \\delta_{\\mathrm{CP}}} \\\\\n",
        "0 & 1 & 0 \\\\\n",
        "-s_{13} e^{i \\delta_{\\mathrm{CP}}} & 0 & c_{13}\n",
        "\\end{array}\\right) \\cdot\\left(\\begin{array}{ccc}\n",
        "c_{21} & s_{12} & 0 \\\\\n",
        "-s_{12} & c_{12} & 0 \\\\\n",
        "0 & 0 & 1\n",
        "\\end{array}\\right),\n",
        "$$\n",
        "where $c_{i j} \\equiv \\cos \\theta_{i j}$ and $s_{i j} \\equiv \\sin \\theta_{i j}$. Thus, we can write $\\boldsymbol{U}$ as\n",
        "$$\n",
        "\\boldsymbol{U}=\\left(\\begin{array}{ccc}c_{12} c_{13} & s_{12} c_{13} & s_{13} e^{-i \\delta_{\\mathrm{CP}}} \\\\ -s_{12} c_{23}-c_{12} s_{13} s_{23} e^{i \\delta_{\\mathrm{CP}}} & c_{12} c_{23}-s_{12} s_{13} s_{23} e^{i \\delta_{\\mathrm{CP}}} & c_{13} s_{23} \\\\ s_{12} s_{23}-c_{12} s_{13} c_{23} e^{i \\delta_{\\mathrm{CP}}} & -c_{12} s_{23}-s_{12} s_{13} c_{23} e^{i \\delta_{\\mathrm{CP}}} & c_{13} c_{23}\\end{array}\\right)\n",
        "$$\n",
        "so that\n",
        "$$\n",
        "\\boldsymbol{U}_1=\\begin{pmatrix}\n",
        "c_{12} c_{13} \\\\\n",
        "-s_{12} c_{23}-c_{12} s_{13} s_{23} e^{i \\delta_{\\mathrm{CP}}} \\\\\n",
        "s_{12} s_{23}-c_{12} s_{13} c_{23} e^{i \\delta_{\\mathrm{CP}}}\n",
        "\\end{pmatrix},\\qquad \\boldsymbol{U}_2=\\begin{pmatrix}\n",
        "s_{12} c_{13} \\\\\n",
        "c_{12} c_{23}-s_{12} s_{13} s_{23} e^{i \\delta_{\\mathrm{CP}}} \\\\\n",
        "-c_{12} s_{23}-s_{12} s_{13} c_{23} e^{i \\delta_{\\mathrm{CP}}}\n",
        "\\end{pmatrix},\\qquad\n",
        "\\boldsymbol{U}_3=\\begin{pmatrix}\n",
        "s_{13} e^{-i \\delta_{\\mathrm{CP}}} \\\\\n",
        "c_{13} s_{23} \\\\\n",
        "c_{13} c_{23}\n",
        "\\end{pmatrix}\n",
        "$$\n",
        "After decades of experimental efforts with billions of dollars of investment and two recent Nobel prizes, most of the parameters are already measured"
      ]
    },
    {
      "cell_type": "markdown",
      "metadata": {
        "id": "pCSR2TVCHRwa"
      },
      "source": [
        "## Theorem 2: Singular value decomposition (SVD)\n",
        "See [SVD](https://en.wikipedia.org/wiki/Singular_value_decomposition) (where the  Hermetique-conjugate is denoted with \"*\" instead that with \"\")\n",
        "\n",
        "A general complex matrix $\\boldsymbol{A}$  can be diagonalized by a bi-diagonal transformation such that\n",
        "\\begin{equation}\n",
        "  \\boldsymbol{V}^\\dagger\\boldsymbol{A}\\,\\boldsymbol{U}=\\boldsymbol{A}_{\\text{diag}}\\,,\n",
        "\\end{equation}\n",
        "where \n",
        "$\\boldsymbol{A}_{\\text{diag}}=\\operatorname{diag}(\\lambda_1,\\lambda_2,\\ldots \\lambda_n)$ is the diagonalized mass matrix.\n",
        "\n",
        "### Demostration\n",
        "\\begin{align}\n",
        "  \\boldsymbol{A}_{\\text{diag}}=&\\boldsymbol{V}^\\dagger\\boldsymbol{A}\\,\\boldsymbol{U}\\\\\n",
        "  \\boldsymbol{A}_{\\text{diag}}\\boldsymbol{A}_{\\text{diag}}^\\dagger=&\\boldsymbol{V}^\\dagger\\boldsymbol{A}\\,\\boldsymbol{U}\n",
        "  \\left(\\boldsymbol{V}^\\dagger\\boldsymbol{A}\\,\\boldsymbol{U}\\right)^\\dagger\\\\\n",
        "  =&\\boldsymbol{V}^\\dagger\\boldsymbol{A}\\,\\boldsymbol{U}\n",
        "  \\left(   \\boldsymbol{U}^\\dagger \\boldsymbol{A}^\\dagger\\,\\boldsymbol{V}\\right)\\\\\n",
        "  =&\\boldsymbol{V}^\\dagger\n",
        "  \\left( \\boldsymbol{A}  \\boldsymbol{A}^\\dagger\\,\\right) \\boldsymbol{V}\\,.\\\\\n",
        "\\end{align}\n",
        "Since $\\boldsymbol{A}  \\boldsymbol{A}^\\dagger$ is hermitic and $\\boldsymbol{A}  \\boldsymbol{A}^\\dagger$ is diagonal, then in fact there exists an unitary matrix $\\boldsymbol{V}$.  Similarly there exists an unitary matrix $\\boldsymbol{U}$ which diagonalizes  $\\boldsymbol{A}^\\dagger  \\boldsymbol{A}$"
      ]
    },
    {
      "cell_type": "markdown",
      "metadata": {
        "id": "rlCE_8Eb_yJh"
      },
      "source": [
        "### Scipy implementation\n",
        "The implementation in scipy is based in the inverted relation \n",
        "\\begin{align}\n",
        "  \\boldsymbol{V}^\\dagger\\boldsymbol{A}\\,\\boldsymbol{U}=&\\boldsymbol{A}_{\\text{diag}}\\\\\n",
        "  \\boldsymbol{V}\\boldsymbol{V}^\\dagger\\boldsymbol{A}\\,\\boldsymbol{U}\\boldsymbol{U}^\\dagger=&\\boldsymbol{V}\\boldsymbol{A}_{\\text{diag}}\\boldsymbol{U}^\\dagger\\\\\n",
        "  \\boldsymbol{A}=&\\boldsymbol{V}\\boldsymbol{A}_{\\text{diag}}\\boldsymbol{U}^\\dagger\\,.\n",
        "\\end{align}\n",
        "\n",
        "The implementation is trough the module `scipy.linalg.svd`:\n",
        "```bash\n",
        "V,Adiag,Udagger=linalg.svd(A)\n",
        "```\n"
      ]
    },
    {
      "cell_type": "markdown",
      "metadata": {
        "id": "osxweeQvZeoY"
      },
      "source": [
        "### Eigenvectors and eigenvalues\n",
        "If we make\n",
        "$$ \\boldsymbol{U}=[\\boldsymbol{U}_1,\\boldsymbol{U}_2,\\boldsymbol{U}_3], \\qquad \\boldsymbol{V}=[\\boldsymbol{V}_1,\\boldsymbol{V}_2,\\boldsymbol{V}_3] $$\n",
        "\n",
        "We know that there exists a bi-diagonal transformación such that\n",
        "\\begin{equation}\n",
        "%$$\n",
        "  \\boldsymbol{A}\\,\\boldsymbol{U}=\\boldsymbol{V}\\boldsymbol{A}_{\\text{diag}}\n",
        "\\end{equation}\n",
        "\\begin{equation}\n",
        "  \\boldsymbol{A}\\,\\boldsymbol{U}_i=\\lambda_i\\boldsymbol{V}_i\n",
        "%$$\n",
        "\\end{equation}\n",
        "not sum upon $i$. Here \n",
        "* $\\lambda_i$ are called eigenvalues\n",
        "* $V_i$ and $U_i$ are the eigenvectors"
      ]
    },
    {
      "cell_type": "markdown",
      "metadata": {
        "id": "KzphXQAeZeoY"
      },
      "source": [
        "We can use this to check the proper order of the eigenvalues"
      ]
    },
    {
      "cell_type": "markdown",
      "metadata": {
        "id": "A1iOYehvZeoK"
      },
      "source": [
        "## Transformation of a linear system\n",
        "We start again with the matrix equation, capitol bold letters denotes matrices\n",
        "\\begin{equation}\n",
        "  \\boldsymbol{A}\\boldsymbol{X}=\\boldsymbol{B}\\,,\n",
        "\\end{equation}\n",
        "where $\\boldsymbol{A}$ is an $n \\times n$ matrix.\n",
        "\n",
        "We know that there exists a bi-diagonal transformación such that\n",
        "\\begin{equation}\n",
        "  \\boldsymbol{V}^\\dagger\\boldsymbol{A}\\,\\boldsymbol{U}=\\boldsymbol{A}_{\\text{diag}}\n",
        "\\end{equation}\n",
        "So, by doing standard operations we have\n",
        "\\begin{align}\n",
        "  \\boldsymbol{V}^\\dagger \\boldsymbol{A} \\boldsymbol{U} \\boldsymbol{U}^\\dagger \\boldsymbol{X}=& \\boldsymbol{V}^\\dagger \\boldsymbol{B}\\\\\n",
        "   \\left( \\boldsymbol{V}^\\dagger \\boldsymbol{A} \\boldsymbol{U} \\right) \n",
        "   \\left( \\boldsymbol{U}^\\dagger \\boldsymbol{X}\\right)=& \\boldsymbol{V}^\\dagger \\boldsymbol{B}\\\\\n",
        "  \\boldsymbol{A}_{\\text{diag}} \\boldsymbol{X}'=&\\boldsymbol{B}'\\,,      \n",
        "\\end{align}\n",
        "where\n",
        "\\begin{align}\n",
        "  \\boldsymbol{X}'=& \\boldsymbol{U}^\\dagger \\boldsymbol{X}\\,, &    \\boldsymbol{B}'=& \\boldsymbol{V}^\\dagger \\boldsymbol{B}\\,,\n",
        "\\end{align}\n",
        "or\n",
        "\\begin{align}\n",
        "  \\boldsymbol{X}=& \\boldsymbol{U}\\boldsymbol{X}'\\,, &    \\boldsymbol{B}=& \\boldsymbol{V}\\boldsymbol{B}'\\,.\n",
        "\\end{align}\n",
        "\n",
        "If $\\boldsymbol{A}_{\\text{diag}}=\\operatorname{diag}(\\lambda_1,\\lambda_2,\\ldots \\lambda_n)$, $\\boldsymbol{X}^{\\operatorname{T}}=\\begin{pmatrix}x_1 & x_2 &\\cdots & x_n\\end{pmatrix}^{\\operatorname{T}}$ and $\\boldsymbol{B}^{\\operatorname{T}}=\\begin{pmatrix}b_1& b_2 &\\cdots & b_n\\end{pmatrix}^{\\operatorname{T}}$,\n",
        "the solution of the system is given by\n",
        "\\begin{equation}\n",
        "\\lambda_i x'_i=b_i'\\,.\n",
        "\\end{equation}\n",
        "\n",
        "Note that\n",
        "\\begin{align}\n",
        "   \\boldsymbol{X}'=&\\boldsymbol{A}_{\\text{diag}}^{-1}\\boldsymbol{B}'\\,,      \n",
        "\\end{align}\n",
        "and the final solution is\n",
        "\\begin{align}\n",
        "   \\boldsymbol{X}=&U \\boldsymbol{X}'\\\\ \n",
        "               =&U\\boldsymbol{A}_{\\text{diag}}^{-1}V^\\dagger \\boldsymbol{B}\\,,      \n",
        "\\end{align}\n",
        "Therefore\n",
        "$$A^{-1}=U\\boldsymbol{A}_{\\text{diag}}^{-1}V^\\dagger$$"
      ]
    },
    {
      "cell_type": "markdown",
      "metadata": {
        "id": "4Cvjb8GR7YAl"
      },
      "source": [
        "## Example"
      ]
    },
    {
      "cell_type": "markdown",
      "metadata": {
        "id": "1gnmh6-0ZeoK"
      },
      "source": [
        " A suitable way to introduce this method is applying it to some basic problem. To do so, let's take the result of the [Example 1](#Example-1):\n",
        "\n",
        "$$ \\begin{bmatrix}\n",
        "5 & -4 & 0 \\\\\n",
        "-4 & 7 & -3 \\\\ \n",
        "0 & -3 & 5\n",
        "\\end{bmatrix}\n",
        "\\begin{bmatrix}\n",
        "x_{1} \\\\\n",
        "x_{2} \\\\\n",
        "x_{3} \n",
        "\\end{bmatrix}  =\n",
        "\\begin{bmatrix}\n",
        "1 \\\\\n",
        "0 \\\\\n",
        "-2\n",
        "\\end{bmatrix}\n",
        "$$\n",
        "As the matrix is symmetric $\\boldsymbol{V}=\\boldsymbol{U}$ and $\\boldsymbol{U}^\\dagger=\\boldsymbol{U}^{\\operatorname{T}}$ "
      ]
    },
    {
      "cell_type": "code",
      "metadata": {
        "id": "SY50zHw4_yJn"
      },
      "source": [
        "import numpy as np"
      ],
      "execution_count": 8,
      "outputs": []
    },
    {
      "cell_type": "code",
      "metadata": {
        "id": "mIm4WqinUMlv"
      },
      "source": [
        "M1=np.array([[5,-4,0],\n",
        "             [-4,7,-3],\n",
        "             [0,-3,5]])"
      ],
      "execution_count": 9,
      "outputs": []
    },
    {
      "cell_type": "code",
      "metadata": {
        "id": "YUHs_HgxZeoL",
        "outputId": "98e89034-caad-40a0-b364-ffbbec7ca017",
        "colab": {
          "base_uri": "https://localhost:8080/",
          "height": 71
        }
      },
      "source": [
        "A=M1\n",
        "A"
      ],
      "execution_count": 10,
      "outputs": [
        {
          "output_type": "execute_result",
          "data": {
            "text/plain": [
              "array([[ 5, -4,  0],\n",
              "       [-4,  7, -3],\n",
              "       [ 0, -3,  5]])"
            ]
          },
          "metadata": {
            "tags": []
          },
          "execution_count": 10
        }
      ]
    },
    {
      "cell_type": "markdown",
      "metadata": {
        "id": "wPaMSVoVUZWm"
      },
      "source": [
        "Check if all eigenvalues are different from zero:"
      ]
    },
    {
      "cell_type": "code",
      "metadata": {
        "id": "TSE7tFaFUjhF",
        "outputId": "db077306-f884-440e-c044-1106f78c5e91",
        "colab": {
          "base_uri": "https://localhost:8080/",
          "height": 35
        }
      },
      "source": [
        "np.linalg.det(A)"
      ],
      "execution_count": 11,
      "outputs": [
        {
          "output_type": "execute_result",
          "data": {
            "text/plain": [
              "49.99999999999999"
            ]
          },
          "metadata": {
            "tags": []
          },
          "execution_count": 11
        }
      ]
    },
    {
      "cell_type": "code",
      "metadata": {
        "id": "JDFWE3CDUp7c",
        "outputId": "c5e967c9-1449-42f6-b483-9f45ed41649b",
        "colab": {
          "base_uri": "https://localhost:8080/",
          "height": 71
        }
      },
      "source": [
        "B=np.c_[ [1,0,-2]  ]\n",
        "B"
      ],
      "execution_count": 12,
      "outputs": [
        {
          "output_type": "execute_result",
          "data": {
            "text/plain": [
              "array([[ 1],\n",
              "       [ 0],\n",
              "       [-2]])"
            ]
          },
          "metadata": {
            "tags": []
          },
          "execution_count": 12
        }
      ]
    },
    {
      "cell_type": "markdown",
      "metadata": {
        "id": "VzE6Z0THVAXa"
      },
      "source": [
        "Also as \n",
        "```python\n",
        "B=np.array([[1],[0],[-2]])\n",
        "#or\n",
        "B=np.reshape(  [1,0,-2],(3,1) )\n",
        "```"
      ]
    },
    {
      "cell_type": "code",
      "metadata": {
        "id": "7iQkosR8ZeoQ"
      },
      "source": [
        "λ,V=np.linalg.eig( A )"
      ],
      "execution_count": 13,
      "outputs": []
    },
    {
      "cell_type": "code",
      "metadata": {
        "id": "oRoNMFvLZeoS",
        "outputId": "2fe698a5-8f83-40b6-852f-59abd3884c7a",
        "colab": {
          "base_uri": "https://localhost:8080/",
          "height": 71
        }
      },
      "source": [
        "A_diag=np.diag(λ)\n",
        "A_diag"
      ],
      "execution_count": 14,
      "outputs": [
        {
          "output_type": "execute_result",
          "data": {
            "text/plain": [
              "array([[11.09901951,  0.        ,  0.        ],\n",
              "       [ 0.        ,  0.90098049,  0.        ],\n",
              "       [ 0.        ,  0.        ,  5.        ]])"
            ]
          },
          "metadata": {
            "tags": []
          },
          "execution_count": 14
        }
      ]
    },
    {
      "cell_type": "code",
      "metadata": {
        "id": "81EhmwnPZeoU",
        "outputId": "1bc6ab8e-7590-4db8-eca0-6cda8954852b",
        "colab": {
          "base_uri": "https://localhost:8080/",
          "height": 71
        }
      },
      "source": [
        "V"
      ],
      "execution_count": 15,
      "outputs": [
        {
          "output_type": "execute_result",
          "data": {
            "text/plain": [
              "array([[-5.07191124e-01, -6.18673713e-01, -6.00000000e-01],\n",
              "       [ 7.73342141e-01, -6.33988906e-01,  1.91548674e-16],\n",
              "       [-3.80393343e-01, -4.64005285e-01,  8.00000000e-01]])"
            ]
          },
          "metadata": {
            "tags": []
          },
          "execution_count": 15
        }
      ]
    },
    {
      "cell_type": "markdown",
      "metadata": {
        "id": "oQMyx6oAZeoW"
      },
      "source": [
        "We first check the proper order of the diagonalization"
      ]
    },
    {
      "cell_type": "code",
      "metadata": {
        "id": "vYFqc13bZeoW",
        "outputId": "35fa6b5e-ba53-489e-badd-87da97a5ca46",
        "colab": {
          "base_uri": "https://localhost:8080/",
          "height": 71
        }
      },
      "source": [
        "np.dot(  np.dot( V.transpose(),A  ), V).round(14)"
      ],
      "execution_count": 16,
      "outputs": [
        {
          "output_type": "execute_result",
          "data": {
            "text/plain": [
              "array([[11.09901951,  0.        ,  0.        ],\n",
              "       [ 0.        ,  0.90098049,  0.        ],\n",
              "       [ 0.        ,  0.        ,  5.        ]])"
            ]
          },
          "metadata": {
            "tags": []
          },
          "execution_count": 16
        }
      ]
    },
    {
      "cell_type": "markdown",
      "metadata": {
        "id": "njiAE4b4ZeoZ"
      },
      "source": [
        "Since"
      ]
    },
    {
      "cell_type": "code",
      "metadata": {
        "id": "RQ2mx4eIZeoa",
        "outputId": "9112ad90-4140-4c2d-ef7a-4f0c692c9c02",
        "colab": {
          "base_uri": "https://localhost:8080/",
          "height": 71
        }
      },
      "source": [
        "V"
      ],
      "execution_count": 17,
      "outputs": [
        {
          "output_type": "execute_result",
          "data": {
            "text/plain": [
              "array([[-5.07191124e-01, -6.18673713e-01, -6.00000000e-01],\n",
              "       [ 7.73342141e-01, -6.33988906e-01,  1.91548674e-16],\n",
              "       [-3.80393343e-01, -4.64005285e-01,  8.00000000e-01]])"
            ]
          },
          "metadata": {
            "tags": []
          },
          "execution_count": 17
        }
      ]
    },
    {
      "cell_type": "markdown",
      "metadata": {
        "id": "JkZI2pTNZeoc"
      },
      "source": [
        "The final solution is:"
      ]
    },
    {
      "cell_type": "code",
      "metadata": {
        "id": "dfsG88C5VqvK",
        "outputId": "af13c30f-0ffb-4f47-bf0f-397e6591914f",
        "colab": {
          "base_uri": "https://localhost:8080/",
          "height": 71
        }
      },
      "source": [
        "A_diag_inv=np.diag(1/λ)\n",
        "A_diag_inv"
      ],
      "execution_count": 18,
      "outputs": [
        {
          "output_type": "execute_result",
          "data": {
            "text/plain": [
              "array([[0.09009805, 0.        , 0.        ],\n",
              "       [0.        , 1.10990195, 0.        ],\n",
              "       [0.        , 0.        , 0.2       ]])"
            ]
          },
          "metadata": {
            "tags": []
          },
          "execution_count": 18
        }
      ]
    },
    {
      "cell_type": "markdown",
      "metadata": {
        "id": "ai04_rhhV7g4"
      },
      "source": [
        "check with `np.linalg.inv(A_diag)`"
      ]
    },
    {
      "cell_type": "code",
      "metadata": {
        "id": "bldXFh02Zeoc",
        "outputId": "26847030-09c9-4ae7-d2eb-930c31b7f1c6",
        "colab": {
          "base_uri": "https://localhost:8080/",
          "height": 71
        }
      },
      "source": [
        "X=np.dot( np.dot( np.dot( V, np.diag(1/λ) ),V.transpose() ),B)\n",
        "X"
      ],
      "execution_count": 19,
      "outputs": [
        {
          "output_type": "execute_result",
          "data": {
            "text/plain": [
              "array([[ 0.04],\n",
              "       [-0.2 ],\n",
              "       [-0.52]])"
            ]
          },
          "metadata": {
            "tags": []
          },
          "execution_count": 19
        }
      ]
    },
    {
      "cell_type": "markdown",
      "metadata": {
        "id": "xEtpogskWT5H"
      },
      "source": [
        "__<font color=\"red\">Activity</font>__: Usar np.lingalg.solve"
      ]
    },
    {
      "cell_type": "code",
      "metadata": {
        "id": "crPW_WltW9Bt",
        "outputId": "3ae888c0-e4e2-4576-a935-9041b3dd1b6f",
        "colab": {
          "base_uri": "https://localhost:8080/",
          "height": 35
        }
      },
      "source": [
        "B.transpose()[0]"
      ],
      "execution_count": 20,
      "outputs": [
        {
          "output_type": "execute_result",
          "data": {
            "text/plain": [
              "array([ 1,  0, -2])"
            ]
          },
          "metadata": {
            "tags": []
          },
          "execution_count": 20
        }
      ]
    },
    {
      "cell_type": "code",
      "metadata": {
        "id": "FbDQyS3_Wi-f",
        "outputId": "2f3438c9-851a-4a39-cd6e-737330e01283",
        "colab": {
          "base_uri": "https://localhost:8080/",
          "height": 35
        }
      },
      "source": [
        "np.linalg.solve(A,B.transpose()[0])"
      ],
      "execution_count": 21,
      "outputs": [
        {
          "output_type": "execute_result",
          "data": {
            "text/plain": [
              "array([ 0.04, -0.2 , -0.52])"
            ]
          },
          "metadata": {
            "tags": []
          },
          "execution_count": 21
        }
      ]
    },
    {
      "cell_type": "markdown",
      "metadata": {
        "id": "agZ-WPWgZeoe"
      },
      "source": [
        "We can now check some properties"
      ]
    },
    {
      "cell_type": "code",
      "metadata": {
        "id": "KAruEyXoZeoe",
        "outputId": "67aae427-f96a-4174-f02e-b234ec6eecab",
        "colab": {
          "base_uri": "https://localhost:8080/",
          "height": 71
        }
      },
      "source": [
        "V"
      ],
      "execution_count": 22,
      "outputs": [
        {
          "output_type": "execute_result",
          "data": {
            "text/plain": [
              "array([[-5.07191124e-01, -6.18673713e-01, -6.00000000e-01],\n",
              "       [ 7.73342141e-01, -6.33988906e-01,  1.91548674e-16],\n",
              "       [-3.80393343e-01, -4.64005285e-01,  8.00000000e-01]])"
            ]
          },
          "metadata": {
            "tags": []
          },
          "execution_count": 22
        }
      ]
    },
    {
      "cell_type": "code",
      "metadata": {
        "id": "Lg_7lshmZeoh",
        "outputId": "a97ca293-6cc1-409e-cb1c-2b11a99fe02a",
        "colab": {
          "base_uri": "https://localhost:8080/",
          "height": 71
        }
      },
      "source": [
        "np.c_[ V[: ,0] ]"
      ],
      "execution_count": 23,
      "outputs": [
        {
          "output_type": "execute_result",
          "data": {
            "text/plain": [
              "array([[-0.50719112],\n",
              "       [ 0.77334214],\n",
              "       [-0.38039334]])"
            ]
          },
          "metadata": {
            "tags": []
          },
          "execution_count": 23
        }
      ]
    },
    {
      "cell_type": "code",
      "metadata": {
        "id": "VAFBe0g_Zeok",
        "outputId": "7d41811f-737c-4359-ee7b-b565672eff42",
        "colab": {
          "base_uri": "https://localhost:8080/",
          "height": 35
        }
      },
      "source": [
        "A_diag[0,0],λ[0]"
      ],
      "execution_count": 24,
      "outputs": [
        {
          "output_type": "execute_result",
          "data": {
            "text/plain": [
              "(11.099019513592784, 11.099019513592784)"
            ]
          },
          "metadata": {
            "tags": []
          },
          "execution_count": 24
        }
      ]
    },
    {
      "cell_type": "markdown",
      "metadata": {
        "id": "utMR7eiOZeom"
      },
      "source": [
        "We define the eigenvector $V_i$ as"
      ]
    },
    {
      "cell_type": "code",
      "metadata": {
        "id": "ButZ6c29Zeom",
        "outputId": "6ebdaeaa-a245-4340-ff5a-3f4dc6a105f5",
        "colab": {
          "base_uri": "https://localhost:8080/",
          "height": 179
        }
      },
      "source": [
        "V0=np.c_[ V[:,0] ]\n",
        "V1=np.c_[ V[:,1] ]\n",
        "V2=np.c_[ V[:,2] ]\n",
        "display(V0)\n",
        "display(V1)\n",
        "V2"
      ],
      "execution_count": 25,
      "outputs": [
        {
          "output_type": "display_data",
          "data": {
            "text/plain": [
              "array([[-0.50719112],\n",
              "       [ 0.77334214],\n",
              "       [-0.38039334]])"
            ]
          },
          "metadata": {
            "tags": []
          }
        },
        {
          "output_type": "display_data",
          "data": {
            "text/plain": [
              "array([[-0.61867371],\n",
              "       [-0.63398891],\n",
              "       [-0.46400528]])"
            ]
          },
          "metadata": {
            "tags": []
          }
        },
        {
          "output_type": "execute_result",
          "data": {
            "text/plain": [
              "array([[-6.00000000e-01],\n",
              "       [ 1.91548674e-16],\n",
              "       [ 8.00000000e-01]])"
            ]
          },
          "metadata": {
            "tags": []
          },
          "execution_count": 25
        }
      ]
    },
    {
      "cell_type": "code",
      "metadata": {
        "id": "MkfNpMwbZeow",
        "outputId": "a24a3d7b-f296-45f5-d756-88e89017c844",
        "colab": {
          "base_uri": "https://localhost:8080/",
          "height": 125
        }
      },
      "source": [
        "print('{} =\\n{}'.format( np.dot(A,V0),λ[0]*V0 ) )"
      ],
      "execution_count": 26,
      "outputs": [
        {
          "output_type": "stream",
          "text": [
            "[[-5.62932419]\n",
            " [ 8.58333952]\n",
            " [-4.22199314]] =\n",
            "[[-5.62932419]\n",
            " [ 8.58333952]\n",
            " [-4.22199314]]\n"
          ],
          "name": "stdout"
        }
      ]
    },
    {
      "cell_type": "markdown",
      "metadata": {
        "id": "2gSZQGhwZMbU"
      },
      "source": [
        "Check: $ A V_i=\\lambda_i V_i$\n",
        "\n",
        "Which means the eigenvalue associated to the \"operator\" $A$ acting on the eigenvector $V_1$"
      ]
    },
    {
      "cell_type": "code",
      "metadata": {
        "id": "N7rTShl9Zeoz",
        "outputId": "22bb7987-2548-4f70-a863-b9d0055591ed",
        "colab": {
          "base_uri": "https://localhost:8080/",
          "height": 125
        }
      },
      "source": [
        "print('{} =\\n{}'.format( np.dot(A,V1),λ[1]*V1 ) )"
      ],
      "execution_count": 27,
      "outputs": [
        {
          "output_type": "stream",
          "text": [
            "[[-0.55741294]\n",
            " [-0.57121163]\n",
            " [-0.41805971]] =\n",
            "[[-0.55741294]\n",
            " [-0.57121163]\n",
            " [-0.41805971]]\n"
          ],
          "name": "stdout"
        }
      ]
    },
    {
      "cell_type": "code",
      "metadata": {
        "id": "zRu4zQHKZeo2",
        "outputId": "50a69b16-ee8b-4f46-be28-d03a3f40eb55",
        "colab": {
          "base_uri": "https://localhost:8080/",
          "height": 125
        }
      },
      "source": [
        "print('{} =\\n{}'.format( np.dot(A,V2).round(14),\n",
        "                         (λ[2]*V2).round(14) ) )"
      ],
      "execution_count": 28,
      "outputs": [
        {
          "output_type": "stream",
          "text": [
            "[[-3.]\n",
            " [ 0.]\n",
            " [ 4.]] =\n",
            "[[-3.]\n",
            " [ 0.]\n",
            " [ 4.]]\n"
          ],
          "name": "stdout"
        }
      ]
    },
    {
      "cell_type": "markdown",
      "metadata": {
        "id": "wmszgFZdZeo5"
      },
      "source": [
        "The diagonalization matrix can be rebuild from the eigenvectors"
      ]
    },
    {
      "cell_type": "code",
      "metadata": {
        "id": "2uAsu7Bgarxo",
        "outputId": "b91ce840-8807-489d-a18d-79782cf4d9ed",
        "colab": {
          "base_uri": "https://localhost:8080/",
          "height": 71
        }
      },
      "source": [
        "V"
      ],
      "execution_count": 29,
      "outputs": [
        {
          "output_type": "execute_result",
          "data": {
            "text/plain": [
              "array([[-5.07191124e-01, -6.18673713e-01, -6.00000000e-01],\n",
              "       [ 7.73342141e-01, -6.33988906e-01,  1.91548674e-16],\n",
              "       [-3.80393343e-01, -4.64005285e-01,  8.00000000e-01]])"
            ]
          },
          "metadata": {
            "tags": []
          },
          "execution_count": 29
        }
      ]
    },
    {
      "cell_type": "markdown",
      "metadata": {
        "id": "_AjDSlz3bIPW"
      },
      "source": [
        "is rebuild with"
      ]
    },
    {
      "cell_type": "code",
      "metadata": {
        "id": "5Q0PN44GavcA",
        "outputId": "68110dda-70ff-415f-ffec-cdee0e7ca191",
        "colab": {
          "base_uri": "https://localhost:8080/",
          "height": 71
        }
      },
      "source": [
        "U=np.c_[ V0,V1,V2]\n",
        "U"
      ],
      "execution_count": 30,
      "outputs": [
        {
          "output_type": "execute_result",
          "data": {
            "text/plain": [
              "array([[-5.07191124e-01, -6.18673713e-01, -6.00000000e-01],\n",
              "       [ 7.73342141e-01, -6.33988906e-01,  1.91548674e-16],\n",
              "       [-3.80393343e-01, -4.64005285e-01,  8.00000000e-01]])"
            ]
          },
          "metadata": {
            "tags": []
          },
          "execution_count": 30
        }
      ]
    },
    {
      "cell_type": "markdown",
      "metadata": {
        "id": "E_TOP-rdZeo5"
      },
      "source": [
        "or with: `np.hstack((V0,V1,V2))`"
      ]
    },
    {
      "cell_type": "code",
      "metadata": {
        "id": "-Vc63b8TZeo7",
        "outputId": "59416b69-a3e6-4753-fa70-15b5f846a017",
        "colab": {
          "base_uri": "https://localhost:8080/",
          "height": 71
        }
      },
      "source": [
        "np.dot(  np.dot( U.transpose(),A  ), U).round(14)"
      ],
      "execution_count": 31,
      "outputs": [
        {
          "output_type": "execute_result",
          "data": {
            "text/plain": [
              "array([[11.09901951,  0.        ,  0.        ],\n",
              "       [ 0.        ,  0.90098049,  0.        ],\n",
              "       [ 0.        ,  0.        ,  5.        ]])"
            ]
          },
          "metadata": {
            "tags": []
          },
          "execution_count": 31
        }
      ]
    },
    {
      "cell_type": "markdown",
      "metadata": {
        "id": "9bls0mm5Zeo9"
      },
      "source": [
        "### Eigenvector reordering"
      ]
    },
    {
      "cell_type": "markdown",
      "metadata": {
        "id": "crZXOgFX_yLX"
      },
      "source": [
        "__Activity__: https://beta.deepnote.com/project/17b487c8-b092-4032-94f5-438ba4eeb1e9"
      ]
    },
    {
      "cell_type": "markdown",
      "metadata": {
        "id": "DOBPvoJ1Zeo-"
      },
      "source": [
        "We can use this to check the proper order of the eigenvalues"
      ]
    },
    {
      "cell_type": "code",
      "metadata": {
        "id": "QE3H4w64bopE",
        "outputId": "d4879cf1-4d69-4a91-a221-816cc3e82681",
        "colab": {
          "base_uri": "https://localhost:8080/",
          "height": 71
        }
      },
      "source": [
        "U=np.c_[ V1,V2,V0]\n",
        "np.dot(  np.dot( U.transpose(),A  ), U).round(14)"
      ],
      "execution_count": 32,
      "outputs": [
        {
          "output_type": "execute_result",
          "data": {
            "text/plain": [
              "array([[ 0.90098049,  0.        ,  0.        ],\n",
              "       [ 0.        ,  5.        ,  0.        ],\n",
              "       [ 0.        ,  0.        , 11.09901951]])"
            ]
          },
          "metadata": {
            "tags": []
          },
          "execution_count": 32
        }
      ]
    },
    {
      "cell_type": "markdown",
      "metadata": {
        "id": "m6PMCrJlZeo-"
      },
      "source": [
        "The order of eigenvalues can now be changed by changing the order of the eigenvectors and redifining the diagonalization matrix. For example, from small to large. We define first the eigenvalues"
      ]
    },
    {
      "cell_type": "code",
      "metadata": {
        "id": "HTWgBePpZeo_"
      },
      "source": [
        "np.sort?"
      ],
      "execution_count": 33,
      "outputs": []
    },
    {
      "cell_type": "code",
      "metadata": {
        "id": "pixl0cvzZepB",
        "outputId": "0bd5fa20-aac1-4f44-905f-f7d73eb17edb",
        "colab": {
          "base_uri": "https://localhost:8080/",
          "height": 35
        }
      },
      "source": [
        "np.sort( λ)"
      ],
      "execution_count": 34,
      "outputs": [
        {
          "output_type": "execute_result",
          "data": {
            "text/plain": [
              "array([ 0.90098049,  5.        , 11.09901951])"
            ]
          },
          "metadata": {
            "tags": []
          },
          "execution_count": 34
        }
      ]
    },
    {
      "cell_type": "markdown",
      "metadata": {
        "id": "pZbAW-34cs7I"
      },
      "source": [
        "To reverse the order"
      ]
    },
    {
      "cell_type": "code",
      "metadata": {
        "id": "L3Qi31TkZepG",
        "outputId": "586a92df-fce6-4b22-843e-b96c52afb7ea",
        "colab": {
          "base_uri": "https://localhost:8080/",
          "height": 35
        }
      },
      "source": [
        "np.sort( λ)[::-1]"
      ],
      "execution_count": 35,
      "outputs": [
        {
          "output_type": "execute_result",
          "data": {
            "text/plain": [
              "array([11.09901951,  5.        ,  0.90098049])"
            ]
          },
          "metadata": {
            "tags": []
          },
          "execution_count": 35
        }
      ]
    },
    {
      "cell_type": "code",
      "metadata": {
        "id": "aYaYHJ2wZepJ",
        "outputId": "d2041162-e2cc-47f6-ad98-e201e6924677"
      },
      "source": [
        "λ"
      ],
      "execution_count": null,
      "outputs": [
        {
          "output_type": "execute_result",
          "data": {
            "text/plain": [
              "array([ 11.09901951,   0.90098049,   5.        ])"
            ]
          },
          "metadata": {
            "tags": []
          },
          "execution_count": 102
        }
      ]
    },
    {
      "cell_type": "code",
      "metadata": {
        "id": "DeIj8z5kZepL",
        "outputId": "90606a4c-6f6a-4709-ebd9-4a5141f75ee4",
        "colab": {
          "base_uri": "https://localhost:8080/",
          "height": 35
        }
      },
      "source": [
        "index=np.abs(λ).argsort()\n",
        "index"
      ],
      "execution_count": null,
      "outputs": [
        {
          "output_type": "execute_result",
          "data": {
            "text/plain": [
              "array([1, 2, 0])"
            ]
          },
          "metadata": {
            "tags": []
          },
          "execution_count": 64
        }
      ]
    },
    {
      "cell_type": "markdown",
      "metadata": {
        "id": "v5Mhuh-QZepP"
      },
      "source": [
        "can be implemented in general with a _comprehensive_ list"
      ]
    },
    {
      "cell_type": "code",
      "metadata": {
        "id": "iWvRFdz9etKa",
        "outputId": "ac48d6bf-e16f-4056-9ead-ccb31362f3c8",
        "colab": {
          "base_uri": "https://localhost:8080/",
          "height": 71
        }
      },
      "source": [
        "V"
      ],
      "execution_count": null,
      "outputs": [
        {
          "output_type": "execute_result",
          "data": {
            "text/plain": [
              "array([[-5.07191124e-01, -6.18673713e-01, -6.00000000e-01],\n",
              "       [ 7.73342141e-01, -6.33988906e-01,  1.91548674e-16],\n",
              "       [-3.80393343e-01, -4.64005285e-01,  8.00000000e-01]])"
            ]
          },
          "metadata": {
            "tags": []
          },
          "execution_count": 65
        }
      ]
    },
    {
      "cell_type": "code",
      "metadata": {
        "id": "UeBueRxbfeUc",
        "outputId": "0b497826-0400-4b28-9291-149f038b47c1",
        "colab": {
          "base_uri": "https://localhost:8080/",
          "height": 71
        }
      },
      "source": [
        "np.c_[ tuple( [ np.c_[V[:,i]]    for i in range(3) ] ) ]"
      ],
      "execution_count": null,
      "outputs": [
        {
          "output_type": "execute_result",
          "data": {
            "text/plain": [
              "array([[-5.07191124e-01, -6.18673713e-01, -6.00000000e-01],\n",
              "       [ 7.73342141e-01, -6.33988906e-01,  1.91548674e-16],\n",
              "       [-3.80393343e-01, -4.64005285e-01,  8.00000000e-01]])"
            ]
          },
          "metadata": {
            "tags": []
          },
          "execution_count": 66
        }
      ]
    },
    {
      "cell_type": "markdown",
      "metadata": {
        "id": "WwokXTJ-elVp"
      },
      "source": [
        "Changing the order to `index`"
      ]
    },
    {
      "cell_type": "code",
      "metadata": {
        "id": "wObPrmb4dgrs",
        "outputId": "8b850a8f-89b5-4e48-b587-7c298651f085",
        "colab": {
          "base_uri": "https://localhost:8080/",
          "height": 71
        }
      },
      "source": [
        "U=np.c_[ tuple( [ np.c_[V[:,i]]    for i in np.abs(λ).argsort() ] ) ]\n",
        "U"
      ],
      "execution_count": null,
      "outputs": [
        {
          "output_type": "execute_result",
          "data": {
            "text/plain": [
              "array([[-6.18673713e-01, -6.00000000e-01, -5.07191124e-01],\n",
              "       [-6.33988906e-01,  1.91548674e-16,  7.73342141e-01],\n",
              "       [-4.64005285e-01,  8.00000000e-01, -3.80393343e-01]])"
            ]
          },
          "metadata": {
            "tags": []
          },
          "execution_count": 68
        }
      ]
    },
    {
      "cell_type": "markdown",
      "metadata": {
        "id": "u0PoVQJshW8A"
      },
      "source": [
        "or: \n",
        "```python\n",
        "n=3\n",
        "U=np.hstack( [ np.reshape( V[:,i], (n,1) ) for i in index   ] )\n",
        "```"
      ]
    },
    {
      "cell_type": "code",
      "metadata": {
        "id": "2_A609DeZepR",
        "outputId": "d10f93b9-2dc0-4e95-ee4f-86cc1c7cc751",
        "colab": {
          "base_uri": "https://localhost:8080/",
          "height": 71
        }
      },
      "source": [
        "np.dot(  np.dot( U.transpose(),A  ), U).round(14)"
      ],
      "execution_count": null,
      "outputs": [
        {
          "output_type": "execute_result",
          "data": {
            "text/plain": [
              "array([[ 0.90098049,  0.        ,  0.        ],\n",
              "       [ 0.        ,  5.        ,  0.        ],\n",
              "       [ 0.        ,  0.        , 11.09901951]])"
            ]
          },
          "metadata": {
            "tags": []
          },
          "execution_count": 69
        }
      ]
    },
    {
      "cell_type": "markdown",
      "metadata": {
        "id": "ryPEhIWgiE-O"
      },
      "source": [
        "<font color=\"red\">Activity</font>:  Build a function that diagonalize with increasing order in the eigenvalues as a replacement of `np.linalg.eig`\n",
        "```python\n",
        "def argeig(A):\n",
        "    l,V=np.linalg.eig(A)\n",
        "    ....\n",
        "    return argl, argV\n",
        "```\n",
        "\n"
      ]
    },
    {
      "cell_type": "code",
      "metadata": {
        "id": "h3tb4hV1V45e"
      },
      "source": [
        "import numpy as np\n"
      ],
      "execution_count": 4,
      "outputs": []
    },
    {
      "cell_type": "code",
      "metadata": {
        "id": "coEVamAZhw_M"
      },
      "source": [
        "A_1=np.array([[ 2.5       ,  6.92820323],\n",
        "           [-4.33012702,  4.        ]])"
      ],
      "execution_count": null,
      "outputs": []
    },
    {
      "cell_type": "code",
      "metadata": {
        "id": "PL43mZH7leLE"
      },
      "source": [
        ""
      ],
      "execution_count": 39,
      "outputs": []
    },
    {
      "cell_type": "markdown",
      "metadata": {
        "id": "A8ZELoykcZZY"
      },
      "source": [
        "Implementación para organizar los autovalores y autovectores"
      ]
    },
    {
      "cell_type": "code",
      "metadata": {
        "id": "mm4aF0_iWERo"
      },
      "source": [
        "def argeig(A):\n",
        "  l,V = np.linalg.eig(A)# utilizó la implementación de numpy para tener los autovalores y los autovectores\n",
        "  contador = np.abs(l).argsort()# veo el numero de los autovalores en orden creciente \n",
        "  argl = np.sort(l)# organizó los autovalores en forma acendente \n",
        "  argV = np.c_[ tuple( [ np.c_[V[:,i]]    for i in contador ] ) ]# generó la matriz con los autovectores en el orden correspondiente   \n",
        "\n",
        "  return argl, argV # me retorna los arreglos \n",
        "\n"
      ],
      "execution_count": 38,
      "outputs": []
    },
    {
      "cell_type": "code",
      "metadata": {
        "id": "4X55rzOZb6va",
        "outputId": "629c331a-596c-4f5e-f24e-843a887e1315",
        "colab": {
          "base_uri": "https://localhost:8080/",
          "height": 89
        }
      },
      "source": [
        "argeig(A)"
      ],
      "execution_count": 39,
      "outputs": [
        {
          "output_type": "execute_result",
          "data": {
            "text/plain": [
              "(array([ 0.90098049,  5.        , 11.09901951]),\n",
              " array([[-6.18673713e-01, -6.00000000e-01, -5.07191124e-01],\n",
              "        [-6.33988906e-01,  1.91548674e-16,  7.73342141e-01],\n",
              "        [-4.64005285e-01,  8.00000000e-01, -3.80393343e-01]]))"
            ]
          },
          "metadata": {
            "tags": []
          },
          "execution_count": 39
        }
      ]
    },
    {
      "cell_type": "code",
      "metadata": {
        "id": "1VNLtnpSlEU9"
      },
      "source": [
        ""
      ],
      "execution_count": null,
      "outputs": []
    },
    {
      "cell_type": "code",
      "metadata": {
        "id": "94ZHLjM0l-vS",
        "outputId": "7484c181-7184-4514-f8c5-494b36427feb",
        "colab": {
          "base_uri": "https://localhost:8080/",
          "height": 89
        }
      },
      "source": [
        "λ,V=argeig(A)\n",
        "λ,V"
      ],
      "execution_count": null,
      "outputs": [
        {
          "output_type": "execute_result",
          "data": {
            "text/plain": [
              "(array([ 0.90098049,  5.        , 11.09901951]),\n",
              " array([[-6.18673713e-01, -6.00000000e-01, -5.07191124e-01],\n",
              "        [-6.33988906e-01,  1.91548674e-16,  7.73342141e-01],\n",
              "        [-4.64005285e-01,  8.00000000e-01, -3.80393343e-01]]))"
            ]
          },
          "metadata": {
            "tags": []
          },
          "execution_count": 105
        }
      ]
    },
    {
      "cell_type": "code",
      "metadata": {
        "id": "SqxnBdaDmBXq",
        "outputId": "33bb5733-facd-4397-f312-6456b038cd65",
        "colab": {
          "base_uri": "https://localhost:8080/",
          "height": 71
        }
      },
      "source": [
        "np.dot(  np.dot( V.transpose(),A  ), V).round(14)"
      ],
      "execution_count": null,
      "outputs": [
        {
          "output_type": "execute_result",
          "data": {
            "text/plain": [
              "array([[ 0.90098049,  0.        ,  0.        ],\n",
              "       [ 0.        ,  5.        ,  0.        ],\n",
              "       [ 0.        ,  0.        , 11.09901951]])"
            ]
          },
          "metadata": {
            "tags": []
          },
          "execution_count": 106
        }
      ]
    },
    {
      "cell_type": "markdown",
      "metadata": {
        "id": "htJkoJ66h5XY"
      },
      "source": [
        ""
      ]
    },
    {
      "cell_type": "code",
      "metadata": {
        "id": "CFemQeVVZepT",
        "outputId": "2374fd3a-8f31-49a3-85c4-8e314158be78"
      },
      "source": [
        "print( np.linalg.det(A- λ[0]*np.identity(3) ) )\n",
        "print( np.linalg.det(A- λ[1]*np.identity(3) ) )\n",
        "np.linalg.det(A- λ[2]*np.identity(3) )"
      ],
      "execution_count": null,
      "outputs": [
        {
          "output_type": "stream",
          "text": [
            "2.4376578809863825e-14\n",
            "1.6382973032562733e-14\n"
          ],
          "name": "stdout"
        },
        {
          "output_type": "execute_result",
          "data": {
            "text/plain": [
              "0.0"
            ]
          },
          "metadata": {
            "tags": []
          },
          "execution_count": 70
        }
      ]
    },
    {
      "cell_type": "markdown",
      "metadata": {
        "id": "QLp5N41JZepX"
      },
      "source": [
        "## General complex matrix"
      ]
    },
    {
      "cell_type": "markdown",
      "metadata": {
        "id": "mt7dzksmZepX"
      },
      "source": [
        "Since\n",
        "\\begin{equation}\n",
        "  \\boldsymbol{A}_{\\text{diag}}=\\boldsymbol{V}^\\dagger\\boldsymbol{A}\\,\\boldsymbol{U}\n",
        "\\end{equation}"
      ]
    },
    {
      "cell_type": "markdown",
      "metadata": {
        "id": "1yeCVDwUZepX"
      },
      "source": [
        "\\begin{align}\n",
        "\\boldsymbol{A}_{\\text{diag}}\\boldsymbol{A}^\\dagger_{\\text{diag}}=&  (\\boldsymbol{V}^\\dagger\\boldsymbol{A}\\,\\boldsymbol{U})(\\boldsymbol{V}^\\dagger\\boldsymbol{A}\\,\\boldsymbol{U})^\\dagger\\nonumber \\\\\n",
        " =& \\boldsymbol{V}^\\dagger( \\boldsymbol{A}\\boldsymbol{A}^\\dagger)\\boldsymbol{V}\n",
        "\\end{align}\n",
        "\n",
        "\\begin{align}\n",
        "\\boldsymbol{A}_{\\text{diag}}^\\dagger \\boldsymbol{A}_{\\text{diag}} \n",
        " =& \\boldsymbol{U}^\\dagger (\\boldsymbol{A}^\\dagger\\boldsymbol{A})\\boldsymbol{U}\n",
        "\\end{align}\n",
        "\n",
        "See"
      ]
    },
    {
      "cell_type": "code",
      "metadata": {
        "id": "crSeb_iC_yMa"
      },
      "source": [
        "import numpy as np\n",
        "from scipy import linalg"
      ],
      "execution_count": null,
      "outputs": []
    },
    {
      "cell_type": "markdown",
      "metadata": {
        "id": "-wAzuWCz_yMd"
      },
      "source": [
        "__Example__:"
      ]
    },
    {
      "cell_type": "code",
      "metadata": {
        "id": "tDkQPFcJ_yMe"
      },
      "source": [
        "A=np.array([[ 2.5       ,  6.92820323],\n",
        "           [-4.33012702,  4.        ]])"
      ],
      "execution_count": null,
      "outputs": []
    },
    {
      "cell_type": "code",
      "metadata": {
        "id": "a_KURw5B_yMg"
      },
      "source": [
        "A=np.array([[ 6.66674644,  3.13121253],\n",
        "            [-0.23343505,  5.8902893 ]])"
      ],
      "execution_count": null,
      "outputs": []
    },
    {
      "cell_type": "code",
      "metadata": {
        "id": "zvFUCnqF_yMj"
      },
      "source": [
        "V,diag,Udagger=linalg.svd(A)"
      ],
      "execution_count": null,
      "outputs": []
    },
    {
      "cell_type": "code",
      "metadata": {
        "id": "9xHUw5RL_yMm"
      },
      "source": [
        "U=Udagger.transpose().conjugate()"
      ],
      "execution_count": null,
      "outputs": []
    },
    {
      "cell_type": "code",
      "metadata": {
        "id": "J2hao0L8_yMo",
        "outputId": "6a87e28a-4ef9-4b96-c176-f444e65f00cc"
      },
      "source": [
        "np.dot( np.dot( V.transpose().conjugate(),A    ), U).round(14)"
      ],
      "execution_count": null,
      "outputs": [
        {
          "output_type": "execute_result",
          "data": {
            "text/plain": [
              "array([[8., 0.],\n",
              "       [0., 5.]])"
            ]
          },
          "metadata": {
            "tags": []
          },
          "execution_count": 78
        }
      ]
    },
    {
      "cell_type": "markdown",
      "metadata": {
        "id": "w750zNMp_yMr"
      },
      "source": [
        "This is important to stablish that the eigenvectors are determined until ordering and permutations"
      ]
    },
    {
      "cell_type": "code",
      "metadata": {
        "id": "51GVaabi_yMs",
        "outputId": "bb92037b-41e2-4393-e42d-a77fba24c5f7"
      },
      "source": [
        "V"
      ],
      "execution_count": null,
      "outputs": [
        {
          "output_type": "execute_result",
          "data": {
            "text/plain": [
              "array([[-0.8660254, -0.5      ],\n",
              "       [-0.5      ,  0.8660254]])"
            ]
          },
          "metadata": {
            "tags": []
          },
          "execution_count": 79
        }
      ]
    },
    {
      "cell_type": "code",
      "metadata": {
        "id": "AlTTjcAf_yMy",
        "outputId": "209319e8-be58-40c8-c979-920dc157f80d"
      },
      "source": [
        "U"
      ],
      "execution_count": null,
      "outputs": [
        {
          "output_type": "execute_result",
          "data": {
            "text/plain": [
              "array([[-0.70710678, -0.70710678],\n",
              "       [-0.70710678,  0.70710678]])"
            ]
          },
          "metadata": {
            "tags": []
          },
          "execution_count": 80
        }
      ]
    },
    {
      "cell_type": "code",
      "metadata": {
        "id": "7mtET4-g_yM0",
        "outputId": "df4794b8-9f7b-4fc9-f27c-9805b9ba927f"
      },
      "source": [
        "np.dot( np.transpose(U),U ).round(14)"
      ],
      "execution_count": null,
      "outputs": [
        {
          "output_type": "execute_result",
          "data": {
            "text/plain": [
              "array([[1., 0.],\n",
              "       [0., 1.]])"
            ]
          },
          "metadata": {
            "tags": []
          },
          "execution_count": 84
        }
      ]
    },
    {
      "cell_type": "code",
      "metadata": {
        "id": "KyZP1QVX_yM2"
      },
      "source": [
        "def orthogonal(θ):\n",
        "    return np.array( [[np.cos(θ) ,np.sin(θ)],\n",
        "                      [-np.sin(θ),np.cos(θ)]]   )"
      ],
      "execution_count": null,
      "outputs": []
    },
    {
      "cell_type": "code",
      "metadata": {
        "id": "NSJ2IO61_yM5",
        "outputId": "a5c19f85-9bcb-4350-e519-ce2743c9d0e6"
      },
      "source": [
        "Vp=orthogonal(np.pi/3)\n",
        "Vp"
      ],
      "execution_count": null,
      "outputs": [
        {
          "output_type": "execute_result",
          "data": {
            "text/plain": [
              "array([[ 0.5      ,  0.8660254],\n",
              "       [-0.8660254,  0.5      ]])"
            ]
          },
          "metadata": {
            "tags": []
          },
          "execution_count": 86
        }
      ]
    },
    {
      "cell_type": "code",
      "metadata": {
        "id": "jmoAwwZD_yM7",
        "outputId": "67e78ff3-ddd9-47f3-d183-587357ec166b"
      },
      "source": [
        "VV=np.c_[ -V[:,1],-V[:,0]  ]\n",
        "VV"
      ],
      "execution_count": null,
      "outputs": [
        {
          "output_type": "execute_result",
          "data": {
            "text/plain": [
              "array([[ 0.5      ,  0.8660254],\n",
              "       [-0.8660254,  0.5      ]])"
            ]
          },
          "metadata": {
            "tags": []
          },
          "execution_count": 87
        }
      ]
    },
    {
      "cell_type": "code",
      "metadata": {
        "id": "fNvP3p6D_yM9",
        "outputId": "66585bac-5b0e-4101-fddb-933fe3d2a288"
      },
      "source": [
        "Up=orthogonal(np.pi/4)\n",
        "Up"
      ],
      "execution_count": null,
      "outputs": [
        {
          "output_type": "execute_result",
          "data": {
            "text/plain": [
              "array([[ 0.70710678,  0.70710678],\n",
              "       [-0.70710678,  0.70710678]])"
            ]
          },
          "metadata": {
            "tags": []
          },
          "execution_count": 88
        }
      ]
    },
    {
      "cell_type": "code",
      "metadata": {
        "id": "_CQdUIvO_yNA",
        "outputId": "d57476e8-fa48-4e37-caab-91c7302493f8"
      },
      "source": [
        "UU=np.c_[ -U[:,1],-U[:,0]  ]\n",
        "UU"
      ],
      "execution_count": null,
      "outputs": [
        {
          "output_type": "execute_result",
          "data": {
            "text/plain": [
              "array([[ 0.70710678,  0.70710678],\n",
              "       [-0.70710678,  0.70710678]])"
            ]
          },
          "metadata": {
            "tags": []
          },
          "execution_count": 89
        }
      ]
    },
    {
      "cell_type": "code",
      "metadata": {
        "id": "glGgx_Hm_yNC",
        "outputId": "4ced458a-2584-44f7-82fa-ce47aaea438f"
      },
      "source": [
        "np.dot( np.dot( VV.transpose().conjugate(),A    ), UU).round(14)"
      ],
      "execution_count": null,
      "outputs": [
        {
          "output_type": "execute_result",
          "data": {
            "text/plain": [
              "array([[5., 0.],\n",
              "       [0., 8.]])"
            ]
          },
          "metadata": {
            "tags": []
          },
          "execution_count": 90
        }
      ]
    },
    {
      "cell_type": "markdown",
      "metadata": {
        "id": "NqpsZRwU_yNG"
      },
      "source": [
        "__Activity__: https://beta.deepnote.com/project/17b487c8-b092-4032-94f5-438ba4eeb1e9"
      ]
    },
    {
      "cell_type": "markdown",
      "metadata": {
        "id": "m67S_kLl_yNG"
      },
      "source": [
        "<font color=\"red\">__Activity__</font>: Solve the system\n",
        "$$ \\boldsymbol{A} \\boldsymbol{x}=\\boldsymbol{B}$$\n",
        "for the previous $ \\boldsymbol{A}$ matrix and\n",
        "$$\\boldsymbol{B}=\\begin{bmatrix}\n",
        "   1\\\\\n",
        "   -4\\\\\n",
        "   \\end{bmatrix}$$"
      ]
    },
    {
      "cell_type": "markdown",
      "metadata": {
        "id": "6H1SA9YA_yNH"
      },
      "source": [
        "## Mixed terms"
      ]
    },
    {
      "cell_type": "markdown",
      "metadata": {
        "id": "5FVvz6Dq_yNH"
      },
      "source": [
        "Let:\n",
        "\\begin{align}\n",
        "X' = \n",
        "\\begin{bmatrix}\n",
        "B \\\\ \n",
        "W \\\\\n",
        "\\end{bmatrix}\n",
        "\\end{align}\n",
        "\n",
        "Consider  the quadratic equation \n",
        "\\begin{align}\n",
        "X^{\\prime\\operatorname{T}} M X^\\prime=& \\begin{bmatrix}\n",
        "B & W \n",
        "\\end{bmatrix}\n",
        "\\begin{bmatrix}\n",
        "M_{11} & M_{12} \\\\\n",
        "M_{12} & M_{22} \\\\\n",
        "\\end{bmatrix}\n",
        "\\begin{bmatrix}\n",
        "B \\\\ \n",
        "W \\\\\n",
        "\\end{bmatrix}\\\\\n",
        "=& \n",
        "\\begin{bmatrix}\n",
        "B & W \n",
        "\\end{bmatrix}\n",
        "\\begin{bmatrix}\n",
        "M_{11}B + M_{12}W \\\\\n",
        "M_{12}B + M_{22}W \\\\\n",
        "\\end{bmatrix}\\\\\n",
        "=& \n",
        "B( M_{11}B + M_{12}W)+  W ( M_{12}B + M_{22}W )\\\\\n",
        "=&M_{11} B^2 + 2M_{12} BW+ M_{22} W^2\\,. \n",
        "\\end{align}\n",
        "The queadratic equation is in terms of: $M_{11}$, $M_{12}$ y $M_{22}$\n",
        "\n",
        "We can simplify this expression if we change to a new basis in which $M$ is diagonal, in such a case the crossed terms disappear\n",
        "\n",
        "\\begin{align}\n",
        "X^{\\prime\\operatorname{T}} M X^\\prime=&X^{\\prime\\operatorname{T}}V V^{\\operatorname{T}} M V V^{\\operatorname{T}} X^\\prime=...\n",
        "\\end{align}\n",
        "\n"
      ]
    },
    {
      "cell_type": "markdown",
      "metadata": {
        "id": "igDsgg_h_yNI"
      },
      "source": [
        "If we define\n",
        "\\begin{align}\n",
        "X\\equiv\n",
        "\\begin{bmatrix}\n",
        "A\\\\\n",
        "Z\n",
        "\\end{bmatrix}=V^{\\operatorname{T}} X \\to X^{\\operatorname{T}}= X^{\\prime\\operatorname{T}} V\\,,\n",
        "\\end{align}\n",
        "\\begin{align}\n",
        "M_{\\text{diag}}\\equiv V^{\\operatorname{T}} M V=\\begin{bmatrix}\n",
        "\\lambda_1 & 0 \\\\ \n",
        "0 & \\lambda_2 \\\\\n",
        "\\end{bmatrix}\\,,\n",
        "\\end{align}\n",
        "\n",
        "\n",
        "then,\n",
        "\\begin{align}\n",
        "X^{\\prime\\operatorname{T}} M X^\\prime=&(X^{\\prime\\operatorname{T}}V) (V^{\\operatorname{T}} M V) (V^{\\operatorname{T}} X^\\prime)\\\\\n",
        "=& X^{\\operatorname{T}} M_{\\text{diag}} X \\\\\n",
        "=&  \\lambda_1 A^2+\\lambda_2 Z^2\\,.\n",
        "\\end{align}\n",
        "\n",
        "In this basis, the quadratic equation is in terms of eigenvalues and mixing angles, like $\\theta$ in this case\n",
        "\\begin{align}\n",
        "V=\n",
        "\\begin{bmatrix}\n",
        "\\cos\\theta & \\sin\\theta\\\\\n",
        "-\\sin\\theta & \\cos\\theta\n",
        "\\end{bmatrix},\n",
        "\\end{align}\n",
        "and there are not mixed terms.\n",
        "\n",
        "The diagonalization of quadratic equations can be straightforwardly  generalized to $n\\times n$ matrices\n"
      ]
    },
    {
      "cell_type": "markdown",
      "metadata": {
        "id": "ed4EiqOU_yNI"
      },
      "source": [
        "## Activity: Photon and $Z$ mixing"
      ]
    },
    {
      "cell_type": "code",
      "metadata": {
        "id": "pz2d6tIX_yNI"
      },
      "source": [
        "Consider the following symmetric matrix"
      ],
      "execution_count": null,
      "outputs": []
    },
    {
      "cell_type": "markdown",
      "metadata": {
        "id": "v3fy5C0Z_yNL"
      },
      "source": [
        "<!-- \n",
        "sin2θ=0.23\n",
        "θ=np.arcsin( np.sqrt(sin2θ)  )\n",
        "print(θ)\n",
        "MZ=91.1876\n",
        "GF=1.166371E-5\n",
        "v=1/np.sqrt(np.sqrt(2)*GF)\n",
        "g=2*MZ*np.cos(θ)/v\n",
        "gp=g*np.tan(θ)\n",
        "gp\n",
        "-->"
      ]
    },
    {
      "cell_type": "code",
      "metadata": {
        "hide_input": true,
        "id": "ibdqjo1S_yNL"
      },
      "source": [
        "import numpy as np\n",
        "\n",
        "g =0.64996\n",
        "gp=0.35523\n",
        "v=246.22046"
      ],
      "execution_count": null,
      "outputs": []
    },
    {
      "cell_type": "code",
      "metadata": {
        "id": "m6CDnZ-0_yNP"
      },
      "source": [
        "M=(v**2/4)*np.array([[g**2 ,-g*gp],\n",
        "                     [-g*gp, gp**2]])"
      ],
      "execution_count": null,
      "outputs": []
    },
    {
      "cell_type": "code",
      "metadata": {
        "id": "VXjziS7x_yNQ",
        "outputId": "5ecf3f35-8f57-4051-93a2-3b832390c010"
      },
      "source": [
        "M"
      ],
      "execution_count": null,
      "outputs": [
        {
          "output_type": "execute_result",
          "data": {
            "text/plain": [
              "array([[ 6402.67629426, -3499.32718938],\n",
              "       [-3499.32718938,  1912.52692086]])"
            ]
          },
          "metadata": {
            "tags": []
          },
          "execution_count": 106
        }
      ]
    },
    {
      "cell_type": "markdown",
      "metadata": {
        "id": "SCm5NaFx_yNT"
      },
      "source": [
        "Chek that the determinant is zero"
      ]
    },
    {
      "cell_type": "code",
      "metadata": {
        "id": "TLcB9cP2_yNU",
        "outputId": "0b771e73-a77f-4013-ccd9-bebfa3b7fca9"
      },
      "source": [
        "np.linalg.det(M).round(8)"
      ],
      "execution_count": null,
      "outputs": [
        {
          "output_type": "execute_result",
          "data": {
            "text/plain": [
              "-0.0"
            ]
          },
          "metadata": {
            "tags": []
          },
          "execution_count": 92
        }
      ]
    },
    {
      "cell_type": "markdown",
      "metadata": {
        "id": "lnuxhuPw_yNX"
      },
      "source": [
        "This imply that one egivanlue is zero"
      ]
    },
    {
      "cell_type": "code",
      "metadata": {
        "id": "bW46axqf_yNX",
        "outputId": "197526e8-7c0a-429c-ff63-f478df2e96c9"
      },
      "source": [
        "np.linalg.eigvals(M).round(12)"
      ],
      "execution_count": null,
      "outputs": [
        {
          "output_type": "execute_result",
          "data": {
            "text/plain": [
              "array([8315.20321512,   -0.        ])"
            ]
          },
          "metadata": {
            "tags": []
          },
          "execution_count": 93
        }
      ]
    },
    {
      "cell_type": "markdown",
      "metadata": {
        "id": "znfS-1MC_yNa"
      },
      "source": [
        "which means that the matrix rank, the number of non-zero are eigenvalues is 1"
      ]
    },
    {
      "cell_type": "code",
      "metadata": {
        "id": "FIe8_PI__yNa",
        "outputId": "ab071a0a-f3bb-479f-b068-f7ff5100ea10"
      },
      "source": [
        "np.linalg.matrix_rank(M)"
      ],
      "execution_count": null,
      "outputs": [
        {
          "output_type": "execute_result",
          "data": {
            "text/plain": [
              "1"
            ]
          },
          "metadata": {
            "tags": []
          },
          "execution_count": 94
        }
      ]
    },
    {
      "cell_type": "code",
      "metadata": {
        "id": "GvionRQ1_yNc"
      },
      "source": [
        "λ,V=np.linalg.eig(M)"
      ],
      "execution_count": null,
      "outputs": []
    },
    {
      "cell_type": "code",
      "metadata": {
        "id": "Fh9y5vQh_yNg",
        "outputId": "4aa78286-0ee2-4978-ead8-410687614184"
      },
      "source": [
        "np.dot( np.dot(V.transpose(),M) , V).round(11)"
      ],
      "execution_count": null,
      "outputs": [
        {
          "output_type": "execute_result",
          "data": {
            "text/plain": [
              "array([[8315.20321512,    0.        ],\n",
              "       [   0.        ,   -0.        ]])"
            ]
          },
          "metadata": {
            "tags": []
          },
          "execution_count": 96
        }
      ]
    },
    {
      "cell_type": "code",
      "metadata": {
        "id": "xnQTNWpx_yNi"
      },
      "source": [
        "λ1=λ[0]\n",
        "λ2=λ[1]"
      ],
      "execution_count": null,
      "outputs": []
    },
    {
      "cell_type": "code",
      "metadata": {
        "id": "yYPdp8If_yNl",
        "outputId": "7304d1b0-273f-4da5-f7fd-4a879394f61f"
      },
      "source": [
        "-V"
      ],
      "execution_count": null,
      "outputs": [
        {
          "output_type": "execute_result",
          "data": {
            "text/plain": [
              "array([[-0.87749437, -0.47958694],\n",
              "       [ 0.47958694, -0.87749437]])"
            ]
          },
          "metadata": {
            "tags": []
          },
          "execution_count": 98
        }
      ]
    },
    {
      "cell_type": "code",
      "metadata": {
        "id": "-w5aMWql_yNp"
      },
      "source": [
        "θ=-np.arcsin( V[0,1] )"
      ],
      "execution_count": null,
      "outputs": []
    },
    {
      "cell_type": "code",
      "metadata": {
        "id": "IXaUGizx_yNr",
        "outputId": "17b78eb9-d7aa-4054-8e02-11669107b360"
      },
      "source": [
        "θ"
      ],
      "execution_count": null,
      "outputs": [
        {
          "output_type": "execute_result",
          "data": {
            "text/plain": [
              "-0.5001839211647364"
            ]
          },
          "metadata": {
            "tags": []
          },
          "execution_count": 100
        }
      ]
    },
    {
      "cell_type": "code",
      "metadata": {
        "id": "l_UjJZZr_yNt",
        "outputId": "38e82c07-fd91-4c2a-fe1b-2ebe2e84575a"
      },
      "source": [
        "np.array( [[np.cos(θ), np.sin(θ)],\n",
        "            [-np.sin(θ),np.cos(θ)]] )"
      ],
      "execution_count": null,
      "outputs": [
        {
          "output_type": "execute_result",
          "data": {
            "text/plain": [
              "array([[ 0.87749437, -0.47958694],\n",
              "       [ 0.47958694,  0.87749437]])"
            ]
          },
          "metadata": {
            "tags": []
          },
          "execution_count": 101
        }
      ]
    },
    {
      "cell_type": "code",
      "metadata": {
        "id": "96XfXdJr_yNv",
        "outputId": "56d77be5-a7b6-4bd2-d203-d9278a5ba574"
      },
      "source": [
        "MZ=np.sqrt(λ1)\n",
        "MZ"
      ],
      "execution_count": null,
      "outputs": [
        {
          "output_type": "execute_result",
          "data": {
            "text/plain": [
              "91.18773610041056"
            ]
          },
          "metadata": {
            "tags": []
          },
          "execution_count": 102
        }
      ]
    },
    {
      "cell_type": "code",
      "metadata": {
        "id": "iK_tm6Dw_yNx",
        "outputId": "3f7e871e-2555-47d2-e18b-919aac20748d"
      },
      "source": [
        "np.sin(θ)**2"
      ],
      "execution_count": null,
      "outputs": [
        {
          "output_type": "execute_result",
          "data": {
            "text/plain": [
              "0.23000362966286086"
            ]
          },
          "metadata": {
            "tags": []
          },
          "execution_count": 103
        }
      ]
    },
    {
      "cell_type": "markdown",
      "metadata": {
        "id": "gGmJk_Lb_yN1"
      },
      "source": [
        "θ angulo de mezcla débil"
      ]
    },
    {
      "cell_type": "markdown",
      "metadata": {
        "id": "L-yZ1sqV_yN1"
      },
      "source": [
        "## Appendix"
      ]
    },
    {
      "cell_type": "markdown",
      "metadata": {
        "id": "li5lKLVV_yN2"
      },
      "source": [
        "\\begin{equation}\n",
        "  V\\boldsymbol{A}_{\\text{diag}}=\\boldsymbol{A}\n",
        "\\end{equation}"
      ]
    },
    {
      "cell_type": "code",
      "metadata": {
        "id": "8FE53ae8_yN2"
      },
      "source": [
        "Adiag=np.array( [[5,0],\n",
        "                 [0,8]] )"
      ],
      "execution_count": null,
      "outputs": []
    },
    {
      "cell_type": "code",
      "metadata": {
        "id": "800dK9m5_yN5",
        "outputId": "164d7981-f049-42bc-8073-dc89c1e188b2"
      },
      "source": [
        "A=np.dot( Vp,np.array( Adiag ) )\n",
        "A"
      ],
      "execution_count": null,
      "outputs": [
        {
          "output_type": "execute_result",
          "data": {
            "text/plain": [
              "array([[ 2.5       ,  6.92820323],\n",
              "       [-4.33012702,  4.        ]])"
            ]
          },
          "metadata": {
            "tags": []
          },
          "execution_count": 93
        }
      ]
    },
    {
      "cell_type": "code",
      "metadata": {
        "id": "5k9YotGx_yN9",
        "outputId": "2f59fe00-b63a-4b1d-c1cb-01e8f5e61670"
      },
      "source": [
        "np.dot( Vp.transpose(),A)"
      ],
      "execution_count": null,
      "outputs": [
        {
          "output_type": "execute_result",
          "data": {
            "text/plain": [
              "array([[5., 0.],\n",
              "       [0., 8.]])"
            ]
          },
          "metadata": {
            "tags": []
          },
          "execution_count": 94
        }
      ]
    },
    {
      "cell_type": "code",
      "metadata": {
        "id": "2BXjJ9V3_yN_",
        "outputId": "1beee004-d256-484e-e814-b8603161c6f2"
      },
      "source": [
        "λ2,V=np.linalg.eig( np.dot( A,A.transpose() ) )\n",
        "print('sqrt(λ2)={}'.format(np.sqrt(λ2)))\n",
        "V=np.c_[ -V[:,1],V[:,0]  ]\n",
        "V"
      ],
      "execution_count": null,
      "outputs": [
        {
          "output_type": "stream",
          "text": [
            "sqrt(λ2)=[8. 5.]\n"
          ],
          "name": "stdout"
        },
        {
          "output_type": "execute_result",
          "data": {
            "text/plain": [
              "array([[ 0.5      ,  0.8660254],\n",
              "       [-0.8660254,  0.5      ]])"
            ]
          },
          "metadata": {
            "tags": []
          },
          "execution_count": 95
        }
      ]
    },
    {
      "cell_type": "code",
      "metadata": {
        "id": "3jKH8UEm_yOB",
        "outputId": "0826b2bc-e542-4cb9-fc90-a76a7acd0a6e"
      },
      "source": [
        "λ2p,U=np.linalg.eig( np.dot( A.transpose(),A ) )\n",
        "print(np.sqrt(λ2))\n",
        "U"
      ],
      "execution_count": null,
      "outputs": [
        {
          "output_type": "stream",
          "text": [
            "[8. 5.]\n"
          ],
          "name": "stdout"
        },
        {
          "output_type": "execute_result",
          "data": {
            "text/plain": [
              "array([[1., 0.],\n",
              "       [0., 1.]])"
            ]
          },
          "metadata": {
            "tags": []
          },
          "execution_count": 96
        }
      ]
    },
    {
      "cell_type": "code",
      "metadata": {
        "id": "EjuUdX5b_yOD",
        "outputId": "b51dd724-a3d4-4171-89ee-a56936aa63bb"
      },
      "source": [
        "np.dot( np.dot( V.transpose(),A ), U ).round(15)"
      ],
      "execution_count": null,
      "outputs": [
        {
          "output_type": "execute_result",
          "data": {
            "text/plain": [
              "array([[ 5.,  0.],\n",
              "       [-0.,  8.]])"
            ]
          },
          "metadata": {
            "tags": []
          },
          "execution_count": 97
        }
      ]
    },
    {
      "cell_type": "code",
      "metadata": {
        "id": "6t50BrH7_yOF",
        "outputId": "bc2c4a60-f2d9-45af-cc62-5e62e563fbb8"
      },
      "source": [
        "np.dot( V.transpose(),A ).round(15)"
      ],
      "execution_count": null,
      "outputs": [
        {
          "output_type": "execute_result",
          "data": {
            "text/plain": [
              "array([[ 5.,  0.],\n",
              "       [-0.,  8.]])"
            ]
          },
          "metadata": {
            "tags": []
          },
          "execution_count": 98
        }
      ]
    },
    {
      "cell_type": "markdown",
      "metadata": {
        "id": "c_CYc5Bq_yOH"
      },
      "source": [
        "Bidiagonal"
      ]
    },
    {
      "cell_type": "code",
      "metadata": {
        "id": "yHgSZy-p_yOH"
      },
      "source": [
        "Adiag=np.array( [[5,0],\n",
        "                 [0,8]] )"
      ],
      "execution_count": null,
      "outputs": []
    },
    {
      "cell_type": "code",
      "metadata": {
        "id": "rroQr7Rg_yOJ",
        "outputId": "2d29ee6c-817e-44fe-e900-e76bfa820f47"
      },
      "source": [
        "Vp=orthogonal(np.pi/3)\n",
        "Vp"
      ],
      "execution_count": null,
      "outputs": [
        {
          "output_type": "execute_result",
          "data": {
            "text/plain": [
              "array([[ 0.5      ,  0.8660254],\n",
              "       [-0.8660254,  0.5      ]])"
            ]
          },
          "metadata": {
            "tags": []
          },
          "execution_count": 100
        }
      ]
    },
    {
      "cell_type": "code",
      "metadata": {
        "id": "ht93NOyr_yOL",
        "outputId": "1deeba18-9602-4a76-f88b-39e1d5def628"
      },
      "source": [
        "Up=orthogonal(np.pi/4)\n",
        "Up"
      ],
      "execution_count": null,
      "outputs": [
        {
          "output_type": "execute_result",
          "data": {
            "text/plain": [
              "array([[ 0.70710678,  0.70710678],\n",
              "       [-0.70710678,  0.70710678]])"
            ]
          },
          "metadata": {
            "tags": []
          },
          "execution_count": 101
        }
      ]
    },
    {
      "cell_type": "markdown",
      "metadata": {
        "id": "jK7Pqeu4_yOO"
      },
      "source": [
        "\\begin{equation}\n",
        "  \\boldsymbol{V}\\boldsymbol{A}_{\\text{diag}}\\boldsymbol{U}^\\dagger=\\boldsymbol{A}\n",
        "\\end{equation}"
      ]
    },
    {
      "cell_type": "code",
      "metadata": {
        "id": "OHfj2gwD_yOP"
      },
      "source": [
        "A=np.dot( np.dot( Vp,Adiag ),Up.transpose() )"
      ],
      "execution_count": null,
      "outputs": []
    },
    {
      "cell_type": "code",
      "metadata": {
        "id": "SN3sQC5W_yOS",
        "outputId": "f941e20c-55df-439a-8a7f-575a0a9a8bbd"
      },
      "source": [
        "A"
      ],
      "execution_count": null,
      "outputs": [
        {
          "output_type": "execute_result",
          "data": {
            "text/plain": [
              "array([[ 6.66674644,  3.13121253],\n",
              "       [-0.23343505,  5.8902893 ]])"
            ]
          },
          "metadata": {
            "tags": []
          },
          "execution_count": 103
        }
      ]
    },
    {
      "cell_type": "code",
      "metadata": {
        "id": "68Xbq-C8_yOW",
        "outputId": "2d8c486f-4dd4-4ecb-c8b5-4efed9debc72"
      },
      "source": [
        "λ2,V=np.linalg.eig( np.dot( A,A.transpose() ) )\n",
        "print(λ2,np.sqrt(λ2))\n",
        "V=np.c_[ -V[:,1],V[:,0]  ]\n",
        "V"
      ],
      "execution_count": null,
      "outputs": [
        {
          "output_type": "stream",
          "text": [
            "[64. 25.] [8. 5.]\n"
          ],
          "name": "stdout"
        },
        {
          "output_type": "execute_result",
          "data": {
            "text/plain": [
              "array([[ 0.5      ,  0.8660254],\n",
              "       [-0.8660254,  0.5      ]])"
            ]
          },
          "metadata": {
            "tags": []
          },
          "execution_count": 104
        }
      ]
    },
    {
      "cell_type": "code",
      "metadata": {
        "id": "mw5Yl0xB_yOY",
        "outputId": "efa6f22c-533d-4ba5-fcbf-4b636c8d47e7"
      },
      "source": [
        "λ2p,U=np.linalg.eig( np.dot( A.transpose(),A ) )\n",
        "print(np.sqrt(λ2))\n",
        "U=-U"
      ],
      "execution_count": null,
      "outputs": [
        {
          "output_type": "stream",
          "text": [
            "[8. 5.]\n"
          ],
          "name": "stdout"
        }
      ]
    },
    {
      "cell_type": "code",
      "metadata": {
        "id": "5OjzyQ5Z_yOa",
        "outputId": "ab7f9081-7eed-4d48-b6cf-2aa928dfad31"
      },
      "source": [
        "np.dot( np.dot( V.transpose(),A ), U ).round(14)"
      ],
      "execution_count": null,
      "outputs": [
        {
          "output_type": "execute_result",
          "data": {
            "text/plain": [
              "array([[5., 0.],\n",
              "       [0., 8.]])"
            ]
          },
          "metadata": {
            "tags": []
          },
          "execution_count": 106
        }
      ]
    },
    {
      "cell_type": "code",
      "metadata": {
        "id": "1U9hnd_u_yOb",
        "outputId": "c790481a-06ae-48bc-fc3e-5b195cd4d510"
      },
      "source": [
        "V,U"
      ],
      "execution_count": null,
      "outputs": [
        {
          "output_type": "execute_result",
          "data": {
            "text/plain": [
              "(array([[ 0.5      ,  0.8660254],\n",
              "        [-0.8660254,  0.5      ]]), array([[ 0.70710678,  0.70710678],\n",
              "        [-0.70710678,  0.70710678]]))"
            ]
          },
          "metadata": {
            "tags": []
          },
          "execution_count": 107
        }
      ]
    },
    {
      "cell_type": "markdown",
      "metadata": {
        "id": "XVob42SD_yOf"
      },
      "source": [
        "Scipy implementation"
      ]
    },
    {
      "cell_type": "code",
      "metadata": {
        "id": "5YzArjFW_yOf",
        "outputId": "2373c9da-5a40-422e-c582-00da7a07dc68"
      },
      "source": [
        "λ,Vs=linalg.eig(A,left=False,right=True)\n",
        "λ"
      ],
      "execution_count": null,
      "outputs": [
        {
          "output_type": "execute_result",
          "data": {
            "text/plain": [
              "array([6.27851787+0.76171737j, 6.27851787-0.76171737j])"
            ]
          },
          "metadata": {
            "tags": []
          },
          "execution_count": 108
        }
      ]
    },
    {
      "cell_type": "code",
      "metadata": {
        "id": "UaMhcngv_yOh",
        "outputId": "061400bd-9d2f-466d-e6c9-5421735c2409"
      },
      "source": [
        "λ,Vs=linalg.eig(A,left=True,right=False)\n",
        "λ"
      ],
      "execution_count": null,
      "outputs": [
        {
          "output_type": "execute_result",
          "data": {
            "text/plain": [
              "array([6.27851787+0.76171737j, 6.27851787-0.76171737j])"
            ]
          },
          "metadata": {
            "tags": []
          },
          "execution_count": 109
        }
      ]
    },
    {
      "cell_type": "markdown",
      "metadata": {
        "id": "OpZ6xTlxZepn"
      },
      "source": [
        ""
      ]
    },
    {
      "cell_type": "code",
      "metadata": {
        "id": "NieNaWoPn9AN",
        "outputId": "c229c621-0ae8-47f1-caf3-c5dda643f2bc",
        "colab": {
          "base_uri": "https://localhost:8080/",
          "height": 35
        }
      },
      "source": [
        "np.linalg.solve(A,[1,-4])"
      ],
      "execution_count": null,
      "outputs": [
        {
          "output_type": "execute_result",
          "data": {
            "text/plain": [
              "array([ 0.46037849, -0.66083877])"
            ]
          },
          "metadata": {
            "tags": []
          },
          "execution_count": 110
        }
      ]
    },
    {
      "cell_type": "code",
      "metadata": {
        "id": "LTv0-6r-_yOm",
        "outputId": "59162f0f-106c-4d04-9ae2-43ef8adb07a2"
      },
      "source": [
        "A"
      ],
      "execution_count": null,
      "outputs": [
        {
          "output_type": "execute_result",
          "data": {
            "text/plain": [
              "array([[ 6.66674644,  3.13121253],\n",
              "       [-0.23343505,  5.8902893 ]])"
            ]
          },
          "metadata": {
            "tags": []
          },
          "execution_count": 111
        }
      ]
    },
    {
      "cell_type": "code",
      "metadata": {
        "id": "8phOIA1q_yOo"
      },
      "source": [
        "V,diag,Udagger=linalg.svd(A)"
      ],
      "execution_count": null,
      "outputs": []
    },
    {
      "cell_type": "code",
      "metadata": {
        "id": "QZeoR_gU_yOq"
      },
      "source": [
        "np.dotnp.dot( V.transpose().conjugate(),A)"
      ],
      "execution_count": null,
      "outputs": []
    },
    {
      "cell_type": "code",
      "metadata": {
        "id": "IgyDy1G5_yOr",
        "outputId": "790e8210-06f3-4026-c897-ceac1b6183e7"
      },
      "source": [
        "AA"
      ],
      "execution_count": null,
      "outputs": [
        {
          "output_type": "execute_result",
          "data": {
            "text/plain": [
              "array([[ 4.4408921e-16,  8.0000000e+00],\n",
              "       [-5.0000000e+00,  8.8817842e-16]])"
            ]
          },
          "metadata": {
            "tags": []
          },
          "execution_count": 43
        }
      ]
    },
    {
      "cell_type": "code",
      "metadata": {
        "id": "OScXtgiP_yOt",
        "outputId": "1dde130d-c5a8-45fb-9770-653ba47aae32"
      },
      "source": [
        "np.dot(AA  ,Udagger.transpose())"
      ],
      "execution_count": null,
      "outputs": [
        {
          "output_type": "execute_result",
          "data": {
            "text/plain": [
              "array([[ 8.0000000e+00, -4.4408921e-16],\n",
              "       [ 8.8817842e-16,  5.0000000e+00]])"
            ]
          },
          "metadata": {
            "tags": []
          },
          "execution_count": 44
        }
      ]
    },
    {
      "cell_type": "code",
      "metadata": {
        "id": "tcUQIIg0_yOu",
        "outputId": "fc5ecea0-4da3-4e76-8ad0-ca675852743c"
      },
      "source": [
        "Udagger"
      ],
      "execution_count": null,
      "outputs": [
        {
          "output_type": "execute_result",
          "data": {
            "text/plain": [
              "array([[ 4.4408921e-16, -5.0000000e+00],\n",
              "       [ 8.0000000e+00,  8.8817842e-16]])"
            ]
          },
          "metadata": {
            "tags": []
          },
          "execution_count": 40
        }
      ]
    },
    {
      "cell_type": "code",
      "metadata": {
        "id": "ZwJkKolw_yOw",
        "outputId": "c0dc787f-7ab9-4752-cf09-c2d4336445ba"
      },
      "source": [
        "np.dot( V,A,Udagger)"
      ],
      "execution_count": null,
      "outputs": [
        {
          "output_type": "error",
          "ename": "ValueError",
          "evalue": "output array is not acceptable (must have the right datatype, number of dimensions, and be a C-Array)",
          "traceback": [
            "\u001b[0;31m---------------------------------------------------------------------------\u001b[0m",
            "\u001b[0;31mValueError\u001b[0m                                Traceback (most recent call last)",
            "\u001b[0;32m<ipython-input-29-4f003879e747>\u001b[0m in \u001b[0;36m<module>\u001b[0;34m\u001b[0m\n\u001b[0;32m----> 1\u001b[0;31m \u001b[0mnp\u001b[0m\u001b[0;34m.\u001b[0m\u001b[0mdot\u001b[0m\u001b[0;34m(\u001b[0m \u001b[0mV\u001b[0m\u001b[0;34m,\u001b[0m\u001b[0mA\u001b[0m\u001b[0;34m,\u001b[0m\u001b[0mUdagger\u001b[0m\u001b[0;34m)\u001b[0m\u001b[0;34m\u001b[0m\u001b[0m\n\u001b[0m",
            "\u001b[0;31mValueError\u001b[0m: output array is not acceptable (must have the right datatype, number of dimensions, and be a C-Array)"
          ]
        }
      ]
    },
    {
      "cell_type": "code",
      "metadata": {
        "id": "ZtFQK2CK_yOy"
      },
      "source": [
        "V,diag,Udagger=linalg.svd(A)"
      ],
      "execution_count": null,
      "outputs": []
    },
    {
      "cell_type": "code",
      "metadata": {
        "id": "8Wm8uK_G_yOz",
        "outputId": "51696c16-28fd-447d-877d-5d91a0a2c67a"
      },
      "source": [
        ""
      ],
      "execution_count": null,
      "outputs": [
        {
          "output_type": "execute_result",
          "data": {
            "text/plain": [
              "array([[8., 0.],\n",
              "       [0., 5.]])"
            ]
          },
          "metadata": {
            "tags": []
          },
          "execution_count": 67
        }
      ]
    },
    {
      "cell_type": "code",
      "metadata": {
        "id": "YdqNKC1r_yO2"
      },
      "source": [
        ""
      ],
      "execution_count": null,
      "outputs": []
    }
  ]
}