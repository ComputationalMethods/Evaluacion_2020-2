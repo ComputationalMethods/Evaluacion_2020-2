{
  "nbformat": 4,
  "nbformat_minor": 0,
  "metadata": {
    "colab": {
      "name": "Examen_2020_1_01_enunciado.ipynb",
      "provenance": []
    },
    "kernelspec": {
      "display_name": "Python 3",
      "language": "python",
      "name": "python3"
    },
    "language_info": {
      "codemirror_mode": {
        "name": "ipython",
        "version": 3
      },
      "file_extension": ".py",
      "mimetype": "text/x-python",
      "name": "python",
      "nbconvert_exporter": "python",
      "pygments_lexer": "ipython3",
      "version": "3.7.3"
    },
    "toc": {
      "colors": {
        "hover_highlight": "#DAA520",
        "running_highlight": "#FF0000",
        "selected_highlight": "#FFD700"
      },
      "moveMenuLeft": true,
      "nav_menu": {
        "height": "30px",
        "width": "252px"
      },
      "navigate_menu": true,
      "number_sections": true,
      "sideBar": true,
      "threshold": 4,
      "toc_cell": false,
      "toc_section_display": "block",
      "toc_window_display": false
    }
  },
  "cells": [
    {
      "cell_type": "markdown",
      "metadata": {
        "id": "bWVchymOoRBb"
      },
      "source": [
        "# Primer Examen 15%"
      ]
    },
    {
      "cell_type": "markdown",
      "metadata": {
        "id": "cuGCz-DOoRBc"
      },
      "source": [
        "## Ejercicio 1\n",
        "El siguiente url entrega 100 artículos (ver`/work?rows=100` al final del url) de la revista con el ISSN: 1029-8479 correspondiente a \"Journal of High Energy Physics\" en formato JSON usando el API de CrossRef:\n",
        "\n",
        "https://api.crossref.org/journals/1029-8479/works?rows=100\n",
        "\n",
        "La base de datos con los 100 artículos que tambíen se puede cargar en otro DataFrame de Pandas, se encuentra anidada en la celda con fila `'items'` y columna `'messages'` la cual se puede obtener con el método `.loc['items','message']` del DataFrame original.\n",
        "\n",
        "Obtenga la lista de DOIs para los artículos de Alessandro Strumia en esa base de datos anidada"
      ]
    },
    {
      "cell_type": "markdown",
      "metadata": {
        "id": "E6U6cMUsoRBc"
      },
      "source": [
        "## Ejercicio 2\n",
        "2a) Genere un polinomio de numpy con 7 raices aleatorias entre 1 y 10\n",
        "\n",
        "2b) Encuentre los puntos críticos del polinomio: las raices de la derivada el polinomio.\n",
        "\n",
        "2c) Con alguna de los métodos para encontrar mínimos compruebe que el punto crítico de menor (mayor) valor corresponde al mínimo (máximo) global del polinomio\n",
        "\n",
        "2d) Grafique el polinomío inclueyendo los puntos asociados a las raices."
      ]
    },
    {
      "cell_type": "markdown",
      "metadata": {
        "id": "t1u87q5RLdts"
      },
      "source": [
        "Punto 1."
      ]
    },
    {
      "cell_type": "code",
      "metadata": {
        "id": "83Xmlk0GLg3V"
      },
      "source": [
        "import numpy as np\n",
        "import pandas as pd\n",
        "import matplotlib.pyplot as plt\n",
        "from scipy import integrate\n",
        "from scipy import optimize"
      ],
      "execution_count": 3,
      "outputs": []
    },
    {
      "cell_type": "code",
      "metadata": {
        "id": "caRn8pbgMqNx",
        "outputId": "4c5524f9-835e-4a0b-a626-0e021c61011e",
        "colab": {
          "base_uri": "https://localhost:8080/",
          "height": 204
        }
      },
      "source": [
        "df = pd.read_json('https://api.crossref.org/journals/1029-8479/works?rows=100') # leo el archivo y lo convierto en un achivo de pandas\n",
        "df"
      ],
      "execution_count": 4,
      "outputs": [
        {
          "output_type": "execute_result",
          "data": {
            "text/html": [
              "<div>\n",
              "<style scoped>\n",
              "    .dataframe tbody tr th:only-of-type {\n",
              "        vertical-align: middle;\n",
              "    }\n",
              "\n",
              "    .dataframe tbody tr th {\n",
              "        vertical-align: top;\n",
              "    }\n",
              "\n",
              "    .dataframe thead th {\n",
              "        text-align: right;\n",
              "    }\n",
              "</style>\n",
              "<table border=\"1\" class=\"dataframe\">\n",
              "  <thead>\n",
              "    <tr style=\"text-align: right;\">\n",
              "      <th></th>\n",
              "      <th>status</th>\n",
              "      <th>message-type</th>\n",
              "      <th>message-version</th>\n",
              "      <th>message</th>\n",
              "    </tr>\n",
              "  </thead>\n",
              "  <tbody>\n",
              "    <tr>\n",
              "      <th>facets</th>\n",
              "      <td>ok</td>\n",
              "      <td>work-list</td>\n",
              "      <td>1.0.0</td>\n",
              "      <td>{}</td>\n",
              "    </tr>\n",
              "    <tr>\n",
              "      <th>items</th>\n",
              "      <td>ok</td>\n",
              "      <td>work-list</td>\n",
              "      <td>1.0.0</td>\n",
              "      <td>[{'indexed': {'date-parts': [[2020, 3, 30]], '...</td>\n",
              "    </tr>\n",
              "    <tr>\n",
              "      <th>items-per-page</th>\n",
              "      <td>ok</td>\n",
              "      <td>work-list</td>\n",
              "      <td>1.0.0</td>\n",
              "      <td>100</td>\n",
              "    </tr>\n",
              "    <tr>\n",
              "      <th>query</th>\n",
              "      <td>ok</td>\n",
              "      <td>work-list</td>\n",
              "      <td>1.0.0</td>\n",
              "      <td>{'start-index': 0, 'search-terms': None}</td>\n",
              "    </tr>\n",
              "    <tr>\n",
              "      <th>total-results</th>\n",
              "      <td>ok</td>\n",
              "      <td>work-list</td>\n",
              "      <td>1.0.0</td>\n",
              "      <td>31567</td>\n",
              "    </tr>\n",
              "  </tbody>\n",
              "</table>\n",
              "</div>"
            ],
            "text/plain": [
              "               status  ...                                            message\n",
              "facets             ok  ...                                                 {}\n",
              "items              ok  ...  [{'indexed': {'date-parts': [[2020, 3, 30]], '...\n",
              "items-per-page     ok  ...                                                100\n",
              "query              ok  ...           {'start-index': 0, 'search-terms': None}\n",
              "total-results      ok  ...                                              31567\n",
              "\n",
              "[5 rows x 4 columns]"
            ]
          },
          "metadata": {
            "tags": []
          },
          "execution_count": 4
        }
      ]
    },
    {
      "cell_type": "code",
      "metadata": {
        "id": "VjNzrXhxNArP",
        "outputId": "85635916-9719-4d74-f0fb-5355d1d9a4c1",
        "colab": {
          "base_uri": "https://localhost:8080/",
          "height": 179
        }
      },
      "source": [
        "df2 = pd.DataFrame(df.loc['items','message']) # creo un nuevo archivo de pandas con la informacion necesaria\n",
        "df.columns # veo las claves del archivo\n"
      ],
      "execution_count": 12,
      "outputs": [
        {
          "output_type": "execute_result",
          "data": {
            "text/plain": [
              "Index(['indexed', 'reference-count', 'publisher', 'issue', 'content-domain',\n",
              "       'short-container-title', 'DOI', 'type', 'created', 'page', 'source',\n",
              "       'is-referenced-by-count', 'title', 'prefix', 'volume', 'author',\n",
              "       'member', 'published-online', 'container-title', 'deposited', 'score',\n",
              "       'issued', 'references-count', 'journal-issue', 'URL', 'ISSN',\n",
              "       'issn-type', 'published-print', 'update-policy', 'reference',\n",
              "       'language', 'link', 'alternative-id', 'relation', 'subject',\n",
              "       'assertion', 'article-number', 'update-to', 'license'],\n",
              "      dtype='object')"
            ]
          },
          "metadata": {
            "tags": []
          },
          "execution_count": 12
        }
      ]
    },
    {
      "cell_type": "code",
      "metadata": {
        "id": "XQt0_eVmNwTW",
        "outputId": "68b6e081-acab-4746-f85f-9b551d378da6",
        "colab": {
          "base_uri": "https://localhost:8080/",
          "height": 179
        }
      },
      "source": [
        " \n",
        "df2.columns # veo las columnas del segundo data frame para identificar las claves "
      ],
      "execution_count": 38,
      "outputs": [
        {
          "output_type": "execute_result",
          "data": {
            "text/plain": [
              "Index(['indexed', 'reference-count', 'publisher', 'issue', 'content-domain',\n",
              "       'short-container-title', 'DOI', 'type', 'created', 'page', 'source',\n",
              "       'is-referenced-by-count', 'title', 'prefix', 'volume', 'author',\n",
              "       'member', 'published-online', 'container-title', 'deposited', 'score',\n",
              "       'issued', 'references-count', 'journal-issue', 'URL', 'ISSN',\n",
              "       'issn-type', 'published-print', 'update-policy', 'reference',\n",
              "       'language', 'link', 'alternative-id', 'relation', 'subject',\n",
              "       'assertion', 'article-number', 'update-to', 'license'],\n",
              "      dtype='object')"
            ]
          },
          "metadata": {
            "tags": []
          },
          "execution_count": 38
        }
      ]
    },
    {
      "cell_type": "code",
      "metadata": {
        "id": "X9kTWgZcW6eU",
        "outputId": "88c7a6f0-956a-4a11-b79c-efabaa638540",
        "colab": {
          "base_uri": "https://localhost:8080/",
          "height": 35
        }
      },
      "source": [
        "df2[(df2.author.astype(str).str.contains('Alessandro')& \n",
        "     df2.author.astype(str).str.contains('Strumia'))].DOI.to_list()# filto los datos de otra forma\n"
      ],
      "execution_count": 94,
      "outputs": [
        {
          "output_type": "execute_result",
          "data": {
            "text/plain": [
              "['10.1088/1126-6708/2000/12/016', '10.1088/1126-6708/2001/11/048']"
            ]
          },
          "metadata": {
            "tags": []
          },
          "execution_count": 94
        }
      ]
    },
    {
      "cell_type": "code",
      "metadata": {
        "id": "pCjGlXSwmGKZ"
      },
      "source": [
        "filt = df2.author.apply(lambda l : [d for d in l if d.get('given')=='Alessandro']\n",
        "           ).apply(lambda l : [d for d in l if d.get('family')=='Strumia']).str[0].dropna().index.values# filtro los datos con una funcion\n",
        "\n"
      ],
      "execution_count": 87,
      "outputs": []
    },
    {
      "cell_type": "code",
      "metadata": {
        "id": "nMnF2kECoFbq",
        "outputId": "7164e96f-a8ba-450c-b331-2f9fc40c3196",
        "colab": {
          "base_uri": "https://localhost:8080/",
          "height": 35
        }
      },
      "source": [
        "df2.loc[filt].DOI.to_list()# convierto el archivo a una lista"
      ],
      "execution_count": 90,
      "outputs": [
        {
          "output_type": "execute_result",
          "data": {
            "text/plain": [
              "['10.1088/1126-6708/2000/12/016', '10.1088/1126-6708/2001/11/048']"
            ]
          },
          "metadata": {
            "tags": []
          },
          "execution_count": 90
        }
      ]
    },
    {
      "cell_type": "markdown",
      "metadata": {
        "id": "yVHSeNS8oE_2"
      },
      "source": [
        ""
      ]
    },
    {
      "cell_type": "markdown",
      "metadata": {
        "id": "agNFM17ibQft"
      },
      "source": [
        "Pnnto 2."
      ]
    },
    {
      "cell_type": "markdown",
      "metadata": {
        "id": "159MjFs8bO9K"
      },
      "source": [
        "2.a"
      ]
    },
    {
      "cell_type": "code",
      "metadata": {
        "id": "2x4N9si2bYNH",
        "outputId": "cd8c3f42-3820-4b40-cc45-f900fb04a183",
        "colab": {
          "base_uri": "https://localhost:8080/",
          "height": 53
        }
      },
      "source": [
        "num = np.random.uniform(1, 10, 7)# genero los numeros aleatorios \n",
        "num\n"
      ],
      "execution_count": 191,
      "outputs": [
        {
          "output_type": "execute_result",
          "data": {
            "text/plain": [
              "array([2.39995214, 6.8715381 , 3.72209869, 1.00471437, 2.58217397,\n",
              "       8.73434367, 6.85873799])"
            ]
          },
          "metadata": {
            "tags": []
          },
          "execution_count": 191
        }
      ]
    },
    {
      "cell_type": "code",
      "metadata": {
        "id": "d0YdS7Mfihlr",
        "outputId": "74d520e5-8b0a-4e5c-e66c-166befa57b70",
        "colab": {
          "base_uri": "https://localhost:8080/",
          "height": 89
        }
      },
      "source": [
        "poly = np.poly1d(num,r = True)# genero polinomio de numpy \n",
        "dfpoly = poly.deriv()# derivada del polimomio\n",
        "print(poly)\n",
        "print(dfpoly)"
      ],
      "execution_count": 192,
      "outputs": [
        {
          "output_type": "stream",
          "text": [
            "   7         6         5        4             3             2\n",
            "1 x - 32.17 x + 418.6 x - 2834 x + 1.069e+04 x - 2.231e+04 x + 2.36e+04 x - 9540\n",
            "   6       5        4             3             2\n",
            "7 x - 193 x + 2093 x - 1.134e+04 x + 3.207e+04 x - 4.462e+04 x + 2.36e+04\n"
          ],
          "name": "stdout"
        }
      ]
    },
    {
      "cell_type": "markdown",
      "metadata": {
        "id": "w4JtwWzgvpAp"
      },
      "source": [
        "2.b"
      ]
    },
    {
      "cell_type": "code",
      "metadata": {
        "id": "03RLTQDivreW",
        "outputId": "99cecf3d-ec19-4b0d-bef9-67950385662e",
        "colab": {
          "base_uri": "https://localhost:8080/",
          "height": 35
        }
      },
      "source": [
        "raices = dfpoly.roots # encuentro las raices de la derivada \n",
        "print(raices)"
      ],
      "execution_count": 193,
      "outputs": [
        {
          "output_type": "stream",
          "text": [
            "[8.26542817 6.86514647 5.30638046 3.2806431  2.48794103 1.371797  ]\n"
          ],
          "name": "stdout"
        }
      ]
    },
    {
      "cell_type": "code",
      "metadata": {
        "id": "lWsMrXVr2zlF"
      },
      "source": [
        ""
      ],
      "execution_count": 193,
      "outputs": []
    },
    {
      "cell_type": "markdown",
      "metadata": {
        "id": "cFKik4-ywqWK"
      },
      "source": [
        "2.c\n"
      ]
    },
    {
      "cell_type": "code",
      "metadata": {
        "id": "JJZBURGz1JG7",
        "outputId": "6ac815fe-b682-497c-9131-0390f851f332",
        "colab": {
          "base_uri": "https://localhost:8080/",
          "height": 107
        }
      },
      "source": [
        "optimize.fmin_powell(poly,8)\n"
      ],
      "execution_count": 189,
      "outputs": [
        {
          "output_type": "stream",
          "text": [
            "Optimization terminated successfully.\n",
            "         Current function value: -7.475810\n",
            "         Iterations: 3\n",
            "         Function evaluations: 52\n"
          ],
          "name": "stdout"
        },
        {
          "output_type": "execute_result",
          "data": {
            "text/plain": [
              "array(5.54586555)"
            ]
          },
          "metadata": {
            "tags": []
          },
          "execution_count": 189
        }
      ]
    },
    {
      "cell_type": "markdown",
      "metadata": {
        "id": "3PPnUKbN1JzX"
      },
      "source": [
        "2.d"
      ]
    },
    {
      "cell_type": "code",
      "metadata": {
        "id": "La_AsCiXwsoR",
        "outputId": "266944e9-0b39-453e-ddab-35e06563ba2f",
        "colab": {
          "base_uri": "https://localhost:8080/",
          "height": 444
        }
      },
      "source": [
        "x = np.linspace(0,10,100)\n",
        "Y = poly(x)\n",
        "\n",
        "plt.figure(figsize=(10,6))\n",
        "plt.plot (x,Y,lw=3,)\n",
        "plt.title('Grafica P(x)',fontsize= 30)\n",
        "plt.xlabel(r'$x$',fontsize= 20)\n",
        "plt.ylabel(r'$P(x)$',fontsize= 20)\n",
        "plt.axvline(0,c='r',lw=1,ls='--')\n",
        "plt.axhline(0,c='r',lw=1,ls='--')\n",
        "plt.legend(fontsize=14)\n",
        "plt.grid()"
      ],
      "execution_count": 200,
      "outputs": [
        {
          "output_type": "stream",
          "text": [
            "No handles with labels found to put in legend.\n"
          ],
          "name": "stderr"
        },
        {
          "output_type": "display_data",
          "data": {
            "image/png": "[encoded data removed]",
            "text/plain": [
              "<Figure size 720x432 with 1 Axes>"
            ]
          },
          "metadata": {
            "tags": [],
            "needs_background": "light"
          }
        }
      ]
    },
    {
      "cell_type": "code",
      "metadata": {
        "id": "0kZfQUlUxe_m"
      },
      "source": [
        ""
      ],
      "execution_count": 196,
      "outputs": []
    },
    {
      "cell_type": "markdown",
      "metadata": {
        "id": "FxUHzWYH6lZK"
      },
      "source": [
        "el polinomio posee 5 raices reales y dos complejas"
      ]
    },
    {
      "cell_type": "code",
      "metadata": {
        "id": "0Qe7rbdj6sl1",
        "outputId": "910bdc5f-007f-4d41-f198-faeb4e8e7f64",
        "colab": {
          "base_uri": "https://localhost:8080/",
          "height": 71
        }
      },
      "source": [
        "poly.roots"
      ],
      "execution_count": 177,
      "outputs": [
        {
          "output_type": "execute_result",
          "data": {
            "text/plain": [
              "array([-2.25335103+0.j        ,  0.48868329+1.36653306j,\n",
              "        0.48868329-1.36653306j, -0.86200777+1.07389552j,\n",
              "       -0.86200777-1.07389552j])"
            ]
          },
          "metadata": {
            "tags": []
          },
          "execution_count": 177
        }
      ]
    },
    {
      "cell_type": "code",
      "metadata": {
        "id": "29BfQATw6yxz"
      },
      "source": [
        ""
      ],
      "execution_count": null,
      "outputs": []
    }
  ]
}