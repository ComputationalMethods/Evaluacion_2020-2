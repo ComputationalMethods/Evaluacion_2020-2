{
 "cells": [
  {
   "cell_type": "code",
   "execution_count": 1,
   "metadata": {},
   "outputs": [],
   "source": [
    "import numpy as np\n",
    "import sympy\n",
    "x =sympy.Symbol('x') \n",
    "sympy.init_printing()"
   ]
  },
  {
   "cell_type": "markdown",
   "metadata": {},
   "source": [
    "$$ \\left[ \\matrix{\n",
    "5 & -4 & 0 & \\vdots & 1 \\\\\n",
    "-4 & 7 & -3 & \\vdots & 0 \\\\\n",
    "0 & -3 & 5 & \\vdots & -2\n",
    "}\\right] $$"
   ]
  },
  {
   "cell_type": "code",
   "execution_count": 96,
   "metadata": {},
   "outputs": [
    {
     "data": {
      "image/png": "[encoded data removed]",
      "text/latex": [
       "$\\displaystyle \\left[\\begin{matrix}5.0 & -4.0 & 0.0\\\\-4.0 & 7.0 & -3.0\\\\0.0 & -3.0 & 5.0\\end{matrix}\\right]$"
      ],
      "text/plain": [
       "⎡5.0   -4.0  0.0 ⎤\n",
       "⎢                ⎥\n",
       "⎢-4.0  7.0   -3.0⎥\n",
       "⎢                ⎥\n",
       "⎣0.0   -3.0  5.0 ⎦"
      ]
     },
     "execution_count": 96,
     "metadata": {},
     "output_type": "execute_result"
    }
   ],
   "source": [
    "A = np.array( [[5.,-4,0],[-4,7,-3],[0,-3,5]] )\n",
    "sympy.Matrix(A)"
   ]
  },
  {
   "cell_type": "code",
   "execution_count": 97,
   "metadata": {},
   "outputs": [
    {
     "data": {
      "text/plain": [
       "array([[ 1],\n",
       "       [ 0],\n",
       "       [-2]])"
      ]
     },
     "execution_count": 97,
     "metadata": {},
     "output_type": "execute_result"
    }
   ],
   "source": [
    "np.array( [[1],[0],[-2]] )"
   ]
  },
  {
   "cell_type": "code",
   "execution_count": 98,
   "metadata": {},
   "outputs": [
    {
     "data": {
      "image/png": "[encoded data removed]",
      "text/latex": [
       "$\\displaystyle \\left[\\begin{matrix}5.0 & -4.0 & 0.0 & 1.0\\\\-4.0 & 7.0 & -3.0 & 0.0\\\\0.0 & -3.0 & 5.0 & -2.0\\end{matrix}\\right]$"
      ],
      "text/plain": [
       "⎡5.0   -4.0  0.0   1.0 ⎤\n",
       "⎢                      ⎥\n",
       "⎢-4.0  7.0   -3.0  0.0 ⎥\n",
       "⎢                      ⎥\n",
       "⎣0.0   -3.0  5.0   -2.0⎦"
      ]
     },
     "execution_count": 98,
     "metadata": {},
     "output_type": "execute_result"
    }
   ],
   "source": [
    "A_amp=np.hstack( (A,[[1],[0],[-2]]))\n",
    "sympy.Matrix(A_amp)"
   ]
  },
  {
   "cell_type": "markdown",
   "metadata": {},
   "source": [
    "## Definó las operaciones filas para llevar la matriz a su forma escalonada "
   ]
  },
  {
   "cell_type": "code",
   "execution_count": 108,
   "metadata": {},
   "outputs": [],
   "source": [
    "def mult_es(i,a,A):\n",
    "    B = np.copy(A) \n",
    "    B[i] = (a*B[i])\n",
    "    \n",
    "    \n",
    "    return B\n",
    "\n",
    "\n",
    "\n",
    "def cam_fil(i,j,A):\n",
    "    B = np.copy(A)\n",
    "    B[[i,j]] = B[[j,i]]     \n",
    "     \n",
    "    return B\n",
    "\n",
    "\n",
    "def mul_esc_fila( i, j, a, A ):\n",
    "    B = np.copy(A)\n",
    "    B[i] = a*B[j] + B[i]\n",
    "    return B"
   ]
  },
  {
   "cell_type": "code",
   "execution_count": 118,
   "metadata": {},
   "outputs": [],
   "source": [
    "def eliminacion_gaussina(A):\n",
    "    \n",
    "    B = np.copy(A)# copio la matriz para operar \n",
    "    \n",
    "    n = len(A)# define la longuitud de ka matriz \n",
    "\n",
    "    #barrido de las columna i-esima \n",
    "    for i in range( 0, n ):\n",
    "        \n",
    "        #se encuentra la primera entrada diferente de cero\n",
    "        for j in range( i, n ):\n",
    "            if B[i,j] != 0:\n",
    "                #Normaliza el coeficiente \n",
    "                Norm = 1.0*B[i,j]\n",
    "                break\n",
    "                \n",
    "        #ponemos el coeficiente diferente de cero en la i-esima fila \n",
    "        B = cam_fil( i, j, B )\n",
    "        \n",
    "        #Eliminando el coeficiente asociado a la i-ésima variable\n",
    "        for j in range( i+1, n ):\n",
    "            B = mul_esc_fila( j, i, -B[j,i]/Norm, B )\n",
    "            \n",
    "    #Normaliza la i-ésima variable\n",
    "    B = mult_es( n-1, 1.0/B[n-1,n-1], B )\n",
    "    \n",
    "    #Encuentra la solucion\n",
    "    A_sol = np.zeros( n )\n",
    "    A_sol[n-1] = B[n-1,n]\n",
    "    for i in range( n-1, -1, -1 ):\n",
    "        A_sol[i] = ( B[i,n] - sum(B[i,i+1:n]*A_sol[i+1:n]) )/B[i,i]\n",
    "    \n",
    "    #Matriz diagonal superior y soluciones X\n",
    "    return B, A_sol"
   ]
  },
  {
   "cell_type": "code",
   "execution_count": 128,
   "metadata": {},
   "outputs": [
    {
     "data": {
      "image/png": "[encoded data removed]",
      "text/latex": [
       "$\\displaystyle \\left( \\left[\\begin{matrix}5.0 & -4.0 & 0.0 & 1.0\\\\0.0 & 3.8 & -3.0 & 0.8\\\\0.0 & 0.0 & 1.0 & -0.52\\end{matrix}\\right], \\  \\left[\\begin{matrix}0.04\\\\-0.2\\\\-0.52\\end{matrix}\\right]\\right)$"
      ],
      "text/plain": [
       "⎛⎡5.0  -4.0  0.0    1.0 ⎤  ⎡0.04 ⎤⎞\n",
       "⎜⎢                      ⎥  ⎢     ⎥⎟\n",
       "⎜⎢0.0  3.8   -3.0   0.8 ⎥, ⎢-0.2 ⎥⎟\n",
       "⎜⎢                      ⎥  ⎢     ⎥⎟\n",
       "⎝⎣0.0  0.0   1.0   -0.52⎦  ⎣-0.52⎦⎠"
      ]
     },
     "execution_count": 128,
     "metadata": {},
     "output_type": "execute_result"
    }
   ],
   "source": [
    "C = eliminacion_gaussina(A_amp)\n",
    "M = sympy.Matrix(C[0])\n",
    "s = sympy.Matrix(C[1])\n",
    "M,s"
   ]
  },
  {
   "cell_type": "code",
   "execution_count": 137,
   "metadata": {},
   "outputs": [
    {
     "name": "stdout",
     "output_type": "stream",
     "text": [
      "x_1 : 0.04 \n",
      "x_2 : -0.20 \n",
      "x_3 : -0.52 \n"
     ]
    }
   ],
   "source": [
    "print('x_1 : {:.2f} '.format(s[0]))\n",
    "print('x_2 : {:.2f} '.format(s[1]))\n",
    "print('x_3 : {:.2f} '.format(s[2]))"
   ]
  },
  {
   "cell_type": "code",
   "execution_count": null,
   "metadata": {},
   "outputs": [],
   "source": []
  }
 ],
 "metadata": {
  "kernelspec": {
   "display_name": "Python 3",
   "language": "python",
   "name": "python3"
  },
  "language_info": {
   "codemirror_mode": {
    "name": "ipython",
    "version": 3
   },
   "file_extension": ".py",
   "mimetype": "text/x-python",
   "name": "python",
   "nbconvert_exporter": "python",
   "pygments_lexer": "ipython3",
   "version": "3.7.6"
  }
 },
 "nbformat": 4,
 "nbformat_minor": 4
}
