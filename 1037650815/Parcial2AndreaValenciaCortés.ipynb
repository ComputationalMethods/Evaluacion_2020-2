{
  "nbformat": 4,
  "nbformat_minor": 0,
  "metadata": {
    "colab": {
      "name": "Parcial2AndreaValenciaCortés.ipynb",
      "provenance": [],
      "collapsed_sections": []
    },
    "kernelspec": {
      "name": "python3",
      "display_name": "Python 3"
    }
  },
  "cells": [
    {
      "cell_type": "code",
      "metadata": {
        "id": "IjIKV3AAn1gQ"
      },
      "source": [
        "import numpy as np\n",
        "import pandas as pd\n",
        "import scipy.integrate as integrate\n",
        "import matplotlib.pyplot as plt"
      ],
      "execution_count": 1,
      "outputs": []
    },
    {
      "cell_type": "code",
      "metadata": {
        "id": "F3PxDkWsoAZw"
      },
      "source": [
        "#INTEGRANDO\n",
        "def funcion(phi,alpha):\n",
        "  v=(np.sin(alpha/2))**2\n",
        "  w=(np.sin(phi))**2\n",
        "  y=2/(np.pi*(1-v*w))**(1/2)\n",
        "  return y"
      ],
      "execution_count": 3,
      "outputs": []
    },
    {
      "cell_type": "code",
      "metadata": {
        "id": "zjkkL1fBo6oB",
        "outputId": "557880aa-cdf0-4f39-9fa9-0721a4466193",
        "colab": {
          "base_uri": "https://localhost:8080/"
        }
      },
      "source": [
        "alp=np.arange(0,91,1) #Amplitud en grados\n",
        "print('Amplitud en grados',alp)\n",
        "alprad=alp*np.pi/180 #Amplitud en radianes\n",
        "print('Amplitud en radianes',alprad)\n",
        "inte=[] #Vamos a guardar valores de la integraL\n",
        "for i in alprad:\n",
        "  x=integrate.quad(funcion, 0, np.pi/2,args=i)[0]\n",
        "  inte.append(x)"
      ],
      "execution_count": 4,
      "outputs": [
        {
          "output_type": "stream",
          "text": [
            "Amplitud en grados [ 0  1  2  3  4  5  6  7  8  9 10 11 12 13 14 15 16 17 18 19 20 21 22 23\n",
            " 24 25 26 27 28 29 30 31 32 33 34 35 36 37 38 39 40 41 42 43 44 45 46 47\n",
            " 48 49 50 51 52 53 54 55 56 57 58 59 60 61 62 63 64 65 66 67 68 69 70 71\n",
            " 72 73 74 75 76 77 78 79 80 81 82 83 84 85 86 87 88 89 90]\n",
            "Amplitud en radianes [0.         0.01745329 0.03490659 0.05235988 0.06981317 0.08726646\n",
            " 0.10471976 0.12217305 0.13962634 0.15707963 0.17453293 0.19198622\n",
            " 0.20943951 0.2268928  0.2443461  0.26179939 0.27925268 0.29670597\n",
            " 0.31415927 0.33161256 0.34906585 0.36651914 0.38397244 0.40142573\n",
            " 0.41887902 0.43633231 0.45378561 0.4712389  0.48869219 0.50614548\n",
            " 0.52359878 0.54105207 0.55850536 0.57595865 0.59341195 0.61086524\n",
            " 0.62831853 0.64577182 0.66322512 0.68067841 0.6981317  0.71558499\n",
            " 0.73303829 0.75049158 0.76794487 0.78539816 0.80285146 0.82030475\n",
            " 0.83775804 0.85521133 0.87266463 0.89011792 0.90757121 0.9250245\n",
            " 0.9424778  0.95993109 0.97738438 0.99483767 1.01229097 1.02974426\n",
            " 1.04719755 1.06465084 1.08210414 1.09955743 1.11701072 1.13446401\n",
            " 1.15191731 1.1693706  1.18682389 1.20427718 1.22173048 1.23918377\n",
            " 1.25663706 1.27409035 1.29154365 1.30899694 1.32645023 1.34390352\n",
            " 1.36135682 1.37881011 1.3962634  1.41371669 1.43116999 1.44862328\n",
            " 1.46607657 1.48352986 1.50098316 1.51843645 1.53588974 1.55334303\n",
            " 1.57079633]\n"
          ],
          "name": "stdout"
        }
      ]
    },
    {
      "cell_type": "code",
      "metadata": {
        "id": "77pmDpiHpc6j",
        "outputId": "99dff6e7-184e-43b8-f7a0-06fe85b99e2b",
        "colab": {
          "base_uri": "https://localhost:8080/",
          "height": 295
        }
      },
      "source": [
        "plt.title(\"Amplitud vs Relacion entre periodos\")\n",
        "plt.xlabel((\"Amplitud en radianes\"))\n",
        "plt.ylabel((\"T/T0\"))\n",
        "plt.plot(alprad,inte,\"o\",label=\"Datos\")\n",
        "plt.legend()\n",
        "plt.show()"
      ],
      "execution_count": 5,
      "outputs": [
        {
          "output_type": "display_data",
          "data": {
            "image/png": "[encoded data removed]",
            "text/plain": [
              "<Figure size 432x288 with 1 Axes>"
            ]
          },
          "metadata": {
            "tags": [],
            "needs_background": "light"
          }
        }
      ]
    },
    {
      "cell_type": "code",
      "metadata": {
        "id": "1drNhGJOr1DS",
        "outputId": "315c285a-4005-4275-a944-7b859fe162a2",
        "colab": {
          "base_uri": "https://localhost:8080/"
        }
      },
      "source": [
        "dic={\"Ampl en grados\":alp,\"Ampl en radianes\":alprad,\"T/T0\":inte}\n",
        "datos=pd.DataFrame(data=dic)\n",
        "print(datos)"
      ],
      "execution_count": 6,
      "outputs": [
        {
          "output_type": "stream",
          "text": [
            "    Ampl en grados  Ampl en radianes      T/T0\n",
            "0                0          0.000000  1.772454\n",
            "1                1          0.017453  1.772488\n",
            "2                2          0.034907  1.772589\n",
            "3                3          0.052360  1.772758\n",
            "4                4          0.069813  1.772994\n",
            "..             ...               ...       ...\n",
            "86              86          1.500983  2.059971\n",
            "87              87          1.518436  2.067775\n",
            "88              88          1.535890  2.075729\n",
            "89              89          1.553343  2.083836\n",
            "90              90          1.570796  2.092099\n",
            "\n",
            "[91 rows x 3 columns]\n"
          ],
          "name": "stdout"
        }
      ]
    },
    {
      "cell_type": "code",
      "metadata": {
        "id": "mAvg5yZbtexE",
        "outputId": "2f01f8d9-7331-4979-811f-9f43e9198104",
        "colab": {
          "base_uri": "https://localhost:8080/"
        }
      },
      "source": [
        "import random \n",
        "random.seed(1037650815)\n",
        "x=2*np.pi*random.random()\n",
        "print(\"numero aleatorio entre 0 2*pi=\",x)\n",
        "x1=np.cos(x)\n",
        "x2=np.sin(x)\n",
        "x3=-np.sin(x)\n",
        "x4=np.cos(x)\n",
        "u1=np.cos(np.pi/4)\n",
        "u2=np.sin(np.pi/4)\n",
        "u3=-np.sin(np.pi/4)\n",
        "u4=np.cos(np.pi/4)\n",
        "R=np.array([[x1,x2],[x3,x4]])\n",
        "U=np.array([[u1,u2],[u3,u4]])\n",
        "dia=np.array([[np.sqrt(2),0],[0,np.sqrt(4)]])\n",
        "print(\"\\n\")\n",
        "print(\"matriz R=\\n\",R)\n",
        "print(\"\\n\")\n",
        "print(\"matriz U (Autovectores)=\\n\",U)\n",
        "print(\"\\n\")\n",
        "print(\"matriz diagonal en raiz=\\n\",dia)\n",
        "print(\"\\n\")\n",
        "Ut=U.T\n",
        "print(\"matriz U transpuesta=\\n\",Ut)\n",
        "print(\"\\n\")\n",
        "Y=np.dot(R,np.dot(dia,Ut))\n",
        "print(\"Matriz Y\\n\",Y)\n",
        "Yt=Y.T\n",
        "print(\"\\n\")\n",
        "print(\"Matriz Y transpuesta=\\n\",Yt)\n",
        "A=np.dot(Yt,Y)\n",
        "print(\"\\n\")\n",
        "print(\"matriz A\\n\",A)\n",
        "Diagonal=np.dot(Ut,np.dot(A,U))\n",
        "print(\"\\n\")\n",
        "print(\"Matriz Diagonal\\n\",Diagonal)"
      ],
      "execution_count": 7,
      "outputs": [
        {
          "output_type": "stream",
          "text": [
            "numero aleatorio entre 0 2*pi= 4.710180265435023\n",
            "\n",
            "\n",
            "matriz R=\n",
            " [[-0.00220871 -0.99999756]\n",
            " [ 0.99999756 -0.00220871]]\n",
            "\n",
            "\n",
            "matriz U (Autovectores)=\n",
            " [[ 0.70710678  0.70710678]\n",
            " [-0.70710678  0.70710678]]\n",
            "\n",
            "\n",
            "matriz diagonal en raiz=\n",
            " [[1.41421356 0.        ]\n",
            " [0.         2.        ]]\n",
            "\n",
            "\n",
            "matriz U transpuesta=\n",
            " [[ 0.70710678 -0.70710678]\n",
            " [ 0.70710678  0.70710678]]\n",
            "\n",
            "\n",
            "Matriz Y\n",
            " [[-1.41641883 -1.4120014 ]\n",
            " [ 0.99687397 -1.00312115]]\n",
            "\n",
            "\n",
            "Matriz Y transpuesta=\n",
            " [[-1.41641883  0.99687397]\n",
            " [-1.4120014  -1.00312115]]\n",
            "\n",
            "\n",
            "matriz A\n",
            " [[3. 1.]\n",
            " [1. 3.]]\n",
            "\n",
            "\n",
            "Matriz Diagonal\n",
            " [[2.00000000e+00 3.54604637e-16]\n",
            " [3.99346924e-16 4.00000000e+00]]\n"
          ],
          "name": "stdout"
        }
      ]
    },
    {
      "cell_type": "code",
      "metadata": {
        "id": "bIo-ncgE5KWr"
      },
      "source": [
        ""
      ],
      "execution_count": null,
      "outputs": []
    }
  ]
}