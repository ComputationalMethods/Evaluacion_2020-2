{
  "nbformat": 4,
  "nbformat_minor": 0,
  "metadata": {
    "colab": {
      "name": "Examen_2020_01_AndreaValenciaCortés_1037650815.ipynb",
      "provenance": []
    },
    "kernelspec": {
      "display_name": "Python 3",
      "language": "python",
      "name": "python3"
    },
    "language_info": {
      "codemirror_mode": {
        "name": "ipython",
        "version": 3
      },
      "file_extension": ".py",
      "mimetype": "text/x-python",
      "name": "python",
      "nbconvert_exporter": "python",
      "pygments_lexer": "ipython3",
      "version": "3.7.3"
    },
    "toc": {
      "colors": {
        "hover_highlight": "#DAA520",
        "running_highlight": "#FF0000",
        "selected_highlight": "#FFD700"
      },
      "moveMenuLeft": true,
      "nav_menu": {
        "height": "30px",
        "width": "252px"
      },
      "navigate_menu": true,
      "number_sections": true,
      "sideBar": true,
      "threshold": 4,
      "toc_cell": false,
      "toc_section_display": "block",
      "toc_window_display": false
    }
  },
  "cells": [
    {
      "cell_type": "markdown",
      "metadata": {
        "id": "bWVchymOoRBb"
      },
      "source": [
        "# Primer Examen 15%"
      ]
    },
    {
      "cell_type": "markdown",
      "metadata": {
        "id": "cuGCz-DOoRBc"
      },
      "source": [
        "## Ejercicio 1\n",
        "El siguiente url entrega 100 artículos (ver`/work?rows=100` al final del url) de la revista con el ISSN: 1029-8479 correspondiente a \"Journal of High Energy Physics\" en formato JSON usando el API de CrossRef:\n",
        "\n",
        "https://api.crossref.org/journals/1029-8479/works?rows=100\n",
        "\n",
        "La base de datos con los 100 artículos que tambíen se puede cargar en otro DataFrame de Pandas, se encuentra anidada en la celda con fila `'items'` y columna `'messages'` la cual se puede obtener con el método `.loc['items','message']` del DataFrame original.\n",
        "\n",
        "Obtenga la lista de DOIs para los artículos de Alessandro Strumia en esa base de datos anidada"
      ]
    },
    {
      "cell_type": "markdown",
      "metadata": {
        "id": "E6U6cMUsoRBc"
      },
      "source": [
        "## Ejercicio 2\n",
        "2a) Genere un polinomio de numpy con 7 raices aleatorias entre 1 y 10\n",
        "\n",
        "2b) Encuentre los puntos críticos del polinomio: las raices de la derivada el polinomio.\n",
        "\n",
        "2c) Con alguna de los métodos para encontrar mínimos compruebe que el punto crítico de menor (mayor) valor corresponde al mínimo (máximo) global del polinomio\n",
        "\n",
        "2d) Grafique el polinomío inclueyendo los puntos asociados a las raices."
      ]
    },
    {
      "cell_type": "code",
      "metadata": {
        "id": "Ja8jnHJfRZNN"
      },
      "source": [
        "import requests\n",
        "import json"
      ],
      "execution_count": 21,
      "outputs": []
    },
    {
      "cell_type": "code",
      "metadata": {
        "id": "uREpdGyFRgFA",
        "outputId": "3d473825-f026-4969-8a9e-c87a55815bc4",
        "colab": {
          "base_uri": "https://localhost:8080/",
          "height": 34
        }
      },
      "source": [
        "r = requests.get('https://api.crossref.org/journals/1029-8479/works?rows=100')\n",
        "data = json.loads(r.text)\n",
        "\n",
        "dicts = data['message']['items']\n",
        "\n",
        "dois = []\n",
        "for item in dicts:\n",
        "    for author in item['author']:\n",
        "        if author['given'] == 'Alessandro' and author['family'] == 'Strumia':\n",
        "            dois.append(item['DOI'])\n",
        "\n",
        "print(dois)"
      ],
      "execution_count": 22,
      "outputs": [
        {
          "output_type": "stream",
          "text": [
            "['10.1088/1126-6708/2000/12/016', '10.1088/1126-6708/2001/11/048']\n"
          ],
          "name": "stdout"
        }
      ]
    },
    {
      "cell_type": "code",
      "metadata": {
        "id": "QdDzrF2pTCq-"
      },
      "source": [
        "#Solución ejercicio 2"
      ],
      "execution_count": 29,
      "outputs": []
    },
    {
      "cell_type": "code",
      "metadata": {
        "id": "iP32MHqmkew-"
      },
      "source": [
        "import numpy as np\n",
        "import matplotlib.pyplot as plt\n",
        "from scipy import optimize"
      ],
      "execution_count": 23,
      "outputs": []
    },
    {
      "cell_type": "code",
      "metadata": {
        "id": "I-2jUIqVTJp-",
        "outputId": "5968feee-d3ed-4d3b-a994-126cc8ccbb97",
        "colab": {
          "base_uri": "https://localhost:8080/",
          "height": 51
        }
      },
      "source": [
        "#Numeral a\n",
        "\n",
        "raices = np.random.randint(low=1, high=10, size=7)\n",
        "poli = np.polynomial.polynomial.polyfromroots(raices)\n",
        "\n",
        "print(\"El polinomio es \",poli[0],\" + \",poli[1],\"x + \",poli[2],\"x^2 + \",poli[3],\"x^3 + \",poli[4],\"x^4 + \",poli[5],\"x^5 + \",poli[6],\"x^6 + \",poli[7],\"x^7\")\n",
        "print(\"Las raices son: \",raices)"
      ],
      "execution_count": 24,
      "outputs": [
        {
          "output_type": "stream",
          "text": [
            "El polinomio es  -76545.0  +  153819.0 x +  -108297.0 x^2 +  37419.0 x^3 +  -7115.0 x^4 +  761.0 x^5 +  -43.0 x^6 +  1.0 x^7\n",
            "Las raices son:  [3 5 9 1 9 9 7]\n"
          ],
          "name": "stdout"
        }
      ]
    },
    {
      "cell_type": "code",
      "metadata": {
        "id": "fEkD5LwXcl-L",
        "outputId": "95516a8c-f3a5-4b60-eba8-af7c4f34560d",
        "colab": {
          "base_uri": "https://localhost:8080/",
          "height": 68
        }
      },
      "source": [
        "#Numeral b\n",
        "p = np.poly1d(poli[::-1]) #se pone poli[::-1] porque hay que pasarlos en orden descendente\n",
        "\n",
        "derivada = p.deriv()\n",
        "print(\"La derivada del polinomio es\\n\",derivada)"
      ],
      "execution_count": 25,
      "outputs": [
        {
          "output_type": "stream",
          "text": [
            "La derivada del polinomio es\n",
            "    6       5        4             3             2\n",
            "7 x - 258 x + 3805 x - 2.846e+04 x + 1.123e+05 x - 2.166e+05 x + 1.538e+05\n"
          ],
          "name": "stdout"
        }
      ]
    },
    {
      "cell_type": "code",
      "metadata": {
        "id": "uGx8md83k0U2",
        "outputId": "0a341601-80b8-45d5-8508-b3ebbe5f898a",
        "colab": {
          "base_uri": "https://localhost:8080/",
          "height": 68
        }
      },
      "source": [
        "raices_der = derivada.r\n",
        "print(\"Los puntos criticos del polinomio (las raices de la derivada) son: \", raices_der)"
      ],
      "execution_count": 26,
      "outputs": [
        {
          "output_type": "stream",
          "text": [
            "Los puntos criticos del polinomio (las raices de la derivada) son:  [9.        +1.31582246e-06j 9.        -1.31582246e-06j\n",
            " 7.66408628+0.00000000e+00j 5.81653715+0.00000000e+00j\n",
            " 3.75651039+0.00000000e+00j 1.62000905+0.00000000e+00j]\n"
          ],
          "name": "stdout"
        }
      ]
    },
    {
      "cell_type": "code",
      "metadata": {
        "id": "9Kb-jq7DxNdY",
        "outputId": "337cc5e7-3ca0-47a9-cc9e-c80b655a679c",
        "colab": {
          "base_uri": "https://localhost:8080/",
          "height": 34
        }
      },
      "source": [
        "#Numeral c\n",
        "def f(x):\n",
        "  return p.__call__(x)\n",
        "\n",
        "res = optimize.minimize_scalar(f, bounds=(1, 10), method='bounded')\n",
        "print(res.x)"
      ],
      "execution_count": 27,
      "outputs": [
        {
          "output_type": "stream",
          "text": [
            "3.756510928899096\n"
          ],
          "name": "stdout"
        }
      ]
    },
    {
      "cell_type": "markdown",
      "metadata": {
        "id": "YObur3v35DeL"
      },
      "source": [
        "Vemos que el mínimo encontrado usando una función de la libreria scipy conincide con uno de los puntos críticos del polinomio\n"
      ]
    },
    {
      "cell_type": "markdown",
      "metadata": {
        "id": "CSAnGVy34foh"
      },
      "source": [
        ""
      ]
    },
    {
      "cell_type": "code",
      "metadata": {
        "id": "eWk_ShHXmn2O",
        "outputId": "e1c4c1be-a03c-4dc8-c3af-d61c711ba5ce",
        "colab": {
          "base_uri": "https://localhost:8080/",
          "height": 374
        }
      },
      "source": [
        "#Numeral d\n",
        "x = np.linspace(1,10,100)\n",
        "\n",
        "plt.figure(figsize=(8,6))\n",
        "plt.plot(x,p.__call__(x))\n",
        "plt.plot(raices,[0,0,0,0,0,0,0],\"go\")\n",
        "plt.grid()\n",
        "plt.show()"
      ],
      "execution_count": 28,
      "outputs": [
        {
          "output_type": "display_data",
          "data": {
            "image/png": "[encoded data removed]",
            "text/plain": [
              "<Figure size 576x432 with 1 Axes>"
            ]
          },
          "metadata": {
            "tags": [],
            "needs_background": "light"
          }
        }
      ]
    },
    {
      "cell_type": "code",
      "metadata": {
        "id": "uXWfw6x1rOEL"
      },
      "source": [
        ""
      ],
      "execution_count": 28,
      "outputs": []
    }
  ]
}