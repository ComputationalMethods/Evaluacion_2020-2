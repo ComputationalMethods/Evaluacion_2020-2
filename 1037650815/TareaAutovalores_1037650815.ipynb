{
  "nbformat": 4,
  "nbformat_minor": 0,
  "metadata": {
    "colab": {
      "name": "TareaAutovalores_1037650815.ipynb",
      "provenance": [],
      "collapsed_sections": []
    },
    "kernelspec": {
      "name": "python3",
      "display_name": "Python 3"
    }
  },
  "cells": [
    {
      "cell_type": "code",
      "metadata": {
        "id": "YUxyMMQdCO6J",
        "outputId": "f7f38362-7b37-48a8-c140-394cff691e0a",
        "colab": {
          "base_uri": "https://localhost:8080/",
          "height": 85
        }
      },
      "source": [
        "import numpy as np \n",
        "A=np.array([[3, 5,  4, -2], [5,  3, 6, -2], [5, 1,  2, -2], [5, -2, -3,  1]])  #Tomando de ejempo esta matriz 4x4 para verificar los resultados del programa\n",
        "print(A)"
      ],
      "execution_count": 5,
      "outputs": [
        {
          "output_type": "stream",
          "text": [
            "[[ 3  5  4 -2]\n",
            " [ 5  3  6 -2]\n",
            " [ 5  1  2 -2]\n",
            " [ 5 -2 -3  1]]\n"
          ],
          "name": "stdout"
        }
      ]
    },
    {
      "cell_type": "code",
      "metadata": {
        "id": "z_aCy3CkCkVe"
      },
      "source": [
        "def autoval(M):\n",
        "  coefs = np.poly(M)  #Calcula los coeficientes del polinomio característico\n",
        "  pol_carac = np.poly1d(coefs)    #Polinomio característico\n",
        "  autovalores = pol_carac.roots   #Calcula las raíces del polinomioque son los autovalores\n",
        "  matriz_auto = np.diag(np.sort(autovalores)) #Orgniza los autovalores de manera ascendente en la matriz \n",
        "  return matriz_auto"
      ],
      "execution_count": 2,
      "outputs": []
    },
    {
      "cell_type": "code",
      "metadata": {
        "id": "zMxnZBZHCsZ4",
        "outputId": "587fb9ea-2746-42b1-9886-261c59c09d1d",
        "colab": {
          "base_uri": "https://localhost:8080/",
          "height": 153
        }
      },
      "source": [
        "autoval(A)"
      ],
      "execution_count": 3,
      "outputs": [
        {
          "output_type": "execute_result",
          "data": {
            "text/plain": [
              "array([[-1.99420958-1.96202693j,  0.        +0.j        ,\n",
              "         0.        +0.j        ,  0.        +0.j        ],\n",
              "       [ 0.        +0.j        , -1.99420958+1.96202693j,\n",
              "         0.        +0.j        ,  0.        +0.j        ],\n",
              "       [ 0.        +0.j        ,  0.        +0.j        ,\n",
              "         2.        +0.j        ,  0.        +0.j        ],\n",
              "       [ 0.        +0.j        ,  0.        +0.j        ,\n",
              "         0.        +0.j        , 10.98841916+0.j        ]])"
            ]
          },
          "metadata": {
            "tags": []
          },
          "execution_count": 3
        }
      ]
    }
  ]
}